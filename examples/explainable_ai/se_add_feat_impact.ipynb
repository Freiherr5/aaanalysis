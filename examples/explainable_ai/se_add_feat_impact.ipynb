{
 "cells": [
  {
   "cell_type": "markdown",
   "source": [
    "To demonstrate the ``ShapExplainer.add_feat_impact()`` method, we obtain the DOM_GSEC example dataset and its respective feature set (see [Breimann24c]_):"
   ],
   "metadata": {
    "collapsed": false
   },
   "id": "529c3ea28e2bbe2a"
  },
  {
   "cell_type": "code",
   "execution_count": 1,
   "outputs": [
    {
     "data": {
      "text/plain": "<IPython.core.display.HTML object>",
      "text/html": "<style type=\"text/css\">\n#T_5012c thead th {\n  background-color: white;\n  color: black;\n}\n#T_5012c tbody tr:nth-child(odd) {\n  background-color: #f2f2f2;\n}\n#T_5012c tbody tr:nth-child(even) {\n  background-color: white;\n}\n#T_5012c th {\n  padding: 5px;\n  white-space: nowrap;\n}\n#T_5012c  td {\n  padding: 5px;\n  white-space: nowrap;\n}\n</style>\n<table id=\"T_5012c\" style='display:block; max-height: 300px; max-width: 100%; overflow-x: auto; overflow-y: auto;'>\n  <thead>\n    <tr>\n      <th class=\"blank level0\" >&nbsp;</th>\n      <th id=\"T_5012c_level0_col0\" class=\"col_heading level0 col0\" >entry</th>\n      <th id=\"T_5012c_level0_col1\" class=\"col_heading level0 col1\" >sequence</th>\n      <th id=\"T_5012c_level0_col2\" class=\"col_heading level0 col2\" >label</th>\n      <th id=\"T_5012c_level0_col3\" class=\"col_heading level0 col3\" >tmd_start</th>\n      <th id=\"T_5012c_level0_col4\" class=\"col_heading level0 col4\" >tmd_stop</th>\n      <th id=\"T_5012c_level0_col5\" class=\"col_heading level0 col5\" >jmd_n</th>\n      <th id=\"T_5012c_level0_col6\" class=\"col_heading level0 col6\" >tmd</th>\n      <th id=\"T_5012c_level0_col7\" class=\"col_heading level0 col7\" >jmd_c</th>\n    </tr>\n  </thead>\n  <tbody>\n    <tr>\n      <th id=\"T_5012c_level0_row0\" class=\"row_heading level0 row0\" >1</th>\n      <td id=\"T_5012c_row0_col0\" class=\"data row0 col0\" >Q14802</td>\n      <td id=\"T_5012c_row0_col1\" class=\"data row0 col1\" >MQKVTLGLLVFLAGF...PGETPPLITPGSAQS</td>\n      <td id=\"T_5012c_row0_col2\" class=\"data row0 col2\" >0</td>\n      <td id=\"T_5012c_row0_col3\" class=\"data row0 col3\" >37</td>\n      <td id=\"T_5012c_row0_col4\" class=\"data row0 col4\" >59</td>\n      <td id=\"T_5012c_row0_col5\" class=\"data row0 col5\" >NSPFYYDWHS</td>\n      <td id=\"T_5012c_row0_col6\" class=\"data row0 col6\" >LQVGGLICAGVLCAMGIIIVMSA</td>\n      <td id=\"T_5012c_row0_col7\" class=\"data row0 col7\" >KCKCKFGQKS</td>\n    </tr>\n    <tr>\n      <th id=\"T_5012c_level0_row1\" class=\"row_heading level0 row1\" >2</th>\n      <td id=\"T_5012c_row1_col0\" class=\"data row1 col0\" >Q86UE4</td>\n      <td id=\"T_5012c_row1_col1\" class=\"data row1 col1\" >MAARSWQDELAQQAE...SPKQIKKKKKARRET</td>\n      <td id=\"T_5012c_row1_col2\" class=\"data row1 col2\" >0</td>\n      <td id=\"T_5012c_row1_col3\" class=\"data row1 col3\" >50</td>\n      <td id=\"T_5012c_row1_col4\" class=\"data row1 col4\" >72</td>\n      <td id=\"T_5012c_row1_col5\" class=\"data row1 col5\" >LGLEPKRYPG</td>\n      <td id=\"T_5012c_row1_col6\" class=\"data row1 col6\" >WVILVGTGALGLLLLFLLGYGWA</td>\n      <td id=\"T_5012c_row1_col7\" class=\"data row1 col7\" >AACAGARKKR</td>\n    </tr>\n    <tr>\n      <th id=\"T_5012c_level0_row2\" class=\"row_heading level0 row2\" >3</th>\n      <td id=\"T_5012c_row2_col0\" class=\"data row2 col0\" >Q969W9</td>\n      <td id=\"T_5012c_row2_col1\" class=\"data row2 col1\" >MHRLMGVNSTAAAAA...AIWSKEKDKQKGHPL</td>\n      <td id=\"T_5012c_row2_col2\" class=\"data row2 col2\" >0</td>\n      <td id=\"T_5012c_row2_col3\" class=\"data row2 col3\" >41</td>\n      <td id=\"T_5012c_row2_col4\" class=\"data row2 col4\" >63</td>\n      <td id=\"T_5012c_row2_col5\" class=\"data row2 col5\" >FQSMEITELE</td>\n      <td id=\"T_5012c_row2_col6\" class=\"data row2 col6\" >FVQIIIIVVVMMVMVVVITCLLS</td>\n      <td id=\"T_5012c_row2_col7\" class=\"data row2 col7\" >HYKLSARSFI</td>\n    </tr>\n    <tr>\n      <th id=\"T_5012c_level0_row3\" class=\"row_heading level0 row3\" >4</th>\n      <td id=\"T_5012c_row3_col0\" class=\"data row3 col0\" >P05067</td>\n      <td id=\"T_5012c_row3_col1\" class=\"data row3 col1\" >MLPGLALLLLAAWTA...GYENPTYKFFEQMQN</td>\n      <td id=\"T_5012c_row3_col2\" class=\"data row3 col2\" >1</td>\n      <td id=\"T_5012c_row3_col3\" class=\"data row3 col3\" >701</td>\n      <td id=\"T_5012c_row3_col4\" class=\"data row3 col4\" >723</td>\n      <td id=\"T_5012c_row3_col5\" class=\"data row3 col5\" >FAEDVGSNKG</td>\n      <td id=\"T_5012c_row3_col6\" class=\"data row3 col6\" >AIIGLMVGGVVIATVIVITLVML</td>\n      <td id=\"T_5012c_row3_col7\" class=\"data row3 col7\" >KKKQYTSIHH</td>\n    </tr>\n    <tr>\n      <th id=\"T_5012c_level0_row4\" class=\"row_heading level0 row4\" >5</th>\n      <td id=\"T_5012c_row4_col0\" class=\"data row4 col0\" >P14925</td>\n      <td id=\"T_5012c_row4_col1\" class=\"data row4 col1\" >MAGRARSGLLLLLLG...EEEYSAPLPKPAPSS</td>\n      <td id=\"T_5012c_row4_col2\" class=\"data row4 col2\" >1</td>\n      <td id=\"T_5012c_row4_col3\" class=\"data row4 col3\" >868</td>\n      <td id=\"T_5012c_row4_col4\" class=\"data row4 col4\" >890</td>\n      <td id=\"T_5012c_row4_col5\" class=\"data row4 col5\" >KLSTEPGSGV</td>\n      <td id=\"T_5012c_row4_col6\" class=\"data row4 col6\" >SVVLITTLLVIPVLVLLAIVMFI</td>\n      <td id=\"T_5012c_row4_col7\" class=\"data row4 col7\" >RWKKSRAFGD</td>\n    </tr>\n    <tr>\n      <th id=\"T_5012c_level0_row5\" class=\"row_heading level0 row5\" >6</th>\n      <td id=\"T_5012c_row5_col0\" class=\"data row5 col0\" >P70180</td>\n      <td id=\"T_5012c_row5_col1\" class=\"data row5 col1\" >MRSLLLFTFSACVLL...RELREDSIRSHFSVA</td>\n      <td id=\"T_5012c_row5_col2\" class=\"data row5 col2\" >1</td>\n      <td id=\"T_5012c_row5_col3\" class=\"data row5 col3\" >477</td>\n      <td id=\"T_5012c_row5_col4\" class=\"data row5 col4\" >499</td>\n      <td id=\"T_5012c_row5_col5\" class=\"data row5 col5\" >PCKSSGGLEE</td>\n      <td id=\"T_5012c_row5_col6\" class=\"data row5 col6\" >SAVTGIVVGALLGAGLLMAFYFF</td>\n      <td id=\"T_5012c_row5_col7\" class=\"data row5 col7\" >RKKYRITIER</td>\n    </tr>\n  </tbody>\n</table>\n"
     },
     "metadata": {},
     "output_type": "display_data"
    }
   ],
   "source": [
    "import shap\n",
    "import aaanalysis as aa\n",
    "aa.options[\"verbose\"] = False # Disable verbosity\n",
    "\n",
    "df_seq = aa.load_dataset(name=\"DOM_GSEC\", n=3)\n",
    "labels = df_seq[\"label\"].to_list()\n",
    "df_feat = aa.load_features(name=\"DOM_GSEC\").head(5)\n",
    "\n",
    "# Create feature matrix\n",
    "sf = aa.SequenceFeature()\n",
    "df_parts = sf.get_df_parts(df_seq=df_seq)\n",
    "X = sf.feature_matrix(features=df_feat[\"feature\"], df_parts=df_parts)\n",
    "\n",
    "aa.display_df(df_seq)"
   ],
   "metadata": {
    "collapsed": false,
    "ExecuteTime": {
     "end_time": "2024-01-22T23:14:36.675392742Z",
     "start_time": "2024-01-22T23:14:33.359521494Z"
    }
   },
   "id": "f11c692dc50a6da4"
  },
  {
   "cell_type": "markdown",
   "source": [
    "We can now create a ``ShapExplainer`` object and fit it to create the ``shap_values``, which are saved internally:"
   ],
   "metadata": {
    "collapsed": false
   },
   "id": "ab4c2ab59003b2f6"
  },
  {
   "cell_type": "code",
   "execution_count": 2,
   "outputs": [
    {
     "name": "stdout",
     "output_type": "stream",
     "text": [
      "SHAP values explain the feature impact for 3 negative and 3 positive samples\n",
      "[[-0.1  -0.1  -0.09 -0.1  -0.08]\n",
      " [-0.11 -0.11 -0.08 -0.1  -0.08]\n",
      " [-0.14 -0.13 -0.03 -0.1  -0.03]\n",
      " [ 0.12  0.13  0.05  0.09  0.04]\n",
      " [ 0.12  0.12  0.08  0.1   0.08]\n",
      " [ 0.12  0.12  0.08  0.09  0.07]]\n"
     ]
    }
   ],
   "source": [
    "se = aa.ShapExplainer()\n",
    "se.fit(X, labels=labels)\n",
    "\n",
    "shap_values = se.shap_values\n",
    "\n",
    "# Print SHAP values and expected value\n",
    "print(\"SHAP values explain the feature impact for 3 negative and 3 positive samples\")\n",
    "print(shap_values.round(2))"
   ],
   "metadata": {
    "collapsed": false,
    "ExecuteTime": {
     "end_time": "2024-01-22T23:14:39.015425395Z",
     "start_time": "2024-01-22T23:14:36.717415181Z"
    }
   },
   "id": "fff60acda8e4569c"
  },
  {
   "cell_type": "markdown",
   "source": [
    "We can now include the feature impact (i.e., SHAP values normalized such that their absolute values sum up to 100%) by providing ``df_feat`` to the ``ShapExplainer.add_feat_impact`` method:"
   ],
   "metadata": {
    "collapsed": false
   },
   "id": "f81bab6e58579186"
  },
  {
   "cell_type": "code",
   "execution_count": 3,
   "outputs": [
    {
     "data": {
      "text/plain": "<IPython.core.display.HTML object>",
      "text/html": "<style type=\"text/css\">\n#T_64c38 thead th {\n  background-color: white;\n  color: black;\n}\n#T_64c38 tbody tr:nth-child(odd) {\n  background-color: #f2f2f2;\n}\n#T_64c38 tbody tr:nth-child(even) {\n  background-color: white;\n}\n#T_64c38 th {\n  padding: 5px;\n  white-space: nowrap;\n}\n#T_64c38  td {\n  padding: 5px;\n  white-space: nowrap;\n}\n</style>\n<table id=\"T_64c38\" style='display:block; max-height: 300px; max-width: 100%; overflow-x: auto; overflow-y: auto;'>\n  <thead>\n    <tr>\n      <th class=\"blank level0\" >&nbsp;</th>\n      <th id=\"T_64c38_level0_col0\" class=\"col_heading level0 col0\" >feature</th>\n      <th id=\"T_64c38_level0_col1\" class=\"col_heading level0 col1\" >category</th>\n      <th id=\"T_64c38_level0_col2\" class=\"col_heading level0 col2\" >subcategory</th>\n      <th id=\"T_64c38_level0_col3\" class=\"col_heading level0 col3\" >scale_name</th>\n      <th id=\"T_64c38_level0_col4\" class=\"col_heading level0 col4\" >scale_description</th>\n      <th id=\"T_64c38_level0_col5\" class=\"col_heading level0 col5\" >abs_auc</th>\n      <th id=\"T_64c38_level0_col6\" class=\"col_heading level0 col6\" >abs_mean_dif</th>\n      <th id=\"T_64c38_level0_col7\" class=\"col_heading level0 col7\" >mean_dif</th>\n      <th id=\"T_64c38_level0_col8\" class=\"col_heading level0 col8\" >std_test</th>\n      <th id=\"T_64c38_level0_col9\" class=\"col_heading level0 col9\" >std_ref</th>\n      <th id=\"T_64c38_level0_col10\" class=\"col_heading level0 col10\" >p_val_mann_whitney</th>\n      <th id=\"T_64c38_level0_col11\" class=\"col_heading level0 col11\" >p_val_fdr_bh</th>\n      <th id=\"T_64c38_level0_col12\" class=\"col_heading level0 col12\" >positions</th>\n      <th id=\"T_64c38_level0_col13\" class=\"col_heading level0 col13\" >feat_importance</th>\n      <th id=\"T_64c38_level0_col14\" class=\"col_heading level0 col14\" >feat_importance_std</th>\n      <th id=\"T_64c38_level0_col15\" class=\"col_heading level0 col15\" >feat_impact_Protein0</th>\n      <th id=\"T_64c38_level0_col16\" class=\"col_heading level0 col16\" >feat_impact_Protein1</th>\n      <th id=\"T_64c38_level0_col17\" class=\"col_heading level0 col17\" >feat_impact_Protein2</th>\n      <th id=\"T_64c38_level0_col18\" class=\"col_heading level0 col18\" >feat_impact_Protein3</th>\n      <th id=\"T_64c38_level0_col19\" class=\"col_heading level0 col19\" >feat_impact_Protein4</th>\n      <th id=\"T_64c38_level0_col20\" class=\"col_heading level0 col20\" >feat_impact_Protein5</th>\n    </tr>\n  </thead>\n  <tbody>\n    <tr>\n      <th id=\"T_64c38_level0_row0\" class=\"row_heading level0 row0\" >1</th>\n      <td id=\"T_64c38_row0_col0\" class=\"data row0 col0\" >TMD_C_JMD_C-Seg...3,4)-KLEP840101</td>\n      <td id=\"T_64c38_row0_col1\" class=\"data row0 col1\" >Energy</td>\n      <td id=\"T_64c38_row0_col2\" class=\"data row0 col2\" >Charge</td>\n      <td id=\"T_64c38_row0_col3\" class=\"data row0 col3\" >Charge</td>\n      <td id=\"T_64c38_row0_col4\" class=\"data row0 col4\" >Net charge (Kle...n et al., 1984)</td>\n      <td id=\"T_64c38_row0_col5\" class=\"data row0 col5\" >0.244000</td>\n      <td id=\"T_64c38_row0_col6\" class=\"data row0 col6\" >0.103666</td>\n      <td id=\"T_64c38_row0_col7\" class=\"data row0 col7\" >0.103666</td>\n      <td id=\"T_64c38_row0_col8\" class=\"data row0 col8\" >0.106692</td>\n      <td id=\"T_64c38_row0_col9\" class=\"data row0 col9\" >0.110506</td>\n      <td id=\"T_64c38_row0_col10\" class=\"data row0 col10\" >0.000000</td>\n      <td id=\"T_64c38_row0_col11\" class=\"data row0 col11\" >0.000000</td>\n      <td id=\"T_64c38_row0_col12\" class=\"data row0 col12\" >31,32,33,34,35</td>\n      <td id=\"T_64c38_row0_col13\" class=\"data row0 col13\" >0.970400</td>\n      <td id=\"T_64c38_row0_col14\" class=\"data row0 col14\" >1.438918</td>\n      <td id=\"T_64c38_row0_col15\" class=\"data row0 col15\" >-20.910000</td>\n      <td id=\"T_64c38_row0_col16\" class=\"data row0 col16\" >-23.220000</td>\n      <td id=\"T_64c38_row0_col17\" class=\"data row0 col17\" >-33.290000</td>\n      <td id=\"T_64c38_row0_col18\" class=\"data row0 col18\" >28.240000</td>\n      <td id=\"T_64c38_row0_col19\" class=\"data row0 col19\" >23.860000</td>\n      <td id=\"T_64c38_row0_col20\" class=\"data row0 col20\" >24.470000</td>\n    </tr>\n    <tr>\n      <th id=\"T_64c38_level0_row1\" class=\"row_heading level0 row1\" >2</th>\n      <td id=\"T_64c38_row1_col0\" class=\"data row1 col0\" >TMD_C_JMD_C-Seg...3,4)-FINA910104</td>\n      <td id=\"T_64c38_row1_col1\" class=\"data row1 col1\" >Conformation</td>\n      <td id=\"T_64c38_row1_col2\" class=\"data row1 col2\" >α-helix (C-cap)</td>\n      <td id=\"T_64c38_row1_col3\" class=\"data row1 col3\" >α-helix termination</td>\n      <td id=\"T_64c38_row1_col4\" class=\"data row1 col4\" >Helix terminati...n et al., 1991)</td>\n      <td id=\"T_64c38_row1_col5\" class=\"data row1 col5\" >0.243000</td>\n      <td id=\"T_64c38_row1_col6\" class=\"data row1 col6\" >0.085064</td>\n      <td id=\"T_64c38_row1_col7\" class=\"data row1 col7\" >0.085064</td>\n      <td id=\"T_64c38_row1_col8\" class=\"data row1 col8\" >0.098774</td>\n      <td id=\"T_64c38_row1_col9\" class=\"data row1 col9\" >0.096946</td>\n      <td id=\"T_64c38_row1_col10\" class=\"data row1 col10\" >0.000000</td>\n      <td id=\"T_64c38_row1_col11\" class=\"data row1 col11\" >0.000000</td>\n      <td id=\"T_64c38_row1_col12\" class=\"data row1 col12\" >31,32,33,34,35</td>\n      <td id=\"T_64c38_row1_col13\" class=\"data row1 col13\" >0.000000</td>\n      <td id=\"T_64c38_row1_col14\" class=\"data row1 col14\" >0.000000</td>\n      <td id=\"T_64c38_row1_col15\" class=\"data row1 col15\" >-21.130000</td>\n      <td id=\"T_64c38_row1_col16\" class=\"data row1 col16\" >-21.850000</td>\n      <td id=\"T_64c38_row1_col17\" class=\"data row1 col17\" >-30.190000</td>\n      <td id=\"T_64c38_row1_col18\" class=\"data row1 col18\" >28.690000</td>\n      <td id=\"T_64c38_row1_col19\" class=\"data row1 col19\" >23.880000</td>\n      <td id=\"T_64c38_row1_col20\" class=\"data row1 col20\" >24.480000</td>\n    </tr>\n    <tr>\n      <th id=\"T_64c38_level0_row2\" class=\"row_heading level0 row2\" >3</th>\n      <td id=\"T_64c38_row2_col0\" class=\"data row2 col0\" >TMD_C_JMD_C-Seg...6,9)-LEVM760105</td>\n      <td id=\"T_64c38_row2_col1\" class=\"data row2 col1\" >Shape</td>\n      <td id=\"T_64c38_row2_col2\" class=\"data row2 col2\" >Side chain length</td>\n      <td id=\"T_64c38_row2_col3\" class=\"data row2 col3\" >Side chain length</td>\n      <td id=\"T_64c38_row2_col4\" class=\"data row2 col4\" >Radius of gyrat... (Levitt, 1976)</td>\n      <td id=\"T_64c38_row2_col5\" class=\"data row2 col5\" >0.233000</td>\n      <td id=\"T_64c38_row2_col6\" class=\"data row2 col6\" >0.137044</td>\n      <td id=\"T_64c38_row2_col7\" class=\"data row2 col7\" >0.137044</td>\n      <td id=\"T_64c38_row2_col8\" class=\"data row2 col8\" >0.161683</td>\n      <td id=\"T_64c38_row2_col9\" class=\"data row2 col9\" >0.176964</td>\n      <td id=\"T_64c38_row2_col10\" class=\"data row2 col10\" >0.000000</td>\n      <td id=\"T_64c38_row2_col11\" class=\"data row2 col11\" >0.000001</td>\n      <td id=\"T_64c38_row2_col12\" class=\"data row2 col12\" >32,33</td>\n      <td id=\"T_64c38_row2_col13\" class=\"data row2 col13\" >1.554800</td>\n      <td id=\"T_64c38_row2_col14\" class=\"data row2 col14\" >2.109848</td>\n      <td id=\"T_64c38_row2_col15\" class=\"data row2 col15\" >-19.340000</td>\n      <td id=\"T_64c38_row2_col16\" class=\"data row2 col16\" >-16.910000</td>\n      <td id=\"T_64c38_row2_col17\" class=\"data row2 col17\" >-7.370000</td>\n      <td id=\"T_64c38_row2_col18\" class=\"data row2 col18\" >11.760000</td>\n      <td id=\"T_64c38_row2_col19\" class=\"data row2 col19\" >16.410000</td>\n      <td id=\"T_64c38_row2_col20\" class=\"data row2 col20\" >16.660000</td>\n    </tr>\n    <tr>\n      <th id=\"T_64c38_level0_row3\" class=\"row_heading level0 row3\" >4</th>\n      <td id=\"T_64c38_row3_col0\" class=\"data row3 col0\" >TMD_C_JMD_C-Seg...3,4)-HUTJ700102</td>\n      <td id=\"T_64c38_row3_col1\" class=\"data row3 col1\" >Energy</td>\n      <td id=\"T_64c38_row3_col2\" class=\"data row3 col2\" >Entropy</td>\n      <td id=\"T_64c38_row3_col3\" class=\"data row3 col3\" >Entropy</td>\n      <td id=\"T_64c38_row3_col4\" class=\"data row3 col4\" >Absolute entrop...Hutchens, 1970)</td>\n      <td id=\"T_64c38_row3_col5\" class=\"data row3 col5\" >0.229000</td>\n      <td id=\"T_64c38_row3_col6\" class=\"data row3 col6\" >0.098224</td>\n      <td id=\"T_64c38_row3_col7\" class=\"data row3 col7\" >0.098224</td>\n      <td id=\"T_64c38_row3_col8\" class=\"data row3 col8\" >0.106865</td>\n      <td id=\"T_64c38_row3_col9\" class=\"data row3 col9\" >0.124608</td>\n      <td id=\"T_64c38_row3_col10\" class=\"data row3 col10\" >0.000000</td>\n      <td id=\"T_64c38_row3_col11\" class=\"data row3 col11\" >0.000001</td>\n      <td id=\"T_64c38_row3_col12\" class=\"data row3 col12\" >31,32,33,34,35</td>\n      <td id=\"T_64c38_row3_col13\" class=\"data row3 col13\" >3.111200</td>\n      <td id=\"T_64c38_row3_col14\" class=\"data row3 col14\" >3.109955</td>\n      <td id=\"T_64c38_row3_col15\" class=\"data row3 col15\" >-21.190000</td>\n      <td id=\"T_64c38_row3_col16\" class=\"data row3 col16\" >-20.920000</td>\n      <td id=\"T_64c38_row3_col17\" class=\"data row3 col17\" >-23.040000</td>\n      <td id=\"T_64c38_row3_col18\" class=\"data row3 col18\" >21.300000</td>\n      <td id=\"T_64c38_row3_col19\" class=\"data row3 col19\" >19.530000</td>\n      <td id=\"T_64c38_row3_col20\" class=\"data row3 col20\" >19.460000</td>\n    </tr>\n    <tr>\n      <th id=\"T_64c38_level0_row4\" class=\"row_heading level0 row4\" >5</th>\n      <td id=\"T_64c38_row4_col0\" class=\"data row4 col0\" >TMD_C_JMD_C-Seg...6,9)-RADA880106</td>\n      <td id=\"T_64c38_row4_col1\" class=\"data row4 col1\" >ASA/Volume</td>\n      <td id=\"T_64c38_row4_col2\" class=\"data row4 col2\" >Volume</td>\n      <td id=\"T_64c38_row4_col3\" class=\"data row4 col3\" >Accessible surface area (ASA)</td>\n      <td id=\"T_64c38_row4_col4\" class=\"data row4 col4\" >Accessible surf...olfenden, 1988)</td>\n      <td id=\"T_64c38_row4_col5\" class=\"data row4 col5\" >0.223000</td>\n      <td id=\"T_64c38_row4_col6\" class=\"data row4 col6\" >0.095071</td>\n      <td id=\"T_64c38_row4_col7\" class=\"data row4 col7\" >0.095071</td>\n      <td id=\"T_64c38_row4_col8\" class=\"data row4 col8\" >0.114758</td>\n      <td id=\"T_64c38_row4_col9\" class=\"data row4 col9\" >0.132829</td>\n      <td id=\"T_64c38_row4_col10\" class=\"data row4 col10\" >0.000000</td>\n      <td id=\"T_64c38_row4_col11\" class=\"data row4 col11\" >0.000002</td>\n      <td id=\"T_64c38_row4_col12\" class=\"data row4 col12\" >32,33</td>\n      <td id=\"T_64c38_row4_col13\" class=\"data row4 col13\" >0.000000</td>\n      <td id=\"T_64c38_row4_col14\" class=\"data row4 col14\" >0.000000</td>\n      <td id=\"T_64c38_row4_col15\" class=\"data row4 col15\" >-17.430000</td>\n      <td id=\"T_64c38_row4_col16\" class=\"data row4 col16\" >-17.100000</td>\n      <td id=\"T_64c38_row4_col17\" class=\"data row4 col17\" >-6.100000</td>\n      <td id=\"T_64c38_row4_col18\" class=\"data row4 col18\" >10.010000</td>\n      <td id=\"T_64c38_row4_col19\" class=\"data row4 col19\" >16.320000</td>\n      <td id=\"T_64c38_row4_col20\" class=\"data row4 col20\" >14.930000</td>\n    </tr>\n  </tbody>\n</table>\n"
     },
     "metadata": {},
     "output_type": "display_data"
    }
   ],
   "source": [
    "# Add feature impact of each sample (Protein0 to Protein5)\n",
    "df_feat = se.add_feat_impact(df_feat=df_feat)\n",
    "aa.display_df(df_feat)"
   ],
   "metadata": {
    "collapsed": false,
    "ExecuteTime": {
     "end_time": "2024-01-22T23:14:39.107314515Z",
     "start_time": "2024-01-22T23:14:39.020097723Z"
    }
   },
   "id": "4295223fbcde99ab"
  },
  {
   "cell_type": "markdown",
   "source": [
    "To include the impact of a specific sample, use the ``pos`` parameter indicating the position index of the sample within the ``shap_values`` attribute (the same as in the ``labels`` provided to the ``ShapExplainer.fit()`` method). You need to set ``drop=True`` to override the feature impact columns:"
   ],
   "metadata": {
    "collapsed": false
   },
   "id": "e864afb240329af5"
  },
  {
   "cell_type": "code",
   "execution_count": 4,
   "outputs": [
    {
     "data": {
      "text/plain": "<IPython.core.display.HTML object>",
      "text/html": "<style type=\"text/css\">\n#T_36c91 thead th {\n  background-color: white;\n  color: black;\n}\n#T_36c91 tbody tr:nth-child(odd) {\n  background-color: #f2f2f2;\n}\n#T_36c91 tbody tr:nth-child(even) {\n  background-color: white;\n}\n#T_36c91 th {\n  padding: 5px;\n  white-space: nowrap;\n}\n#T_36c91  td {\n  padding: 5px;\n  white-space: nowrap;\n}\n</style>\n<table id=\"T_36c91\" style='display:block; max-height: 300px; max-width: 100%; overflow-x: auto; overflow-y: auto;'>\n  <thead>\n    <tr>\n      <th class=\"blank level0\" >&nbsp;</th>\n      <th id=\"T_36c91_level0_col0\" class=\"col_heading level0 col0\" >feat_impact_Protein0</th>\n    </tr>\n  </thead>\n  <tbody>\n    <tr>\n      <th id=\"T_36c91_level0_row0\" class=\"row_heading level0 row0\" >1</th>\n      <td id=\"T_36c91_row0_col0\" class=\"data row0 col0\" >-20.910000</td>\n    </tr>\n    <tr>\n      <th id=\"T_36c91_level0_row1\" class=\"row_heading level0 row1\" >2</th>\n      <td id=\"T_36c91_row1_col0\" class=\"data row1 col0\" >-21.130000</td>\n    </tr>\n    <tr>\n      <th id=\"T_36c91_level0_row2\" class=\"row_heading level0 row2\" >3</th>\n      <td id=\"T_36c91_row2_col0\" class=\"data row2 col0\" >-19.340000</td>\n    </tr>\n    <tr>\n      <th id=\"T_36c91_level0_row3\" class=\"row_heading level0 row3\" >4</th>\n      <td id=\"T_36c91_row3_col0\" class=\"data row3 col0\" >-21.190000</td>\n    </tr>\n    <tr>\n      <th id=\"T_36c91_level0_row4\" class=\"row_heading level0 row4\" >5</th>\n      <td id=\"T_36c91_row4_col0\" class=\"data row4 col0\" >-17.430000</td>\n    </tr>\n  </tbody>\n</table>\n"
     },
     "metadata": {},
     "output_type": "display_data"
    }
   ],
   "source": [
    "# First protein\n",
    "df_feat = se.add_feat_impact(df_feat=df_feat, drop=True, pos=0)\n",
    "aa.display_df(df_feat, n_cols=-1)"
   ],
   "metadata": {
    "collapsed": false,
    "ExecuteTime": {
     "end_time": "2024-01-22T23:14:39.108636678Z",
     "start_time": "2024-01-22T23:14:39.068157499Z"
    }
   },
   "id": "c3fab715ee6d32a8"
  },
  {
   "cell_type": "markdown",
   "source": [
    "You can provide a specific ``name`` for the corresponding sample:"
   ],
   "metadata": {
    "collapsed": false
   },
   "id": "241741bf95641ef3"
  },
  {
   "cell_type": "code",
   "execution_count": 5,
   "outputs": [
    {
     "data": {
      "text/plain": "<IPython.core.display.HTML object>",
      "text/html": "<style type=\"text/css\">\n#T_faa9c thead th {\n  background-color: white;\n  color: black;\n}\n#T_faa9c tbody tr:nth-child(odd) {\n  background-color: #f2f2f2;\n}\n#T_faa9c tbody tr:nth-child(even) {\n  background-color: white;\n}\n#T_faa9c th {\n  padding: 5px;\n  white-space: nowrap;\n}\n#T_faa9c  td {\n  padding: 5px;\n  white-space: nowrap;\n}\n</style>\n<table id=\"T_faa9c\" style='display:block; max-height: 300px; max-width: 100%; overflow-x: auto; overflow-y: auto;'>\n  <thead>\n    <tr>\n      <th class=\"blank level0\" >&nbsp;</th>\n      <th id=\"T_faa9c_level0_col0\" class=\"col_heading level0 col0\" >feat_importance</th>\n      <th id=\"T_faa9c_level0_col1\" class=\"col_heading level0 col1\" >feat_importance_std</th>\n      <th id=\"T_faa9c_level0_col2\" class=\"col_heading level0 col2\" >feat_impact_Selected_sample</th>\n    </tr>\n  </thead>\n  <tbody>\n    <tr>\n      <th id=\"T_faa9c_level0_row0\" class=\"row_heading level0 row0\" >1</th>\n      <td id=\"T_faa9c_row0_col0\" class=\"data row0 col0\" >0.970400</td>\n      <td id=\"T_faa9c_row0_col1\" class=\"data row0 col1\" >1.438918</td>\n      <td id=\"T_faa9c_row0_col2\" class=\"data row0 col2\" >-20.910000</td>\n    </tr>\n    <tr>\n      <th id=\"T_faa9c_level0_row1\" class=\"row_heading level0 row1\" >2</th>\n      <td id=\"T_faa9c_row1_col0\" class=\"data row1 col0\" >0.000000</td>\n      <td id=\"T_faa9c_row1_col1\" class=\"data row1 col1\" >0.000000</td>\n      <td id=\"T_faa9c_row1_col2\" class=\"data row1 col2\" >-21.130000</td>\n    </tr>\n    <tr>\n      <th id=\"T_faa9c_level0_row2\" class=\"row_heading level0 row2\" >3</th>\n      <td id=\"T_faa9c_row2_col0\" class=\"data row2 col0\" >1.554800</td>\n      <td id=\"T_faa9c_row2_col1\" class=\"data row2 col1\" >2.109848</td>\n      <td id=\"T_faa9c_row2_col2\" class=\"data row2 col2\" >-19.340000</td>\n    </tr>\n    <tr>\n      <th id=\"T_faa9c_level0_row3\" class=\"row_heading level0 row3\" >4</th>\n      <td id=\"T_faa9c_row3_col0\" class=\"data row3 col0\" >3.111200</td>\n      <td id=\"T_faa9c_row3_col1\" class=\"data row3 col1\" >3.109955</td>\n      <td id=\"T_faa9c_row3_col2\" class=\"data row3 col2\" >-21.190000</td>\n    </tr>\n    <tr>\n      <th id=\"T_faa9c_level0_row4\" class=\"row_heading level0 row4\" >5</th>\n      <td id=\"T_faa9c_row4_col0\" class=\"data row4 col0\" >0.000000</td>\n      <td id=\"T_faa9c_row4_col1\" class=\"data row4 col1\" >0.000000</td>\n      <td id=\"T_faa9c_row4_col2\" class=\"data row4 col2\" >-17.430000</td>\n    </tr>\n  </tbody>\n</table>\n"
     },
     "metadata": {},
     "output_type": "display_data"
    }
   ],
   "source": [
    "# Single sample\n",
    "df_feat = se.add_feat_impact(df_feat=df_feat, drop=True, pos=0, name=\"Selected_sample\")\n",
    "aa.display_df(df_feat, n_cols=-3)"
   ],
   "metadata": {
    "collapsed": false,
    "ExecuteTime": {
     "end_time": "2024-01-22T23:14:39.109641567Z",
     "start_time": "2024-01-22T23:14:39.068462674Z"
    }
   },
   "id": "284315f79bab7f53"
  },
  {
   "cell_type": "markdown",
   "source": [
    "**Computing feature impact**\n",
    "\n",
    "Three different scenarios are possible:\n",
    "\n",
    "a) **Single sample**: Compute the feature impact for one sample (shown above).\n",
    "b) **Multiple samples**: Computes the feature impact for multiple sample (all by default).\n",
    "c) **Group of samples**: Compute the average feature impact and standard deviation for a group.\n",
    "\n",
    "To focus on specific samples, specify their indices in ``pos``. If ``name`` is provided, its length should match ``pos``."
   ],
   "metadata": {
    "collapsed": false
   },
   "id": "d30d838543db6469"
  },
  {
   "cell_type": "code",
   "execution_count": 6,
   "outputs": [
    {
     "data": {
      "text/plain": "<IPython.core.display.HTML object>",
      "text/html": "<style type=\"text/css\">\n#T_4b556 thead th {\n  background-color: white;\n  color: black;\n}\n#T_4b556 tbody tr:nth-child(odd) {\n  background-color: #f2f2f2;\n}\n#T_4b556 tbody tr:nth-child(even) {\n  background-color: white;\n}\n#T_4b556 th {\n  padding: 5px;\n  white-space: nowrap;\n}\n#T_4b556  td {\n  padding: 5px;\n  white-space: nowrap;\n}\n</style>\n<table id=\"T_4b556\" style='display:block; max-height: 300px; max-width: 100%; overflow-x: auto; overflow-y: auto;'>\n  <thead>\n    <tr>\n      <th class=\"blank level0\" >&nbsp;</th>\n      <th id=\"T_4b556_level0_col0\" class=\"col_heading level0 col0\" >feat_importance</th>\n      <th id=\"T_4b556_level0_col1\" class=\"col_heading level0 col1\" >feat_importance_std</th>\n      <th id=\"T_4b556_level0_col2\" class=\"col_heading level0 col2\" >feat_impact_Sample 1</th>\n      <th id=\"T_4b556_level0_col3\" class=\"col_heading level0 col3\" >feat_impact_Sample 2</th>\n    </tr>\n  </thead>\n  <tbody>\n    <tr>\n      <th id=\"T_4b556_level0_row0\" class=\"row_heading level0 row0\" >1</th>\n      <td id=\"T_4b556_row0_col0\" class=\"data row0 col0\" >0.970400</td>\n      <td id=\"T_4b556_row0_col1\" class=\"data row0 col1\" >1.438918</td>\n      <td id=\"T_4b556_row0_col2\" class=\"data row0 col2\" >-20.910000</td>\n      <td id=\"T_4b556_row0_col3\" class=\"data row0 col3\" >-23.220000</td>\n    </tr>\n    <tr>\n      <th id=\"T_4b556_level0_row1\" class=\"row_heading level0 row1\" >2</th>\n      <td id=\"T_4b556_row1_col0\" class=\"data row1 col0\" >0.000000</td>\n      <td id=\"T_4b556_row1_col1\" class=\"data row1 col1\" >0.000000</td>\n      <td id=\"T_4b556_row1_col2\" class=\"data row1 col2\" >-21.130000</td>\n      <td id=\"T_4b556_row1_col3\" class=\"data row1 col3\" >-21.850000</td>\n    </tr>\n    <tr>\n      <th id=\"T_4b556_level0_row2\" class=\"row_heading level0 row2\" >3</th>\n      <td id=\"T_4b556_row2_col0\" class=\"data row2 col0\" >1.554800</td>\n      <td id=\"T_4b556_row2_col1\" class=\"data row2 col1\" >2.109848</td>\n      <td id=\"T_4b556_row2_col2\" class=\"data row2 col2\" >-19.340000</td>\n      <td id=\"T_4b556_row2_col3\" class=\"data row2 col3\" >-16.910000</td>\n    </tr>\n    <tr>\n      <th id=\"T_4b556_level0_row3\" class=\"row_heading level0 row3\" >4</th>\n      <td id=\"T_4b556_row3_col0\" class=\"data row3 col0\" >3.111200</td>\n      <td id=\"T_4b556_row3_col1\" class=\"data row3 col1\" >3.109955</td>\n      <td id=\"T_4b556_row3_col2\" class=\"data row3 col2\" >-21.190000</td>\n      <td id=\"T_4b556_row3_col3\" class=\"data row3 col3\" >-20.920000</td>\n    </tr>\n    <tr>\n      <th id=\"T_4b556_level0_row4\" class=\"row_heading level0 row4\" >5</th>\n      <td id=\"T_4b556_row4_col0\" class=\"data row4 col0\" >0.000000</td>\n      <td id=\"T_4b556_row4_col1\" class=\"data row4 col1\" >0.000000</td>\n      <td id=\"T_4b556_row4_col2\" class=\"data row4 col2\" >-17.430000</td>\n      <td id=\"T_4b556_row4_col3\" class=\"data row4 col3\" >-17.100000</td>\n    </tr>\n  </tbody>\n</table>\n"
     },
     "metadata": {},
     "output_type": "display_data"
    }
   ],
   "source": [
    "# Multiple samples\n",
    "df_feat = se.add_feat_impact(df_feat=df_feat, drop=True, pos=[0, 1], name=[\"Sample 1\", \"Sample 2\"])\n",
    "aa.display_df(df_feat, n_cols=-4)"
   ],
   "metadata": {
    "collapsed": false,
    "ExecuteTime": {
     "end_time": "2024-01-22T23:14:39.134680867Z",
     "start_time": "2024-01-22T23:14:39.086387761Z"
    }
   },
   "id": "eca83e9002cdb2be"
  },
  {
   "cell_type": "markdown",
   "source": [
    "To calculate the group average, set ``group_average=True`` and specify the sample indices in `pos`. Provide a ``name`` for the group, or 'Group' will be used by default:"
   ],
   "metadata": {
    "collapsed": false
   },
   "id": "feefa50a912ca44c"
  },
  {
   "cell_type": "code",
   "execution_count": 7,
   "outputs": [
    {
     "data": {
      "text/plain": "<IPython.core.display.HTML object>",
      "text/html": "<style type=\"text/css\">\n#T_c8468 thead th {\n  background-color: white;\n  color: black;\n}\n#T_c8468 tbody tr:nth-child(odd) {\n  background-color: #f2f2f2;\n}\n#T_c8468 tbody tr:nth-child(even) {\n  background-color: white;\n}\n#T_c8468 th {\n  padding: 5px;\n  white-space: nowrap;\n}\n#T_c8468  td {\n  padding: 5px;\n  white-space: nowrap;\n}\n</style>\n<table id=\"T_c8468\" style='display:block; max-height: 300px; max-width: 100%; overflow-x: auto; overflow-y: auto;'>\n  <thead>\n    <tr>\n      <th class=\"blank level0\" >&nbsp;</th>\n      <th id=\"T_c8468_level0_col0\" class=\"col_heading level0 col0\" >feat_importance</th>\n      <th id=\"T_c8468_level0_col1\" class=\"col_heading level0 col1\" >feat_importance_std</th>\n      <th id=\"T_c8468_level0_col2\" class=\"col_heading level0 col2\" >feat_impact_Group</th>\n      <th id=\"T_c8468_level0_col3\" class=\"col_heading level0 col3\" >feat_impact_std_Group</th>\n    </tr>\n  </thead>\n  <tbody>\n    <tr>\n      <th id=\"T_c8468_level0_row0\" class=\"row_heading level0 row0\" >1</th>\n      <td id=\"T_c8468_row0_col0\" class=\"data row0 col0\" >0.970400</td>\n      <td id=\"T_c8468_row0_col1\" class=\"data row0 col1\" >1.438918</td>\n      <td id=\"T_c8468_row0_col2\" class=\"data row0 col2\" >-22.110000</td>\n      <td id=\"T_c8468_row0_col3\" class=\"data row0 col3\" >2.013108</td>\n    </tr>\n    <tr>\n      <th id=\"T_c8468_level0_row1\" class=\"row_heading level0 row1\" >2</th>\n      <td id=\"T_c8468_row1_col0\" class=\"data row1 col0\" >0.000000</td>\n      <td id=\"T_c8468_row1_col1\" class=\"data row1 col1\" >0.000000</td>\n      <td id=\"T_c8468_row1_col2\" class=\"data row1 col2\" >-21.510000</td>\n      <td id=\"T_c8468_row1_col3\" class=\"data row1 col3\" >1.200090</td>\n    </tr>\n    <tr>\n      <th id=\"T_c8468_level0_row2\" class=\"row_heading level0 row2\" >3</th>\n      <td id=\"T_c8468_row2_col0\" class=\"data row2 col0\" >1.554800</td>\n      <td id=\"T_c8468_row2_col1\" class=\"data row2 col1\" >2.109848</td>\n      <td id=\"T_c8468_row2_col2\" class=\"data row2 col2\" >-18.080000</td>\n      <td id=\"T_c8468_row2_col3\" class=\"data row2 col3\" >0.503155</td>\n    </tr>\n    <tr>\n      <th id=\"T_c8468_level0_row3\" class=\"row_heading level0 row3\" >4</th>\n      <td id=\"T_c8468_row3_col0\" class=\"data row3 col0\" >3.111200</td>\n      <td id=\"T_c8468_row3_col1\" class=\"data row3 col1\" >3.109955</td>\n      <td id=\"T_c8468_row3_col2\" class=\"data row3 col2\" >-21.050000</td>\n      <td id=\"T_c8468_row3_col3\" class=\"data row3 col3\" >0.684384</td>\n    </tr>\n    <tr>\n      <th id=\"T_c8468_level0_row4\" class=\"row_heading level0 row4\" >5</th>\n      <td id=\"T_c8468_row4_col0\" class=\"data row4 col0\" >0.000000</td>\n      <td id=\"T_c8468_row4_col1\" class=\"data row4 col1\" >0.000000</td>\n      <td id=\"T_c8468_row4_col2\" class=\"data row4 col2\" >-17.250000</td>\n      <td id=\"T_c8468_row4_col3\" class=\"data row4 col3\" >0.508527</td>\n    </tr>\n  </tbody>\n</table>\n"
     },
     "metadata": {},
     "output_type": "display_data"
    }
   ],
   "source": [
    "# Group of samples\n",
    "df_feat = se.add_feat_impact(df_feat=df_feat, drop=True, pos=[0, 1], group_average=True)\n",
    "aa.display_df(df_feat, n_cols=-4)"
   ],
   "metadata": {
    "collapsed": false,
    "ExecuteTime": {
     "end_time": "2024-01-22T23:14:39.135753343Z",
     "start_time": "2024-01-22T23:14:39.127202138Z"
    }
   },
   "id": "de421fe7373f1839"
  },
  {
   "cell_type": "markdown",
   "source": [
    "Setting ``shap_feat_importance=True``, will compute the SHAP value-based feature importance:"
   ],
   "metadata": {
    "collapsed": false
   },
   "id": "3eec7430f1db3df8"
  },
  {
   "cell_type": "code",
   "execution_count": 10,
   "outputs": [
    {
     "data": {
      "text/plain": "<IPython.core.display.HTML object>",
      "text/html": "<style type=\"text/css\">\n#T_9f597 thead th {\n  background-color: white;\n  color: black;\n}\n#T_9f597 tbody tr:nth-child(odd) {\n  background-color: #f2f2f2;\n}\n#T_9f597 tbody tr:nth-child(even) {\n  background-color: white;\n}\n#T_9f597 th {\n  padding: 5px;\n  white-space: nowrap;\n}\n#T_9f597  td {\n  padding: 5px;\n  white-space: nowrap;\n}\n</style>\n<table id=\"T_9f597\" style='display:block; max-height: 300px; max-width: 100%; overflow-x: auto; overflow-y: auto;'>\n  <thead>\n    <tr>\n      <th class=\"blank level0\" >&nbsp;</th>\n      <th id=\"T_9f597_level0_col0\" class=\"col_heading level0 col0\" >feat_impact_Group</th>\n      <th id=\"T_9f597_level0_col1\" class=\"col_heading level0 col1\" >feat_impact_std_Group</th>\n      <th id=\"T_9f597_level0_col2\" class=\"col_heading level0 col2\" >feat_importance</th>\n    </tr>\n  </thead>\n  <tbody>\n    <tr>\n      <th id=\"T_9f597_level0_row0\" class=\"row_heading level0 row0\" >1</th>\n      <td id=\"T_9f597_row0_col0\" class=\"data row0 col0\" >-22.110000</td>\n      <td id=\"T_9f597_row0_col1\" class=\"data row0 col1\" >2.013108</td>\n      <td id=\"T_9f597_row0_col2\" class=\"data row0 col2\" >25.470000</td>\n    </tr>\n    <tr>\n      <th id=\"T_9f597_level0_row1\" class=\"row_heading level0 row1\" >2</th>\n      <td id=\"T_9f597_row1_col0\" class=\"data row1 col0\" >-21.510000</td>\n      <td id=\"T_9f597_row1_col1\" class=\"data row1 col1\" >1.200090</td>\n      <td id=\"T_9f597_row1_col2\" class=\"data row1 col2\" >24.880000</td>\n    </tr>\n    <tr>\n      <th id=\"T_9f597_level0_row2\" class=\"row_heading level0 row2\" >3</th>\n      <td id=\"T_9f597_row2_col0\" class=\"data row2 col0\" >-18.080000</td>\n      <td id=\"T_9f597_row2_col1\" class=\"data row2 col1\" >0.503155</td>\n      <td id=\"T_9f597_row2_col2\" class=\"data row2 col2\" >14.940000</td>\n    </tr>\n    <tr>\n      <th id=\"T_9f597_level0_row3\" class=\"row_heading level0 row3\" >4</th>\n      <td id=\"T_9f597_row3_col0\" class=\"data row3 col0\" >-21.050000</td>\n      <td id=\"T_9f597_row3_col1\" class=\"data row3 col1\" >0.684384</td>\n      <td id=\"T_9f597_row3_col2\" class=\"data row3 col2\" >20.840000</td>\n    </tr>\n    <tr>\n      <th id=\"T_9f597_level0_row4\" class=\"row_heading level0 row4\" >5</th>\n      <td id=\"T_9f597_row4_col0\" class=\"data row4 col0\" >-17.250000</td>\n      <td id=\"T_9f597_row4_col1\" class=\"data row4 col1\" >0.508527</td>\n      <td id=\"T_9f597_row4_col2\" class=\"data row4 col2\" >13.870000</td>\n    </tr>\n  </tbody>\n</table>\n"
     },
     "metadata": {},
     "output_type": "display_data"
    }
   ],
   "source": [
    "# SHAP value-based feature importance\n",
    "df_feat = se.add_feat_impact(df_feat=df_feat, drop=True, shap_feat_importance=True)\n",
    "aa.display_df(df_feat, n_cols=-3)"
   ],
   "metadata": {
    "collapsed": false,
    "ExecuteTime": {
     "end_time": "2024-01-22T23:15:12.020227633Z",
     "start_time": "2024-01-22T23:15:11.998057501Z"
    }
   },
   "id": "f6a089dafd2356f1"
  }
 ],
 "metadata": {
  "kernelspec": {
   "display_name": "Python 3",
   "language": "python",
   "name": "python3"
  },
  "language_info": {
   "codemirror_mode": {
    "name": "ipython",
    "version": 2
   },
   "file_extension": ".py",
   "mimetype": "text/x-python",
   "name": "python",
   "nbconvert_exporter": "python",
   "pygments_lexer": "ipython2",
   "version": "2.7.6"
  }
 },
 "nbformat": 4,
 "nbformat_minor": 5
}
