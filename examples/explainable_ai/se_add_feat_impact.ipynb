{
 "cells": [
  {
   "cell_type": "markdown",
   "source": [
    "To demonstrate the ``ShapExplainer.add_feat_impact()`` method, we obtain the DOM_GSEC example dataset and its respective feature set (see [Breimann24c]_):"
   ],
   "metadata": {
    "collapsed": false
   },
   "id": "529c3ea28e2bbe2a"
  },
  {
   "cell_type": "code",
   "execution_count": 13,
   "outputs": [
    {
     "data": {
      "text/plain": "<IPython.core.display.HTML object>",
      "text/html": "<style type=\"text/css\">\n#T_d6dc9 thead th {\n  background-color: white;\n  color: black;\n}\n#T_d6dc9 tbody tr:nth-child(odd) {\n  background-color: #f2f2f2;\n}\n#T_d6dc9 tbody tr:nth-child(even) {\n  background-color: white;\n}\n#T_d6dc9 th {\n  padding: 5px;\n  white-space: nowrap;\n}\n#T_d6dc9  td {\n  padding: 5px;\n  white-space: nowrap;\n}\n</style>\n<table id=\"T_d6dc9\" style='display:block; max-height: 300px; max-width: 100%; overflow-x: auto; overflow-y: auto;'>\n  <thead>\n    <tr>\n      <th class=\"blank level0\" >&nbsp;</th>\n      <th id=\"T_d6dc9_level0_col0\" class=\"col_heading level0 col0\" >entry</th>\n      <th id=\"T_d6dc9_level0_col1\" class=\"col_heading level0 col1\" >sequence</th>\n      <th id=\"T_d6dc9_level0_col2\" class=\"col_heading level0 col2\" >label</th>\n      <th id=\"T_d6dc9_level0_col3\" class=\"col_heading level0 col3\" >tmd_start</th>\n      <th id=\"T_d6dc9_level0_col4\" class=\"col_heading level0 col4\" >tmd_stop</th>\n      <th id=\"T_d6dc9_level0_col5\" class=\"col_heading level0 col5\" >jmd_n</th>\n      <th id=\"T_d6dc9_level0_col6\" class=\"col_heading level0 col6\" >tmd</th>\n      <th id=\"T_d6dc9_level0_col7\" class=\"col_heading level0 col7\" >jmd_c</th>\n    </tr>\n  </thead>\n  <tbody>\n    <tr>\n      <th id=\"T_d6dc9_level0_row0\" class=\"row_heading level0 row0\" >1</th>\n      <td id=\"T_d6dc9_row0_col0\" class=\"data row0 col0\" >Q14802</td>\n      <td id=\"T_d6dc9_row0_col1\" class=\"data row0 col1\" >MQKVTLGLLVFLAGF...PGETPPLITPGSAQS</td>\n      <td id=\"T_d6dc9_row0_col2\" class=\"data row0 col2\" >0</td>\n      <td id=\"T_d6dc9_row0_col3\" class=\"data row0 col3\" >37</td>\n      <td id=\"T_d6dc9_row0_col4\" class=\"data row0 col4\" >59</td>\n      <td id=\"T_d6dc9_row0_col5\" class=\"data row0 col5\" >NSPFYYDWHS</td>\n      <td id=\"T_d6dc9_row0_col6\" class=\"data row0 col6\" >LQVGGLICAGVLCAMGIIIVMSA</td>\n      <td id=\"T_d6dc9_row0_col7\" class=\"data row0 col7\" >KCKCKFGQKS</td>\n    </tr>\n    <tr>\n      <th id=\"T_d6dc9_level0_row1\" class=\"row_heading level0 row1\" >2</th>\n      <td id=\"T_d6dc9_row1_col0\" class=\"data row1 col0\" >Q86UE4</td>\n      <td id=\"T_d6dc9_row1_col1\" class=\"data row1 col1\" >MAARSWQDELAQQAE...SPKQIKKKKKARRET</td>\n      <td id=\"T_d6dc9_row1_col2\" class=\"data row1 col2\" >0</td>\n      <td id=\"T_d6dc9_row1_col3\" class=\"data row1 col3\" >50</td>\n      <td id=\"T_d6dc9_row1_col4\" class=\"data row1 col4\" >72</td>\n      <td id=\"T_d6dc9_row1_col5\" class=\"data row1 col5\" >LGLEPKRYPG</td>\n      <td id=\"T_d6dc9_row1_col6\" class=\"data row1 col6\" >WVILVGTGALGLLLLFLLGYGWA</td>\n      <td id=\"T_d6dc9_row1_col7\" class=\"data row1 col7\" >AACAGARKKR</td>\n    </tr>\n    <tr>\n      <th id=\"T_d6dc9_level0_row2\" class=\"row_heading level0 row2\" >3</th>\n      <td id=\"T_d6dc9_row2_col0\" class=\"data row2 col0\" >Q969W9</td>\n      <td id=\"T_d6dc9_row2_col1\" class=\"data row2 col1\" >MHRLMGVNSTAAAAA...AIWSKEKDKQKGHPL</td>\n      <td id=\"T_d6dc9_row2_col2\" class=\"data row2 col2\" >0</td>\n      <td id=\"T_d6dc9_row2_col3\" class=\"data row2 col3\" >41</td>\n      <td id=\"T_d6dc9_row2_col4\" class=\"data row2 col4\" >63</td>\n      <td id=\"T_d6dc9_row2_col5\" class=\"data row2 col5\" >FQSMEITELE</td>\n      <td id=\"T_d6dc9_row2_col6\" class=\"data row2 col6\" >FVQIIIIVVVMMVMVVVITCLLS</td>\n      <td id=\"T_d6dc9_row2_col7\" class=\"data row2 col7\" >HYKLSARSFI</td>\n    </tr>\n    <tr>\n      <th id=\"T_d6dc9_level0_row3\" class=\"row_heading level0 row3\" >4</th>\n      <td id=\"T_d6dc9_row3_col0\" class=\"data row3 col0\" >P05067</td>\n      <td id=\"T_d6dc9_row3_col1\" class=\"data row3 col1\" >MLPGLALLLLAAWTA...GYENPTYKFFEQMQN</td>\n      <td id=\"T_d6dc9_row3_col2\" class=\"data row3 col2\" >1</td>\n      <td id=\"T_d6dc9_row3_col3\" class=\"data row3 col3\" >701</td>\n      <td id=\"T_d6dc9_row3_col4\" class=\"data row3 col4\" >723</td>\n      <td id=\"T_d6dc9_row3_col5\" class=\"data row3 col5\" >FAEDVGSNKG</td>\n      <td id=\"T_d6dc9_row3_col6\" class=\"data row3 col6\" >AIIGLMVGGVVIATVIVITLVML</td>\n      <td id=\"T_d6dc9_row3_col7\" class=\"data row3 col7\" >KKKQYTSIHH</td>\n    </tr>\n    <tr>\n      <th id=\"T_d6dc9_level0_row4\" class=\"row_heading level0 row4\" >5</th>\n      <td id=\"T_d6dc9_row4_col0\" class=\"data row4 col0\" >P14925</td>\n      <td id=\"T_d6dc9_row4_col1\" class=\"data row4 col1\" >MAGRARSGLLLLLLG...EEEYSAPLPKPAPSS</td>\n      <td id=\"T_d6dc9_row4_col2\" class=\"data row4 col2\" >1</td>\n      <td id=\"T_d6dc9_row4_col3\" class=\"data row4 col3\" >868</td>\n      <td id=\"T_d6dc9_row4_col4\" class=\"data row4 col4\" >890</td>\n      <td id=\"T_d6dc9_row4_col5\" class=\"data row4 col5\" >KLSTEPGSGV</td>\n      <td id=\"T_d6dc9_row4_col6\" class=\"data row4 col6\" >SVVLITTLLVIPVLVLLAIVMFI</td>\n      <td id=\"T_d6dc9_row4_col7\" class=\"data row4 col7\" >RWKKSRAFGD</td>\n    </tr>\n    <tr>\n      <th id=\"T_d6dc9_level0_row5\" class=\"row_heading level0 row5\" >6</th>\n      <td id=\"T_d6dc9_row5_col0\" class=\"data row5 col0\" >P70180</td>\n      <td id=\"T_d6dc9_row5_col1\" class=\"data row5 col1\" >MRSLLLFTFSACVLL...RELREDSIRSHFSVA</td>\n      <td id=\"T_d6dc9_row5_col2\" class=\"data row5 col2\" >1</td>\n      <td id=\"T_d6dc9_row5_col3\" class=\"data row5 col3\" >477</td>\n      <td id=\"T_d6dc9_row5_col4\" class=\"data row5 col4\" >499</td>\n      <td id=\"T_d6dc9_row5_col5\" class=\"data row5 col5\" >PCKSSGGLEE</td>\n      <td id=\"T_d6dc9_row5_col6\" class=\"data row5 col6\" >SAVTGIVVGALLGAGLLMAFYFF</td>\n      <td id=\"T_d6dc9_row5_col7\" class=\"data row5 col7\" >RKKYRITIER</td>\n    </tr>\n  </tbody>\n</table>\n"
     },
     "metadata": {},
     "output_type": "display_data"
    }
   ],
   "source": [
    "import shap\n",
    "import aaanalysis as aa\n",
    "aa.options[\"verbose\"] = False # Disable verbosity\n",
    "\n",
    "df_seq = aa.load_dataset(name=\"DOM_GSEC\", n=3)\n",
    "labels = df_seq[\"label\"].to_list()\n",
    "df_feat = aa.load_features(name=\"DOM_GSEC\").head(5)\n",
    "\n",
    "# Create feature matrix\n",
    "sf = aa.SequenceFeature()\n",
    "df_parts = sf.get_df_parts(df_seq=df_seq)\n",
    "X = sf.feature_matrix(features=df_feat[\"feature\"], df_parts=df_parts)\n",
    "\n",
    "aa.display_df(df_seq)"
   ],
   "metadata": {
    "collapsed": false,
    "ExecuteTime": {
     "end_time": "2024-01-22T22:37:27.587514509Z",
     "start_time": "2024-01-22T22:37:27.401350001Z"
    }
   },
   "id": "f11c692dc50a6da4"
  },
  {
   "cell_type": "markdown",
   "source": [
    "We can now create a ``ShapExplainer`` object and fit it to create the ``shap_values``, which are saved internally:"
   ],
   "metadata": {
    "collapsed": false
   },
   "id": "ab4c2ab59003b2f6"
  },
  {
   "cell_type": "code",
   "execution_count": 14,
   "outputs": [
    {
     "name": "stdout",
     "output_type": "stream",
     "text": [
      "SHAP values explain the feature impact for 3 negative and 3 positive samples\n",
      "[[-0.1  -0.1  -0.08 -0.09 -0.07]\n",
      " [-0.12 -0.12 -0.08 -0.09 -0.07]\n",
      " [-0.14 -0.14 -0.04 -0.09 -0.02]\n",
      " [ 0.13  0.13  0.04  0.08  0.05]\n",
      " [ 0.13  0.12  0.08  0.08  0.08]\n",
      " [ 0.13  0.12  0.08  0.08  0.07]]\n"
     ]
    }
   ],
   "source": [
    "se = aa.ShapExplainer()\n",
    "se.fit(X, labels=labels)\n",
    "\n",
    "shap_values = se.shap_values\n",
    "\n",
    "# Print SHAP values and expected value\n",
    "print(\"SHAP values explain the feature impact for 3 negative and 3 positive samples\")\n",
    "print(shap_values.round(2))"
   ],
   "metadata": {
    "collapsed": false,
    "ExecuteTime": {
     "end_time": "2024-01-22T22:37:30.331139245Z",
     "start_time": "2024-01-22T22:37:27.759623935Z"
    }
   },
   "id": "fff60acda8e4569c"
  },
  {
   "cell_type": "markdown",
   "source": [
    "We can now include the feature impact (i.e., SHAP values normalized such that their absolute values sum up to 100%) by providing ``df_feat`` to the ``ShapExplainer.add_feat_impact`` method:"
   ],
   "metadata": {
    "collapsed": false
   },
   "id": "f81bab6e58579186"
  },
  {
   "cell_type": "code",
   "execution_count": 15,
   "outputs": [
    {
     "name": "stdout",
     "output_type": "stream",
     "text": [
      "Include feature impact for Protein0 to Protein5\n"
     ]
    },
    {
     "data": {
      "text/plain": "<IPython.core.display.HTML object>",
      "text/html": "<style type=\"text/css\">\n#T_f7476 thead th {\n  background-color: white;\n  color: black;\n}\n#T_f7476 tbody tr:nth-child(odd) {\n  background-color: #f2f2f2;\n}\n#T_f7476 tbody tr:nth-child(even) {\n  background-color: white;\n}\n#T_f7476 th {\n  padding: 5px;\n  white-space: nowrap;\n}\n#T_f7476  td {\n  padding: 5px;\n  white-space: nowrap;\n}\n</style>\n<table id=\"T_f7476\" style='display:block; max-height: 300px; max-width: 100%; overflow-x: auto; overflow-y: auto;'>\n  <thead>\n    <tr>\n      <th class=\"blank level0\" >&nbsp;</th>\n      <th id=\"T_f7476_level0_col0\" class=\"col_heading level0 col0\" >feature</th>\n      <th id=\"T_f7476_level0_col1\" class=\"col_heading level0 col1\" >category</th>\n      <th id=\"T_f7476_level0_col2\" class=\"col_heading level0 col2\" >subcategory</th>\n      <th id=\"T_f7476_level0_col3\" class=\"col_heading level0 col3\" >scale_name</th>\n      <th id=\"T_f7476_level0_col4\" class=\"col_heading level0 col4\" >scale_description</th>\n      <th id=\"T_f7476_level0_col5\" class=\"col_heading level0 col5\" >abs_auc</th>\n      <th id=\"T_f7476_level0_col6\" class=\"col_heading level0 col6\" >abs_mean_dif</th>\n      <th id=\"T_f7476_level0_col7\" class=\"col_heading level0 col7\" >mean_dif</th>\n      <th id=\"T_f7476_level0_col8\" class=\"col_heading level0 col8\" >std_test</th>\n      <th id=\"T_f7476_level0_col9\" class=\"col_heading level0 col9\" >std_ref</th>\n      <th id=\"T_f7476_level0_col10\" class=\"col_heading level0 col10\" >p_val_mann_whitney</th>\n      <th id=\"T_f7476_level0_col11\" class=\"col_heading level0 col11\" >p_val_fdr_bh</th>\n      <th id=\"T_f7476_level0_col12\" class=\"col_heading level0 col12\" >positions</th>\n      <th id=\"T_f7476_level0_col13\" class=\"col_heading level0 col13\" >feat_importance</th>\n      <th id=\"T_f7476_level0_col14\" class=\"col_heading level0 col14\" >feat_importance_std</th>\n      <th id=\"T_f7476_level0_col15\" class=\"col_heading level0 col15\" >feat_impact_Protein0</th>\n      <th id=\"T_f7476_level0_col16\" class=\"col_heading level0 col16\" >feat_impact_Protein1</th>\n      <th id=\"T_f7476_level0_col17\" class=\"col_heading level0 col17\" >feat_impact_Protein2</th>\n      <th id=\"T_f7476_level0_col18\" class=\"col_heading level0 col18\" >feat_impact_Protein3</th>\n      <th id=\"T_f7476_level0_col19\" class=\"col_heading level0 col19\" >feat_impact_Protein4</th>\n      <th id=\"T_f7476_level0_col20\" class=\"col_heading level0 col20\" >feat_impact_Protein5</th>\n    </tr>\n  </thead>\n  <tbody>\n    <tr>\n      <th id=\"T_f7476_level0_row0\" class=\"row_heading level0 row0\" >1</th>\n      <td id=\"T_f7476_row0_col0\" class=\"data row0 col0\" >TMD_C_JMD_C-Seg...3,4)-KLEP840101</td>\n      <td id=\"T_f7476_row0_col1\" class=\"data row0 col1\" >Energy</td>\n      <td id=\"T_f7476_row0_col2\" class=\"data row0 col2\" >Charge</td>\n      <td id=\"T_f7476_row0_col3\" class=\"data row0 col3\" >Charge</td>\n      <td id=\"T_f7476_row0_col4\" class=\"data row0 col4\" >Net charge (Kle...n et al., 1984)</td>\n      <td id=\"T_f7476_row0_col5\" class=\"data row0 col5\" >0.244000</td>\n      <td id=\"T_f7476_row0_col6\" class=\"data row0 col6\" >0.103666</td>\n      <td id=\"T_f7476_row0_col7\" class=\"data row0 col7\" >0.103666</td>\n      <td id=\"T_f7476_row0_col8\" class=\"data row0 col8\" >0.106692</td>\n      <td id=\"T_f7476_row0_col9\" class=\"data row0 col9\" >0.110506</td>\n      <td id=\"T_f7476_row0_col10\" class=\"data row0 col10\" >0.000000</td>\n      <td id=\"T_f7476_row0_col11\" class=\"data row0 col11\" >0.000000</td>\n      <td id=\"T_f7476_row0_col12\" class=\"data row0 col12\" >31,32,33,34,35</td>\n      <td id=\"T_f7476_row0_col13\" class=\"data row0 col13\" >0.970400</td>\n      <td id=\"T_f7476_row0_col14\" class=\"data row0 col14\" >1.438918</td>\n      <td id=\"T_f7476_row0_col15\" class=\"data row0 col15\" >-23.300000</td>\n      <td id=\"T_f7476_row0_col16\" class=\"data row0 col16\" >-25.280000</td>\n      <td id=\"T_f7476_row0_col17\" class=\"data row0 col17\" >-32.590000</td>\n      <td id=\"T_f7476_row0_col18\" class=\"data row0 col18\" >30.530000</td>\n      <td id=\"T_f7476_row0_col19\" class=\"data row0 col19\" >25.460000</td>\n      <td id=\"T_f7476_row0_col20\" class=\"data row0 col20\" >26.080000</td>\n    </tr>\n    <tr>\n      <th id=\"T_f7476_level0_row1\" class=\"row_heading level0 row1\" >2</th>\n      <td id=\"T_f7476_row1_col0\" class=\"data row1 col0\" >TMD_C_JMD_C-Seg...3,4)-FINA910104</td>\n      <td id=\"T_f7476_row1_col1\" class=\"data row1 col1\" >Conformation</td>\n      <td id=\"T_f7476_row1_col2\" class=\"data row1 col2\" >α-helix (C-cap)</td>\n      <td id=\"T_f7476_row1_col3\" class=\"data row1 col3\" >α-helix termination</td>\n      <td id=\"T_f7476_row1_col4\" class=\"data row1 col4\" >Helix terminati...n et al., 1991)</td>\n      <td id=\"T_f7476_row1_col5\" class=\"data row1 col5\" >0.243000</td>\n      <td id=\"T_f7476_row1_col6\" class=\"data row1 col6\" >0.085064</td>\n      <td id=\"T_f7476_row1_col7\" class=\"data row1 col7\" >0.085064</td>\n      <td id=\"T_f7476_row1_col8\" class=\"data row1 col8\" >0.098774</td>\n      <td id=\"T_f7476_row1_col9\" class=\"data row1 col9\" >0.096946</td>\n      <td id=\"T_f7476_row1_col10\" class=\"data row1 col10\" >0.000000</td>\n      <td id=\"T_f7476_row1_col11\" class=\"data row1 col11\" >0.000000</td>\n      <td id=\"T_f7476_row1_col12\" class=\"data row1 col12\" >31,32,33,34,35</td>\n      <td id=\"T_f7476_row1_col13\" class=\"data row1 col13\" >0.000000</td>\n      <td id=\"T_f7476_row1_col14\" class=\"data row1 col14\" >0.000000</td>\n      <td id=\"T_f7476_row1_col15\" class=\"data row1 col15\" >-22.030000</td>\n      <td id=\"T_f7476_row1_col16\" class=\"data row1 col16\" >-24.990000</td>\n      <td id=\"T_f7476_row1_col17\" class=\"data row1 col17\" >-32.450000</td>\n      <td id=\"T_f7476_row1_col18\" class=\"data row1 col18\" >29.800000</td>\n      <td id=\"T_f7476_row1_col19\" class=\"data row1 col19\" >24.960000</td>\n      <td id=\"T_f7476_row1_col20\" class=\"data row1 col20\" >25.390000</td>\n    </tr>\n    <tr>\n      <th id=\"T_f7476_level0_row2\" class=\"row_heading level0 row2\" >3</th>\n      <td id=\"T_f7476_row2_col0\" class=\"data row2 col0\" >TMD_C_JMD_C-Seg...6,9)-LEVM760105</td>\n      <td id=\"T_f7476_row2_col1\" class=\"data row2 col1\" >Shape</td>\n      <td id=\"T_f7476_row2_col2\" class=\"data row2 col2\" >Side chain length</td>\n      <td id=\"T_f7476_row2_col3\" class=\"data row2 col3\" >Side chain length</td>\n      <td id=\"T_f7476_row2_col4\" class=\"data row2 col4\" >Radius of gyrat... (Levitt, 1976)</td>\n      <td id=\"T_f7476_row2_col5\" class=\"data row2 col5\" >0.233000</td>\n      <td id=\"T_f7476_row2_col6\" class=\"data row2 col6\" >0.137044</td>\n      <td id=\"T_f7476_row2_col7\" class=\"data row2 col7\" >0.137044</td>\n      <td id=\"T_f7476_row2_col8\" class=\"data row2 col8\" >0.161683</td>\n      <td id=\"T_f7476_row2_col9\" class=\"data row2 col9\" >0.176964</td>\n      <td id=\"T_f7476_row2_col10\" class=\"data row2 col10\" >0.000000</td>\n      <td id=\"T_f7476_row2_col11\" class=\"data row2 col11\" >0.000001</td>\n      <td id=\"T_f7476_row2_col12\" class=\"data row2 col12\" >32,33</td>\n      <td id=\"T_f7476_row2_col13\" class=\"data row2 col13\" >1.554800</td>\n      <td id=\"T_f7476_row2_col14\" class=\"data row2 col14\" >2.109848</td>\n      <td id=\"T_f7476_row2_col15\" class=\"data row2 col15\" >-18.860000</td>\n      <td id=\"T_f7476_row2_col16\" class=\"data row2 col16\" >-17.020000</td>\n      <td id=\"T_f7476_row2_col17\" class=\"data row2 col17\" >-9.570000</td>\n      <td id=\"T_f7476_row2_col18\" class=\"data row2 col18\" >9.890000</td>\n      <td id=\"T_f7476_row2_col19\" class=\"data row2 col19\" >16.570000</td>\n      <td id=\"T_f7476_row2_col20\" class=\"data row2 col20\" >16.710000</td>\n    </tr>\n    <tr>\n      <th id=\"T_f7476_level0_row3\" class=\"row_heading level0 row3\" >4</th>\n      <td id=\"T_f7476_row3_col0\" class=\"data row3 col0\" >TMD_C_JMD_C-Seg...3,4)-HUTJ700102</td>\n      <td id=\"T_f7476_row3_col1\" class=\"data row3 col1\" >Energy</td>\n      <td id=\"T_f7476_row3_col2\" class=\"data row3 col2\" >Entropy</td>\n      <td id=\"T_f7476_row3_col3\" class=\"data row3 col3\" >Entropy</td>\n      <td id=\"T_f7476_row3_col4\" class=\"data row3 col4\" >Absolute entrop...Hutchens, 1970)</td>\n      <td id=\"T_f7476_row3_col5\" class=\"data row3 col5\" >0.229000</td>\n      <td id=\"T_f7476_row3_col6\" class=\"data row3 col6\" >0.098224</td>\n      <td id=\"T_f7476_row3_col7\" class=\"data row3 col7\" >0.098224</td>\n      <td id=\"T_f7476_row3_col8\" class=\"data row3 col8\" >0.106865</td>\n      <td id=\"T_f7476_row3_col9\" class=\"data row3 col9\" >0.124608</td>\n      <td id=\"T_f7476_row3_col10\" class=\"data row3 col10\" >0.000000</td>\n      <td id=\"T_f7476_row3_col11\" class=\"data row3 col11\" >0.000001</td>\n      <td id=\"T_f7476_row3_col12\" class=\"data row3 col12\" >31,32,33,34,35</td>\n      <td id=\"T_f7476_row3_col13\" class=\"data row3 col13\" >3.111200</td>\n      <td id=\"T_f7476_row3_col14\" class=\"data row3 col14\" >3.109955</td>\n      <td id=\"T_f7476_row3_col15\" class=\"data row3 col15\" >-20.710000</td>\n      <td id=\"T_f7476_row3_col16\" class=\"data row3 col16\" >-17.550000</td>\n      <td id=\"T_f7476_row3_col17\" class=\"data row3 col17\" >-20.060000</td>\n      <td id=\"T_f7476_row3_col18\" class=\"data row3 col18\" >18.770000</td>\n      <td id=\"T_f7476_row3_col19\" class=\"data row3 col19\" >17.150000</td>\n      <td id=\"T_f7476_row3_col20\" class=\"data row3 col20\" >17.310000</td>\n    </tr>\n    <tr>\n      <th id=\"T_f7476_level0_row4\" class=\"row_heading level0 row4\" >5</th>\n      <td id=\"T_f7476_row4_col0\" class=\"data row4 col0\" >TMD_C_JMD_C-Seg...6,9)-RADA880106</td>\n      <td id=\"T_f7476_row4_col1\" class=\"data row4 col1\" >ASA/Volume</td>\n      <td id=\"T_f7476_row4_col2\" class=\"data row4 col2\" >Volume</td>\n      <td id=\"T_f7476_row4_col3\" class=\"data row4 col3\" >Accessible surface area (ASA)</td>\n      <td id=\"T_f7476_row4_col4\" class=\"data row4 col4\" >Accessible surf...olfenden, 1988)</td>\n      <td id=\"T_f7476_row4_col5\" class=\"data row4 col5\" >0.223000</td>\n      <td id=\"T_f7476_row4_col6\" class=\"data row4 col6\" >0.095071</td>\n      <td id=\"T_f7476_row4_col7\" class=\"data row4 col7\" >0.095071</td>\n      <td id=\"T_f7476_row4_col8\" class=\"data row4 col8\" >0.114758</td>\n      <td id=\"T_f7476_row4_col9\" class=\"data row4 col9\" >0.132829</td>\n      <td id=\"T_f7476_row4_col10\" class=\"data row4 col10\" >0.000000</td>\n      <td id=\"T_f7476_row4_col11\" class=\"data row4 col11\" >0.000002</td>\n      <td id=\"T_f7476_row4_col12\" class=\"data row4 col12\" >32,33</td>\n      <td id=\"T_f7476_row4_col13\" class=\"data row4 col13\" >0.000000</td>\n      <td id=\"T_f7476_row4_col14\" class=\"data row4 col14\" >0.000000</td>\n      <td id=\"T_f7476_row4_col15\" class=\"data row4 col15\" >-15.100000</td>\n      <td id=\"T_f7476_row4_col16\" class=\"data row4 col16\" >-15.170000</td>\n      <td id=\"T_f7476_row4_col17\" class=\"data row4 col17\" >-5.330000</td>\n      <td id=\"T_f7476_row4_col18\" class=\"data row4 col18\" >11.010000</td>\n      <td id=\"T_f7476_row4_col19\" class=\"data row4 col19\" >15.850000</td>\n      <td id=\"T_f7476_row4_col20\" class=\"data row4 col20\" >14.500000</td>\n    </tr>\n  </tbody>\n</table>\n"
     },
     "metadata": {},
     "output_type": "display_data"
    }
   ],
   "source": [
    "# Add feature impact of each sample\n",
    "df_feat = se.add_feat_impact(df_feat=df_feat)\n",
    "\n",
    "print(\"Include feature impact for Protein0 to Protein5\")\n",
    "aa.display_df(df_feat)"
   ],
   "metadata": {
    "collapsed": false,
    "ExecuteTime": {
     "end_time": "2024-01-22T22:37:30.396065072Z",
     "start_time": "2024-01-22T22:37:30.348267918Z"
    }
   },
   "id": "4295223fbcde99ab"
  },
  {
   "cell_type": "markdown",
   "source": [
    "To include the impact of a specific sample, use the ``pos`` parameter indicating the position index of the sample within the ``shap_values`` attribute (the same as in the ``labels`` provided to the ``ShapExplainer.fit()`` method). You need to set ``drop=True`` to override the feature impact columns:"
   ],
   "metadata": {
    "collapsed": false
   },
   "id": "e864afb240329af5"
  },
  {
   "cell_type": "code",
   "execution_count": 16,
   "outputs": [
    {
     "name": "stdout",
     "output_type": "stream",
     "text": [
      "Include feature impact for first Protein\n"
     ]
    },
    {
     "data": {
      "text/plain": "<IPython.core.display.HTML object>",
      "text/html": "<style type=\"text/css\">\n#T_f09f4 thead th {\n  background-color: white;\n  color: black;\n}\n#T_f09f4 tbody tr:nth-child(odd) {\n  background-color: #f2f2f2;\n}\n#T_f09f4 tbody tr:nth-child(even) {\n  background-color: white;\n}\n#T_f09f4 th {\n  padding: 5px;\n  white-space: nowrap;\n}\n#T_f09f4  td {\n  padding: 5px;\n  white-space: nowrap;\n}\n</style>\n<table id=\"T_f09f4\" style='display:block; max-height: 300px; max-width: 100%; overflow-x: auto; overflow-y: auto;'>\n  <thead>\n    <tr>\n      <th class=\"blank level0\" >&nbsp;</th>\n      <th id=\"T_f09f4_level0_col0\" class=\"col_heading level0 col0\" >feat_importance</th>\n      <th id=\"T_f09f4_level0_col1\" class=\"col_heading level0 col1\" >feat_importance_std</th>\n      <th id=\"T_f09f4_level0_col2\" class=\"col_heading level0 col2\" >feat_impact_Protein0</th>\n    </tr>\n  </thead>\n  <tbody>\n    <tr>\n      <th id=\"T_f09f4_level0_row0\" class=\"row_heading level0 row0\" >1</th>\n      <td id=\"T_f09f4_row0_col0\" class=\"data row0 col0\" >0.970400</td>\n      <td id=\"T_f09f4_row0_col1\" class=\"data row0 col1\" >1.438918</td>\n      <td id=\"T_f09f4_row0_col2\" class=\"data row0 col2\" >-23.300000</td>\n    </tr>\n    <tr>\n      <th id=\"T_f09f4_level0_row1\" class=\"row_heading level0 row1\" >2</th>\n      <td id=\"T_f09f4_row1_col0\" class=\"data row1 col0\" >0.000000</td>\n      <td id=\"T_f09f4_row1_col1\" class=\"data row1 col1\" >0.000000</td>\n      <td id=\"T_f09f4_row1_col2\" class=\"data row1 col2\" >-22.030000</td>\n    </tr>\n    <tr>\n      <th id=\"T_f09f4_level0_row2\" class=\"row_heading level0 row2\" >3</th>\n      <td id=\"T_f09f4_row2_col0\" class=\"data row2 col0\" >1.554800</td>\n      <td id=\"T_f09f4_row2_col1\" class=\"data row2 col1\" >2.109848</td>\n      <td id=\"T_f09f4_row2_col2\" class=\"data row2 col2\" >-18.860000</td>\n    </tr>\n    <tr>\n      <th id=\"T_f09f4_level0_row3\" class=\"row_heading level0 row3\" >4</th>\n      <td id=\"T_f09f4_row3_col0\" class=\"data row3 col0\" >3.111200</td>\n      <td id=\"T_f09f4_row3_col1\" class=\"data row3 col1\" >3.109955</td>\n      <td id=\"T_f09f4_row3_col2\" class=\"data row3 col2\" >-20.710000</td>\n    </tr>\n    <tr>\n      <th id=\"T_f09f4_level0_row4\" class=\"row_heading level0 row4\" >5</th>\n      <td id=\"T_f09f4_row4_col0\" class=\"data row4 col0\" >0.000000</td>\n      <td id=\"T_f09f4_row4_col1\" class=\"data row4 col1\" >0.000000</td>\n      <td id=\"T_f09f4_row4_col2\" class=\"data row4 col2\" >-15.100000</td>\n    </tr>\n  </tbody>\n</table>\n"
     },
     "metadata": {},
     "output_type": "display_data"
    }
   ],
   "source": [
    "df_feat = se.add_feat_impact(df_feat=df_feat, drop=True, pos=0)\n",
    "\n",
    "print(\"Include feature impact for first Protein\")\n",
    "aa.display_df(df_feat, n_cols=-3)"
   ],
   "metadata": {
    "collapsed": false,
    "ExecuteTime": {
     "end_time": "2024-01-22T22:37:30.397529368Z",
     "start_time": "2024-01-22T22:37:30.390922273Z"
    }
   },
   "id": "c3fab715ee6d32a8"
  },
  {
   "cell_type": "markdown",
   "source": [
    "You can provide a specific ``name`` for the corresponding sample:"
   ],
   "metadata": {
    "collapsed": false
   },
   "id": "241741bf95641ef3"
  },
  {
   "cell_type": "code",
   "execution_count": 17,
   "outputs": [
    {
     "name": "stdout",
     "output_type": "stream",
     "text": [
      "Single sample\n",
      "                               feature      category        subcategory  \\\n",
      "0  TMD_C_JMD_C-Segment(3,4)-KLEP840101        Energy             Charge   \n",
      "1  TMD_C_JMD_C-Segment(3,4)-FINA910104  Conformation    α-helix (C-cap)   \n",
      "2  TMD_C_JMD_C-Segment(6,9)-LEVM760105         Shape  Side chain length   \n",
      "3  TMD_C_JMD_C-Segment(3,4)-HUTJ700102        Energy            Entropy   \n",
      "4  TMD_C_JMD_C-Segment(6,9)-RADA880106    ASA/Volume             Volume   \n",
      "\n",
      "                      scale_name  \\\n",
      "0                         Charge   \n",
      "1            α-helix termination   \n",
      "2              Side chain length   \n",
      "3                        Entropy   \n",
      "4  Accessible surface area (ASA)   \n",
      "\n",
      "                                   scale_description  abs_auc  abs_mean_dif  \\\n",
      "0                    Net charge (Klein et al., 1984)    0.244      0.103666   \n",
      "1  Helix termination parameter at posision j+1 (F...    0.243      0.085064   \n",
      "2    Radius of gyration of side chain (Levitt, 1976)    0.233      0.137044   \n",
      "3                  Absolute entropy (Hutchens, 1970)    0.229      0.098224   \n",
      "4  Accessible surface area (Radzicka-Wolfenden, 1...    0.223      0.095071   \n",
      "\n",
      "   mean_dif  std_test   std_ref  p_val_mann_whitney  p_val_fdr_bh  \\\n",
      "0  0.103666  0.106692  0.110506        0.000000e+00  0.000000e+00   \n",
      "1  0.085064  0.098774  0.096946        1.000000e-10  2.194333e-07   \n",
      "2  0.137044  0.161683  0.176964        1.100000e-09  9.051625e-07   \n",
      "3  0.098224  0.106865  0.124608        1.800000e-09  9.874500e-07   \n",
      "4  0.095071  0.114758  0.132829        5.100000e-09  1.767016e-06   \n",
      "\n",
      "        positions  feat_importance  feat_importance_std  \\\n",
      "0  31,32,33,34,35           0.9704             1.438918   \n",
      "1  31,32,33,34,35           0.0000             0.000000   \n",
      "2           32,33           1.5548             2.109848   \n",
      "3  31,32,33,34,35           3.1112             3.109955   \n",
      "4           32,33           0.0000             0.000000   \n",
      "\n",
      "   feat_impact_Selected_sample  \n",
      "0                       -23.30  \n",
      "1                       -22.03  \n",
      "2                       -18.86  \n",
      "3                       -20.71  \n",
      "4                       -15.10  \n"
     ]
    },
    {
     "data": {
      "text/plain": "<IPython.core.display.HTML object>",
      "text/html": "<style type=\"text/css\">\n#T_a1e48 thead th {\n  background-color: white;\n  color: black;\n}\n#T_a1e48 tbody tr:nth-child(odd) {\n  background-color: #f2f2f2;\n}\n#T_a1e48 tbody tr:nth-child(even) {\n  background-color: white;\n}\n#T_a1e48 th {\n  padding: 5px;\n  white-space: nowrap;\n}\n#T_a1e48  td {\n  padding: 5px;\n  white-space: nowrap;\n}\n</style>\n<table id=\"T_a1e48\" style='display:block; max-height: 300px; max-width: 100%; overflow-x: auto; overflow-y: auto;'>\n  <thead>\n    <tr>\n      <th class=\"blank level0\" >&nbsp;</th>\n      <th id=\"T_a1e48_level0_col0\" class=\"col_heading level0 col0\" >feat_importance</th>\n      <th id=\"T_a1e48_level0_col1\" class=\"col_heading level0 col1\" >feat_importance_std</th>\n      <th id=\"T_a1e48_level0_col2\" class=\"col_heading level0 col2\" >feat_impact_Selected_sample</th>\n    </tr>\n  </thead>\n  <tbody>\n    <tr>\n      <th id=\"T_a1e48_level0_row0\" class=\"row_heading level0 row0\" >1</th>\n      <td id=\"T_a1e48_row0_col0\" class=\"data row0 col0\" >0.970400</td>\n      <td id=\"T_a1e48_row0_col1\" class=\"data row0 col1\" >1.438918</td>\n      <td id=\"T_a1e48_row0_col2\" class=\"data row0 col2\" >-23.300000</td>\n    </tr>\n    <tr>\n      <th id=\"T_a1e48_level0_row1\" class=\"row_heading level0 row1\" >2</th>\n      <td id=\"T_a1e48_row1_col0\" class=\"data row1 col0\" >0.000000</td>\n      <td id=\"T_a1e48_row1_col1\" class=\"data row1 col1\" >0.000000</td>\n      <td id=\"T_a1e48_row1_col2\" class=\"data row1 col2\" >-22.030000</td>\n    </tr>\n    <tr>\n      <th id=\"T_a1e48_level0_row2\" class=\"row_heading level0 row2\" >3</th>\n      <td id=\"T_a1e48_row2_col0\" class=\"data row2 col0\" >1.554800</td>\n      <td id=\"T_a1e48_row2_col1\" class=\"data row2 col1\" >2.109848</td>\n      <td id=\"T_a1e48_row2_col2\" class=\"data row2 col2\" >-18.860000</td>\n    </tr>\n    <tr>\n      <th id=\"T_a1e48_level0_row3\" class=\"row_heading level0 row3\" >4</th>\n      <td id=\"T_a1e48_row3_col0\" class=\"data row3 col0\" >3.111200</td>\n      <td id=\"T_a1e48_row3_col1\" class=\"data row3 col1\" >3.109955</td>\n      <td id=\"T_a1e48_row3_col2\" class=\"data row3 col2\" >-20.710000</td>\n    </tr>\n    <tr>\n      <th id=\"T_a1e48_level0_row4\" class=\"row_heading level0 row4\" >5</th>\n      <td id=\"T_a1e48_row4_col0\" class=\"data row4 col0\" >0.000000</td>\n      <td id=\"T_a1e48_row4_col1\" class=\"data row4 col1\" >0.000000</td>\n      <td id=\"T_a1e48_row4_col2\" class=\"data row4 col2\" >-15.100000</td>\n    </tr>\n  </tbody>\n</table>\n"
     },
     "metadata": {},
     "output_type": "display_data"
    }
   ],
   "source": [
    "df_feat = se.add_feat_impact(df_feat=df_feat, drop=True, pos=0, name=\"Selected_sample\")\n",
    "\n",
    "print(\"Single sample\")\n",
    "print(df_feat)\n",
    "aa.display_df(df_feat, n_cols=-3)"
   ],
   "metadata": {
    "collapsed": false,
    "ExecuteTime": {
     "end_time": "2024-01-22T22:37:30.498697533Z",
     "start_time": "2024-01-22T22:37:30.474181045Z"
    }
   },
   "id": "284315f79bab7f53"
  },
  {
   "cell_type": "markdown",
   "source": [
    "**Computing feature impact**\n",
    "\n",
    "Three different scenarios are possible:\n",
    "\n",
    "a) **Single sample**: Compute the feature impact for one sample (shown above).\n",
    "b) **Multiple samples**: Computes the feature impact for multiple sample (all by default).\n",
    "c) **Group of samples**: Compute the average feature impact and standard deviation for a group.\n",
    "\n",
    "To focus on specific samples, specify their indices in ``pos``. If ``name`` is provided, its length should match ``pos``."
   ],
   "metadata": {
    "collapsed": false
   },
   "id": "d30d838543db6469"
  },
  {
   "cell_type": "code",
   "execution_count": 18,
   "outputs": [
    {
     "name": "stdout",
     "output_type": "stream",
     "text": [
      "Multiple samples\n"
     ]
    },
    {
     "data": {
      "text/plain": "<IPython.core.display.HTML object>",
      "text/html": "<style type=\"text/css\">\n#T_67efc thead th {\n  background-color: white;\n  color: black;\n}\n#T_67efc tbody tr:nth-child(odd) {\n  background-color: #f2f2f2;\n}\n#T_67efc tbody tr:nth-child(even) {\n  background-color: white;\n}\n#T_67efc th {\n  padding: 5px;\n  white-space: nowrap;\n}\n#T_67efc  td {\n  padding: 5px;\n  white-space: nowrap;\n}\n</style>\n<table id=\"T_67efc\" style='display:block; max-height: 300px; max-width: 100%; overflow-x: auto; overflow-y: auto;'>\n  <thead>\n    <tr>\n      <th class=\"blank level0\" >&nbsp;</th>\n      <th id=\"T_67efc_level0_col0\" class=\"col_heading level0 col0\" >std_ref</th>\n      <th id=\"T_67efc_level0_col1\" class=\"col_heading level0 col1\" >p_val_mann_whitney</th>\n      <th id=\"T_67efc_level0_col2\" class=\"col_heading level0 col2\" >p_val_fdr_bh</th>\n      <th id=\"T_67efc_level0_col3\" class=\"col_heading level0 col3\" >positions</th>\n      <th id=\"T_67efc_level0_col4\" class=\"col_heading level0 col4\" >feat_importance</th>\n      <th id=\"T_67efc_level0_col5\" class=\"col_heading level0 col5\" >feat_importance_std</th>\n      <th id=\"T_67efc_level0_col6\" class=\"col_heading level0 col6\" >feat_impact_Sample 1</th>\n      <th id=\"T_67efc_level0_col7\" class=\"col_heading level0 col7\" >feat_impact_Sample 2</th>\n    </tr>\n  </thead>\n  <tbody>\n    <tr>\n      <th id=\"T_67efc_level0_row0\" class=\"row_heading level0 row0\" >1</th>\n      <td id=\"T_67efc_row0_col0\" class=\"data row0 col0\" >0.110506</td>\n      <td id=\"T_67efc_row0_col1\" class=\"data row0 col1\" >0.000000</td>\n      <td id=\"T_67efc_row0_col2\" class=\"data row0 col2\" >0.000000</td>\n      <td id=\"T_67efc_row0_col3\" class=\"data row0 col3\" >31,32,33,34,35</td>\n      <td id=\"T_67efc_row0_col4\" class=\"data row0 col4\" >0.970400</td>\n      <td id=\"T_67efc_row0_col5\" class=\"data row0 col5\" >1.438918</td>\n      <td id=\"T_67efc_row0_col6\" class=\"data row0 col6\" >-23.300000</td>\n      <td id=\"T_67efc_row0_col7\" class=\"data row0 col7\" >-25.280000</td>\n    </tr>\n    <tr>\n      <th id=\"T_67efc_level0_row1\" class=\"row_heading level0 row1\" >2</th>\n      <td id=\"T_67efc_row1_col0\" class=\"data row1 col0\" >0.096946</td>\n      <td id=\"T_67efc_row1_col1\" class=\"data row1 col1\" >0.000000</td>\n      <td id=\"T_67efc_row1_col2\" class=\"data row1 col2\" >0.000000</td>\n      <td id=\"T_67efc_row1_col3\" class=\"data row1 col3\" >31,32,33,34,35</td>\n      <td id=\"T_67efc_row1_col4\" class=\"data row1 col4\" >0.000000</td>\n      <td id=\"T_67efc_row1_col5\" class=\"data row1 col5\" >0.000000</td>\n      <td id=\"T_67efc_row1_col6\" class=\"data row1 col6\" >-22.030000</td>\n      <td id=\"T_67efc_row1_col7\" class=\"data row1 col7\" >-24.990000</td>\n    </tr>\n    <tr>\n      <th id=\"T_67efc_level0_row2\" class=\"row_heading level0 row2\" >3</th>\n      <td id=\"T_67efc_row2_col0\" class=\"data row2 col0\" >0.176964</td>\n      <td id=\"T_67efc_row2_col1\" class=\"data row2 col1\" >0.000000</td>\n      <td id=\"T_67efc_row2_col2\" class=\"data row2 col2\" >0.000001</td>\n      <td id=\"T_67efc_row2_col3\" class=\"data row2 col3\" >32,33</td>\n      <td id=\"T_67efc_row2_col4\" class=\"data row2 col4\" >1.554800</td>\n      <td id=\"T_67efc_row2_col5\" class=\"data row2 col5\" >2.109848</td>\n      <td id=\"T_67efc_row2_col6\" class=\"data row2 col6\" >-18.860000</td>\n      <td id=\"T_67efc_row2_col7\" class=\"data row2 col7\" >-17.020000</td>\n    </tr>\n    <tr>\n      <th id=\"T_67efc_level0_row3\" class=\"row_heading level0 row3\" >4</th>\n      <td id=\"T_67efc_row3_col0\" class=\"data row3 col0\" >0.124608</td>\n      <td id=\"T_67efc_row3_col1\" class=\"data row3 col1\" >0.000000</td>\n      <td id=\"T_67efc_row3_col2\" class=\"data row3 col2\" >0.000001</td>\n      <td id=\"T_67efc_row3_col3\" class=\"data row3 col3\" >31,32,33,34,35</td>\n      <td id=\"T_67efc_row3_col4\" class=\"data row3 col4\" >3.111200</td>\n      <td id=\"T_67efc_row3_col5\" class=\"data row3 col5\" >3.109955</td>\n      <td id=\"T_67efc_row3_col6\" class=\"data row3 col6\" >-20.710000</td>\n      <td id=\"T_67efc_row3_col7\" class=\"data row3 col7\" >-17.550000</td>\n    </tr>\n    <tr>\n      <th id=\"T_67efc_level0_row4\" class=\"row_heading level0 row4\" >5</th>\n      <td id=\"T_67efc_row4_col0\" class=\"data row4 col0\" >0.132829</td>\n      <td id=\"T_67efc_row4_col1\" class=\"data row4 col1\" >0.000000</td>\n      <td id=\"T_67efc_row4_col2\" class=\"data row4 col2\" >0.000002</td>\n      <td id=\"T_67efc_row4_col3\" class=\"data row4 col3\" >32,33</td>\n      <td id=\"T_67efc_row4_col4\" class=\"data row4 col4\" >0.000000</td>\n      <td id=\"T_67efc_row4_col5\" class=\"data row4 col5\" >0.000000</td>\n      <td id=\"T_67efc_row4_col6\" class=\"data row4 col6\" >-15.100000</td>\n      <td id=\"T_67efc_row4_col7\" class=\"data row4 col7\" >-15.170000</td>\n    </tr>\n  </tbody>\n</table>\n"
     },
     "metadata": {},
     "output_type": "display_data"
    }
   ],
   "source": [
    "df_feat = se.add_feat_impact(df_feat=df_feat, drop=True, pos=[0, 1], name=[\"Sample 1\", \"Sample 2\"])\n",
    "\n",
    "print(\"Multiple samples\")\n",
    "aa.display_df(df_feat, n_cols=-8)"
   ],
   "metadata": {
    "collapsed": false,
    "ExecuteTime": {
     "end_time": "2024-01-22T22:37:30.499114813Z",
     "start_time": "2024-01-22T22:37:30.474950409Z"
    }
   },
   "id": "eca83e9002cdb2be"
  },
  {
   "cell_type": "markdown",
   "source": [
    "To calculate the group average, set ``group_average=True`` and specify the sample indices in `pos`. Provide a ``name`` for the group, or 'Group' will be used by default:"
   ],
   "metadata": {
    "collapsed": false
   },
   "id": "feefa50a912ca44c"
  },
  {
   "cell_type": "code",
   "execution_count": 19,
   "outputs": [
    {
     "name": "stdout",
     "output_type": "stream",
     "text": [
      "Group of samples\n"
     ]
    },
    {
     "data": {
      "text/plain": "<IPython.core.display.HTML object>",
      "text/html": "<style type=\"text/css\">\n#T_7393a thead th {\n  background-color: white;\n  color: black;\n}\n#T_7393a tbody tr:nth-child(odd) {\n  background-color: #f2f2f2;\n}\n#T_7393a tbody tr:nth-child(even) {\n  background-color: white;\n}\n#T_7393a th {\n  padding: 5px;\n  white-space: nowrap;\n}\n#T_7393a  td {\n  padding: 5px;\n  white-space: nowrap;\n}\n</style>\n<table id=\"T_7393a\" style='display:block; max-height: 300px; max-width: 100%; overflow-x: auto; overflow-y: auto;'>\n  <thead>\n    <tr>\n      <th class=\"blank level0\" >&nbsp;</th>\n      <th id=\"T_7393a_level0_col0\" class=\"col_heading level0 col0\" >std_ref</th>\n      <th id=\"T_7393a_level0_col1\" class=\"col_heading level0 col1\" >p_val_mann_whitney</th>\n      <th id=\"T_7393a_level0_col2\" class=\"col_heading level0 col2\" >p_val_fdr_bh</th>\n      <th id=\"T_7393a_level0_col3\" class=\"col_heading level0 col3\" >positions</th>\n      <th id=\"T_7393a_level0_col4\" class=\"col_heading level0 col4\" >feat_importance</th>\n      <th id=\"T_7393a_level0_col5\" class=\"col_heading level0 col5\" >feat_importance_std</th>\n      <th id=\"T_7393a_level0_col6\" class=\"col_heading level0 col6\" >feat_impact_Group</th>\n      <th id=\"T_7393a_level0_col7\" class=\"col_heading level0 col7\" >feat_impact_std_Group</th>\n    </tr>\n  </thead>\n  <tbody>\n    <tr>\n      <th id=\"T_7393a_level0_row0\" class=\"row_heading level0 row0\" >1</th>\n      <td id=\"T_7393a_row0_col0\" class=\"data row0 col0\" >0.110506</td>\n      <td id=\"T_7393a_row0_col1\" class=\"data row0 col1\" >0.000000</td>\n      <td id=\"T_7393a_row0_col2\" class=\"data row0 col2\" >0.000000</td>\n      <td id=\"T_7393a_row0_col3\" class=\"data row0 col3\" >31,32,33,34,35</td>\n      <td id=\"T_7393a_row0_col4\" class=\"data row0 col4\" >0.970400</td>\n      <td id=\"T_7393a_row0_col5\" class=\"data row0 col5\" >1.438918</td>\n      <td id=\"T_7393a_row0_col6\" class=\"data row0 col6\" >-24.340000</td>\n      <td id=\"T_7393a_row0_col7\" class=\"data row0 col7\" >2.207514</td>\n    </tr>\n    <tr>\n      <th id=\"T_7393a_level0_row1\" class=\"row_heading level0 row1\" >2</th>\n      <td id=\"T_7393a_row1_col0\" class=\"data row1 col0\" >0.096946</td>\n      <td id=\"T_7393a_row1_col1\" class=\"data row1 col1\" >0.000000</td>\n      <td id=\"T_7393a_row1_col2\" class=\"data row1 col2\" >0.000000</td>\n      <td id=\"T_7393a_row1_col3\" class=\"data row1 col3\" >31,32,33,34,35</td>\n      <td id=\"T_7393a_row1_col4\" class=\"data row1 col4\" >0.000000</td>\n      <td id=\"T_7393a_row1_col5\" class=\"data row1 col5\" >0.000000</td>\n      <td id=\"T_7393a_row1_col6\" class=\"data row1 col6\" >-23.580000</td>\n      <td id=\"T_7393a_row1_col7\" class=\"data row1 col7\" >2.655275</td>\n    </tr>\n    <tr>\n      <th id=\"T_7393a_level0_row2\" class=\"row_heading level0 row2\" >3</th>\n      <td id=\"T_7393a_row2_col0\" class=\"data row2 col0\" >0.176964</td>\n      <td id=\"T_7393a_row2_col1\" class=\"data row2 col1\" >0.000000</td>\n      <td id=\"T_7393a_row2_col2\" class=\"data row2 col2\" >0.000001</td>\n      <td id=\"T_7393a_row2_col3\" class=\"data row2 col3\" >32,33</td>\n      <td id=\"T_7393a_row2_col4\" class=\"data row2 col4\" >1.554800</td>\n      <td id=\"T_7393a_row2_col5\" class=\"data row2 col5\" >2.109848</td>\n      <td id=\"T_7393a_row2_col6\" class=\"data row2 col6\" >-17.890000</td>\n      <td id=\"T_7393a_row2_col7\" class=\"data row2 col7\" >0.023247</td>\n    </tr>\n    <tr>\n      <th id=\"T_7393a_level0_row3\" class=\"row_heading level0 row3\" >4</th>\n      <td id=\"T_7393a_row3_col0\" class=\"data row3 col0\" >0.124608</td>\n      <td id=\"T_7393a_row3_col1\" class=\"data row3 col1\" >0.000000</td>\n      <td id=\"T_7393a_row3_col2\" class=\"data row3 col2\" >0.000001</td>\n      <td id=\"T_7393a_row3_col3\" class=\"data row3 col3\" >31,32,33,34,35</td>\n      <td id=\"T_7393a_row3_col4\" class=\"data row3 col4\" >3.111200</td>\n      <td id=\"T_7393a_row3_col5\" class=\"data row3 col5\" >3.109955</td>\n      <td id=\"T_7393a_row3_col6\" class=\"data row3 col6\" >-19.050000</td>\n      <td id=\"T_7393a_row3_col7\" class=\"data row3 col7\" >0.622335</td>\n    </tr>\n    <tr>\n      <th id=\"T_7393a_level0_row4\" class=\"row_heading level0 row4\" >5</th>\n      <td id=\"T_7393a_row4_col0\" class=\"data row4 col0\" >0.132829</td>\n      <td id=\"T_7393a_row4_col1\" class=\"data row4 col1\" >0.000000</td>\n      <td id=\"T_7393a_row4_col2\" class=\"data row4 col2\" >0.000002</td>\n      <td id=\"T_7393a_row4_col3\" class=\"data row4 col3\" >32,33</td>\n      <td id=\"T_7393a_row4_col4\" class=\"data row4 col4\" >0.000000</td>\n      <td id=\"T_7393a_row4_col5\" class=\"data row4 col5\" >0.000000</td>\n      <td id=\"T_7393a_row4_col6\" class=\"data row4 col6\" >-15.140000</td>\n      <td id=\"T_7393a_row4_col7\" class=\"data row4 col7\" >0.793453</td>\n    </tr>\n  </tbody>\n</table>\n"
     },
     "metadata": {},
     "output_type": "display_data"
    }
   ],
   "source": [
    "df_feat = se.add_feat_impact(df_feat=df_feat, drop=True, pos=[0, 1], group_average=True)\n",
    "\n",
    "print(\"Group of samples\")\n",
    "aa.display_df(df_feat, n_cols=-8)"
   ],
   "metadata": {
    "collapsed": false,
    "ExecuteTime": {
     "end_time": "2024-01-22T22:37:30.735927637Z",
     "start_time": "2024-01-22T22:37:30.652248154Z"
    }
   },
   "id": "de421fe7373f1839"
  },
  {
   "cell_type": "markdown",
   "source": [
    "Setting ``shap_feat_importance=True``, will compute the SHAP value-based feature importance:"
   ],
   "metadata": {
    "collapsed": false
   },
   "id": "3eec7430f1db3df8"
  },
  {
   "cell_type": "code",
   "execution_count": 20,
   "outputs": [
    {
     "name": "stdout",
     "output_type": "stream",
     "text": [
      "SHAP value-based feature importance\n"
     ]
    },
    {
     "data": {
      "text/plain": "<IPython.core.display.HTML object>",
      "text/html": "<style type=\"text/css\">\n#T_d4f2b thead th {\n  background-color: white;\n  color: black;\n}\n#T_d4f2b tbody tr:nth-child(odd) {\n  background-color: #f2f2f2;\n}\n#T_d4f2b tbody tr:nth-child(even) {\n  background-color: white;\n}\n#T_d4f2b th {\n  padding: 5px;\n  white-space: nowrap;\n}\n#T_d4f2b  td {\n  padding: 5px;\n  white-space: nowrap;\n}\n</style>\n<table id=\"T_d4f2b\" style='display:block; max-height: 300px; max-width: 100%; overflow-x: auto; overflow-y: auto;'>\n  <thead>\n    <tr>\n      <th class=\"blank level0\" >&nbsp;</th>\n      <th id=\"T_d4f2b_level0_col0\" class=\"col_heading level0 col0\" >positions</th>\n      <th id=\"T_d4f2b_level0_col1\" class=\"col_heading level0 col1\" >feat_importance</th>\n      <th id=\"T_d4f2b_level0_col2\" class=\"col_heading level0 col2\" >feat_impact_Protein0</th>\n      <th id=\"T_d4f2b_level0_col3\" class=\"col_heading level0 col3\" >feat_impact_Protein1</th>\n      <th id=\"T_d4f2b_level0_col4\" class=\"col_heading level0 col4\" >feat_impact_Protein2</th>\n      <th id=\"T_d4f2b_level0_col5\" class=\"col_heading level0 col5\" >feat_impact_Protein3</th>\n      <th id=\"T_d4f2b_level0_col6\" class=\"col_heading level0 col6\" >feat_impact_Protein4</th>\n      <th id=\"T_d4f2b_level0_col7\" class=\"col_heading level0 col7\" >feat_impact_Protein5</th>\n    </tr>\n  </thead>\n  <tbody>\n    <tr>\n      <th id=\"T_d4f2b_level0_row0\" class=\"row_heading level0 row0\" >1</th>\n      <td id=\"T_d4f2b_row0_col0\" class=\"data row0 col0\" >31,32,33,34,35</td>\n      <td id=\"T_d4f2b_row0_col1\" class=\"data row0 col1\" >27.100000</td>\n      <td id=\"T_d4f2b_row0_col2\" class=\"data row0 col2\" >-23.300000</td>\n      <td id=\"T_d4f2b_row0_col3\" class=\"data row0 col3\" >-25.280000</td>\n      <td id=\"T_d4f2b_row0_col4\" class=\"data row0 col4\" >-32.590000</td>\n      <td id=\"T_d4f2b_row0_col5\" class=\"data row0 col5\" >30.530000</td>\n      <td id=\"T_d4f2b_row0_col6\" class=\"data row0 col6\" >25.460000</td>\n      <td id=\"T_d4f2b_row0_col7\" class=\"data row0 col7\" >26.080000</td>\n    </tr>\n    <tr>\n      <th id=\"T_d4f2b_level0_row1\" class=\"row_heading level0 row1\" >2</th>\n      <td id=\"T_d4f2b_row1_col0\" class=\"data row1 col0\" >31,32,33,34,35</td>\n      <td id=\"T_d4f2b_row1_col1\" class=\"data row1 col1\" >26.500000</td>\n      <td id=\"T_d4f2b_row1_col2\" class=\"data row1 col2\" >-22.030000</td>\n      <td id=\"T_d4f2b_row1_col3\" class=\"data row1 col3\" >-24.990000</td>\n      <td id=\"T_d4f2b_row1_col4\" class=\"data row1 col4\" >-32.450000</td>\n      <td id=\"T_d4f2b_row1_col5\" class=\"data row1 col5\" >29.800000</td>\n      <td id=\"T_d4f2b_row1_col6\" class=\"data row1 col6\" >24.960000</td>\n      <td id=\"T_d4f2b_row1_col7\" class=\"data row1 col7\" >25.390000</td>\n    </tr>\n    <tr>\n      <th id=\"T_d4f2b_level0_row2\" class=\"row_heading level0 row2\" >3</th>\n      <td id=\"T_d4f2b_row2_col0\" class=\"data row2 col0\" >32,33</td>\n      <td id=\"T_d4f2b_row2_col1\" class=\"data row2 col1\" >14.900000</td>\n      <td id=\"T_d4f2b_row2_col2\" class=\"data row2 col2\" >-18.860000</td>\n      <td id=\"T_d4f2b_row2_col3\" class=\"data row2 col3\" >-17.020000</td>\n      <td id=\"T_d4f2b_row2_col4\" class=\"data row2 col4\" >-9.570000</td>\n      <td id=\"T_d4f2b_row2_col5\" class=\"data row2 col5\" >9.890000</td>\n      <td id=\"T_d4f2b_row2_col6\" class=\"data row2 col6\" >16.570000</td>\n      <td id=\"T_d4f2b_row2_col7\" class=\"data row2 col7\" >16.710000</td>\n    </tr>\n    <tr>\n      <th id=\"T_d4f2b_level0_row3\" class=\"row_heading level0 row3\" >4</th>\n      <td id=\"T_d4f2b_row3_col0\" class=\"data row3 col0\" >31,32,33,34,35</td>\n      <td id=\"T_d4f2b_row3_col1\" class=\"data row3 col1\" >18.520000</td>\n      <td id=\"T_d4f2b_row3_col2\" class=\"data row3 col2\" >-20.710000</td>\n      <td id=\"T_d4f2b_row3_col3\" class=\"data row3 col3\" >-17.550000</td>\n      <td id=\"T_d4f2b_row3_col4\" class=\"data row3 col4\" >-20.060000</td>\n      <td id=\"T_d4f2b_row3_col5\" class=\"data row3 col5\" >18.770000</td>\n      <td id=\"T_d4f2b_row3_col6\" class=\"data row3 col6\" >17.150000</td>\n      <td id=\"T_d4f2b_row3_col7\" class=\"data row3 col7\" >17.310000</td>\n    </tr>\n    <tr>\n      <th id=\"T_d4f2b_level0_row4\" class=\"row_heading level0 row4\" >5</th>\n      <td id=\"T_d4f2b_row4_col0\" class=\"data row4 col0\" >32,33</td>\n      <td id=\"T_d4f2b_row4_col1\" class=\"data row4 col1\" >12.980000</td>\n      <td id=\"T_d4f2b_row4_col2\" class=\"data row4 col2\" >-15.100000</td>\n      <td id=\"T_d4f2b_row4_col3\" class=\"data row4 col3\" >-15.170000</td>\n      <td id=\"T_d4f2b_row4_col4\" class=\"data row4 col4\" >-5.330000</td>\n      <td id=\"T_d4f2b_row4_col5\" class=\"data row4 col5\" >11.010000</td>\n      <td id=\"T_d4f2b_row4_col6\" class=\"data row4 col6\" >15.850000</td>\n      <td id=\"T_d4f2b_row4_col7\" class=\"data row4 col7\" >14.500000</td>\n    </tr>\n  </tbody>\n</table>\n"
     },
     "metadata": {},
     "output_type": "display_data"
    }
   ],
   "source": [
    "df_feat = se.add_feat_impact(df_feat=df_feat, drop=True, shap_feat_importance=True)\n",
    "\n",
    "print(\"SHAP value-based feature importance\")\n",
    "aa.display_df(df_feat, n_cols=-8)"
   ],
   "metadata": {
    "collapsed": false,
    "ExecuteTime": {
     "end_time": "2024-01-22T22:37:31.935416506Z",
     "start_time": "2024-01-22T22:37:31.881560063Z"
    }
   },
   "id": "f6a089dafd2356f1"
  }
 ],
 "metadata": {
  "kernelspec": {
   "display_name": "Python 3",
   "language": "python",
   "name": "python3"
  },
  "language_info": {
   "codemirror_mode": {
    "name": "ipython",
    "version": 2
   },
   "file_extension": ".py",
   "mimetype": "text/x-python",
   "name": "python",
   "nbconvert_exporter": "python",
   "pygments_lexer": "ipython2",
   "version": "2.7.6"
  }
 },
 "nbformat": 4,
 "nbformat_minor": 5
}
