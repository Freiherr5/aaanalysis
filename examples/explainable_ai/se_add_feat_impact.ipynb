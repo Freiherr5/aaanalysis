{
 "cells": [
  {
   "cell_type": "markdown",
   "source": [
    "To demonstrate the ``ShapExplainer.add_feat_impact()`` method, we obtain the DOM_GSEC example dataset and its respective feature set (see [Breimann24c]_):"
   ],
   "metadata": {
    "collapsed": false
   },
   "id": "529c3ea28e2bbe2a"
  },
  {
   "cell_type": "code",
   "execution_count": null,
   "outputs": [],
   "source": [
    "import shap\n",
    "import aaanalysis as aa\n",
    "aa.options[\"verbose\"] = False # Disable verbosity\n",
    "\n",
    "df_seq = aa.load_dataset(name=\"DOM_GSEC\", n=3)\n",
    "labels = df_seq[\"label\"].to_list()\n",
    "df_feat = aa.load_features(name=\"DOM_GSEC\").head(10)\n",
    "\n",
    "# Create feature matrix\n",
    "sf = aa.SequenceFeature()\n",
    "df_parts = sf.get_df_parts(df_seq=df_seq)\n",
    "X = sf.feature_matrix(features=df_feat[\"feature\"], df_parts=df_parts)\n",
    "\n",
    "aa.display_df(df_seq, )"
   ],
   "metadata": {
    "collapsed": false
   },
   "id": "f11c692dc50a6da4"
  },
  {
   "cell_type": "markdown",
   "source": [
    "We can now create a ``ShapExplainer`` object and fit it to create the ``shap_values``, which are saved internally:"
   ],
   "metadata": {
    "collapsed": false
   },
   "id": "ab4c2ab59003b2f6"
  },
  {
   "cell_type": "code",
   "execution_count": null,
   "outputs": [],
   "source": [
    "se = aa.ShapExplainer()\n",
    "se.fit(X, labels=labels)\n",
    "\n",
    "shap_values = se.shap_values\n",
    "\n",
    "# Print SHAP values and expected value\n",
    "print(\"SHAP values explain the feature impact for 3 negative and 3 positive samples\")\n",
    "print(shap_values.round(2))"
   ],
   "metadata": {
    "collapsed": false
   },
   "id": "fff60acda8e4569c"
  },
  {
   "cell_type": "markdown",
   "source": [
    "We can now include these "
   ],
   "metadata": {
    "collapsed": false
   },
   "id": "f81bab6e58579186"
  },
  {
   "cell_type": "code",
   "execution_count": null,
   "outputs": [],
   "source": [],
   "metadata": {
    "collapsed": false
   },
   "id": "4295223fbcde99ab"
  },
  {
   "cell_type": "markdown",
   "source": [],
   "metadata": {
    "collapsed": false
   },
   "id": "e864afb240329af5"
  },
  {
   "cell_type": "code",
   "execution_count": null,
   "outputs": [],
   "source": [],
   "metadata": {
    "collapsed": false
   },
   "id": "c3fab715ee6d32a8"
  }
 ],
 "metadata": {
  "kernelspec": {
   "display_name": "Python 3",
   "language": "python",
   "name": "python3"
  },
  "language_info": {
   "codemirror_mode": {
    "name": "ipython",
    "version": 2
   },
   "file_extension": ".py",
   "mimetype": "text/x-python",
   "name": "python",
   "nbconvert_exporter": "python",
   "pygments_lexer": "ipython2",
   "version": "2.7.6"
  }
 },
 "nbformat": 4,
 "nbformat_minor": 5
}
