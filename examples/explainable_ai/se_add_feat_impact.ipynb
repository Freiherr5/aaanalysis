{
 "cells": [
  {
   "cell_type": "markdown",
   "source": [
    "To demonstrate the ``ShapExplainer.add_feat_impact()`` method, we obtain the DOM_GSEC example dataset and its respective feature set (see [Breimann24c]_):"
   ],
   "metadata": {
    "collapsed": false
   },
   "id": "529c3ea28e2bbe2a"
  },
  {
   "cell_type": "code",
   "execution_count": 1,
   "outputs": [
    {
     "data": {
      "text/plain": "<IPython.core.display.HTML object>",
      "text/html": "<style type=\"text/css\">\n#T_64eaf thead th {\n  background-color: white;\n  color: black;\n}\n#T_64eaf tbody tr:nth-child(odd) {\n  background-color: #f2f2f2;\n}\n#T_64eaf tbody tr:nth-child(even) {\n  background-color: white;\n}\n#T_64eaf th {\n  padding: 5px;\n  white-space: nowrap;\n}\n#T_64eaf  td {\n  padding: 5px;\n  white-space: nowrap;\n}\n</style>\n<table id=\"T_64eaf\" style='display:block; max-height: 300px; max-width: 100%; overflow-x: auto; overflow-y: auto;'>\n  <thead>\n    <tr>\n      <th class=\"blank level0\" >&nbsp;</th>\n      <th id=\"T_64eaf_level0_col0\" class=\"col_heading level0 col0\" >entry</th>\n      <th id=\"T_64eaf_level0_col1\" class=\"col_heading level0 col1\" >sequence</th>\n      <th id=\"T_64eaf_level0_col2\" class=\"col_heading level0 col2\" >label</th>\n      <th id=\"T_64eaf_level0_col3\" class=\"col_heading level0 col3\" >tmd_start</th>\n      <th id=\"T_64eaf_level0_col4\" class=\"col_heading level0 col4\" >tmd_stop</th>\n      <th id=\"T_64eaf_level0_col5\" class=\"col_heading level0 col5\" >jmd_n</th>\n      <th id=\"T_64eaf_level0_col6\" class=\"col_heading level0 col6\" >tmd</th>\n      <th id=\"T_64eaf_level0_col7\" class=\"col_heading level0 col7\" >jmd_c</th>\n    </tr>\n  </thead>\n  <tbody>\n    <tr>\n      <th id=\"T_64eaf_level0_row0\" class=\"row_heading level0 row0\" >1</th>\n      <td id=\"T_64eaf_row0_col0\" class=\"data row0 col0\" >Q14802</td>\n      <td id=\"T_64eaf_row0_col1\" class=\"data row0 col1\" >MQKVTLGLLVFLAGF...PGETPPLITPGSAQS</td>\n      <td id=\"T_64eaf_row0_col2\" class=\"data row0 col2\" >0</td>\n      <td id=\"T_64eaf_row0_col3\" class=\"data row0 col3\" >37</td>\n      <td id=\"T_64eaf_row0_col4\" class=\"data row0 col4\" >59</td>\n      <td id=\"T_64eaf_row0_col5\" class=\"data row0 col5\" >NSPFYYDWHS</td>\n      <td id=\"T_64eaf_row0_col6\" class=\"data row0 col6\" >LQVGGLICAGVLCAMGIIIVMSA</td>\n      <td id=\"T_64eaf_row0_col7\" class=\"data row0 col7\" >KCKCKFGQKS</td>\n    </tr>\n    <tr>\n      <th id=\"T_64eaf_level0_row1\" class=\"row_heading level0 row1\" >2</th>\n      <td id=\"T_64eaf_row1_col0\" class=\"data row1 col0\" >Q86UE4</td>\n      <td id=\"T_64eaf_row1_col1\" class=\"data row1 col1\" >MAARSWQDELAQQAE...SPKQIKKKKKARRET</td>\n      <td id=\"T_64eaf_row1_col2\" class=\"data row1 col2\" >0</td>\n      <td id=\"T_64eaf_row1_col3\" class=\"data row1 col3\" >50</td>\n      <td id=\"T_64eaf_row1_col4\" class=\"data row1 col4\" >72</td>\n      <td id=\"T_64eaf_row1_col5\" class=\"data row1 col5\" >LGLEPKRYPG</td>\n      <td id=\"T_64eaf_row1_col6\" class=\"data row1 col6\" >WVILVGTGALGLLLLFLLGYGWA</td>\n      <td id=\"T_64eaf_row1_col7\" class=\"data row1 col7\" >AACAGARKKR</td>\n    </tr>\n    <tr>\n      <th id=\"T_64eaf_level0_row2\" class=\"row_heading level0 row2\" >3</th>\n      <td id=\"T_64eaf_row2_col0\" class=\"data row2 col0\" >Q969W9</td>\n      <td id=\"T_64eaf_row2_col1\" class=\"data row2 col1\" >MHRLMGVNSTAAAAA...AIWSKEKDKQKGHPL</td>\n      <td id=\"T_64eaf_row2_col2\" class=\"data row2 col2\" >0</td>\n      <td id=\"T_64eaf_row2_col3\" class=\"data row2 col3\" >41</td>\n      <td id=\"T_64eaf_row2_col4\" class=\"data row2 col4\" >63</td>\n      <td id=\"T_64eaf_row2_col5\" class=\"data row2 col5\" >FQSMEITELE</td>\n      <td id=\"T_64eaf_row2_col6\" class=\"data row2 col6\" >FVQIIIIVVVMMVMVVVITCLLS</td>\n      <td id=\"T_64eaf_row2_col7\" class=\"data row2 col7\" >HYKLSARSFI</td>\n    </tr>\n    <tr>\n      <th id=\"T_64eaf_level0_row3\" class=\"row_heading level0 row3\" >4</th>\n      <td id=\"T_64eaf_row3_col0\" class=\"data row3 col0\" >P05067</td>\n      <td id=\"T_64eaf_row3_col1\" class=\"data row3 col1\" >MLPGLALLLLAAWTA...GYENPTYKFFEQMQN</td>\n      <td id=\"T_64eaf_row3_col2\" class=\"data row3 col2\" >1</td>\n      <td id=\"T_64eaf_row3_col3\" class=\"data row3 col3\" >701</td>\n      <td id=\"T_64eaf_row3_col4\" class=\"data row3 col4\" >723</td>\n      <td id=\"T_64eaf_row3_col5\" class=\"data row3 col5\" >FAEDVGSNKG</td>\n      <td id=\"T_64eaf_row3_col6\" class=\"data row3 col6\" >AIIGLMVGGVVIATVIVITLVML</td>\n      <td id=\"T_64eaf_row3_col7\" class=\"data row3 col7\" >KKKQYTSIHH</td>\n    </tr>\n    <tr>\n      <th id=\"T_64eaf_level0_row4\" class=\"row_heading level0 row4\" >5</th>\n      <td id=\"T_64eaf_row4_col0\" class=\"data row4 col0\" >P14925</td>\n      <td id=\"T_64eaf_row4_col1\" class=\"data row4 col1\" >MAGRARSGLLLLLLG...EEEYSAPLPKPAPSS</td>\n      <td id=\"T_64eaf_row4_col2\" class=\"data row4 col2\" >1</td>\n      <td id=\"T_64eaf_row4_col3\" class=\"data row4 col3\" >868</td>\n      <td id=\"T_64eaf_row4_col4\" class=\"data row4 col4\" >890</td>\n      <td id=\"T_64eaf_row4_col5\" class=\"data row4 col5\" >KLSTEPGSGV</td>\n      <td id=\"T_64eaf_row4_col6\" class=\"data row4 col6\" >SVVLITTLLVIPVLVLLAIVMFI</td>\n      <td id=\"T_64eaf_row4_col7\" class=\"data row4 col7\" >RWKKSRAFGD</td>\n    </tr>\n    <tr>\n      <th id=\"T_64eaf_level0_row5\" class=\"row_heading level0 row5\" >6</th>\n      <td id=\"T_64eaf_row5_col0\" class=\"data row5 col0\" >P70180</td>\n      <td id=\"T_64eaf_row5_col1\" class=\"data row5 col1\" >MRSLLLFTFSACVLL...RELREDSIRSHFSVA</td>\n      <td id=\"T_64eaf_row5_col2\" class=\"data row5 col2\" >1</td>\n      <td id=\"T_64eaf_row5_col3\" class=\"data row5 col3\" >477</td>\n      <td id=\"T_64eaf_row5_col4\" class=\"data row5 col4\" >499</td>\n      <td id=\"T_64eaf_row5_col5\" class=\"data row5 col5\" >PCKSSGGLEE</td>\n      <td id=\"T_64eaf_row5_col6\" class=\"data row5 col6\" >SAVTGIVVGALLGAGLLMAFYFF</td>\n      <td id=\"T_64eaf_row5_col7\" class=\"data row5 col7\" >RKKYRITIER</td>\n    </tr>\n  </tbody>\n</table>\n"
     },
     "metadata": {},
     "output_type": "display_data"
    }
   ],
   "source": [
    "import shap\n",
    "import aaanalysis as aa\n",
    "aa.options[\"verbose\"] = False # Disable verbosity\n",
    "\n",
    "df_seq = aa.load_dataset(name=\"DOM_GSEC\", n=3)\n",
    "labels = df_seq[\"label\"].to_list()\n",
    "df_feat = aa.load_features(name=\"DOM_GSEC\").head(10)\n",
    "\n",
    "# Create feature matrix\n",
    "sf = aa.SequenceFeature()\n",
    "df_parts = sf.get_df_parts(df_seq=df_seq)\n",
    "X = sf.feature_matrix(features=df_feat[\"feature\"], df_parts=df_parts)\n",
    "\n",
    "aa.display_df(df_seq, )"
   ],
   "metadata": {
    "collapsed": false,
    "ExecuteTime": {
     "end_time": "2024-01-22T21:06:36.083177495Z",
     "start_time": "2024-01-22T21:06:32.905206911Z"
    }
   },
   "id": "f11c692dc50a6da4"
  },
  {
   "cell_type": "markdown",
   "source": [
    "We can now create a ``ShapExplainer`` object and fit it to create the ``shap_values``, which are saved internally:"
   ],
   "metadata": {
    "collapsed": false
   },
   "id": "ab4c2ab59003b2f6"
  },
  {
   "cell_type": "code",
   "execution_count": 2,
   "outputs": [
    {
     "name": "stdout",
     "output_type": "stream",
     "text": [
      "SHAP values explain the feature impact for 3 negative and 3 positive samples\n",
      "[[-0.06 -0.07 -0.04 -0.04 -0.04  0.   -0.05 -0.07 -0.04 -0.04]\n",
      " [-0.07 -0.08 -0.04 -0.05 -0.04 -0.03 -0.06 -0.07 -0.04  0.01]\n",
      " [-0.07 -0.09 -0.02 -0.04 -0.01 -0.03 -0.05 -0.06  0.   -0.04]\n",
      " [ 0.07  0.09  0.02  0.05  0.02  0.03  0.06  0.07  0.04  0.02]\n",
      " [ 0.07  0.09  0.05  0.05  0.04  0.01  0.05  0.07  0.02  0.03]\n",
      " [ 0.07  0.08  0.04  0.05  0.03  0.03  0.06  0.07  0.04  0.02]]\n"
     ]
    }
   ],
   "source": [
    "se = aa.ShapExplainer()\n",
    "se.fit(X, labels=labels)\n",
    "\n",
    "shap_values = se.shap_values\n",
    "\n",
    "# Print SHAP values and expected value\n",
    "print(\"SHAP values explain the feature impact for 3 negative and 3 positive samples\")\n",
    "print(shap_values.round(2))"
   ],
   "metadata": {
    "collapsed": false,
    "ExecuteTime": {
     "end_time": "2024-01-22T21:06:38.123320920Z",
     "start_time": "2024-01-22T21:06:36.088358442Z"
    }
   },
   "id": "fff60acda8e4569c"
  },
  {
   "cell_type": "markdown",
   "source": [
    "We can now include these SHAP values as feature impact (i.e., "
   ],
   "metadata": {
    "collapsed": false
   },
   "id": "f81bab6e58579186"
  },
  {
   "cell_type": "code",
   "execution_count": null,
   "outputs": [],
   "source": [],
   "metadata": {
    "collapsed": false
   },
   "id": "4295223fbcde99ab"
  },
  {
   "cell_type": "markdown",
   "source": [],
   "metadata": {
    "collapsed": false
   },
   "id": "e864afb240329af5"
  },
  {
   "cell_type": "code",
   "execution_count": null,
   "outputs": [],
   "source": [],
   "metadata": {
    "collapsed": false
   },
   "id": "c3fab715ee6d32a8"
  }
 ],
 "metadata": {
  "kernelspec": {
   "display_name": "Python 3",
   "language": "python",
   "name": "python3"
  },
  "language_info": {
   "codemirror_mode": {
    "name": "ipython",
    "version": 2
   },
   "file_extension": ".py",
   "mimetype": "text/x-python",
   "name": "python",
   "nbconvert_exporter": "python",
   "pygments_lexer": "ipython2",
   "version": "2.7.6"
  }
 },
 "nbformat": 4,
 "nbformat_minor": 5
}
