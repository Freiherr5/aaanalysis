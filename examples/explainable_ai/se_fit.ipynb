{
 "cells": [
  {
   "cell_type": "markdown",
   "source": [
    "To demonstrate the ShapExplainer.fit()method, we obtain the DOM_GSEC example dataset and its respective feature set (see [Breimann24c]_):"
   ],
   "metadata": {
    "collapsed": false
   },
   "id": "9aba54543746c359"
  },
  {
   "cell_type": "code",
   "execution_count": 4,
   "outputs": [
    {
     "data": {
      "text/plain": "<IPython.core.display.HTML object>",
      "text/html": "<style type=\"text/css\">\n#T_2754d thead th {\n  background-color: white;\n  color: black;\n}\n#T_2754d tbody tr:nth-child(odd) {\n  background-color: #f2f2f2;\n}\n#T_2754d tbody tr:nth-child(even) {\n  background-color: white;\n}\n#T_2754d th {\n  padding: 5px;\n  white-space: nowrap;\n}\n#T_2754d  td {\n  padding: 5px;\n  white-space: nowrap;\n}\n</style>\n<table id=\"T_2754d\" style='display:block; max-height: 300px; max-width: 100%; overflow-x: auto; overflow-y: auto;'>\n  <thead>\n    <tr>\n      <th class=\"blank level0\" >&nbsp;</th>\n      <th id=\"T_2754d_level0_col0\" class=\"col_heading level0 col0\" >entry</th>\n      <th id=\"T_2754d_level0_col1\" class=\"col_heading level0 col1\" >sequence</th>\n      <th id=\"T_2754d_level0_col2\" class=\"col_heading level0 col2\" >label</th>\n      <th id=\"T_2754d_level0_col3\" class=\"col_heading level0 col3\" >tmd_start</th>\n      <th id=\"T_2754d_level0_col4\" class=\"col_heading level0 col4\" >tmd_stop</th>\n      <th id=\"T_2754d_level0_col5\" class=\"col_heading level0 col5\" >jmd_n</th>\n      <th id=\"T_2754d_level0_col6\" class=\"col_heading level0 col6\" >tmd</th>\n      <th id=\"T_2754d_level0_col7\" class=\"col_heading level0 col7\" >jmd_c</th>\n    </tr>\n  </thead>\n  <tbody>\n    <tr>\n      <th id=\"T_2754d_level0_row0\" class=\"row_heading level0 row0\" >1</th>\n      <td id=\"T_2754d_row0_col0\" class=\"data row0 col0\" >Q14802</td>\n      <td id=\"T_2754d_row0_col1\" class=\"data row0 col1\" >MQKVTLGLLVFLAGF...PGETPPLITPGSAQS</td>\n      <td id=\"T_2754d_row0_col2\" class=\"data row0 col2\" >0</td>\n      <td id=\"T_2754d_row0_col3\" class=\"data row0 col3\" >37</td>\n      <td id=\"T_2754d_row0_col4\" class=\"data row0 col4\" >59</td>\n      <td id=\"T_2754d_row0_col5\" class=\"data row0 col5\" >NSPFYYDWHS</td>\n      <td id=\"T_2754d_row0_col6\" class=\"data row0 col6\" >LQVGGLICAGVLCAMGIIIVMSA</td>\n      <td id=\"T_2754d_row0_col7\" class=\"data row0 col7\" >KCKCKFGQKS</td>\n    </tr>\n    <tr>\n      <th id=\"T_2754d_level0_row1\" class=\"row_heading level0 row1\" >2</th>\n      <td id=\"T_2754d_row1_col0\" class=\"data row1 col0\" >Q86UE4</td>\n      <td id=\"T_2754d_row1_col1\" class=\"data row1 col1\" >MAARSWQDELAQQAE...SPKQIKKKKKARRET</td>\n      <td id=\"T_2754d_row1_col2\" class=\"data row1 col2\" >0</td>\n      <td id=\"T_2754d_row1_col3\" class=\"data row1 col3\" >50</td>\n      <td id=\"T_2754d_row1_col4\" class=\"data row1 col4\" >72</td>\n      <td id=\"T_2754d_row1_col5\" class=\"data row1 col5\" >LGLEPKRYPG</td>\n      <td id=\"T_2754d_row1_col6\" class=\"data row1 col6\" >WVILVGTGALGLLLLFLLGYGWA</td>\n      <td id=\"T_2754d_row1_col7\" class=\"data row1 col7\" >AACAGARKKR</td>\n    </tr>\n    <tr>\n      <th id=\"T_2754d_level0_row2\" class=\"row_heading level0 row2\" >3</th>\n      <td id=\"T_2754d_row2_col0\" class=\"data row2 col0\" >Q969W9</td>\n      <td id=\"T_2754d_row2_col1\" class=\"data row2 col1\" >MHRLMGVNSTAAAAA...AIWSKEKDKQKGHPL</td>\n      <td id=\"T_2754d_row2_col2\" class=\"data row2 col2\" >0</td>\n      <td id=\"T_2754d_row2_col3\" class=\"data row2 col3\" >41</td>\n      <td id=\"T_2754d_row2_col4\" class=\"data row2 col4\" >63</td>\n      <td id=\"T_2754d_row2_col5\" class=\"data row2 col5\" >FQSMEITELE</td>\n      <td id=\"T_2754d_row2_col6\" class=\"data row2 col6\" >FVQIIIIVVVMMVMVVVITCLLS</td>\n      <td id=\"T_2754d_row2_col7\" class=\"data row2 col7\" >HYKLSARSFI</td>\n    </tr>\n    <tr>\n      <th id=\"T_2754d_level0_row3\" class=\"row_heading level0 row3\" >4</th>\n      <td id=\"T_2754d_row3_col0\" class=\"data row3 col0\" >P05067</td>\n      <td id=\"T_2754d_row3_col1\" class=\"data row3 col1\" >MLPGLALLLLAAWTA...GYENPTYKFFEQMQN</td>\n      <td id=\"T_2754d_row3_col2\" class=\"data row3 col2\" >1</td>\n      <td id=\"T_2754d_row3_col3\" class=\"data row3 col3\" >701</td>\n      <td id=\"T_2754d_row3_col4\" class=\"data row3 col4\" >723</td>\n      <td id=\"T_2754d_row3_col5\" class=\"data row3 col5\" >FAEDVGSNKG</td>\n      <td id=\"T_2754d_row3_col6\" class=\"data row3 col6\" >AIIGLMVGGVVIATVIVITLVML</td>\n      <td id=\"T_2754d_row3_col7\" class=\"data row3 col7\" >KKKQYTSIHH</td>\n    </tr>\n    <tr>\n      <th id=\"T_2754d_level0_row4\" class=\"row_heading level0 row4\" >5</th>\n      <td id=\"T_2754d_row4_col0\" class=\"data row4 col0\" >P14925</td>\n      <td id=\"T_2754d_row4_col1\" class=\"data row4 col1\" >MAGRARSGLLLLLLG...EEEYSAPLPKPAPSS</td>\n      <td id=\"T_2754d_row4_col2\" class=\"data row4 col2\" >1</td>\n      <td id=\"T_2754d_row4_col3\" class=\"data row4 col3\" >868</td>\n      <td id=\"T_2754d_row4_col4\" class=\"data row4 col4\" >890</td>\n      <td id=\"T_2754d_row4_col5\" class=\"data row4 col5\" >KLSTEPGSGV</td>\n      <td id=\"T_2754d_row4_col6\" class=\"data row4 col6\" >SVVLITTLLVIPVLVLLAIVMFI</td>\n      <td id=\"T_2754d_row4_col7\" class=\"data row4 col7\" >RWKKSRAFGD</td>\n    </tr>\n    <tr>\n      <th id=\"T_2754d_level0_row5\" class=\"row_heading level0 row5\" >6</th>\n      <td id=\"T_2754d_row5_col0\" class=\"data row5 col0\" >P70180</td>\n      <td id=\"T_2754d_row5_col1\" class=\"data row5 col1\" >MRSLLLFTFSACVLL...RELREDSIRSHFSVA</td>\n      <td id=\"T_2754d_row5_col2\" class=\"data row5 col2\" >1</td>\n      <td id=\"T_2754d_row5_col3\" class=\"data row5 col3\" >477</td>\n      <td id=\"T_2754d_row5_col4\" class=\"data row5 col4\" >499</td>\n      <td id=\"T_2754d_row5_col5\" class=\"data row5 col5\" >PCKSSGGLEE</td>\n      <td id=\"T_2754d_row5_col6\" class=\"data row5 col6\" >SAVTGIVVGALLGAGLLMAFYFF</td>\n      <td id=\"T_2754d_row5_col7\" class=\"data row5 col7\" >RKKYRITIER</td>\n    </tr>\n  </tbody>\n</table>\n"
     },
     "metadata": {},
     "output_type": "display_data"
    }
   ],
   "source": [
    "import aaanalysis as aa\n",
    "aa.options[\"verbose\"] = False # Disable verbosity\n",
    "\n",
    "df_seq = aa.load_dataset(name=\"DOM_GSEC\", n=3)\n",
    "labels = df_seq[\"label\"].to_list()\n",
    "df_feat = aa.load_features(name=\"DOM_GSEC\").head(10)\n",
    "\n",
    "# Create feature matrix\n",
    "sf = aa.SequenceFeature()\n",
    "df_parts = sf.get_df_parts(df_seq=df_seq)\n",
    "X = sf.feature_matrix(features=df_feat[\"feature\"], df_parts=df_parts)\n",
    "\n",
    "aa.display_df(df_seq, )"
   ],
   "metadata": {
    "collapsed": false,
    "ExecuteTime": {
     "end_time": "2024-01-21T21:26:57.009054959Z",
     "start_time": "2024-01-21T21:26:56.848902429Z"
    }
   },
   "id": "d7877702a1d38625"
  },
  {
   "cell_type": "markdown",
   "source": [
    "We can now create a ``ShapExplainer`` object and fit it to obtain the shap values and the expected value using the ``shap_values`` and ``exp_value`` (expected/base value) attributes:"
   ],
   "metadata": {
    "collapsed": false
   },
   "id": "1975d0ffcffcc7d3"
  },
  {
   "cell_type": "code",
   "execution_count": 8,
   "outputs": [
    {
     "name": "stdout",
     "output_type": "stream",
     "text": [
      "SHAP values explain the feature impact for 3 negative and 3 positive samples\n",
      "[[-0.07 -0.06 -0.04 -0.04 -0.05 -0.   -0.06 -0.05 -0.05 -0.04]\n",
      " [-0.08 -0.08 -0.04 -0.04 -0.06 -0.03 -0.06 -0.06 -0.04  0.02]\n",
      " [-0.09 -0.08 -0.01 -0.04 -0.02 -0.03 -0.05 -0.05  0.   -0.05]\n",
      " [ 0.07  0.08  0.03  0.04  0.03  0.03  0.06  0.06  0.04  0.03]\n",
      " [ 0.08  0.08  0.04  0.05  0.06  0.01  0.05  0.06  0.02  0.03]\n",
      " [ 0.07  0.07  0.03  0.04  0.05  0.03  0.06  0.06  0.04  0.03]]\n",
      "\n",
      "The expected value approximates the expected model output (average prediction score).\n",
      "For a binary classification with balanced datasets, it is around 0.5:\n",
      "0.5006666666666668\n"
     ]
    }
   ],
   "source": [
    "se = aa.ShapExplainer()\n",
    "se.fit(X, labels=labels)\n",
    "\n",
    "shap_values = se.shap_values\n",
    "exp_value = se.exp_value\n",
    "\n",
    "# Print SHAP values and expected value\n",
    "print(\"SHAP values explain the feature impact for 3 negative and 3 positive samples\")\n",
    "print(shap_values.round(2))\n",
    "\n",
    "print(\"\\nThe expected value approximates the expected model output (average prediction score).\")\n",
    "print(\"For a binary classification with balanced datasets, it is around 0.5:\")\n",
    "print(exp_value)"
   ],
   "metadata": {
    "collapsed": false,
    "ExecuteTime": {
     "end_time": "2024-01-21T21:31:16.758291796Z",
     "start_time": "2024-01-21T21:31:14.588109662Z"
    }
   },
   "id": "6e7ef4df0ac6e5bb"
  },
  {
   "cell_type": "markdown",
   "source": [
    "To obtain Monte Carlo estimates of the both, the ``ShapExplainer.fit()`` method performs 5 rounds of model fitting and averages the ``shap_values`` and ``exp_value`` across all rounds. The number of rounds can be adjusted using the ``n_rounds`` (default=5) parameter:"
   ],
   "metadata": {
    "collapsed": false
   },
   "id": "7af5feb85f348d82"
  },
  {
   "cell_type": "code",
   "execution_count": 9,
   "outputs": [
    {
     "data": {
      "text/plain": "<aaanalysis.explainable_ai._shap_explainer.ShapExplainer at 0x7fd774ea1a60>"
     },
     "execution_count": 9,
     "metadata": {},
     "output_type": "execute_result"
    }
   ],
   "source": [
    "se = aa.ShapExplainer()\n",
    "se = se.fit(X, labels=labels, n_rounds=10)"
   ],
   "metadata": {
    "collapsed": false,
    "ExecuteTime": {
     "end_time": "2024-01-21T21:34:09.528430988Z",
     "start_time": "2024-01-21T21:34:05.652243919Z"
    }
   },
   "id": "69b3e3d70a6bdfbe"
  },
  {
   "cell_type": "code",
   "execution_count": null,
   "outputs": [],
   "source": [],
   "metadata": {
    "collapsed": false
   },
   "id": "57c2413c39ceb51c"
  },
  {
   "cell_type": "code",
   "execution_count": null,
   "outputs": [],
   "source": [],
   "metadata": {
    "collapsed": false
   },
   "id": "26b388605684b763"
  }
 ],
 "metadata": {
  "kernelspec": {
   "display_name": "Python 3",
   "language": "python",
   "name": "python3"
  },
  "language_info": {
   "codemirror_mode": {
    "name": "ipython",
    "version": 2
   },
   "file_extension": ".py",
   "mimetype": "text/x-python",
   "name": "python",
   "nbconvert_exporter": "python",
   "pygments_lexer": "ipython2",
   "version": "2.7.6"
  }
 },
 "nbformat": 4,
 "nbformat_minor": 5
}
