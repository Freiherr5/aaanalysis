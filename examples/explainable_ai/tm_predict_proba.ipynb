{
 "cells": [
  {
   "cell_type": "markdown",
   "source": [
    "To demonstrate the ``TreeModel.predict_proba()``method, we obtain the ``DOM_GSEC`` example dataset and its respective feature set (see [Breimann24c]_):"
   ],
   "metadata": {
    "collapsed": false
   },
   "id": "8b484859ee6cffe9"
  },
  {
   "cell_type": "code",
   "execution_count": 3,
   "outputs": [],
   "source": [
    "import aaanalysis as aa\n",
    "aa.options[\"verbose\"] = False # Disable verbosity\n",
    "\n",
    "df_seq = aa.load_dataset(name=\"DOM_GSEC\")\n",
    "labels = df_seq[\"label\"].to_list()\n",
    "df_feat = aa.load_features(name=\"DOM_GSEC\").head(100)\n",
    "\n",
    "# Create feature matrix\n",
    "sf = aa.SequenceFeature()\n",
    "df_parts = sf.get_df_parts(df_seq=df_seq)\n",
    "X = sf.feature_matrix(features=df_feat[\"feature\"], df_parts=df_parts)"
   ],
   "metadata": {
    "collapsed": false,
    "ExecuteTime": {
     "end_time": "2024-01-14T17:56:20.839089646Z",
     "start_time": "2024-01-14T17:56:20.248200513Z"
    }
   },
   "id": "5d61f39f22e3b3f3"
  },
  {
   "cell_type": "markdown",
   "source": [
    "We can not fit the ``TreeModel``, which will internally fit 3 tree-based models over 5 training rounds be default:"
   ],
   "metadata": {
    "collapsed": false
   },
   "id": "2766f7ee7fbc8972"
  },
  {
   "cell_type": "code",
   "execution_count": 4,
   "outputs": [
    {
     "data": {
      "text/plain": "<aaanalysis.explainable_ai._tree_model.TreeModel at 0x7f752a2acac0>"
     },
     "execution_count": 4,
     "metadata": {},
     "output_type": "execute_result"
    }
   ],
   "source": [
    "tm = aa.TreeModel()\n",
    "tm = tm.fit(X, labels=labels)"
   ],
   "metadata": {
    "collapsed": false,
    "ExecuteTime": {
     "end_time": "2024-01-14T18:02:13.938963496Z",
     "start_time": "2024-01-14T17:56:21.739850254Z"
    }
   },
   "id": "8390118ec95f64a5"
  },
  {
   "cell_type": "markdown",
   "source": [
    "Using the ``TreeModel.predict_proba()`` method calculates probability predictions by averaging across multiple models and rounds, using a Monte Carlo approach for robust estimation:"
   ],
   "metadata": {
    "collapsed": false
   },
   "id": "90a7faa4c2f46196"
  },
  {
   "cell_type": "code",
   "execution_count": 5,
   "outputs": [
    {
     "name": "stdout",
     "output_type": "stream",
     "text": [
      "Prediction scores for 10 substrates\n"
     ]
    },
    {
     "data": {
      "text/plain": "<IPython.core.display.HTML object>",
      "text/html": "<style type=\"text/css\">\n#T_1ce6f thead th {\n  background-color: white;\n  color: black;\n}\n#T_1ce6f tbody tr:nth-child(odd) {\n  background-color: #f2f2f2;\n}\n#T_1ce6f tbody tr:nth-child(even) {\n  background-color: white;\n}\n#T_1ce6f th {\n  padding: 5px;\n  white-space: nowrap;\n}\n#T_1ce6f  td {\n  padding: 5px;\n  white-space: nowrap;\n}\n</style>\n<table id=\"T_1ce6f\" style='display:block; max-height: 300px; max-width: 100%; overflow-x: auto; overflow-y: auto;'>\n  <thead>\n    <tr>\n      <th class=\"blank level0\" >&nbsp;</th>\n      <th id=\"T_1ce6f_level0_col0\" class=\"col_heading level0 col0\" >entry</th>\n      <th id=\"T_1ce6f_level0_col1\" class=\"col_heading level0 col1\" >sequence</th>\n      <th id=\"T_1ce6f_level0_col2\" class=\"col_heading level0 col2\" >label</th>\n      <th id=\"T_1ce6f_level0_col3\" class=\"col_heading level0 col3\" >tmd_start</th>\n      <th id=\"T_1ce6f_level0_col4\" class=\"col_heading level0 col4\" >tmd_stop</th>\n      <th id=\"T_1ce6f_level0_col5\" class=\"col_heading level0 col5\" >jmd_n</th>\n      <th id=\"T_1ce6f_level0_col6\" class=\"col_heading level0 col6\" >tmd</th>\n      <th id=\"T_1ce6f_level0_col7\" class=\"col_heading level0 col7\" >jmd_c</th>\n      <th id=\"T_1ce6f_level0_col8\" class=\"col_heading level0 col8\" >prediction</th>\n      <th id=\"T_1ce6f_level0_col9\" class=\"col_heading level0 col9\" >pred_std</th>\n    </tr>\n  </thead>\n  <tbody>\n    <tr>\n      <th id=\"T_1ce6f_level0_row0\" class=\"row_heading level0 row0\" >1</th>\n      <td id=\"T_1ce6f_row0_col0\" class=\"data row0 col0\" >P05067</td>\n      <td id=\"T_1ce6f_row0_col1\" class=\"data row0 col1\" >MLPGLALLLLAAWTA...GYENPTYKFFEQMQN</td>\n      <td id=\"T_1ce6f_row0_col2\" class=\"data row0 col2\" >1</td>\n      <td id=\"T_1ce6f_row0_col3\" class=\"data row0 col3\" >701</td>\n      <td id=\"T_1ce6f_row0_col4\" class=\"data row0 col4\" >723</td>\n      <td id=\"T_1ce6f_row0_col5\" class=\"data row0 col5\" >FAEDVGSNKG</td>\n      <td id=\"T_1ce6f_row0_col6\" class=\"data row0 col6\" >AIIGLMVGGVVIATVIVITLVML</td>\n      <td id=\"T_1ce6f_row0_col7\" class=\"data row0 col7\" >KKKQYTSIHH</td>\n      <td id=\"T_1ce6f_row0_col8\" class=\"data row0 col8\" >0.995923</td>\n      <td id=\"T_1ce6f_row0_col9\" class=\"data row0 col9\" >0.002485</td>\n    </tr>\n    <tr>\n      <th id=\"T_1ce6f_level0_row1\" class=\"row_heading level0 row1\" >2</th>\n      <td id=\"T_1ce6f_row1_col0\" class=\"data row1 col0\" >P14925</td>\n      <td id=\"T_1ce6f_row1_col1\" class=\"data row1 col1\" >MAGRARSGLLLLLLG...EEEYSAPLPKPAPSS</td>\n      <td id=\"T_1ce6f_row1_col2\" class=\"data row1 col2\" >1</td>\n      <td id=\"T_1ce6f_row1_col3\" class=\"data row1 col3\" >868</td>\n      <td id=\"T_1ce6f_row1_col4\" class=\"data row1 col4\" >890</td>\n      <td id=\"T_1ce6f_row1_col5\" class=\"data row1 col5\" >KLSTEPGSGV</td>\n      <td id=\"T_1ce6f_row1_col6\" class=\"data row1 col6\" >SVVLITTLLVIPVLVLLAIVMFI</td>\n      <td id=\"T_1ce6f_row1_col7\" class=\"data row1 col7\" >RWKKSRAFGD</td>\n      <td id=\"T_1ce6f_row1_col8\" class=\"data row1 col8\" >0.987712</td>\n      <td id=\"T_1ce6f_row1_col9\" class=\"data row1 col9\" >0.006009</td>\n    </tr>\n    <tr>\n      <th id=\"T_1ce6f_level0_row2\" class=\"row_heading level0 row2\" >3</th>\n      <td id=\"T_1ce6f_row2_col0\" class=\"data row2 col0\" >P70180</td>\n      <td id=\"T_1ce6f_row2_col1\" class=\"data row2 col1\" >MRSLLLFTFSACVLL...RELREDSIRSHFSVA</td>\n      <td id=\"T_1ce6f_row2_col2\" class=\"data row2 col2\" >1</td>\n      <td id=\"T_1ce6f_row2_col3\" class=\"data row2 col3\" >477</td>\n      <td id=\"T_1ce6f_row2_col4\" class=\"data row2 col4\" >499</td>\n      <td id=\"T_1ce6f_row2_col5\" class=\"data row2 col5\" >PCKSSGGLEE</td>\n      <td id=\"T_1ce6f_row2_col6\" class=\"data row2 col6\" >SAVTGIVVGALLGAGLLMAFYFF</td>\n      <td id=\"T_1ce6f_row2_col7\" class=\"data row2 col7\" >RKKYRITIER</td>\n      <td id=\"T_1ce6f_row2_col8\" class=\"data row2 col8\" >0.993268</td>\n      <td id=\"T_1ce6f_row2_col9\" class=\"data row2 col9\" >0.003653</td>\n    </tr>\n    <tr>\n      <th id=\"T_1ce6f_level0_row3\" class=\"row_heading level0 row3\" >4</th>\n      <td id=\"T_1ce6f_row3_col0\" class=\"data row3 col0\" >Q03157</td>\n      <td id=\"T_1ce6f_row3_col1\" class=\"data row3 col1\" >MGPTSPAARGQGRRW...HGYENPTYRFLEERP</td>\n      <td id=\"T_1ce6f_row3_col2\" class=\"data row3 col2\" >1</td>\n      <td id=\"T_1ce6f_row3_col3\" class=\"data row3 col3\" >585</td>\n      <td id=\"T_1ce6f_row3_col4\" class=\"data row3 col4\" >607</td>\n      <td id=\"T_1ce6f_row3_col5\" class=\"data row3 col5\" >APSGTGVSRE</td>\n      <td id=\"T_1ce6f_row3_col6\" class=\"data row3 col6\" >ALSGLLIMGAGGGSLIVLSLLLL</td>\n      <td id=\"T_1ce6f_row3_col7\" class=\"data row3 col7\" >RKKKPYGTIS</td>\n      <td id=\"T_1ce6f_row3_col8\" class=\"data row3 col8\" >0.986547</td>\n      <td id=\"T_1ce6f_row3_col9\" class=\"data row3 col9\" >0.005568</td>\n    </tr>\n    <tr>\n      <th id=\"T_1ce6f_level0_row4\" class=\"row_heading level0 row4\" >5</th>\n      <td id=\"T_1ce6f_row4_col0\" class=\"data row4 col0\" >Q06481</td>\n      <td id=\"T_1ce6f_row4_col1\" class=\"data row4 col1\" >MAATGTAAAAATGRL...GYENPTYKYLEQMQI</td>\n      <td id=\"T_1ce6f_row4_col2\" class=\"data row4 col2\" >1</td>\n      <td id=\"T_1ce6f_row4_col3\" class=\"data row4 col3\" >694</td>\n      <td id=\"T_1ce6f_row4_col4\" class=\"data row4 col4\" >716</td>\n      <td id=\"T_1ce6f_row4_col5\" class=\"data row4 col5\" >LREDFSLSSS</td>\n      <td id=\"T_1ce6f_row4_col6\" class=\"data row4 col6\" >ALIGLLVIAVAIATVIVISLVML</td>\n      <td id=\"T_1ce6f_row4_col7\" class=\"data row4 col7\" >RKRQYGTISH</td>\n      <td id=\"T_1ce6f_row4_col8\" class=\"data row4 col8\" >0.999939</td>\n      <td id=\"T_1ce6f_row4_col9\" class=\"data row4 col9\" >0.000021</td>\n    </tr>\n    <tr>\n      <th id=\"T_1ce6f_level0_row5\" class=\"row_heading level0 row5\" >6</th>\n      <td id=\"T_1ce6f_row5_col0\" class=\"data row5 col0\" >P35613</td>\n      <td id=\"T_1ce6f_row5_col1\" class=\"data row5 col1\" >MAAALFVLLGFALLG...HQNDKGKNVRQRNSS</td>\n      <td id=\"T_1ce6f_row5_col2\" class=\"data row5 col2\" >1</td>\n      <td id=\"T_1ce6f_row5_col3\" class=\"data row5 col3\" >323</td>\n      <td id=\"T_1ce6f_row5_col4\" class=\"data row5 col4\" >345</td>\n      <td id=\"T_1ce6f_row5_col5\" class=\"data row5 col5\" >IITLRVRSHL</td>\n      <td id=\"T_1ce6f_row5_col6\" class=\"data row5 col6\" >AALWPFLGIVAEVLVLVTIIFIY</td>\n      <td id=\"T_1ce6f_row5_col7\" class=\"data row5 col7\" >EKRRKPEDVL</td>\n      <td id=\"T_1ce6f_row5_col8\" class=\"data row5 col8\" >0.980406</td>\n      <td id=\"T_1ce6f_row5_col9\" class=\"data row5 col9\" >0.006478</td>\n    </tr>\n    <tr>\n      <th id=\"T_1ce6f_level0_row6\" class=\"row_heading level0 row6\" >7</th>\n      <td id=\"T_1ce6f_row6_col0\" class=\"data row6 col0\" >P35070</td>\n      <td id=\"T_1ce6f_row6_col1\" class=\"data row6 col1\" >MDRAARCSGASSLPL...DITPINEDIEETNIA</td>\n      <td id=\"T_1ce6f_row6_col2\" class=\"data row6 col2\" >1</td>\n      <td id=\"T_1ce6f_row6_col3\" class=\"data row6 col3\" >119</td>\n      <td id=\"T_1ce6f_row6_col4\" class=\"data row6 col4\" >141</td>\n      <td id=\"T_1ce6f_row6_col5\" class=\"data row6 col5\" >LFYLRGDRGQ</td>\n      <td id=\"T_1ce6f_row6_col6\" class=\"data row6 col6\" >ILVICLIAVMVVFIILVIGVCTC</td>\n      <td id=\"T_1ce6f_row6_col7\" class=\"data row6 col7\" >CHPLRKRRKR</td>\n      <td id=\"T_1ce6f_row6_col8\" class=\"data row6 col8\" >0.905012</td>\n      <td id=\"T_1ce6f_row6_col9\" class=\"data row6 col9\" >0.012997</td>\n    </tr>\n    <tr>\n      <th id=\"T_1ce6f_level0_row7\" class=\"row_heading level0 row7\" >8</th>\n      <td id=\"T_1ce6f_row7_col0\" class=\"data row7 col0\" >P09803</td>\n      <td id=\"T_1ce6f_row7_col1\" class=\"data row7 col1\" >MGARCRSFSALLLLL...RFKKLADMYGGGEDD</td>\n      <td id=\"T_1ce6f_row7_col2\" class=\"data row7 col2\" >1</td>\n      <td id=\"T_1ce6f_row7_col3\" class=\"data row7 col3\" >711</td>\n      <td id=\"T_1ce6f_row7_col4\" class=\"data row7 col4\" >733</td>\n      <td id=\"T_1ce6f_row7_col5\" class=\"data row7 col5\" >GIVAAGLQVP</td>\n      <td id=\"T_1ce6f_row7_col6\" class=\"data row7 col6\" >AILGILGGILALLILILLLLLFL</td>\n      <td id=\"T_1ce6f_row7_col7\" class=\"data row7 col7\" >RRRTVVKEPL</td>\n      <td id=\"T_1ce6f_row7_col8\" class=\"data row7 col8\" >0.992552</td>\n      <td id=\"T_1ce6f_row7_col9\" class=\"data row7 col9\" >0.003257</td>\n    </tr>\n    <tr>\n      <th id=\"T_1ce6f_level0_row8\" class=\"row_heading level0 row8\" >9</th>\n      <td id=\"T_1ce6f_row8_col0\" class=\"data row8 col0\" >P19022</td>\n      <td id=\"T_1ce6f_row8_col1\" class=\"data row8 col1\" >MCRIAGALRTLLPLL...PRFKKLADMYGGGDD</td>\n      <td id=\"T_1ce6f_row8_col2\" class=\"data row8 col2\" >1</td>\n      <td id=\"T_1ce6f_row8_col3\" class=\"data row8 col3\" >724</td>\n      <td id=\"T_1ce6f_row8_col4\" class=\"data row8 col4\" >746</td>\n      <td id=\"T_1ce6f_row8_col5\" class=\"data row8 col5\" >RIVGAGLGTG</td>\n      <td id=\"T_1ce6f_row8_col6\" class=\"data row8 col6\" >AIIAILLCIIILLILVLMFVVWM</td>\n      <td id=\"T_1ce6f_row8_col7\" class=\"data row8 col7\" >KRRDKERQAK</td>\n      <td id=\"T_1ce6f_row8_col8\" class=\"data row8 col8\" >0.988840</td>\n      <td id=\"T_1ce6f_row8_col9\" class=\"data row8 col9\" >0.007673</td>\n    </tr>\n    <tr>\n      <th id=\"T_1ce6f_level0_row9\" class=\"row_heading level0 row9\" >10</th>\n      <td id=\"T_1ce6f_row9_col0\" class=\"data row9 col0\" >P16070</td>\n      <td id=\"T_1ce6f_row9_col1\" class=\"data row9 col1\" >MDKFWWHAAWGLCLV...DETRNLQNVDMKIGV</td>\n      <td id=\"T_1ce6f_row9_col2\" class=\"data row9 col2\" >1</td>\n      <td id=\"T_1ce6f_row9_col3\" class=\"data row9 col3\" >650</td>\n      <td id=\"T_1ce6f_row9_col4\" class=\"data row9 col4\" >672</td>\n      <td id=\"T_1ce6f_row9_col5\" class=\"data row9 col5\" >GPIRTPQIPE</td>\n      <td id=\"T_1ce6f_row9_col6\" class=\"data row9 col6\" >WLIILASLLALALILAVCIAVNS</td>\n      <td id=\"T_1ce6f_row9_col7\" class=\"data row9 col7\" >RRRCGQKKKL</td>\n      <td id=\"T_1ce6f_row9_col8\" class=\"data row9 col8\" >0.971014</td>\n      <td id=\"T_1ce6f_row9_col9\" class=\"data row9 col9\" >0.004342</td>\n    </tr>\n  </tbody>\n</table>\n"
     },
     "metadata": {},
     "output_type": "display_data"
    },
    {
     "name": "stdout",
     "output_type": "stream",
     "text": [
      "Prediction scores for 10 substrates\n"
     ]
    },
    {
     "data": {
      "text/plain": "<IPython.core.display.HTML object>",
      "text/html": "<style type=\"text/css\">\n#T_9b4b7 thead th {\n  background-color: white;\n  color: black;\n}\n#T_9b4b7 tbody tr:nth-child(odd) {\n  background-color: #f2f2f2;\n}\n#T_9b4b7 tbody tr:nth-child(even) {\n  background-color: white;\n}\n#T_9b4b7 th {\n  padding: 5px;\n  white-space: nowrap;\n}\n#T_9b4b7  td {\n  padding: 5px;\n  white-space: nowrap;\n}\n</style>\n<table id=\"T_9b4b7\" style='display:block; max-height: 300px; max-width: 100%; overflow-x: auto; overflow-y: auto;'>\n  <thead>\n    <tr>\n      <th class=\"blank level0\" >&nbsp;</th>\n      <th id=\"T_9b4b7_level0_col0\" class=\"col_heading level0 col0\" >entry</th>\n      <th id=\"T_9b4b7_level0_col1\" class=\"col_heading level0 col1\" >sequence</th>\n      <th id=\"T_9b4b7_level0_col2\" class=\"col_heading level0 col2\" >label</th>\n      <th id=\"T_9b4b7_level0_col3\" class=\"col_heading level0 col3\" >tmd_start</th>\n      <th id=\"T_9b4b7_level0_col4\" class=\"col_heading level0 col4\" >tmd_stop</th>\n      <th id=\"T_9b4b7_level0_col5\" class=\"col_heading level0 col5\" >jmd_n</th>\n      <th id=\"T_9b4b7_level0_col6\" class=\"col_heading level0 col6\" >tmd</th>\n      <th id=\"T_9b4b7_level0_col7\" class=\"col_heading level0 col7\" >jmd_c</th>\n      <th id=\"T_9b4b7_level0_col8\" class=\"col_heading level0 col8\" >prediction</th>\n      <th id=\"T_9b4b7_level0_col9\" class=\"col_heading level0 col9\" >pred_std</th>\n    </tr>\n  </thead>\n  <tbody>\n    <tr>\n      <th id=\"T_9b4b7_level0_row0\" class=\"row_heading level0 row0\" >117</th>\n      <td id=\"T_9b4b7_row0_col0\" class=\"data row0 col0\" >Q4KMG9</td>\n      <td id=\"T_9b4b7_row0_col1\" class=\"data row0 col1\" >MGVRVHVVAASALLY...PPTEKESTRIVDSWN</td>\n      <td id=\"T_9b4b7_row0_col2\" class=\"data row0 col2\" >0</td>\n      <td id=\"T_9b4b7_row0_col3\" class=\"data row0 col3\" >42</td>\n      <td id=\"T_9b4b7_row0_col4\" class=\"data row0 col4\" >64</td>\n      <td id=\"T_9b4b7_row0_col5\" class=\"data row0 col5\" >EHCLTTDWVH</td>\n      <td id=\"T_9b4b7_row0_col6\" class=\"data row0 col6\" >LWYIWLLVVIGALLLLCGLTSLC</td>\n      <td id=\"T_9b4b7_row0_col7\" class=\"data row0 col7\" >FRCCCLSRQQ</td>\n      <td id=\"T_9b4b7_row0_col8\" class=\"data row0 col8\" >0.009489</td>\n      <td id=\"T_9b4b7_row0_col9\" class=\"data row0 col9\" >0.004405</td>\n    </tr>\n    <tr>\n      <th id=\"T_9b4b7_level0_row1\" class=\"row_heading level0 row1\" >118</th>\n      <td id=\"T_9b4b7_row1_col0\" class=\"data row1 col0\" >Q8NEW7</td>\n      <td id=\"T_9b4b7_row1_col1\" class=\"data row1 col1\" >MAGWPGAGPLCVLGG...EEDEKNEAKKKKGEK</td>\n      <td id=\"T_9b4b7_row1_col2\" class=\"data row1 col2\" >0</td>\n      <td id=\"T_9b4b7_row1_col3\" class=\"data row1 col3\" >56</td>\n      <td id=\"T_9b4b7_row1_col4\" class=\"data row1 col4\" >78</td>\n      <td id=\"T_9b4b7_row1_col5\" class=\"data row1 col5\" >KETVVFWDMR</td>\n      <td id=\"T_9b4b7_row1_col6\" class=\"data row1 col6\" >LWHVVGIFSLFVLSIIITLCCVF</td>\n      <td id=\"T_9b4b7_row1_col7\" class=\"data row1 col7\" >NCRVPRTRKE</td>\n      <td id=\"T_9b4b7_row1_col8\" class=\"data row1 col8\" >0.006065</td>\n      <td id=\"T_9b4b7_row1_col9\" class=\"data row1 col9\" >0.002505</td>\n    </tr>\n    <tr>\n      <th id=\"T_9b4b7_level0_row2\" class=\"row_heading level0 row2\" >119</th>\n      <td id=\"T_9b4b7_row2_col0\" class=\"data row2 col0\" >A2RUT3</td>\n      <td id=\"T_9b4b7_row2_col1\" class=\"data row2 col1\" >MLHVLASLPLLLLLV...TQRQIQIKGTSTQSG</td>\n      <td id=\"T_9b4b7_row2_col2\" class=\"data row2 col2\" >0</td>\n      <td id=\"T_9b4b7_row2_col3\" class=\"data row2 col3\" >64</td>\n      <td id=\"T_9b4b7_row2_col4\" class=\"data row2 col4\" >86</td>\n      <td id=\"T_9b4b7_row2_col5\" class=\"data row2 col5\" >CPGYWLGPGA</td>\n      <td id=\"T_9b4b7_row2_col6\" class=\"data row2 col6\" >SRIYPVAAVMITTTMLMICRKIL</td>\n      <td id=\"T_9b4b7_row2_col7\" class=\"data row2 col7\" >QGRRRSQATK</td>\n      <td id=\"T_9b4b7_row2_col8\" class=\"data row2 col8\" >0.050539</td>\n      <td id=\"T_9b4b7_row2_col9\" class=\"data row2 col9\" >0.010062</td>\n    </tr>\n    <tr>\n      <th id=\"T_9b4b7_level0_row3\" class=\"row_heading level0 row3\" >120</th>\n      <td id=\"T_9b4b7_row3_col0\" class=\"data row3 col0\" >B7ZWI3</td>\n      <td id=\"T_9b4b7_row3_col1\" class=\"data row3 col1\" >MLDTWVWGTLTLTFG...EGPAGQMRGRAYATL</td>\n      <td id=\"T_9b4b7_row3_col2\" class=\"data row3 col2\" >0</td>\n      <td id=\"T_9b4b7_row3_col3\" class=\"data row3 col3\" >64</td>\n      <td id=\"T_9b4b7_row3_col4\" class=\"data row3 col4\" >86</td>\n      <td id=\"T_9b4b7_row3_col5\" class=\"data row3 col5\" >VWDPANDRFR</td>\n      <td id=\"T_9b4b7_row3_col6\" class=\"data row3 col6\" >FLVILACIIFPILFICALVSLFC</td>\n      <td id=\"T_9b4b7_row3_col7\" class=\"data row3 col7\" >PNCTELQHDV</td>\n      <td id=\"T_9b4b7_row3_col8\" class=\"data row3 col8\" >0.002724</td>\n      <td id=\"T_9b4b7_row3_col9\" class=\"data row3 col9\" >0.003880</td>\n    </tr>\n    <tr>\n      <th id=\"T_9b4b7_level0_row4\" class=\"row_heading level0 row4\" >121</th>\n      <td id=\"T_9b4b7_row4_col0\" class=\"data row4 col0\" >O35305</td>\n      <td id=\"T_9b4b7_row4_col1\" class=\"data row4 col1\" >MAPRARRRRQLPAPL...AQTSLHTQGSGQCAE</td>\n      <td id=\"T_9b4b7_row4_col2\" class=\"data row4 col2\" >0</td>\n      <td id=\"T_9b4b7_row4_col3\" class=\"data row4 col3\" >212</td>\n      <td id=\"T_9b4b7_row4_col4\" class=\"data row4 col4\" >234</td>\n      <td id=\"T_9b4b7_row4_col5\" class=\"data row4 col5\" >RRPPKEAQAY</td>\n      <td id=\"T_9b4b7_row4_col6\" class=\"data row4 col6\" >LPSLIVLLLFISVVVVAAIIFGV</td>\n      <td id=\"T_9b4b7_row4_col7\" class=\"data row4 col7\" >YYRKGGKALT</td>\n      <td id=\"T_9b4b7_row4_col8\" class=\"data row4 col8\" >0.078782</td>\n      <td id=\"T_9b4b7_row4_col9\" class=\"data row4 col9\" >0.015155</td>\n    </tr>\n    <tr>\n      <th id=\"T_9b4b7_level0_row5\" class=\"row_heading level0 row5\" >122</th>\n      <td id=\"T_9b4b7_row5_col0\" class=\"data row5 col0\" >P36941</td>\n      <td id=\"T_9b4b7_row5_col1\" class=\"data row5 col1\" >MLLPWATSAPGLAWG...TPSNRGPRNQFITHD</td>\n      <td id=\"T_9b4b7_row5_col2\" class=\"data row5 col2\" >0</td>\n      <td id=\"T_9b4b7_row5_col3\" class=\"data row5 col3\" >226</td>\n      <td id=\"T_9b4b7_row5_col4\" class=\"data row5 col4\" >248</td>\n      <td id=\"T_9b4b7_row5_col5\" class=\"data row5 col5\" >PLPPEMSGTM</td>\n      <td id=\"T_9b4b7_row5_col6\" class=\"data row5 col6\" >LMLAVLLPLAFFLLLATVFSCIW</td>\n      <td id=\"T_9b4b7_row5_col7\" class=\"data row5 col7\" >KSHPSLCRKL</td>\n      <td id=\"T_9b4b7_row5_col8\" class=\"data row5 col8\" >0.002753</td>\n      <td id=\"T_9b4b7_row5_col9\" class=\"data row5 col9\" >0.001338</td>\n    </tr>\n    <tr>\n      <th id=\"T_9b4b7_level0_row6\" class=\"row_heading level0 row6\" >123</th>\n      <td id=\"T_9b4b7_row6_col0\" class=\"data row6 col0\" >P25446</td>\n      <td id=\"T_9b4b7_row6_col1\" class=\"data row6 col1\" >MLWIWAVLPLVLAGS...STPDTGNENEGQCLE</td>\n      <td id=\"T_9b4b7_row6_col2\" class=\"data row6 col2\" >0</td>\n      <td id=\"T_9b4b7_row6_col3\" class=\"data row6 col3\" >170</td>\n      <td id=\"T_9b4b7_row6_col4\" class=\"data row6 col4\" >187</td>\n      <td id=\"T_9b4b7_row6_col5\" class=\"data row6 col5\" >NCRKQSPRNR</td>\n      <td id=\"T_9b4b7_row6_col6\" class=\"data row6 col6\" >LWLLTILVLLIPLVFIYR</td>\n      <td id=\"T_9b4b7_row6_col7\" class=\"data row6 col7\" >KYRKRKCWKR</td>\n      <td id=\"T_9b4b7_row6_col8\" class=\"data row6 col8\" >0.087387</td>\n      <td id=\"T_9b4b7_row6_col9\" class=\"data row6 col9\" >0.019590</td>\n    </tr>\n    <tr>\n      <th id=\"T_9b4b7_level0_row7\" class=\"row_heading level0 row7\" >124</th>\n      <td id=\"T_9b4b7_row7_col0\" class=\"data row7 col0\" >Q9P2J2</td>\n      <td id=\"T_9b4b7_row7_col1\" class=\"data row7 col1\" >MVWCLGLAVLSLVIS...AYRQPVPHPEQATLL</td>\n      <td id=\"T_9b4b7_row7_col2\" class=\"data row7 col2\" >0</td>\n      <td id=\"T_9b4b7_row7_col3\" class=\"data row7 col3\" >738</td>\n      <td id=\"T_9b4b7_row7_col4\" class=\"data row7 col4\" >760</td>\n      <td id=\"T_9b4b7_row7_col5\" class=\"data row7 col5\" >PGLLPQPVLA</td>\n      <td id=\"T_9b4b7_row7_col6\" class=\"data row7 col6\" >GVVGGVCFLGVAVLVSILAGCLL</td>\n      <td id=\"T_9b4b7_row7_col7\" class=\"data row7 col7\" >NRRRAARRRR</td>\n      <td id=\"T_9b4b7_row7_col8\" class=\"data row7 col8\" >0.070756</td>\n      <td id=\"T_9b4b7_row7_col9\" class=\"data row7 col9\" >0.011771</td>\n    </tr>\n    <tr>\n      <th id=\"T_9b4b7_level0_row8\" class=\"row_heading level0 row8\" >125</th>\n      <td id=\"T_9b4b7_row8_col0\" class=\"data row8 col0\" >Q96J42</td>\n      <td id=\"T_9b4b7_row8_col1\" class=\"data row8 col1\" >MVPAAGRRPPRVMRL...SIRWLIPGQEQEHVE</td>\n      <td id=\"T_9b4b7_row8_col2\" class=\"data row8 col2\" >0</td>\n      <td id=\"T_9b4b7_row8_col3\" class=\"data row8 col3\" >324</td>\n      <td id=\"T_9b4b7_row8_col4\" class=\"data row8 col4\" >342</td>\n      <td id=\"T_9b4b7_row8_col5\" class=\"data row8 col5\" >LPSTLIKSVD</td>\n      <td id=\"T_9b4b7_row8_col6\" class=\"data row8 col6\" >WLLVFSLFFLISFIMYATI</td>\n      <td id=\"T_9b4b7_row8_col7\" class=\"data row8 col7\" >RTESIRWLIP</td>\n      <td id=\"T_9b4b7_row8_col8\" class=\"data row8 col8\" >0.019023</td>\n      <td id=\"T_9b4b7_row8_col9\" class=\"data row8 col9\" >0.011497</td>\n    </tr>\n    <tr>\n      <th id=\"T_9b4b7_level0_row9\" class=\"row_heading level0 row9\" >126</th>\n      <td id=\"T_9b4b7_row9_col0\" class=\"data row9 col0\" >P0DPA2</td>\n      <td id=\"T_9b4b7_row9_col1\" class=\"data row9 col1\" >MRVGGAFHLLLVCLS...DCAEGPVQCKNGLLV</td>\n      <td id=\"T_9b4b7_row9_col2\" class=\"data row9 col2\" >0</td>\n      <td id=\"T_9b4b7_row9_col3\" class=\"data row9 col3\" >265</td>\n      <td id=\"T_9b4b7_row9_col4\" class=\"data row9 col4\" >287</td>\n      <td id=\"T_9b4b7_row9_col5\" class=\"data row9 col5\" >KVSDSRRIGV</td>\n      <td id=\"T_9b4b7_row9_col6\" class=\"data row9 col6\" >IIGIVLGSLLALGCLAVGIWGLV</td>\n      <td id=\"T_9b4b7_row9_col7\" class=\"data row9 col7\" >CCCCGGSGAG</td>\n      <td id=\"T_9b4b7_row9_col8\" class=\"data row9 col8\" >0.004117</td>\n      <td id=\"T_9b4b7_row9_col9\" class=\"data row9 col9\" >0.005324</td>\n    </tr>\n  </tbody>\n</table>\n"
     },
     "metadata": {},
     "output_type": "display_data"
    }
   ],
   "source": [
    "pred, pred_std = tm.predict_proba(X)\n",
    "\n",
    "df_seq[\"prediction\"] = pred\n",
    "df_seq[\"pred_std\"] = pred_std\n",
    "\n",
    "print(\"Prediction scores for 10 substrates\")\n",
    "aa.display_df(df_seq.head(10))\n",
    "print(\"Prediction scores for 10 substrates\")\n",
    "aa.display_df(df_seq.tail(10))"
   ],
   "metadata": {
    "collapsed": false,
    "ExecuteTime": {
     "end_time": "2024-01-14T18:02:26.265492251Z",
     "start_time": "2024-01-14T18:02:26.016290187Z"
    }
   },
   "id": "2bbde4e35ddf0c92"
  }
 ],
 "metadata": {
  "kernelspec": {
   "display_name": "Python 3",
   "language": "python",
   "name": "python3"
  },
  "language_info": {
   "codemirror_mode": {
    "name": "ipython",
    "version": 2
   },
   "file_extension": ".py",
   "mimetype": "text/x-python",
   "name": "python",
   "nbconvert_exporter": "python",
   "pygments_lexer": "ipython2",
   "version": "2.7.6"
  }
 },
 "nbformat": 4,
 "nbformat_minor": 5
}
