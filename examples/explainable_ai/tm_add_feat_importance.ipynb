{
 "cells": [
  {
   "cell_type": "markdown",
   "source": [
    "To demonstrate the ``TreeModel.add_feat_importance()``method, we obtain the ``DOM_GSEC`` example dataset and its respective feature set (see [Breimann24c]_):"
   ],
   "metadata": {
    "collapsed": false
   },
   "id": "f76c3f9342abf1a9"
  },
  {
   "cell_type": "code",
   "execution_count": 3,
   "outputs": [],
   "source": [
    "import aaanalysis as aa\n",
    "aa.options[\"verbose\"] = False # Disable verbosity\n",
    "\n",
    "df_seq = aa.load_dataset(name=\"DOM_GSEC\")\n",
    "labels = df_seq[\"label\"].to_list()\n",
    "df_feat = aa.load_features(name=\"DOM_GSEC\").head(10)\n",
    "\n",
    "# Create feature matrix\n",
    "sf = aa.SequenceFeature()\n",
    "df_parts = sf.get_df_parts(df_seq=df_seq)\n",
    "X = sf.feature_matrix(features=df_feat[\"feature\"], df_parts=df_parts)"
   ],
   "metadata": {
    "collapsed": false,
    "ExecuteTime": {
     "end_time": "2024-01-14T18:39:11.361555405Z",
     "start_time": "2024-01-14T18:39:11.176201181Z"
    }
   },
   "id": "486d7849cc71a4c9"
  },
  {
   "cell_type": "markdown",
   "source": [
    "We can not fit the ``TreeModel``, which will internally fit 3 tree-based models over 5 training rounds be default:"
   ],
   "metadata": {
    "collapsed": false
   },
   "id": "4a456ab4b4769ab2"
  },
  {
   "cell_type": "code",
   "execution_count": 4,
   "outputs": [],
   "source": [
    "tm = aa.TreeModel()\n",
    "tm = tm.fit(X, labels=labels)"
   ],
   "metadata": {
    "collapsed": false,
    "ExecuteTime": {
     "end_time": "2024-01-14T18:39:14.226384053Z",
     "start_time": "2024-01-14T18:39:11.383950088Z"
    }
   },
   "id": "1e26983bae2e8add"
  },
  {
   "cell_type": "markdown",
   "source": [
    "We can directly retrieve the feature importance using the ``feat_importance`` attribute of the ``TreeModel`` class:"
   ],
   "metadata": {
    "collapsed": false
   },
   "id": "b6ed0d5131ef8dd5"
  },
  {
   "cell_type": "code",
   "execution_count": 15,
   "outputs": [
    {
     "name": "stdout",
     "output_type": "stream",
     "text": [
      "Feature importance:  [0.541 0.475 0.557 0.608 0.271 0.43  0.364 0.595 0.685 0.599]\n"
     ]
    }
   ],
   "source": [
    "feat_importance = tm.feat_importance_std\n",
    "print(\"Feature importance: \", feat_importance)"
   ],
   "metadata": {
    "collapsed": false,
    "ExecuteTime": {
     "end_time": "2024-01-14T18:42:32.205309546Z",
     "start_time": "2024-01-14T18:42:32.183679016Z"
    }
   },
   "id": "851a5d79cb71c8f2"
  },
  {
   "cell_type": "markdown",
   "source": [
    "To add these values to the feature DataFrame (``df_feat``), it should not already contain the ``feat_importance`` and ``feat_importance_std`` columns: "
   ],
   "metadata": {
    "collapsed": false
   },
   "id": "449dabe0c0ce904f"
  },
  {
   "cell_type": "code",
   "execution_count": 12,
   "outputs": [],
   "source": [
    "# Remove feature importance columns\n",
    "df_feat = df_feat[[x for x in list(df_feat) if x not in [\"feat_importance\", \"feat_importance_std\"]]]"
   ],
   "metadata": {
    "collapsed": false,
    "ExecuteTime": {
     "end_time": "2024-01-14T18:42:23.111660241Z",
     "start_time": "2024-01-14T18:42:23.098541714Z"
    }
   },
   "id": "735ba127b9c75fe3"
  },
  {
   "cell_type": "markdown",
   "source": [
    "Now the importance obtain from the fitted model can be inserted with the conventional column names by using the ``TreeModel.add_feat_importance`` method:"
   ],
   "metadata": {
    "collapsed": false
   },
   "id": "283dba25ed8559a6"
  },
  {
   "cell_type": "code",
   "execution_count": 13,
   "outputs": [
    {
     "data": {
      "text/plain": "<IPython.core.display.HTML object>",
      "text/html": "<style type=\"text/css\">\n#T_3270d thead th {\n  background-color: white;\n  color: black;\n}\n#T_3270d tbody tr:nth-child(odd) {\n  background-color: #f2f2f2;\n}\n#T_3270d tbody tr:nth-child(even) {\n  background-color: white;\n}\n#T_3270d th {\n  padding: 5px;\n  white-space: nowrap;\n}\n#T_3270d  td {\n  padding: 5px;\n  white-space: nowrap;\n}\n</style>\n<table id=\"T_3270d\" style='display:block; max-height: 300px; max-width: 100%; overflow-x: auto; overflow-y: auto;'>\n  <thead>\n    <tr>\n      <th class=\"blank level0\" >&nbsp;</th>\n      <th id=\"T_3270d_level0_col0\" class=\"col_heading level0 col0\" >feature</th>\n      <th id=\"T_3270d_level0_col1\" class=\"col_heading level0 col1\" >category</th>\n      <th id=\"T_3270d_level0_col2\" class=\"col_heading level0 col2\" >subcategory</th>\n      <th id=\"T_3270d_level0_col3\" class=\"col_heading level0 col3\" >scale_name</th>\n      <th id=\"T_3270d_level0_col4\" class=\"col_heading level0 col4\" >scale_description</th>\n      <th id=\"T_3270d_level0_col5\" class=\"col_heading level0 col5\" >abs_auc</th>\n      <th id=\"T_3270d_level0_col6\" class=\"col_heading level0 col6\" >abs_mean_dif</th>\n      <th id=\"T_3270d_level0_col7\" class=\"col_heading level0 col7\" >mean_dif</th>\n      <th id=\"T_3270d_level0_col8\" class=\"col_heading level0 col8\" >std_test</th>\n      <th id=\"T_3270d_level0_col9\" class=\"col_heading level0 col9\" >std_ref</th>\n      <th id=\"T_3270d_level0_col10\" class=\"col_heading level0 col10\" >p_val_mann_whitney</th>\n      <th id=\"T_3270d_level0_col11\" class=\"col_heading level0 col11\" >p_val_fdr_bh</th>\n      <th id=\"T_3270d_level0_col12\" class=\"col_heading level0 col12\" >positions</th>\n      <th id=\"T_3270d_level0_col13\" class=\"col_heading level0 col13\" >feat_importance</th>\n      <th id=\"T_3270d_level0_col14\" class=\"col_heading level0 col14\" >feat_importance_std</th>\n    </tr>\n  </thead>\n  <tbody>\n    <tr>\n      <th id=\"T_3270d_level0_row0\" class=\"row_heading level0 row0\" >1</th>\n      <td id=\"T_3270d_row0_col0\" class=\"data row0 col0\" >TMD_C_JMD_C-Seg...3,4)-KLEP840101</td>\n      <td id=\"T_3270d_row0_col1\" class=\"data row0 col1\" >Energy</td>\n      <td id=\"T_3270d_row0_col2\" class=\"data row0 col2\" >Charge</td>\n      <td id=\"T_3270d_row0_col3\" class=\"data row0 col3\" >Charge</td>\n      <td id=\"T_3270d_row0_col4\" class=\"data row0 col4\" >Net charge (Kle...n et al., 1984)</td>\n      <td id=\"T_3270d_row0_col5\" class=\"data row0 col5\" >0.244000</td>\n      <td id=\"T_3270d_row0_col6\" class=\"data row0 col6\" >0.103666</td>\n      <td id=\"T_3270d_row0_col7\" class=\"data row0 col7\" >0.103666</td>\n      <td id=\"T_3270d_row0_col8\" class=\"data row0 col8\" >0.106692</td>\n      <td id=\"T_3270d_row0_col9\" class=\"data row0 col9\" >0.110506</td>\n      <td id=\"T_3270d_row0_col10\" class=\"data row0 col10\" >0.000000</td>\n      <td id=\"T_3270d_row0_col11\" class=\"data row0 col11\" >0.000000</td>\n      <td id=\"T_3270d_row0_col12\" class=\"data row0 col12\" >31,32,33,34,35</td>\n      <td id=\"T_3270d_row0_col13\" class=\"data row0 col13\" >4.685000</td>\n      <td id=\"T_3270d_row0_col14\" class=\"data row0 col14\" >0.541000</td>\n    </tr>\n    <tr>\n      <th id=\"T_3270d_level0_row1\" class=\"row_heading level0 row1\" >2</th>\n      <td id=\"T_3270d_row1_col0\" class=\"data row1 col0\" >TMD_C_JMD_C-Seg...3,4)-FINA910104</td>\n      <td id=\"T_3270d_row1_col1\" class=\"data row1 col1\" >Conformation</td>\n      <td id=\"T_3270d_row1_col2\" class=\"data row1 col2\" >α-helix (C-cap)</td>\n      <td id=\"T_3270d_row1_col3\" class=\"data row1 col3\" >α-helix termination</td>\n      <td id=\"T_3270d_row1_col4\" class=\"data row1 col4\" >Helix terminati...n et al., 1991)</td>\n      <td id=\"T_3270d_row1_col5\" class=\"data row1 col5\" >0.243000</td>\n      <td id=\"T_3270d_row1_col6\" class=\"data row1 col6\" >0.085064</td>\n      <td id=\"T_3270d_row1_col7\" class=\"data row1 col7\" >0.085064</td>\n      <td id=\"T_3270d_row1_col8\" class=\"data row1 col8\" >0.098774</td>\n      <td id=\"T_3270d_row1_col9\" class=\"data row1 col9\" >0.096946</td>\n      <td id=\"T_3270d_row1_col10\" class=\"data row1 col10\" >0.000000</td>\n      <td id=\"T_3270d_row1_col11\" class=\"data row1 col11\" >0.000000</td>\n      <td id=\"T_3270d_row1_col12\" class=\"data row1 col12\" >31,32,33,34,35</td>\n      <td id=\"T_3270d_row1_col13\" class=\"data row1 col13\" >10.077000</td>\n      <td id=\"T_3270d_row1_col14\" class=\"data row1 col14\" >0.475000</td>\n    </tr>\n    <tr>\n      <th id=\"T_3270d_level0_row2\" class=\"row_heading level0 row2\" >3</th>\n      <td id=\"T_3270d_row2_col0\" class=\"data row2 col0\" >TMD_C_JMD_C-Seg...6,9)-LEVM760105</td>\n      <td id=\"T_3270d_row2_col1\" class=\"data row2 col1\" >Shape</td>\n      <td id=\"T_3270d_row2_col2\" class=\"data row2 col2\" >Side chain length</td>\n      <td id=\"T_3270d_row2_col3\" class=\"data row2 col3\" >Side chain length</td>\n      <td id=\"T_3270d_row2_col4\" class=\"data row2 col4\" >Radius of gyrat... (Levitt, 1976)</td>\n      <td id=\"T_3270d_row2_col5\" class=\"data row2 col5\" >0.233000</td>\n      <td id=\"T_3270d_row2_col6\" class=\"data row2 col6\" >0.137044</td>\n      <td id=\"T_3270d_row2_col7\" class=\"data row2 col7\" >0.137044</td>\n      <td id=\"T_3270d_row2_col8\" class=\"data row2 col8\" >0.161683</td>\n      <td id=\"T_3270d_row2_col9\" class=\"data row2 col9\" >0.176964</td>\n      <td id=\"T_3270d_row2_col10\" class=\"data row2 col10\" >0.000000</td>\n      <td id=\"T_3270d_row2_col11\" class=\"data row2 col11\" >0.000001</td>\n      <td id=\"T_3270d_row2_col12\" class=\"data row2 col12\" >32,33</td>\n      <td id=\"T_3270d_row2_col13\" class=\"data row2 col13\" >9.535000</td>\n      <td id=\"T_3270d_row2_col14\" class=\"data row2 col14\" >0.557000</td>\n    </tr>\n    <tr>\n      <th id=\"T_3270d_level0_row3\" class=\"row_heading level0 row3\" >4</th>\n      <td id=\"T_3270d_row3_col0\" class=\"data row3 col0\" >TMD_C_JMD_C-Seg...3,4)-HUTJ700102</td>\n      <td id=\"T_3270d_row3_col1\" class=\"data row3 col1\" >Energy</td>\n      <td id=\"T_3270d_row3_col2\" class=\"data row3 col2\" >Entropy</td>\n      <td id=\"T_3270d_row3_col3\" class=\"data row3 col3\" >Entropy</td>\n      <td id=\"T_3270d_row3_col4\" class=\"data row3 col4\" >Absolute entrop...Hutchens, 1970)</td>\n      <td id=\"T_3270d_row3_col5\" class=\"data row3 col5\" >0.229000</td>\n      <td id=\"T_3270d_row3_col6\" class=\"data row3 col6\" >0.098224</td>\n      <td id=\"T_3270d_row3_col7\" class=\"data row3 col7\" >0.098224</td>\n      <td id=\"T_3270d_row3_col8\" class=\"data row3 col8\" >0.106865</td>\n      <td id=\"T_3270d_row3_col9\" class=\"data row3 col9\" >0.124608</td>\n      <td id=\"T_3270d_row3_col10\" class=\"data row3 col10\" >0.000000</td>\n      <td id=\"T_3270d_row3_col11\" class=\"data row3 col11\" >0.000001</td>\n      <td id=\"T_3270d_row3_col12\" class=\"data row3 col12\" >31,32,33,34,35</td>\n      <td id=\"T_3270d_row3_col13\" class=\"data row3 col13\" >16.204000</td>\n      <td id=\"T_3270d_row3_col14\" class=\"data row3 col14\" >0.608000</td>\n    </tr>\n    <tr>\n      <th id=\"T_3270d_level0_row4\" class=\"row_heading level0 row4\" >5</th>\n      <td id=\"T_3270d_row4_col0\" class=\"data row4 col0\" >TMD_C_JMD_C-Seg...6,9)-RADA880106</td>\n      <td id=\"T_3270d_row4_col1\" class=\"data row4 col1\" >ASA/Volume</td>\n      <td id=\"T_3270d_row4_col2\" class=\"data row4 col2\" >Volume</td>\n      <td id=\"T_3270d_row4_col3\" class=\"data row4 col3\" >Accessible surface area (ASA)</td>\n      <td id=\"T_3270d_row4_col4\" class=\"data row4 col4\" >Accessible surf...olfenden, 1988)</td>\n      <td id=\"T_3270d_row4_col5\" class=\"data row4 col5\" >0.223000</td>\n      <td id=\"T_3270d_row4_col6\" class=\"data row4 col6\" >0.095071</td>\n      <td id=\"T_3270d_row4_col7\" class=\"data row4 col7\" >0.095071</td>\n      <td id=\"T_3270d_row4_col8\" class=\"data row4 col8\" >0.114758</td>\n      <td id=\"T_3270d_row4_col9\" class=\"data row4 col9\" >0.132829</td>\n      <td id=\"T_3270d_row4_col10\" class=\"data row4 col10\" >0.000000</td>\n      <td id=\"T_3270d_row4_col11\" class=\"data row4 col11\" >0.000002</td>\n      <td id=\"T_3270d_row4_col12\" class=\"data row4 col12\" >32,33</td>\n      <td id=\"T_3270d_row4_col13\" class=\"data row4 col13\" >7.440000</td>\n      <td id=\"T_3270d_row4_col14\" class=\"data row4 col14\" >0.271000</td>\n    </tr>\n    <tr>\n      <th id=\"T_3270d_level0_row5\" class=\"row_heading level0 row5\" >6</th>\n      <td id=\"T_3270d_row5_col0\" class=\"data row5 col0\" >TMD_C_JMD_C-Seg...2,3)-KLEP840101</td>\n      <td id=\"T_3270d_row5_col1\" class=\"data row5 col1\" >Energy</td>\n      <td id=\"T_3270d_row5_col2\" class=\"data row5 col2\" >Charge</td>\n      <td id=\"T_3270d_row5_col3\" class=\"data row5 col3\" >Charge</td>\n      <td id=\"T_3270d_row5_col4\" class=\"data row5 col4\" >Net charge (Kle...n et al., 1984)</td>\n      <td id=\"T_3270d_row5_col5\" class=\"data row5 col5\" >0.222000</td>\n      <td id=\"T_3270d_row5_col6\" class=\"data row5 col6\" >0.058671</td>\n      <td id=\"T_3270d_row5_col7\" class=\"data row5 col7\" >0.058671</td>\n      <td id=\"T_3270d_row5_col8\" class=\"data row5 col8\" >0.064895</td>\n      <td id=\"T_3270d_row5_col9\" class=\"data row5 col9\" >0.069547</td>\n      <td id=\"T_3270d_row5_col10\" class=\"data row5 col10\" >0.000000</td>\n      <td id=\"T_3270d_row5_col11\" class=\"data row5 col11\" >0.000001</td>\n      <td id=\"T_3270d_row5_col12\" class=\"data row5 col12\" >27,28,29,30,31,32,33</td>\n      <td id=\"T_3270d_row5_col13\" class=\"data row5 col13\" >4.715000</td>\n      <td id=\"T_3270d_row5_col14\" class=\"data row5 col14\" >0.430000</td>\n    </tr>\n    <tr>\n      <th id=\"T_3270d_level0_row6\" class=\"row_heading level0 row6\" >7</th>\n      <td id=\"T_3270d_row6_col0\" class=\"data row6 col0\" >TMD_C_JMD_C-Seg...4,5)-FAUJ880109</td>\n      <td id=\"T_3270d_row6_col1\" class=\"data row6 col1\" >Energy</td>\n      <td id=\"T_3270d_row6_col2\" class=\"data row6 col2\" >Isoelectric point</td>\n      <td id=\"T_3270d_row6_col3\" class=\"data row6 col3\" >Number hydrogen bond donors</td>\n      <td id=\"T_3270d_row6_col4\" class=\"data row6 col4\" >Number of hydro...e et al., 1988)</td>\n      <td id=\"T_3270d_row6_col5\" class=\"data row6 col5\" >0.215000</td>\n      <td id=\"T_3270d_row6_col6\" class=\"data row6 col6\" >0.146661</td>\n      <td id=\"T_3270d_row6_col7\" class=\"data row6 col7\" >0.146661</td>\n      <td id=\"T_3270d_row6_col8\" class=\"data row6 col8\" >0.174609</td>\n      <td id=\"T_3270d_row6_col9\" class=\"data row6 col9\" >0.188034</td>\n      <td id=\"T_3270d_row6_col10\" class=\"data row6 col10\" >0.000000</td>\n      <td id=\"T_3270d_row6_col11\" class=\"data row6 col11\" >0.000004</td>\n      <td id=\"T_3270d_row6_col12\" class=\"data row6 col12\" >33,34,35,36</td>\n      <td id=\"T_3270d_row6_col13\" class=\"data row6 col13\" >6.855000</td>\n      <td id=\"T_3270d_row6_col14\" class=\"data row6 col14\" >0.364000</td>\n    </tr>\n    <tr>\n      <th id=\"T_3270d_level0_row7\" class=\"row_heading level0 row7\" >8</th>\n      <td id=\"T_3270d_row7_col0\" class=\"data row7 col0\" >TMD_C_JMD_C-Seg...3,4)-JANJ780101</td>\n      <td id=\"T_3270d_row7_col1\" class=\"data row7 col1\" >ASA/Volume</td>\n      <td id=\"T_3270d_row7_col2\" class=\"data row7 col2\" >Accessible surface area (ASA)</td>\n      <td id=\"T_3270d_row7_col3\" class=\"data row7 col3\" >ASA (folded protein)</td>\n      <td id=\"T_3270d_row7_col4\" class=\"data row7 col4\" >Average accessi...n et al., 1978)</td>\n      <td id=\"T_3270d_row7_col5\" class=\"data row7 col5\" >0.215000</td>\n      <td id=\"T_3270d_row7_col6\" class=\"data row7 col6\" >0.124317</td>\n      <td id=\"T_3270d_row7_col7\" class=\"data row7 col7\" >0.124317</td>\n      <td id=\"T_3270d_row7_col8\" class=\"data row7 col8\" >0.166309</td>\n      <td id=\"T_3270d_row7_col9\" class=\"data row7 col9\" >0.153364</td>\n      <td id=\"T_3270d_row7_col10\" class=\"data row7 col10\" >0.000000</td>\n      <td id=\"T_3270d_row7_col11\" class=\"data row7 col11\" >0.000004</td>\n      <td id=\"T_3270d_row7_col12\" class=\"data row7 col12\" >31,32,33,34,35</td>\n      <td id=\"T_3270d_row7_col13\" class=\"data row7 col13\" >9.440000</td>\n      <td id=\"T_3270d_row7_col14\" class=\"data row7 col14\" >0.595000</td>\n    </tr>\n    <tr>\n      <th id=\"T_3270d_level0_row8\" class=\"row_heading level0 row8\" >9</th>\n      <td id=\"T_3270d_row8_col0\" class=\"data row8 col0\" >TMD_C_JMD_C-Seg...,10)-WILM950103</td>\n      <td id=\"T_3270d_row8_col1\" class=\"data row8 col1\" >Polarity</td>\n      <td id=\"T_3270d_row8_col2\" class=\"data row8 col2\" >Hydrophobicity (interface)</td>\n      <td id=\"T_3270d_row8_col3\" class=\"data row8 col3\" >Hydrophobicity (interface)</td>\n      <td id=\"T_3270d_row8_col4\" class=\"data row8 col4\" >Hydrophobicity ...e et al., 1995)</td>\n      <td id=\"T_3270d_row8_col5\" class=\"data row8 col5\" >0.212000</td>\n      <td id=\"T_3270d_row8_col6\" class=\"data row8 col6\" >0.141305</td>\n      <td id=\"T_3270d_row8_col7\" class=\"data row8 col7\" >-0.141305</td>\n      <td id=\"T_3270d_row8_col8\" class=\"data row8 col8\" >0.168603</td>\n      <td id=\"T_3270d_row8_col9\" class=\"data row8 col9\" >0.217235</td>\n      <td id=\"T_3270d_row8_col10\" class=\"data row8 col10\" >0.000000</td>\n      <td id=\"T_3270d_row8_col11\" class=\"data row8 col11\" >0.000005</td>\n      <td id=\"T_3270d_row8_col12\" class=\"data row8 col12\" >33,34</td>\n      <td id=\"T_3270d_row8_col13\" class=\"data row8 col13\" >11.299000</td>\n      <td id=\"T_3270d_row8_col14\" class=\"data row8 col14\" >0.685000</td>\n    </tr>\n    <tr>\n      <th id=\"T_3270d_level0_row9\" class=\"row_heading level0 row9\" >10</th>\n      <td id=\"T_3270d_row9_col0\" class=\"data row9 col0\" >TMD_C_JMD_C-Seg...6,9)-AURR980110</td>\n      <td id=\"T_3270d_row9_col1\" class=\"data row9 col1\" >Conformation</td>\n      <td id=\"T_3270d_row9_col2\" class=\"data row9 col2\" >α-helix</td>\n      <td id=\"T_3270d_row9_col3\" class=\"data row9 col3\" >α-helix (middle)</td>\n      <td id=\"T_3270d_row9_col4\" class=\"data row9 col4\" >Normalized posi...ora-Rose, 1998)</td>\n      <td id=\"T_3270d_row9_col5\" class=\"data row9 col5\" >0.211000</td>\n      <td id=\"T_3270d_row9_col6\" class=\"data row9 col6\" >0.125350</td>\n      <td id=\"T_3270d_row9_col7\" class=\"data row9 col7\" >0.125350</td>\n      <td id=\"T_3270d_row9_col8\" class=\"data row9 col8\" >0.160819</td>\n      <td id=\"T_3270d_row9_col9\" class=\"data row9 col9\" >0.174121</td>\n      <td id=\"T_3270d_row9_col10\" class=\"data row9 col10\" >0.000000</td>\n      <td id=\"T_3270d_row9_col11\" class=\"data row9 col11\" >0.000005</td>\n      <td id=\"T_3270d_row9_col12\" class=\"data row9 col12\" >32,33</td>\n      <td id=\"T_3270d_row9_col13\" class=\"data row9 col13\" >19.750000</td>\n      <td id=\"T_3270d_row9_col14\" class=\"data row9 col14\" >0.599000</td>\n    </tr>\n  </tbody>\n</table>\n"
     },
     "metadata": {},
     "output_type": "display_data"
    }
   ],
   "source": [
    "df_feat = tm.add_feat_importance(df_feat=df_feat)\n",
    "aa.display_df(df_feat)"
   ],
   "metadata": {
    "collapsed": false,
    "ExecuteTime": {
     "end_time": "2024-01-14T18:42:24.554206333Z",
     "start_time": "2024-01-14T18:42:24.535793155Z"
    }
   },
   "id": "cccef971de7f5790"
  },
  {
   "cell_type": "markdown",
   "source": [
    "To override already existing feature importance columns, set ``drop=True``:"
   ],
   "metadata": {
    "collapsed": false
   },
   "id": "1a9e20eea83a0df"
  },
  {
   "cell_type": "code",
   "execution_count": 14,
   "outputs": [
    {
     "data": {
      "text/plain": "<IPython.core.display.HTML object>",
      "text/html": "<style type=\"text/css\">\n#T_7752f thead th {\n  background-color: white;\n  color: black;\n}\n#T_7752f tbody tr:nth-child(odd) {\n  background-color: #f2f2f2;\n}\n#T_7752f tbody tr:nth-child(even) {\n  background-color: white;\n}\n#T_7752f th {\n  padding: 5px;\n  white-space: nowrap;\n}\n#T_7752f  td {\n  padding: 5px;\n  white-space: nowrap;\n}\n</style>\n<table id=\"T_7752f\" style='display:block; max-height: 300px; max-width: 100%; overflow-x: auto; overflow-y: auto;'>\n  <thead>\n    <tr>\n      <th class=\"blank level0\" >&nbsp;</th>\n      <th id=\"T_7752f_level0_col0\" class=\"col_heading level0 col0\" >feature</th>\n      <th id=\"T_7752f_level0_col1\" class=\"col_heading level0 col1\" >category</th>\n      <th id=\"T_7752f_level0_col2\" class=\"col_heading level0 col2\" >subcategory</th>\n      <th id=\"T_7752f_level0_col3\" class=\"col_heading level0 col3\" >scale_name</th>\n      <th id=\"T_7752f_level0_col4\" class=\"col_heading level0 col4\" >scale_description</th>\n      <th id=\"T_7752f_level0_col5\" class=\"col_heading level0 col5\" >abs_auc</th>\n      <th id=\"T_7752f_level0_col6\" class=\"col_heading level0 col6\" >abs_mean_dif</th>\n      <th id=\"T_7752f_level0_col7\" class=\"col_heading level0 col7\" >mean_dif</th>\n      <th id=\"T_7752f_level0_col8\" class=\"col_heading level0 col8\" >std_test</th>\n      <th id=\"T_7752f_level0_col9\" class=\"col_heading level0 col9\" >std_ref</th>\n      <th id=\"T_7752f_level0_col10\" class=\"col_heading level0 col10\" >p_val_mann_whitney</th>\n      <th id=\"T_7752f_level0_col11\" class=\"col_heading level0 col11\" >p_val_fdr_bh</th>\n      <th id=\"T_7752f_level0_col12\" class=\"col_heading level0 col12\" >positions</th>\n      <th id=\"T_7752f_level0_col13\" class=\"col_heading level0 col13\" >feat_importance</th>\n      <th id=\"T_7752f_level0_col14\" class=\"col_heading level0 col14\" >feat_importance_std</th>\n    </tr>\n  </thead>\n  <tbody>\n    <tr>\n      <th id=\"T_7752f_level0_row0\" class=\"row_heading level0 row0\" >1</th>\n      <td id=\"T_7752f_row0_col0\" class=\"data row0 col0\" >TMD_C_JMD_C-Seg...3,4)-KLEP840101</td>\n      <td id=\"T_7752f_row0_col1\" class=\"data row0 col1\" >Energy</td>\n      <td id=\"T_7752f_row0_col2\" class=\"data row0 col2\" >Charge</td>\n      <td id=\"T_7752f_row0_col3\" class=\"data row0 col3\" >Charge</td>\n      <td id=\"T_7752f_row0_col4\" class=\"data row0 col4\" >Net charge (Kle...n et al., 1984)</td>\n      <td id=\"T_7752f_row0_col5\" class=\"data row0 col5\" >0.244000</td>\n      <td id=\"T_7752f_row0_col6\" class=\"data row0 col6\" >0.103666</td>\n      <td id=\"T_7752f_row0_col7\" class=\"data row0 col7\" >0.103666</td>\n      <td id=\"T_7752f_row0_col8\" class=\"data row0 col8\" >0.106692</td>\n      <td id=\"T_7752f_row0_col9\" class=\"data row0 col9\" >0.110506</td>\n      <td id=\"T_7752f_row0_col10\" class=\"data row0 col10\" >0.000000</td>\n      <td id=\"T_7752f_row0_col11\" class=\"data row0 col11\" >0.000000</td>\n      <td id=\"T_7752f_row0_col12\" class=\"data row0 col12\" >31,32,33,34,35</td>\n      <td id=\"T_7752f_row0_col13\" class=\"data row0 col13\" >4.685000</td>\n      <td id=\"T_7752f_row0_col14\" class=\"data row0 col14\" >0.541000</td>\n    </tr>\n    <tr>\n      <th id=\"T_7752f_level0_row1\" class=\"row_heading level0 row1\" >2</th>\n      <td id=\"T_7752f_row1_col0\" class=\"data row1 col0\" >TMD_C_JMD_C-Seg...3,4)-FINA910104</td>\n      <td id=\"T_7752f_row1_col1\" class=\"data row1 col1\" >Conformation</td>\n      <td id=\"T_7752f_row1_col2\" class=\"data row1 col2\" >α-helix (C-cap)</td>\n      <td id=\"T_7752f_row1_col3\" class=\"data row1 col3\" >α-helix termination</td>\n      <td id=\"T_7752f_row1_col4\" class=\"data row1 col4\" >Helix terminati...n et al., 1991)</td>\n      <td id=\"T_7752f_row1_col5\" class=\"data row1 col5\" >0.243000</td>\n      <td id=\"T_7752f_row1_col6\" class=\"data row1 col6\" >0.085064</td>\n      <td id=\"T_7752f_row1_col7\" class=\"data row1 col7\" >0.085064</td>\n      <td id=\"T_7752f_row1_col8\" class=\"data row1 col8\" >0.098774</td>\n      <td id=\"T_7752f_row1_col9\" class=\"data row1 col9\" >0.096946</td>\n      <td id=\"T_7752f_row1_col10\" class=\"data row1 col10\" >0.000000</td>\n      <td id=\"T_7752f_row1_col11\" class=\"data row1 col11\" >0.000000</td>\n      <td id=\"T_7752f_row1_col12\" class=\"data row1 col12\" >31,32,33,34,35</td>\n      <td id=\"T_7752f_row1_col13\" class=\"data row1 col13\" >10.077000</td>\n      <td id=\"T_7752f_row1_col14\" class=\"data row1 col14\" >0.475000</td>\n    </tr>\n    <tr>\n      <th id=\"T_7752f_level0_row2\" class=\"row_heading level0 row2\" >3</th>\n      <td id=\"T_7752f_row2_col0\" class=\"data row2 col0\" >TMD_C_JMD_C-Seg...6,9)-LEVM760105</td>\n      <td id=\"T_7752f_row2_col1\" class=\"data row2 col1\" >Shape</td>\n      <td id=\"T_7752f_row2_col2\" class=\"data row2 col2\" >Side chain length</td>\n      <td id=\"T_7752f_row2_col3\" class=\"data row2 col3\" >Side chain length</td>\n      <td id=\"T_7752f_row2_col4\" class=\"data row2 col4\" >Radius of gyrat... (Levitt, 1976)</td>\n      <td id=\"T_7752f_row2_col5\" class=\"data row2 col5\" >0.233000</td>\n      <td id=\"T_7752f_row2_col6\" class=\"data row2 col6\" >0.137044</td>\n      <td id=\"T_7752f_row2_col7\" class=\"data row2 col7\" >0.137044</td>\n      <td id=\"T_7752f_row2_col8\" class=\"data row2 col8\" >0.161683</td>\n      <td id=\"T_7752f_row2_col9\" class=\"data row2 col9\" >0.176964</td>\n      <td id=\"T_7752f_row2_col10\" class=\"data row2 col10\" >0.000000</td>\n      <td id=\"T_7752f_row2_col11\" class=\"data row2 col11\" >0.000001</td>\n      <td id=\"T_7752f_row2_col12\" class=\"data row2 col12\" >32,33</td>\n      <td id=\"T_7752f_row2_col13\" class=\"data row2 col13\" >9.535000</td>\n      <td id=\"T_7752f_row2_col14\" class=\"data row2 col14\" >0.557000</td>\n    </tr>\n    <tr>\n      <th id=\"T_7752f_level0_row3\" class=\"row_heading level0 row3\" >4</th>\n      <td id=\"T_7752f_row3_col0\" class=\"data row3 col0\" >TMD_C_JMD_C-Seg...3,4)-HUTJ700102</td>\n      <td id=\"T_7752f_row3_col1\" class=\"data row3 col1\" >Energy</td>\n      <td id=\"T_7752f_row3_col2\" class=\"data row3 col2\" >Entropy</td>\n      <td id=\"T_7752f_row3_col3\" class=\"data row3 col3\" >Entropy</td>\n      <td id=\"T_7752f_row3_col4\" class=\"data row3 col4\" >Absolute entrop...Hutchens, 1970)</td>\n      <td id=\"T_7752f_row3_col5\" class=\"data row3 col5\" >0.229000</td>\n      <td id=\"T_7752f_row3_col6\" class=\"data row3 col6\" >0.098224</td>\n      <td id=\"T_7752f_row3_col7\" class=\"data row3 col7\" >0.098224</td>\n      <td id=\"T_7752f_row3_col8\" class=\"data row3 col8\" >0.106865</td>\n      <td id=\"T_7752f_row3_col9\" class=\"data row3 col9\" >0.124608</td>\n      <td id=\"T_7752f_row3_col10\" class=\"data row3 col10\" >0.000000</td>\n      <td id=\"T_7752f_row3_col11\" class=\"data row3 col11\" >0.000001</td>\n      <td id=\"T_7752f_row3_col12\" class=\"data row3 col12\" >31,32,33,34,35</td>\n      <td id=\"T_7752f_row3_col13\" class=\"data row3 col13\" >16.204000</td>\n      <td id=\"T_7752f_row3_col14\" class=\"data row3 col14\" >0.608000</td>\n    </tr>\n    <tr>\n      <th id=\"T_7752f_level0_row4\" class=\"row_heading level0 row4\" >5</th>\n      <td id=\"T_7752f_row4_col0\" class=\"data row4 col0\" >TMD_C_JMD_C-Seg...6,9)-RADA880106</td>\n      <td id=\"T_7752f_row4_col1\" class=\"data row4 col1\" >ASA/Volume</td>\n      <td id=\"T_7752f_row4_col2\" class=\"data row4 col2\" >Volume</td>\n      <td id=\"T_7752f_row4_col3\" class=\"data row4 col3\" >Accessible surface area (ASA)</td>\n      <td id=\"T_7752f_row4_col4\" class=\"data row4 col4\" >Accessible surf...olfenden, 1988)</td>\n      <td id=\"T_7752f_row4_col5\" class=\"data row4 col5\" >0.223000</td>\n      <td id=\"T_7752f_row4_col6\" class=\"data row4 col6\" >0.095071</td>\n      <td id=\"T_7752f_row4_col7\" class=\"data row4 col7\" >0.095071</td>\n      <td id=\"T_7752f_row4_col8\" class=\"data row4 col8\" >0.114758</td>\n      <td id=\"T_7752f_row4_col9\" class=\"data row4 col9\" >0.132829</td>\n      <td id=\"T_7752f_row4_col10\" class=\"data row4 col10\" >0.000000</td>\n      <td id=\"T_7752f_row4_col11\" class=\"data row4 col11\" >0.000002</td>\n      <td id=\"T_7752f_row4_col12\" class=\"data row4 col12\" >32,33</td>\n      <td id=\"T_7752f_row4_col13\" class=\"data row4 col13\" >7.440000</td>\n      <td id=\"T_7752f_row4_col14\" class=\"data row4 col14\" >0.271000</td>\n    </tr>\n    <tr>\n      <th id=\"T_7752f_level0_row5\" class=\"row_heading level0 row5\" >6</th>\n      <td id=\"T_7752f_row5_col0\" class=\"data row5 col0\" >TMD_C_JMD_C-Seg...2,3)-KLEP840101</td>\n      <td id=\"T_7752f_row5_col1\" class=\"data row5 col1\" >Energy</td>\n      <td id=\"T_7752f_row5_col2\" class=\"data row5 col2\" >Charge</td>\n      <td id=\"T_7752f_row5_col3\" class=\"data row5 col3\" >Charge</td>\n      <td id=\"T_7752f_row5_col4\" class=\"data row5 col4\" >Net charge (Kle...n et al., 1984)</td>\n      <td id=\"T_7752f_row5_col5\" class=\"data row5 col5\" >0.222000</td>\n      <td id=\"T_7752f_row5_col6\" class=\"data row5 col6\" >0.058671</td>\n      <td id=\"T_7752f_row5_col7\" class=\"data row5 col7\" >0.058671</td>\n      <td id=\"T_7752f_row5_col8\" class=\"data row5 col8\" >0.064895</td>\n      <td id=\"T_7752f_row5_col9\" class=\"data row5 col9\" >0.069547</td>\n      <td id=\"T_7752f_row5_col10\" class=\"data row5 col10\" >0.000000</td>\n      <td id=\"T_7752f_row5_col11\" class=\"data row5 col11\" >0.000001</td>\n      <td id=\"T_7752f_row5_col12\" class=\"data row5 col12\" >27,28,29,30,31,32,33</td>\n      <td id=\"T_7752f_row5_col13\" class=\"data row5 col13\" >4.715000</td>\n      <td id=\"T_7752f_row5_col14\" class=\"data row5 col14\" >0.430000</td>\n    </tr>\n    <tr>\n      <th id=\"T_7752f_level0_row6\" class=\"row_heading level0 row6\" >7</th>\n      <td id=\"T_7752f_row6_col0\" class=\"data row6 col0\" >TMD_C_JMD_C-Seg...4,5)-FAUJ880109</td>\n      <td id=\"T_7752f_row6_col1\" class=\"data row6 col1\" >Energy</td>\n      <td id=\"T_7752f_row6_col2\" class=\"data row6 col2\" >Isoelectric point</td>\n      <td id=\"T_7752f_row6_col3\" class=\"data row6 col3\" >Number hydrogen bond donors</td>\n      <td id=\"T_7752f_row6_col4\" class=\"data row6 col4\" >Number of hydro...e et al., 1988)</td>\n      <td id=\"T_7752f_row6_col5\" class=\"data row6 col5\" >0.215000</td>\n      <td id=\"T_7752f_row6_col6\" class=\"data row6 col6\" >0.146661</td>\n      <td id=\"T_7752f_row6_col7\" class=\"data row6 col7\" >0.146661</td>\n      <td id=\"T_7752f_row6_col8\" class=\"data row6 col8\" >0.174609</td>\n      <td id=\"T_7752f_row6_col9\" class=\"data row6 col9\" >0.188034</td>\n      <td id=\"T_7752f_row6_col10\" class=\"data row6 col10\" >0.000000</td>\n      <td id=\"T_7752f_row6_col11\" class=\"data row6 col11\" >0.000004</td>\n      <td id=\"T_7752f_row6_col12\" class=\"data row6 col12\" >33,34,35,36</td>\n      <td id=\"T_7752f_row6_col13\" class=\"data row6 col13\" >6.855000</td>\n      <td id=\"T_7752f_row6_col14\" class=\"data row6 col14\" >0.364000</td>\n    </tr>\n    <tr>\n      <th id=\"T_7752f_level0_row7\" class=\"row_heading level0 row7\" >8</th>\n      <td id=\"T_7752f_row7_col0\" class=\"data row7 col0\" >TMD_C_JMD_C-Seg...3,4)-JANJ780101</td>\n      <td id=\"T_7752f_row7_col1\" class=\"data row7 col1\" >ASA/Volume</td>\n      <td id=\"T_7752f_row7_col2\" class=\"data row7 col2\" >Accessible surface area (ASA)</td>\n      <td id=\"T_7752f_row7_col3\" class=\"data row7 col3\" >ASA (folded protein)</td>\n      <td id=\"T_7752f_row7_col4\" class=\"data row7 col4\" >Average accessi...n et al., 1978)</td>\n      <td id=\"T_7752f_row7_col5\" class=\"data row7 col5\" >0.215000</td>\n      <td id=\"T_7752f_row7_col6\" class=\"data row7 col6\" >0.124317</td>\n      <td id=\"T_7752f_row7_col7\" class=\"data row7 col7\" >0.124317</td>\n      <td id=\"T_7752f_row7_col8\" class=\"data row7 col8\" >0.166309</td>\n      <td id=\"T_7752f_row7_col9\" class=\"data row7 col9\" >0.153364</td>\n      <td id=\"T_7752f_row7_col10\" class=\"data row7 col10\" >0.000000</td>\n      <td id=\"T_7752f_row7_col11\" class=\"data row7 col11\" >0.000004</td>\n      <td id=\"T_7752f_row7_col12\" class=\"data row7 col12\" >31,32,33,34,35</td>\n      <td id=\"T_7752f_row7_col13\" class=\"data row7 col13\" >9.440000</td>\n      <td id=\"T_7752f_row7_col14\" class=\"data row7 col14\" >0.595000</td>\n    </tr>\n    <tr>\n      <th id=\"T_7752f_level0_row8\" class=\"row_heading level0 row8\" >9</th>\n      <td id=\"T_7752f_row8_col0\" class=\"data row8 col0\" >TMD_C_JMD_C-Seg...,10)-WILM950103</td>\n      <td id=\"T_7752f_row8_col1\" class=\"data row8 col1\" >Polarity</td>\n      <td id=\"T_7752f_row8_col2\" class=\"data row8 col2\" >Hydrophobicity (interface)</td>\n      <td id=\"T_7752f_row8_col3\" class=\"data row8 col3\" >Hydrophobicity (interface)</td>\n      <td id=\"T_7752f_row8_col4\" class=\"data row8 col4\" >Hydrophobicity ...e et al., 1995)</td>\n      <td id=\"T_7752f_row8_col5\" class=\"data row8 col5\" >0.212000</td>\n      <td id=\"T_7752f_row8_col6\" class=\"data row8 col6\" >0.141305</td>\n      <td id=\"T_7752f_row8_col7\" class=\"data row8 col7\" >-0.141305</td>\n      <td id=\"T_7752f_row8_col8\" class=\"data row8 col8\" >0.168603</td>\n      <td id=\"T_7752f_row8_col9\" class=\"data row8 col9\" >0.217235</td>\n      <td id=\"T_7752f_row8_col10\" class=\"data row8 col10\" >0.000000</td>\n      <td id=\"T_7752f_row8_col11\" class=\"data row8 col11\" >0.000005</td>\n      <td id=\"T_7752f_row8_col12\" class=\"data row8 col12\" >33,34</td>\n      <td id=\"T_7752f_row8_col13\" class=\"data row8 col13\" >11.299000</td>\n      <td id=\"T_7752f_row8_col14\" class=\"data row8 col14\" >0.685000</td>\n    </tr>\n    <tr>\n      <th id=\"T_7752f_level0_row9\" class=\"row_heading level0 row9\" >10</th>\n      <td id=\"T_7752f_row9_col0\" class=\"data row9 col0\" >TMD_C_JMD_C-Seg...6,9)-AURR980110</td>\n      <td id=\"T_7752f_row9_col1\" class=\"data row9 col1\" >Conformation</td>\n      <td id=\"T_7752f_row9_col2\" class=\"data row9 col2\" >α-helix</td>\n      <td id=\"T_7752f_row9_col3\" class=\"data row9 col3\" >α-helix (middle)</td>\n      <td id=\"T_7752f_row9_col4\" class=\"data row9 col4\" >Normalized posi...ora-Rose, 1998)</td>\n      <td id=\"T_7752f_row9_col5\" class=\"data row9 col5\" >0.211000</td>\n      <td id=\"T_7752f_row9_col6\" class=\"data row9 col6\" >0.125350</td>\n      <td id=\"T_7752f_row9_col7\" class=\"data row9 col7\" >0.125350</td>\n      <td id=\"T_7752f_row9_col8\" class=\"data row9 col8\" >0.160819</td>\n      <td id=\"T_7752f_row9_col9\" class=\"data row9 col9\" >0.174121</td>\n      <td id=\"T_7752f_row9_col10\" class=\"data row9 col10\" >0.000000</td>\n      <td id=\"T_7752f_row9_col11\" class=\"data row9 col11\" >0.000005</td>\n      <td id=\"T_7752f_row9_col12\" class=\"data row9 col12\" >32,33</td>\n      <td id=\"T_7752f_row9_col13\" class=\"data row9 col13\" >19.750000</td>\n      <td id=\"T_7752f_row9_col14\" class=\"data row9 col14\" >0.599000</td>\n    </tr>\n  </tbody>\n</table>\n"
     },
     "metadata": {},
     "output_type": "display_data"
    }
   ],
   "source": [
    "# Drop existing feature columns and insert new ones\n",
    "df_feat = tm.add_feat_importance(df_feat=df_feat, drop=True)\n",
    "aa.display_df(df_feat)"
   ],
   "metadata": {
    "collapsed": false,
    "ExecuteTime": {
     "end_time": "2024-01-14T18:42:25.900533342Z",
     "start_time": "2024-01-14T18:42:25.852692070Z"
    }
   },
   "id": "a5a9d7f4e967fc3f"
  }
 ],
 "metadata": {
  "kernelspec": {
   "display_name": "Python 3",
   "language": "python",
   "name": "python3"
  },
  "language_info": {
   "codemirror_mode": {
    "name": "ipython",
    "version": 2
   },
   "file_extension": ".py",
   "mimetype": "text/x-python",
   "name": "python",
   "nbconvert_exporter": "python",
   "pygments_lexer": "ipython2",
   "version": "2.7.6"
  }
 },
 "nbformat": 4,
 "nbformat_minor": 5
}
