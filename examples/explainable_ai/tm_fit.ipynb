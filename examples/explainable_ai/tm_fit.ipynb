{
 "cells": [
  {
   "cell_type": "markdown",
   "source": [
    "To demonstrate the ``TreeModel.fit()``method, we obtain the ``DOM_GSEC`` example dataset and its respective feature set (see [Breimann24c]_)::"
   ],
   "metadata": {
    "collapsed": false
   },
   "id": "ed68431a64addda8"
  },
  {
   "cell_type": "code",
   "execution_count": 1,
   "outputs": [],
   "source": [
    "import aaanalysis as aa\n",
    "aa.options[\"verbose\"] = False # Disable verbosity\n",
    "\n",
    "df_seq = aa.load_dataset(name=\"DOM_GSEC\")\n",
    "labels = df_seq[\"label\"].to_list()\n",
    "df_feat = aa.load_features(name=\"DOM_GSEC\").head(15)\n",
    "\n",
    "# Create feature matrix\n",
    "sf = aa.SequenceFeature()\n",
    "df_parts = sf.get_df_parts(df_seq=df_seq)\n",
    "X = sf.feature_matrix(features=df_feat[\"feature\"], df_parts=df_parts)"
   ],
   "metadata": {
    "collapsed": false,
    "ExecuteTime": {
     "end_time": "2024-01-14T09:21:28.203602342Z",
     "start_time": "2024-01-14T09:21:24.200951120Z"
    }
   },
   "id": "535d576d07277d53"
  },
  {
   "cell_type": "markdown",
   "source": [
    "We can now create a ``TreeModel`` object and fit it to obtain the importance of each feature and their standard deviation using the ``feat_importance`` and ``feat_importance_std`` attributes:"
   ],
   "metadata": {
    "collapsed": false
   },
   "id": "1e1a81780018b7e3"
  },
  {
   "cell_type": "code",
   "execution_count": 2,
   "outputs": [
    {
     "name": "stdout",
     "output_type": "stream",
     "text": [
      "Feature importance:  [ 1.366  9.789  6.282  8.597  4.876  0.977  3.32   4.681  6.624  9.47\n",
      " 20.422  2.162  4.322  9.888  7.225]\n",
      "Their STD:  [1.682 0.974 0.846 0.619 0.507 1.954 1.69  0.928 0.76  0.472 0.399 1.766\n",
      " 0.125 0.933 0.297]\n"
     ]
    }
   ],
   "source": [
    "tm = aa.TreeModel()\n",
    "tm.fit(X, labels=labels)\n",
    "\n",
    "feat_importance = tm.feat_importance\n",
    "feat_importance_std = tm.feat_importance_std\n",
    "\n",
    "print(\"Feature importance: \", feat_importance)\n",
    "print(\"Their STD: \", feat_importance_std)"
   ],
   "metadata": {
    "collapsed": false,
    "ExecuteTime": {
     "end_time": "2024-01-14T09:22:08.376913290Z",
     "start_time": "2024-01-14T09:21:28.211621644Z"
    }
   },
   "id": "674ff259d6d98a32"
  },
  {
   "cell_type": "markdown",
   "source": [
    "To obtain Monte Carlo estimates of the feature importance, the ``TreeModel.fit()`` method performs 5 rounds of model fitting and averages the feature importance across all rounds. The number of rounds can be adjusted using the ``n_rounds`` parameter:"
   ],
   "metadata": {
    "collapsed": false
   },
   "id": "565f4435696dbf3e"
  },
  {
   "cell_type": "code",
   "execution_count": 3,
   "outputs": [
    {
     "name": "stdout",
     "output_type": "stream",
     "text": [
      "Feature importance:  [ 4.671 11.231  7.857  9.104  6.163  0.     0.     0.     6.779 10.903\n",
      " 23.284  0.     0.    11.213  8.796]\n",
      "Their STD:  [0. 0. 0. 0. 0. 0. 0. 0. 0. 0. 0. 0. 0. 0. 0.]\n"
     ]
    }
   ],
   "source": [
    "tm = aa.TreeModel()\n",
    "tm.fit(X, labels=labels, n_rounds=1)\n",
    "\n",
    "feat_importance = tm.feat_importance\n",
    "feat_importance_std = tm.feat_importance_std\n",
    "\n",
    "print(\"Feature importance: \", feat_importance)\n",
    "print(\"Their STD: \", feat_importance_std)"
   ],
   "metadata": {
    "collapsed": false,
    "ExecuteTime": {
     "end_time": "2024-01-14T09:22:15.684588056Z",
     "start_time": "2024-01-14T09:22:08.413601446Z"
    }
   },
   "id": "d9d6fa8e6a0f6fdb"
  },
  {
   "cell_type": "markdown",
   "source": [
    "Moreover, it applies a recursive feature elimination (RFE) algorithm, which can be disabled by setting ``use_rfe=False``:"
   ],
   "metadata": {
    "collapsed": false
   },
   "id": "2c341aebf03fdcb"
  },
  {
   "cell_type": "code",
   "execution_count": 4,
   "outputs": [
    {
     "name": "stdout",
     "output_type": "stream",
     "text": [
      "Feature importance:  [ 3.295  8.818  5.499  8.106  4.547  3.774  3.977  3.885  5.45   9.482\n",
      " 19.565  3.439  3.523  9.369  7.269]\n"
     ]
    }
   ],
   "source": [
    "tm.fit(X, labels=labels, use_rfe=False)\n",
    "feat_importance = tm.feat_importance\n",
    "\n",
    "print(\"Feature importance: \", feat_importance)"
   ],
   "metadata": {
    "collapsed": false,
    "ExecuteTime": {
     "end_time": "2024-01-14T09:22:18.676898061Z",
     "start_time": "2024-01-14T09:22:15.699064354Z"
    }
   },
   "id": "c93268378a29585c"
  },
  {
   "cell_type": "markdown",
   "source": [
    "The number of features selected per round is controlled by the ``n_feat_min`` and ``n_feat_max`` parameters:"
   ],
   "metadata": {
    "collapsed": false
   },
   "id": "fba4bddfdc440c20"
  },
  {
   "cell_type": "code",
   "execution_count": 5,
   "outputs": [
    {
     "name": "stdout",
     "output_type": "stream",
     "text": [
      "Feature importance:  [ 0.     0.     0.     0.     0.     0.     0.     0.     0.    15.102\n",
      " 69.986  0.     0.    14.913  0.   ]\n"
     ]
    }
   ],
   "source": [
    "tm.fit(X, labels=labels, n_feat_min=1, n_feat_max=3)\n",
    "feat_importance = tm.feat_importance\n",
    "\n",
    "print(\"Feature importance: \", feat_importance)"
   ],
   "metadata": {
    "collapsed": false,
    "ExecuteTime": {
     "end_time": "2024-01-14T09:22:53.266123305Z",
     "start_time": "2024-01-14T09:22:18.702055180Z"
    }
   },
   "id": "b9d508673003bd0e"
  },
  {
   "cell_type": "markdown",
   "source": [
    "The performance measure for the evaluation during each RFE iteration can be set by the ``metric`` parameter (default=``accuracy``):"
   ],
   "metadata": {
    "collapsed": false
   },
   "id": "8f7ff79b77db6055"
  },
  {
   "cell_type": "code",
   "execution_count": 6,
   "outputs": [
    {
     "name": "stdout",
     "output_type": "stream",
     "text": [
      "Feature importance:  [ 2.275 10.089  6.208  8.666  5.225  0.     2.57   4.976  6.653  9.748\n",
      " 21.221  1.403  3.528 10.155  7.282]\n"
     ]
    }
   ],
   "source": [
    "tm.fit(X, labels=labels, metric=\"recall\")\n",
    "feat_importance = tm.feat_importance\n",
    "\n",
    "print(\"Feature importance: \", feat_importance)"
   ],
   "metadata": {
    "collapsed": false,
    "ExecuteTime": {
     "end_time": "2024-01-14T09:23:30.563026837Z",
     "start_time": "2024-01-14T09:22:53.263961442Z"
    }
   },
   "id": "d9b6bbdbb25e0308"
  },
  {
   "cell_type": "markdown",
   "source": [
    "The features eliminated in each step is controlled by the ``step`` parameter (default=1), which can be set to ``None`` to remove in each iteration all features with the lowest importance. This offers a faster but less precise approach:"
   ],
   "metadata": {
    "collapsed": false
   },
   "id": "b77721491d3213d5"
  },
  {
   "cell_type": "code",
   "execution_count": 7,
   "outputs": [
    {
     "name": "stdout",
     "output_type": "stream",
     "text": [
      "Feature importance:  [ 1.533  9.588  6.41   9.032  5.193  0.     3.161  4.399  6.22  10.262\n",
      " 20.224  2.937  3.443  9.966  7.632]\n"
     ]
    }
   ],
   "source": [
    "tm.fit(X, labels=labels, step=None)\n",
    "feat_importance = tm.feat_importance\n",
    "\n",
    "print(\"Feature importance: \", feat_importance)"
   ],
   "metadata": {
    "collapsed": false,
    "ExecuteTime": {
     "end_time": "2024-01-14T09:24:07.962728884Z",
     "start_time": "2024-01-14T09:23:30.581648116Z"
    }
   },
   "id": "56c88a441ea58e1e"
  }
 ],
 "metadata": {
  "kernelspec": {
   "display_name": "Python 3",
   "language": "python",
   "name": "python3"
  },
  "language_info": {
   "codemirror_mode": {
    "name": "ipython",
    "version": 2
   },
   "file_extension": ".py",
   "mimetype": "text/x-python",
   "name": "python",
   "nbconvert_exporter": "python",
   "pygments_lexer": "ipython2",
   "version": "2.7.6"
  }
 },
 "nbformat": 4,
 "nbformat_minor": 5
}
