{
 "cells": [
  {
   "cell_type": "markdown",
   "source": [
    "The ``ShapExplainer`` object can be instantiated without providing any parameter:\n"
   ],
   "metadata": {
    "collapsed": false
   },
   "id": "f31e513edc6ad4cc"
  },
  {
   "cell_type": "code",
   "execution_count": 1,
   "outputs": [],
   "source": [
    "import aaanalysis as aa\n",
    "se = aa.ShapExplainer()"
   ],
   "metadata": {
    "collapsed": false,
    "ExecuteTime": {
     "end_time": "2024-01-21T21:24:58.302839398Z",
     "start_time": "2024-01-21T21:24:54.994126812Z"
    }
   },
   "id": "50cbd84a537843ef"
  },
  {
   "cell_type": "markdown",
   "source": [
    "Two types of models can be provided:\n",
    "\n",
    "- **Shap Explainer model:**\n",
    "Using the ``explainer_class`` parameter, you can select one SHAP explainer model.\n",
    "\n",
    "- **Prediction models:**\n",
    "One or more prediction models (machine learning or deep learning models) can be provided via the ``list_model_class`` parameter. The models must align with the chosen SHAP explainer. For example, the ``TreeExplainer`` is used by default with three tree-based machine learning models, such as random forest:"
   ],
   "metadata": {
    "collapsed": false
   },
   "id": "d6a2151f1e1b3633"
  },
  {
   "cell_type": "code",
   "execution_count": 2,
   "outputs": [],
   "source": [
    "import shap\n",
    "from sklearn.ensemble import RandomForestClassifier, ExtraTreesClassifier\n",
    "\n",
    "# Create explainer and list of models (default)\n",
    "explainer_class = shap.TreeExplainer\n",
    "list_model_classes = [RandomForestClassifier, ExtraTreesClassifier]\n",
    "\n",
    "se = aa.ShapExplainer(explainer_class=explainer_class, \n",
    "                      list_model_classes=list_model_classes)"
   ],
   "metadata": {
    "collapsed": false,
    "ExecuteTime": {
     "end_time": "2024-01-21T21:24:58.674831421Z",
     "start_time": "2024-01-21T21:24:58.322633389Z"
    }
   },
   "id": "544abe028e4c58bf"
  },
  {
   "cell_type": "markdown",
   "source": [
    "Parameters can be provided to the explainer model using the ``explainer_kwargs`` parameter:"
   ],
   "metadata": {
    "collapsed": false
   },
   "id": "6d6d25a7d0abcc4a"
  },
  {
   "cell_type": "code",
   "execution_count": 3,
   "outputs": [],
   "source": [
    "# Use probability output for SHAP values (default)\n",
    "explainer_kwargs = dict(model_output=\"probability\")\n",
    "\n",
    "se = aa.ShapExplainer(explainer_class=explainer_class, explainer_kwargs=explainer_kwargs)"
   ],
   "metadata": {
    "collapsed": false,
    "ExecuteTime": {
     "end_time": "2024-01-21T21:24:59.051032495Z",
     "start_time": "2024-01-21T21:24:58.714199352Z"
    }
   },
   "id": "86e9ff04e8c0ae70"
  },
  {
   "cell_type": "markdown",
   "source": [
    "To provide arguments to the prediction models, you should create a size-matching list of kwargs dictionaries called ``list_model_kwargs``:"
   ],
   "metadata": {
    "collapsed": false
   },
   "id": "4b447a2611267935"
  },
  {
   "cell_type": "code",
   "execution_count": 4,
   "outputs": [],
   "source": [
    "# Create non-default kwargs for tree-based models\n",
    "list_model_classes = [RandomForestClassifier, RandomForestClassifier]\n",
    "list_model_kwargs = [{\"n_estimators\": 64, \"max_depth\": 4}, {\"n_estimators\": 32, \"max_depth\": 3}]\n",
    "\n",
    "# Explainer does not have to change since TreeExplainer is default\n",
    "se = aa.ShapExplainer(list_model_classes=list_model_classes, list_model_kwargs=list_model_kwargs)"
   ],
   "metadata": {
    "collapsed": false,
    "ExecuteTime": {
     "end_time": "2024-01-21T21:24:59.495125636Z",
     "start_time": "2024-01-21T21:24:59.072799062Z"
    }
   },
   "id": "5d22428c420f861c"
  },
  {
   "cell_type": "markdown",
   "source": [
    "If non-tree-based model type is provided, ``explainer_class`` must be adjusted"
   ],
   "metadata": {
    "collapsed": false
   },
   "id": "9cf813f943116430"
  },
  {
   "cell_type": "code",
   "execution_count": 5,
   "outputs": [],
   "source": [
    "from sklearn.linear_model import LogisticRegression, LinearRegression\n",
    "from sklearn.svm import SVC, SVR\n",
    "\n",
    "# Use LinearExplainer for linear models \n",
    "se = aa.ShapExplainer(explainer_class=shap.LinearExplainer, list_model_classes=[LogisticRegression, LinearRegression])\n",
    "\n",
    "# Use KernelExplainer for any model type\n",
    "se = aa.ShapExplainer(explainer_class=shap.KernelExplainer, list_model_classes=[SVC])"
   ],
   "metadata": {
    "collapsed": false,
    "ExecuteTime": {
     "end_time": "2024-01-21T21:24:59.519153382Z",
     "start_time": "2024-01-21T21:24:59.498289252Z"
    }
   },
   "id": "fc82711519392ee0"
  },
  {
   "cell_type": "markdown",
   "source": [
    "The ``KernelExplainer`` is a model-agnostic method (i.e., it works with any prediction model), but it is computationally expensive. In contrast, the ``TreeExplainer`` and the ``LinearExplainer`` are optimized for tree-based and linear model types, respectively, and are ,therefore, more efficient.\n",
    "\n",
    "You can moreover adjust the verbosity mode via ``verbose`` (default=True) and set a random state sed for the prediction models using ``random_state`` (default=None):"
   ],
   "metadata": {
    "collapsed": false
   },
   "id": "3a21681c5ab3363a"
  },
  {
   "cell_type": "code",
   "execution_count": 6,
   "outputs": [],
   "source": [
    "se = aa.ShapExplainer(verbose=False, random_state=42)"
   ],
   "metadata": {
    "collapsed": false,
    "ExecuteTime": {
     "end_time": "2024-01-21T21:24:59.888419551Z",
     "start_time": "2024-01-21T21:24:59.537777574Z"
    }
   },
   "id": "895b4a9ef7d0b2e1"
  }
 ],
 "metadata": {
  "kernelspec": {
   "display_name": "Python 3",
   "language": "python",
   "name": "python3"
  },
  "language_info": {
   "codemirror_mode": {
    "name": "ipython",
    "version": 2
   },
   "file_extension": ".py",
   "mimetype": "text/x-python",
   "name": "python",
   "nbconvert_exporter": "python",
   "pygments_lexer": "ipython2",
   "version": "2.7.6"
  }
 },
 "nbformat": 4,
 "nbformat_minor": 5
}
