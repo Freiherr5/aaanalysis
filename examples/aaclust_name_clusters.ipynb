{
 "cells": [
  {
   "cell_type": "markdown",
   "source": [
    "We first create an example dataset of 100 scales and obtain their ``AAontolgy`` subcategory names to showcase the automatic cluster naming by ``AAclust().name_clusters()`` method: "
   ],
   "metadata": {
    "collapsed": false
   },
   "id": "e487e5acab3f96a5"
  },
  {
   "cell_type": "code",
   "execution_count": 1,
   "outputs": [],
   "source": [
    "import aaanalysis as aa\n",
    "# Create example dataset comprising 100 scales\n",
    "df_scales = aa.load_scales().T.sample(100).T\n",
    "X = df_scales.T\n",
    "df_cat = aa.load_scales(name=\"scales_cat\")\n",
    "dict_scale_name = dict(zip(df_cat[\"scale_id\"], df_cat[\"subcategory\"]))\n",
    "names = [dict_scale_name[s] for s in list(df_scales)]\n",
    "# Fit AAclust model and obtain clustering label for 10 clusters\n",
    "aac = aa.AAclust()\n",
    "aac.fit(X, n_clusters=10)\n",
    "labels = aac.labels_"
   ],
   "metadata": {
    "collapsed": false,
    "ExecuteTime": {
     "end_time": "2023-12-25T22:36:09.850229805Z",
     "start_time": "2023-12-25T22:36:09.378589527Z"
    }
   },
   "id": "63acfb4659f5c01d"
  },
  {
   "cell_type": "markdown",
   "source": [
    "We can now provide the feature matrix ``X``, ``names``, and ``labels`` to the ``AAclust().name_clusters()`` method:"
   ],
   "metadata": {
    "collapsed": false
   },
   "id": "836012de7827ce4e"
  },
  {
   "cell_type": "code",
   "execution_count": 3,
   "outputs": [
    {
     "name": "stdout",
     "output_type": "stream",
     "text": [
      "Name of clusters:  ['AA composition', 'Buried', 'Free energy', 'Hydrophilicity', 'Hydrophobicity', 'MPs', 'Membrane proteins', 'Side chain length', 'α-helix', 'β-turn']\n"
     ]
    }
   ],
   "source": [
    "cluster_names = aac.name_clusters(X, labels=labels, names=names)\n",
    "print(\"Name of clusters: \", list(sorted(set(cluster_names))))"
   ],
   "metadata": {
    "collapsed": false,
    "ExecuteTime": {
     "end_time": "2023-12-25T22:36:21.603897139Z",
     "start_time": "2023-12-25T22:36:21.564432968Z"
    }
   },
   "id": "fe4c3fe3bfe977c6"
  },
  {
   "cell_type": "markdown",
   "source": [
    "These names are automatically shorten, which can be disabled by setting ``shorten_names=False``:"
   ],
   "metadata": {
    "collapsed": false
   },
   "id": "9fab4bb3e814ad5"
  },
  {
   "cell_type": "code",
   "execution_count": 4,
   "outputs": [
    {
     "name": "stdout",
     "output_type": "stream",
     "text": [
      "Longer names:  ['AA composition', 'Buried', 'Free energy (unfolding)', 'Hydrophilicity', 'MPs (anchor)', 'Membrane proteins (MPs)', 'Side chain length', 'Stability', 'α-helix', 'β-turn']\n"
     ]
    }
   ],
   "source": [
    "cluster_names = aac.name_clusters(X, labels=labels, names=names, shorten_names=False)\n",
    "print(\"Longer names: \", list(sorted(set(cluster_names))))"
   ],
   "metadata": {
    "collapsed": false,
    "ExecuteTime": {
     "end_time": "2023-12-25T22:36:22.696863941Z",
     "start_time": "2023-12-25T22:36:22.667969215Z"
    }
   },
   "id": "b75e712a66456a34"
  }
 ],
 "metadata": {
  "kernelspec": {
   "display_name": "Python 3",
   "language": "python",
   "name": "python3"
  },
  "language_info": {
   "codemirror_mode": {
    "name": "ipython",
    "version": 2
   },
   "file_extension": ".py",
   "mimetype": "text/x-python",
   "name": "python",
   "nbconvert_exporter": "python",
   "pygments_lexer": "ipython2",
   "version": "2.7.6"
  }
 },
 "nbformat": 4,
 "nbformat_minor": 5
}
