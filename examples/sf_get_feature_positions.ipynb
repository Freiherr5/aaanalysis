{
 "cells": [
  {
   "cell_type": "markdown",
   "source": [
    "To obtain feature positions, we retrieve feature ids using the ``SequenceFeature().get_features()`` method:"
   ],
   "metadata": {
    "collapsed": false
   },
   "id": "f95139cfb711d458"
  },
  {
   "cell_type": "code",
   "execution_count": 42,
   "outputs": [
    {
     "name": "stdout",
     "output_type": "stream",
     "text": [
      "['TMD-Segment(1,10)-ARGP820101', 'TMD-Segment(2,10)-ARGP820101', 'TMD-Segment(3,10)-ARGP820101', 'TMD-Segment(4,10)-ARGP820101', 'TMD-Segment(5,10)-ARGP820101']\n"
     ]
    }
   ],
   "source": [
    "import aaanalysis as aa\n",
    "sf = aa.SequenceFeature()\n",
    "split_kws = sf.get_split_kws(n_split_min=10, n_split_max=10, split_types=[\"Segment\"])\n",
    "features = sf.get_features(split_kws=split_kws, list_scales=[\"ARGP820101\"])\n",
    "print(features[0:5])"
   ],
   "metadata": {
    "collapsed": false,
    "ExecuteTime": {
     "end_time": "2023-12-29T18:36:14.301449471Z",
     "start_time": "2023-12-29T18:36:14.274643559Z"
    }
   },
   "id": "f48a0d980affa"
  },
  {
   "cell_type": "markdown",
   "source": [
    "A list of feature positions can now be created using the ``SequenceFeature().get_feature_positions()`` method:"
   ],
   "metadata": {
    "collapsed": false
   },
   "id": "20afb10518fcfafa"
  },
  {
   "cell_type": "code",
   "execution_count": 43,
   "outputs": [
    {
     "name": "stdout",
     "output_type": "stream",
     "text": [
      "['11,12', '13,14', '15,16', '17,18', '19,20']\n"
     ]
    }
   ],
   "source": [
    "feature_names = sf.get_feature_positions(features=features)\n",
    "print(feature_names[0:5])"
   ],
   "metadata": {
    "collapsed": false,
    "ExecuteTime": {
     "end_time": "2023-12-29T18:36:15.114549198Z",
     "start_time": "2023-12-29T18:36:15.100786656Z"
    }
   },
   "id": "737c428c9d6333a8"
  },
  {
   "cell_type": "markdown",
   "source": [
    "The start position and the length of the sequence parts (tmd_len, jmd_n_len, and jmd_c_len) can be adjusted:"
   ],
   "metadata": {
    "collapsed": false
   },
   "id": "444efce2cdb1b39a"
  },
  {
   "cell_type": "code",
   "execution_count": 44,
   "outputs": [
    {
     "name": "stdout",
     "output_type": "stream",
     "text": [
      "['30,31', '32,33', '34,35', '36,37', '38,39']\n"
     ]
    }
   ],
   "source": [
    "# Shift start position from 1 to 20\n",
    "feature_names = sf.get_feature_positions(features=features, start=20)\n",
    "print(feature_names[0:5])"
   ],
   "metadata": {
    "collapsed": false,
    "ExecuteTime": {
     "end_time": "2023-12-29T18:36:16.036428961Z",
     "start_time": "2023-12-29T18:36:16.003620887Z"
    }
   },
   "id": "a154424a13db1d14"
  },
  {
   "cell_type": "code",
   "execution_count": 45,
   "outputs": [
    {
     "name": "stdout",
     "output_type": "stream",
     "text": [
      "['Hydrophobicity [11-14]', 'Hydrophobicity [15-18]', 'Hydrophobicity [19-22]', 'Hydrophobicity [23-26]', 'Hydrophobicity [27-30]']\n"
     ]
    }
   ],
   "source": [
    "# Change TMD length from 20 to 100\n",
    "feature_names = sf.get_feature_names(features=features, tmd_len=40)\n",
    "print(feature_names[0:5])"
   ],
   "metadata": {
    "collapsed": false,
    "ExecuteTime": {
     "end_time": "2023-12-29T18:36:16.513135613Z",
     "start_time": "2023-12-29T18:36:16.504822856Z"
    }
   },
   "id": "8dd68f2b0ada84a4"
  },
  {
   "cell_type": "markdown",
   "source": [
    "To obtain amino acid segments or patterns, you can provide sequence parts of respective matching to the respective features using the ``tmd_seq``, ``jmd_n_seq``, and ``jmd_c_seq`` parameters:"
   ],
   "metadata": {
    "collapsed": false
   },
   "id": "9a7415ae1bbdc4fa"
  },
  {
   "cell_type": "code",
   "execution_count": 46,
   "outputs": [
    {
     "name": "stdout",
     "output_type": "stream",
     "text": [
      "['AB', 'CD', 'EF', 'GH', 'IJ']\n"
     ]
    }
   ],
   "source": [
    "tmd_seq = \"ABCDEFGHIJKLMNOPQRST\"\n",
    "feature_names = sf.get_feature_positions(features=features, tmd_seq=tmd_seq)\n",
    "print(feature_names[0:5])"
   ],
   "metadata": {
    "collapsed": false,
    "ExecuteTime": {
     "end_time": "2023-12-29T18:36:17.520940877Z",
     "start_time": "2023-12-29T18:36:17.464096489Z"
    }
   },
   "id": "8220ce8259c1815"
  }
 ],
 "metadata": {
  "kernelspec": {
   "display_name": "Python 3",
   "language": "python",
   "name": "python3"
  },
  "language_info": {
   "codemirror_mode": {
    "name": "ipython",
    "version": 2
   },
   "file_extension": ".py",
   "mimetype": "text/x-python",
   "name": "python",
   "nbconvert_exporter": "python",
   "pygments_lexer": "ipython2",
   "version": "2.7.6"
  }
 },
 "nbformat": 4,
 "nbformat_minor": 5
}
