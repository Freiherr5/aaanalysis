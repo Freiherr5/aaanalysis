{
 "cells": [
  {
   "cell_type": "raw",
   "source": [
    "An overview dataset table is provided as default:"
   ],
   "metadata": {
    "collapsed": false
   },
   "id": "b7fcd7c88d8dc6fb"
  },
  {
   "cell_type": "code",
   "execution_count": 1,
   "outputs": [
    {
     "name": "stdout",
     "output_type": "stream",
     "text": [
      "         Level        Dataset  # Sequences  # Amino acids  # Positives  \\\n",
      "0   Amino acid    AA_CASPASE3          233         185605          705   \n",
      "1   Amino acid       AA_FURIN           71          59003          163   \n",
      "2   Amino acid         AA_LDR          342         118248        35469   \n",
      "3   Amino acid        AA_MMP2          573         312976         2416   \n",
      "4   Amino acid     AA_RNABIND          221          55001         6492   \n",
      "5   Amino acid          AA_SA          233         185605       101082   \n",
      "6     Sequence      SEQ_AMYLO         1414           8484          511   \n",
      "7     Sequence     SEQ_CAPSID         7935        3364680         3864   \n",
      "8     Sequence  SEQ_DISULFIDE         2547         614470          897   \n",
      "9     Sequence   SEQ_LOCATION         1835         732398         1045   \n",
      "10    Sequence    SEQ_SOLUBLE        17408        4432269         8704   \n",
      "11    Sequence       SEQ_TAIL         6668        2671690         2574   \n",
      "12      Domain       DOM_GSEC          126          92964           63   \n",
      "13      Domain    DOM_GSEC_PU          694         494524           63   \n",
      "\n",
      "    # Negatives    Predictor  \\\n",
      "0        184900   PROSPERous   \n",
      "1         58840   PROSPERous   \n",
      "2         82779  IDP-Seq2Seq   \n",
      "3        310560   PROSPERous   \n",
      "4         48509    GMKSVM-RU   \n",
      "5         84523   PROSPERous   \n",
      "6           903    ReRF-Pred   \n",
      "7          4071     VIRALpro   \n",
      "8          1650        Dipro   \n",
      "9           790          NaN   \n",
      "10         8704       SOLpro   \n",
      "11         4094     VIRALpro   \n",
      "12           63          NaN   \n",
      "13            0          NaN   \n",
      "\n",
      "                                          Description              Reference  \\\n",
      "0               Prediction of caspase-3 cleavage site      Song et al., 2018   \n",
      "1                   Prediction of furin cleavage site      Song et al., 2018   \n",
      "2   Prediction of long intrinsically disordered re...      Tang et al., 2020   \n",
      "3   Prediction of Matrix metallopeptidase-2 (MMP2)...      Song et al., 2018   \n",
      "4   Prediction of RNA-binding protein residues (RB...      Yang et al., 2021   \n",
      "5   Prediction of solvent accessibility (SA) of re...      Song et al., 2018   \n",
      "6                Prediction of amyloidognenic regions       Teng et al. 2021   \n",
      "7                      Prediction of capdsid proteins    Galiez et al., 2016   \n",
      "8        Prediction of disulfide bridges in sequences     Cheng et al., 2006   \n",
      "9   Prediction of subcellular location of protein ...      Shen et al., 2019   \n",
      "10       Prediction of soluble and insoluble proteins    Magnan et al., 2009   \n",
      "11                        Prediction of tail proteins    Galiez et al., 2016   \n",
      "12           Prediction of gamma-secretase substrates  Breimann et al, 2024c   \n",
      "13  Prediction of gamma-secretase substrates (PU d...  Breimann et al, 2024c   \n",
      "\n",
      "                                                Label  \n",
      "0   1 (adjacent to cleavage site), 0 (not adjacent...  \n",
      "1   1 (adjacent to cleavage site), 0 (not adjacent...  \n",
      "2                         1 (disordered), 0 (ordered)  \n",
      "3   1 (adjacent to cleavage site), 0 (not adjacent...  \n",
      "4                        1 (binding), 0 (non-binding)  \n",
      "5   1 (exposed/accessible), 0 (buried/non-accessible)  \n",
      "6            1 (amyloidogenic), 0 (non-amyloidogenic)  \n",
      "7          1 (capsid protein), 0 (non-capsid protein)  \n",
      "8   1 (sequence with SS bond), 0 (sequence without...  \n",
      "9   1 (protein in cytoplasm), 0 (protein in plasma...  \n",
      "10                         1 (soluble), 0 (insoluble)  \n",
      "11             1 (tail protein), 0 (non-tail protein)  \n",
      "12                   1 (substrate), 0 (non-substrate)  \n",
      "13        1 (substrate), 2 (unknown substrate status)  \n",
      "DataFrame shape: (14, 10)\n"
     ]
    },
    {
     "data": {
      "text/plain": "<IPython.core.display.HTML object>",
      "text/html": "<style type=\"text/css\">\n#T_31b87 thead th {\n  background-color: white;\n  color: black;\n}\n#T_31b87 tbody tr:nth-child(odd) {\n  background-color: #f2f2f2;\n}\n#T_31b87 tbody tr:nth-child(even) {\n  background-color: white;\n}\n#T_31b87 th {\n  padding: 5px;\n  white-space: nowrap;\n}\n#T_31b87  td {\n  padding: 5px;\n  white-space: nowrap;\n}\n#T_31b87 table {\n  font-size: 12px;\n}\n</style>\n<table id=\"T_31b87\" style='display:block; max-height: 300px; max-width: 100%; overflow-x: auto; overflow-y: auto;'>\n  <thead>\n    <tr>\n      <th class=\"blank level0\" >&nbsp;</th>\n      <th id=\"T_31b87_level0_col0\" class=\"col_heading level0 col0\" >Level</th>\n      <th id=\"T_31b87_level0_col1\" class=\"col_heading level0 col1\" >Dataset</th>\n      <th id=\"T_31b87_level0_col2\" class=\"col_heading level0 col2\" ># Sequences</th>\n      <th id=\"T_31b87_level0_col3\" class=\"col_heading level0 col3\" ># Amino acids</th>\n      <th id=\"T_31b87_level0_col4\" class=\"col_heading level0 col4\" ># Positives</th>\n      <th id=\"T_31b87_level0_col5\" class=\"col_heading level0 col5\" ># Negatives</th>\n      <th id=\"T_31b87_level0_col6\" class=\"col_heading level0 col6\" >Predictor</th>\n      <th id=\"T_31b87_level0_col7\" class=\"col_heading level0 col7\" >Description</th>\n      <th id=\"T_31b87_level0_col8\" class=\"col_heading level0 col8\" >Reference</th>\n      <th id=\"T_31b87_level0_col9\" class=\"col_heading level0 col9\" >Label</th>\n    </tr>\n  </thead>\n  <tbody>\n    <tr>\n      <th id=\"T_31b87_level0_row0\" class=\"row_heading level0 row0\" >1</th>\n      <td id=\"T_31b87_row0_col0\" class=\"data row0 col0\" >Amino acid</td>\n      <td id=\"T_31b87_row0_col1\" class=\"data row0 col1\" >AA_CASPASE3</td>\n      <td id=\"T_31b87_row0_col2\" class=\"data row0 col2\" >233</td>\n      <td id=\"T_31b87_row0_col3\" class=\"data row0 col3\" >185605</td>\n      <td id=\"T_31b87_row0_col4\" class=\"data row0 col4\" >705</td>\n      <td id=\"T_31b87_row0_col5\" class=\"data row0 col5\" >184900</td>\n      <td id=\"T_31b87_row0_col6\" class=\"data row0 col6\" >PROSPERous</td>\n      <td id=\"T_31b87_row0_col7\" class=\"data row0 col7\" >Prediction o...leavage site</td>\n      <td id=\"T_31b87_row0_col8\" class=\"data row0 col8\" >Song et al., 2018</td>\n      <td id=\"T_31b87_row0_col9\" class=\"data row0 col9\" >1 (adjacent ...eavage site)</td>\n    </tr>\n    <tr>\n      <th id=\"T_31b87_level0_row1\" class=\"row_heading level0 row1\" >2</th>\n      <td id=\"T_31b87_row1_col0\" class=\"data row1 col0\" >Amino acid</td>\n      <td id=\"T_31b87_row1_col1\" class=\"data row1 col1\" >AA_FURIN</td>\n      <td id=\"T_31b87_row1_col2\" class=\"data row1 col2\" >71</td>\n      <td id=\"T_31b87_row1_col3\" class=\"data row1 col3\" >59003</td>\n      <td id=\"T_31b87_row1_col4\" class=\"data row1 col4\" >163</td>\n      <td id=\"T_31b87_row1_col5\" class=\"data row1 col5\" >58840</td>\n      <td id=\"T_31b87_row1_col6\" class=\"data row1 col6\" >PROSPERous</td>\n      <td id=\"T_31b87_row1_col7\" class=\"data row1 col7\" >Prediction o...leavage site</td>\n      <td id=\"T_31b87_row1_col8\" class=\"data row1 col8\" >Song et al., 2018</td>\n      <td id=\"T_31b87_row1_col9\" class=\"data row1 col9\" >1 (adjacent ...eavage site)</td>\n    </tr>\n    <tr>\n      <th id=\"T_31b87_level0_row2\" class=\"row_heading level0 row2\" >3</th>\n      <td id=\"T_31b87_row2_col0\" class=\"data row2 col0\" >Amino acid</td>\n      <td id=\"T_31b87_row2_col1\" class=\"data row2 col1\" >AA_LDR</td>\n      <td id=\"T_31b87_row2_col2\" class=\"data row2 col2\" >342</td>\n      <td id=\"T_31b87_row2_col3\" class=\"data row2 col3\" >118248</td>\n      <td id=\"T_31b87_row2_col4\" class=\"data row2 col4\" >35469</td>\n      <td id=\"T_31b87_row2_col5\" class=\"data row2 col5\" >82779</td>\n      <td id=\"T_31b87_row2_col6\" class=\"data row2 col6\" >IDP-Seq2Seq</td>\n      <td id=\"T_31b87_row2_col7\" class=\"data row2 col7\" >Prediction o...egions (LDR)</td>\n      <td id=\"T_31b87_row2_col8\" class=\"data row2 col8\" >Tang et al., 2020</td>\n      <td id=\"T_31b87_row2_col9\" class=\"data row2 col9\" >1 (disordere... 0 (ordered)</td>\n    </tr>\n    <tr>\n      <th id=\"T_31b87_level0_row3\" class=\"row_heading level0 row3\" >4</th>\n      <td id=\"T_31b87_row3_col0\" class=\"data row3 col0\" >Amino acid</td>\n      <td id=\"T_31b87_row3_col1\" class=\"data row3 col1\" >AA_MMP2</td>\n      <td id=\"T_31b87_row3_col2\" class=\"data row3 col2\" >573</td>\n      <td id=\"T_31b87_row3_col3\" class=\"data row3 col3\" >312976</td>\n      <td id=\"T_31b87_row3_col4\" class=\"data row3 col4\" >2416</td>\n      <td id=\"T_31b87_row3_col5\" class=\"data row3 col5\" >310560</td>\n      <td id=\"T_31b87_row3_col6\" class=\"data row3 col6\" >PROSPERous</td>\n      <td id=\"T_31b87_row3_col7\" class=\"data row3 col7\" >Prediction o...leavage site</td>\n      <td id=\"T_31b87_row3_col8\" class=\"data row3 col8\" >Song et al., 2018</td>\n      <td id=\"T_31b87_row3_col9\" class=\"data row3 col9\" >1 (adjacent ...eavage site)</td>\n    </tr>\n    <tr>\n      <th id=\"T_31b87_level0_row4\" class=\"row_heading level0 row4\" >5</th>\n      <td id=\"T_31b87_row4_col0\" class=\"data row4 col0\" >Amino acid</td>\n      <td id=\"T_31b87_row4_col1\" class=\"data row4 col1\" >AA_RNABIND</td>\n      <td id=\"T_31b87_row4_col2\" class=\"data row4 col2\" >221</td>\n      <td id=\"T_31b87_row4_col3\" class=\"data row4 col3\" >55001</td>\n      <td id=\"T_31b87_row4_col4\" class=\"data row4 col4\" >6492</td>\n      <td id=\"T_31b87_row4_col5\" class=\"data row4 col5\" >48509</td>\n      <td id=\"T_31b87_row4_col6\" class=\"data row4 col6\" >GMKSVM-RU</td>\n      <td id=\"T_31b87_row4_col7\" class=\"data row4 col7\" >Prediction o...P60 dataset)</td>\n      <td id=\"T_31b87_row4_col8\" class=\"data row4 col8\" >Yang et al., 2021</td>\n      <td id=\"T_31b87_row4_col9\" class=\"data row4 col9\" >1 (binding),...non-binding)</td>\n    </tr>\n    <tr>\n      <th id=\"T_31b87_level0_row5\" class=\"row_heading level0 row5\" >6</th>\n      <td id=\"T_31b87_row5_col0\" class=\"data row5 col0\" >Amino acid</td>\n      <td id=\"T_31b87_row5_col1\" class=\"data row5 col1\" >AA_SA</td>\n      <td id=\"T_31b87_row5_col2\" class=\"data row5 col2\" >233</td>\n      <td id=\"T_31b87_row5_col3\" class=\"data row5 col3\" >185605</td>\n      <td id=\"T_31b87_row5_col4\" class=\"data row5 col4\" >101082</td>\n      <td id=\"T_31b87_row5_col5\" class=\"data row5 col5\" >84523</td>\n      <td id=\"T_31b87_row5_col6\" class=\"data row5 col6\" >PROSPERous</td>\n      <td id=\"T_31b87_row5_col7\" class=\"data row5 col7\" >Prediction o...E3 data set)</td>\n      <td id=\"T_31b87_row5_col8\" class=\"data row5 col8\" >Song et al., 2018</td>\n      <td id=\"T_31b87_row5_col9\" class=\"data row5 col9\" >1 (exposed/a...-accessible)</td>\n    </tr>\n    <tr>\n      <th id=\"T_31b87_level0_row6\" class=\"row_heading level0 row6\" >7</th>\n      <td id=\"T_31b87_row6_col0\" class=\"data row6 col0\" >Sequence</td>\n      <td id=\"T_31b87_row6_col1\" class=\"data row6 col1\" >SEQ_AMYLO</td>\n      <td id=\"T_31b87_row6_col2\" class=\"data row6 col2\" >1414</td>\n      <td id=\"T_31b87_row6_col3\" class=\"data row6 col3\" >8484</td>\n      <td id=\"T_31b87_row6_col4\" class=\"data row6 col4\" >511</td>\n      <td id=\"T_31b87_row6_col5\" class=\"data row6 col5\" >903</td>\n      <td id=\"T_31b87_row6_col6\" class=\"data row6 col6\" >ReRF-Pred</td>\n      <td id=\"T_31b87_row6_col7\" class=\"data row6 col7\" >Prediction o...enic regions</td>\n      <td id=\"T_31b87_row6_col8\" class=\"data row6 col8\" >Teng et al. 2021</td>\n      <td id=\"T_31b87_row6_col9\" class=\"data row6 col9\" >1 (amyloidog...yloidogenic)</td>\n    </tr>\n    <tr>\n      <th id=\"T_31b87_level0_row7\" class=\"row_heading level0 row7\" >8</th>\n      <td id=\"T_31b87_row7_col0\" class=\"data row7 col0\" >Sequence</td>\n      <td id=\"T_31b87_row7_col1\" class=\"data row7 col1\" >SEQ_CAPSID</td>\n      <td id=\"T_31b87_row7_col2\" class=\"data row7 col2\" >7935</td>\n      <td id=\"T_31b87_row7_col3\" class=\"data row7 col3\" >3364680</td>\n      <td id=\"T_31b87_row7_col4\" class=\"data row7 col4\" >3864</td>\n      <td id=\"T_31b87_row7_col5\" class=\"data row7 col5\" >4071</td>\n      <td id=\"T_31b87_row7_col6\" class=\"data row7 col6\" >VIRALpro</td>\n      <td id=\"T_31b87_row7_col7\" class=\"data row7 col7\" >Prediction o...sid proteins</td>\n      <td id=\"T_31b87_row7_col8\" class=\"data row7 col8\" >Galiez et al., 2016</td>\n      <td id=\"T_31b87_row7_col9\" class=\"data row7 col9\" >1 (capsid pr...sid protein)</td>\n    </tr>\n    <tr>\n      <th id=\"T_31b87_level0_row8\" class=\"row_heading level0 row8\" >9</th>\n      <td id=\"T_31b87_row8_col0\" class=\"data row8 col0\" >Sequence</td>\n      <td id=\"T_31b87_row8_col1\" class=\"data row8 col1\" >SEQ_DISULFIDE</td>\n      <td id=\"T_31b87_row8_col2\" class=\"data row8 col2\" >2547</td>\n      <td id=\"T_31b87_row8_col3\" class=\"data row8 col3\" >614470</td>\n      <td id=\"T_31b87_row8_col4\" class=\"data row8 col4\" >897</td>\n      <td id=\"T_31b87_row8_col5\" class=\"data row8 col5\" >1650</td>\n      <td id=\"T_31b87_row8_col6\" class=\"data row8 col6\" >Dipro</td>\n      <td id=\"T_31b87_row8_col7\" class=\"data row8 col7\" >Prediction o...in sequences</td>\n      <td id=\"T_31b87_row8_col8\" class=\"data row8 col8\" >Cheng et al., 2006</td>\n      <td id=\"T_31b87_row8_col9\" class=\"data row8 col9\" >1 (sequence ...out SS bond)</td>\n    </tr>\n    <tr>\n      <th id=\"T_31b87_level0_row9\" class=\"row_heading level0 row9\" >10</th>\n      <td id=\"T_31b87_row9_col0\" class=\"data row9 col0\" >Sequence</td>\n      <td id=\"T_31b87_row9_col1\" class=\"data row9 col1\" >SEQ_LOCATION</td>\n      <td id=\"T_31b87_row9_col2\" class=\"data row9 col2\" >1835</td>\n      <td id=\"T_31b87_row9_col3\" class=\"data row9 col3\" >732398</td>\n      <td id=\"T_31b87_row9_col4\" class=\"data row9 col4\" >1045</td>\n      <td id=\"T_31b87_row9_col5\" class=\"data row9 col5\" >790</td>\n      <td id=\"T_31b87_row9_col6\" class=\"data row9 col6\" >nan</td>\n      <td id=\"T_31b87_row9_col7\" class=\"data row9 col7\" >Prediction o...ma membrane)</td>\n      <td id=\"T_31b87_row9_col8\" class=\"data row9 col8\" >Shen et al., 2019</td>\n      <td id=\"T_31b87_row9_col9\" class=\"data row9 col9\" >1 (protein i...a membrane) </td>\n    </tr>\n    <tr>\n      <th id=\"T_31b87_level0_row10\" class=\"row_heading level0 row10\" >11</th>\n      <td id=\"T_31b87_row10_col0\" class=\"data row10 col0\" >Sequence</td>\n      <td id=\"T_31b87_row10_col1\" class=\"data row10 col1\" >SEQ_SOLUBLE</td>\n      <td id=\"T_31b87_row10_col2\" class=\"data row10 col2\" >17408</td>\n      <td id=\"T_31b87_row10_col3\" class=\"data row10 col3\" >4432269</td>\n      <td id=\"T_31b87_row10_col4\" class=\"data row10 col4\" >8704</td>\n      <td id=\"T_31b87_row10_col5\" class=\"data row10 col5\" >8704</td>\n      <td id=\"T_31b87_row10_col6\" class=\"data row10 col6\" >SOLpro</td>\n      <td id=\"T_31b87_row10_col7\" class=\"data row10 col7\" >Prediction o...ble proteins</td>\n      <td id=\"T_31b87_row10_col8\" class=\"data row10 col8\" >Magnan et al., 2009</td>\n      <td id=\"T_31b87_row10_col9\" class=\"data row10 col9\" >1 (soluble),... (insoluble)</td>\n    </tr>\n    <tr>\n      <th id=\"T_31b87_level0_row11\" class=\"row_heading level0 row11\" >12</th>\n      <td id=\"T_31b87_row11_col0\" class=\"data row11 col0\" >Sequence</td>\n      <td id=\"T_31b87_row11_col1\" class=\"data row11 col1\" >SEQ_TAIL</td>\n      <td id=\"T_31b87_row11_col2\" class=\"data row11 col2\" >6668</td>\n      <td id=\"T_31b87_row11_col3\" class=\"data row11 col3\" >2671690</td>\n      <td id=\"T_31b87_row11_col4\" class=\"data row11 col4\" >2574</td>\n      <td id=\"T_31b87_row11_col5\" class=\"data row11 col5\" >4094</td>\n      <td id=\"T_31b87_row11_col6\" class=\"data row11 col6\" >VIRALpro</td>\n      <td id=\"T_31b87_row11_col7\" class=\"data row11 col7\" >Prediction o...ail proteins</td>\n      <td id=\"T_31b87_row11_col8\" class=\"data row11 col8\" >Galiez et al., 2016</td>\n      <td id=\"T_31b87_row11_col9\" class=\"data row11 col9\" >1 (tail prot...ail protein)</td>\n    </tr>\n    <tr>\n      <th id=\"T_31b87_level0_row12\" class=\"row_heading level0 row12\" >13</th>\n      <td id=\"T_31b87_row12_col0\" class=\"data row12 col0\" >Domain</td>\n      <td id=\"T_31b87_row12_col1\" class=\"data row12 col1\" >DOM_GSEC</td>\n      <td id=\"T_31b87_row12_col2\" class=\"data row12 col2\" >126</td>\n      <td id=\"T_31b87_row12_col3\" class=\"data row12 col3\" >92964</td>\n      <td id=\"T_31b87_row12_col4\" class=\"data row12 col4\" >63</td>\n      <td id=\"T_31b87_row12_col5\" class=\"data row12 col5\" >63</td>\n      <td id=\"T_31b87_row12_col6\" class=\"data row12 col6\" >nan</td>\n      <td id=\"T_31b87_row12_col7\" class=\"data row12 col7\" >Prediction o...e substrates</td>\n      <td id=\"T_31b87_row12_col8\" class=\"data row12 col8\" >Breimann et al, 2024c</td>\n      <td id=\"T_31b87_row12_col9\" class=\"data row12 col9\" >1 (substrate...n-substrate)</td>\n    </tr>\n    <tr>\n      <th id=\"T_31b87_level0_row13\" class=\"row_heading level0 row13\" >14</th>\n      <td id=\"T_31b87_row13_col0\" class=\"data row13 col0\" >Domain</td>\n      <td id=\"T_31b87_row13_col1\" class=\"data row13 col1\" >DOM_GSEC_PU</td>\n      <td id=\"T_31b87_row13_col2\" class=\"data row13 col2\" >694</td>\n      <td id=\"T_31b87_row13_col3\" class=\"data row13 col3\" >494524</td>\n      <td id=\"T_31b87_row13_col4\" class=\"data row13 col4\" >63</td>\n      <td id=\"T_31b87_row13_col5\" class=\"data row13 col5\" >0</td>\n      <td id=\"T_31b87_row13_col6\" class=\"data row13 col6\" >nan</td>\n      <td id=\"T_31b87_row13_col7\" class=\"data row13 col7\" >Prediction o...(PU dataset)</td>\n      <td id=\"T_31b87_row13_col8\" class=\"data row13 col8\" >Breimann et al, 2024c</td>\n      <td id=\"T_31b87_row13_col9\" class=\"data row13 col9\" >1 (substrate...rate status)</td>\n    </tr>\n  </tbody>\n</table>\n"
     },
     "metadata": {},
     "output_type": "display_data"
    }
   ],
   "source": [
    "import aaanalysis as aa\n",
    "df_info = aa.load_dataset()\n",
    "print(df_info)\n",
    "aa.display_df(df=df_info, show_shape=True)"
   ],
   "metadata": {
    "collapsed": false,
    "ExecuteTime": {
     "end_time": "2023-12-25T14:25:02.888295910Z",
     "start_time": "2023-12-25T14:25:01.668887374Z"
    }
   },
   "id": "initial_id"
  },
  {
   "cell_type": "raw",
   "source": [
    "Load one of the datasets from the overview table by using a name from the 'Dataset' column (e.g., 'SEQ_CAPSID'). The number of proteins per class can be adjusted by the 'n' parameter:"
   ],
   "metadata": {
    "collapsed": false
   },
   "id": "f50cc7c579cff33a"
  },
  {
   "cell_type": "code",
   "execution_count": 2,
   "outputs": [
    {
     "data": {
      "text/plain": "<IPython.core.display.HTML object>",
      "text/html": "<style type=\"text/css\">\n#T_07840 thead th {\n  background-color: white;\n  color: black;\n}\n#T_07840 tbody tr:nth-child(odd) {\n  background-color: #f2f2f2;\n}\n#T_07840 tbody tr:nth-child(even) {\n  background-color: white;\n}\n#T_07840 th {\n  padding: 5px;\n  white-space: nowrap;\n}\n#T_07840  td {\n  padding: 5px;\n  white-space: nowrap;\n}\n#T_07840 table {\n  font-size: 12px;\n}\n</style>\n<table id=\"T_07840\" style='display:block; max-height: 300px; max-width: 100%; overflow-x: auto; overflow-y: auto;'>\n  <thead>\n    <tr>\n      <th class=\"blank level0\" >&nbsp;</th>\n      <th id=\"T_07840_level0_col0\" class=\"col_heading level0 col0\" >entry</th>\n      <th id=\"T_07840_level0_col1\" class=\"col_heading level0 col1\" >sequence</th>\n      <th id=\"T_07840_level0_col2\" class=\"col_heading level0 col2\" >label</th>\n    </tr>\n  </thead>\n  <tbody>\n    <tr>\n      <th id=\"T_07840_level0_row0\" class=\"row_heading level0 row0\" >1</th>\n      <td id=\"T_07840_row0_col0\" class=\"data row0 col0\" >CAPSID_1</td>\n      <td id=\"T_07840_row0_col1\" class=\"data row0 col1\" >MVTHNVKINKHVTRRSYSSA...KGDDDDTPRIPATKLDEENV</td>\n      <td id=\"T_07840_row0_col2\" class=\"data row0 col2\" >0</td>\n    </tr>\n    <tr>\n      <th id=\"T_07840_level0_row1\" class=\"row_heading level0 row1\" >2</th>\n      <td id=\"T_07840_row1_col0\" class=\"data row1 col0\" >CAPSID_2</td>\n      <td id=\"T_07840_row1_col1\" class=\"data row1 col1\" >MKKRQKKMTLSNFTDTSFQD...VFMRMAMLEAVINARHFGEE</td>\n      <td id=\"T_07840_row1_col2\" class=\"data row1 col2\" >0</td>\n    </tr>\n    <tr>\n      <th id=\"T_07840_level0_row2\" class=\"row_heading level0 row2\" >3</th>\n      <td id=\"T_07840_row2_col0\" class=\"data row2 col0\" >CAPSID_4072</td>\n      <td id=\"T_07840_row2_col1\" class=\"data row2 col1\" >MALTTNDVITEDFVRETVEE...IFTRKAWKAIFPEAAVKVDA</td>\n      <td id=\"T_07840_row2_col2\" class=\"data row2 col2\" >1</td>\n    </tr>\n    <tr>\n      <th id=\"T_07840_level0_row3\" class=\"row_heading level0 row3\" >4</th>\n      <td id=\"T_07840_row3_col0\" class=\"data row3 col0\" >CAPSID_4073</td>\n      <td id=\"T_07840_row3_col1\" class=\"data row3 col1\" >MGELTDNGVQLAKAQIGKHQ...TIGQLTCTNPAAHAKIRDLK</td>\n      <td id=\"T_07840_row3_col2\" class=\"data row3 col2\" >1</td>\n    </tr>\n  </tbody>\n</table>\n"
     },
     "metadata": {},
     "output_type": "display_data"
    }
   ],
   "source": [
    "df_seq = aa.load_dataset(name=\"SEQ_CAPSID\", n=2)\n",
    "aa.display_df(df=df_seq, char_limit=40)"
   ],
   "metadata": {
    "collapsed": false,
    "ExecuteTime": {
     "end_time": "2023-12-14T18:35:55.010247111Z",
     "start_time": "2023-12-14T18:35:54.721281177Z"
    }
   },
   "id": "29441ff404197ad8"
  },
  {
   "cell_type": "raw",
   "source": [
    "Samples for amino acid ('AA') level datasets are provided by specyfing their amino acid window size using the  TODO ..."
   ],
   "metadata": {
    "collapsed": false
   },
   "id": "dd553d6efa8cb3e0"
  },
  {
   "cell_type": "code",
   "execution_count": 3,
   "outputs": [
    {
     "data": {
      "text/plain": "<IPython.core.display.HTML object>",
      "text/html": "<style type=\"text/css\">\n#T_32a39 thead th {\n  background-color: white;\n  color: black;\n}\n#T_32a39 tbody tr:nth-child(odd) {\n  background-color: #f2f2f2;\n}\n#T_32a39 tbody tr:nth-child(even) {\n  background-color: white;\n}\n#T_32a39 th {\n  padding: 5px;\n  white-space: nowrap;\n}\n#T_32a39  td {\n  padding: 5px;\n  white-space: nowrap;\n}\n#T_32a39 table {\n  font-size: 12px;\n}\n</style>\n<table id=\"T_32a39\" style='display:block; max-height: 300px; max-width: 100%; overflow-x: auto; overflow-y: auto;'>\n  <thead>\n    <tr>\n      <th class=\"blank level0\" >&nbsp;</th>\n      <th id=\"T_32a39_level0_col0\" class=\"col_heading level0 col0\" >entry</th>\n      <th id=\"T_32a39_level0_col1\" class=\"col_heading level0 col1\" >sequence</th>\n      <th id=\"T_32a39_level0_col2\" class=\"col_heading level0 col2\" >label</th>\n    </tr>\n  </thead>\n  <tbody>\n    <tr>\n      <th id=\"T_32a39_level0_row0\" class=\"row_heading level0 row0\" >1</th>\n      <td id=\"T_32a39_row0_col0\" class=\"data row0 col0\" >CASPASE3_1_pos4</td>\n      <td id=\"T_32a39_row0_col1\" class=\"data row0 col1\" >MSLFDLFRG</td>\n      <td id=\"T_32a39_row0_col2\" class=\"data row0 col2\" >0</td>\n    </tr>\n    <tr>\n      <th id=\"T_32a39_level0_row1\" class=\"row_heading level0 row1\" >2</th>\n      <td id=\"T_32a39_row1_col0\" class=\"data row1 col0\" >CASPASE3_1_pos5</td>\n      <td id=\"T_32a39_row1_col1\" class=\"data row1 col1\" >SLFDLFRGF</td>\n      <td id=\"T_32a39_row1_col2\" class=\"data row1 col2\" >0</td>\n    </tr>\n    <tr>\n      <th id=\"T_32a39_level0_row2\" class=\"row_heading level0 row2\" >3</th>\n      <td id=\"T_32a39_row2_col0\" class=\"data row2 col0\" >CASPASE3_1_pos126</td>\n      <td id=\"T_32a39_row2_col1\" class=\"data row2 col1\" >QTLRDSMLK</td>\n      <td id=\"T_32a39_row2_col2\" class=\"data row2 col2\" >1</td>\n    </tr>\n    <tr>\n      <th id=\"T_32a39_level0_row3\" class=\"row_heading level0 row3\" >4</th>\n      <td id=\"T_32a39_row3_col0\" class=\"data row3 col0\" >CASPASE3_1_pos127</td>\n      <td id=\"T_32a39_row3_col1\" class=\"data row3 col1\" >TLRDSMLKY</td>\n      <td id=\"T_32a39_row3_col2\" class=\"data row3 col2\" >1</td>\n    </tr>\n  </tbody>\n</table>\n"
     },
     "metadata": {},
     "output_type": "display_data"
    }
   ],
   "source": [
    "df_aa = aa.load_dataset(name=\"AA_CASPASE3\", n=2)\n",
    "aa.display_df(df=df_aa)"
   ],
   "metadata": {
    "collapsed": false,
    "ExecuteTime": {
     "end_time": "2023-12-14T18:35:57.020014546Z",
     "start_time": "2023-12-14T18:35:56.422548792Z"
    }
   },
   "id": "9429cb6eb0a0e028"
  },
  {
   "cell_type": "code",
   "execution_count": 3,
   "outputs": [
    {
     "name": "stdout",
     "output_type": "stream",
     "text": [
      "AA_CASPASE3 183741 183741\n",
      "AA_FURIN 58435 58435\n",
      "AA_LDR 115512 115512\n",
      "AA_MMP2 308392 308392\n",
      "AA_RNABIND 53233 53233\n",
      "AA_SA 183741 183741\n",
      "SEQ_AMYLO 1414 1414\n",
      "SEQ_CAPSID 7935 7862\n",
      "SEQ_DISULFIDE 2547 2202\n",
      "SEQ_LOCATION 1835 1835\n",
      "SEQ_SOLUBLE 17408 16902\n",
      "SEQ_TAIL 6668 6640\n",
      "DOM_GSEC 126 126\n",
      "DOM_GSEC_PU 694 694\n"
     ]
    }
   ],
   "source": [
    "for name in df_info[\"Dataset\"]:\n",
    "    n_unfiltered = len(aa.load_dataset(name=name, non_canonical_aa=\"keep\"))\n",
    "    n =len(aa.load_dataset(name=name))\n",
    "    print(name, n_unfiltered, n)    "
   ],
   "metadata": {
    "collapsed": false,
    "ExecuteTime": {
     "end_time": "2023-12-25T14:30:33.275453581Z",
     "start_time": "2023-12-25T14:30:30.243686123Z"
    }
   },
   "id": "db266cb0abc965c8"
  },
  {
   "cell_type": "code",
   "execution_count": null,
   "outputs": [],
   "source": [],
   "metadata": {
    "collapsed": false
   },
   "id": "71af426d804238c6"
  }
 ],
 "metadata": {
  "kernelspec": {
   "display_name": "Python 3",
   "language": "python",
   "name": "python3"
  },
  "language_info": {
   "codemirror_mode": {
    "name": "ipython",
    "version": 2
   },
   "file_extension": ".py",
   "mimetype": "text/x-python",
   "name": "python",
   "nbconvert_exporter": "python",
   "pygments_lexer": "ipython2",
   "version": "2.7.6"
  }
 },
 "nbformat": 4,
 "nbformat_minor": 5
}
