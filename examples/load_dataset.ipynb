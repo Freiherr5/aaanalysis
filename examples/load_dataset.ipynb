{
 "cells": [
  {
   "cell_type": "raw",
   "source": [
    "An overview dataset table is provided as default:"
   ],
   "metadata": {
    "collapsed": false
   },
   "id": "b7fcd7c88d8dc6fb"
  },
  {
   "cell_type": "code",
   "execution_count": 1,
   "outputs": [
    {
     "ename": "ModuleNotFoundError",
     "evalue": "No module named 'aaanalysis.feature_engineering._backend.cpp._utils_feature'",
     "output_type": "error",
     "traceback": [
      "\u001B[0;31m---------------------------------------------------------------------------\u001B[0m",
      "\u001B[0;31mModuleNotFoundError\u001B[0m                       Traceback (most recent call last)",
      "Cell \u001B[0;32mIn[1], line 1\u001B[0m\n\u001B[0;32m----> 1\u001B[0m \u001B[38;5;28;01mimport\u001B[39;00m \u001B[38;5;21;01maaanalysis\u001B[39;00m \u001B[38;5;28;01mas\u001B[39;00m \u001B[38;5;21;01maa\u001B[39;00m\n\u001B[1;32m      2\u001B[0m df_info \u001B[38;5;241m=\u001B[39m aa\u001B[38;5;241m.\u001B[39mload_dataset()\n\u001B[1;32m      3\u001B[0m aa\u001B[38;5;241m.\u001B[39mdisplay_df(df\u001B[38;5;241m=\u001B[39mdf_info, show_shape\u001B[38;5;241m=\u001B[39m\u001B[38;5;28;01mTrue\u001B[39;00m)\n",
      "File \u001B[0;32m~/Programming/Pycharm_Projekte/1Packages/aaanalysis/aaanalysis/__init__.py:2\u001B[0m\n\u001B[1;32m      1\u001B[0m \u001B[38;5;28;01mfrom\u001B[39;00m \u001B[38;5;21;01m.\u001B[39;00m\u001B[38;5;21;01mdata_handling\u001B[39;00m \u001B[38;5;28;01mimport\u001B[39;00m load_dataset, load_scales, load_features, to_fasta\n\u001B[0;32m----> 2\u001B[0m \u001B[38;5;28;01mfrom\u001B[39;00m \u001B[38;5;21;01m.\u001B[39;00m\u001B[38;5;21;01mfeature_engineering\u001B[39;00m \u001B[38;5;28;01mimport\u001B[39;00m AAclust, AAclustPlot, SequenceFeature, CPP, CPPPlot\n\u001B[1;32m      3\u001B[0m \u001B[38;5;28;01mfrom\u001B[39;00m \u001B[38;5;21;01m.\u001B[39;00m\u001B[38;5;21;01mpu_learning\u001B[39;00m \u001B[38;5;28;01mimport\u001B[39;00m dPULearn\n\u001B[1;32m      4\u001B[0m \u001B[38;5;28;01mfrom\u001B[39;00m \u001B[38;5;21;01m.\u001B[39;00m\u001B[38;5;21;01mexplainable_ai\u001B[39;00m \u001B[38;5;28;01mimport\u001B[39;00m TreeModel, ShapModel\n",
      "File \u001B[0;32m~/Programming/Pycharm_Projekte/1Packages/aaanalysis/aaanalysis/feature_engineering/__init__.py:3\u001B[0m\n\u001B[1;32m      1\u001B[0m \u001B[38;5;28;01mfrom\u001B[39;00m \u001B[38;5;21;01m.\u001B[39;00m\u001B[38;5;21;01m_aaclust\u001B[39;00m \u001B[38;5;28;01mimport\u001B[39;00m AAclust\n\u001B[1;32m      2\u001B[0m \u001B[38;5;28;01mfrom\u001B[39;00m \u001B[38;5;21;01m.\u001B[39;00m\u001B[38;5;21;01m_aaclust_plot\u001B[39;00m \u001B[38;5;28;01mimport\u001B[39;00m AAclustPlot\n\u001B[0;32m----> 3\u001B[0m \u001B[38;5;28;01mfrom\u001B[39;00m \u001B[38;5;21;01m.\u001B[39;00m\u001B[38;5;21;01m_cpp_plot\u001B[39;00m \u001B[38;5;28;01mimport\u001B[39;00m CPPPlot\n\u001B[1;32m      4\u001B[0m \u001B[38;5;28;01mfrom\u001B[39;00m \u001B[38;5;21;01m.\u001B[39;00m\u001B[38;5;21;01m_cpp\u001B[39;00m \u001B[38;5;28;01mimport\u001B[39;00m CPP\n\u001B[1;32m      5\u001B[0m \u001B[38;5;28;01mfrom\u001B[39;00m \u001B[38;5;21;01m.\u001B[39;00m\u001B[38;5;21;01m_sequence_feature\u001B[39;00m \u001B[38;5;28;01mimport\u001B[39;00m SequenceFeature\n",
      "File \u001B[0;32m~/Programming/Pycharm_Projekte/1Packages/aaanalysis/aaanalysis/feature_engineering/_cpp_plot.py:14\u001B[0m\n\u001B[1;32m     11\u001B[0m \u001B[38;5;28;01mimport\u001B[39;00m \u001B[38;5;21;01maaanalysis\u001B[39;00m \u001B[38;5;28;01mas\u001B[39;00m \u001B[38;5;21;01maa\u001B[39;00m\n\u001B[1;32m     12\u001B[0m \u001B[38;5;28;01mimport\u001B[39;00m \u001B[38;5;21;01maaanalysis\u001B[39;00m\u001B[38;5;21;01m.\u001B[39;00m\u001B[38;5;21;01mutils\u001B[39;00m \u001B[38;5;28;01mas\u001B[39;00m \u001B[38;5;21;01mut\u001B[39;00m\n\u001B[0;32m---> 14\u001B[0m \u001B[38;5;28;01mfrom\u001B[39;00m \u001B[38;5;21;01m.\u001B[39;00m\u001B[38;5;21;01m_backend\u001B[39;00m\u001B[38;5;21;01m.\u001B[39;00m\u001B[38;5;21;01mcheck_feature\u001B[39;00m \u001B[38;5;28;01mimport\u001B[39;00m (check_split_kws,\n\u001B[1;32m     15\u001B[0m                                      check_parts_len, check_match_features_seq_parts,\n\u001B[1;32m     16\u001B[0m                                      check_df_seq,\n\u001B[1;32m     17\u001B[0m                                      check_df_parts, check_match_df_parts_features, check_match_df_parts_list_parts,\n\u001B[1;32m     18\u001B[0m                                      check_df_scales, check_match_df_scales_features,\n\u001B[1;32m     19\u001B[0m                                      check_df_cat, check_match_df_cat_features,\n\u001B[1;32m     20\u001B[0m                                      check_match_df_parts_df_scales, check_match_df_scales_df_cat)\n\u001B[1;32m     21\u001B[0m \u001B[38;5;28;01mfrom\u001B[39;00m \u001B[38;5;21;01m.\u001B[39;00m\u001B[38;5;21;01m_backend\u001B[39;00m\u001B[38;5;21;01m.\u001B[39;00m\u001B[38;5;21;01mcpp\u001B[39;00m\u001B[38;5;21;01m.\u001B[39;00m\u001B[38;5;21;01mutils_cpp_plot\u001B[39;00m \u001B[38;5;28;01mimport\u001B[39;00m get_optimal_fontsize\n\u001B[1;32m     23\u001B[0m \u001B[38;5;28;01mfrom\u001B[39;00m \u001B[38;5;21;01m.\u001B[39;00m\u001B[38;5;21;01m_backend\u001B[39;00m\u001B[38;5;21;01m.\u001B[39;00m\u001B[38;5;21;01mcpp\u001B[39;00m\u001B[38;5;21;01m.\u001B[39;00m\u001B[38;5;21;01mcpp_plot_feature\u001B[39;00m \u001B[38;5;28;01mimport\u001B[39;00m plot_feature\n",
      "File \u001B[0;32m~/Programming/Pycharm_Projekte/1Packages/aaanalysis/aaanalysis/feature_engineering/_backend/check_feature.py:9\u001B[0m\n\u001B[1;32m      6\u001B[0m \u001B[38;5;28;01mimport\u001B[39;00m \u001B[38;5;21;01mwarnings\u001B[39;00m\n\u001B[1;32m      8\u001B[0m \u001B[38;5;28;01mimport\u001B[39;00m \u001B[38;5;21;01maaanalysis\u001B[39;00m\u001B[38;5;21;01m.\u001B[39;00m\u001B[38;5;21;01mutils\u001B[39;00m \u001B[38;5;28;01mas\u001B[39;00m \u001B[38;5;21;01mut\u001B[39;00m\n\u001B[0;32m----> 9\u001B[0m \u001B[38;5;28;01mfrom\u001B[39;00m \u001B[38;5;21;01m.\u001B[39;00m\u001B[38;5;21;01mcpp\u001B[39;00m\u001B[38;5;21;01m.\u001B[39;00m\u001B[38;5;21;01m_utils_feature\u001B[39;00m \u001B[38;5;28;01mimport\u001B[39;00m get_parts\n\u001B[1;32m     12\u001B[0m \u001B[38;5;66;03m# Helper functions\u001B[39;00m\n\u001B[1;32m     13\u001B[0m \u001B[38;5;28;01mdef\u001B[39;00m \u001B[38;5;21m_get_min_pos_split\u001B[39m(split\u001B[38;5;241m=\u001B[39m\u001B[38;5;28;01mNone\u001B[39;00m):\n",
      "\u001B[0;31mModuleNotFoundError\u001B[0m: No module named 'aaanalysis.feature_engineering._backend.cpp._utils_feature'"
     ]
    }
   ],
   "source": [
    "import aaanalysis as aa\n",
    "df_info = aa.load_dataset()\n",
    "aa.display_df(df=df_info, show_shape=True)"
   ],
   "metadata": {
    "collapsed": false,
    "ExecuteTime": {
     "end_time": "2023-12-11T08:22:05.098648102Z",
     "start_time": "2023-12-11T08:22:02.275989430Z"
    }
   },
   "id": "initial_id"
  },
  {
   "cell_type": "raw",
   "source": [
    "Load one of the datasets from the overview table by using a name from the 'Dataset' column (e.g., 'SEQ_CAPSID'). The number of proteins per class can be adjusted by the 'n' parameter:"
   ],
   "metadata": {
    "collapsed": false
   },
   "id": "f50cc7c579cff33a"
  },
  {
   "cell_type": "code",
   "execution_count": 4,
   "outputs": [
    {
     "data": {
      "text/plain": "<IPython.core.display.HTML object>",
      "text/html": "<style type=\"text/css\">\n#T_69131 thead th {\n  background-color: white;\n  color: black;\n}\n#T_69131 tbody tr:nth-child(odd) {\n  background-color: #f2f2f2;\n}\n#T_69131 tbody tr:nth-child(even) {\n  background-color: white;\n}\n#T_69131 th {\n  padding: 5px;\n  white-space: nowrap;\n}\n#T_69131  td {\n  padding: 5px;\n  white-space: nowrap;\n}\n#T_69131 table {\n  font-size: 12px;\n}\n</style>\n<table id=\"T_69131\" style='display:block; max-height: 300px; max-width: 100%; overflow-x: auto; overflow-y: auto;'>\n  <thead>\n    <tr>\n      <th class=\"blank level0\" >&nbsp;</th>\n      <th id=\"T_69131_level0_col0\" class=\"col_heading level0 col0\" >entry</th>\n      <th id=\"T_69131_level0_col1\" class=\"col_heading level0 col1\" >sequence</th>\n      <th id=\"T_69131_level0_col2\" class=\"col_heading level0 col2\" >label</th>\n    </tr>\n  </thead>\n  <tbody>\n    <tr>\n      <th id=\"T_69131_level0_row0\" class=\"row_heading level0 row0\" >1</th>\n      <td id=\"T_69131_row0_col0\" class=\"data row0 col0\" >CAPSID_1</td>\n      <td id=\"T_69131_row0_col1\" class=\"data row0 col1\" >MVTHNVKINKHVTRRSYSSA...KGDDDDTPRIPATKLDEENV</td>\n      <td id=\"T_69131_row0_col2\" class=\"data row0 col2\" >0</td>\n    </tr>\n    <tr>\n      <th id=\"T_69131_level0_row1\" class=\"row_heading level0 row1\" >2</th>\n      <td id=\"T_69131_row1_col0\" class=\"data row1 col0\" >CAPSID_2</td>\n      <td id=\"T_69131_row1_col1\" class=\"data row1 col1\" >MKKRQKKMTLSNFTDTSFQD...VFMRMAMLEAVINARHFGEE</td>\n      <td id=\"T_69131_row1_col2\" class=\"data row1 col2\" >0</td>\n    </tr>\n    <tr>\n      <th id=\"T_69131_level0_row2\" class=\"row_heading level0 row2\" >3</th>\n      <td id=\"T_69131_row2_col0\" class=\"data row2 col0\" >CAPSID_4072</td>\n      <td id=\"T_69131_row2_col1\" class=\"data row2 col1\" >MALTTNDVITEDFVRETVEE...IFTRKAWKAIFPEAAVKVDA</td>\n      <td id=\"T_69131_row2_col2\" class=\"data row2 col2\" >1</td>\n    </tr>\n    <tr>\n      <th id=\"T_69131_level0_row3\" class=\"row_heading level0 row3\" >4</th>\n      <td id=\"T_69131_row3_col0\" class=\"data row3 col0\" >CAPSID_4073</td>\n      <td id=\"T_69131_row3_col1\" class=\"data row3 col1\" >MGELTDNGVQLAKAQIGKHQ...TIGQLTCTNPAAHAKIRDLK</td>\n      <td id=\"T_69131_row3_col2\" class=\"data row3 col2\" >1</td>\n    </tr>\n  </tbody>\n</table>\n"
     },
     "metadata": {},
     "output_type": "display_data"
    }
   ],
   "source": [
    "df_seq = aa.load_dataset(name=\"SEQ_CAPSID\", n=2)\n",
    "aa.display_df(df=df_seq, char_limit=40)"
   ],
   "metadata": {
    "collapsed": false,
    "ExecuteTime": {
     "end_time": "2023-12-07T15:24:04.650156383Z",
     "start_time": "2023-12-07T15:24:04.347354462Z"
    }
   },
   "id": "29441ff404197ad8"
  },
  {
   "cell_type": "raw",
   "source": [
    "Samples for amino acid ('AA') level datasets are provided by specyfing their amino acid window size using the  TODO ..."
   ],
   "metadata": {
    "collapsed": false
   },
   "id": "dd553d6efa8cb3e0"
  },
  {
   "cell_type": "code",
   "execution_count": 5,
   "outputs": [
    {
     "data": {
      "text/plain": "<IPython.core.display.HTML object>",
      "text/html": "<style type=\"text/css\">\n#T_a8670 thead th {\n  background-color: white;\n  color: black;\n}\n#T_a8670 tbody tr:nth-child(odd) {\n  background-color: #f2f2f2;\n}\n#T_a8670 tbody tr:nth-child(even) {\n  background-color: white;\n}\n#T_a8670 th {\n  padding: 5px;\n  white-space: nowrap;\n}\n#T_a8670  td {\n  padding: 5px;\n  white-space: nowrap;\n}\n#T_a8670 table {\n  font-size: 12px;\n}\n</style>\n<table id=\"T_a8670\" style='display:block; max-height: 300px; max-width: 100%; overflow-x: auto; overflow-y: auto;'>\n  <thead>\n    <tr>\n      <th class=\"blank level0\" >&nbsp;</th>\n      <th id=\"T_a8670_level0_col0\" class=\"col_heading level0 col0\" >entry</th>\n      <th id=\"T_a8670_level0_col1\" class=\"col_heading level0 col1\" >sequence</th>\n      <th id=\"T_a8670_level0_col2\" class=\"col_heading level0 col2\" >label</th>\n    </tr>\n  </thead>\n  <tbody>\n    <tr>\n      <th id=\"T_a8670_level0_row0\" class=\"row_heading level0 row0\" >1</th>\n      <td id=\"T_a8670_row0_col0\" class=\"data row0 col0\" >CASPASE3_1_pos126</td>\n      <td id=\"T_a8670_row0_col1\" class=\"data row0 col1\" >QTLRDSMLK</td>\n      <td id=\"T_a8670_row0_col2\" class=\"data row0 col2\" >1</td>\n    </tr>\n    <tr>\n      <th id=\"T_a8670_level0_row1\" class=\"row_heading level0 row1\" >2</th>\n      <td id=\"T_a8670_row1_col0\" class=\"data row1 col0\" >CASPASE3_1_pos127</td>\n      <td id=\"T_a8670_row1_col1\" class=\"data row1 col1\" >TLRDSMLKY</td>\n      <td id=\"T_a8670_row1_col2\" class=\"data row1 col2\" >1</td>\n    </tr>\n    <tr>\n      <th id=\"T_a8670_level0_row2\" class=\"row_heading level0 row2\" >3</th>\n      <td id=\"T_a8670_row2_col0\" class=\"data row2 col0\" >CASPASE3_1_pos4</td>\n      <td id=\"T_a8670_row2_col1\" class=\"data row2 col1\" >MSLFDLFRG</td>\n      <td id=\"T_a8670_row2_col2\" class=\"data row2 col2\" >0</td>\n    </tr>\n    <tr>\n      <th id=\"T_a8670_level0_row3\" class=\"row_heading level0 row3\" >4</th>\n      <td id=\"T_a8670_row3_col0\" class=\"data row3 col0\" >CASPASE3_1_pos5</td>\n      <td id=\"T_a8670_row3_col1\" class=\"data row3 col1\" >SLFDLFRGF</td>\n      <td id=\"T_a8670_row3_col2\" class=\"data row3 col2\" >0</td>\n    </tr>\n  </tbody>\n</table>\n"
     },
     "metadata": {},
     "output_type": "display_data"
    }
   ],
   "source": [
    "df_aa = aa.load_dataset(name=\"AA_CASPASE3\", n=2)\n",
    "aa.display_df(df=df_aa)"
   ],
   "metadata": {
    "collapsed": false,
    "ExecuteTime": {
     "end_time": "2023-12-07T15:24:06.904394712Z",
     "start_time": "2023-12-07T15:24:06.334417974Z"
    }
   },
   "id": "9429cb6eb0a0e028"
  }
 ],
 "metadata": {
  "kernelspec": {
   "display_name": "Python 3",
   "language": "python",
   "name": "python3"
  },
  "language_info": {
   "codemirror_mode": {
    "name": "ipython",
    "version": 2
   },
   "file_extension": ".py",
   "mimetype": "text/x-python",
   "name": "python",
   "nbconvert_exporter": "python",
   "pygments_lexer": "ipython2",
   "version": "2.7.6"
  }
 },
 "nbformat": 4,
 "nbformat_minor": 5
}
