{
 "cells": [
  {
   "cell_type": "markdown",
   "source": [
    "An overview dataset table is provided as default, where the suffix in the 'Dataset' ('AA', 'SEQ', and 'DOM') column corresponds to the 'Level' values ('Amino acid', 'Sequence', and 'Domain' level):"
   ],
   "metadata": {
    "collapsed": false
   },
   "id": "d64f6a126f1e115d"
  },
  {
   "cell_type": "code",
   "execution_count": 30,
   "outputs": [
    {
     "name": "stdout",
     "output_type": "stream",
     "text": [
      "DataFrame shape: (14, 10)\n"
     ]
    },
    {
     "data": {
      "text/plain": "<IPython.core.display.HTML object>",
      "text/html": "<style type=\"text/css\">\n#T_698fc thead th {\n  background-color: white;\n  color: black;\n}\n#T_698fc tbody tr:nth-child(odd) {\n  background-color: #f2f2f2;\n}\n#T_698fc tbody tr:nth-child(even) {\n  background-color: white;\n}\n#T_698fc th {\n  padding: 5px;\n  white-space: nowrap;\n}\n#T_698fc  td {\n  padding: 5px;\n  white-space: nowrap;\n}\n#T_698fc table {\n  font-size: 12px;\n}\n</style>\n<table id=\"T_698fc\" style='display:block; max-height: 300px; max-width: 100%; overflow-x: auto; overflow-y: auto;'>\n  <thead>\n    <tr>\n      <th class=\"blank level0\" >&nbsp;</th>\n      <th id=\"T_698fc_level0_col0\" class=\"col_heading level0 col0\" >Level</th>\n      <th id=\"T_698fc_level0_col1\" class=\"col_heading level0 col1\" >Dataset</th>\n      <th id=\"T_698fc_level0_col2\" class=\"col_heading level0 col2\" ># Sequences</th>\n      <th id=\"T_698fc_level0_col3\" class=\"col_heading level0 col3\" ># Amino acids</th>\n      <th id=\"T_698fc_level0_col4\" class=\"col_heading level0 col4\" ># Positives</th>\n      <th id=\"T_698fc_level0_col5\" class=\"col_heading level0 col5\" ># Negatives</th>\n      <th id=\"T_698fc_level0_col6\" class=\"col_heading level0 col6\" >Predictor</th>\n      <th id=\"T_698fc_level0_col7\" class=\"col_heading level0 col7\" >Description</th>\n      <th id=\"T_698fc_level0_col8\" class=\"col_heading level0 col8\" >Reference</th>\n      <th id=\"T_698fc_level0_col9\" class=\"col_heading level0 col9\" >Label</th>\n    </tr>\n  </thead>\n  <tbody>\n    <tr>\n      <th id=\"T_698fc_level0_row0\" class=\"row_heading level0 row0\" >1</th>\n      <td id=\"T_698fc_row0_col0\" class=\"data row0 col0\" >Amino acid</td>\n      <td id=\"T_698fc_row0_col1\" class=\"data row0 col1\" >AA_CASPASE3</td>\n      <td id=\"T_698fc_row0_col2\" class=\"data row0 col2\" >233</td>\n      <td id=\"T_698fc_row0_col3\" class=\"data row0 col3\" >185605</td>\n      <td id=\"T_698fc_row0_col4\" class=\"data row0 col4\" >705</td>\n      <td id=\"T_698fc_row0_col5\" class=\"data row0 col5\" >184900</td>\n      <td id=\"T_698fc_row0_col6\" class=\"data row0 col6\" >PROSPERous</td>\n      <td id=\"T_698fc_row0_col7\" class=\"data row0 col7\" >Prediction o...leavage site</td>\n      <td id=\"T_698fc_row0_col8\" class=\"data row0 col8\" >Song et al., 2018</td>\n      <td id=\"T_698fc_row0_col9\" class=\"data row0 col9\" >1 (adjacent ...eavage site)</td>\n    </tr>\n    <tr>\n      <th id=\"T_698fc_level0_row1\" class=\"row_heading level0 row1\" >2</th>\n      <td id=\"T_698fc_row1_col0\" class=\"data row1 col0\" >Amino acid</td>\n      <td id=\"T_698fc_row1_col1\" class=\"data row1 col1\" >AA_FURIN</td>\n      <td id=\"T_698fc_row1_col2\" class=\"data row1 col2\" >71</td>\n      <td id=\"T_698fc_row1_col3\" class=\"data row1 col3\" >59003</td>\n      <td id=\"T_698fc_row1_col4\" class=\"data row1 col4\" >163</td>\n      <td id=\"T_698fc_row1_col5\" class=\"data row1 col5\" >58840</td>\n      <td id=\"T_698fc_row1_col6\" class=\"data row1 col6\" >PROSPERous</td>\n      <td id=\"T_698fc_row1_col7\" class=\"data row1 col7\" >Prediction o...leavage site</td>\n      <td id=\"T_698fc_row1_col8\" class=\"data row1 col8\" >Song et al., 2018</td>\n      <td id=\"T_698fc_row1_col9\" class=\"data row1 col9\" >1 (adjacent ...eavage site)</td>\n    </tr>\n    <tr>\n      <th id=\"T_698fc_level0_row2\" class=\"row_heading level0 row2\" >3</th>\n      <td id=\"T_698fc_row2_col0\" class=\"data row2 col0\" >Amino acid</td>\n      <td id=\"T_698fc_row2_col1\" class=\"data row2 col1\" >AA_LDR</td>\n      <td id=\"T_698fc_row2_col2\" class=\"data row2 col2\" >342</td>\n      <td id=\"T_698fc_row2_col3\" class=\"data row2 col3\" >118248</td>\n      <td id=\"T_698fc_row2_col4\" class=\"data row2 col4\" >35469</td>\n      <td id=\"T_698fc_row2_col5\" class=\"data row2 col5\" >82779</td>\n      <td id=\"T_698fc_row2_col6\" class=\"data row2 col6\" >IDP-Seq2Seq</td>\n      <td id=\"T_698fc_row2_col7\" class=\"data row2 col7\" >Prediction o...egions (LDR)</td>\n      <td id=\"T_698fc_row2_col8\" class=\"data row2 col8\" >Tang et al., 2020</td>\n      <td id=\"T_698fc_row2_col9\" class=\"data row2 col9\" >1 (disordere... 0 (ordered)</td>\n    </tr>\n    <tr>\n      <th id=\"T_698fc_level0_row3\" class=\"row_heading level0 row3\" >4</th>\n      <td id=\"T_698fc_row3_col0\" class=\"data row3 col0\" >Amino acid</td>\n      <td id=\"T_698fc_row3_col1\" class=\"data row3 col1\" >AA_MMP2</td>\n      <td id=\"T_698fc_row3_col2\" class=\"data row3 col2\" >573</td>\n      <td id=\"T_698fc_row3_col3\" class=\"data row3 col3\" >312976</td>\n      <td id=\"T_698fc_row3_col4\" class=\"data row3 col4\" >2416</td>\n      <td id=\"T_698fc_row3_col5\" class=\"data row3 col5\" >310560</td>\n      <td id=\"T_698fc_row3_col6\" class=\"data row3 col6\" >PROSPERous</td>\n      <td id=\"T_698fc_row3_col7\" class=\"data row3 col7\" >Prediction o...leavage site</td>\n      <td id=\"T_698fc_row3_col8\" class=\"data row3 col8\" >Song et al., 2018</td>\n      <td id=\"T_698fc_row3_col9\" class=\"data row3 col9\" >1 (adjacent ...eavage site)</td>\n    </tr>\n    <tr>\n      <th id=\"T_698fc_level0_row4\" class=\"row_heading level0 row4\" >5</th>\n      <td id=\"T_698fc_row4_col0\" class=\"data row4 col0\" >Amino acid</td>\n      <td id=\"T_698fc_row4_col1\" class=\"data row4 col1\" >AA_RNABIND</td>\n      <td id=\"T_698fc_row4_col2\" class=\"data row4 col2\" >221</td>\n      <td id=\"T_698fc_row4_col3\" class=\"data row4 col3\" >55001</td>\n      <td id=\"T_698fc_row4_col4\" class=\"data row4 col4\" >6492</td>\n      <td id=\"T_698fc_row4_col5\" class=\"data row4 col5\" >48509</td>\n      <td id=\"T_698fc_row4_col6\" class=\"data row4 col6\" >GMKSVM-RU</td>\n      <td id=\"T_698fc_row4_col7\" class=\"data row4 col7\" >Prediction o...P60 dataset)</td>\n      <td id=\"T_698fc_row4_col8\" class=\"data row4 col8\" >Yang et al., 2021</td>\n      <td id=\"T_698fc_row4_col9\" class=\"data row4 col9\" >1 (binding),...non-binding)</td>\n    </tr>\n    <tr>\n      <th id=\"T_698fc_level0_row5\" class=\"row_heading level0 row5\" >6</th>\n      <td id=\"T_698fc_row5_col0\" class=\"data row5 col0\" >Amino acid</td>\n      <td id=\"T_698fc_row5_col1\" class=\"data row5 col1\" >AA_SA</td>\n      <td id=\"T_698fc_row5_col2\" class=\"data row5 col2\" >233</td>\n      <td id=\"T_698fc_row5_col3\" class=\"data row5 col3\" >185605</td>\n      <td id=\"T_698fc_row5_col4\" class=\"data row5 col4\" >101082</td>\n      <td id=\"T_698fc_row5_col5\" class=\"data row5 col5\" >84523</td>\n      <td id=\"T_698fc_row5_col6\" class=\"data row5 col6\" >PROSPERous</td>\n      <td id=\"T_698fc_row5_col7\" class=\"data row5 col7\" >Prediction o...E3 data set)</td>\n      <td id=\"T_698fc_row5_col8\" class=\"data row5 col8\" >Song et al., 2018</td>\n      <td id=\"T_698fc_row5_col9\" class=\"data row5 col9\" >1 (exposed/a...-accessible)</td>\n    </tr>\n    <tr>\n      <th id=\"T_698fc_level0_row6\" class=\"row_heading level0 row6\" >7</th>\n      <td id=\"T_698fc_row6_col0\" class=\"data row6 col0\" >Sequence</td>\n      <td id=\"T_698fc_row6_col1\" class=\"data row6 col1\" >SEQ_AMYLO</td>\n      <td id=\"T_698fc_row6_col2\" class=\"data row6 col2\" >1414</td>\n      <td id=\"T_698fc_row6_col3\" class=\"data row6 col3\" >8484</td>\n      <td id=\"T_698fc_row6_col4\" class=\"data row6 col4\" >511</td>\n      <td id=\"T_698fc_row6_col5\" class=\"data row6 col5\" >903</td>\n      <td id=\"T_698fc_row6_col6\" class=\"data row6 col6\" >ReRF-Pred</td>\n      <td id=\"T_698fc_row6_col7\" class=\"data row6 col7\" >Prediction o...enic regions</td>\n      <td id=\"T_698fc_row6_col8\" class=\"data row6 col8\" >Teng et al. 2021</td>\n      <td id=\"T_698fc_row6_col9\" class=\"data row6 col9\" >1 (amyloidog...yloidogenic)</td>\n    </tr>\n    <tr>\n      <th id=\"T_698fc_level0_row7\" class=\"row_heading level0 row7\" >8</th>\n      <td id=\"T_698fc_row7_col0\" class=\"data row7 col0\" >Sequence</td>\n      <td id=\"T_698fc_row7_col1\" class=\"data row7 col1\" >SEQ_CAPSID</td>\n      <td id=\"T_698fc_row7_col2\" class=\"data row7 col2\" >7935</td>\n      <td id=\"T_698fc_row7_col3\" class=\"data row7 col3\" >3364680</td>\n      <td id=\"T_698fc_row7_col4\" class=\"data row7 col4\" >3864</td>\n      <td id=\"T_698fc_row7_col5\" class=\"data row7 col5\" >4071</td>\n      <td id=\"T_698fc_row7_col6\" class=\"data row7 col6\" >VIRALpro</td>\n      <td id=\"T_698fc_row7_col7\" class=\"data row7 col7\" >Prediction o...sid proteins</td>\n      <td id=\"T_698fc_row7_col8\" class=\"data row7 col8\" >Galiez et al., 2016</td>\n      <td id=\"T_698fc_row7_col9\" class=\"data row7 col9\" >1 (capsid pr...sid protein)</td>\n    </tr>\n    <tr>\n      <th id=\"T_698fc_level0_row8\" class=\"row_heading level0 row8\" >9</th>\n      <td id=\"T_698fc_row8_col0\" class=\"data row8 col0\" >Sequence</td>\n      <td id=\"T_698fc_row8_col1\" class=\"data row8 col1\" >SEQ_DISULFIDE</td>\n      <td id=\"T_698fc_row8_col2\" class=\"data row8 col2\" >2547</td>\n      <td id=\"T_698fc_row8_col3\" class=\"data row8 col3\" >614470</td>\n      <td id=\"T_698fc_row8_col4\" class=\"data row8 col4\" >897</td>\n      <td id=\"T_698fc_row8_col5\" class=\"data row8 col5\" >1650</td>\n      <td id=\"T_698fc_row8_col6\" class=\"data row8 col6\" >Dipro</td>\n      <td id=\"T_698fc_row8_col7\" class=\"data row8 col7\" >Prediction o...in sequences</td>\n      <td id=\"T_698fc_row8_col8\" class=\"data row8 col8\" >Cheng et al., 2006</td>\n      <td id=\"T_698fc_row8_col9\" class=\"data row8 col9\" >1 (sequence ...out SS bond)</td>\n    </tr>\n    <tr>\n      <th id=\"T_698fc_level0_row9\" class=\"row_heading level0 row9\" >10</th>\n      <td id=\"T_698fc_row9_col0\" class=\"data row9 col0\" >Sequence</td>\n      <td id=\"T_698fc_row9_col1\" class=\"data row9 col1\" >SEQ_LOCATION</td>\n      <td id=\"T_698fc_row9_col2\" class=\"data row9 col2\" >1835</td>\n      <td id=\"T_698fc_row9_col3\" class=\"data row9 col3\" >732398</td>\n      <td id=\"T_698fc_row9_col4\" class=\"data row9 col4\" >1045</td>\n      <td id=\"T_698fc_row9_col5\" class=\"data row9 col5\" >790</td>\n      <td id=\"T_698fc_row9_col6\" class=\"data row9 col6\" >nan</td>\n      <td id=\"T_698fc_row9_col7\" class=\"data row9 col7\" >Prediction o...ma membrane)</td>\n      <td id=\"T_698fc_row9_col8\" class=\"data row9 col8\" >Shen et al., 2019</td>\n      <td id=\"T_698fc_row9_col9\" class=\"data row9 col9\" >1 (protein i...a membrane) </td>\n    </tr>\n    <tr>\n      <th id=\"T_698fc_level0_row10\" class=\"row_heading level0 row10\" >11</th>\n      <td id=\"T_698fc_row10_col0\" class=\"data row10 col0\" >Sequence</td>\n      <td id=\"T_698fc_row10_col1\" class=\"data row10 col1\" >SEQ_SOLUBLE</td>\n      <td id=\"T_698fc_row10_col2\" class=\"data row10 col2\" >17408</td>\n      <td id=\"T_698fc_row10_col3\" class=\"data row10 col3\" >4432269</td>\n      <td id=\"T_698fc_row10_col4\" class=\"data row10 col4\" >8704</td>\n      <td id=\"T_698fc_row10_col5\" class=\"data row10 col5\" >8704</td>\n      <td id=\"T_698fc_row10_col6\" class=\"data row10 col6\" >SOLpro</td>\n      <td id=\"T_698fc_row10_col7\" class=\"data row10 col7\" >Prediction o...ble proteins</td>\n      <td id=\"T_698fc_row10_col8\" class=\"data row10 col8\" >Magnan et al., 2009</td>\n      <td id=\"T_698fc_row10_col9\" class=\"data row10 col9\" >1 (soluble),... (insoluble)</td>\n    </tr>\n    <tr>\n      <th id=\"T_698fc_level0_row11\" class=\"row_heading level0 row11\" >12</th>\n      <td id=\"T_698fc_row11_col0\" class=\"data row11 col0\" >Sequence</td>\n      <td id=\"T_698fc_row11_col1\" class=\"data row11 col1\" >SEQ_TAIL</td>\n      <td id=\"T_698fc_row11_col2\" class=\"data row11 col2\" >6668</td>\n      <td id=\"T_698fc_row11_col3\" class=\"data row11 col3\" >2671690</td>\n      <td id=\"T_698fc_row11_col4\" class=\"data row11 col4\" >2574</td>\n      <td id=\"T_698fc_row11_col5\" class=\"data row11 col5\" >4094</td>\n      <td id=\"T_698fc_row11_col6\" class=\"data row11 col6\" >VIRALpro</td>\n      <td id=\"T_698fc_row11_col7\" class=\"data row11 col7\" >Prediction o...ail proteins</td>\n      <td id=\"T_698fc_row11_col8\" class=\"data row11 col8\" >Galiez et al., 2016</td>\n      <td id=\"T_698fc_row11_col9\" class=\"data row11 col9\" >1 (tail prot...ail protein)</td>\n    </tr>\n    <tr>\n      <th id=\"T_698fc_level0_row12\" class=\"row_heading level0 row12\" >13</th>\n      <td id=\"T_698fc_row12_col0\" class=\"data row12 col0\" >Domain</td>\n      <td id=\"T_698fc_row12_col1\" class=\"data row12 col1\" >DOM_GSEC</td>\n      <td id=\"T_698fc_row12_col2\" class=\"data row12 col2\" >126</td>\n      <td id=\"T_698fc_row12_col3\" class=\"data row12 col3\" >92964</td>\n      <td id=\"T_698fc_row12_col4\" class=\"data row12 col4\" >63</td>\n      <td id=\"T_698fc_row12_col5\" class=\"data row12 col5\" >63</td>\n      <td id=\"T_698fc_row12_col6\" class=\"data row12 col6\" >nan</td>\n      <td id=\"T_698fc_row12_col7\" class=\"data row12 col7\" >Prediction o...e substrates</td>\n      <td id=\"T_698fc_row12_col8\" class=\"data row12 col8\" >Breimann et al, 2024c</td>\n      <td id=\"T_698fc_row12_col9\" class=\"data row12 col9\" >1 (substrate...n-substrate)</td>\n    </tr>\n    <tr>\n      <th id=\"T_698fc_level0_row13\" class=\"row_heading level0 row13\" >14</th>\n      <td id=\"T_698fc_row13_col0\" class=\"data row13 col0\" >Domain</td>\n      <td id=\"T_698fc_row13_col1\" class=\"data row13 col1\" >DOM_GSEC_PU</td>\n      <td id=\"T_698fc_row13_col2\" class=\"data row13 col2\" >694</td>\n      <td id=\"T_698fc_row13_col3\" class=\"data row13 col3\" >494524</td>\n      <td id=\"T_698fc_row13_col4\" class=\"data row13 col4\" >63</td>\n      <td id=\"T_698fc_row13_col5\" class=\"data row13 col5\" >0</td>\n      <td id=\"T_698fc_row13_col6\" class=\"data row13 col6\" >nan</td>\n      <td id=\"T_698fc_row13_col7\" class=\"data row13 col7\" >Prediction o...(PU dataset)</td>\n      <td id=\"T_698fc_row13_col8\" class=\"data row13 col8\" >Breimann et al, 2024c</td>\n      <td id=\"T_698fc_row13_col9\" class=\"data row13 col9\" >1 (substrate...rate status)</td>\n    </tr>\n  </tbody>\n</table>\n"
     },
     "metadata": {},
     "output_type": "display_data"
    }
   ],
   "source": [
    "import aaanalysis as aa\n",
    "df_info = aa.load_dataset()\n",
    "aa.display_df(df=df_info, show_shape=True)"
   ],
   "metadata": {
    "collapsed": false,
    "ExecuteTime": {
     "end_time": "2023-12-25T15:48:03.892188972Z",
     "start_time": "2023-12-25T15:48:03.850399983Z"
    }
   },
   "id": "initial_id"
  },
  {
   "cell_type": "markdown",
   "source": [
    "Load one of the datasets from the overview table by using a name from the 'Dataset' column (e.g., ``name='SEQ_CAPSID'``). The number of proteins per class can be adjusted by the ``n`` parameter:"
   ],
   "metadata": {
    "collapsed": false
   },
   "id": "c8cf5ba416584c24"
  },
  {
   "cell_type": "code",
   "execution_count": 31,
   "outputs": [
    {
     "data": {
      "text/plain": "<IPython.core.display.HTML object>",
      "text/html": "<style type=\"text/css\">\n#T_4ede9 thead th {\n  background-color: white;\n  color: black;\n}\n#T_4ede9 tbody tr:nth-child(odd) {\n  background-color: #f2f2f2;\n}\n#T_4ede9 tbody tr:nth-child(even) {\n  background-color: white;\n}\n#T_4ede9 th {\n  padding: 5px;\n  white-space: nowrap;\n}\n#T_4ede9  td {\n  padding: 5px;\n  white-space: nowrap;\n}\n#T_4ede9 table {\n  font-size: 12px;\n}\n</style>\n<table id=\"T_4ede9\" style='display:block; max-height: 300px; max-width: 100%; overflow-x: auto; overflow-y: auto;'>\n  <thead>\n    <tr>\n      <th class=\"blank level0\" >&nbsp;</th>\n      <th id=\"T_4ede9_level0_col0\" class=\"col_heading level0 col0\" >entry</th>\n      <th id=\"T_4ede9_level0_col1\" class=\"col_heading level0 col1\" >sequence</th>\n      <th id=\"T_4ede9_level0_col2\" class=\"col_heading level0 col2\" >label</th>\n    </tr>\n  </thead>\n  <tbody>\n    <tr>\n      <th id=\"T_4ede9_level0_row0\" class=\"row_heading level0 row0\" >1</th>\n      <td id=\"T_4ede9_row0_col0\" class=\"data row0 col0\" >CAPSID_1</td>\n      <td id=\"T_4ede9_row0_col1\" class=\"data row0 col1\" >MVTHNVKINKHV...RIPATKLDEENV</td>\n      <td id=\"T_4ede9_row0_col2\" class=\"data row0 col2\" >0</td>\n    </tr>\n    <tr>\n      <th id=\"T_4ede9_level0_row1\" class=\"row_heading level0 row1\" >2</th>\n      <td id=\"T_4ede9_row1_col0\" class=\"data row1 col0\" >CAPSID_2</td>\n      <td id=\"T_4ede9_row1_col1\" class=\"data row1 col1\" >MKKRQKKMTLSN...EAVINARHFGEE</td>\n      <td id=\"T_4ede9_row1_col2\" class=\"data row1 col2\" >0</td>\n    </tr>\n    <tr>\n      <th id=\"T_4ede9_level0_row2\" class=\"row_heading level0 row2\" >3</th>\n      <td id=\"T_4ede9_row2_col0\" class=\"data row2 col0\" >CAPSID_4072</td>\n      <td id=\"T_4ede9_row2_col1\" class=\"data row2 col1\" >MALTTNDVITED...AIFPEAAVKVDA</td>\n      <td id=\"T_4ede9_row2_col2\" class=\"data row2 col2\" >1</td>\n    </tr>\n    <tr>\n      <th id=\"T_4ede9_level0_row3\" class=\"row_heading level0 row3\" >4</th>\n      <td id=\"T_4ede9_row3_col0\" class=\"data row3 col0\" >CAPSID_4073</td>\n      <td id=\"T_4ede9_row3_col1\" class=\"data row3 col1\" >MGELTDNGVQLA...NPAAHAKIRDLK</td>\n      <td id=\"T_4ede9_row3_col2\" class=\"data row3 col2\" >1</td>\n    </tr>\n  </tbody>\n</table>\n"
     },
     "metadata": {},
     "output_type": "display_data"
    }
   ],
   "source": [
    "df_seq = aa.load_dataset(name=\"SEQ_CAPSID\", n=2)\n",
    "aa.display_df(df=df_seq)"
   ],
   "metadata": {
    "collapsed": false,
    "ExecuteTime": {
     "end_time": "2023-12-25T15:48:04.816614033Z",
     "start_time": "2023-12-25T15:48:04.680039873Z"
    }
   },
   "id": "29441ff404197ad8"
  },
  {
   "cell_type": "markdown",
   "source": [
    "The sampling can be performed randomly by setting ``random=True``: "
   ],
   "metadata": {
    "collapsed": false
   },
   "id": "4a1a9e5a2592113c"
  },
  {
   "cell_type": "code",
   "execution_count": 32,
   "outputs": [
    {
     "data": {
      "text/plain": "<IPython.core.display.HTML object>",
      "text/html": "<style type=\"text/css\">\n#T_3b65c thead th {\n  background-color: white;\n  color: black;\n}\n#T_3b65c tbody tr:nth-child(odd) {\n  background-color: #f2f2f2;\n}\n#T_3b65c tbody tr:nth-child(even) {\n  background-color: white;\n}\n#T_3b65c th {\n  padding: 5px;\n  white-space: nowrap;\n}\n#T_3b65c  td {\n  padding: 5px;\n  white-space: nowrap;\n}\n#T_3b65c table {\n  font-size: 12px;\n}\n</style>\n<table id=\"T_3b65c\" style='display:block; max-height: 300px; max-width: 100%; overflow-x: auto; overflow-y: auto;'>\n  <thead>\n    <tr>\n      <th class=\"blank level0\" >&nbsp;</th>\n      <th id=\"T_3b65c_level0_col0\" class=\"col_heading level0 col0\" >entry</th>\n      <th id=\"T_3b65c_level0_col1\" class=\"col_heading level0 col1\" >sequence</th>\n      <th id=\"T_3b65c_level0_col2\" class=\"col_heading level0 col2\" >label</th>\n    </tr>\n  </thead>\n  <tbody>\n    <tr>\n      <th id=\"T_3b65c_level0_row0\" class=\"row_heading level0 row0\" >1</th>\n      <td id=\"T_3b65c_row0_col0\" class=\"data row0 col0\" >CAPSID_2975</td>\n      <td id=\"T_3b65c_row0_col1\" class=\"data row0 col1\" >MTGAQIFTKLLN...GEEWIKILKEDL</td>\n      <td id=\"T_3b65c_row0_col2\" class=\"data row0 col2\" >0</td>\n    </tr>\n    <tr>\n      <th id=\"T_3b65c_level0_row1\" class=\"row_heading level0 row1\" >2</th>\n      <td id=\"T_3b65c_row1_col0\" class=\"data row1 col0\" >CAPSID_3308</td>\n      <td id=\"T_3b65c_row1_col1\" class=\"data row1 col1\" >MENTYRPRRTCL...LSRTGERFRPPA</td>\n      <td id=\"T_3b65c_row1_col2\" class=\"data row1 col2\" >0</td>\n    </tr>\n    <tr>\n      <th id=\"T_3b65c_level0_row2\" class=\"row_heading level0 row2\" >3</th>\n      <td id=\"T_3b65c_row2_col0\" class=\"data row2 col0\" >CAPSID_5245</td>\n      <td id=\"T_3b65c_row2_col1\" class=\"data row2 col1\" >MALINPQFPYAG...TFNQPLINTQEG</td>\n      <td id=\"T_3b65c_row2_col2\" class=\"data row2 col2\" >1</td>\n    </tr>\n    <tr>\n      <th id=\"T_3b65c_level0_row3\" class=\"row_heading level0 row3\" >4</th>\n      <td id=\"T_3b65c_row3_col0\" class=\"data row3 col0\" >CAPSID_5158</td>\n      <td id=\"T_3b65c_row3_col1\" class=\"data row3 col1\" >MKMASNDAAPST...PMGTGNGRRRVQ</td>\n      <td id=\"T_3b65c_row3_col2\" class=\"data row3 col2\" >1</td>\n    </tr>\n  </tbody>\n</table>\n"
     },
     "metadata": {},
     "output_type": "display_data"
    }
   ],
   "source": [
    "df_seq = aa.load_dataset(name=\"SEQ_CAPSID\", n=2, random=True)\n",
    "aa.display_df(df=df_seq)"
   ],
   "metadata": {
    "collapsed": false,
    "ExecuteTime": {
     "end_time": "2023-12-25T15:48:05.715141948Z",
     "start_time": "2023-12-25T15:48:05.465689243Z"
    }
   },
   "id": "117de37987631b8d"
  },
  {
   "cell_type": "markdown",
   "source": [
    "Sequences with non-canonical amino acids are by default removed, which can be disabled by setting ``non_canonical_aa='keep'`` or ``non_canonical_aa='gap'``: "
   ],
   "metadata": {
    "collapsed": false
   },
   "id": "6967245ac7a62253"
  },
  {
   "cell_type": "code",
   "execution_count": 33,
   "outputs": [
    {
     "name": "stdout",
     "output_type": "stream",
     "text": [
      "'SEQ_DISULFIDE' contain 2547 proteins and 2202 after filtering.\n"
     ]
    }
   ],
   "source": [
    "n_unfiltered = len(aa.load_dataset(name='SEQ_DISULFIDE', non_canonical_aa=\"keep\"))\n",
    "n = len(aa.load_dataset(name='SEQ_DISULFIDE'))\n",
    "print(f\"'SEQ_DISULFIDE' contain {n_unfiltered} proteins and {n} after filtering.\")    "
   ],
   "metadata": {
    "collapsed": false,
    "ExecuteTime": {
     "end_time": "2023-12-25T15:48:06.275907676Z",
     "start_time": "2023-12-25T15:48:06.224040310Z"
    }
   },
   "id": "9e706ce1a55dc432"
  },
  {
   "cell_type": "markdown",
   "source": [
    "Datasets can be filtered for the minimum and maximum sequence length using ``min_len`` and ``max_len``:"
   ],
   "metadata": {
    "collapsed": false
   },
   "id": "233639c1f00a80b5"
  },
  {
   "cell_type": "code",
   "execution_count": 34,
   "outputs": [
    {
     "name": "stdout",
     "output_type": "stream",
     "text": [
      "'SEQ_DISULFIDE' contain 2547 proteins, of which 644 have a length between 100 and 200 residues.\n"
     ]
    }
   ],
   "source": [
    "n_len_filtered = len(aa.load_dataset(name='SEQ_DISULFIDE', min_len=100, max_len=200))\n",
    "print(f\"'SEQ_DISULFIDE' contain {n_unfiltered} proteins, of which {n_len_filtered} have a length between 100 and 200 residues.\")   \n"
   ],
   "metadata": {
    "collapsed": false,
    "ExecuteTime": {
     "end_time": "2023-12-25T15:48:07.036367596Z",
     "start_time": "2023-12-25T15:48:07.009057674Z"
    }
   },
   "id": "c509510217042c3e"
  },
  {
   "cell_type": "markdown",
   "source": [
    "For the 'Amino acid level' datasets, the size of the amino acid window can be adjusted using the ``aa_window_size`` parameter:"
   ],
   "metadata": {
    "collapsed": false
   },
   "id": "ff705f6c6c7332be"
  },
  {
   "cell_type": "code",
   "execution_count": 35,
   "outputs": [
    {
     "data": {
      "text/plain": "<IPython.core.display.HTML object>",
      "text/html": "<style type=\"text/css\">\n#T_76e0e thead th {\n  background-color: white;\n  color: black;\n}\n#T_76e0e tbody tr:nth-child(odd) {\n  background-color: #f2f2f2;\n}\n#T_76e0e tbody tr:nth-child(even) {\n  background-color: white;\n}\n#T_76e0e th {\n  padding: 5px;\n  white-space: nowrap;\n}\n#T_76e0e  td {\n  padding: 5px;\n  white-space: nowrap;\n}\n#T_76e0e table {\n  font-size: 12px;\n}\n</style>\n<table id=\"T_76e0e\" style='display:block; max-height: 300px; max-width: 100%; overflow-x: auto; overflow-y: auto;'>\n  <thead>\n    <tr>\n      <th class=\"blank level0\" >&nbsp;</th>\n      <th id=\"T_76e0e_level0_col0\" class=\"col_heading level0 col0\" >entry</th>\n      <th id=\"T_76e0e_level0_col1\" class=\"col_heading level0 col1\" >sequence</th>\n      <th id=\"T_76e0e_level0_col2\" class=\"col_heading level0 col2\" >label</th>\n    </tr>\n  </thead>\n  <tbody>\n    <tr>\n      <th id=\"T_76e0e_level0_row0\" class=\"row_heading level0 row0\" >1</th>\n      <td id=\"T_76e0e_row0_col0\" class=\"data row0 col0\" >CASPASE3_1_pos126</td>\n      <td id=\"T_76e0e_row0_col1\" class=\"data row0 col1\" >LRDSM</td>\n      <td id=\"T_76e0e_row0_col2\" class=\"data row0 col2\" >1</td>\n    </tr>\n    <tr>\n      <th id=\"T_76e0e_level0_row1\" class=\"row_heading level0 row1\" >2</th>\n      <td id=\"T_76e0e_row1_col0\" class=\"data row1 col0\" >CASPASE3_1_pos127</td>\n      <td id=\"T_76e0e_row1_col1\" class=\"data row1 col1\" >RDSML</td>\n      <td id=\"T_76e0e_row1_col2\" class=\"data row1 col2\" >1</td>\n    </tr>\n    <tr>\n      <th id=\"T_76e0e_level0_row2\" class=\"row_heading level0 row2\" >3</th>\n      <td id=\"T_76e0e_row2_col0\" class=\"data row2 col0\" >CASPASE3_1_pos2</td>\n      <td id=\"T_76e0e_row2_col1\" class=\"data row2 col1\" >MSLFD</td>\n      <td id=\"T_76e0e_row2_col2\" class=\"data row2 col2\" >0</td>\n    </tr>\n    <tr>\n      <th id=\"T_76e0e_level0_row3\" class=\"row_heading level0 row3\" >4</th>\n      <td id=\"T_76e0e_row3_col0\" class=\"data row3 col0\" >CASPASE3_1_pos3</td>\n      <td id=\"T_76e0e_row3_col1\" class=\"data row3 col1\" >SLFDL</td>\n      <td id=\"T_76e0e_row3_col2\" class=\"data row3 col2\" >0</td>\n    </tr>\n  </tbody>\n</table>\n"
     },
     "metadata": {},
     "output_type": "display_data"
    }
   ],
   "source": [
    "df_aa = aa.load_dataset(name=\"AA_CASPASE3\", n=2, aa_window_size=5)\n",
    "aa.display_df(df=df_aa)"
   ],
   "metadata": {
    "collapsed": false,
    "ExecuteTime": {
     "end_time": "2023-12-25T15:48:08.209793499Z",
     "start_time": "2023-12-25T15:48:07.943173149Z"
    }
   },
   "id": "9429cb6eb0a0e028"
  },
  {
   "cell_type": "markdown",
   "source": [
    "For Positive-Unlabeled (PU) learning, datasets are provided containing only positive (labeled by '1') and unlabeled data ('2'), indicated by a 'PU' suffix in the 'Dataset' column name:"
   ],
   "metadata": {
    "collapsed": false
   },
   "id": "fc40fc211c4d5dfe"
  },
  {
   "cell_type": "code",
   "execution_count": 36,
   "outputs": [
    {
     "data": {
      "text/plain": "<IPython.core.display.HTML object>",
      "text/html": "<style type=\"text/css\">\n#T_d9b92 thead th {\n  background-color: white;\n  color: black;\n}\n#T_d9b92 tbody tr:nth-child(odd) {\n  background-color: #f2f2f2;\n}\n#T_d9b92 tbody tr:nth-child(even) {\n  background-color: white;\n}\n#T_d9b92 th {\n  padding: 5px;\n  white-space: nowrap;\n}\n#T_d9b92  td {\n  padding: 5px;\n  white-space: nowrap;\n}\n#T_d9b92 table {\n  font-size: 12px;\n}\n</style>\n<table id=\"T_d9b92\" style='display:block; max-height: 300px; max-width: 100%; overflow-x: auto; overflow-y: auto;'>\n  <thead>\n    <tr>\n      <th class=\"blank level0\" >&nbsp;</th>\n      <th id=\"T_d9b92_level0_col0\" class=\"col_heading level0 col0\" >entry</th>\n      <th id=\"T_d9b92_level0_col1\" class=\"col_heading level0 col1\" >sequence</th>\n      <th id=\"T_d9b92_level0_col2\" class=\"col_heading level0 col2\" >label</th>\n      <th id=\"T_d9b92_level0_col3\" class=\"col_heading level0 col3\" >tmd_start</th>\n      <th id=\"T_d9b92_level0_col4\" class=\"col_heading level0 col4\" >tmd_stop</th>\n      <th id=\"T_d9b92_level0_col5\" class=\"col_heading level0 col5\" >jmd_n</th>\n      <th id=\"T_d9b92_level0_col6\" class=\"col_heading level0 col6\" >tmd</th>\n      <th id=\"T_d9b92_level0_col7\" class=\"col_heading level0 col7\" >jmd_c</th>\n    </tr>\n  </thead>\n  <tbody>\n    <tr>\n      <th id=\"T_d9b92_level0_row0\" class=\"row_heading level0 row0\" >1</th>\n      <td id=\"T_d9b92_row0_col0\" class=\"data row0 col0\" >P05067</td>\n      <td id=\"T_d9b92_row0_col1\" class=\"data row0 col1\" >MLPGLALLLLAA...NPTYKFFEQMQN</td>\n      <td id=\"T_d9b92_row0_col2\" class=\"data row0 col2\" >1</td>\n      <td id=\"T_d9b92_row0_col3\" class=\"data row0 col3\" >701</td>\n      <td id=\"T_d9b92_row0_col4\" class=\"data row0 col4\" >723</td>\n      <td id=\"T_d9b92_row0_col5\" class=\"data row0 col5\" >FAEDVGSNKG</td>\n      <td id=\"T_d9b92_row0_col6\" class=\"data row0 col6\" >AIIGLMVGGVVIATVIVITLVML</td>\n      <td id=\"T_d9b92_row0_col7\" class=\"data row0 col7\" >KKKQYTSIHH</td>\n    </tr>\n    <tr>\n      <th id=\"T_d9b92_level0_row1\" class=\"row_heading level0 row1\" >2</th>\n      <td id=\"T_d9b92_row1_col0\" class=\"data row1 col0\" >P14925</td>\n      <td id=\"T_d9b92_row1_col1\" class=\"data row1 col1\" >MAGRARSGLLLL...YSAPLPKPAPSS</td>\n      <td id=\"T_d9b92_row1_col2\" class=\"data row1 col2\" >1</td>\n      <td id=\"T_d9b92_row1_col3\" class=\"data row1 col3\" >868</td>\n      <td id=\"T_d9b92_row1_col4\" class=\"data row1 col4\" >890</td>\n      <td id=\"T_d9b92_row1_col5\" class=\"data row1 col5\" >KLSTEPGSGV</td>\n      <td id=\"T_d9b92_row1_col6\" class=\"data row1 col6\" >SVVLITTLLVIPVLVLLAIVMFI</td>\n      <td id=\"T_d9b92_row1_col7\" class=\"data row1 col7\" >RWKKSRAFGD</td>\n    </tr>\n    <tr>\n      <th id=\"T_d9b92_level0_row2\" class=\"row_heading level0 row2\" >3</th>\n      <td id=\"T_d9b92_row2_col0\" class=\"data row2 col0\" >P70180</td>\n      <td id=\"T_d9b92_row2_col1\" class=\"data row2 col1\" >MRSLLLFTFSAC...REDSIRSHFSVA</td>\n      <td id=\"T_d9b92_row2_col2\" class=\"data row2 col2\" >1</td>\n      <td id=\"T_d9b92_row2_col3\" class=\"data row2 col3\" >477</td>\n      <td id=\"T_d9b92_row2_col4\" class=\"data row2 col4\" >499</td>\n      <td id=\"T_d9b92_row2_col5\" class=\"data row2 col5\" >PCKSSGGLEE</td>\n      <td id=\"T_d9b92_row2_col6\" class=\"data row2 col6\" >SAVTGIVVGALLGAGLLMAFYFF</td>\n      <td id=\"T_d9b92_row2_col7\" class=\"data row2 col7\" >RKKYRITIER</td>\n    </tr>\n    <tr>\n      <th id=\"T_d9b92_level0_row3\" class=\"row_heading level0 row3\" >4</th>\n      <td id=\"T_d9b92_row3_col0\" class=\"data row3 col0\" >Q03157</td>\n      <td id=\"T_d9b92_row3_col1\" class=\"data row3 col1\" >MGPTSPAARGQG...ENPTYRFLEERP</td>\n      <td id=\"T_d9b92_row3_col2\" class=\"data row3 col2\" >1</td>\n      <td id=\"T_d9b92_row3_col3\" class=\"data row3 col3\" >585</td>\n      <td id=\"T_d9b92_row3_col4\" class=\"data row3 col4\" >607</td>\n      <td id=\"T_d9b92_row3_col5\" class=\"data row3 col5\" >APSGTGVSRE</td>\n      <td id=\"T_d9b92_row3_col6\" class=\"data row3 col6\" >ALSGLLIMGAGGGSLIVLSLLLL</td>\n      <td id=\"T_d9b92_row3_col7\" class=\"data row3 col7\" >RKKKPYGTIS</td>\n    </tr>\n    <tr>\n      <th id=\"T_d9b92_level0_row4\" class=\"row_heading level0 row4\" >5</th>\n      <td id=\"T_d9b92_row4_col0\" class=\"data row4 col0\" >Q06481</td>\n      <td id=\"T_d9b92_row4_col1\" class=\"data row4 col1\" >MAATGTAAAAAT...NPTYKYLEQMQI</td>\n      <td id=\"T_d9b92_row4_col2\" class=\"data row4 col2\" >1</td>\n      <td id=\"T_d9b92_row4_col3\" class=\"data row4 col3\" >694</td>\n      <td id=\"T_d9b92_row4_col4\" class=\"data row4 col4\" >716</td>\n      <td id=\"T_d9b92_row4_col5\" class=\"data row4 col5\" >LREDFSLSSS</td>\n      <td id=\"T_d9b92_row4_col6\" class=\"data row4 col6\" >ALIGLLVIAVAIATVIVISLVML</td>\n      <td id=\"T_d9b92_row4_col7\" class=\"data row4 col7\" >RKRQYGTISH</td>\n    </tr>\n    <tr>\n      <th id=\"T_d9b92_level0_row5\" class=\"row_heading level0 row5\" >6</th>\n      <td id=\"T_d9b92_row5_col0\" class=\"data row5 col0\" >P35613</td>\n      <td id=\"T_d9b92_row5_col1\" class=\"data row5 col1\" >MAAALFVLLGFA...DKGKNVRQRNSS</td>\n      <td id=\"T_d9b92_row5_col2\" class=\"data row5 col2\" >1</td>\n      <td id=\"T_d9b92_row5_col3\" class=\"data row5 col3\" >323</td>\n      <td id=\"T_d9b92_row5_col4\" class=\"data row5 col4\" >345</td>\n      <td id=\"T_d9b92_row5_col5\" class=\"data row5 col5\" >IITLRVRSHL</td>\n      <td id=\"T_d9b92_row5_col6\" class=\"data row5 col6\" >AALWPFLGIVAEVLVLVTIIFIY</td>\n      <td id=\"T_d9b92_row5_col7\" class=\"data row5 col7\" >EKRRKPEDVL</td>\n    </tr>\n    <tr>\n      <th id=\"T_d9b92_level0_row6\" class=\"row_heading level0 row6\" >7</th>\n      <td id=\"T_d9b92_row6_col0\" class=\"data row6 col0\" >P35070</td>\n      <td id=\"T_d9b92_row6_col1\" class=\"data row6 col1\" >MDRAARCSGASS...PINEDIEETNIA</td>\n      <td id=\"T_d9b92_row6_col2\" class=\"data row6 col2\" >1</td>\n      <td id=\"T_d9b92_row6_col3\" class=\"data row6 col3\" >119</td>\n      <td id=\"T_d9b92_row6_col4\" class=\"data row6 col4\" >141</td>\n      <td id=\"T_d9b92_row6_col5\" class=\"data row6 col5\" >LFYLRGDRGQ</td>\n      <td id=\"T_d9b92_row6_col6\" class=\"data row6 col6\" >ILVICLIAVMVVFIILVIGVCTC</td>\n      <td id=\"T_d9b92_row6_col7\" class=\"data row6 col7\" >CHPLRKRRKR</td>\n    </tr>\n    <tr>\n      <th id=\"T_d9b92_level0_row7\" class=\"row_heading level0 row7\" >8</th>\n      <td id=\"T_d9b92_row7_col0\" class=\"data row7 col0\" >P09803</td>\n      <td id=\"T_d9b92_row7_col1\" class=\"data row7 col1\" >MGARCRSFSALL...KLADMYGGGEDD</td>\n      <td id=\"T_d9b92_row7_col2\" class=\"data row7 col2\" >1</td>\n      <td id=\"T_d9b92_row7_col3\" class=\"data row7 col3\" >711</td>\n      <td id=\"T_d9b92_row7_col4\" class=\"data row7 col4\" >733</td>\n      <td id=\"T_d9b92_row7_col5\" class=\"data row7 col5\" >GIVAAGLQVP</td>\n      <td id=\"T_d9b92_row7_col6\" class=\"data row7 col6\" >AILGILGGILALLILILLLLLFL</td>\n      <td id=\"T_d9b92_row7_col7\" class=\"data row7 col7\" >RRRTVVKEPL</td>\n    </tr>\n    <tr>\n      <th id=\"T_d9b92_level0_row8\" class=\"row_heading level0 row8\" >9</th>\n      <td id=\"T_d9b92_row8_col0\" class=\"data row8 col0\" >P19022</td>\n      <td id=\"T_d9b92_row8_col1\" class=\"data row8 col1\" >MCRIAGALRTLL...KKLADMYGGGDD</td>\n      <td id=\"T_d9b92_row8_col2\" class=\"data row8 col2\" >1</td>\n      <td id=\"T_d9b92_row8_col3\" class=\"data row8 col3\" >724</td>\n      <td id=\"T_d9b92_row8_col4\" class=\"data row8 col4\" >746</td>\n      <td id=\"T_d9b92_row8_col5\" class=\"data row8 col5\" >RIVGAGLGTG</td>\n      <td id=\"T_d9b92_row8_col6\" class=\"data row8 col6\" >AIIAILLCIIILLILVLMFVVWM</td>\n      <td id=\"T_d9b92_row8_col7\" class=\"data row8 col7\" >KRRDKERQAK</td>\n    </tr>\n    <tr>\n      <th id=\"T_d9b92_level0_row9\" class=\"row_heading level0 row9\" >10</th>\n      <td id=\"T_d9b92_row9_col0\" class=\"data row9 col0\" >P16070</td>\n      <td id=\"T_d9b92_row9_col1\" class=\"data row9 col1\" >MDKFWWHAAWGL...RNLQNVDMKIGV</td>\n      <td id=\"T_d9b92_row9_col2\" class=\"data row9 col2\" >1</td>\n      <td id=\"T_d9b92_row9_col3\" class=\"data row9 col3\" >650</td>\n      <td id=\"T_d9b92_row9_col4\" class=\"data row9 col4\" >672</td>\n      <td id=\"T_d9b92_row9_col5\" class=\"data row9 col5\" >GPIRTPQIPE</td>\n      <td id=\"T_d9b92_row9_col6\" class=\"data row9 col6\" >WLIILASLLALALILAVCIAVNS</td>\n      <td id=\"T_d9b92_row9_col7\" class=\"data row9 col7\" >RRRCGQKKKL</td>\n    </tr>\n    <tr>\n      <th id=\"T_d9b92_level0_row10\" class=\"row_heading level0 row10\" >11</th>\n      <td id=\"T_d9b92_row10_col0\" class=\"data row10 col0\" >P12821</td>\n      <td id=\"T_d9b92_row10_col1\" class=\"data row10 col1\" >MGAASGRRGPGL...PQFGSEVELRHS</td>\n      <td id=\"T_d9b92_row10_col2\" class=\"data row10 col2\" >2</td>\n      <td id=\"T_d9b92_row10_col3\" class=\"data row10 col3\" >1257</td>\n      <td id=\"T_d9b92_row10_col4\" class=\"data row10 col4\" >1276</td>\n      <td id=\"T_d9b92_row10_col5\" class=\"data row10 col5\" >GLDLDAQQAR</td>\n      <td id=\"T_d9b92_row10_col6\" class=\"data row10 col6\" >VGQWLLLFLGIALLVATLGL</td>\n      <td id=\"T_d9b92_row10_col7\" class=\"data row10 col7\" >SQRLFSIRHR</td>\n    </tr>\n    <tr>\n      <th id=\"T_d9b92_level0_row11\" class=\"row_heading level0 row11\" >12</th>\n      <td id=\"T_d9b92_row11_col0\" class=\"data row11 col0\" >P36896</td>\n      <td id=\"T_d9b92_row11_col1\" class=\"data row11 col1\" >MAESAGASSFFP...LSQLSVQEDVKI</td>\n      <td id=\"T_d9b92_row11_col2\" class=\"data row11 col2\" >2</td>\n      <td id=\"T_d9b92_row11_col3\" class=\"data row11 col3\" >127</td>\n      <td id=\"T_d9b92_row11_col4\" class=\"data row11 col4\" >149</td>\n      <td id=\"T_d9b92_row11_col5\" class=\"data row11 col5\" >EHPSMWGPVE</td>\n      <td id=\"T_d9b92_row11_col6\" class=\"data row11 col6\" >LVGIIAGPVFLLFLIIIIVFLVI</td>\n      <td id=\"T_d9b92_row11_col7\" class=\"data row11 col7\" >NYHQRVYHNR</td>\n    </tr>\n    <tr>\n      <th id=\"T_d9b92_level0_row12\" class=\"row_heading level0 row12\" >13</th>\n      <td id=\"T_d9b92_row12_col0\" class=\"data row12 col0\" >Q8NER5</td>\n      <td id=\"T_d9b92_row12_col1\" class=\"data row12 col1\" >MTRALCSALRQA...ISQLCVKEDCKA</td>\n      <td id=\"T_d9b92_row12_col2\" class=\"data row12 col2\" >2</td>\n      <td id=\"T_d9b92_row12_col3\" class=\"data row12 col3\" >114</td>\n      <td id=\"T_d9b92_row12_col4\" class=\"data row12 col4\" >136</td>\n      <td id=\"T_d9b92_row12_col5\" class=\"data row12 col5\" >PNAPKLGPME</td>\n      <td id=\"T_d9b92_row12_col6\" class=\"data row12 col6\" >LAIIITVPVCLLSIAAMLTVWAC</td>\n      <td id=\"T_d9b92_row12_col7\" class=\"data row12 col7\" >QGRQCSYRKK</td>\n    </tr>\n    <tr>\n      <th id=\"T_d9b92_level0_row13\" class=\"row_heading level0 row13\" >14</th>\n      <td id=\"T_d9b92_row13_col0\" class=\"data row13 col0\" >P37023</td>\n      <td id=\"T_d9b92_row13_col1\" class=\"data row13 col1\" >MTLGSPRKGLLM...ISNSPEKPKVIQ</td>\n      <td id=\"T_d9b92_row13_col2\" class=\"data row13 col2\" >2</td>\n      <td id=\"T_d9b92_row13_col3\" class=\"data row13 col3\" >119</td>\n      <td id=\"T_d9b92_row13_col4\" class=\"data row13 col4\" >141</td>\n      <td id=\"T_d9b92_row13_col5\" class=\"data row13 col5\" >PSEQPGTDGQ</td>\n      <td id=\"T_d9b92_row13_col6\" class=\"data row13 col6\" >LALILGPVLALLALVALGVLGLW</td>\n      <td id=\"T_d9b92_row13_col7\" class=\"data row13 col7\" >HVRRRQEKQR</td>\n    </tr>\n    <tr>\n      <th id=\"T_d9b92_level0_row14\" class=\"row_heading level0 row14\" >15</th>\n      <td id=\"T_d9b92_row14_col0\" class=\"data row14 col0\" >O43184</td>\n      <td id=\"T_d9b92_row14_col1\" class=\"data row14 col1\" >MAARPLPVSPAR...QVPRSTHTAYIK</td>\n      <td id=\"T_d9b92_row14_col2\" class=\"data row14 col2\" >2</td>\n      <td id=\"T_d9b92_row14_col3\" class=\"data row14 col3\" >707</td>\n      <td id=\"T_d9b92_row14_col4\" class=\"data row14 col4\" >729</td>\n      <td id=\"T_d9b92_row14_col5\" class=\"data row14 col5\" >DSGPIRQADN</td>\n      <td id=\"T_d9b92_row14_col6\" class=\"data row14 col6\" >QGLTIGILVTILCLLAAGFVVYL</td>\n      <td id=\"T_d9b92_row14_col7\" class=\"data row14 col7\" >KRKTLIRLLF</td>\n    </tr>\n    <tr>\n      <th id=\"T_d9b92_level0_row15\" class=\"row_heading level0 row15\" >16</th>\n      <td id=\"T_d9b92_row15_col0\" class=\"data row15 col0\" >Q13444</td>\n      <td id=\"T_d9b92_row15_col1\" class=\"data row15 col1\" >MRLALLWALGLL...APPPPTVSSLYL</td>\n      <td id=\"T_d9b92_row15_col2\" class=\"data row15 col2\" >2</td>\n      <td id=\"T_d9b92_row15_col3\" class=\"data row15 col3\" >695</td>\n      <td id=\"T_d9b92_row15_col4\" class=\"data row15 col4\" >717</td>\n      <td id=\"T_d9b92_row15_col5\" class=\"data row15 col5\" >TTQLKATSSL</td>\n      <td id=\"T_d9b92_row15_col6\" class=\"data row15 col6\" >TTGLLLSLLVLLVLVMLGASYWY</td>\n      <td id=\"T_d9b92_row15_col7\" class=\"data row15 col7\" >RARLHQRLCQ</td>\n    </tr>\n    <tr>\n      <th id=\"T_d9b92_level0_row16\" class=\"row_heading level0 row16\" >17</th>\n      <td id=\"T_d9b92_row16_col0\" class=\"data row16 col0\" >Q9Z0F8</td>\n      <td id=\"T_d9b92_row16_col1\" class=\"data row16 col1\" >MRRRLLILTTLV...RQSRVDSKETEC</td>\n      <td id=\"T_d9b92_row16_col2\" class=\"data row16 col2\" >2</td>\n      <td id=\"T_d9b92_row16_col3\" class=\"data row16 col3\" >672</td>\n      <td id=\"T_d9b92_row16_col4\" class=\"data row16 col4\" >694</td>\n      <td id=\"T_d9b92_row16_col5\" class=\"data row16 col5\" >NTFGKFLADN</td>\n      <td id=\"T_d9b92_row16_col6\" class=\"data row16 col6\" >IVGSVLVFSLIFWIPFSILVHCV</td>\n      <td id=\"T_d9b92_row16_col7\" class=\"data row16 col7\" >DKKLDKQYES</td>\n    </tr>\n    <tr>\n      <th id=\"T_d9b92_level0_row17\" class=\"row_heading level0 row17\" >18</th>\n      <td id=\"T_d9b92_row17_col0\" class=\"data row17 col0\" >Q9Y3Q7</td>\n      <td id=\"T_d9b92_row17_col1\" class=\"data row17 col1\" >MFLLLALLTELG...SSVVSESDDVGH</td>\n      <td id=\"T_d9b92_row17_col2\" class=\"data row17 col2\" >2</td>\n      <td id=\"T_d9b92_row17_col3\" class=\"data row17 col3\" >685</td>\n      <td id=\"T_d9b92_row17_col4\" class=\"data row17 col4\" >707</td>\n      <td id=\"T_d9b92_row17_col5\" class=\"data row17 col5\" >FYTEKGYNTH</td>\n      <td id=\"T_d9b92_row17_col6\" class=\"data row17 col6\" >WNNWFILSFCIFLPFFIVFTTVI</td>\n      <td id=\"T_d9b92_row17_col7\" class=\"data row17 col7\" >FKRNEISKSC</td>\n    </tr>\n    <tr>\n      <th id=\"T_d9b92_level0_row18\" class=\"row_heading level0 row18\" >19</th>\n      <td id=\"T_d9b92_row18_col0\" class=\"data row18 col0\" >Q9R157</td>\n      <td id=\"T_d9b92_row18_col1\" class=\"data row18 col1\" >MPLLFILAELAM...ERKIVPQGEHKI</td>\n      <td id=\"T_d9b92_row18_col2\" class=\"data row18 col2\" >2</td>\n      <td id=\"T_d9b92_row18_col3\" class=\"data row18 col3\" >684</td>\n      <td id=\"T_d9b92_row18_col4\" class=\"data row18 col4\" >703</td>\n      <td id=\"T_d9b92_row18_col5\" class=\"data row18 col5\" >TKRLSKNEDS</td>\n      <td id=\"T_d9b92_row18_col6\" class=\"data row18 col6\" >WVILGFFIFLPFIVTFLVGI</td>\n      <td id=\"T_d9b92_row18_col7\" class=\"data row18 col7\" >MKRNERKIVP</td>\n    </tr>\n    <tr>\n      <th id=\"T_d9b92_level0_row19\" class=\"row_heading level0 row19\" >20</th>\n      <td id=\"T_d9b92_row19_col0\" class=\"data row19 col0\" >O35674</td>\n      <td id=\"T_d9b92_row19_col1\" class=\"data row19 col1\" >MPGRAGVARFCL...SQRVGAIISSKI</td>\n      <td id=\"T_d9b92_row19_col2\" class=\"data row19 col2\" >2</td>\n      <td id=\"T_d9b92_row19_col3\" class=\"data row19 col3\" >704</td>\n      <td id=\"T_d9b92_row19_col4\" class=\"data row19 col4\" >726</td>\n      <td id=\"T_d9b92_row19_col5\" class=\"data row19 col5\" >VDSGPLPPKS</td>\n      <td id=\"T_d9b92_row19_col6\" class=\"data row19 col6\" >VGPVIAGVFSALFVLAVLVLLCH</td>\n      <td id=\"T_d9b92_row19_col7\" class=\"data row19 col7\" >CYRQSHKLGK</td>\n    </tr>\n  </tbody>\n</table>\n"
     },
     "metadata": {},
     "output_type": "display_data"
    }
   ],
   "source": [
    "df_seq = aa.load_dataset(name=\"DOM_GSEC_PU\", n=10)\n",
    "aa.display_df(df=df_seq)"
   ],
   "metadata": {
    "collapsed": false,
    "ExecuteTime": {
     "end_time": "2023-12-25T15:48:09.148062136Z",
     "start_time": "2023-12-25T15:48:09.081625522Z"
    }
   },
   "id": "6af074b2cefe5480"
  }
 ],
 "metadata": {
  "kernelspec": {
   "display_name": "Python 3",
   "language": "python",
   "name": "python3"
  },
  "language_info": {
   "codemirror_mode": {
    "name": "ipython",
    "version": 2
   },
   "file_extension": ".py",
   "mimetype": "text/x-python",
   "name": "python",
   "nbconvert_exporter": "python",
   "pygments_lexer": "ipython2",
   "version": "2.7.6"
  }
 },
 "nbformat": 4,
 "nbformat_minor": 5
}
