{
 "cells": [
  {
   "cell_type": "raw",
   "source": [
    "Get default arguments for all splits types (Segment, Pattern, PeriodicPattern):"
   ],
   "metadata": {
    "collapsed": false
   },
   "id": "3e0f495b011c65c8"
  },
  {
   "cell_type": "code",
   "execution_count": 1,
   "outputs": [
    {
     "data": {
      "text/plain": "{'Segment': {'n_split_min': 1, 'n_split_max': 15},\n 'Pattern': {'steps': [3, 4], 'n_min': 2, 'n_max': 4, 'len_max': 15},\n 'PeriodicPattern': {'steps': [3, 4]}}"
     },
     "execution_count": 1,
     "metadata": {},
     "output_type": "execute_result"
    }
   ],
   "source": [
    "import aaanalysis as aa\n",
    "sf = aa.SequenceFeature()\n",
    "split_kws = sf.get_split_kws()\n",
    "split_kws"
   ],
   "metadata": {
    "collapsed": false,
    "ExecuteTime": {
     "end_time": "2023-12-08T13:42:03.613889289Z",
     "start_time": "2023-12-08T13:42:01.685040827Z"
    }
   },
   "id": "65d93efc6b0fd542"
  },
  {
   "cell_type": "raw",
   "source": [
    "You can also retrieve arguments for specifc split types ('Segment', 'Pattern', 'PeriodicPattern'):"
   ],
   "metadata": {
    "collapsed": false
   },
   "id": "fd43c79355686ddb"
  },
  {
   "cell_type": "code",
   "execution_count": 13,
   "outputs": [
    {
     "data": {
      "text/plain": "{'Segment': {'n_split_min': 1, 'n_split_max': 15},\n 'Pattern': {'steps': [3, 4], 'n_min': 2, 'n_max': 4, 'len_max': 15}}"
     },
     "execution_count": 13,
     "metadata": {},
     "output_type": "execute_result"
    }
   ],
   "source": [
    "split_kws = sf.get_split_kws(split_types=[\"Segment\", \"Pattern\"])\n",
    "split_kws"
   ],
   "metadata": {
    "collapsed": false,
    "ExecuteTime": {
     "end_time": "2023-12-08T13:52:16.829839283Z",
     "start_time": "2023-12-08T13:52:16.820755613Z"
    }
   },
   "id": "1f0d8200fece12cf"
  },
  {
   "cell_type": "raw",
   "source": [
    "The arguments for each split type can be adjusted. For 'Segments', their minimum and maximum length can be chagned:"
   ],
   "metadata": {
    "collapsed": false
   },
   "id": "e562eddcbe9b6f5d"
  },
  {
   "cell_type": "code",
   "execution_count": 6,
   "outputs": [
    {
     "data": {
      "text/plain": "{'Segment': {'n_split_min': 5, 'n_split_max': 10}}"
     },
     "execution_count": 6,
     "metadata": {},
     "output_type": "execute_result"
    }
   ],
   "source": [
    "split_kws = sf.get_split_kws(split_types=\"Segment\", n_split_min=5, n_split_max=10)\n",
    "split_kws"
   ],
   "metadata": {
    "collapsed": false,
    "ExecuteTime": {
     "end_time": "2023-12-08T13:50:42.481629133Z",
     "start_time": "2023-12-08T13:50:42.467191705Z"
    }
   },
   "id": "165ba615561e85a4"
  },
  {
   "cell_type": "raw",
   "source": [
    "For 'PeriodicPattern', the step size of each odd and even step can be specified as follows:"
   ],
   "metadata": {
    "collapsed": false
   },
   "id": "cda143a0eef5e107"
  },
  {
   "cell_type": "code",
   "execution_count": 9,
   "outputs": [
    {
     "data": {
      "text/plain": "{'PeriodicPattern': {'steps': [5, 10]}}"
     },
     "execution_count": 9,
     "metadata": {},
     "output_type": "execute_result"
    }
   ],
   "source": [
    "split_kws = sf.get_split_kws(split_types=\"PeriodicPattern\", steps_periodicpattern=[5, 10])\n",
    "split_kws"
   ],
   "metadata": {
    "collapsed": false,
    "ExecuteTime": {
     "end_time": "2023-12-08T13:51:18.645191164Z",
     "start_time": "2023-12-08T13:51:18.603956891Z"
    }
   },
   "id": "e02c925f4b5b8040"
  },
  {
   "cell_type": "raw",
   "source": [
    "And for 'Patterns', the step size, the minimum and maximum number of steps, and the maximum residue size of the pattern can be adjusted: "
   ],
   "metadata": {
    "collapsed": false
   },
   "id": "d8fbf8935a6bed6"
  },
  {
   "cell_type": "code",
   "execution_count": 10,
   "outputs": [
    {
     "data": {
      "text/plain": "{'Pattern': {'steps': [5, 10], 'n_min': 3, 'n_max': 5, 'len_max': 30}}"
     },
     "execution_count": 10,
     "metadata": {},
     "output_type": "execute_result"
    }
   ],
   "source": [
    "split_kws = sf.get_split_kws(split_types=\"Pattern\", steps_pattern=[5, 10], n_min=3, n_max=5, len_max=30)\n",
    "split_kws"
   ],
   "metadata": {
    "collapsed": false,
    "ExecuteTime": {
     "end_time": "2023-12-08T13:51:26.675223873Z",
     "start_time": "2023-12-08T13:51:26.625225644Z"
    }
   },
   "id": "796532a7b9be40bd"
  }
 ],
 "metadata": {
  "kernelspec": {
   "display_name": "Python 3",
   "language": "python",
   "name": "python3"
  },
  "language_info": {
   "codemirror_mode": {
    "name": "ipython",
    "version": 2
   },
   "file_extension": ".py",
   "mimetype": "text/x-python",
   "name": "python",
   "nbconvert_exporter": "python",
   "pygments_lexer": "ipython2",
   "version": "2.7.6"
  }
 },
 "nbformat": 4,
 "nbformat_minor": 5
}
