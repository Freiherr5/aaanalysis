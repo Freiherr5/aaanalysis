{
 "cells": [
  {
   "cell_type": "markdown",
   "source": [
    "The ``CPPPlot`` object offers various visualizations of the feature obtained ``CPP`` and can be instantiated without setting any parameter:"
   ],
   "metadata": {
    "collapsed": false
   },
   "id": "5ed8ac0e0f9cadee"
  },
  {
   "cell_type": "code",
   "execution_count": 1,
   "outputs": [],
   "source": [
    "import aaanalysis as aa\n",
    "cpp_plot = aa.CPPPlot()"
   ],
   "metadata": {
    "collapsed": false,
    "ExecuteTime": {
     "end_time": "2024-01-07T18:32:12.599800734Z",
     "start_time": "2024-01-07T18:32:09.934372281Z"
    }
   },
   "id": "7108eaf191c03de2"
  },
  {
   "cell_type": "markdown",
   "source": [
    "If the used ``Scales`` are deviating from the AAanalysis default ones, you should provide matching ``df_scales`` and ``df_cat`` DataFrames:"
   ],
   "metadata": {
    "collapsed": false
   },
   "id": "ddc3ac85bfc35a03"
  },
  {
   "cell_type": "code",
   "execution_count": 6,
   "outputs": [],
   "source": [
    "import pandas as pd\n",
    "df_scales = pd.DataFrame({\"Scale 1\": [1, 1, 2]}, index=[\"A\", \"B\", \"C\"])\n",
    "df_cat = pd.DataFrame({\"scale_id\": [\"Scale 1\"], \"category\": [\"Category 1\"], \"subcategory\": [\"subcategory 1\"]})\n",
    "cpp_plot = aa.CPPPlot(df_scales=df_scales, df_cat=df_cat)"
   ],
   "metadata": {
    "collapsed": false,
    "ExecuteTime": {
     "end_time": "2024-01-07T18:34:09.661546228Z",
     "start_time": "2024-01-07T18:34:09.654229063Z"
    }
   },
   "id": "da47d13d9538b60d"
  },
  {
   "cell_type": "markdown",
   "source": [
    "Adjust the length of the N- and C-terminal JMDs by using ``jmd_n_len`` and ``jmd_c_len`` parameters:"
   ],
   "metadata": {
    "collapsed": false
   },
   "id": "478406f43fe3ffb3"
  },
  {
   "cell_type": "code",
   "execution_count": 7,
   "outputs": [],
   "source": [
    "cpp_plot = aa.CPPPlot(jmd_c_len=0, jmd_n_len=20)"
   ],
   "metadata": {
    "collapsed": false,
    "ExecuteTime": {
     "end_time": "2024-01-07T18:35:46.653444232Z",
     "start_time": "2024-01-07T18:35:46.575277204Z"
    }
   },
   "id": "41f60848256ae709"
  }
 ],
 "metadata": {
  "kernelspec": {
   "display_name": "Python 3",
   "language": "python",
   "name": "python3"
  },
  "language_info": {
   "codemirror_mode": {
    "name": "ipython",
    "version": 2
   },
   "file_extension": ".py",
   "mimetype": "text/x-python",
   "name": "python",
   "nbconvert_exporter": "python",
   "pygments_lexer": "ipython2",
   "version": "2.7.6"
  }
 },
 "nbformat": 4,
 "nbformat_minor": 5
}
