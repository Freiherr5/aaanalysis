{
 "cells": [
  {
   "cell_type": "markdown",
   "source": [
    "To demonstrate the ``SequenceFeature().get_df_parts()``, we first obtain an example sequence dataset using the ``load_dataset()`` function:"
   ],
   "metadata": {
    "collapsed": false
   },
   "id": "8fe5c36ad82fa407"
  },
  {
   "cell_type": "code",
   "execution_count": 1,
   "outputs": [
    {
     "name": "stdout",
     "output_type": "stream",
     "text": [
      "DataFrame shape: (7862, 3)\n"
     ]
    },
    {
     "data": {
      "text/plain": "<IPython.core.display.HTML object>",
      "text/html": "<style type=\"text/css\">\n#T_ffcd9 thead th {\n  background-color: white;\n  color: black;\n}\n#T_ffcd9 tbody tr:nth-child(odd) {\n  background-color: #f2f2f2;\n}\n#T_ffcd9 tbody tr:nth-child(even) {\n  background-color: white;\n}\n#T_ffcd9 th {\n  padding: 5px;\n  white-space: nowrap;\n}\n#T_ffcd9  td {\n  padding: 5px;\n  white-space: nowrap;\n}\n#T_ffcd9 table {\n  font-size: 12px;\n}\n</style>\n<table id=\"T_ffcd9\" style='display:block; max-height: 300px; max-width: 100%; overflow-x: auto; overflow-y: auto;'>\n  <thead>\n    <tr>\n      <th class=\"blank level0\" >&nbsp;</th>\n      <th id=\"T_ffcd9_level0_col0\" class=\"col_heading level0 col0\" >entry</th>\n      <th id=\"T_ffcd9_level0_col1\" class=\"col_heading level0 col1\" >sequence</th>\n      <th id=\"T_ffcd9_level0_col2\" class=\"col_heading level0 col2\" >label</th>\n    </tr>\n  </thead>\n  <tbody>\n    <tr>\n      <th id=\"T_ffcd9_level0_row0\" class=\"row_heading level0 row0\" >1</th>\n      <td id=\"T_ffcd9_row0_col0\" class=\"data row0 col0\" >CAPSID_1</td>\n      <td id=\"T_ffcd9_row0_col1\" class=\"data row0 col1\" >MVTHNVKINKHV...RIPATKLDEENV</td>\n      <td id=\"T_ffcd9_row0_col2\" class=\"data row0 col2\" >0</td>\n    </tr>\n    <tr>\n      <th id=\"T_ffcd9_level0_row1\" class=\"row_heading level0 row1\" >2</th>\n      <td id=\"T_ffcd9_row1_col0\" class=\"data row1 col0\" >CAPSID_2</td>\n      <td id=\"T_ffcd9_row1_col1\" class=\"data row1 col1\" >MKKRQKKMTLSN...EAVINARHFGEE</td>\n      <td id=\"T_ffcd9_row1_col2\" class=\"data row1 col2\" >0</td>\n    </tr>\n    <tr>\n      <th id=\"T_ffcd9_level0_row2\" class=\"row_heading level0 row2\" >3</th>\n      <td id=\"T_ffcd9_row2_col0\" class=\"data row2 col0\" >CAPSID_3</td>\n      <td id=\"T_ffcd9_row2_col1\" class=\"data row2 col1\" >MRYGGSVISQEL...GAPDKQEVELVD</td>\n      <td id=\"T_ffcd9_row2_col2\" class=\"data row2 col2\" >0</td>\n    </tr>\n  </tbody>\n</table>\n"
     },
     "metadata": {},
     "output_type": "display_data"
    }
   ],
   "source": [
    "import aaanalysis as aa\n",
    "sf = aa.SequenceFeature()\n",
    "df_seq = aa.load_dataset(name=\"SEQ_CAPSID\")\n",
    "aa.display_df(df_seq, n_rows=3, show_shape=True)\n"
   ],
   "metadata": {
    "collapsed": false,
    "ExecuteTime": {
     "end_time": "2023-12-27T14:57:04.028691268Z",
     "start_time": "2023-12-27T14:57:01.203917637Z"
    }
   },
   "id": "d431f13e6f7cdb34"
  },
  {
   "cell_type": "markdown",
   "source": [
    "By default, three sequence parts (``tmd``, ``jmd_n_tmd_n``, ``tmd_c_jmd_c``) with a ``jmd_n`` and ``jmd_c`` length of each 10 residues are provided:"
   ],
   "metadata": {
    "collapsed": false
   },
   "id": "9f3996f317aad35b"
  },
  {
   "cell_type": "code",
   "execution_count": 2,
   "outputs": [
    {
     "name": "stdout",
     "output_type": "stream",
     "text": [
      "DataFrame shape: (7862, 3)\n"
     ]
    },
    {
     "data": {
      "text/plain": "<IPython.core.display.HTML object>",
      "text/html": "<style type=\"text/css\">\n#T_b5f87 thead th {\n  background-color: white;\n  color: black;\n}\n#T_b5f87 tbody tr:nth-child(odd) {\n  background-color: #f2f2f2;\n}\n#T_b5f87 tbody tr:nth-child(even) {\n  background-color: white;\n}\n#T_b5f87 th {\n  padding: 5px;\n  white-space: nowrap;\n}\n#T_b5f87  td {\n  padding: 5px;\n  white-space: nowrap;\n}\n#T_b5f87 table {\n  font-size: 12px;\n}\n</style>\n<table id=\"T_b5f87\" style='display:block; max-height: 300px; max-width: 100%; overflow-x: auto; overflow-y: auto;'>\n  <thead>\n    <tr>\n      <th class=\"blank level0\" >&nbsp;</th>\n      <th id=\"T_b5f87_level0_col0\" class=\"col_heading level0 col0\" >tmd</th>\n      <th id=\"T_b5f87_level0_col1\" class=\"col_heading level0 col1\" >jmd_n_tmd_n</th>\n      <th id=\"T_b5f87_level0_col2\" class=\"col_heading level0 col2\" >tmd_c_jmd_c</th>\n    </tr>\n  </thead>\n  <tbody>\n    <tr>\n      <th id=\"T_b5f87_level0_row0\" class=\"row_heading level0 row0\" >CAPSID_1</th>\n      <td id=\"T_b5f87_row0_col0\" class=\"data row0 col0\" >HVTRRSYSSAKE...LFKGDDDDTPRI</td>\n      <td id=\"T_b5f87_row0_col1\" class=\"data row0 col1\" >MVTHNVKINKHV...NDDGSFTNPTVT</td>\n      <td id=\"T_b5f87_row0_col2\" class=\"data row0 col2\" >ARHGDNNIETPI...RIPATKLDEENV</td>\n    </tr>\n    <tr>\n      <th id=\"T_b5f87_level0_row1\" class=\"row_heading level0 row1\" >CAPSID_2</th>\n      <td id=\"T_b5f87_row1_col0\" class=\"data row1 col0\" >SNFTDTSFQDFV...NGVFMRMAMLEA</td>\n      <td id=\"T_b5f87_row1_col1\" class=\"data row1 col1\" >MKKRQKKMTLSN...MMLDLMTIHEEF</td>\n      <td id=\"T_b5f87_row1_col2\" class=\"data row1 col2\" >GHFDGLSIGIVG...EAVINARHFGEE</td>\n    </tr>\n    <tr>\n      <th id=\"T_b5f87_level0_row2\" class=\"row_heading level0 row2\" >CAPSID_3</th>\n      <td id=\"T_b5f87_row2_col0\" class=\"data row2 col0\" >ELEVSLHMAFVE...FDGAGKSPGSGA</td>\n      <td id=\"T_b5f87_row2_col1\" class=\"data row2 col1\" >MRYGGSVISQEL...HHNVRYSAAALS</td>\n      <td id=\"T_b5f87_row2_col2\" class=\"data row2 col2\" >AAAELSARYIND...GAPDKQEVELVD</td>\n    </tr>\n    <tr>\n      <th id=\"T_b5f87_level0_row3\" class=\"row_heading level0 row3\" >CAPSID_4</th>\n      <td id=\"T_b5f87_row3_col0\" class=\"data row3 col0\" >VGRHRRIKAEDV...RIRDEKRRQALE</td>\n      <td id=\"T_b5f87_row3_col1\" class=\"data row3 col1\" >MERGDIPFKYVGRHRRIKAEDVSK</td>\n      <td id=\"T_b5f87_row3_col2\" class=\"data row3 col2\" >YQRIRDEKRRQALEELAEMDAGLI</td>\n    </tr>\n    <tr>\n      <th id=\"T_b5f87_level0_row4\" class=\"row_heading level0 row4\" >CAPSID_5</th>\n      <td id=\"T_b5f87_row4_col0\" class=\"data row4 col0\" >LILFTQVSTAQK...AMLQIQMPSGCV</td>\n      <td id=\"T_b5f87_row4_col1\" class=\"data row4 col1\" >MKRIYLLFAALI...MGKNYEMIKSTP</td>\n      <td id=\"T_b5f87_row4_col2\" class=\"data row4 col2\" >YGNTITLDLAKQ...CVGEPITELTHQ</td>\n    </tr>\n  </tbody>\n</table>\n"
     },
     "metadata": {},
     "output_type": "display_data"
    }
   ],
   "source": [
    "df_parts = sf.get_df_parts(df_seq=df_seq)\n",
    "aa.display_df(df=df_parts, n_rows=5, show_shape=True)"
   ],
   "metadata": {
    "collapsed": false,
    "ExecuteTime": {
     "end_time": "2023-12-27T14:57:10.433277848Z",
     "start_time": "2023-12-27T14:57:04.075642174Z"
    }
   },
   "id": "fe5279861c5e7e5c"
  },
  {
   "cell_type": "markdown",
   "source": [
    "Any combination of valid sequence parts can be obtained using the ``list_part`` parameter:"
   ],
   "metadata": {
    "collapsed": false
   },
   "id": "fc6ae2133a89827c"
  },
  {
   "cell_type": "code",
   "execution_count": 3,
   "outputs": [
    {
     "name": "stdout",
     "output_type": "stream",
     "text": [
      "DataFrame shape: (7862, 4)\n"
     ]
    },
    {
     "data": {
      "text/plain": "<IPython.core.display.HTML object>",
      "text/html": "<style type=\"text/css\">\n#T_96f75 thead th {\n  background-color: white;\n  color: black;\n}\n#T_96f75 tbody tr:nth-child(odd) {\n  background-color: #f2f2f2;\n}\n#T_96f75 tbody tr:nth-child(even) {\n  background-color: white;\n}\n#T_96f75 th {\n  padding: 5px;\n  white-space: nowrap;\n}\n#T_96f75  td {\n  padding: 5px;\n  white-space: nowrap;\n}\n#T_96f75 table {\n  font-size: 12px;\n}\n</style>\n<table id=\"T_96f75\" style='display:block; max-height: 300px; max-width: 100%; overflow-x: auto; overflow-y: auto;'>\n  <thead>\n    <tr>\n      <th class=\"blank level0\" >&nbsp;</th>\n      <th id=\"T_96f75_level0_col0\" class=\"col_heading level0 col0\" >jmd_n</th>\n      <th id=\"T_96f75_level0_col1\" class=\"col_heading level0 col1\" >tmd</th>\n      <th id=\"T_96f75_level0_col2\" class=\"col_heading level0 col2\" >jmd_c</th>\n      <th id=\"T_96f75_level0_col3\" class=\"col_heading level0 col3\" >tmd_jmd</th>\n    </tr>\n  </thead>\n  <tbody>\n    <tr>\n      <th id=\"T_96f75_level0_row0\" class=\"row_heading level0 row0\" >CAPSID_1</th>\n      <td id=\"T_96f75_row0_col0\" class=\"data row0 col0\" >MVTHNVKINK</td>\n      <td id=\"T_96f75_row0_col1\" class=\"data row0 col1\" >HVTRRSYSSAKE...LFKGDDDDTPRI</td>\n      <td id=\"T_96f75_row0_col2\" class=\"data row0 col2\" >PATKLDEENV</td>\n      <td id=\"T_96f75_row0_col3\" class=\"data row0 col3\" >MVTHNVKINKHV...RIPATKLDEENV</td>\n    </tr>\n    <tr>\n      <th id=\"T_96f75_level0_row1\" class=\"row_heading level0 row1\" >CAPSID_2</th>\n      <td id=\"T_96f75_row1_col0\" class=\"data row1 col0\" >MKKRQKKMTL</td>\n      <td id=\"T_96f75_row1_col1\" class=\"data row1 col1\" >SNFTDTSFQDFV...NGVFMRMAMLEA</td>\n      <td id=\"T_96f75_row1_col2\" class=\"data row1 col2\" >VINARHFGEE</td>\n      <td id=\"T_96f75_row1_col3\" class=\"data row1 col3\" >MKKRQKKMTLSN...EAVINARHFGEE</td>\n    </tr>\n    <tr>\n      <th id=\"T_96f75_level0_row2\" class=\"row_heading level0 row2\" >CAPSID_3</th>\n      <td id=\"T_96f75_row2_col0\" class=\"data row2 col0\" >MRYGGSVISQ</td>\n      <td id=\"T_96f75_row2_col1\" class=\"data row2 col1\" >ELEVSLHMAFVE...FDGAGKSPGSGA</td>\n      <td id=\"T_96f75_row2_col2\" class=\"data row2 col2\" >PDKQEVELVD</td>\n      <td id=\"T_96f75_row2_col3\" class=\"data row2 col3\" >MRYGGSVISQEL...GAPDKQEVELVD</td>\n    </tr>\n  </tbody>\n</table>\n"
     },
     "metadata": {},
     "output_type": "display_data"
    }
   ],
   "source": [
    "df_parts = sf.get_df_parts(df_seq=df_seq, list_parts=['jmd_n', 'tmd', 'jmd_c', 'tmd_jmd'])\n",
    "aa.display_df(df=df_parts, n_rows=3, show_shape=True)"
   ],
   "metadata": {
    "collapsed": false,
    "ExecuteTime": {
     "end_time": "2023-12-27T14:57:16.638447918Z",
     "start_time": "2023-12-27T14:57:10.426070835Z"
    }
   },
   "id": "b898929b81fab5be"
  },
  {
   "cell_type": "markdown",
   "source": [
    "Set the length of both JMDs by the ``jmd_c_len`` and ``jmd_n_len`` parameters. "
   ],
   "metadata": {
    "collapsed": false
   },
   "id": "db3de6fa4712f2da"
  },
  {
   "cell_type": "code",
   "execution_count": 4,
   "outputs": [
    {
     "name": "stdout",
     "output_type": "stream",
     "text": [
      "DataFrame shape: (7862, 4)\n"
     ]
    },
    {
     "data": {
      "text/plain": "<IPython.core.display.HTML object>",
      "text/html": "<style type=\"text/css\">\n#T_dd628 thead th {\n  background-color: white;\n  color: black;\n}\n#T_dd628 tbody tr:nth-child(odd) {\n  background-color: #f2f2f2;\n}\n#T_dd628 tbody tr:nth-child(even) {\n  background-color: white;\n}\n#T_dd628 th {\n  padding: 5px;\n  white-space: nowrap;\n}\n#T_dd628  td {\n  padding: 5px;\n  white-space: nowrap;\n}\n#T_dd628 table {\n  font-size: 12px;\n}\n</style>\n<table id=\"T_dd628\" style='display:block; max-height: 300px; max-width: 100%; overflow-x: auto; overflow-y: auto;'>\n  <thead>\n    <tr>\n      <th class=\"blank level0\" >&nbsp;</th>\n      <th id=\"T_dd628_level0_col0\" class=\"col_heading level0 col0\" >jmd_n</th>\n      <th id=\"T_dd628_level0_col1\" class=\"col_heading level0 col1\" >tmd</th>\n      <th id=\"T_dd628_level0_col2\" class=\"col_heading level0 col2\" >jmd_c</th>\n      <th id=\"T_dd628_level0_col3\" class=\"col_heading level0 col3\" >tmd_jmd</th>\n    </tr>\n  </thead>\n  <tbody>\n    <tr>\n      <th id=\"T_dd628_level0_row0\" class=\"row_heading level0 row0\" >CAPSID_1</th>\n      <td id=\"T_dd628_row0_col0\" class=\"data row0 col0\" >MVTHNVKINKHVTRRSYSSA</td>\n      <td id=\"T_dd628_row0_col1\" class=\"data row0 col1\" >KEVLEIPPLTEV...DDDTPRIPATKL</td>\n      <td id=\"T_dd628_row0_col2\" class=\"data row0 col2\" >DEENV</td>\n      <td id=\"T_dd628_row0_col3\" class=\"data row0 col3\" >MVTHNVKINKHV...RIPATKLDEENV</td>\n    </tr>\n    <tr>\n      <th id=\"T_dd628_level0_row1\" class=\"row_heading level0 row1\" >CAPSID_2</th>\n      <td id=\"T_dd628_row1_col0\" class=\"data row1 col0\" >MKKRQKKMTLSNFTDTSFQD</td>\n      <td id=\"T_dd628_row1_col1\" class=\"data row1 col1\" >FVSAEQVDDKSA...RMAMLEAVINAR</td>\n      <td id=\"T_dd628_row1_col2\" class=\"data row1 col2\" >HFGEE</td>\n      <td id=\"T_dd628_row1_col3\" class=\"data row1 col3\" >MKKRQKKMTLSN...EAVINARHFGEE</td>\n    </tr>\n    <tr>\n      <th id=\"T_dd628_level0_row2\" class=\"row_heading level0 row2\" >CAPSID_3</th>\n      <td id=\"T_dd628_row2_col0\" class=\"data row2 col0\" >MRYGGSVISQELEVSLHMAF</td>\n      <td id=\"T_dd628_row2_col1\" class=\"data row2 col1\" >VEARSARHEFIT...KSPGSGAPDKQE</td>\n      <td id=\"T_dd628_row2_col2\" class=\"data row2 col2\" >VELVD</td>\n      <td id=\"T_dd628_row2_col3\" class=\"data row2 col3\" >MRYGGSVISQEL...GAPDKQEVELVD</td>\n    </tr>\n  </tbody>\n</table>\n"
     },
     "metadata": {},
     "output_type": "display_data"
    }
   ],
   "source": [
    "df_parts = sf.get_df_parts(df_seq=df_seq, list_parts=['jmd_n', 'tmd', 'jmd_c', 'tmd_jmd'], jmd_c_len=5, jmd_n_len=20)\n",
    "aa.display_df(df=df_parts, n_rows=3, show_shape=True)"
   ],
   "metadata": {
    "collapsed": false,
    "ExecuteTime": {
     "end_time": "2023-12-27T14:57:22.257438736Z",
     "start_time": "2023-12-27T14:57:16.635915034Z"
    }
   },
   "id": "31691067bc25ef70"
  },
  {
   "cell_type": "markdown",
   "source": [
    "A JMD length of 0 is indicated by '...':"
   ],
   "metadata": {
    "collapsed": false
   },
   "id": "dad0d9bea2815cad"
  },
  {
   "cell_type": "code",
   "execution_count": 5,
   "outputs": [
    {
     "name": "stdout",
     "output_type": "stream",
     "text": [
      "DataFrame shape: (7862, 2)\n"
     ]
    },
    {
     "data": {
      "text/plain": "<IPython.core.display.HTML object>",
      "text/html": "<style type=\"text/css\">\n#T_31acc thead th {\n  background-color: white;\n  color: black;\n}\n#T_31acc tbody tr:nth-child(odd) {\n  background-color: #f2f2f2;\n}\n#T_31acc tbody tr:nth-child(even) {\n  background-color: white;\n}\n#T_31acc th {\n  padding: 5px;\n  white-space: nowrap;\n}\n#T_31acc  td {\n  padding: 5px;\n  white-space: nowrap;\n}\n#T_31acc table {\n  font-size: 12px;\n}\n</style>\n<table id=\"T_31acc\" style='display:block; max-height: 300px; max-width: 100%; overflow-x: auto; overflow-y: auto;'>\n  <thead>\n    <tr>\n      <th class=\"blank level0\" >&nbsp;</th>\n      <th id=\"T_31acc_level0_col0\" class=\"col_heading level0 col0\" >jmd_n</th>\n      <th id=\"T_31acc_level0_col1\" class=\"col_heading level0 col1\" >jmd_n_tmd_n</th>\n    </tr>\n  </thead>\n  <tbody>\n    <tr>\n      <th id=\"T_31acc_level0_row0\" class=\"row_heading level0 row0\" >CAPSID_1</th>\n      <td id=\"T_31acc_row0_col0\" class=\"data row0 col0\" ></td>\n      <td id=\"T_31acc_row0_col1\" class=\"data row0 col1\" >MVTHNVKINKHV...NSPLNDDGSFTN</td>\n    </tr>\n    <tr>\n      <th id=\"T_31acc_level0_row1\" class=\"row_heading level0 row1\" >CAPSID_2</th>\n      <td id=\"T_31acc_row1_col0\" class=\"data row1 col0\" ></td>\n      <td id=\"T_31acc_row1_col1\" class=\"data row1 col1\" >MKKRQKKMTLSN...QHPSQMMLDLMT</td>\n    </tr>\n    <tr>\n      <th id=\"T_31acc_level0_row2\" class=\"row_heading level0 row2\" >CAPSID_3</th>\n      <td id=\"T_31acc_row2_col0\" class=\"data row2 col0\" ></td>\n      <td id=\"T_31acc_row2_col1\" class=\"data row2 col1\" >MRYGGSVISQEL...KSRFEEHHNVRY</td>\n    </tr>\n  </tbody>\n</table>\n"
     },
     "metadata": {},
     "output_type": "display_data"
    }
   ],
   "source": [
    "df_parts = sf.get_df_parts(df_seq=df_seq, list_parts=['jmd_n', 'jmd_n_tmd_n'], jmd_n_len=0)\n",
    "aa.display_df(df=df_parts, n_rows=3, show_shape=True)"
   ],
   "metadata": {
    "collapsed": false,
    "ExecuteTime": {
     "end_time": "2023-12-27T14:57:27.812106450Z",
     "start_time": "2023-12-27T14:57:22.256946653Z"
    }
   },
   "id": "853278ae66bb82cb"
  },
  {
   "cell_type": "markdown",
   "source": [
    "To select all possible parts, set ``all_parts=True``: "
   ],
   "metadata": {
    "collapsed": false
   },
   "id": "ed107d5583626337"
  },
  {
   "cell_type": "code",
   "execution_count": 6,
   "outputs": [
    {
     "name": "stdout",
     "output_type": "stream",
     "text": [
      "DataFrame shape: (7862, 13)\n"
     ]
    },
    {
     "data": {
      "text/plain": "<IPython.core.display.HTML object>",
      "text/html": "<style type=\"text/css\">\n#T_de312 thead th {\n  background-color: white;\n  color: black;\n}\n#T_de312 tbody tr:nth-child(odd) {\n  background-color: #f2f2f2;\n}\n#T_de312 tbody tr:nth-child(even) {\n  background-color: white;\n}\n#T_de312 th {\n  padding: 5px;\n  white-space: nowrap;\n}\n#T_de312  td {\n  padding: 5px;\n  white-space: nowrap;\n}\n#T_de312 table {\n  font-size: 12px;\n}\n</style>\n<table id=\"T_de312\" style='display:block; max-height: 300px; max-width: 100%; overflow-x: auto; overflow-y: auto;'>\n  <thead>\n    <tr>\n      <th class=\"blank level0\" >&nbsp;</th>\n      <th id=\"T_de312_level0_col0\" class=\"col_heading level0 col0\" >tmd</th>\n      <th id=\"T_de312_level0_col1\" class=\"col_heading level0 col1\" >tmd_e</th>\n      <th id=\"T_de312_level0_col2\" class=\"col_heading level0 col2\" >tmd_n</th>\n      <th id=\"T_de312_level0_col3\" class=\"col_heading level0 col3\" >tmd_c</th>\n      <th id=\"T_de312_level0_col4\" class=\"col_heading level0 col4\" >jmd_n</th>\n      <th id=\"T_de312_level0_col5\" class=\"col_heading level0 col5\" >jmd_c</th>\n      <th id=\"T_de312_level0_col6\" class=\"col_heading level0 col6\" >ext_c</th>\n      <th id=\"T_de312_level0_col7\" class=\"col_heading level0 col7\" >ext_n</th>\n      <th id=\"T_de312_level0_col8\" class=\"col_heading level0 col8\" >tmd_jmd</th>\n      <th id=\"T_de312_level0_col9\" class=\"col_heading level0 col9\" >jmd_n_tmd_n</th>\n      <th id=\"T_de312_level0_col10\" class=\"col_heading level0 col10\" >tmd_c_jmd_c</th>\n      <th id=\"T_de312_level0_col11\" class=\"col_heading level0 col11\" >ext_n_tmd_n</th>\n      <th id=\"T_de312_level0_col12\" class=\"col_heading level0 col12\" >tmd_c_ext_c</th>\n    </tr>\n  </thead>\n  <tbody>\n    <tr>\n      <th id=\"T_de312_level0_row0\" class=\"row_heading level0 row0\" >CAPSID_1</th>\n      <td id=\"T_de312_row0_col0\" class=\"data row0 col0\" >HVTRRSYSSAKE...LFKGDDDDTPRI</td>\n      <td id=\"T_de312_row0_col1\" class=\"data row0 col1\" >HVTRRSYSSAKE...LFKGDDDDTPRI</td>\n      <td id=\"T_de312_row0_col2\" class=\"data row0 col2\" >HVTRRSYSSAKE...NDDGSFTNPTVT</td>\n      <td id=\"T_de312_row0_col3\" class=\"data row0 col3\" >ARHGDNNIETPI...LFKGDDDDTPRI</td>\n      <td id=\"T_de312_row0_col4\" class=\"data row0 col4\" >MVTHNVKINK</td>\n      <td id=\"T_de312_row0_col5\" class=\"data row0 col5\" >PATKLDEENV</td>\n      <td id=\"T_de312_row0_col6\" class=\"data row0 col6\" ></td>\n      <td id=\"T_de312_row0_col7\" class=\"data row0 col7\" ></td>\n      <td id=\"T_de312_row0_col8\" class=\"data row0 col8\" >MVTHNVKINKHV...RIPATKLDEENV</td>\n      <td id=\"T_de312_row0_col9\" class=\"data row0 col9\" >MVTHNVKINKHV...NDDGSFTNPTVT</td>\n      <td id=\"T_de312_row0_col10\" class=\"data row0 col10\" >ARHGDNNIETPI...RIPATKLDEENV</td>\n      <td id=\"T_de312_row0_col11\" class=\"data row0 col11\" >HVTRRSYSSAKE...NDDGSFTNPTVT</td>\n      <td id=\"T_de312_row0_col12\" class=\"data row0 col12\" >ARHGDNNIETPI...LFKGDDDDTPRI</td>\n    </tr>\n    <tr>\n      <th id=\"T_de312_level0_row1\" class=\"row_heading level0 row1\" >CAPSID_2</th>\n      <td id=\"T_de312_row1_col0\" class=\"data row1 col0\" >SNFTDTSFQDFV...NGVFMRMAMLEA</td>\n      <td id=\"T_de312_row1_col1\" class=\"data row1 col1\" >SNFTDTSFQDFV...NGVFMRMAMLEA</td>\n      <td id=\"T_de312_row1_col2\" class=\"data row1 col2\" >SNFTDTSFQDFV...MMLDLMTIHEEF</td>\n      <td id=\"T_de312_row1_col3\" class=\"data row1 col3\" >GHFDGLSIGIVG...NGVFMRMAMLEA</td>\n      <td id=\"T_de312_row1_col4\" class=\"data row1 col4\" >MKKRQKKMTL</td>\n      <td id=\"T_de312_row1_col5\" class=\"data row1 col5\" >VINARHFGEE</td>\n      <td id=\"T_de312_row1_col6\" class=\"data row1 col6\" ></td>\n      <td id=\"T_de312_row1_col7\" class=\"data row1 col7\" ></td>\n      <td id=\"T_de312_row1_col8\" class=\"data row1 col8\" >MKKRQKKMTLSN...EAVINARHFGEE</td>\n      <td id=\"T_de312_row1_col9\" class=\"data row1 col9\" >MKKRQKKMTLSN...MMLDLMTIHEEF</td>\n      <td id=\"T_de312_row1_col10\" class=\"data row1 col10\" >GHFDGLSIGIVG...EAVINARHFGEE</td>\n      <td id=\"T_de312_row1_col11\" class=\"data row1 col11\" >SNFTDTSFQDFV...MMLDLMTIHEEF</td>\n      <td id=\"T_de312_row1_col12\" class=\"data row1 col12\" >GHFDGLSIGIVG...NGVFMRMAMLEA</td>\n    </tr>\n    <tr>\n      <th id=\"T_de312_level0_row2\" class=\"row_heading level0 row2\" >CAPSID_3</th>\n      <td id=\"T_de312_row2_col0\" class=\"data row2 col0\" >ELEVSLHMAFVE...FDGAGKSPGSGA</td>\n      <td id=\"T_de312_row2_col1\" class=\"data row2 col1\" >ELEVSLHMAFVE...FDGAGKSPGSGA</td>\n      <td id=\"T_de312_row2_col2\" class=\"data row2 col2\" >ELEVSLHMAFVE...HHNVRYSAAALS</td>\n      <td id=\"T_de312_row2_col3\" class=\"data row2 col3\" >AAAELSARYIND...FDGAGKSPGSGA</td>\n      <td id=\"T_de312_row2_col4\" class=\"data row2 col4\" >MRYGGSVISQ</td>\n      <td id=\"T_de312_row2_col5\" class=\"data row2 col5\" >PDKQEVELVD</td>\n      <td id=\"T_de312_row2_col6\" class=\"data row2 col6\" ></td>\n      <td id=\"T_de312_row2_col7\" class=\"data row2 col7\" ></td>\n      <td id=\"T_de312_row2_col8\" class=\"data row2 col8\" >MRYGGSVISQEL...GAPDKQEVELVD</td>\n      <td id=\"T_de312_row2_col9\" class=\"data row2 col9\" >MRYGGSVISQEL...HHNVRYSAAALS</td>\n      <td id=\"T_de312_row2_col10\" class=\"data row2 col10\" >AAAELSARYIND...GAPDKQEVELVD</td>\n      <td id=\"T_de312_row2_col11\" class=\"data row2 col11\" >ELEVSLHMAFVE...HHNVRYSAAALS</td>\n      <td id=\"T_de312_row2_col12\" class=\"data row2 col12\" >AAAELSARYIND...FDGAGKSPGSGA</td>\n    </tr>\n  </tbody>\n</table>\n"
     },
     "metadata": {},
     "output_type": "display_data"
    }
   ],
   "source": [
    "df_parts = sf.get_df_parts(df_seq=df_seq, all_parts=True)\n",
    "aa.display_df(df=df_parts, n_rows=3, show_shape=True)"
   ],
   "metadata": {
    "collapsed": false,
    "ExecuteTime": {
     "end_time": "2023-12-27T14:57:33.314200313Z",
     "start_time": "2023-12-27T14:57:27.800762547Z"
    }
   },
   "id": "1e7886461ef0cde4"
  },
  {
   "cell_type": "markdown",
   "source": [
    "Entries with sequence gaps can be removed setting ``remove_entries_with_gaps=True``:"
   ],
   "metadata": {
    "collapsed": false
   },
   "id": "c1cdc698656151a"
  },
  {
   "cell_type": "code",
   "execution_count": 13,
   "outputs": [
    {
     "name": "stdout",
     "output_type": "stream",
     "text": [
      "0 sequence with gaps were removed\n"
     ]
    }
   ],
   "source": [
    "n_total = len(df_parts)\n",
    "# Disable warning that entries have been removed and re-instantiate SequenceFeature\n",
    "aa.options[\"verbose\"] = False   \n",
    "sf = aa.SequenceFeature()\n",
    "df_parts = sf.get_df_parts(df_seq=df_seq, remove_entries_with_gaps=True)\n",
    "n_removed = n_total - len(df_parts)\n",
    "print(f\"{n_removed} sequence with gaps were removed\")"
   ],
   "metadata": {
    "collapsed": false,
    "ExecuteTime": {
     "end_time": "2023-12-27T14:58:58.312348708Z",
     "start_time": "2023-12-27T14:58:58.197531925Z"
    }
   },
   "id": "f221befa0aee519b"
  },
  {
   "cell_type": "markdown",
   "source": [
    "``SequenceFeature().get_df_parts()`` works with four different ``df_seq`` formats, which we demonstrate using the ``DOM_GSEC`` domain level γ-secretase substrates dataset (see [Breimann24c]_). Next to the common 'entry', 'sequence', and 'label' columns, this dataset provides columns for the TMD start and stop position ('tmd_start', 'tmd_stop') and the default sequence parts 'jmd_n', 'tmd', 'jmd_c':"
   ],
   "metadata": {
    "collapsed": false
   },
   "id": "3e770ed374940c77"
  },
  {
   "cell_type": "code",
   "execution_count": 14,
   "outputs": [
    {
     "data": {
      "text/plain": "<IPython.core.display.HTML object>",
      "text/html": "<style type=\"text/css\">\n#T_25ff4 thead th {\n  background-color: white;\n  color: black;\n}\n#T_25ff4 tbody tr:nth-child(odd) {\n  background-color: #f2f2f2;\n}\n#T_25ff4 tbody tr:nth-child(even) {\n  background-color: white;\n}\n#T_25ff4 th {\n  padding: 5px;\n  white-space: nowrap;\n}\n#T_25ff4  td {\n  padding: 5px;\n  white-space: nowrap;\n}\n#T_25ff4 table {\n  font-size: 12px;\n}\n</style>\n<table id=\"T_25ff4\" style='display:block; max-height: 300px; max-width: 100%; overflow-x: auto; overflow-y: auto;'>\n  <thead>\n    <tr>\n      <th class=\"blank level0\" >&nbsp;</th>\n      <th id=\"T_25ff4_level0_col0\" class=\"col_heading level0 col0\" >entry</th>\n      <th id=\"T_25ff4_level0_col1\" class=\"col_heading level0 col1\" >sequence</th>\n      <th id=\"T_25ff4_level0_col2\" class=\"col_heading level0 col2\" >label</th>\n      <th id=\"T_25ff4_level0_col3\" class=\"col_heading level0 col3\" >tmd_start</th>\n      <th id=\"T_25ff4_level0_col4\" class=\"col_heading level0 col4\" >tmd_stop</th>\n      <th id=\"T_25ff4_level0_col5\" class=\"col_heading level0 col5\" >jmd_n</th>\n      <th id=\"T_25ff4_level0_col6\" class=\"col_heading level0 col6\" >tmd</th>\n      <th id=\"T_25ff4_level0_col7\" class=\"col_heading level0 col7\" >jmd_c</th>\n    </tr>\n  </thead>\n  <tbody>\n    <tr>\n      <th id=\"T_25ff4_level0_row0\" class=\"row_heading level0 row0\" >1</th>\n      <td id=\"T_25ff4_row0_col0\" class=\"data row0 col0\" >P05067</td>\n      <td id=\"T_25ff4_row0_col1\" class=\"data row0 col1\" >MLPGLALLLLAA...NPTYKFFEQMQN</td>\n      <td id=\"T_25ff4_row0_col2\" class=\"data row0 col2\" >1</td>\n      <td id=\"T_25ff4_row0_col3\" class=\"data row0 col3\" >701</td>\n      <td id=\"T_25ff4_row0_col4\" class=\"data row0 col4\" >723</td>\n      <td id=\"T_25ff4_row0_col5\" class=\"data row0 col5\" >FAEDVGSNKG</td>\n      <td id=\"T_25ff4_row0_col6\" class=\"data row0 col6\" >AIIGLMVGGVVIATVIVITLVML</td>\n      <td id=\"T_25ff4_row0_col7\" class=\"data row0 col7\" >KKKQYTSIHH</td>\n    </tr>\n    <tr>\n      <th id=\"T_25ff4_level0_row1\" class=\"row_heading level0 row1\" >2</th>\n      <td id=\"T_25ff4_row1_col0\" class=\"data row1 col0\" >P14925</td>\n      <td id=\"T_25ff4_row1_col1\" class=\"data row1 col1\" >MAGRARSGLLLL...YSAPLPKPAPSS</td>\n      <td id=\"T_25ff4_row1_col2\" class=\"data row1 col2\" >1</td>\n      <td id=\"T_25ff4_row1_col3\" class=\"data row1 col3\" >868</td>\n      <td id=\"T_25ff4_row1_col4\" class=\"data row1 col4\" >890</td>\n      <td id=\"T_25ff4_row1_col5\" class=\"data row1 col5\" >KLSTEPGSGV</td>\n      <td id=\"T_25ff4_row1_col6\" class=\"data row1 col6\" >SVVLITTLLVIPVLVLLAIVMFI</td>\n      <td id=\"T_25ff4_row1_col7\" class=\"data row1 col7\" >RWKKSRAFGD</td>\n    </tr>\n    <tr>\n      <th id=\"T_25ff4_level0_row2\" class=\"row_heading level0 row2\" >3</th>\n      <td id=\"T_25ff4_row2_col0\" class=\"data row2 col0\" >P70180</td>\n      <td id=\"T_25ff4_row2_col1\" class=\"data row2 col1\" >MRSLLLFTFSAC...REDSIRSHFSVA</td>\n      <td id=\"T_25ff4_row2_col2\" class=\"data row2 col2\" >1</td>\n      <td id=\"T_25ff4_row2_col3\" class=\"data row2 col3\" >477</td>\n      <td id=\"T_25ff4_row2_col4\" class=\"data row2 col4\" >499</td>\n      <td id=\"T_25ff4_row2_col5\" class=\"data row2 col5\" >PCKSSGGLEE</td>\n      <td id=\"T_25ff4_row2_col6\" class=\"data row2 col6\" >SAVTGIVVGALLGAGLLMAFYFF</td>\n      <td id=\"T_25ff4_row2_col7\" class=\"data row2 col7\" >RKKYRITIER</td>\n    </tr>\n    <tr>\n      <th id=\"T_25ff4_level0_row3\" class=\"row_heading level0 row3\" >4</th>\n      <td id=\"T_25ff4_row3_col0\" class=\"data row3 col0\" >Q03157</td>\n      <td id=\"T_25ff4_row3_col1\" class=\"data row3 col1\" >MGPTSPAARGQG...ENPTYRFLEERP</td>\n      <td id=\"T_25ff4_row3_col2\" class=\"data row3 col2\" >1</td>\n      <td id=\"T_25ff4_row3_col3\" class=\"data row3 col3\" >585</td>\n      <td id=\"T_25ff4_row3_col4\" class=\"data row3 col4\" >607</td>\n      <td id=\"T_25ff4_row3_col5\" class=\"data row3 col5\" >APSGTGVSRE</td>\n      <td id=\"T_25ff4_row3_col6\" class=\"data row3 col6\" >ALSGLLIMGAGGGSLIVLSLLLL</td>\n      <td id=\"T_25ff4_row3_col7\" class=\"data row3 col7\" >RKKKPYGTIS</td>\n    </tr>\n    <tr>\n      <th id=\"T_25ff4_level0_row4\" class=\"row_heading level0 row4\" >5</th>\n      <td id=\"T_25ff4_row4_col0\" class=\"data row4 col0\" >Q06481</td>\n      <td id=\"T_25ff4_row4_col1\" class=\"data row4 col1\" >MAATGTAAAAAT...NPTYKYLEQMQI</td>\n      <td id=\"T_25ff4_row4_col2\" class=\"data row4 col2\" >1</td>\n      <td id=\"T_25ff4_row4_col3\" class=\"data row4 col3\" >694</td>\n      <td id=\"T_25ff4_row4_col4\" class=\"data row4 col4\" >716</td>\n      <td id=\"T_25ff4_row4_col5\" class=\"data row4 col5\" >LREDFSLSSS</td>\n      <td id=\"T_25ff4_row4_col6\" class=\"data row4 col6\" >ALIGLLVIAVAIATVIVISLVML</td>\n      <td id=\"T_25ff4_row4_col7\" class=\"data row4 col7\" >RKRQYGTISH</td>\n    </tr>\n  </tbody>\n</table>\n"
     },
     "metadata": {},
     "output_type": "display_data"
    }
   ],
   "source": [
    "df_seq = aa.load_dataset(name=\"DOM_GSEC\")\n",
    "aa.display_df(df_seq, n_rows=5)"
   ],
   "metadata": {
    "collapsed": false,
    "ExecuteTime": {
     "end_time": "2023-12-27T14:58:59.081997892Z",
     "start_time": "2023-12-27T14:58:59.025249290Z"
    }
   },
   "id": "25ec0c1db0cbeb02"
  },
  {
   "cell_type": "markdown",
   "source": [
    "1. ``Position-based format``:"
   ],
   "metadata": {
    "collapsed": false
   },
   "id": "faa737227bab3e53"
  },
  {
   "cell_type": "code",
   "execution_count": 15,
   "outputs": [
    {
     "data": {
      "text/plain": "<IPython.core.display.HTML object>",
      "text/html": "<style type=\"text/css\">\n#T_11bfb thead th {\n  background-color: white;\n  color: black;\n}\n#T_11bfb tbody tr:nth-child(odd) {\n  background-color: #f2f2f2;\n}\n#T_11bfb tbody tr:nth-child(even) {\n  background-color: white;\n}\n#T_11bfb th {\n  padding: 5px;\n  white-space: nowrap;\n}\n#T_11bfb  td {\n  padding: 5px;\n  white-space: nowrap;\n}\n#T_11bfb table {\n  font-size: 12px;\n}\n</style>\n<table id=\"T_11bfb\" style='display:block; max-height: 300px; max-width: 100%; overflow-x: auto; overflow-y: auto;'>\n  <thead>\n    <tr>\n      <th class=\"blank level0\" >&nbsp;</th>\n      <th id=\"T_11bfb_level0_col0\" class=\"col_heading level0 col0\" >jmd_n</th>\n      <th id=\"T_11bfb_level0_col1\" class=\"col_heading level0 col1\" >tmd</th>\n      <th id=\"T_11bfb_level0_col2\" class=\"col_heading level0 col2\" >jmd_c</th>\n    </tr>\n  </thead>\n  <tbody>\n    <tr>\n      <th id=\"T_11bfb_level0_row0\" class=\"row_heading level0 row0\" >P05067</th>\n      <td id=\"T_11bfb_row0_col0\" class=\"data row0 col0\" >FAEDVGSNKG</td>\n      <td id=\"T_11bfb_row0_col1\" class=\"data row0 col1\" >AIIGLMVGGVVIATVIVITLVML</td>\n      <td id=\"T_11bfb_row0_col2\" class=\"data row0 col2\" >KKKQYTSIHH</td>\n    </tr>\n    <tr>\n      <th id=\"T_11bfb_level0_row1\" class=\"row_heading level0 row1\" >P14925</th>\n      <td id=\"T_11bfb_row1_col0\" class=\"data row1 col0\" >KLSTEPGSGV</td>\n      <td id=\"T_11bfb_row1_col1\" class=\"data row1 col1\" >SVVLITTLLVIPVLVLLAIVMFI</td>\n      <td id=\"T_11bfb_row1_col2\" class=\"data row1 col2\" >RWKKSRAFGD</td>\n    </tr>\n    <tr>\n      <th id=\"T_11bfb_level0_row2\" class=\"row_heading level0 row2\" >P70180</th>\n      <td id=\"T_11bfb_row2_col0\" class=\"data row2 col0\" >PCKSSGGLEE</td>\n      <td id=\"T_11bfb_row2_col1\" class=\"data row2 col1\" >SAVTGIVVGALLGAGLLMAFYFF</td>\n      <td id=\"T_11bfb_row2_col2\" class=\"data row2 col2\" >RKKYRITIER</td>\n    </tr>\n  </tbody>\n</table>\n"
     },
     "metadata": {},
     "output_type": "display_data"
    }
   ],
   "source": [
    "cols_position_based = [\"entry\", \"sequence\", \"tmd_start\", \"tmd_stop\"]\n",
    "list_parts = [\"jmd_n\", \"tmd\", \"jmd_c\"]\n",
    "df_parts = sf.get_df_parts(df_seq=df_seq[cols_position_based], list_parts=list_parts)\n",
    "aa.display_df(df_parts, n_rows=3)"
   ],
   "metadata": {
    "collapsed": false,
    "ExecuteTime": {
     "end_time": "2023-12-27T14:59:00.115532911Z",
     "start_time": "2023-12-27T14:58:59.992236448Z"
    }
   },
   "id": "7b41c7e044dff604"
  },
  {
   "cell_type": "markdown",
   "source": [
    "2. ``Part-based format``:"
   ],
   "metadata": {
    "collapsed": false
   },
   "id": "dede7db16c89a36c"
  },
  {
   "cell_type": "code",
   "execution_count": 16,
   "outputs": [
    {
     "data": {
      "text/plain": "<IPython.core.display.HTML object>",
      "text/html": "<style type=\"text/css\">\n#T_563a1 thead th {\n  background-color: white;\n  color: black;\n}\n#T_563a1 tbody tr:nth-child(odd) {\n  background-color: #f2f2f2;\n}\n#T_563a1 tbody tr:nth-child(even) {\n  background-color: white;\n}\n#T_563a1 th {\n  padding: 5px;\n  white-space: nowrap;\n}\n#T_563a1  td {\n  padding: 5px;\n  white-space: nowrap;\n}\n#T_563a1 table {\n  font-size: 12px;\n}\n</style>\n<table id=\"T_563a1\" style='display:block; max-height: 300px; max-width: 100%; overflow-x: auto; overflow-y: auto;'>\n  <thead>\n    <tr>\n      <th class=\"blank level0\" >&nbsp;</th>\n      <th id=\"T_563a1_level0_col0\" class=\"col_heading level0 col0\" >jmd_n</th>\n      <th id=\"T_563a1_level0_col1\" class=\"col_heading level0 col1\" >tmd</th>\n      <th id=\"T_563a1_level0_col2\" class=\"col_heading level0 col2\" >jmd_c</th>\n    </tr>\n  </thead>\n  <tbody>\n    <tr>\n      <th id=\"T_563a1_level0_row0\" class=\"row_heading level0 row0\" >P05067</th>\n      <td id=\"T_563a1_row0_col0\" class=\"data row0 col0\" >FAEDVGSNKG</td>\n      <td id=\"T_563a1_row0_col1\" class=\"data row0 col1\" >AIIGLMVGGVVIATVIVITLVML</td>\n      <td id=\"T_563a1_row0_col2\" class=\"data row0 col2\" >KKKQYTSIHH</td>\n    </tr>\n    <tr>\n      <th id=\"T_563a1_level0_row1\" class=\"row_heading level0 row1\" >P14925</th>\n      <td id=\"T_563a1_row1_col0\" class=\"data row1 col0\" >KLSTEPGSGV</td>\n      <td id=\"T_563a1_row1_col1\" class=\"data row1 col1\" >SVVLITTLLVIPVLVLLAIVMFI</td>\n      <td id=\"T_563a1_row1_col2\" class=\"data row1 col2\" >RWKKSRAFGD</td>\n    </tr>\n    <tr>\n      <th id=\"T_563a1_level0_row2\" class=\"row_heading level0 row2\" >P70180</th>\n      <td id=\"T_563a1_row2_col0\" class=\"data row2 col0\" >PCKSSGGLEE</td>\n      <td id=\"T_563a1_row2_col1\" class=\"data row2 col1\" >SAVTGIVVGALLGAGLLMAFYFF</td>\n      <td id=\"T_563a1_row2_col2\" class=\"data row2 col2\" >RKKYRITIER</td>\n    </tr>\n  </tbody>\n</table>\n"
     },
     "metadata": {},
     "output_type": "display_data"
    }
   ],
   "source": [
    "cols_part_based = [\"entry\", \"jmd_n\", \"tmd\", \"jmd_c\"]\n",
    "df_parts = sf.get_df_parts(df_seq=df_seq[cols_part_based], list_parts=list_parts)\n",
    "aa.display_df(df_parts, n_rows=3)"
   ],
   "metadata": {
    "collapsed": false,
    "ExecuteTime": {
     "end_time": "2023-12-27T14:59:01.280571523Z",
     "start_time": "2023-12-27T14:59:01.126783517Z"
    }
   },
   "id": "8ffa9a7170c1eef4"
  },
  {
   "cell_type": "markdown",
   "source": [
    "3. ``Sequence-TMD-based format``:"
   ],
   "metadata": {
    "collapsed": false
   },
   "id": "2d513be96c6e0f3e"
  },
  {
   "cell_type": "code",
   "execution_count": 17,
   "outputs": [
    {
     "data": {
      "text/plain": "<IPython.core.display.HTML object>",
      "text/html": "<style type=\"text/css\">\n#T_c0737 thead th {\n  background-color: white;\n  color: black;\n}\n#T_c0737 tbody tr:nth-child(odd) {\n  background-color: #f2f2f2;\n}\n#T_c0737 tbody tr:nth-child(even) {\n  background-color: white;\n}\n#T_c0737 th {\n  padding: 5px;\n  white-space: nowrap;\n}\n#T_c0737  td {\n  padding: 5px;\n  white-space: nowrap;\n}\n#T_c0737 table {\n  font-size: 12px;\n}\n</style>\n<table id=\"T_c0737\" style='display:block; max-height: 300px; max-width: 100%; overflow-x: auto; overflow-y: auto;'>\n  <thead>\n    <tr>\n      <th class=\"blank level0\" >&nbsp;</th>\n      <th id=\"T_c0737_level0_col0\" class=\"col_heading level0 col0\" >jmd_n</th>\n      <th id=\"T_c0737_level0_col1\" class=\"col_heading level0 col1\" >tmd</th>\n      <th id=\"T_c0737_level0_col2\" class=\"col_heading level0 col2\" >jmd_c</th>\n    </tr>\n  </thead>\n  <tbody>\n    <tr>\n      <th id=\"T_c0737_level0_row0\" class=\"row_heading level0 row0\" >P05067</th>\n      <td id=\"T_c0737_row0_col0\" class=\"data row0 col0\" >FAEDVGSNKG</td>\n      <td id=\"T_c0737_row0_col1\" class=\"data row0 col1\" >AIIGLMVGGVVIATVIVITLVML</td>\n      <td id=\"T_c0737_row0_col2\" class=\"data row0 col2\" >KKKQYTSIHH</td>\n    </tr>\n    <tr>\n      <th id=\"T_c0737_level0_row1\" class=\"row_heading level0 row1\" >P14925</th>\n      <td id=\"T_c0737_row1_col0\" class=\"data row1 col0\" >KLSTEPGSGV</td>\n      <td id=\"T_c0737_row1_col1\" class=\"data row1 col1\" >SVVLITTLLVIPVLVLLAIVMFI</td>\n      <td id=\"T_c0737_row1_col2\" class=\"data row1 col2\" >RWKKSRAFGD</td>\n    </tr>\n    <tr>\n      <th id=\"T_c0737_level0_row2\" class=\"row_heading level0 row2\" >P70180</th>\n      <td id=\"T_c0737_row2_col0\" class=\"data row2 col0\" >PCKSSGGLEE</td>\n      <td id=\"T_c0737_row2_col1\" class=\"data row2 col1\" >SAVTGIVVGALLGAGLLMAFYFF</td>\n      <td id=\"T_c0737_row2_col2\" class=\"data row2 col2\" >RKKYRITIER</td>\n    </tr>\n  </tbody>\n</table>\n"
     },
     "metadata": {},
     "output_type": "display_data"
    }
   ],
   "source": [
    "cols_sequence_tmd_based = [\"entry\", \"sequence\", \"tmd\"]\n",
    "df_parts = sf.get_df_parts(df_seq=df_seq[cols_sequence_tmd_based], list_parts=list_parts)\n",
    "aa.display_df(df_parts, n_rows=3)"
   ],
   "metadata": {
    "collapsed": false,
    "ExecuteTime": {
     "end_time": "2023-12-27T14:59:02.388433029Z",
     "start_time": "2023-12-27T14:59:02.254868960Z"
    }
   },
   "id": "8414c835984f8b08"
  },
  {
   "cell_type": "markdown",
   "source": [
    "4. ``Sequence-based format``:"
   ],
   "metadata": {
    "collapsed": false
   },
   "id": "e1f74cc7fd8730cf"
  },
  {
   "cell_type": "code",
   "execution_count": 18,
   "outputs": [
    {
     "data": {
      "text/plain": "<IPython.core.display.HTML object>",
      "text/html": "<style type=\"text/css\">\n#T_2f8ff thead th {\n  background-color: white;\n  color: black;\n}\n#T_2f8ff tbody tr:nth-child(odd) {\n  background-color: #f2f2f2;\n}\n#T_2f8ff tbody tr:nth-child(even) {\n  background-color: white;\n}\n#T_2f8ff th {\n  padding: 5px;\n  white-space: nowrap;\n}\n#T_2f8ff  td {\n  padding: 5px;\n  white-space: nowrap;\n}\n#T_2f8ff table {\n  font-size: 12px;\n}\n</style>\n<table id=\"T_2f8ff\" style='display:block; max-height: 300px; max-width: 100%; overflow-x: auto; overflow-y: auto;'>\n  <thead>\n    <tr>\n      <th class=\"blank level0\" >&nbsp;</th>\n      <th id=\"T_2f8ff_level0_col0\" class=\"col_heading level0 col0\" >jmd_n</th>\n      <th id=\"T_2f8ff_level0_col1\" class=\"col_heading level0 col1\" >tmd</th>\n      <th id=\"T_2f8ff_level0_col2\" class=\"col_heading level0 col2\" >jmd_c</th>\n    </tr>\n  </thead>\n  <tbody>\n    <tr>\n      <th id=\"T_2f8ff_level0_row0\" class=\"row_heading level0 row0\" >P05067</th>\n      <td id=\"T_2f8ff_row0_col0\" class=\"data row0 col0\" >MLPGLALLLL</td>\n      <td id=\"T_2f8ff_row0_col1\" class=\"data row0 col1\" >AAWTARALEVPT...LSKMQQNGYENP</td>\n      <td id=\"T_2f8ff_row0_col2\" class=\"data row0 col2\" >TYKFFEQMQN</td>\n    </tr>\n    <tr>\n      <th id=\"T_2f8ff_level0_row1\" class=\"row_heading level0 row1\" >P14925</th>\n      <td id=\"T_2f8ff_row1_col0\" class=\"data row1 col0\" >MAGRARSGLL</td>\n      <td id=\"T_2f8ff_row1_col1\" class=\"data row1 col1\" >LLLLGLLALQSS...EDDGTESEEEYS</td>\n      <td id=\"T_2f8ff_row1_col2\" class=\"data row1 col2\" >APLPKPAPSS</td>\n    </tr>\n    <tr>\n      <th id=\"T_2f8ff_level0_row2\" class=\"row_heading level0 row2\" >P70180</th>\n      <td id=\"T_2f8ff_row2_col0\" class=\"data row2 col0\" >MRSLLLFTFS</td>\n      <td id=\"T_2f8ff_row2_col1\" class=\"data row2 col1\" >ACVLLARVLLAG...ESNIGKHRELRE</td>\n      <td id=\"T_2f8ff_row2_col2\" class=\"data row2 col2\" >DSIRSHFSVA</td>\n    </tr>\n  </tbody>\n</table>\n"
     },
     "metadata": {},
     "output_type": "display_data"
    }
   ],
   "source": [
    "cols_sequence_based = [\"entry\", \"sequence\"]\n",
    "df_parts = sf.get_df_parts(df_seq=df_seq[cols_sequence_based], list_parts=list_parts)\n",
    "# Only providing the sequence will create flanking jmd_n and jmd_c regions defined by \n",
    "# their length and the tmd as the remaining middle part\n",
    "aa.display_df(df_parts, n_rows=3)"
   ],
   "metadata": {
    "collapsed": false,
    "ExecuteTime": {
     "end_time": "2023-12-27T14:59:03.451587753Z",
     "start_time": "2023-12-27T14:59:03.330567838Z"
    }
   },
   "id": "71eb9e642b178618"
  }
 ],
 "metadata": {
  "kernelspec": {
   "display_name": "Python 3",
   "language": "python",
   "name": "python3"
  },
  "language_info": {
   "codemirror_mode": {
    "name": "ipython",
    "version": 2
   },
   "file_extension": ".py",
   "mimetype": "text/x-python",
   "name": "python",
   "nbconvert_exporter": "python",
   "pygments_lexer": "ipython2",
   "version": "2.7.6"
  }
 },
 "nbformat": 4,
 "nbformat_minor": 5
}
