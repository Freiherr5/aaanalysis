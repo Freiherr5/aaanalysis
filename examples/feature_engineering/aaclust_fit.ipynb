{
 "cells": [
  {
   "cell_type": "markdown",
   "source": [
    "We load an example scale dataset to showcase the ``AAclust.fit()`` method:"
   ],
   "metadata": {
    "collapsed": false
   },
   "id": "9de0b73486a5e355"
  },
  {
   "cell_type": "code",
   "execution_count": 1,
   "outputs": [],
   "source": [
    "import aaanalysis as aa\n",
    "aa.options[\"verbose\"] = False\n",
    "# Create test dataset of 25 amino acid scales\n",
    "df_scales = aa.load_scales().T.sample(25).T\n",
    "X = df_scales.T"
   ],
   "metadata": {
    "collapsed": false,
    "ExecuteTime": {
     "end_time": "2023-12-25T22:35:46.020952310Z",
     "start_time": "2023-12-25T22:35:45.403409550Z"
    }
   },
   "id": "60ce10e199a1a270"
  },
  {
   "cell_type": "markdown",
   "source": [
    "By fitting ``AAclust``, its three-step algorithm is performed to select an optimized ``n_clusters`` (k). The three steps involve (1) an estimation of lower bound of k, (2) refinement of k, and (3) an optional clustering merging. Various results are saved as attributes: "
   ],
   "metadata": {
    "collapsed": false
   },
   "id": "70e721551475cda0"
  },
  {
   "cell_type": "code",
   "execution_count": 2,
   "outputs": [
    {
     "name": "stdout",
     "output_type": "stream",
     "text": [
      "n_clusters:  5\n",
      "Labels:  [1 1 1 3 0 1 4 3 0 2 0 4 2 0 0 2 1 0 1 0 2 3 3 2 4]\n",
      "Labels of medoids:  [1 3 0 4 2]\n"
     ]
    },
    {
     "data": {
      "text/plain": "<IPython.core.display.HTML object>",
      "text/html": "<style type=\"text/css\">\n#T_c5112 thead th {\n  background-color: white;\n  color: black;\n}\n#T_c5112 tbody tr:nth-child(odd) {\n  background-color: #f2f2f2;\n}\n#T_c5112 tbody tr:nth-child(even) {\n  background-color: white;\n}\n#T_c5112 th {\n  padding: 5px;\n  white-space: nowrap;\n}\n#T_c5112  td {\n  padding: 5px;\n  white-space: nowrap;\n}\n#T_c5112 table {\n  font-size: 12px;\n}\n</style>\n<table id=\"T_c5112\" style='display:block; max-height: 300px; max-width: 100%; overflow-x: auto; overflow-y: auto;'>\n  <thead>\n    <tr>\n      <th class=\"blank level0\" >&nbsp;</th>\n      <th id=\"T_c5112_level0_col0\" class=\"col_heading level0 col0\" >KARS160117</th>\n      <th id=\"T_c5112_level0_col1\" class=\"col_heading level0 col1\" >AURR980110</th>\n      <th id=\"T_c5112_level0_col2\" class=\"col_heading level0 col2\" >LINS030107</th>\n      <th id=\"T_c5112_level0_col3\" class=\"col_heading level0 col3\" >COHE430101</th>\n      <th id=\"T_c5112_level0_col4\" class=\"col_heading level0 col4\" >PTIO830101</th>\n    </tr>\n    <tr>\n      <th class=\"index_name level0\" >AA</th>\n      <th class=\"blank col0\" >&nbsp;</th>\n      <th class=\"blank col1\" >&nbsp;</th>\n      <th class=\"blank col2\" >&nbsp;</th>\n      <th class=\"blank col3\" >&nbsp;</th>\n      <th class=\"blank col4\" >&nbsp;</th>\n    </tr>\n  </thead>\n  <tbody>\n    <tr>\n      <th id=\"T_c5112_level0_row0\" class=\"row_heading level0 row0\" >A</th>\n      <td id=\"T_c5112_row0_col0\" class=\"data row0 col0\" >0.082000</td>\n      <td id=\"T_c5112_row0_col1\" class=\"data row0 col1\" >1.000000</td>\n      <td id=\"T_c5112_row0_col2\" class=\"data row0 col2\" >0.200000</td>\n      <td id=\"T_c5112_row0_col3\" class=\"data row0 col3\" >0.500000</td>\n      <td id=\"T_c5112_row0_col4\" class=\"data row0 col4\" >0.870000</td>\n    </tr>\n    <tr>\n      <th id=\"T_c5112_level0_row1\" class=\"row_heading level0 row1\" >C</th>\n      <td id=\"T_c5112_row1_col0\" class=\"data row1 col0\" >0.344000</td>\n      <td id=\"T_c5112_row1_col1\" class=\"data row1 col1\" >0.242000</td>\n      <td id=\"T_c5112_row1_col2\" class=\"data row1 col2\" >0.000000</td>\n      <td id=\"T_c5112_row1_col3\" class=\"data row1 col3\" >0.033000</td>\n      <td id=\"T_c5112_row1_col4\" class=\"data row1 col4\" >0.739000</td>\n    </tr>\n    <tr>\n      <th id=\"T_c5112_level0_row2\" class=\"row_heading level0 row2\" >D</th>\n      <td id=\"T_c5112_row2_col0\" class=\"data row2 col0\" >0.443000</td>\n      <td id=\"T_c5112_row2_col1\" class=\"data row2 col1\" >0.455000</td>\n      <td id=\"T_c5112_row2_col2\" class=\"data row2 col2\" >0.800000</td>\n      <td id=\"T_c5112_row2_col3\" class=\"data row2 col3\" >0.000000</td>\n      <td id=\"T_c5112_row2_col4\" class=\"data row2 col4\" >0.478000</td>\n    </tr>\n    <tr>\n      <th id=\"T_c5112_level0_row3\" class=\"row_heading level0 row3\" >E</th>\n      <td id=\"T_c5112_row3_col0\" class=\"data row3 col0\" >0.541000</td>\n      <td id=\"T_c5112_row3_col1\" class=\"data row3 col1\" >0.958000</td>\n      <td id=\"T_c5112_row3_col2\" class=\"data row3 col2\" >0.911000</td>\n      <td id=\"T_c5112_row3_col3\" class=\"data row3 col3\" >0.200000</td>\n      <td id=\"T_c5112_row3_col4\" class=\"data row3 col4\" >0.783000</td>\n    </tr>\n    <tr>\n      <th id=\"T_c5112_level0_row4\" class=\"row_heading level0 row4\" >F</th>\n      <td id=\"T_c5112_row4_col0\" class=\"data row4 col0\" >0.672000</td>\n      <td id=\"T_c5112_row4_col1\" class=\"data row4 col1\" >0.491000</td>\n      <td id=\"T_c5112_row4_col2\" class=\"data row4 col2\" >0.067000</td>\n      <td id=\"T_c5112_row4_col3\" class=\"data row4 col3\" >0.567000</td>\n      <td id=\"T_c5112_row4_col4\" class=\"data row4 col4\" >0.870000</td>\n    </tr>\n    <tr>\n      <th id=\"T_c5112_level0_row5\" class=\"row_heading level0 row5\" >G</th>\n      <td id=\"T_c5112_row5_col0\" class=\"data row5 col0\" >0.000000</td>\n      <td id=\"T_c5112_row5_col1\" class=\"data row5 col1\" >0.103000</td>\n      <td id=\"T_c5112_row5_col2\" class=\"data row5 col2\" >0.422000</td>\n      <td id=\"T_c5112_row5_col3\" class=\"data row5 col3\" >0.133000</td>\n      <td id=\"T_c5112_row5_col4\" class=\"data row5 col4\" >0.435000</td>\n    </tr>\n    <tr>\n      <th id=\"T_c5112_level0_row6\" class=\"row_heading level0 row6\" >H</th>\n      <td id=\"T_c5112_row6_col0\" class=\"data row6 col0\" >0.656000</td>\n      <td id=\"T_c5112_row6_col1\" class=\"data row6 col1\" >0.188000</td>\n      <td id=\"T_c5112_row6_col2\" class=\"data row6 col2\" >0.467000</td>\n      <td id=\"T_c5112_row6_col3\" class=\"data row6 col3\" >0.233000</td>\n      <td id=\"T_c5112_row6_col4\" class=\"data row6 col4\" >0.652000</td>\n    </tr>\n    <tr>\n      <th id=\"T_c5112_level0_row7\" class=\"row_heading level0 row7\" >I</th>\n      <td id=\"T_c5112_row7_col0\" class=\"data row7 col0\" >0.377000</td>\n      <td id=\"T_c5112_row7_col1\" class=\"data row7 col1\" >0.570000</td>\n      <td id=\"T_c5112_row7_col2\" class=\"data row7 col2\" >0.022000</td>\n      <td id=\"T_c5112_row7_col3\" class=\"data row7 col3\" >1.000000</td>\n      <td id=\"T_c5112_row7_col4\" class=\"data row7 col4\" >0.870000</td>\n    </tr>\n    <tr>\n      <th id=\"T_c5112_level0_row8\" class=\"row_heading level0 row8\" >K</th>\n      <td id=\"T_c5112_row8_col0\" class=\"data row8 col0\" >0.492000</td>\n      <td id=\"T_c5112_row8_col1\" class=\"data row8 col1\" >0.661000</td>\n      <td id=\"T_c5112_row8_col2\" class=\"data row8 col2\" >1.000000</td>\n      <td id=\"T_c5112_row8_col3\" class=\"data row8 col3\" >0.733000</td>\n      <td id=\"T_c5112_row8_col4\" class=\"data row8 col4\" >0.783000</td>\n    </tr>\n    <tr>\n      <th id=\"T_c5112_level0_row9\" class=\"row_heading level0 row9\" >L</th>\n      <td id=\"T_c5112_row9_col0\" class=\"data row9 col0\" >0.377000</td>\n      <td id=\"T_c5112_row9_col1\" class=\"data row9 col1\" >0.800000</td>\n      <td id=\"T_c5112_row9_col2\" class=\"data row9 col2\" >0.044000</td>\n      <td id=\"T_c5112_row9_col3\" class=\"data row9 col3\" >1.000000</td>\n      <td id=\"T_c5112_row9_col4\" class=\"data row9 col4\" >1.000000</td>\n    </tr>\n    <tr>\n      <th id=\"T_c5112_level0_row10\" class=\"row_heading level0 row10\" >M</th>\n      <td id=\"T_c5112_row10_col0\" class=\"data row10 col0\" >0.541000</td>\n      <td id=\"T_c5112_row10_col1\" class=\"data row10 col1\" >0.903000</td>\n      <td id=\"T_c5112_row10_col2\" class=\"data row10 col2\" >0.089000</td>\n      <td id=\"T_c5112_row10_col3\" class=\"data row10 col3\" >0.500000</td>\n      <td id=\"T_c5112_row10_col4\" class=\"data row10 col4\" >0.913000</td>\n    </tr>\n    <tr>\n      <th id=\"T_c5112_level0_row11\" class=\"row_heading level0 row11\" >N</th>\n      <td id=\"T_c5112_row11_col0\" class=\"data row11 col0\" >0.426000</td>\n      <td id=\"T_c5112_row11_col1\" class=\"data row11 col1\" >0.352000</td>\n      <td id=\"T_c5112_row11_col2\" class=\"data row11 col2\" >0.733000</td>\n      <td id=\"T_c5112_row11_col3\" class=\"data row11 col3\" >0.033000</td>\n      <td id=\"T_c5112_row11_col4\" class=\"data row11 col4\" >0.609000</td>\n    </tr>\n    <tr>\n      <th id=\"T_c5112_level0_row12\" class=\"row_heading level0 row12\" >P</th>\n      <td id=\"T_c5112_row12_col0\" class=\"data row12 col0\" >0.279000</td>\n      <td id=\"T_c5112_row12_col1\" class=\"data row12 col1\" >0.000000</td>\n      <td id=\"T_c5112_row12_col2\" class=\"data row12 col2\" >0.733000</td>\n      <td id=\"T_c5112_row12_col3\" class=\"data row12 col3\" >0.533000</td>\n      <td id=\"T_c5112_row12_col4\" class=\"data row12 col4\" >0.000000</td>\n    </tr>\n    <tr>\n      <th id=\"T_c5112_level0_row13\" class=\"row_heading level0 row13\" >Q</th>\n      <td id=\"T_c5112_row13_col0\" class=\"data row13 col0\" >0.525000</td>\n      <td id=\"T_c5112_row13_col1\" class=\"data row13 col1\" >0.497000</td>\n      <td id=\"T_c5112_row13_col2\" class=\"data row13 col2\" >0.778000</td>\n      <td id=\"T_c5112_row13_col3\" class=\"data row13 col3\" >0.233000</td>\n      <td id=\"T_c5112_row13_col4\" class=\"data row13 col4\" >0.783000</td>\n    </tr>\n    <tr>\n      <th id=\"T_c5112_level0_row14\" class=\"row_heading level0 row14\" >R</th>\n      <td id=\"T_c5112_row14_col0\" class=\"data row14 col0\" >0.623000</td>\n      <td id=\"T_c5112_row14_col1\" class=\"data row14 col1\" >0.958000</td>\n      <td id=\"T_c5112_row14_col2\" class=\"data row14 col2\" >0.711000</td>\n      <td id=\"T_c5112_row14_col3\" class=\"data row14 col3\" >0.333000</td>\n      <td id=\"T_c5112_row14_col4\" class=\"data row14 col4\" >0.739000</td>\n    </tr>\n    <tr>\n      <th id=\"T_c5112_level0_row15\" class=\"row_heading level0 row15\" >S</th>\n      <td id=\"T_c5112_row15_col0\" class=\"data row15 col0\" >0.246000</td>\n      <td id=\"T_c5112_row15_col1\" class=\"data row15 col1\" >0.315000</td>\n      <td id=\"T_c5112_row15_col2\" class=\"data row15 col2\" >0.556000</td>\n      <td id=\"T_c5112_row15_col3\" class=\"data row15 col3\" >0.267000</td>\n      <td id=\"T_c5112_row15_col4\" class=\"data row15 col4\" >0.565000</td>\n    </tr>\n    <tr>\n      <th id=\"T_c5112_level0_row16\" class=\"row_heading level0 row16\" >T</th>\n      <td id=\"T_c5112_row16_col0\" class=\"data row16 col0\" >0.328000</td>\n      <td id=\"T_c5112_row16_col1\" class=\"data row16 col1\" >0.333000</td>\n      <td id=\"T_c5112_row16_col2\" class=\"data row16 col2\" >0.511000</td>\n      <td id=\"T_c5112_row16_col3\" class=\"data row16 col3\" >0.333000</td>\n      <td id=\"T_c5112_row16_col4\" class=\"data row16 col4\" >0.565000</td>\n    </tr>\n    <tr>\n      <th id=\"T_c5112_level0_row17\" class=\"row_heading level0 row17\" >V</th>\n      <td id=\"T_c5112_row17_col0\" class=\"data row17 col0\" >0.279000</td>\n      <td id=\"T_c5112_row17_col1\" class=\"data row17 col1\" >0.400000</td>\n      <td id=\"T_c5112_row17_col2\" class=\"data row17 col2\" >0.044000</td>\n      <td id=\"T_c5112_row17_col3\" class=\"data row17 col3\" >0.867000</td>\n      <td id=\"T_c5112_row17_col4\" class=\"data row17 col4\" >0.739000</td>\n    </tr>\n    <tr>\n      <th id=\"T_c5112_level0_row18\" class=\"row_heading level0 row18\" >W</th>\n      <td id=\"T_c5112_row18_col0\" class=\"data row18 col0\" >1.000000</td>\n      <td id=\"T_c5112_row18_col1\" class=\"data row18 col1\" >0.321000</td>\n      <td id=\"T_c5112_row18_col2\" class=\"data row18 col2\" >0.156000</td>\n      <td id=\"T_c5112_row18_col3\" class=\"data row18 col3\" >0.467000</td>\n      <td id=\"T_c5112_row18_col4\" class=\"data row18 col4\" >0.870000</td>\n    </tr>\n    <tr>\n      <th id=\"T_c5112_level0_row19\" class=\"row_heading level0 row19\" >Y</th>\n      <td id=\"T_c5112_row19_col0\" class=\"data row19 col0\" >0.803000</td>\n      <td id=\"T_c5112_row19_col1\" class=\"data row19 col1\" >0.461000</td>\n      <td id=\"T_c5112_row19_col2\" class=\"data row19 col2\" >0.244000</td>\n      <td id=\"T_c5112_row19_col3\" class=\"data row19 col3\" >0.367000</td>\n      <td id=\"T_c5112_row19_col4\" class=\"data row19 col4\" >0.870000</td>\n    </tr>\n  </tbody>\n</table>\n"
     },
     "metadata": {},
     "output_type": "display_data"
    }
   ],
   "source": [
    "# Fit clustering model\n",
    "aac = aa.AAclust()\n",
    "aac.fit(X)\n",
    "# Get output parameters\n",
    "n_clusters = aac.n_clusters\n",
    "print(\"n_clusters: \", n_clusters)\n",
    "labels = aac.labels_\n",
    "print(\"Labels: \", labels)\n",
    "centers = aac.centers_ # Cluster centers (average scales for each cluster)\n",
    "labels_centers = aac.labels_centers_\n",
    "medoids = aac.medoids_ # Representative scale for each cluster\n",
    "labels_medoids = aac.labels_medoids_\n",
    "print(\"Labels of medoids: \", labels_medoids)\n",
    "is_medoid = aac.is_medoid_\n",
    "df_scales_medoids = df_scales.T[is_medoid].T\n",
    "aa.display_df(df_scales_medoids)"
   ],
   "metadata": {
    "collapsed": false,
    "ExecuteTime": {
     "end_time": "2023-12-25T22:35:46.239900553Z",
     "start_time": "2023-12-25T22:35:45.973109131Z"
    }
   },
   "id": "c21b9a117157a86c"
  },
  {
   "cell_type": "markdown",
   "source": [
    "``names`` can be provided to the ``AAclust().fit()`` method to retrieve the names of the medoids:"
   ],
   "metadata": {
    "collapsed": false
   },
   "id": "c43dd15477ce22b3"
  },
  {
   "cell_type": "code",
   "execution_count": 3,
   "outputs": [
    {
     "name": "stdout",
     "output_type": "stream",
     "text": [
      "['scale 24', 'scale 3', 'scale 14', 'scale 11']\n"
     ]
    }
   ],
   "source": [
    "names = [f\"scale {i+1}\" for i in range(len(df_scales.T))]\n",
    "aac.fit(X, names=names)\n",
    "medoid_names = aac.medoid_names_\n",
    "print(medoid_names)"
   ],
   "metadata": {
    "collapsed": false,
    "ExecuteTime": {
     "end_time": "2023-12-25T22:35:46.284440084Z",
     "start_time": "2023-12-25T22:35:46.238642253Z"
    }
   },
   "id": "b07558342d78ab97"
  },
  {
   "cell_type": "markdown",
   "source": [
    "The ``n_clusters`` parameter can as well be pre-defined:"
   ],
   "metadata": {
    "collapsed": false
   },
   "id": "f42e4f7242b4b638"
  },
  {
   "cell_type": "code",
   "execution_count": 4,
   "outputs": [
    {
     "name": "stdout",
     "output_type": "stream",
     "text": [
      "['scale 5', 'scale 17', 'scale 23', 'scale 10', 'scale 25']\n"
     ]
    }
   ],
   "source": [
    "aac.fit(X, n_clusters=5, names=names)\n",
    "medoid_names = aac.medoid_names_\n",
    "print(medoid_names)"
   ],
   "metadata": {
    "collapsed": false,
    "ExecuteTime": {
     "end_time": "2023-12-25T22:35:46.529863491Z",
     "start_time": "2023-12-25T22:35:46.484885105Z"
    }
   },
   "id": "7d15144c49a1b15f"
  },
  {
   "cell_type": "markdown",
   "source": [
    "The second step of the ``AAclust`` algorithm (recursive k optimization) can be adjusted using the ``min_th`` and ``on_center`` parameters:"
   ],
   "metadata": {
    "collapsed": false
   },
   "id": "ddc1c0123987a46d"
  },
  {
   "cell_type": "code",
   "execution_count": 5,
   "outputs": [
    {
     "name": "stdout",
     "output_type": "stream",
     "text": [
      "17\n",
      "7\n"
     ]
    }
   ],
   "source": [
    "# Pearson correlation within all cluster members >= 0.5\n",
    "aac.fit(X, on_center=False, min_th=0.5)\n",
    "print(aac.n_clusters)\n",
    "# Pearson correlation between all cluster members and the respective center >= 0.5\n",
    "aac.fit(X, on_center=True, min_th=0.5)\n",
    "print(aac.n_clusters)\n",
    "# The latter is less strict, leading to bigger and thus fewer clusters "
   ],
   "metadata": {
    "collapsed": false,
    "ExecuteTime": {
     "end_time": "2023-12-25T22:35:47.651198339Z",
     "start_time": "2023-12-25T22:35:47.463033274Z"
    }
   },
   "id": "8055721fbad30eff"
  },
  {
   "cell_type": "markdown",
   "source": [
    "The third and optional merging step can be adjusted using the ``metric`` parameter and disabled setting ``merge=False``. The attributes can be directly retrieved since the ``AAclust.fit()`` method returns the fitted clustering model:"
   ],
   "metadata": {
    "collapsed": false
   },
   "id": "ec92bb70e293fc54"
  },
  {
   "cell_type": "code",
   "execution_count": 6,
   "outputs": [
    {
     "name": "stdout",
     "output_type": "stream",
     "text": [
      "49\n",
      "57\n",
      "59\n"
     ]
    }
   ],
   "source": [
    "# Load over 500 scales\n",
    "X = aa.load_scales().T\n",
    "n_with_merging_euclidean = aac.fit(X).n_clusters\n",
    "n_with_merging_cosine = aac.fit(X, metric=\"cosine\").n_clusters\n",
    "n_without_merging = aac.fit(X, merge=False).n_clusters\n",
    "print(n_with_merging_euclidean)\n",
    "print(n_with_merging_cosine)\n",
    "print(n_without_merging)"
   ],
   "metadata": {
    "collapsed": false,
    "ExecuteTime": {
     "end_time": "2023-12-25T22:35:53.938867527Z",
     "start_time": "2023-12-25T22:35:48.453007589Z"
    }
   },
   "id": "d97f55178f816158"
  }
 ],
 "metadata": {
  "kernelspec": {
   "display_name": "Python 3",
   "language": "python",
   "name": "python3"
  },
  "language_info": {
   "codemirror_mode": {
    "name": "ipython",
    "version": 2
   },
   "file_extension": ".py",
   "mimetype": "text/x-python",
   "name": "python",
   "nbconvert_exporter": "python",
   "pygments_lexer": "ipython2",
   "version": "2.7.6"
  }
 },
 "nbformat": 4,
 "nbformat_minor": 5
}
