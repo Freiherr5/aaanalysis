{
 "cells": [
  {
   "cell_type": "markdown",
   "source": [
    "Different clustering results can be evaluated and compared using the ``AAclust().eval()`` method. We perform five clusterings with ``n_clusters`` for 5, 10, 25, 50, and 100 utilizing a Python comprehension list:"
   ],
   "metadata": {
    "collapsed": false
   },
   "id": "93e1f62903f4009f"
  },
  {
   "cell_type": "code",
   "execution_count": 1,
   "outputs": [
    {
     "data": {
      "text/plain": "<IPython.core.display.HTML object>",
      "text/html": "<style type=\"text/css\">\n#T_e2d95 thead th {\n  background-color: white;\n  color: black;\n}\n#T_e2d95 tbody tr:nth-child(odd) {\n  background-color: #f2f2f2;\n}\n#T_e2d95 tbody tr:nth-child(even) {\n  background-color: white;\n}\n#T_e2d95 th {\n  padding: 5px;\n  white-space: nowrap;\n}\n#T_e2d95  td {\n  padding: 5px;\n  white-space: nowrap;\n}\n#T_e2d95 table {\n  font-size: 12px;\n}\n</style>\n<table id=\"T_e2d95\" style='display:block; max-height: 300px; max-width: 100%; overflow-x: auto; overflow-y: auto;'>\n  <thead>\n    <tr>\n      <th class=\"blank level0\" >&nbsp;</th>\n      <th id=\"T_e2d95_level0_col0\" class=\"col_heading level0 col0\" >name</th>\n      <th id=\"T_e2d95_level0_col1\" class=\"col_heading level0 col1\" >n_clusters</th>\n      <th id=\"T_e2d95_level0_col2\" class=\"col_heading level0 col2\" >BIC</th>\n      <th id=\"T_e2d95_level0_col3\" class=\"col_heading level0 col3\" >CH</th>\n      <th id=\"T_e2d95_level0_col4\" class=\"col_heading level0 col4\" >SC</th>\n    </tr>\n  </thead>\n  <tbody>\n    <tr>\n      <th id=\"T_e2d95_level0_row0\" class=\"row_heading level0 row0\" >1</th>\n      <td id=\"T_e2d95_row0_col0\" class=\"data row0 col0\" >Set 1</td>\n      <td id=\"T_e2d95_row0_col1\" class=\"data row0 col1\" >5</td>\n      <td id=\"T_e2d95_row0_col2\" class=\"data row0 col2\" >-230.064000</td>\n      <td id=\"T_e2d95_row0_col3\" class=\"data row0 col3\" >119.259000</td>\n      <td id=\"T_e2d95_row0_col4\" class=\"data row0 col4\" >0.195000</td>\n    </tr>\n    <tr>\n      <th id=\"T_e2d95_level0_row1\" class=\"row_heading level0 row1\" >2</th>\n      <td id=\"T_e2d95_row1_col0\" class=\"data row1 col0\" >Set 2</td>\n      <td id=\"T_e2d95_row1_col1\" class=\"data row1 col1\" >10</td>\n      <td id=\"T_e2d95_row1_col2\" class=\"data row1 col2\" >496.750000</td>\n      <td id=\"T_e2d95_row1_col3\" class=\"data row1 col3\" >85.710000</td>\n      <td id=\"T_e2d95_row1_col4\" class=\"data row1 col4\" >0.178000</td>\n    </tr>\n    <tr>\n      <th id=\"T_e2d95_level0_row2\" class=\"row_heading level0 row2\" >3</th>\n      <td id=\"T_e2d95_row2_col0\" class=\"data row2 col0\" >Set 3</td>\n      <td id=\"T_e2d95_row2_col1\" class=\"data row2 col1\" >25</td>\n      <td id=\"T_e2d95_row2_col2\" class=\"data row2 col2\" >891.144000</td>\n      <td id=\"T_e2d95_row2_col3\" class=\"data row2 col3\" >52.372000</td>\n      <td id=\"T_e2d95_row2_col4\" class=\"data row2 col4\" >0.168000</td>\n    </tr>\n    <tr>\n      <th id=\"T_e2d95_level0_row3\" class=\"row_heading level0 row3\" >4</th>\n      <td id=\"T_e2d95_row3_col0\" class=\"data row3 col0\" >Set 4</td>\n      <td id=\"T_e2d95_row3_col1\" class=\"data row3 col1\" >50</td>\n      <td id=\"T_e2d95_row3_col2\" class=\"data row3 col2\" >333.227000</td>\n      <td id=\"T_e2d95_row3_col3\" class=\"data row3 col3\" >34.652000</td>\n      <td id=\"T_e2d95_row3_col4\" class=\"data row3 col4\" >0.157000</td>\n    </tr>\n    <tr>\n      <th id=\"T_e2d95_level0_row4\" class=\"row_heading level0 row4\" >5</th>\n      <td id=\"T_e2d95_row4_col0\" class=\"data row4 col0\" >Set 5</td>\n      <td id=\"T_e2d95_row4_col1\" class=\"data row4 col1\" >100</td>\n      <td id=\"T_e2d95_row4_col2\" class=\"data row4 col2\" >-1401.558000</td>\n      <td id=\"T_e2d95_row4_col3\" class=\"data row4 col3\" >24.118000</td>\n      <td id=\"T_e2d95_row4_col4\" class=\"data row4 col4\" >0.155000</td>\n    </tr>\n  </tbody>\n</table>\n"
     },
     "metadata": {},
     "output_type": "display_data"
    }
   ],
   "source": [
    "import aaanalysis as aa\n",
    "aa.options[\"verbose\"] = False\n",
    "X = aa.load_scales().T\n",
    "aac = aa.AAclust()\n",
    "list_labels = [aac.fit(X, n_clusters=n).labels_ for n in [5, 10, 25, 50, 100]]\n",
    "df_eval = aac.eval(X, list_labels=list_labels)\n",
    "aa.display_df(df_eval)"
   ],
   "metadata": {
    "collapsed": false,
    "ExecuteTime": {
     "end_time": "2023-12-25T22:35:37.956341985Z",
     "start_time": "2023-12-25T22:35:36.719692858Z"
    }
   },
   "id": "1173b4b8522dff96"
  },
  {
   "cell_type": "markdown",
   "source": [
    "The name of the scale sets can be provided using the ``names_datasets`` parameter, which must match with the number of evaluated cluster sets:"
   ],
   "metadata": {
    "collapsed": false
   },
   "id": "30d967d3808c3295"
  },
  {
   "cell_type": "code",
   "execution_count": 2,
   "outputs": [
    {
     "data": {
      "text/plain": "<IPython.core.display.HTML object>",
      "text/html": "<style type=\"text/css\">\n#T_de452 thead th {\n  background-color: white;\n  color: black;\n}\n#T_de452 tbody tr:nth-child(odd) {\n  background-color: #f2f2f2;\n}\n#T_de452 tbody tr:nth-child(even) {\n  background-color: white;\n}\n#T_de452 th {\n  padding: 5px;\n  white-space: nowrap;\n}\n#T_de452  td {\n  padding: 5px;\n  white-space: nowrap;\n}\n#T_de452 table {\n  font-size: 12px;\n}\n</style>\n<table id=\"T_de452\" style='display:block; max-height: 300px; max-width: 100%; overflow-x: auto; overflow-y: auto;'>\n  <thead>\n    <tr>\n      <th class=\"blank level0\" >&nbsp;</th>\n      <th id=\"T_de452_level0_col0\" class=\"col_heading level0 col0\" >name</th>\n      <th id=\"T_de452_level0_col1\" class=\"col_heading level0 col1\" >n_clusters</th>\n      <th id=\"T_de452_level0_col2\" class=\"col_heading level0 col2\" >BIC</th>\n      <th id=\"T_de452_level0_col3\" class=\"col_heading level0 col3\" >CH</th>\n      <th id=\"T_de452_level0_col4\" class=\"col_heading level0 col4\" >SC</th>\n    </tr>\n  </thead>\n  <tbody>\n    <tr>\n      <th id=\"T_de452_level0_row0\" class=\"row_heading level0 row0\" >1</th>\n      <td id=\"T_de452_row0_col0\" class=\"data row0 col0\" >Clustering 1</td>\n      <td id=\"T_de452_row0_col1\" class=\"data row0 col1\" >5</td>\n      <td id=\"T_de452_row0_col2\" class=\"data row0 col2\" >-230.064000</td>\n      <td id=\"T_de452_row0_col3\" class=\"data row0 col3\" >119.259000</td>\n      <td id=\"T_de452_row0_col4\" class=\"data row0 col4\" >0.195000</td>\n    </tr>\n    <tr>\n      <th id=\"T_de452_level0_row1\" class=\"row_heading level0 row1\" >2</th>\n      <td id=\"T_de452_row1_col0\" class=\"data row1 col0\" >Clustering 2</td>\n      <td id=\"T_de452_row1_col1\" class=\"data row1 col1\" >10</td>\n      <td id=\"T_de452_row1_col2\" class=\"data row1 col2\" >496.750000</td>\n      <td id=\"T_de452_row1_col3\" class=\"data row1 col3\" >85.710000</td>\n      <td id=\"T_de452_row1_col4\" class=\"data row1 col4\" >0.178000</td>\n    </tr>\n    <tr>\n      <th id=\"T_de452_level0_row2\" class=\"row_heading level0 row2\" >3</th>\n      <td id=\"T_de452_row2_col0\" class=\"data row2 col0\" >Clustering 3</td>\n      <td id=\"T_de452_row2_col1\" class=\"data row2 col1\" >25</td>\n      <td id=\"T_de452_row2_col2\" class=\"data row2 col2\" >891.144000</td>\n      <td id=\"T_de452_row2_col3\" class=\"data row2 col3\" >52.372000</td>\n      <td id=\"T_de452_row2_col4\" class=\"data row2 col4\" >0.168000</td>\n    </tr>\n    <tr>\n      <th id=\"T_de452_level0_row3\" class=\"row_heading level0 row3\" >4</th>\n      <td id=\"T_de452_row3_col0\" class=\"data row3 col0\" >Clustering 4</td>\n      <td id=\"T_de452_row3_col1\" class=\"data row3 col1\" >50</td>\n      <td id=\"T_de452_row3_col2\" class=\"data row3 col2\" >333.227000</td>\n      <td id=\"T_de452_row3_col3\" class=\"data row3 col3\" >34.652000</td>\n      <td id=\"T_de452_row3_col4\" class=\"data row3 col4\" >0.157000</td>\n    </tr>\n    <tr>\n      <th id=\"T_de452_level0_row4\" class=\"row_heading level0 row4\" >5</th>\n      <td id=\"T_de452_row4_col0\" class=\"data row4 col0\" >Clustering 5</td>\n      <td id=\"T_de452_row4_col1\" class=\"data row4 col1\" >100</td>\n      <td id=\"T_de452_row4_col2\" class=\"data row4 col2\" >-1401.558000</td>\n      <td id=\"T_de452_row4_col3\" class=\"data row4 col3\" >24.118000</td>\n      <td id=\"T_de452_row4_col4\" class=\"data row4 col4\" >0.155000</td>\n    </tr>\n  </tbody>\n</table>\n"
     },
     "metadata": {},
     "output_type": "display_data"
    }
   ],
   "source": [
    "names = [f\"Clustering {i}\" for i in range(1, 6)]\n",
    "df_eval = aac.eval(X, list_labels=list_labels, names_datasets=names)\n",
    "aa.display_df(df_eval)"
   ],
   "metadata": {
    "collapsed": false,
    "ExecuteTime": {
     "end_time": "2023-12-25T22:35:38.127729751Z",
     "start_time": "2023-12-25T22:35:37.956722327Z"
    }
   },
   "id": "18e16114b608ac81"
  }
 ],
 "metadata": {
  "kernelspec": {
   "display_name": "Python 3",
   "language": "python",
   "name": "python3"
  },
  "language_info": {
   "codemirror_mode": {
    "name": "ipython",
    "version": 2
   },
   "file_extension": ".py",
   "mimetype": "text/x-python",
   "name": "python",
   "nbconvert_exporter": "python",
   "pygments_lexer": "ipython2",
   "version": "2.7.6"
  }
 },
 "nbformat": 4,
 "nbformat_minor": 5
}
