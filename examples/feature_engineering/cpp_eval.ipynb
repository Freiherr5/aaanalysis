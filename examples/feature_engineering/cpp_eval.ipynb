{
 "cells": [
  {
   "cell_type": "markdown",
   "source": [
    "To demonstrate the ``CPP().eval()`` method, we load the ``DOM_GSEC_PU`` example dataset and its respective feature set (see [Breimann24c]_):\""
   ],
   "metadata": {
    "collapsed": false
   },
   "id": "8ec434fb8662effa"
  },
  {
   "cell_type": "code",
   "execution_count": 14,
   "outputs": [],
   "source": [
    "import aaanalysis as aa\n",
    "aa.options[\"verbose\"] = False\n",
    "df_seq = aa.load_dataset(name=\"DOM_GSEC_PU\", n=50)\n",
    "labels = df_seq[\"label\"].to_list()\n",
    "sf = aa.SequenceFeature()\n",
    "df_parts = sf.get_df_parts(df_seq=df_seq)\n",
    "df_cat = aa.load_scales(name=\"scales_cat\")\n",
    "df_scales = aa.load_scales()\n",
    "df_feat_best = aa.load_features()"
   ],
   "metadata": {
    "collapsed": false,
    "ExecuteTime": {
     "end_time": "2024-01-03T00:53:58.716101628Z",
     "start_time": "2024-01-03T00:53:58.514590367Z"
    }
   },
   "id": "70efb29d5772038e"
  },
  {
   "cell_type": "markdown",
   "source": [
    "We can now create feature sets using the ``CPP().run()`` method:"
   ],
   "metadata": {
    "collapsed": false
   },
   "id": "a7353775ba2eada5"
  },
  {
   "cell_type": "code",
   "execution_count": 2,
   "outputs": [],
   "source": [
    "# Use all scales\n",
    "cpp = aa.CPP(df_parts=df_parts)\n",
    "df_feat_all_scales = cpp.run(labels=labels, label_ref=2)"
   ],
   "metadata": {
    "collapsed": false,
    "ExecuteTime": {
     "end_time": "2024-01-03T00:44:47.314809119Z",
     "start_time": "2024-01-03T00:37:13.762672361Z"
    }
   },
   "id": "fb3edc25322f7b63"
  },
  {
   "cell_type": "code",
   "execution_count": 3,
   "outputs": [],
   "source": [
    "# Use Conformation scales\n",
    "scales_conformation = df_cat[df_cat[\"category\"] == \"Conformation\"][\"scale_id\"].to_list()\n",
    "cpp = aa.CPP(df_parts=df_parts, df_scales=df_scales[scales_conformation])\n",
    "df_feat_conformation = cpp.run(labels=labels, label_ref=2)"
   ],
   "metadata": {
    "collapsed": false,
    "ExecuteTime": {
     "end_time": "2024-01-03T00:47:39.800913178Z",
     "start_time": "2024-01-03T00:44:47.335977727Z"
    }
   },
   "id": "d8aad6a3e33249a6"
  },
  {
   "cell_type": "code",
   "execution_count": 4,
   "outputs": [],
   "source": [
    "# Use Energy scales\n",
    "scales_energy = df_cat[df_cat[\"category\"] == \"Energy\"][\"scale_id\"].to_list()\n",
    "cpp = aa.CPP(df_parts=df_parts, df_scales=df_scales[scales_energy])\n",
    "df_feat_energy = cpp.run(labels=labels, label_ref=2)"
   ],
   "metadata": {
    "collapsed": false,
    "ExecuteTime": {
     "end_time": "2024-01-03T00:48:16.089104166Z",
     "start_time": "2024-01-03T00:47:39.846221891Z"
    }
   },
   "id": "cc529b8b7b0a9746"
  },
  {
   "cell_type": "code",
   "execution_count": 5,
   "outputs": [],
   "source": [
    "# Use Polarity scales\n",
    "scales_polarity = df_cat[df_cat[\"category\"] == \"Polarity\"][\"scale_id\"].to_list()\n",
    "cpp = aa.CPP(df_parts=df_parts, df_scales=df_scales[scales_polarity])\n",
    "df_feat_polarity = cpp.run(labels=labels, label_ref=2)"
   ],
   "metadata": {
    "collapsed": false,
    "ExecuteTime": {
     "end_time": "2024-01-03T00:49:44.060864461Z",
     "start_time": "2024-01-03T00:48:16.110122349Z"
    }
   },
   "id": "d3eb4226ec927785"
  },
  {
   "cell_type": "markdown",
   "source": [
    "These sets can be evaluated using the ``CPP().eval()`` method, which needs the list of feature DataFrames (``list_df_feat``) and ``labels`` as input:"
   ],
   "metadata": {
    "collapsed": false
   },
   "id": "4732eebb9f87dd93"
  },
  {
   "cell_type": "code",
   "execution_count": 15,
   "outputs": [
    {
     "data": {
      "text/plain": "<IPython.core.display.HTML object>",
      "text/html": "<style type=\"text/css\">\n#T_91954 thead th {\n  background-color: white;\n  color: black;\n}\n#T_91954 tbody tr:nth-child(odd) {\n  background-color: #f2f2f2;\n}\n#T_91954 tbody tr:nth-child(even) {\n  background-color: white;\n}\n#T_91954 th {\n  padding: 5px;\n  white-space: nowrap;\n}\n#T_91954  td {\n  padding: 5px;\n  white-space: nowrap;\n}\n#T_91954 table {\n  font-size: 12px;\n}\n</style>\n<table id=\"T_91954\" style='display:block; max-height: 300px; max-width: 100%; overflow-x: auto; overflow-y: auto;'>\n  <thead>\n    <tr>\n      <th class=\"blank level0\" >&nbsp;</th>\n      <th id=\"T_91954_level0_col0\" class=\"col_heading level0 col0\" >name</th>\n      <th id=\"T_91954_level0_col1\" class=\"col_heading level0 col1\" >n_features</th>\n      <th id=\"T_91954_level0_col2\" class=\"col_heading level0 col2\" >avg_ABS_AUC</th>\n      <th id=\"T_91954_level0_col3\" class=\"col_heading level0 col3\" >max_ABS_AUC</th>\n      <th id=\"T_91954_level0_col4\" class=\"col_heading level0 col4\" >avg_MEAN_DIF</th>\n      <th id=\"T_91954_level0_col5\" class=\"col_heading level0 col5\" >avg_STD_TEST</th>\n      <th id=\"T_91954_level0_col6\" class=\"col_heading level0 col6\" >n_clusters</th>\n      <th id=\"T_91954_level0_col7\" class=\"col_heading level0 col7\" >avg_n_feat_per_clust</th>\n      <th id=\"T_91954_level0_col8\" class=\"col_heading level0 col8\" >std_n_feat_per_clust</th>\n    </tr>\n  </thead>\n  <tbody>\n    <tr>\n      <th id=\"T_91954_level0_row0\" class=\"row_heading level0 row0\" >1</th>\n      <td id=\"T_91954_row0_col0\" class=\"data row0 col0\" >Set 1</td>\n      <td id=\"T_91954_row0_col1\" class=\"data row0 col1\" >(150, [18, 0, 56, 27, 0, 16, 17, 16])</td>\n      <td id=\"T_91954_row0_col2\" class=\"data row0 col2\" >0.164000</td>\n      <td id=\"T_91954_row0_col3\" class=\"data row0 col3\" >0.244000</td>\n      <td id=\"T_91954_row0_col4\" class=\"data row0 col4\" >(0.083, -0.08)</td>\n      <td id=\"T_91954_row0_col5\" class=\"data row0 col5\" >0.130000</td>\n      <td id=\"T_91954_row0_col6\" class=\"data row0 col6\" >42</td>\n      <td id=\"T_91954_row0_col7\" class=\"data row0 col7\" >3.570000</td>\n      <td id=\"T_91954_row0_col8\" class=\"data row0 col8\" >3.080000</td>\n    </tr>\n    <tr>\n      <th id=\"T_91954_level0_row1\" class=\"row_heading level0 row1\" >2</th>\n      <td id=\"T_91954_row1_col0\" class=\"data row1 col0\" >Set 2</td>\n      <td id=\"T_91954_row1_col1\" class=\"data row1 col1\" >(100, [11, 9, 28, 14, 12, 14, 7, 5])</td>\n      <td id=\"T_91954_row1_col2\" class=\"data row1 col2\" >0.251000</td>\n      <td id=\"T_91954_row1_col3\" class=\"data row1 col3\" >0.320000</td>\n      <td id=\"T_91954_row1_col4\" class=\"data row1 col4\" >(0.114, -0.105)</td>\n      <td id=\"T_91954_row1_col5\" class=\"data row1 col5\" >0.115000</td>\n      <td id=\"T_91954_row1_col6\" class=\"data row1 col6\" >22</td>\n      <td id=\"T_91954_row1_col7\" class=\"data row1 col7\" >4.550000</td>\n      <td id=\"T_91954_row1_col8\" class=\"data row1 col8\" >2.310000</td>\n    </tr>\n    <tr>\n      <th id=\"T_91954_level0_row2\" class=\"row_heading level0 row2\" >3</th>\n      <td id=\"T_91954_row2_col0\" class=\"data row2 col0\" >Set 3</td>\n      <td id=\"T_91954_row2_col1\" class=\"data row2 col1\" >(100, [0, 0, 100, 0, 0, 0, 0, 0])</td>\n      <td id=\"T_91954_row2_col2\" class=\"data row2 col2\" >0.209000</td>\n      <td id=\"T_91954_row2_col3\" class=\"data row2 col3\" >0.293000</td>\n      <td id=\"T_91954_row2_col4\" class=\"data row2 col4\" >(0.104, -0.095)</td>\n      <td id=\"T_91954_row2_col5\" class=\"data row2 col5\" >0.123000</td>\n      <td id=\"T_91954_row2_col6\" class=\"data row2 col6\" >19</td>\n      <td id=\"T_91954_row2_col7\" class=\"data row2 col7\" >5.260000</td>\n      <td id=\"T_91954_row2_col8\" class=\"data row2 col8\" >4.190000</td>\n    </tr>\n    <tr>\n      <th id=\"T_91954_level0_row3\" class=\"row_heading level0 row3\" >4</th>\n      <td id=\"T_91954_row3_col0\" class=\"data row3 col0\" >Set 4</td>\n      <td id=\"T_91954_row3_col1\" class=\"data row3 col1\" >(53, [0, 0, 0, 53, 0, 0, 0, 0])</td>\n      <td id=\"T_91954_row3_col2\" class=\"data row3 col2\" >0.188000</td>\n      <td id=\"T_91954_row3_col3\" class=\"data row3 col3\" >0.320000</td>\n      <td id=\"T_91954_row3_col4\" class=\"data row3 col4\" >(0.096, -0.089)</td>\n      <td id=\"T_91954_row3_col5\" class=\"data row3 col5\" >0.132000</td>\n      <td id=\"T_91954_row3_col6\" class=\"data row3 col6\" >21</td>\n      <td id=\"T_91954_row3_col7\" class=\"data row3 col7\" >2.520000</td>\n      <td id=\"T_91954_row3_col8\" class=\"data row3 col8\" >1.560000</td>\n    </tr>\n    <tr>\n      <th id=\"T_91954_level0_row4\" class=\"row_heading level0 row4\" >5</th>\n      <td id=\"T_91954_row4_col0\" class=\"data row4 col0\" >Set 5</td>\n      <td id=\"T_91954_row4_col1\" class=\"data row4 col1\" >(60, [0, 0, 0, 0, 0, 60, 0, 0])</td>\n      <td id=\"T_91954_row4_col2\" class=\"data row4 col2\" >0.182000</td>\n      <td id=\"T_91954_row4_col3\" class=\"data row4 col3\" >0.305000</td>\n      <td id=\"T_91954_row4_col4\" class=\"data row4 col4\" >(0.098, -0.094)</td>\n      <td id=\"T_91954_row4_col5\" class=\"data row4 col5\" >0.132000</td>\n      <td id=\"T_91954_row4_col6\" class=\"data row4 col6\" >10</td>\n      <td id=\"T_91954_row4_col7\" class=\"data row4 col7\" >6.000000</td>\n      <td id=\"T_91954_row4_col8\" class=\"data row4 col8\" >4.120000</td>\n    </tr>\n  </tbody>\n</table>\n"
     },
     "metadata": {},
     "output_type": "display_data"
    }
   ],
   "source": [
    "# Create new CPP object with all scales\n",
    "list_df_feat = [df_feat_best, df_feat_all_scales, df_feat_conformation, df_feat_energy, df_feat_polarity]\n",
    "cpp = aa.CPP(df_parts=df_parts, df_scales=df_scales)\n",
    "df_eval = cpp.eval(list_df_feat=list_df_feat, labels=labels, label_ref=2, min_th=-0.3)\n",
    "aa.display_df(df_eval)"
   ],
   "metadata": {
    "collapsed": false,
    "ExecuteTime": {
     "end_time": "2024-01-03T00:54:04.147345986Z",
     "start_time": "2024-01-03T00:54:02.080767183Z"
    }
   },
   "id": "410c1ca950639034"
  },
  {
   "cell_type": "markdown",
   "source": [
    "The feature sets can be named using the ``names_feature_sets`` parameter:"
   ],
   "metadata": {
    "collapsed": false
   },
   "id": "1deac16f27a10933"
  },
  {
   "cell_type": "code",
   "execution_count": 16,
   "outputs": [
    {
     "data": {
      "text/plain": "<IPython.core.display.HTML object>",
      "text/html": "<style type=\"text/css\">\n#T_04124 thead th {\n  background-color: white;\n  color: black;\n}\n#T_04124 tbody tr:nth-child(odd) {\n  background-color: #f2f2f2;\n}\n#T_04124 tbody tr:nth-child(even) {\n  background-color: white;\n}\n#T_04124 th {\n  padding: 5px;\n  white-space: nowrap;\n}\n#T_04124  td {\n  padding: 5px;\n  white-space: nowrap;\n}\n#T_04124 table {\n  font-size: 12px;\n}\n</style>\n<table id=\"T_04124\" style='display:block; max-height: 300px; max-width: 100%; overflow-x: auto; overflow-y: auto;'>\n  <thead>\n    <tr>\n      <th class=\"blank level0\" >&nbsp;</th>\n      <th id=\"T_04124_level0_col0\" class=\"col_heading level0 col0\" >name</th>\n      <th id=\"T_04124_level0_col1\" class=\"col_heading level0 col1\" >n_features</th>\n      <th id=\"T_04124_level0_col2\" class=\"col_heading level0 col2\" >avg_ABS_AUC</th>\n      <th id=\"T_04124_level0_col3\" class=\"col_heading level0 col3\" >max_ABS_AUC</th>\n      <th id=\"T_04124_level0_col4\" class=\"col_heading level0 col4\" >avg_MEAN_DIF</th>\n      <th id=\"T_04124_level0_col5\" class=\"col_heading level0 col5\" >avg_STD_TEST</th>\n      <th id=\"T_04124_level0_col6\" class=\"col_heading level0 col6\" >n_clusters</th>\n      <th id=\"T_04124_level0_col7\" class=\"col_heading level0 col7\" >avg_n_feat_per_clust</th>\n      <th id=\"T_04124_level0_col8\" class=\"col_heading level0 col8\" >std_n_feat_per_clust</th>\n    </tr>\n  </thead>\n  <tbody>\n    <tr>\n      <th id=\"T_04124_level0_row0\" class=\"row_heading level0 row0\" >1</th>\n      <td id=\"T_04124_row0_col0\" class=\"data row0 col0\" >Best features</td>\n      <td id=\"T_04124_row0_col1\" class=\"data row0 col1\" >(150, [18, 0, 56, 27, 0, 16, 17, 16])</td>\n      <td id=\"T_04124_row0_col2\" class=\"data row0 col2\" >0.164000</td>\n      <td id=\"T_04124_row0_col3\" class=\"data row0 col3\" >0.244000</td>\n      <td id=\"T_04124_row0_col4\" class=\"data row0 col4\" >(0.083, -0.08)</td>\n      <td id=\"T_04124_row0_col5\" class=\"data row0 col5\" >0.130000</td>\n      <td id=\"T_04124_row0_col6\" class=\"data row0 col6\" >42</td>\n      <td id=\"T_04124_row0_col7\" class=\"data row0 col7\" >3.570000</td>\n      <td id=\"T_04124_row0_col8\" class=\"data row0 col8\" >3.080000</td>\n    </tr>\n    <tr>\n      <th id=\"T_04124_level0_row1\" class=\"row_heading level0 row1\" >2</th>\n      <td id=\"T_04124_row1_col0\" class=\"data row1 col0\" >All scales</td>\n      <td id=\"T_04124_row1_col1\" class=\"data row1 col1\" >(100, [11, 9, 28, 14, 12, 14, 7, 5])</td>\n      <td id=\"T_04124_row1_col2\" class=\"data row1 col2\" >0.251000</td>\n      <td id=\"T_04124_row1_col3\" class=\"data row1 col3\" >0.320000</td>\n      <td id=\"T_04124_row1_col4\" class=\"data row1 col4\" >(0.114, -0.105)</td>\n      <td id=\"T_04124_row1_col5\" class=\"data row1 col5\" >0.115000</td>\n      <td id=\"T_04124_row1_col6\" class=\"data row1 col6\" >22</td>\n      <td id=\"T_04124_row1_col7\" class=\"data row1 col7\" >4.550000</td>\n      <td id=\"T_04124_row1_col8\" class=\"data row1 col8\" >2.310000</td>\n    </tr>\n    <tr>\n      <th id=\"T_04124_level0_row2\" class=\"row_heading level0 row2\" >3</th>\n      <td id=\"T_04124_row2_col0\" class=\"data row2 col0\" >Conformation</td>\n      <td id=\"T_04124_row2_col1\" class=\"data row2 col1\" >(100, [0, 0, 100, 0, 0, 0, 0, 0])</td>\n      <td id=\"T_04124_row2_col2\" class=\"data row2 col2\" >0.209000</td>\n      <td id=\"T_04124_row2_col3\" class=\"data row2 col3\" >0.293000</td>\n      <td id=\"T_04124_row2_col4\" class=\"data row2 col4\" >(0.104, -0.095)</td>\n      <td id=\"T_04124_row2_col5\" class=\"data row2 col5\" >0.123000</td>\n      <td id=\"T_04124_row2_col6\" class=\"data row2 col6\" >19</td>\n      <td id=\"T_04124_row2_col7\" class=\"data row2 col7\" >5.260000</td>\n      <td id=\"T_04124_row2_col8\" class=\"data row2 col8\" >4.190000</td>\n    </tr>\n    <tr>\n      <th id=\"T_04124_level0_row3\" class=\"row_heading level0 row3\" >4</th>\n      <td id=\"T_04124_row3_col0\" class=\"data row3 col0\" >Energy</td>\n      <td id=\"T_04124_row3_col1\" class=\"data row3 col1\" >(53, [0, 0, 0, 53, 0, 0, 0, 0])</td>\n      <td id=\"T_04124_row3_col2\" class=\"data row3 col2\" >0.188000</td>\n      <td id=\"T_04124_row3_col3\" class=\"data row3 col3\" >0.320000</td>\n      <td id=\"T_04124_row3_col4\" class=\"data row3 col4\" >(0.096, -0.089)</td>\n      <td id=\"T_04124_row3_col5\" class=\"data row3 col5\" >0.132000</td>\n      <td id=\"T_04124_row3_col6\" class=\"data row3 col6\" >21</td>\n      <td id=\"T_04124_row3_col7\" class=\"data row3 col7\" >2.520000</td>\n      <td id=\"T_04124_row3_col8\" class=\"data row3 col8\" >1.560000</td>\n    </tr>\n    <tr>\n      <th id=\"T_04124_level0_row4\" class=\"row_heading level0 row4\" >5</th>\n      <td id=\"T_04124_row4_col0\" class=\"data row4 col0\" >Polarity</td>\n      <td id=\"T_04124_row4_col1\" class=\"data row4 col1\" >(60, [0, 0, 0, 0, 0, 60, 0, 0])</td>\n      <td id=\"T_04124_row4_col2\" class=\"data row4 col2\" >0.182000</td>\n      <td id=\"T_04124_row4_col3\" class=\"data row4 col3\" >0.305000</td>\n      <td id=\"T_04124_row4_col4\" class=\"data row4 col4\" >(0.098, -0.094)</td>\n      <td id=\"T_04124_row4_col5\" class=\"data row4 col5\" >0.132000</td>\n      <td id=\"T_04124_row4_col6\" class=\"data row4 col6\" >10</td>\n      <td id=\"T_04124_row4_col7\" class=\"data row4 col7\" >6.000000</td>\n      <td id=\"T_04124_row4_col8\" class=\"data row4 col8\" >4.120000</td>\n    </tr>\n  </tbody>\n</table>\n"
     },
     "metadata": {},
     "output_type": "display_data"
    }
   ],
   "source": [
    "names_feature_sets = [\"Best features\", \"All scales\", \"Conformation\", \"Energy\", \"Polarity\"]\n",
    "df_eval = cpp.eval(list_df_feat=list_df_feat, labels=labels, label_ref=2, names_feature_sets=names_feature_sets, min_th=-0.3)\n",
    "aa.display_df(df_eval)"
   ],
   "metadata": {
    "collapsed": false,
    "ExecuteTime": {
     "end_time": "2024-01-03T00:54:09.431337989Z",
     "start_time": "2024-01-03T00:54:07.530128941Z"
    }
   },
   "id": "6fa060c90bb616a4"
  },
  {
   "cell_type": "markdown",
   "source": [
    "To compare feature sets with different sets of parts, provide a list of part DataFrames (``list_df_parts``) matching to the list of feature DataFrames:"
   ],
   "metadata": {
    "collapsed": false
   },
   "id": "2cd6c41b225479a1"
  },
  {
   "cell_type": "code",
   "execution_count": 19,
   "outputs": [],
   "source": [
    "# Load one of the provided top scale datasets\n",
    "split_kws = sf.get_split_kws(split_types=[\"Segment\"], n_split_max=5)\n",
    "df_scales = aa.load_scales(top60_n=38)\n",
    "list_parts = [\"tmd\", \"tmd_jmd\", \"jmd_n_tmd_n\" ,\"tmd_c_jmd_c\"]\n",
    "list_df_feat = []\n",
    "list_df_parts = []\n",
    "for part in list_parts:\n",
    "    df_parts = sf.get_df_parts(df_seq=df_seq, list_parts=part)\n",
    "    cpp = aa.CPP(df_parts=df_parts, split_kws=split_kws, df_scales=df_scales)\n",
    "    df_feat = cpp.run(labels=labels, label_ref=2, max_overlap=1, max_cor=1)\n",
    "    list_df_feat.append(df_feat)\n",
    "    list_df_parts.append(df_parts)"
   ],
   "metadata": {
    "collapsed": false,
    "ExecuteTime": {
     "end_time": "2024-01-03T00:57:18.808773912Z",
     "start_time": "2024-01-03T00:56:33.077131347Z"
    }
   },
   "id": "e32c9dadcebe5e60"
  },
  {
   "cell_type": "code",
   "execution_count": 22,
   "outputs": [
    {
     "data": {
      "text/plain": "<IPython.core.display.HTML object>",
      "text/html": "<style type=\"text/css\">\n#T_d350f thead th {\n  background-color: white;\n  color: black;\n}\n#T_d350f tbody tr:nth-child(odd) {\n  background-color: #f2f2f2;\n}\n#T_d350f tbody tr:nth-child(even) {\n  background-color: white;\n}\n#T_d350f th {\n  padding: 5px;\n  white-space: nowrap;\n}\n#T_d350f  td {\n  padding: 5px;\n  white-space: nowrap;\n}\n#T_d350f table {\n  font-size: 12px;\n}\n</style>\n<table id=\"T_d350f\" style='display:block; max-height: 300px; max-width: 100%; overflow-x: auto; overflow-y: auto;'>\n  <thead>\n    <tr>\n      <th class=\"blank level0\" >&nbsp;</th>\n      <th id=\"T_d350f_level0_col0\" class=\"col_heading level0 col0\" >name</th>\n      <th id=\"T_d350f_level0_col1\" class=\"col_heading level0 col1\" >n_features</th>\n      <th id=\"T_d350f_level0_col2\" class=\"col_heading level0 col2\" >avg_ABS_AUC</th>\n      <th id=\"T_d350f_level0_col3\" class=\"col_heading level0 col3\" >max_ABS_AUC</th>\n      <th id=\"T_d350f_level0_col4\" class=\"col_heading level0 col4\" >avg_MEAN_DIF</th>\n      <th id=\"T_d350f_level0_col5\" class=\"col_heading level0 col5\" >avg_STD_TEST</th>\n      <th id=\"T_d350f_level0_col6\" class=\"col_heading level0 col6\" >n_clusters</th>\n      <th id=\"T_d350f_level0_col7\" class=\"col_heading level0 col7\" >avg_n_feat_per_clust</th>\n      <th id=\"T_d350f_level0_col8\" class=\"col_heading level0 col8\" >std_n_feat_per_clust</th>\n    </tr>\n  </thead>\n  <tbody>\n    <tr>\n      <th id=\"T_d350f_level0_row0\" class=\"row_heading level0 row0\" >1</th>\n      <td id=\"T_d350f_row0_col0\" class=\"data row0 col0\" >tmd</td>\n      <td id=\"T_d350f_row0_col1\" class=\"data row0 col1\" >(100, [9, 16, 28, 2, 10, 12, 10, 13])</td>\n      <td id=\"T_d350f_row0_col2\" class=\"data row0 col2\" >0.139000</td>\n      <td id=\"T_d350f_row0_col3\" class=\"data row0 col3\" >0.210000</td>\n      <td id=\"T_d350f_row0_col4\" class=\"data row0 col4\" >(0.055, -0.057)</td>\n      <td id=\"T_d350f_row0_col5\" class=\"data row0 col5\" >0.108000</td>\n      <td id=\"T_d350f_row0_col6\" class=\"data row0 col6\" >22</td>\n      <td id=\"T_d350f_row0_col7\" class=\"data row0 col7\" >4.550000</td>\n      <td id=\"T_d350f_row0_col8\" class=\"data row0 col8\" >2.250000</td>\n    </tr>\n    <tr>\n      <th id=\"T_d350f_level0_row1\" class=\"row_heading level0 row1\" >2</th>\n      <td id=\"T_d350f_row1_col0\" class=\"data row1 col0\" >tmd_jmd</td>\n      <td id=\"T_d350f_row1_col1\" class=\"data row1 col1\" >(100, [11, 13, 18, 14, 5, 23, 5, 11])</td>\n      <td id=\"T_d350f_row1_col2\" class=\"data row1 col2\" >0.165000</td>\n      <td id=\"T_d350f_row1_col3\" class=\"data row1 col3\" >0.275000</td>\n      <td id=\"T_d350f_row1_col4\" class=\"data row1 col4\" >(0.056, -0.053)</td>\n      <td id=\"T_d350f_row1_col5\" class=\"data row1 col5\" >0.087000</td>\n      <td id=\"T_d350f_row1_col6\" class=\"data row1 col6\" >32</td>\n      <td id=\"T_d350f_row1_col7\" class=\"data row1 col7\" >3.120000</td>\n      <td id=\"T_d350f_row1_col8\" class=\"data row1 col8\" >1.670000</td>\n    </tr>\n    <tr>\n      <th id=\"T_d350f_level0_row2\" class=\"row_heading level0 row2\" >3</th>\n      <td id=\"T_d350f_row2_col0\" class=\"data row2 col0\" >jmd_n_tmd_n</td>\n      <td id=\"T_d350f_row2_col1\" class=\"data row2 col1\" >(100, [14, 10, 25, 5, 10, 17, 9, 10])</td>\n      <td id=\"T_d350f_row2_col2\" class=\"data row2 col2\" >0.148000</td>\n      <td id=\"T_d350f_row2_col3\" class=\"data row2 col3\" >0.246000</td>\n      <td id=\"T_d350f_row2_col4\" class=\"data row2 col4\" >(0.054, -0.061)</td>\n      <td id=\"T_d350f_row2_col5\" class=\"data row2 col5\" >0.106000</td>\n      <td id=\"T_d350f_row2_col6\" class=\"data row2 col6\" >42</td>\n      <td id=\"T_d350f_row2_col7\" class=\"data row2 col7\" >2.380000</td>\n      <td id=\"T_d350f_row2_col8\" class=\"data row2 col8\" >1.410000</td>\n    </tr>\n    <tr>\n      <th id=\"T_d350f_level0_row3\" class=\"row_heading level0 row3\" >4</th>\n      <td id=\"T_d350f_row3_col0\" class=\"data row3 col0\" >tmd_c_jmd_c</td>\n      <td id=\"T_d350f_row3_col1\" class=\"data row3 col1\" >(100, [13, 17, 29, 18, 1, 17, 0, 5])</td>\n      <td id=\"T_d350f_row3_col2\" class=\"data row3 col2\" >0.165000</td>\n      <td id=\"T_d350f_row3_col3\" class=\"data row3 col3\" >0.320000</td>\n      <td id=\"T_d350f_row3_col4\" class=\"data row3 col4\" >(0.074, -0.07)</td>\n      <td id=\"T_d350f_row3_col5\" class=\"data row3 col5\" >0.121000</td>\n      <td id=\"T_d350f_row3_col6\" class=\"data row3 col6\" >55</td>\n      <td id=\"T_d350f_row3_col7\" class=\"data row3 col7\" >1.820000</td>\n      <td id=\"T_d350f_row3_col8\" class=\"data row3 col8\" >0.970000</td>\n    </tr>\n  </tbody>\n</table>\n"
     },
     "metadata": {},
     "output_type": "display_data"
    }
   ],
   "source": [
    "# Create evaluation for unfiltered features\n",
    "df_eval = cpp.eval(list_df_feat=list_df_feat, labels=labels, label_ref=2, names_feature_sets=list_parts, list_df_parts=list_df_parts)\n",
    "aa.display_df(df_eval)"
   ],
   "metadata": {
    "collapsed": false,
    "ExecuteTime": {
     "end_time": "2024-01-03T00:58:15.647748743Z",
     "start_time": "2024-01-03T00:58:06.837394520Z"
    }
   },
   "id": "d0f7b69a5e87ebc6"
  }
 ],
 "metadata": {
  "kernelspec": {
   "display_name": "Python 3",
   "language": "python",
   "name": "python3"
  },
  "language_info": {
   "codemirror_mode": {
    "name": "ipython",
    "version": 2
   },
   "file_extension": ".py",
   "mimetype": "text/x-python",
   "name": "python",
   "nbconvert_exporter": "python",
   "pygments_lexer": "ipython2",
   "version": "2.7.6"
  }
 },
 "nbformat": 4,
 "nbformat_minor": 5
}
