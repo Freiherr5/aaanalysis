{
 "cells": [
  {
   "cell_type": "markdown",
   "source": [
    "The `dPULearn.compare_sets_negatives` method facilitates the comparison of identified negative samples across datasets. Providing identified negatives represented by '0' in the ``list_labels`` input, it returns a DataFrame (typically named ``df_neg_comp``) where each row is a sample and each column a dataset, indicating whether the sample is identified as a negative (True) or not (False) in the respective dataset:"
   ],
   "metadata": {
    "collapsed": false
   },
   "id": "71110970eb31d943"
  },
  {
   "cell_type": "code",
   "execution_count": 21,
   "outputs": [
    {
     "name": "stdout",
     "output_type": "stream",
     "text": [
      "   Set 1  Set 2  Set 3\n",
      "2   True   True  False\n",
      "3   True  False   True\n",
      "4  False   True   True\n"
     ]
    }
   ],
   "source": [
    "import aaanalysis as aa\n",
    "list_labels = [[1, 1, 0, 0, 2], [1, 1, 0, 2, 0], [1, 1, 2, 0, 0]]\n",
    "dpul = aa.dPULearn()\n",
    "df_neg_comp = dpul.compare_sets_negatives(list_labels=list_labels)\n",
    "print(df_neg_comp)"
   ],
   "metadata": {
    "collapsed": false,
    "ExecuteTime": {
     "end_time": "2023-12-23T15:33:53.703201262Z",
     "start_time": "2023-12-23T15:33:53.674342416Z"
    }
   },
   "id": "4c334553c492f6fd"
  },
  {
   "cell_type": "markdown",
   "source": [
    "By default, only rows containing at least one identified negative are returned. To return all rows, set ``remove_non_neg=False``: "
   ],
   "metadata": {
    "collapsed": false
   },
   "id": "367ee3ef8982203e"
  },
  {
   "cell_type": "code",
   "execution_count": 22,
   "outputs": [
    {
     "name": "stdout",
     "output_type": "stream",
     "text": [
      "   Set 1  Set 2  Set 3\n",
      "0  False  False  False\n",
      "1  False  False  False\n",
      "2   True   True  False\n",
      "3   True  False   True\n",
      "4  False   True   True\n"
     ]
    }
   ],
   "source": [
    "df_neg_comp = dpul.compare_sets_negatives(list_labels=list_labels, remove_non_neg=False)\n",
    "print(df_neg_comp)"
   ],
   "metadata": {
    "collapsed": false,
    "ExecuteTime": {
     "end_time": "2023-12-23T15:33:54.621813833Z",
     "start_time": "2023-12-23T15:33:54.581351327Z"
    }
   },
   "id": "aff2e824d640341f"
  },
  {
   "cell_type": "markdown",
   "source": [
    "Names of the datasets can be provided by the ``names`` argument: "
   ],
   "metadata": {
    "collapsed": false
   },
   "id": "971a2e0814ed9257"
  },
  {
   "cell_type": "code",
   "execution_count": 23,
   "outputs": [
    {
     "name": "stdout",
     "output_type": "stream",
     "text": [
      "   Dataset 1  Dataset 2  Dataset 3\n",
      "2       True       True      False\n",
      "3       True      False       True\n",
      "4      False       True       True\n"
     ]
    }
   ],
   "source": [
    "names = [\"Dataset 1\", \"Dataset 2\", \"Dataset 3\"]\n",
    "df_neg_comp = dpul.compare_sets_negatives(list_labels=list_labels, names=names)\n",
    "print(df_neg_comp)"
   ],
   "metadata": {
    "collapsed": false,
    "ExecuteTime": {
     "end_time": "2023-12-23T15:33:55.503568149Z",
     "start_time": "2023-12-23T15:33:55.480140261Z"
    }
   },
   "id": "298bc95c58944153"
  },
  {
   "cell_type": "markdown",
   "source": [
    "A DataFrame with sequence information (``df_seq``) and an requiered 'entry' column can be provdied, which is then merged with the ``df_neg_comp`` output DataFrame:"
   ],
   "metadata": {
    "collapsed": false
   },
   "id": "f40efce41f1789af"
  },
  {
   "cell_type": "code",
   "execution_count": 24,
   "outputs": [
    {
     "name": "stdout",
     "output_type": "stream",
     "text": [
      "    entry sequence  Set 1  Set 2  Set 3\n",
      "2  entry3       CC   True   True  False\n",
      "3  entry4       DD   True  False   True\n",
      "4  entry5       EE  False   True   True\n"
     ]
    }
   ],
   "source": [
    "import pandas as pd\n",
    "df_seq = pd.DataFrame([(\"entry1\", \"AA\"), (\"entry2\", \"BB\"), (\"entry3\", \"CC\"), (\"entry4\", \"DD\"), (\"entry5\", \"EE\")], columns=[\"entry\", \"sequence\"])\n",
    "df_neg_comp = dpul.compare_sets_negatives(list_labels=list_labels, df_seq=df_seq)\n",
    "print(df_neg_comp)"
   ],
   "metadata": {
    "collapsed": false,
    "ExecuteTime": {
     "end_time": "2023-12-23T15:33:56.606400863Z",
     "start_time": "2023-12-23T15:33:56.507855539Z"
    }
   },
   "id": "3b4939c659c2da26"
  },
  {
   "cell_type": "markdown",
   "source": [
    "Such overlaps are conveniently visualized using Venn diagrams, but they are limited to a maximum of three datasets. For comparing more than three datasets, an Upset Plot is a better choice. To facilitate this, set ``return_upset_data=True`` to generate a data structure directly compatible with the Upset Plot visualizations:   "
   ],
   "metadata": {
    "collapsed": false
   },
   "id": "cecef050afa840cc"
  },
  {
   "cell_type": "code",
   "execution_count": 25,
   "outputs": [
    {
     "name": "stdout",
     "output_type": "stream",
     "text": [
      "Set 1  Set 2  Set 3  Set 4\n",
      "False  True   True   True     2\n",
      "True   False  False  True     1\n",
      "dtype: int64\n"
     ]
    },
    {
     "data": {
      "text/plain": "<Figure size 266.667x444.444 with 4 Axes>",
      "image/png": "[encoded data removed]"
     },
     "metadata": {},
     "output_type": "display_data"
    }
   ],
   "source": [
    "from upsetplot import plot\n",
    "import matplotlib.pyplot as plt\n",
    "import warnings\n",
    "warnings.filterwarnings('ignore', category=FutureWarning)\n",
    "list_labels = [[1, 1, 0, 2, 2], [1, 1, 2, 0, 0], [1, 1, 2, 0, 0], [1, 1, 0, 0, 0]]\n",
    "upset_data = dpul.compare_sets_negatives(list_labels=list_labels, return_upset_data=True)\n",
    "print(upset_data)\n",
    "plot(upset_data, show_counts='%d')\n",
    "plt.suptitle(\"Overlap of identified negatives in different datasets\")\n",
    "plt.show()"
   ],
   "metadata": {
    "collapsed": false,
    "ExecuteTime": {
     "end_time": "2023-12-23T15:33:58.209083858Z",
     "start_time": "2023-12-23T15:33:57.808134818Z"
    }
   },
   "id": "1fe9eb2b159597a3"
  }
 ],
 "metadata": {
  "kernelspec": {
   "display_name": "Python 3",
   "language": "python",
   "name": "python3"
  },
  "language_info": {
   "codemirror_mode": {
    "name": "ipython",
    "version": 2
   },
   "file_extension": ".py",
   "mimetype": "text/x-python",
   "name": "python",
   "nbconvert_exporter": "python",
   "pygments_lexer": "ipython2",
   "version": "2.7.6"
  }
 },
 "nbformat": 4,
 "nbformat_minor": 5
}
