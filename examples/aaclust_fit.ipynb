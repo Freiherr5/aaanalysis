{
 "cells": [
  {
   "cell_type": "markdown",
   "source": [
    "We load a default scale dataset to showcase the ``AAclust.fit()`` method:"
   ],
   "metadata": {
    "collapsed": false
   },
   "id": "9de0b73486a5e355"
  },
  {
   "cell_type": "code",
   "execution_count": 15,
   "outputs": [
    {
     "data": {
      "text/plain": "<IPython.core.display.HTML object>",
      "text/html": "<style type=\"text/css\">\n#T_0b62e thead th {\n  background-color: white;\n  color: black;\n}\n#T_0b62e tbody tr:nth-child(odd) {\n  background-color: #f2f2f2;\n}\n#T_0b62e tbody tr:nth-child(even) {\n  background-color: white;\n}\n#T_0b62e th {\n  padding: 5px;\n  white-space: nowrap;\n}\n#T_0b62e  td {\n  padding: 5px;\n  white-space: nowrap;\n}\n#T_0b62e table {\n  font-size: 12px;\n}\n</style>\n<table id=\"T_0b62e\" style='display:block; max-height: 300px; max-width: 100%; overflow-x: auto; overflow-y: auto;'>\n  <thead>\n    <tr>\n      <th class=\"blank level0\" >&nbsp;</th>\n      <th id=\"T_0b62e_level0_col0\" class=\"col_heading level0 col0\" >WERD780102</th>\n      <th id=\"T_0b62e_level0_col1\" class=\"col_heading level0 col1\" >NAKH900112</th>\n      <th id=\"T_0b62e_level0_col2\" class=\"col_heading level0 col2\" >KARS160121</th>\n      <th id=\"T_0b62e_level0_col3\" class=\"col_heading level0 col3\" >GEOR030102</th>\n      <th id=\"T_0b62e_level0_col4\" class=\"col_heading level0 col4\" >ROBB790101</th>\n      <th id=\"T_0b62e_level0_col5\" class=\"col_heading level0 col5\" >GEIM800110</th>\n      <th id=\"T_0b62e_level0_col6\" class=\"col_heading level0 col6\" >QIAN880102</th>\n      <th id=\"T_0b62e_level0_col7\" class=\"col_heading level0 col7\" >NADH010102</th>\n      <th id=\"T_0b62e_level0_col8\" class=\"col_heading level0 col8\" >RADA880107</th>\n      <th id=\"T_0b62e_level0_col9\" class=\"col_heading level0 col9\" >TANS770109</th>\n      <th id=\"T_0b62e_level0_col10\" class=\"col_heading level0 col10\" >NAKH900106</th>\n      <th id=\"T_0b62e_level0_col11\" class=\"col_heading level0 col11\" >LIFS790101</th>\n      <th id=\"T_0b62e_level0_col12\" class=\"col_heading level0 col12\" >LINS030107</th>\n      <th id=\"T_0b62e_level0_col13\" class=\"col_heading level0 col13\" >ROBB760101</th>\n      <th id=\"T_0b62e_level0_col14\" class=\"col_heading level0 col14\" >GEIM800108</th>\n    </tr>\n    <tr>\n      <th class=\"index_name level0\" >AA</th>\n      <th class=\"blank col0\" >&nbsp;</th>\n      <th class=\"blank col1\" >&nbsp;</th>\n      <th class=\"blank col2\" >&nbsp;</th>\n      <th class=\"blank col3\" >&nbsp;</th>\n      <th class=\"blank col4\" >&nbsp;</th>\n      <th class=\"blank col5\" >&nbsp;</th>\n      <th class=\"blank col6\" >&nbsp;</th>\n      <th class=\"blank col7\" >&nbsp;</th>\n      <th class=\"blank col8\" >&nbsp;</th>\n      <th class=\"blank col9\" >&nbsp;</th>\n      <th class=\"blank col10\" >&nbsp;</th>\n      <th class=\"blank col11\" >&nbsp;</th>\n      <th class=\"blank col12\" >&nbsp;</th>\n      <th class=\"blank col13\" >&nbsp;</th>\n      <th class=\"blank col14\" >&nbsp;</th>\n    </tr>\n  </thead>\n  <tbody>\n    <tr>\n      <th id=\"T_0b62e_level0_row0\" class=\"row_heading level0 row0\" >A</th>\n      <td id=\"T_0b62e_row0_col0\" class=\"data row0 col0\" >0.522000</td>\n      <td id=\"T_0b62e_row0_col1\" class=\"data row0 col1\" >0.292000</td>\n      <td id=\"T_0b62e_row0_col2\" class=\"data row0 col2\" >0.248000</td>\n      <td id=\"T_0b62e_row0_col3\" class=\"data row0 col3\" >0.250000</td>\n      <td id=\"T_0b62e_row0_col4\" class=\"data row0 col4\" >0.038000</td>\n      <td id=\"T_0b62e_row0_col5\" class=\"data row0 col5\" >0.507000</td>\n      <td id=\"T_0b62e_row0_col6\" class=\"data row0 col6\" >1.000000</td>\n      <td id=\"T_0b62e_row0_col7\" class=\"data row0 col7\" >0.749000</td>\n      <td id=\"T_0b62e_row0_col8\" class=\"data row0 col8\" >0.820000</td>\n      <td id=\"T_0b62e_row0_col9\" class=\"data row0 col9\" >0.292000</td>\n      <td id=\"T_0b62e_row0_col10\" class=\"data row0 col10\" >0.237000</td>\n      <td id=\"T_0b62e_row0_col11\" class=\"data row0 col11\" >0.369000</td>\n      <td id=\"T_0b62e_row0_col12\" class=\"data row0 col12\" >0.200000</td>\n      <td id=\"T_0b62e_row0_col13\" class=\"data row0 col13\" >0.921000</td>\n      <td id=\"T_0b62e_row0_col14\" class=\"data row0 col14\" >0.306000</td>\n    </tr>\n    <tr>\n      <th id=\"T_0b62e_level0_row1\" class=\"row_heading level0 row1\" >C</th>\n      <td id=\"T_0b62e_row1_col0\" class=\"data row1 col0\" >0.368000</td>\n      <td id=\"T_0b62e_row1_col1\" class=\"data row1 col1\" >0.020000</td>\n      <td id=\"T_0b62e_row1_col2\" class=\"data row1 col2\" >0.776000</td>\n      <td id=\"T_0b62e_row1_col3\" class=\"data row1 col3\" >0.246000</td>\n      <td id=\"T_0b62e_row1_col4\" class=\"data row1 col4\" >0.635000</td>\n      <td id=\"T_0b62e_row1_col5\" class=\"data row1 col5\" >0.471000</td>\n      <td id=\"T_0b62e_row1_col6\" class=\"data row1 col6\" >0.349000</td>\n      <td id=\"T_0b62e_row1_col7\" class=\"data row1 col7\" >1.000000</td>\n      <td id=\"T_0b62e_row1_col8\" class=\"data row1 col8\" >0.919000</td>\n      <td id=\"T_0b62e_row1_col9\" class=\"data row1 col9\" >0.285000</td>\n      <td id=\"T_0b62e_row1_col10\" class=\"data row1 col10\" >0.303000</td>\n      <td id=\"T_0b62e_row1_col11\" class=\"data row1 col11\" >0.539000</td>\n      <td id=\"T_0b62e_row1_col12\" class=\"data row1 col12\" >0.000000</td>\n      <td id=\"T_0b62e_row1_col13\" class=\"data row1 col13\" >0.445000</td>\n      <td id=\"T_0b62e_row1_col14\" class=\"data row1 col14\" >0.324000</td>\n    </tr>\n    <tr>\n      <th id=\"T_0b62e_level0_row2\" class=\"row_heading level0 row2\" >D</th>\n      <td id=\"T_0b62e_row2_col0\" class=\"data row2 col0\" >0.302000</td>\n      <td id=\"T_0b62e_row2_col1\" class=\"data row2 col1\" >0.008000</td>\n      <td id=\"T_0b62e_row2_col2\" class=\"data row2 col2\" >0.683000</td>\n      <td id=\"T_0b62e_row2_col3\" class=\"data row2 col3\" >0.091000</td>\n      <td id=\"T_0b62e_row2_col4\" class=\"data row2 col4\" >0.000000</td>\n      <td id=\"T_0b62e_row2_col5\" class=\"data row2 col5\" >0.735000</td>\n      <td id=\"T_0b62e_row2_col6\" class=\"data row2 col6\" >0.825000</td>\n      <td id=\"T_0b62e_row2_col7\" class=\"data row2 col7\" >0.371000</td>\n      <td id=\"T_0b62e_row2_col8\" class=\"data row2 col8\" >0.573000</td>\n      <td id=\"T_0b62e_row2_col9\" class=\"data row2 col9\" >0.478000</td>\n      <td id=\"T_0b62e_row2_col10\" class=\"data row2 col10\" >0.000000</td>\n      <td id=\"T_0b62e_row2_col11\" class=\"data row2 col11\" >0.057000</td>\n      <td id=\"T_0b62e_row2_col12\" class=\"data row2 col12\" >0.800000</td>\n      <td id=\"T_0b62e_row2_col13\" class=\"data row2 col13\" >0.555000</td>\n      <td id=\"T_0b62e_row2_col14\" class=\"data row2 col14\" >0.759000</td>\n    </tr>\n    <tr>\n      <th id=\"T_0b62e_level0_row3\" class=\"row_heading level0 row3\" >E</th>\n      <td id=\"T_0b62e_row3_col0\" class=\"data row3 col0\" >0.187000</td>\n      <td id=\"T_0b62e_row3_col1\" class=\"data row3 col1\" >0.057000</td>\n      <td id=\"T_0b62e_row3_col2\" class=\"data row3 col2\" >0.710000</td>\n      <td id=\"T_0b62e_row3_col3\" class=\"data row3 col3\" >0.404000</td>\n      <td id=\"T_0b62e_row3_col4\" class=\"data row3 col4\" >0.096000</td>\n      <td id=\"T_0b62e_row3_col5\" class=\"data row3 col5\" >0.728000</td>\n      <td id=\"T_0b62e_row3_col6\" class=\"data row3 col6\" >0.921000</td>\n      <td id=\"T_0b62e_row3_col7\" class=\"data row3 col7\" >0.263000</td>\n      <td id=\"T_0b62e_row3_col8\" class=\"data row3 col8\" >0.614000</td>\n      <td id=\"T_0b62e_row3_col9\" class=\"data row3 col9\" >0.326000</td>\n      <td id=\"T_0b62e_row3_col10\" class=\"data row3 col10\" >0.090000</td>\n      <td id=\"T_0b62e_row3_col11\" class=\"data row3 col11\" >0.149000</td>\n      <td id=\"T_0b62e_row3_col12\" class=\"data row3 col12\" >0.911000</td>\n      <td id=\"T_0b62e_row3_col13\" class=\"data row3 col13\" >1.000000</td>\n      <td id=\"T_0b62e_row3_col14\" class=\"data row3 col14\" >0.361000</td>\n    </tr>\n    <tr>\n      <th id=\"T_0b62e_level0_row4\" class=\"row_heading level0 row4\" >F</th>\n      <td id=\"T_0b62e_row4_col0\" class=\"data row4 col0\" >0.297000</td>\n      <td id=\"T_0b62e_row4_col1\" class=\"data row4 col1\" >0.346000</td>\n      <td id=\"T_0b62e_row4_col2\" class=\"data row4 col2\" >0.842000</td>\n      <td id=\"T_0b62e_row4_col3\" class=\"data row4 col3\" >0.536000</td>\n      <td id=\"T_0b62e_row4_col4\" class=\"data row4 col4\" >0.769000</td>\n      <td id=\"T_0b62e_row4_col5\" class=\"data row4 col5\" >0.140000</td>\n      <td id=\"T_0b62e_row4_col6\" class=\"data row4 col6\" >0.778000</td>\n      <td id=\"T_0b62e_row4_col7\" class=\"data row4 col7\" >0.915000</td>\n      <td id=\"T_0b62e_row4_col8\" class=\"data row4 col8\" >0.919000</td>\n      <td id=\"T_0b62e_row4_col9\" class=\"data row4 col9\" >0.130000</td>\n      <td id=\"T_0b62e_row4_col10\" class=\"data row4 col10\" >0.724000</td>\n      <td id=\"T_0b62e_row4_col11\" class=\"data row4 col11\" >0.603000</td>\n      <td id=\"T_0b62e_row4_col12\" class=\"data row4 col12\" >0.067000</td>\n      <td id=\"T_0b62e_row4_col13\" class=\"data row4 col13\" >0.622000</td>\n      <td id=\"T_0b62e_row4_col14\" class=\"data row4 col14\" >0.130000</td>\n    </tr>\n    <tr>\n      <th id=\"T_0b62e_level0_row5\" class=\"row_heading level0 row5\" >G</th>\n      <td id=\"T_0b62e_row5_col0\" class=\"data row5 col0\" >0.346000</td>\n      <td id=\"T_0b62e_row5_col1\" class=\"data row5 col1\" >0.210000</td>\n      <td id=\"T_0b62e_row5_col2\" class=\"data row5 col2\" >0.000000</td>\n      <td id=\"T_0b62e_row5_col3\" class=\"data row5 col3\" >0.000000</td>\n      <td id=\"T_0b62e_row5_col4\" class=\"data row5 col4\" >0.288000</td>\n      <td id=\"T_0b62e_row5_col5\" class=\"data row5 col5\" >0.654000</td>\n      <td id=\"T_0b62e_row5_col6\" class=\"data row5 col6\" >0.000000</td>\n      <td id=\"T_0b62e_row5_col7\" class=\"data row5 col7\" >0.561000</td>\n      <td id=\"T_0b62e_row5_col8\" class=\"data row5 col8\" >0.803000</td>\n      <td id=\"T_0b62e_row5_col9\" class=\"data row5 col9\" >1.000000</td>\n      <td id=\"T_0b62e_row5_col10\" class=\"data row5 col10\" >0.259000</td>\n      <td id=\"T_0b62e_row5_col11\" class=\"data row5 col11\" >0.149000</td>\n      <td id=\"T_0b62e_row5_col12\" class=\"data row5 col12\" >0.422000</td>\n      <td id=\"T_0b62e_row5_col13\" class=\"data row5 col13\" >0.000000</td>\n      <td id=\"T_0b62e_row5_col14\" class=\"data row5 col14\" >0.861000</td>\n    </tr>\n    <tr>\n      <th id=\"T_0b62e_level0_row6\" class=\"row_heading level0 row6\" >H</th>\n      <td id=\"T_0b62e_row6_col0\" class=\"data row6 col0\" >0.335000</td>\n      <td id=\"T_0b62e_row6_col1\" class=\"data row6 col1\" >0.034000</td>\n      <td id=\"T_0b62e_row6_col2\" class=\"data row6 col2\" >0.683000</td>\n      <td id=\"T_0b62e_row6_col3\" class=\"data row6 col3\" >0.201000</td>\n      <td id=\"T_0b62e_row6_col4\" class=\"data row6 col4\" >0.442000</td>\n      <td id=\"T_0b62e_row6_col5\" class=\"data row6 col5\" >0.324000</td>\n      <td id=\"T_0b62e_row6_col6\" class=\"data row6 col6\" >0.746000</td>\n      <td id=\"T_0b62e_row6_col7\" class=\"data row6 col7\" >0.439000</td>\n      <td id=\"T_0b62e_row6_col8\" class=\"data row6 col8\" >0.600000</td>\n      <td id=\"T_0b62e_row6_col9\" class=\"data row6 col9\" >0.081000</td>\n      <td id=\"T_0b62e_row6_col10\" class=\"data row6 col10\" >0.401000</td>\n      <td id=\"T_0b62e_row6_col11\" class=\"data row6 col11\" >0.376000</td>\n      <td id=\"T_0b62e_row6_col12\" class=\"data row6 col12\" >0.467000</td>\n      <td id=\"T_0b62e_row6_col13\" class=\"data row6 col13\" >0.598000</td>\n      <td id=\"T_0b62e_row6_col14\" class=\"data row6 col14\" >0.296000</td>\n    </tr>\n    <tr>\n      <th id=\"T_0b62e_level0_row7\" class=\"row_heading level0 row7\" >I</th>\n      <td id=\"T_0b62e_row7_col0\" class=\"data row7 col0\" >0.330000</td>\n      <td id=\"T_0b62e_row7_col1\" class=\"data row7 col1\" >0.588000</td>\n      <td id=\"T_0b62e_row7_col2\" class=\"data row7 col2\" >0.604000</td>\n      <td id=\"T_0b62e_row7_col3\" class=\"data row7 col3\" >0.161000</td>\n      <td id=\"T_0b62e_row7_col4\" class=\"data row7 col4\" >1.000000</td>\n      <td id=\"T_0b62e_row7_col5\" class=\"data row7 col5\" >0.191000</td>\n      <td id=\"T_0b62e_row7_col6\" class=\"data row7 col6\" >0.540000</td>\n      <td id=\"T_0b62e_row7_col7\" class=\"data row7 col7\" >0.909000</td>\n      <td id=\"T_0b62e_row7_col8\" class=\"data row7 col8\" >1.000000</td>\n      <td id=\"T_0b62e_row7_col9\" class=\"data row7 col9\" >0.155000</td>\n      <td id=\"T_0b62e_row7_col10\" class=\"data row7 col10\" >0.697000</td>\n      <td id=\"T_0b62e_row7_col11\" class=\"data row7 col11\" >1.000000</td>\n      <td id=\"T_0b62e_row7_col12\" class=\"data row7 col12\" >0.022000</td>\n      <td id=\"T_0b62e_row7_col13\" class=\"data row7 col13\" >0.561000</td>\n      <td id=\"T_0b62e_row7_col14\" class=\"data row7 col14\" >0.065000</td>\n    </tr>\n    <tr>\n      <th id=\"T_0b62e_level0_row8\" class=\"row_heading level0 row8\" >K</th>\n      <td id=\"T_0b62e_row8_col0\" class=\"data row8 col0\" >0.368000</td>\n      <td id=\"T_0b62e_row8_col1\" class=\"data row8 col1\" >0.035000</td>\n      <td id=\"T_0b62e_row8_col2\" class=\"data row8 col2\" >0.660000</td>\n      <td id=\"T_0b62e_row8_col3\" class=\"data row8 col3\" >0.195000</td>\n      <td id=\"T_0b62e_row8_col4\" class=\"data row8 col4\" >0.058000</td>\n      <td id=\"T_0b62e_row8_col5\" class=\"data row8 col5\" >0.390000</td>\n      <td id=\"T_0b62e_row8_col6\" class=\"data row8 col6\" >0.778000</td>\n      <td id=\"T_0b62e_row8_col7\" class=\"data row8 col7\" >0.000000</td>\n      <td id=\"T_0b62e_row8_col8\" class=\"data row8 col8\" >0.224000</td>\n      <td id=\"T_0b62e_row8_col9\" class=\"data row8 col9\" >0.293000</td>\n      <td id=\"T_0b62e_row8_col10\" class=\"data row8 col10\" >0.127000</td>\n      <td id=\"T_0b62e_row8_col11\" class=\"data row8 col11\" >0.213000</td>\n      <td id=\"T_0b62e_row8_col12\" class=\"data row8 col12\" >1.000000</td>\n      <td id=\"T_0b62e_row8_col13\" class=\"data row8 col13\" >0.665000</td>\n      <td id=\"T_0b62e_row8_col14\" class=\"data row8 col14\" >0.222000</td>\n    </tr>\n    <tr>\n      <th id=\"T_0b62e_level0_row9\" class=\"row_heading level0 row9\" >L</th>\n      <td id=\"T_0b62e_row9_col0\" class=\"data row9 col0\" >0.192000</td>\n      <td id=\"T_0b62e_row9_col1\" class=\"data row9 col1\" >1.000000</td>\n      <td id=\"T_0b62e_row9_col2\" class=\"data row9 col2\" >0.604000</td>\n      <td id=\"T_0b62e_row9_col3\" class=\"data row9 col3\" >0.513000</td>\n      <td id=\"T_0b62e_row9_col4\" class=\"data row9 col4\" >0.615000</td>\n      <td id=\"T_0b62e_row9_col5\" class=\"data row9 col5\" >0.081000</td>\n      <td id=\"T_0b62e_row9_col6\" class=\"data row9 col6\" >0.556000</td>\n      <td id=\"T_0b62e_row9_col7\" class=\"data row9 col7\" >0.901000</td>\n      <td id=\"T_0b62e_row9_col8\" class=\"data row9 col8\" >0.878000</td>\n      <td id=\"T_0b62e_row9_col9\" class=\"data row9 col9\" >0.198000</td>\n      <td id=\"T_0b62e_row9_col10\" class=\"data row9 col10\" >0.905000</td>\n      <td id=\"T_0b62e_row9_col11\" class=\"data row9 col11\" >0.638000</td>\n      <td id=\"T_0b62e_row9_col12\" class=\"data row9 col12\" >0.044000</td>\n      <td id=\"T_0b62e_row9_col13\" class=\"data row9 col13\" >0.720000</td>\n      <td id=\"T_0b62e_row9_col14\" class=\"data row9 col14\" >0.009000</td>\n    </tr>\n    <tr>\n      <th id=\"T_0b62e_level0_row10\" class=\"row_heading level0 row10\" >M</th>\n      <td id=\"T_0b62e_row10_col0\" class=\"data row10 col0\" >0.000000</td>\n      <td id=\"T_0b62e_row10_col1\" class=\"data row10 col1\" >0.318000</td>\n      <td id=\"T_0b62e_row10_col2\" class=\"data row10 col2\" >1.000000</td>\n      <td id=\"T_0b62e_row10_col3\" class=\"data row10 col3\" >0.151000</td>\n      <td id=\"T_0b62e_row10_col4\" class=\"data row10 col4\" >0.577000</td>\n      <td id=\"T_0b62e_row10_col5\" class=\"data row10 col5\" >0.206000</td>\n      <td id=\"T_0b62e_row10_col6\" class=\"data row10 col6\" >0.587000</td>\n      <td id=\"T_0b62e_row10_col7\" class=\"data row10 col7\" >0.813000</td>\n      <td id=\"T_0b62e_row10_col8\" class=\"data row10 col8\" >0.837000</td>\n      <td id=\"T_0b62e_row10_col9\" class=\"data row10 col9\" >0.334000</td>\n      <td id=\"T_0b62e_row10_col10\" class=\"data row10 col10\" >1.000000</td>\n      <td id=\"T_0b62e_row10_col11\" class=\"data row10 col11\" >0.560000</td>\n      <td id=\"T_0b62e_row10_col12\" class=\"data row10 col12\" >0.089000</td>\n      <td id=\"T_0b62e_row10_col13\" class=\"data row10 col13\" >0.848000</td>\n      <td id=\"T_0b62e_row10_col14\" class=\"data row10 col14\" >0.000000</td>\n    </tr>\n    <tr>\n      <th id=\"T_0b62e_level0_row11\" class=\"row_heading level0 row11\" >N</th>\n      <td id=\"T_0b62e_row11_col0\" class=\"data row11 col0\" >1.000000</td>\n      <td id=\"T_0b62e_row11_col1\" class=\"data row11 col1\" >0.067000</td>\n      <td id=\"T_0b62e_row11_col2\" class=\"data row11 col2\" >0.644000</td>\n      <td id=\"T_0b62e_row11_col3\" class=\"data row11 col3\" >0.277000</td>\n      <td id=\"T_0b62e_row11_col4\" class=\"data row11 col4\" >0.096000</td>\n      <td id=\"T_0b62e_row11_col5\" class=\"data row11 col5\" >0.853000</td>\n      <td id=\"T_0b62e_row11_col6\" class=\"data row11 col6\" >0.540000</td>\n      <td id=\"T_0b62e_row11_col7\" class=\"data row11 col7\" >0.354000</td>\n      <td id=\"T_0b62e_row11_col8\" class=\"data row11 col8\" >0.519000</td>\n      <td id=\"T_0b62e_row11_col9\" class=\"data row11 col9\" >0.421000</td>\n      <td id=\"T_0b62e_row11_col10\" class=\"data row11 col10\" >0.381000</td>\n      <td id=\"T_0b62e_row11_col11\" class=\"data row11 col11\" >0.142000</td>\n      <td id=\"T_0b62e_row11_col12\" class=\"data row11 col12\" >0.733000</td>\n      <td id=\"T_0b62e_row11_col13\" class=\"data row11 col13\" >0.213000</td>\n      <td id=\"T_0b62e_row11_col14\" class=\"data row11 col14\" >0.981000</td>\n    </tr>\n    <tr>\n      <th id=\"T_0b62e_level0_row12\" class=\"row_heading level0 row12\" >P</th>\n      <td id=\"T_0b62e_row12_col0\" class=\"data row12 col0\" >0.110000</td>\n      <td id=\"T_0b62e_row12_col1\" class=\"data row12 col1\" >0.146000</td>\n      <td id=\"T_0b62e_row12_col2\" class=\"data row12 col2\" >0.842000</td>\n      <td id=\"T_0b62e_row12_col3\" class=\"data row12 col3\" >1.000000</td>\n      <td id=\"T_0b62e_row12_col4\" class=\"data row12 col4\" >0.308000</td>\n      <td id=\"T_0b62e_row12_col5\" class=\"data row12 col5\" >1.000000</td>\n      <td id=\"T_0b62e_row12_col6\" class=\"data row12 col6\" >0.460000</td>\n      <td id=\"T_0b62e_row12_col7\" class=\"data row12 col7\" >0.368000</td>\n      <td id=\"T_0b62e_row12_col8\" class=\"data row12 col8\" >0.919000</td>\n      <td id=\"T_0b62e_row12_col9\" class=\"data row12 col9\" >0.108000</td>\n      <td id=\"T_0b62e_row12_col10\" class=\"data row12 col10\" >0.403000</td>\n      <td id=\"T_0b62e_row12_col11\" class=\"data row12 col11\" >0.000000</td>\n      <td id=\"T_0b62e_row12_col12\" class=\"data row12 col12\" >0.733000</td>\n      <td id=\"T_0b62e_row12_col13\" class=\"data row12 col13\" >0.055000</td>\n      <td id=\"T_0b62e_row12_col14\" class=\"data row12 col14\" >1.000000</td>\n    </tr>\n    <tr>\n      <th id=\"T_0b62e_level0_row13\" class=\"row_heading level0 row13\" >Q</th>\n      <td id=\"T_0b62e_row13_col0\" class=\"data row13 col0\" >0.132000</td>\n      <td id=\"T_0b62e_row13_col1\" class=\"data row13 col1\" >0.037000</td>\n      <td id=\"T_0b62e_row13_col2\" class=\"data row13 col2\" >0.693000</td>\n      <td id=\"T_0b62e_row13_col3\" class=\"data row13 col3\" >0.478000</td>\n      <td id=\"T_0b62e_row13_col4\" class=\"data row13 col4\" >0.212000</td>\n      <td id=\"T_0b62e_row13_col5\" class=\"data row13 col5\" >0.294000</td>\n      <td id=\"T_0b62e_row13_col6\" class=\"data row13 col6\" >0.381000</td>\n      <td id=\"T_0b62e_row13_col7\" class=\"data row13 col7\" >0.225000</td>\n      <td id=\"T_0b62e_row13_col8\" class=\"data row13 col8\" >0.400000</td>\n      <td id=\"T_0b62e_row13_col9\" class=\"data row13 col9\" >0.171000</td>\n      <td id=\"T_0b62e_row13_col10\" class=\"data row13 col10\" >0.203000</td>\n      <td id=\"T_0b62e_row13_col11\" class=\"data row13 col11\" >0.390000</td>\n      <td id=\"T_0b62e_row13_col12\" class=\"data row13 col12\" >0.778000</td>\n      <td id=\"T_0b62e_row13_col13\" class=\"data row13 col13\" >0.585000</td>\n      <td id=\"T_0b62e_row13_col14\" class=\"data row13 col14\" >0.333000</td>\n    </tr>\n    <tr>\n      <th id=\"T_0b62e_level0_row14\" class=\"row_heading level0 row14\" >R</th>\n      <td id=\"T_0b62e_row14_col0\" class=\"data row14 col0\" >0.324000</td>\n      <td id=\"T_0b62e_row14_col1\" class=\"data row14 col1\" >0.000000</td>\n      <td id=\"T_0b62e_row14_col2\" class=\"data row14 col2\" >0.710000</td>\n      <td id=\"T_0b62e_row14_col3\" class=\"data row14 col3\" >0.549000</td>\n      <td id=\"T_0b62e_row14_col4\" class=\"data row14 col4\" >0.288000</td>\n      <td id=\"T_0b62e_row14_col5\" class=\"data row14 col5\" >0.382000</td>\n      <td id=\"T_0b62e_row14_col6\" class=\"data row14 col6\" >0.365000</td>\n      <td id=\"T_0b62e_row14_col7\" class=\"data row14 col7\" >0.178000</td>\n      <td id=\"T_0b62e_row14_col8\" class=\"data row14 col8\" >0.000000</td>\n      <td id=\"T_0b62e_row14_col9\" class=\"data row14 col9\" >0.000000</td>\n      <td id=\"T_0b62e_row14_col10\" class=\"data row14 col10\" >0.061000</td>\n      <td id=\"T_0b62e_row14_col11\" class=\"data row14 col11\" >0.376000</td>\n      <td id=\"T_0b62e_row14_col12\" class=\"data row14 col12\" >0.711000</td>\n      <td id=\"T_0b62e_row14_col13\" class=\"data row14 col13\" >0.470000</td>\n      <td id=\"T_0b62e_row14_col14\" class=\"data row14 col14\" >0.389000</td>\n    </tr>\n    <tr>\n      <th id=\"T_0b62e_level0_row15\" class=\"row_heading level0 row15\" >S</th>\n      <td id=\"T_0b62e_row15_col0\" class=\"data row15 col0\" >0.429000</td>\n      <td id=\"T_0b62e_row15_col1\" class=\"data row15 col1\" >0.303000</td>\n      <td id=\"T_0b62e_row15_col2\" class=\"data row15 col2\" >0.512000</td>\n      <td id=\"T_0b62e_row15_col3\" class=\"data row15 col3\" >0.168000</td>\n      <td id=\"T_0b62e_row15_col4\" class=\"data row15 col4\" >0.000000</td>\n      <td id=\"T_0b62e_row15_col5\" class=\"data row15 col5\" >0.529000</td>\n      <td id=\"T_0b62e_row15_col6\" class=\"data row15 col6\" >0.603000</td>\n      <td id=\"T_0b62e_row15_col7\" class=\"data row15 col7\" >0.523000</td>\n      <td id=\"T_0b62e_row15_col8\" class=\"data row15 col8\" >0.664000</td>\n      <td id=\"T_0b62e_row15_col9\" class=\"data row15 col9\" >0.390000</td>\n      <td id=\"T_0b62e_row15_col10\" class=\"data row15 col10\" >0.450000</td>\n      <td id=\"T_0b62e_row15_col11\" class=\"data row15 col11\" >0.298000</td>\n      <td id=\"T_0b62e_row15_col12\" class=\"data row15 col12\" >0.556000</td>\n      <td id=\"T_0b62e_row15_col13\" class=\"data row15 col13\" >0.287000</td>\n      <td id=\"T_0b62e_row15_col14\" class=\"data row15 col14\" >0.602000</td>\n    </tr>\n    <tr>\n      <th id=\"T_0b62e_level0_row16\" class=\"row_heading level0 row16\" >T</th>\n      <td id=\"T_0b62e_row16_col0\" class=\"data row16 col0\" >0.462000</td>\n      <td id=\"T_0b62e_row16_col1\" class=\"data row16 col1\" >0.399000</td>\n      <td id=\"T_0b62e_row16_col2\" class=\"data row16 col2\" >0.545000</td>\n      <td id=\"T_0b62e_row16_col3\" class=\"data row16 col3\" >0.344000</td>\n      <td id=\"T_0b62e_row16_col4\" class=\"data row16 col4\" >0.135000</td>\n      <td id=\"T_0b62e_row16_col5\" class=\"data row16 col5\" >0.346000</td>\n      <td id=\"T_0b62e_row16_col6\" class=\"data row16 col6\" >0.048000</td>\n      <td id=\"T_0b62e_row16_col7\" class=\"data row16 col7\" >0.591000</td>\n      <td id=\"T_0b62e_row16_col8\" class=\"data row16 col8\" >0.678000</td>\n      <td id=\"T_0b62e_row16_col9\" class=\"data row16 col9\" >0.251000</td>\n      <td id=\"T_0b62e_row16_col10\" class=\"data row16 col10\" >0.619000</td>\n      <td id=\"T_0b62e_row16_col11\" class=\"data row16 col11\" >0.511000</td>\n      <td id=\"T_0b62e_row16_col12\" class=\"data row16 col12\" >0.511000</td>\n      <td id=\"T_0b62e_row16_col13\" class=\"data row16 col13\" >0.366000</td>\n      <td id=\"T_0b62e_row16_col14\" class=\"data row16 col14\" >0.426000</td>\n    </tr>\n    <tr>\n      <th id=\"T_0b62e_level0_row17\" class=\"row_heading level0 row17\" >V</th>\n      <td id=\"T_0b62e_row17_col0\" class=\"data row17 col0\" >0.181000</td>\n      <td id=\"T_0b62e_row17_col1\" class=\"data row17 col1\" >0.277000</td>\n      <td id=\"T_0b62e_row17_col2\" class=\"data row17 col2\" >0.545000</td>\n      <td id=\"T_0b62e_row17_col3\" class=\"data row17 col3\" >0.151000</td>\n      <td id=\"T_0b62e_row17_col4\" class=\"data row17 col4\" >0.500000</td>\n      <td id=\"T_0b62e_row17_col5\" class=\"data row17 col5\" >0.125000</td>\n      <td id=\"T_0b62e_row17_col6\" class=\"data row17 col6\" >0.619000</td>\n      <td id=\"T_0b62e_row17_col7\" class=\"data row17 col7\" >0.915000</td>\n      <td id=\"T_0b62e_row17_col8\" class=\"data row17 col8\" >0.949000</td>\n      <td id=\"T_0b62e_row17_col9\" class=\"data row17 col9\" >0.099000</td>\n      <td id=\"T_0b62e_row17_col10\" class=\"data row17 col10\" >0.183000</td>\n      <td id=\"T_0b62e_row17_col11\" class=\"data row17 col11\" >1.000000</td>\n      <td id=\"T_0b62e_row17_col12\" class=\"data row17 col12\" >0.044000</td>\n      <td id=\"T_0b62e_row17_col13\" class=\"data row17 col13\" >0.610000</td>\n      <td id=\"T_0b62e_row17_col14\" class=\"data row17 col14\" >0.019000</td>\n    </tr>\n    <tr>\n      <th id=\"T_0b62e_level0_row18\" class=\"row_heading level0 row18\" >W</th>\n      <td id=\"T_0b62e_row18_col0\" class=\"data row18 col0\" >0.253000</td>\n      <td id=\"T_0b62e_row18_col1\" class=\"data row18 col1\" >0.080000</td>\n      <td id=\"T_0b62e_row18_col2\" class=\"data row18 col2\" >0.916000</td>\n      <td id=\"T_0b62e_row18_col3\" class=\"data row18 col3\" >0.066000</td>\n      <td id=\"T_0b62e_row18_col4\" class=\"data row18 col4\" >0.808000</td>\n      <td id=\"T_0b62e_row18_col5\" class=\"data row18 col5\" >0.154000</td>\n      <td id=\"T_0b62e_row18_col6\" class=\"data row18 col6\" >0.571000</td>\n      <td id=\"T_0b62e_row18_col7\" class=\"data row18 col7\" >0.801000</td>\n      <td id=\"T_0b62e_row18_col8\" class=\"data row18 col8\" >0.719000</td>\n      <td id=\"T_0b62e_row18_col9\" class=\"data row18 col9\" >0.207000</td>\n      <td id=\"T_0b62e_row18_col10\" class=\"data row18 col10\" >0.707000</td>\n      <td id=\"T_0b62e_row18_col11\" class=\"data row18 col11\" >0.809000</td>\n      <td id=\"T_0b62e_row18_col12\" class=\"data row18 col12\" >0.156000</td>\n      <td id=\"T_0b62e_row18_col13\" class=\"data row18 col13\" >0.598000</td>\n      <td id=\"T_0b62e_row18_col14\" class=\"data row18 col14\" >0.083000</td>\n    </tr>\n    <tr>\n      <th id=\"T_0b62e_level0_row19\" class=\"row_heading level0 row19\" >Y</th>\n      <td id=\"T_0b62e_row19_col0\" class=\"data row19 col0\" >0.203000</td>\n      <td id=\"T_0b62e_row19_col1\" class=\"data row19 col1\" >0.102000</td>\n      <td id=\"T_0b62e_row19_col2\" class=\"data row19 col2\" >0.864000</td>\n      <td id=\"T_0b62e_row19_col3\" class=\"data row19 col3\" >0.110000</td>\n      <td id=\"T_0b62e_row19_col4\" class=\"data row19 col4\" >0.635000</td>\n      <td id=\"T_0b62e_row19_col5\" class=\"data row19 col5\" >0.000000</td>\n      <td id=\"T_0b62e_row19_col6\" class=\"data row19 col6\" >0.127000</td>\n      <td id=\"T_0b62e_row19_col7\" class=\"data row19 col7\" >0.632000</td>\n      <td id=\"T_0b62e_row19_col8\" class=\"data row19 col8\" >0.573000</td>\n      <td id=\"T_0b62e_row19_col9\" class=\"data row19 col9\" >0.273000</td>\n      <td id=\"T_0b62e_row19_col10\" class=\"data row19 col10\" >0.425000</td>\n      <td id=\"T_0b62e_row19_col11\" class=\"data row19 col11\" >0.801000</td>\n      <td id=\"T_0b62e_row19_col12\" class=\"data row19 col12\" >0.244000</td>\n      <td id=\"T_0b62e_row19_col13\" class=\"data row19 col13\" >0.250000</td>\n      <td id=\"T_0b62e_row19_col14\" class=\"data row19 col14\" >0.315000</td>\n    </tr>\n  </tbody>\n</table>\n"
     },
     "metadata": {},
     "output_type": "display_data"
    }
   ],
   "source": [
    "import aaanalysis as aa\n",
    "aa.options[\"verbose\"] = False\n",
    "# Create test dataset of 25 amino acid scales\n",
    "df_scales = aa.load_scales().T.sample(15).T\n",
    "aa.display_df(df_scales)\n",
    "X = df_scales.T"
   ],
   "metadata": {
    "collapsed": false,
    "ExecuteTime": {
     "end_time": "2023-12-25T19:24:23.862253581Z",
     "start_time": "2023-12-25T19:24:23.828013324Z"
    }
   },
   "id": "60ce10e199a1a270"
  },
  {
   "cell_type": "markdown",
   "source": [
    "By fitting ``AAclust``, its three-step algorithm is performed to select an optimized ``n_clusters`` (k). The three steps involve (1) an estimation of lower bound of k, (2) refinement of k, and (3) an optional clustering merging. Various results are saved as attributes: "
   ],
   "metadata": {
    "collapsed": false
   },
   "id": "70e721551475cda0"
  },
  {
   "cell_type": "code",
   "execution_count": 26,
   "outputs": [
    {
     "name": "stdout",
     "output_type": "stream",
     "text": [
      "n_clusters:  3\n",
      "Labels:  [0 1 1 1 2 0 1 2 2 0 2 2 0 1 0]\n",
      "Labels of medoids:  [0 1 2]\n"
     ]
    },
    {
     "data": {
      "text/plain": "<IPython.core.display.HTML object>",
      "text/html": "<style type=\"text/css\">\n#T_9c58c thead th {\n  background-color: white;\n  color: black;\n}\n#T_9c58c tbody tr:nth-child(odd) {\n  background-color: #f2f2f2;\n}\n#T_9c58c tbody tr:nth-child(even) {\n  background-color: white;\n}\n#T_9c58c th {\n  padding: 5px;\n  white-space: nowrap;\n}\n#T_9c58c  td {\n  padding: 5px;\n  white-space: nowrap;\n}\n#T_9c58c table {\n  font-size: 12px;\n}\n</style>\n<table id=\"T_9c58c\" style='display:block; max-height: 300px; max-width: 100%; overflow-x: auto; overflow-y: auto;'>\n  <thead>\n    <tr>\n      <th class=\"blank level0\" >&nbsp;</th>\n      <th id=\"T_9c58c_level0_col0\" class=\"col_heading level0 col0\" >NADH010102</th>\n      <th id=\"T_9c58c_level0_col1\" class=\"col_heading level0 col1\" >ROBB760101</th>\n      <th id=\"T_9c58c_level0_col2\" class=\"col_heading level0 col2\" >GEIM800108</th>\n    </tr>\n    <tr>\n      <th class=\"index_name level0\" >AA</th>\n      <th class=\"blank col0\" >&nbsp;</th>\n      <th class=\"blank col1\" >&nbsp;</th>\n      <th class=\"blank col2\" >&nbsp;</th>\n    </tr>\n  </thead>\n  <tbody>\n    <tr>\n      <th id=\"T_9c58c_level0_row0\" class=\"row_heading level0 row0\" >A</th>\n      <td id=\"T_9c58c_row0_col0\" class=\"data row0 col0\" >0.749000</td>\n      <td id=\"T_9c58c_row0_col1\" class=\"data row0 col1\" >0.921000</td>\n      <td id=\"T_9c58c_row0_col2\" class=\"data row0 col2\" >0.306000</td>\n    </tr>\n    <tr>\n      <th id=\"T_9c58c_level0_row1\" class=\"row_heading level0 row1\" >C</th>\n      <td id=\"T_9c58c_row1_col0\" class=\"data row1 col0\" >1.000000</td>\n      <td id=\"T_9c58c_row1_col1\" class=\"data row1 col1\" >0.445000</td>\n      <td id=\"T_9c58c_row1_col2\" class=\"data row1 col2\" >0.324000</td>\n    </tr>\n    <tr>\n      <th id=\"T_9c58c_level0_row2\" class=\"row_heading level0 row2\" >D</th>\n      <td id=\"T_9c58c_row2_col0\" class=\"data row2 col0\" >0.371000</td>\n      <td id=\"T_9c58c_row2_col1\" class=\"data row2 col1\" >0.555000</td>\n      <td id=\"T_9c58c_row2_col2\" class=\"data row2 col2\" >0.759000</td>\n    </tr>\n    <tr>\n      <th id=\"T_9c58c_level0_row3\" class=\"row_heading level0 row3\" >E</th>\n      <td id=\"T_9c58c_row3_col0\" class=\"data row3 col0\" >0.263000</td>\n      <td id=\"T_9c58c_row3_col1\" class=\"data row3 col1\" >1.000000</td>\n      <td id=\"T_9c58c_row3_col2\" class=\"data row3 col2\" >0.361000</td>\n    </tr>\n    <tr>\n      <th id=\"T_9c58c_level0_row4\" class=\"row_heading level0 row4\" >F</th>\n      <td id=\"T_9c58c_row4_col0\" class=\"data row4 col0\" >0.915000</td>\n      <td id=\"T_9c58c_row4_col1\" class=\"data row4 col1\" >0.622000</td>\n      <td id=\"T_9c58c_row4_col2\" class=\"data row4 col2\" >0.130000</td>\n    </tr>\n    <tr>\n      <th id=\"T_9c58c_level0_row5\" class=\"row_heading level0 row5\" >G</th>\n      <td id=\"T_9c58c_row5_col0\" class=\"data row5 col0\" >0.561000</td>\n      <td id=\"T_9c58c_row5_col1\" class=\"data row5 col1\" >0.000000</td>\n      <td id=\"T_9c58c_row5_col2\" class=\"data row5 col2\" >0.861000</td>\n    </tr>\n    <tr>\n      <th id=\"T_9c58c_level0_row6\" class=\"row_heading level0 row6\" >H</th>\n      <td id=\"T_9c58c_row6_col0\" class=\"data row6 col0\" >0.439000</td>\n      <td id=\"T_9c58c_row6_col1\" class=\"data row6 col1\" >0.598000</td>\n      <td id=\"T_9c58c_row6_col2\" class=\"data row6 col2\" >0.296000</td>\n    </tr>\n    <tr>\n      <th id=\"T_9c58c_level0_row7\" class=\"row_heading level0 row7\" >I</th>\n      <td id=\"T_9c58c_row7_col0\" class=\"data row7 col0\" >0.909000</td>\n      <td id=\"T_9c58c_row7_col1\" class=\"data row7 col1\" >0.561000</td>\n      <td id=\"T_9c58c_row7_col2\" class=\"data row7 col2\" >0.065000</td>\n    </tr>\n    <tr>\n      <th id=\"T_9c58c_level0_row8\" class=\"row_heading level0 row8\" >K</th>\n      <td id=\"T_9c58c_row8_col0\" class=\"data row8 col0\" >0.000000</td>\n      <td id=\"T_9c58c_row8_col1\" class=\"data row8 col1\" >0.665000</td>\n      <td id=\"T_9c58c_row8_col2\" class=\"data row8 col2\" >0.222000</td>\n    </tr>\n    <tr>\n      <th id=\"T_9c58c_level0_row9\" class=\"row_heading level0 row9\" >L</th>\n      <td id=\"T_9c58c_row9_col0\" class=\"data row9 col0\" >0.901000</td>\n      <td id=\"T_9c58c_row9_col1\" class=\"data row9 col1\" >0.720000</td>\n      <td id=\"T_9c58c_row9_col2\" class=\"data row9 col2\" >0.009000</td>\n    </tr>\n    <tr>\n      <th id=\"T_9c58c_level0_row10\" class=\"row_heading level0 row10\" >M</th>\n      <td id=\"T_9c58c_row10_col0\" class=\"data row10 col0\" >0.813000</td>\n      <td id=\"T_9c58c_row10_col1\" class=\"data row10 col1\" >0.848000</td>\n      <td id=\"T_9c58c_row10_col2\" class=\"data row10 col2\" >0.000000</td>\n    </tr>\n    <tr>\n      <th id=\"T_9c58c_level0_row11\" class=\"row_heading level0 row11\" >N</th>\n      <td id=\"T_9c58c_row11_col0\" class=\"data row11 col0\" >0.354000</td>\n      <td id=\"T_9c58c_row11_col1\" class=\"data row11 col1\" >0.213000</td>\n      <td id=\"T_9c58c_row11_col2\" class=\"data row11 col2\" >0.981000</td>\n    </tr>\n    <tr>\n      <th id=\"T_9c58c_level0_row12\" class=\"row_heading level0 row12\" >P</th>\n      <td id=\"T_9c58c_row12_col0\" class=\"data row12 col0\" >0.368000</td>\n      <td id=\"T_9c58c_row12_col1\" class=\"data row12 col1\" >0.055000</td>\n      <td id=\"T_9c58c_row12_col2\" class=\"data row12 col2\" >1.000000</td>\n    </tr>\n    <tr>\n      <th id=\"T_9c58c_level0_row13\" class=\"row_heading level0 row13\" >Q</th>\n      <td id=\"T_9c58c_row13_col0\" class=\"data row13 col0\" >0.225000</td>\n      <td id=\"T_9c58c_row13_col1\" class=\"data row13 col1\" >0.585000</td>\n      <td id=\"T_9c58c_row13_col2\" class=\"data row13 col2\" >0.333000</td>\n    </tr>\n    <tr>\n      <th id=\"T_9c58c_level0_row14\" class=\"row_heading level0 row14\" >R</th>\n      <td id=\"T_9c58c_row14_col0\" class=\"data row14 col0\" >0.178000</td>\n      <td id=\"T_9c58c_row14_col1\" class=\"data row14 col1\" >0.470000</td>\n      <td id=\"T_9c58c_row14_col2\" class=\"data row14 col2\" >0.389000</td>\n    </tr>\n    <tr>\n      <th id=\"T_9c58c_level0_row15\" class=\"row_heading level0 row15\" >S</th>\n      <td id=\"T_9c58c_row15_col0\" class=\"data row15 col0\" >0.523000</td>\n      <td id=\"T_9c58c_row15_col1\" class=\"data row15 col1\" >0.287000</td>\n      <td id=\"T_9c58c_row15_col2\" class=\"data row15 col2\" >0.602000</td>\n    </tr>\n    <tr>\n      <th id=\"T_9c58c_level0_row16\" class=\"row_heading level0 row16\" >T</th>\n      <td id=\"T_9c58c_row16_col0\" class=\"data row16 col0\" >0.591000</td>\n      <td id=\"T_9c58c_row16_col1\" class=\"data row16 col1\" >0.366000</td>\n      <td id=\"T_9c58c_row16_col2\" class=\"data row16 col2\" >0.426000</td>\n    </tr>\n    <tr>\n      <th id=\"T_9c58c_level0_row17\" class=\"row_heading level0 row17\" >V</th>\n      <td id=\"T_9c58c_row17_col0\" class=\"data row17 col0\" >0.915000</td>\n      <td id=\"T_9c58c_row17_col1\" class=\"data row17 col1\" >0.610000</td>\n      <td id=\"T_9c58c_row17_col2\" class=\"data row17 col2\" >0.019000</td>\n    </tr>\n    <tr>\n      <th id=\"T_9c58c_level0_row18\" class=\"row_heading level0 row18\" >W</th>\n      <td id=\"T_9c58c_row18_col0\" class=\"data row18 col0\" >0.801000</td>\n      <td id=\"T_9c58c_row18_col1\" class=\"data row18 col1\" >0.598000</td>\n      <td id=\"T_9c58c_row18_col2\" class=\"data row18 col2\" >0.083000</td>\n    </tr>\n    <tr>\n      <th id=\"T_9c58c_level0_row19\" class=\"row_heading level0 row19\" >Y</th>\n      <td id=\"T_9c58c_row19_col0\" class=\"data row19 col0\" >0.632000</td>\n      <td id=\"T_9c58c_row19_col1\" class=\"data row19 col1\" >0.250000</td>\n      <td id=\"T_9c58c_row19_col2\" class=\"data row19 col2\" >0.315000</td>\n    </tr>\n  </tbody>\n</table>\n"
     },
     "metadata": {},
     "output_type": "display_data"
    }
   ],
   "source": [
    "# Fit clustering model\n",
    "aac = aa.AAclust()\n",
    "aac.fit(X)\n",
    "# Get output parameters\n",
    "n_clusters = aac.n_clusters\n",
    "print(\"n_clusters: \", n_clusters)\n",
    "labels = aac.labels_\n",
    "print(\"Labels: \", labels)\n",
    "centers = aac.centers_ # Cluster centers (average scales for each cluster)\n",
    "labels_centers = aac.labels_centers_\n",
    "medoids = aac.medoids_ # Representative scale for each cluster\n",
    "labels_medoids = aac.labels_medoids_\n",
    "print(\"Labels of medoids: \", labels_medoids)\n",
    "is_medoid = aac.is_medoid_\n",
    "df_scales_medoids = df_scales.T[is_medoid].T\n",
    "aa.display_df(df_scales_medoids)"
   ],
   "metadata": {
    "collapsed": false,
    "ExecuteTime": {
     "end_time": "2023-12-25T19:29:13.216593226Z",
     "start_time": "2023-12-25T19:29:13.165124099Z"
    }
   },
   "id": "c21b9a117157a86c"
  },
  {
   "cell_type": "markdown",
   "source": [
    "``names`` can be provided to the ``AAclust.fit()`` method to retrieve the names of the medoids:"
   ],
   "metadata": {
    "collapsed": false
   },
   "id": "c43dd15477ce22b3"
  },
  {
   "cell_type": "code",
   "execution_count": 31,
   "outputs": [
    {
     "name": "stdout",
     "output_type": "stream",
     "text": [
      "['scale 15', 'scale 11', 'scale 14', 'scale 5']\n"
     ]
    }
   ],
   "source": [
    "names = [f\"scale {i+1}\" for i in range(len(df_scales.T))]\n",
    "aac.fit(X, names=names)\n",
    "medoid_names = aac.medoid_names_\n",
    "print(medoid_names)"
   ],
   "metadata": {
    "collapsed": false,
    "ExecuteTime": {
     "end_time": "2023-12-25T19:33:45.415195356Z",
     "start_time": "2023-12-25T19:33:45.380062419Z"
    }
   },
   "id": "b07558342d78ab97"
  },
  {
   "cell_type": "markdown",
   "source": [
    "The ``n_clusters`` parameter can as well be pre-defined:"
   ],
   "metadata": {
    "collapsed": false
   },
   "id": "f42e4f7242b4b638"
  },
  {
   "cell_type": "code",
   "execution_count": 40,
   "outputs": [
    {
     "name": "stdout",
     "output_type": "stream",
     "text": [
      "['scale 10', 'scale 14', 'scale 6', 'scale 5', 'scale 8']\n"
     ]
    }
   ],
   "source": [
    "aac.fit(X, n_clusters=5, names=names)\n",
    "medoid_names = aac.medoid_names_\n",
    "print(medoid_names)"
   ],
   "metadata": {
    "collapsed": false,
    "ExecuteTime": {
     "end_time": "2023-12-25T19:34:49.233811235Z",
     "start_time": "2023-12-25T19:34:49.193206814Z"
    }
   },
   "id": "7d15144c49a1b15f"
  },
  {
   "cell_type": "markdown",
   "source": [
    "The second step of the ``AAclust`` algorithm (recursive k optimization) can be adjusted using the ``min_th`` and ``on_center`` parameters:"
   ],
   "metadata": {
    "collapsed": false
   },
   "id": "ddc1c0123987a46d"
  },
  {
   "cell_type": "code",
   "execution_count": 42,
   "outputs": [
    {
     "name": "stdout",
     "output_type": "stream",
     "text": [
      "8\n",
      "3\n"
     ]
    }
   ],
   "source": [
    "# Pearson correlation within all cluster members >= 0.5\n",
    "aac.fit(X, on_center=False, min_th=0.5)\n",
    "print(aac.n_clusters)\n",
    "# Pearson correlation between all cluster members and the respective center >= 0.5\n",
    "aac.fit(X, on_center=True, min_th=0.5)\n",
    "print(aac.n_clusters)\n",
    "# The latter is less strict, leading to bigger and thus fewer clusters "
   ],
   "metadata": {
    "collapsed": false,
    "ExecuteTime": {
     "end_time": "2023-12-25T19:43:01.975150996Z",
     "start_time": "2023-12-25T19:43:01.846009272Z"
    }
   },
   "id": "8055721fbad30eff"
  },
  {
   "cell_type": "markdown",
   "source": [
    "The third and optional merging step can be adjusted using the ``metric`` parameter and disabled setting ``merge=False``. The attributes can be directly retrieved since the ``AAclust.fit()`` method returns the fitted clustering model:"
   ],
   "metadata": {
    "collapsed": false
   },
   "id": "ec92bb70e293fc54"
  },
  {
   "cell_type": "code",
   "execution_count": 49,
   "outputs": [
    {
     "name": "stdout",
     "output_type": "stream",
     "text": [
      "49\n",
      "47\n",
      "54\n"
     ]
    }
   ],
   "source": [
    "# Load over 500 scales\n",
    "X = aa.load_scales().T\n",
    "n_with_merging_euclidean = aac.fit(X).n_clusters\n",
    "n_with_merging_cosine = aac.fit(X, metric=\"cosine\").n_clusters\n",
    "n_without_merging = aac.fit(X, merge=False).n_clusters\n",
    "print(n_with_merging_euclidean)\n",
    "print(n_with_merging_cosine)\n",
    "print(n_without_merging)"
   ],
   "metadata": {
    "collapsed": false,
    "ExecuteTime": {
     "end_time": "2023-12-25T19:52:58.042025928Z",
     "start_time": "2023-12-25T19:52:51.979027826Z"
    }
   },
   "id": "d97f55178f816158"
  },
  {
   "cell_type": "markdown",
   "source": [],
   "metadata": {
    "collapsed": false
   },
   "id": "3d4b9b4fea99f06b"
  }
 ],
 "metadata": {
  "kernelspec": {
   "display_name": "Python 3",
   "language": "python",
   "name": "python3"
  },
  "language_info": {
   "codemirror_mode": {
    "name": "ipython",
    "version": 2
   },
   "file_extension": ".py",
   "mimetype": "text/x-python",
   "name": "python",
   "nbconvert_exporter": "python",
   "pygments_lexer": "ipython2",
   "version": "2.7.6"
  }
 },
 "nbformat": 4,
 "nbformat_minor": 5
}
