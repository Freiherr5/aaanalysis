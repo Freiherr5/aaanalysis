{
 "cells": [
  {
   "cell_type": "raw",
   "source": [
    "Get sequence parts from df_seq with 'tmd_e', and 'tmd_jmd' as parts and jmd length of 10:"
   ],
   "metadata": {
    "collapsed": false
   },
   "id": "e0d2c41a62d30512"
  },
  {
   "cell_type": "code",
   "execution_count": 1,
   "outputs": [
    {
     "data": {
      "text/plain": "<IPython.core.display.HTML object>",
      "text/html": "<style type=\"text/css\">\n#T_4cdd2 thead th {\n  background-color: white;\n  color: black;\n}\n#T_4cdd2 tbody tr:nth-child(odd) {\n  background-color: #f2f2f2;\n}\n#T_4cdd2 tbody tr:nth-child(even) {\n  background-color: white;\n}\n#T_4cdd2 th {\n  padding: 5px;\n  white-space: nowrap;\n}\n#T_4cdd2  td {\n  padding: 5px;\n  white-space: nowrap;\n}\n#T_4cdd2 table {\n  font-size: 12px;\n}\n</style>\n<table id=\"T_4cdd2\" style='display:block; max-height: 300px; max-width: 100%; overflow-x: auto; overflow-y: auto;'>\n  <thead>\n    <tr>\n      <th class=\"blank level0\" >&nbsp;</th>\n      <th id=\"T_4cdd2_level0_col0\" class=\"col_heading level0 col0\" >tmd_e</th>\n      <th id=\"T_4cdd2_level0_col1\" class=\"col_heading level0 col1\" >tmd_jmd</th>\n    </tr>\n  </thead>\n  <tbody>\n    <tr>\n      <th id=\"T_4cdd2_level0_row0\" class=\"row_heading level0 row0\" >P05067</th>\n      <td id=\"T_4cdd2_row0_col0\" class=\"data row0 col0\" >AIIGLMVGGVVIATVIVITLVML</td>\n      <td id=\"T_4cdd2_row0_col1\" class=\"data row0 col1\" >FAEDVGSNKGAIIGLMVGGVVIATVIVITLVMLKKKQYTSIHH</td>\n    </tr>\n    <tr>\n      <th id=\"T_4cdd2_level0_row1\" class=\"row_heading level0 row1\" >P14925</th>\n      <td id=\"T_4cdd2_row1_col0\" class=\"data row1 col0\" >SVVLITTLLVIPVLVLLAIVMFI</td>\n      <td id=\"T_4cdd2_row1_col1\" class=\"data row1 col1\" >KLSTEPGSGVSVVLITTLLVIPVLVLLAIVMFIRWKKSRAFGD</td>\n    </tr>\n    <tr>\n      <th id=\"T_4cdd2_level0_row2\" class=\"row_heading level0 row2\" >P70180</th>\n      <td id=\"T_4cdd2_row2_col0\" class=\"data row2 col0\" >SAVTGIVVGALLGAGLLMAFYFF</td>\n      <td id=\"T_4cdd2_row2_col1\" class=\"data row2 col1\" >PCKSSGGLEESAVTGIVVGALLGAGLLMAFYFFRKKYRITIER</td>\n    </tr>\n    <tr>\n      <th id=\"T_4cdd2_level0_row3\" class=\"row_heading level0 row3\" >Q03157</th>\n      <td id=\"T_4cdd2_row3_col0\" class=\"data row3 col0\" >ALSGLLIMGAGGGSLIVLSLLLL</td>\n      <td id=\"T_4cdd2_row3_col1\" class=\"data row3 col1\" >APSGTGVSREALSGLLIMGAGGGSLIVLSLLLLRKKKPYGTIS</td>\n    </tr>\n    <tr>\n      <th id=\"T_4cdd2_level0_row4\" class=\"row_heading level0 row4\" >Q06481</th>\n      <td id=\"T_4cdd2_row4_col0\" class=\"data row4 col0\" >ALIGLLVIAVAIATVIVISLVML</td>\n      <td id=\"T_4cdd2_row4_col1\" class=\"data row4 col1\" >LREDFSLSSSALIGLLVIAVAIATVIVISLVMLRKRQYGTISH</td>\n    </tr>\n  </tbody>\n</table>\n"
     },
     "metadata": {},
     "output_type": "display_data"
    }
   ],
   "source": [
    "import aaanalysis as aa\n",
    "sf = aa.SequenceFeature()\n",
    "df_seq = aa.load_dataset(name='DOM_GSEC')\n",
    "df_parts = sf.get_df_parts(df_seq=df_seq, list_parts=[\"tmd_e\", \"tmd_jmd\"], jmd_n_len=10, jmd_c_len=10)\n",
    "aa.display_df(df=df_parts.head(5))"
   ],
   "metadata": {
    "collapsed": false,
    "ExecuteTime": {
     "end_time": "2023-12-08T13:59:42.907604503Z",
     "start_time": "2023-12-08T13:59:40.698790044Z"
    }
   },
   "id": "d431f13e6f7cdb34"
  },
  {
   "cell_type": "markdown",
   "source": [],
   "metadata": {
    "collapsed": false
   },
   "id": "dede7db16c89a36c"
  }
 ],
 "metadata": {
  "kernelspec": {
   "display_name": "Python 3",
   "language": "python",
   "name": "python3"
  },
  "language_info": {
   "codemirror_mode": {
    "name": "ipython",
    "version": 2
   },
   "file_extension": ".py",
   "mimetype": "text/x-python",
   "name": "python",
   "nbconvert_exporter": "python",
   "pygments_lexer": "ipython2",
   "version": "2.7.6"
  }
 },
 "nbformat": 4,
 "nbformat_minor": 5
}
