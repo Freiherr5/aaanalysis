{
 "cells": [
  {
   "cell_type": "markdown",
   "source": [
    "You can evaluate different sets of identified negative samples using the ``dPULearn.eval()`` method. Load first one of our example datasets with its respective features:"
   ],
   "metadata": {
    "collapsed": false
   },
   "id": "a19f2ce799dbc684"
  },
  {
   "cell_type": "code",
   "execution_count": null,
   "outputs": [],
   "source": [
    "import aaanalysis as aa\n",
    "aa.options[\"verbose\"] = False\n",
    "# Dataset with positive (γ-secretase substrates)\n",
    "# and unlabeled data (proteins with unknown substrate status)\n",
    "df_seq = aa.load_dataset(name=\"DOM_GSEC_PU\")\n",
    "labels = df_seq[\"label\"].to_numpy()\n",
    "n_pos = sum([x == 1 for x in labels])\n",
    "df_feat = aa.load_features(name=\"DOM_GSEC\")\n",
    "aa.display_df(df_seq)"
   ],
   "metadata": {
    "collapsed": false
   },
   "id": "c32fb3793767bf1b"
  },
  {
   "cell_type": "markdown",
   "source": [
    "Create features using "
   ],
   "metadata": {
    "collapsed": false
   },
   "id": "670909195bb0db8a"
  },
  {
   "cell_type": "code",
   "execution_count": null,
   "outputs": [],
   "source": [],
   "metadata": {
    "collapsed": false
   },
   "id": "23414c45576fd3"
  },
  {
   "cell_type": "code",
   "execution_count": null,
   "outputs": [],
   "source": [
    "_df_seq = aa.load_dataset(name=\"DOM_GSEC\")\n"
   ],
   "metadata": {
    "collapsed": false
   },
   "id": "f23e51be269a0095"
  }
 ],
 "metadata": {
  "kernelspec": {
   "display_name": "Python 3",
   "language": "python",
   "name": "python3"
  },
  "language_info": {
   "codemirror_mode": {
    "name": "ipython",
    "version": 2
   },
   "file_extension": ".py",
   "mimetype": "text/x-python",
   "name": "python",
   "nbconvert_exporter": "python",
   "pygments_lexer": "ipython2",
   "version": "2.7.6"
  }
 },
 "nbformat": 4,
 "nbformat_minor": 5
}
