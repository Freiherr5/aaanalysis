{
 "cells": [
  {
   "cell_type": "markdown",
   "source": [
    "To demonstrate the ``SequenceFeature().get_df_feat()`` method, we load the ``DOM_GSEC`` example dataset including its respective features  (see [Breimann24c]_):"
   ],
   "metadata": {
    "collapsed": false
   },
   "id": "a533611595b10bcd"
  },
  {
   "cell_type": "code",
   "execution_count": 9,
   "outputs": [
    {
     "data": {
      "text/plain": "<IPython.core.display.HTML object>",
      "text/html": "<style type=\"text/css\">\n#T_c3910 thead th {\n  background-color: white;\n  color: black;\n}\n#T_c3910 tbody tr:nth-child(odd) {\n  background-color: #f2f2f2;\n}\n#T_c3910 tbody tr:nth-child(even) {\n  background-color: white;\n}\n#T_c3910 th {\n  padding: 5px;\n  white-space: nowrap;\n}\n#T_c3910  td {\n  padding: 5px;\n  white-space: nowrap;\n}\n#T_c3910 table {\n  font-size: 12px;\n}\n</style>\n<table id=\"T_c3910\" style='display:block; max-height: 300px; max-width: 100%; overflow-x: auto; overflow-y: auto;'>\n  <thead>\n    <tr>\n      <th class=\"blank level0\" >&nbsp;</th>\n      <th id=\"T_c3910_level0_col0\" class=\"col_heading level0 col0\" >feature</th>\n      <th id=\"T_c3910_level0_col1\" class=\"col_heading level0 col1\" >category</th>\n      <th id=\"T_c3910_level0_col2\" class=\"col_heading level0 col2\" >subcategory</th>\n      <th id=\"T_c3910_level0_col3\" class=\"col_heading level0 col3\" >scale_name</th>\n      <th id=\"T_c3910_level0_col4\" class=\"col_heading level0 col4\" >scale_description</th>\n      <th id=\"T_c3910_level0_col5\" class=\"col_heading level0 col5\" >abs_auc</th>\n      <th id=\"T_c3910_level0_col6\" class=\"col_heading level0 col6\" >abs_mean_dif</th>\n      <th id=\"T_c3910_level0_col7\" class=\"col_heading level0 col7\" >mean_dif</th>\n      <th id=\"T_c3910_level0_col8\" class=\"col_heading level0 col8\" >std_test</th>\n      <th id=\"T_c3910_level0_col9\" class=\"col_heading level0 col9\" >std_ref</th>\n      <th id=\"T_c3910_level0_col10\" class=\"col_heading level0 col10\" >p_val_mann_whitney</th>\n      <th id=\"T_c3910_level0_col11\" class=\"col_heading level0 col11\" >p_val_fdr_bh</th>\n      <th id=\"T_c3910_level0_col12\" class=\"col_heading level0 col12\" >positions</th>\n      <th id=\"T_c3910_level0_col13\" class=\"col_heading level0 col13\" >feat_importance</th>\n      <th id=\"T_c3910_level0_col14\" class=\"col_heading level0 col14\" >feat_importance_std</th>\n    </tr>\n  </thead>\n  <tbody>\n    <tr>\n      <th id=\"T_c3910_level0_row0\" class=\"row_heading level0 row0\" >1</th>\n      <td id=\"T_c3910_row0_col0\" class=\"data row0 col0\" >TMD_C_JMD_C-...)-KLEP840101</td>\n      <td id=\"T_c3910_row0_col1\" class=\"data row0 col1\" >Energy</td>\n      <td id=\"T_c3910_row0_col2\" class=\"data row0 col2\" >Charge</td>\n      <td id=\"T_c3910_row0_col3\" class=\"data row0 col3\" >Charge</td>\n      <td id=\"T_c3910_row0_col4\" class=\"data row0 col4\" >Net charge (...t al., 1984)</td>\n      <td id=\"T_c3910_row0_col5\" class=\"data row0 col5\" >0.244000</td>\n      <td id=\"T_c3910_row0_col6\" class=\"data row0 col6\" >0.104000</td>\n      <td id=\"T_c3910_row0_col7\" class=\"data row0 col7\" >0.104000</td>\n      <td id=\"T_c3910_row0_col8\" class=\"data row0 col8\" >0.107000</td>\n      <td id=\"T_c3910_row0_col9\" class=\"data row0 col9\" >0.111000</td>\n      <td id=\"T_c3910_row0_col10\" class=\"data row0 col10\" >0.000000</td>\n      <td id=\"T_c3910_row0_col11\" class=\"data row0 col11\" >0.000000</td>\n      <td id=\"T_c3910_row0_col12\" class=\"data row0 col12\" >31,32,33,34,35</td>\n      <td id=\"T_c3910_row0_col13\" class=\"data row0 col13\" >0.970000</td>\n      <td id=\"T_c3910_row0_col14\" class=\"data row0 col14\" >1.439000</td>\n    </tr>\n    <tr>\n      <th id=\"T_c3910_level0_row1\" class=\"row_heading level0 row1\" >2</th>\n      <td id=\"T_c3910_row1_col0\" class=\"data row1 col0\" >TMD_C_JMD_C-...)-FINA910104</td>\n      <td id=\"T_c3910_row1_col1\" class=\"data row1 col1\" >Conformation</td>\n      <td id=\"T_c3910_row1_col2\" class=\"data row1 col2\" >α-helix (C-cap)</td>\n      <td id=\"T_c3910_row1_col3\" class=\"data row1 col3\" >α-helix termination</td>\n      <td id=\"T_c3910_row1_col4\" class=\"data row1 col4\" >Helix termin...t al., 1991)</td>\n      <td id=\"T_c3910_row1_col5\" class=\"data row1 col5\" >0.243000</td>\n      <td id=\"T_c3910_row1_col6\" class=\"data row1 col6\" >0.085000</td>\n      <td id=\"T_c3910_row1_col7\" class=\"data row1 col7\" >0.085000</td>\n      <td id=\"T_c3910_row1_col8\" class=\"data row1 col8\" >0.099000</td>\n      <td id=\"T_c3910_row1_col9\" class=\"data row1 col9\" >0.097000</td>\n      <td id=\"T_c3910_row1_col10\" class=\"data row1 col10\" >0.000000</td>\n      <td id=\"T_c3910_row1_col11\" class=\"data row1 col11\" >0.000000</td>\n      <td id=\"T_c3910_row1_col12\" class=\"data row1 col12\" >31,32,33,34,35</td>\n      <td id=\"T_c3910_row1_col13\" class=\"data row1 col13\" >0.000000</td>\n      <td id=\"T_c3910_row1_col14\" class=\"data row1 col14\" >0.000000</td>\n    </tr>\n    <tr>\n      <th id=\"T_c3910_level0_row2\" class=\"row_heading level0 row2\" >3</th>\n      <td id=\"T_c3910_row2_col0\" class=\"data row2 col0\" >TMD_C_JMD_C-...)-LEVM760105</td>\n      <td id=\"T_c3910_row2_col1\" class=\"data row2 col1\" >Shape</td>\n      <td id=\"T_c3910_row2_col2\" class=\"data row2 col2\" >Side chain length</td>\n      <td id=\"T_c3910_row2_col3\" class=\"data row2 col3\" >Side chain length</td>\n      <td id=\"T_c3910_row2_col4\" class=\"data row2 col4\" >Radius of gy...evitt, 1976)</td>\n      <td id=\"T_c3910_row2_col5\" class=\"data row2 col5\" >0.233000</td>\n      <td id=\"T_c3910_row2_col6\" class=\"data row2 col6\" >0.137000</td>\n      <td id=\"T_c3910_row2_col7\" class=\"data row2 col7\" >0.137000</td>\n      <td id=\"T_c3910_row2_col8\" class=\"data row2 col8\" >0.162000</td>\n      <td id=\"T_c3910_row2_col9\" class=\"data row2 col9\" >0.177000</td>\n      <td id=\"T_c3910_row2_col10\" class=\"data row2 col10\" >0.000000</td>\n      <td id=\"T_c3910_row2_col11\" class=\"data row2 col11\" >0.000000</td>\n      <td id=\"T_c3910_row2_col12\" class=\"data row2 col12\" >32,33</td>\n      <td id=\"T_c3910_row2_col13\" class=\"data row2 col13\" >1.555000</td>\n      <td id=\"T_c3910_row2_col14\" class=\"data row2 col14\" >2.110000</td>\n    </tr>\n    <tr>\n      <th id=\"T_c3910_level0_row3\" class=\"row_heading level0 row3\" >4</th>\n      <td id=\"T_c3910_row3_col0\" class=\"data row3 col0\" >TMD_C_JMD_C-...)-HUTJ700102</td>\n      <td id=\"T_c3910_row3_col1\" class=\"data row3 col1\" >Energy</td>\n      <td id=\"T_c3910_row3_col2\" class=\"data row3 col2\" >Entropy</td>\n      <td id=\"T_c3910_row3_col3\" class=\"data row3 col3\" >Entropy</td>\n      <td id=\"T_c3910_row3_col4\" class=\"data row3 col4\" >Absolute ent...chens, 1970)</td>\n      <td id=\"T_c3910_row3_col5\" class=\"data row3 col5\" >0.229000</td>\n      <td id=\"T_c3910_row3_col6\" class=\"data row3 col6\" >0.098000</td>\n      <td id=\"T_c3910_row3_col7\" class=\"data row3 col7\" >0.098000</td>\n      <td id=\"T_c3910_row3_col8\" class=\"data row3 col8\" >0.107000</td>\n      <td id=\"T_c3910_row3_col9\" class=\"data row3 col9\" >0.125000</td>\n      <td id=\"T_c3910_row3_col10\" class=\"data row3 col10\" >0.000000</td>\n      <td id=\"T_c3910_row3_col11\" class=\"data row3 col11\" >0.000000</td>\n      <td id=\"T_c3910_row3_col12\" class=\"data row3 col12\" >31,32,33,34,35</td>\n      <td id=\"T_c3910_row3_col13\" class=\"data row3 col13\" >3.111000</td>\n      <td id=\"T_c3910_row3_col14\" class=\"data row3 col14\" >3.110000</td>\n    </tr>\n    <tr>\n      <th id=\"T_c3910_level0_row4\" class=\"row_heading level0 row4\" >5</th>\n      <td id=\"T_c3910_row4_col0\" class=\"data row4 col0\" >TMD_C_JMD_C-...)-RADA880106</td>\n      <td id=\"T_c3910_row4_col1\" class=\"data row4 col1\" >ASA/Volume</td>\n      <td id=\"T_c3910_row4_col2\" class=\"data row4 col2\" >Volume</td>\n      <td id=\"T_c3910_row4_col3\" class=\"data row4 col3\" >Accessible s...e area (ASA)</td>\n      <td id=\"T_c3910_row4_col4\" class=\"data row4 col4\" >Accessible s...enden, 1988)</td>\n      <td id=\"T_c3910_row4_col5\" class=\"data row4 col5\" >0.223000</td>\n      <td id=\"T_c3910_row4_col6\" class=\"data row4 col6\" >0.095000</td>\n      <td id=\"T_c3910_row4_col7\" class=\"data row4 col7\" >0.095000</td>\n      <td id=\"T_c3910_row4_col8\" class=\"data row4 col8\" >0.115000</td>\n      <td id=\"T_c3910_row4_col9\" class=\"data row4 col9\" >0.133000</td>\n      <td id=\"T_c3910_row4_col10\" class=\"data row4 col10\" >0.000000</td>\n      <td id=\"T_c3910_row4_col11\" class=\"data row4 col11\" >0.000000</td>\n      <td id=\"T_c3910_row4_col12\" class=\"data row4 col12\" >32,33</td>\n      <td id=\"T_c3910_row4_col13\" class=\"data row4 col13\" >0.000000</td>\n      <td id=\"T_c3910_row4_col14\" class=\"data row4 col14\" >0.000000</td>\n    </tr>\n  </tbody>\n</table>\n"
     },
     "metadata": {},
     "output_type": "display_data"
    }
   ],
   "source": [
    "import aaanalysis as aa\n",
    "aa.options[\"verbose\"] = False\n",
    "df_seq = aa.load_dataset(name=\"DOM_GSEC\")\n",
    "labels = df_seq[\"label\"].to_list()\n",
    "df_feat = aa.load_features(name=\"DOM_GSEC\")\n",
    "features = df_feat[\"feature\"].to_list()\n",
    "sf = aa.SequenceFeature()\n",
    "df_parts = sf.get_df_parts(df_seq=df_seq)\n",
    "aa.display_df(df_feat, n_rows=5)\n"
   ],
   "metadata": {
    "collapsed": false,
    "ExecuteTime": {
     "end_time": "2023-12-27T15:57:29.453485186Z",
     "start_time": "2023-12-27T15:57:29.262055905Z"
    }
   },
   "id": "106310b2803427d6"
  },
  {
   "cell_type": "markdown",
   "source": [
    "``features``, ``df_parts``, and the ``labels`` of the respective samples of the sequence DataFrame must be provided to retrieve the feature DataFrame:"
   ],
   "metadata": {
    "collapsed": false
   },
   "id": "c7a3de55d3655505"
  },
  {
   "cell_type": "code",
   "execution_count": 10,
   "outputs": [
    {
     "data": {
      "text/plain": "<IPython.core.display.HTML object>",
      "text/html": "<style type=\"text/css\">\n#T_d5e32 thead th {\n  background-color: white;\n  color: black;\n}\n#T_d5e32 tbody tr:nth-child(odd) {\n  background-color: #f2f2f2;\n}\n#T_d5e32 tbody tr:nth-child(even) {\n  background-color: white;\n}\n#T_d5e32 th {\n  padding: 5px;\n  white-space: nowrap;\n}\n#T_d5e32  td {\n  padding: 5px;\n  white-space: nowrap;\n}\n#T_d5e32 table {\n  font-size: 12px;\n}\n</style>\n<table id=\"T_d5e32\" style='display:block; max-height: 300px; max-width: 100%; overflow-x: auto; overflow-y: auto;'>\n  <thead>\n    <tr>\n      <th class=\"blank level0\" >&nbsp;</th>\n      <th id=\"T_d5e32_level0_col0\" class=\"col_heading level0 col0\" >feature</th>\n      <th id=\"T_d5e32_level0_col1\" class=\"col_heading level0 col1\" >category</th>\n      <th id=\"T_d5e32_level0_col2\" class=\"col_heading level0 col2\" >subcategory</th>\n      <th id=\"T_d5e32_level0_col3\" class=\"col_heading level0 col3\" >scale_name</th>\n      <th id=\"T_d5e32_level0_col4\" class=\"col_heading level0 col4\" >scale_description</th>\n      <th id=\"T_d5e32_level0_col5\" class=\"col_heading level0 col5\" >abs_auc</th>\n      <th id=\"T_d5e32_level0_col6\" class=\"col_heading level0 col6\" >abs_mean_dif</th>\n      <th id=\"T_d5e32_level0_col7\" class=\"col_heading level0 col7\" >mean_dif</th>\n      <th id=\"T_d5e32_level0_col8\" class=\"col_heading level0 col8\" >std_test</th>\n      <th id=\"T_d5e32_level0_col9\" class=\"col_heading level0 col9\" >std_ref</th>\n      <th id=\"T_d5e32_level0_col10\" class=\"col_heading level0 col10\" >p_val_mann_whitney</th>\n      <th id=\"T_d5e32_level0_col11\" class=\"col_heading level0 col11\" >p_val_fdr_bh</th>\n      <th id=\"T_d5e32_level0_col12\" class=\"col_heading level0 col12\" >positions</th>\n    </tr>\n  </thead>\n  <tbody>\n    <tr>\n      <th id=\"T_d5e32_level0_row0\" class=\"row_heading level0 row0\" >1</th>\n      <td id=\"T_d5e32_row0_col0\" class=\"data row0 col0\" >TMD_C_JMD_C-...)-KLEP840101</td>\n      <td id=\"T_d5e32_row0_col1\" class=\"data row0 col1\" >Energy</td>\n      <td id=\"T_d5e32_row0_col2\" class=\"data row0 col2\" >Charge</td>\n      <td id=\"T_d5e32_row0_col3\" class=\"data row0 col3\" >Charge</td>\n      <td id=\"T_d5e32_row0_col4\" class=\"data row0 col4\" >Net charge (...t al., 1984)</td>\n      <td id=\"T_d5e32_row0_col5\" class=\"data row0 col5\" >0.335000</td>\n      <td id=\"T_d5e32_row0_col6\" class=\"data row0 col6\" >0.168000</td>\n      <td id=\"T_d5e32_row0_col7\" class=\"data row0 col7\" >0.168000</td>\n      <td id=\"T_d5e32_row0_col8\" class=\"data row0 col8\" >0.107000</td>\n      <td id=\"T_d5e32_row0_col9\" class=\"data row0 col9\" >0.125000</td>\n      <td id=\"T_d5e32_row0_col10\" class=\"data row0 col10\" >0.000000</td>\n      <td id=\"T_d5e32_row0_col11\" class=\"data row0 col11\" >0.000000</td>\n      <td id=\"T_d5e32_row0_col12\" class=\"data row0 col12\" >31,32,33,34,35</td>\n    </tr>\n    <tr>\n      <th id=\"T_d5e32_level0_row1\" class=\"row_heading level0 row1\" >2</th>\n      <td id=\"T_d5e32_row1_col0\" class=\"data row1 col0\" >TMD_C_JMD_C-...)-FINA910104</td>\n      <td id=\"T_d5e32_row1_col1\" class=\"data row1 col1\" >Conformation</td>\n      <td id=\"T_d5e32_row1_col2\" class=\"data row1 col2\" >α-helix (C-cap)</td>\n      <td id=\"T_d5e32_row1_col3\" class=\"data row1 col3\" >α-helix termination</td>\n      <td id=\"T_d5e32_row1_col4\" class=\"data row1 col4\" >Helix termin...t al., 1991)</td>\n      <td id=\"T_d5e32_row1_col5\" class=\"data row1 col5\" >0.333000</td>\n      <td id=\"T_d5e32_row1_col6\" class=\"data row1 col6\" >0.151000</td>\n      <td id=\"T_d5e32_row1_col7\" class=\"data row1 col7\" >0.151000</td>\n      <td id=\"T_d5e32_row1_col8\" class=\"data row1 col8\" >0.099000</td>\n      <td id=\"T_d5e32_row1_col9\" class=\"data row1 col9\" >0.120000</td>\n      <td id=\"T_d5e32_row1_col10\" class=\"data row1 col10\" >0.000000</td>\n      <td id=\"T_d5e32_row1_col11\" class=\"data row1 col11\" >0.000000</td>\n      <td id=\"T_d5e32_row1_col12\" class=\"data row1 col12\" >31,32,33,34,35</td>\n    </tr>\n    <tr>\n      <th id=\"T_d5e32_level0_row2\" class=\"row_heading level0 row2\" >3</th>\n      <td id=\"T_d5e32_row2_col0\" class=\"data row2 col0\" >TMD_C_JMD_C-...)-LEVM760105</td>\n      <td id=\"T_d5e32_row2_col1\" class=\"data row2 col1\" >Shape</td>\n      <td id=\"T_d5e32_row2_col2\" class=\"data row2 col2\" >Side chain length</td>\n      <td id=\"T_d5e32_row2_col3\" class=\"data row2 col3\" >Side chain length</td>\n      <td id=\"T_d5e32_row2_col4\" class=\"data row2 col4\" >Radius of gy...evitt, 1976)</td>\n      <td id=\"T_d5e32_row2_col5\" class=\"data row2 col5\" >0.330000</td>\n      <td id=\"T_d5e32_row2_col6\" class=\"data row2 col6\" >0.247000</td>\n      <td id=\"T_d5e32_row2_col7\" class=\"data row2 col7\" >0.247000</td>\n      <td id=\"T_d5e32_row2_col8\" class=\"data row2 col8\" >0.162000</td>\n      <td id=\"T_d5e32_row2_col9\" class=\"data row2 col9\" >0.197000</td>\n      <td id=\"T_d5e32_row2_col10\" class=\"data row2 col10\" >0.000000</td>\n      <td id=\"T_d5e32_row2_col11\" class=\"data row2 col11\" >0.000000</td>\n      <td id=\"T_d5e32_row2_col12\" class=\"data row2 col12\" >32,33</td>\n    </tr>\n    <tr>\n      <th id=\"T_d5e32_level0_row3\" class=\"row_heading level0 row3\" >4</th>\n      <td id=\"T_d5e32_row3_col0\" class=\"data row3 col0\" >TMD_C_JMD_C-...)-HUTJ700102</td>\n      <td id=\"T_d5e32_row3_col1\" class=\"data row3 col1\" >Energy</td>\n      <td id=\"T_d5e32_row3_col2\" class=\"data row3 col2\" >Entropy</td>\n      <td id=\"T_d5e32_row3_col3\" class=\"data row3 col3\" >Entropy</td>\n      <td id=\"T_d5e32_row3_col4\" class=\"data row3 col4\" >Absolute ent...chens, 1970)</td>\n      <td id=\"T_d5e32_row3_col5\" class=\"data row3 col5\" >0.327000</td>\n      <td id=\"T_d5e32_row3_col6\" class=\"data row3 col6\" >0.162000</td>\n      <td id=\"T_d5e32_row3_col7\" class=\"data row3 col7\" >0.162000</td>\n      <td id=\"T_d5e32_row3_col8\" class=\"data row3 col8\" >0.107000</td>\n      <td id=\"T_d5e32_row3_col9\" class=\"data row3 col9\" >0.135000</td>\n      <td id=\"T_d5e32_row3_col10\" class=\"data row3 col10\" >0.000000</td>\n      <td id=\"T_d5e32_row3_col11\" class=\"data row3 col11\" >0.000000</td>\n      <td id=\"T_d5e32_row3_col12\" class=\"data row3 col12\" >31,32,33,34,35</td>\n    </tr>\n    <tr>\n      <th id=\"T_d5e32_level0_row4\" class=\"row_heading level0 row4\" >5</th>\n      <td id=\"T_d5e32_row4_col0\" class=\"data row4 col0\" >TMD_C_JMD_C-...)-RADA880106</td>\n      <td id=\"T_d5e32_row4_col1\" class=\"data row4 col1\" >ASA/Volume</td>\n      <td id=\"T_d5e32_row4_col2\" class=\"data row4 col2\" >Volume</td>\n      <td id=\"T_d5e32_row4_col3\" class=\"data row4 col3\" >Accessible s...e area (ASA)</td>\n      <td id=\"T_d5e32_row4_col4\" class=\"data row4 col4\" >Accessible s...enden, 1988)</td>\n      <td id=\"T_d5e32_row4_col5\" class=\"data row4 col5\" >0.322000</td>\n      <td id=\"T_d5e32_row4_col6\" class=\"data row4 col6\" >0.184000</td>\n      <td id=\"T_d5e32_row4_col7\" class=\"data row4 col7\" >0.184000</td>\n      <td id=\"T_d5e32_row4_col8\" class=\"data row4 col8\" >0.115000</td>\n      <td id=\"T_d5e32_row4_col9\" class=\"data row4 col9\" >0.165000</td>\n      <td id=\"T_d5e32_row4_col10\" class=\"data row4 col10\" >0.000000</td>\n      <td id=\"T_d5e32_row4_col11\" class=\"data row4 col11\" >0.000000</td>\n      <td id=\"T_d5e32_row4_col12\" class=\"data row4 col12\" >32,33</td>\n    </tr>\n  </tbody>\n</table>\n"
     },
     "metadata": {},
     "output_type": "display_data"
    }
   ],
   "source": [
    "df_feat = sf.get_df_feat(features=features, df_parts=df_parts, labels=labels)\n",
    "aa.display_df(df_feat, n_rows=5)"
   ],
   "metadata": {
    "collapsed": false,
    "ExecuteTime": {
     "end_time": "2023-12-27T15:57:38.159033884Z",
     "start_time": "2023-12-27T15:57:30.274541501Z"
    }
   },
   "id": "e5cea0c8ffa97d68"
  }
 ],
 "metadata": {
  "kernelspec": {
   "display_name": "Python 3",
   "language": "python",
   "name": "python3"
  },
  "language_info": {
   "codemirror_mode": {
    "name": "ipython",
    "version": 2
   },
   "file_extension": ".py",
   "mimetype": "text/x-python",
   "name": "python",
   "nbconvert_exporter": "python",
   "pygments_lexer": "ipython2",
   "version": "2.7.6"
  }
 },
 "nbformat": 4,
 "nbformat_minor": 5
}
