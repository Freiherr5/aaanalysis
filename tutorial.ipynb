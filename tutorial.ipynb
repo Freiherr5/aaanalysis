{
 "cells": [
  {
   "cell_type": "code",
   "execution_count": 1,
   "outputs": [],
   "source": [
    "import numpy as np\n",
    "from sklearn.cluster import AgglomerativeClustering\n",
    "from sklearn.ensemble import RandomForestClassifier\n",
    "from sklearn.model_selection import cross_val_score\n",
    "\n",
    "import aaanalysis as aa"
   ],
   "metadata": {
    "collapsed": false,
    "pycharm": {
     "name": "#%%\n"
    }
   }
  },
  {
   "cell_type": "code",
   "execution_count": 10,
   "outputs": [
    {
     "name": "stdout",
     "output_type": "stream",
     "text": [
      "    YUTK870101  BROC820101  ISOY800101  NISK860101  CHOP780203  MIYS990104  \\\n",
      "AA                                                                           \n",
      "A        0.506       0.565       0.908       0.406       0.248       0.479   \n",
      "C        0.655       0.000       0.454       0.906       0.450       0.000   \n",
      "D        0.506       0.216       0.532       0.006       0.963       0.803   \n",
      "E        0.524       0.072       0.979       0.055       0.440       0.859   \n",
      "F        0.667       0.973       0.688       0.968       0.174       0.000   \n",
      "G        0.423       0.274       0.135       0.262       1.000       0.662   \n",
      "H        0.601       0.243       0.553       0.559       0.440       0.479   \n",
      "I        1.000       0.541       0.582       1.000       0.000       0.056   \n",
      "K        0.470       0.188       0.716       0.000       0.661       1.000   \n",
      "L        0.893       1.000       0.759       0.942       0.028       0.014   \n",
      "M        0.792       0.507       1.000       0.788       0.119       0.113   \n",
      "N        0.488       0.120       0.248       0.157       0.908       0.718   \n",
      "P        0.488       0.490       0.000       0.118       1.000       0.803   \n",
      "Q        0.375       0.305       0.723       0.145       0.450       0.732   \n",
      "R        0.000       0.192       0.652       0.333       0.495       0.634   \n",
      "S        0.440       0.175       0.284       0.137       0.881       0.704   \n",
      "T        0.524       0.342       0.433       0.305       0.468       0.577   \n",
      "V        0.714       0.435       0.482       0.884       0.110       0.127   \n",
      "W        0.589       0.873       0.567       0.961       0.119       0.070   \n",
      "Y        0.524       0.517       0.319       0.649       0.615       0.127   \n",
      "\n",
      "    FAUJ880103  MUNV940105  LINS030109  CEDJ970104  \n",
      "AA                                                  \n",
      "A        0.124       0.175       0.149       0.905  \n",
      "C        0.301       0.089       0.000       0.095  \n",
      "D        0.344       0.337       0.809       0.581  \n",
      "E        0.468       0.182       0.894       0.797  \n",
      "F        0.729       0.066       0.000       0.365  \n",
      "G        0.000       0.393       0.298       0.797  \n",
      "H        0.577       0.125       0.489       0.122  \n",
      "I        0.495       0.050       0.000       0.541  \n",
      "K        0.590       0.155       1.000       0.743  \n",
      "L        0.495       0.152       0.021       1.000  \n",
      "M        0.548       0.083       0.043       0.162  \n",
      "N        0.365       0.244       0.745       0.378  \n",
      "P        0.337       1.000       0.319       0.554  \n",
      "Q        0.489       0.152       0.787       0.432  \n",
      "R        0.759       0.119       0.745       0.500  \n",
      "S        0.198       0.109       0.489       0.730  \n",
      "T        0.322       0.040       0.404       0.554  \n",
      "V        0.371       0.000       0.021       0.757  \n",
      "W        1.000       0.076       0.191       0.000  \n",
      "Y        0.801       0.036       0.319       0.257  \n"
     ]
    }
   ],
   "source": [
    "# Load scales and scale categories from AAanalysis\n",
    "df_scales = aa.load_scales()\n",
    "df_cat = aa.load_scales(name=\"scale_classification\")\n",
    "# Select scales using AAclust\n",
    "aac = aa.AAclust(model=AgglomerativeClustering, model_kwargs=dict(linkage=\"ward\"))\n",
    "X = np.array(df_scales).T\n",
    "scales = aac.fit(X, n_clusters=10, names=list(df_scales))   # Number of clusters = number of selected scales (100 is recommended)\n",
    "df_cat = df_cat[df_cat[\"scale_id\"].isin(scales)]\n",
    "df_scales = df_scales[scales]\n",
    "# Load training data\n",
    "df_info = aa.load_dataset()\n",
    "df = aa.load_dataset(name=\"SEQ_DISULFIDE\", min_len=300, n=100)\n",
    "print(df_scales)"
   ],
   "metadata": {
    "collapsed": false,
    "pycharm": {
     "name": "#%%\n"
    }
   }
  },
  {
   "cell_type": "code",
   "execution_count": 11,
   "outputs": [],
   "source": [
    "# Feature Engineering\n",
    "y = list(df[\"label\"])\n",
    "sf = aa.SequenceFeature()\n",
    "df_parts = sf.get_df_parts(df_seq=df, jmd_n_len=50, jmd_c_len=50)\n",
    "args = dict(df_scales=df_scales, df_parts=df_parts, accept_gaps=True)"
   ],
   "metadata": {
    "collapsed": false,
    "pycharm": {
     "name": "#%%\n"
    }
   }
  },
  {
   "cell_type": "code",
   "execution_count": 12,
   "outputs": [
    {
     "name": "stdout",
     "output_type": "stream",
     "text": [
      "1. CPP creates 30 features for 200 samples\n",
      "   |#########################| 100.00%\n",
      "2. CPP pre-filters 1 features (5%) with highest 'abs_mean_dif' and 'max_std_test' <= 0.2\n",
      "3. CPP filtering algorithm\n",
      "4. CPP returns df with 1 unique features including general information and statistics\n",
      "0.5549999999999999\n"
     ]
    }
   ],
   "source": [
    "# Small set of features (300 features created)\n",
    "split_kws = sf.get_split_kws(n_split_max=1, split_types=[\"Segment\"])\n",
    "cpp = aa.CPP(df_cat=df_cat, **args, split_kws=split_kws)\n",
    "df_feat = cpp.run(labels=y, tmd_len=200, n_processes=8)\n",
    "X = sf.feat_matrix(**args, features=df_feat[\"feature\"])\n",
    "# ML evaluation\n",
    "rf = RandomForestClassifier()\n",
    "cv = cross_val_score(rf, X, y, scoring=\"accuracy\", cv=5, n_jobs=8) # Set n_jobs=1 to disable multi-processing\n",
    "print(np.mean(cv))\n"
   ],
   "metadata": {
    "collapsed": false,
    "pycharm": {
     "name": "#%%\n"
    }
   }
  },
  {
   "cell_type": "code",
   "execution_count": 13,
   "outputs": [
    {
     "name": "stdout",
     "output_type": "stream",
     "text": [
      "1. CPP creates 9900 features for 200 samples\n",
      "   |#########################| 100.00%\n",
      "2. CPP pre-filters 495 features (5%) with highest 'abs_mean_dif' and 'max_std_test' <= 0.2\n",
      "3. CPP filtering algorithm\n",
      "4. CPP returns df with 32 unique features including general information and statistics\n",
      "0.71\n"
     ]
    }
   ],
   "source": [
    "# Default set of features (around 100.000 features created)\n",
    "split_kws = sf.get_split_kws()\n",
    "cpp = aa.CPP(df_cat=df_cat, **args, split_kws=split_kws)\n",
    "df_feat = cpp.run(labels=y, tmd_len=200, n_processes=8)\n",
    "X = sf.feat_matrix(**args, features=df_feat[\"feature\"])\n",
    "# ML evaluation\n",
    "rf = RandomForestClassifier()\n",
    "cv = cross_val_score(rf, X, y, scoring=\"accuracy\", cv=5, n_jobs=1)  # Set n_jobs=1 to disable multi-processing\n",
    "print(np.mean(cv))"
   ],
   "metadata": {
    "collapsed": false,
    "pycharm": {
     "name": "#%%\n"
    }
   }
  },
  {
   "cell_type": "code",
   "execution_count": null,
   "outputs": [],
   "source": [],
   "metadata": {
    "collapsed": false,
    "pycharm": {
     "name": "#%%\n"
    }
   }
  }
 ],
 "metadata": {
  "kernelspec": {
   "display_name": "Python 3",
   "language": "python",
   "name": "python3"
  },
  "language_info": {
   "codemirror_mode": {
    "name": "ipython",
    "version": 2
   },
   "file_extension": ".py",
   "mimetype": "text/x-python",
   "name": "python",
   "nbconvert_exporter": "python",
   "pygments_lexer": "ipython2",
   "version": "2.7.6"
  }
 },
 "nbformat": 4,
 "nbformat_minor": 0
}