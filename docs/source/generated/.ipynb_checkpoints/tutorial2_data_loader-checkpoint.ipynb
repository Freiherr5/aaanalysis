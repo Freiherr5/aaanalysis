{
 "cells": [
  {
   "cell_type": "markdown",
   "metadata": {
    "pycharm": {
     "name": "#%% md\n"
    }
   },
   "source": [
    "# Data loading\n",
    "\n",
    "An overview of the benchmark datasets are provided by default:"
   ]
  },
  {
   "cell_type": "code",
   "execution_count": 2,
   "metadata": {
    "execution": {
     "iopub.execute_input": "2023-09-21T14:43:05.344688Z",
     "iopub.status.busy": "2023-09-21T14:43:05.343945Z",
     "iopub.status.idle": "2023-09-21T14:43:07.135371Z",
     "shell.execute_reply": "2023-09-21T14:43:07.134227Z"
    },
    "pycharm": {
     "is_executing": true,
     "name": "#%%\n"
    }
   },
   "outputs": [
    {
     "name": "stdout",
     "output_type": "stream",
     "text": [
      "         Level        Dataset  # Sequences  # Amino acids  # Positives  \\\n",
      "0   Amino acid    AA_CASPASE3          233         185605          705   \n",
      "1   Amino acid       AA_FURIN           71          59003          163   \n",
      "2   Amino acid         AA_LDR          342         118248        35469   \n",
      "3   Amino acid        AA_MMP2          573         312976         2416   \n",
      "4   Amino acid     AA_RNABIND          221          55001         6492   \n",
      "5   Amino acid          AA_SA          233         185605       101082   \n",
      "6     Sequence      SEQ_AMYLO         1414           8484          511   \n",
      "7     Sequence     SEQ_CAPSID         7935        3364680         3864   \n",
      "8     Sequence  SEQ_DISULFIDE         2547         614470          897   \n",
      "9     Sequence   SEQ_LOCATION         1835         732398         1045   \n",
      "10    Sequence    SEQ_SOLUBLE        17408        4432269         8704   \n",
      "11    Sequence       SEQ_TAIL         6668        2671690         2574   \n",
      "\n",
      "    # Negatives    Predictor  \\\n",
      "0        184900   PROSPERous   \n",
      "1         58840   PROSPERous   \n",
      "2         82779  IDP-Seq2Seq   \n",
      "3        310560   PROSPERous   \n",
      "4         48509    GMKSVM-RU   \n",
      "5         84523   PROSPERous   \n",
      "6           903    ReRF-Pred   \n",
      "7          4071     VIRALpro   \n",
      "8          1650        Dipro   \n",
      "9           790          NaN   \n",
      "10         8704       SOLpro   \n",
      "11         4094     VIRALpro   \n",
      "\n",
      "                                          Description          Publication  \\\n",
      "0               Prediction of caspase-3 cleavage site    Song et al., 2018   \n",
      "1                   Prediction of furin cleavage site    Song et al., 2018   \n",
      "2   Prediction of long intrinsically disordered re...    Tang et al., 2020   \n",
      "3   Prediction of Matrix metallopeptidase-2 (MMP2)...    Song et al., 2018   \n",
      "4   Prediction of RNA-binding protein residues (RB...    Yang et al., 2021   \n",
      "5   Prediction of solvent accessibility (SA) of re...    Song et al., 2018   \n",
      "6                Prediction of amyloidognenic regions     Teng et al. 2021   \n",
      "7                      Prediction of capdsid proteins  Galiez et al., 2016   \n",
      "8        Prediction of disulfide bridges in sequences   Cheng et al., 2006   \n",
      "9   Prediction of subcellular location of protein ...    Shen et al., 2019   \n",
      "10       Prediction of soluble and insoluble proteins  Magnan et al., 2009   \n",
      "11                        Prediction of tail proteins  Galiez et al., 2016   \n",
      "\n",
      "                                                Label  \n",
      "0   1 (adjacent to cleavage site), 0 (not adjacent...  \n",
      "1   1 (adjacent to cleavage site), 0 (not adjacent...  \n",
      "2                         1 (disordered), 0 (ordered)  \n",
      "3   1 (adjacent to cleavage site), 0 (not adjacent...  \n",
      "4                        1 (binding), 0 (non-binding)  \n",
      "5   1 (exposed/accessible), 0 (buried/non-accessible)  \n",
      "6            1 (amyloidogenic), 0 (non-amyloidogenic)  \n",
      "7          1 (capsid protein), 0 (non-capsid protein)  \n",
      "8   1 (sequence with SS bond), 0 (sequence without...  \n",
      "9   1 (protein in cytoplasm), 0 (protein in plasma...  \n",
      "10                         1 (soluble), 0 (insoluble)  \n",
      "11             1 (tail protein), 0 (non-tail protein)  \n"
     ]
    }
   ],
   "source": [
    "import aaanalysis as aa\n",
    "df_info = aa.load_dataset()\n",
    "print(df_info)"
   ]
  },
  {
   "cell_type": "markdown",
   "metadata": {
    "pycharm": {
     "name": "#%% md\n"
    }
   },
   "source": [
    "Benchmark datasets are categorized into amino acid ('AA'), domain ('DOM'), and sequence ('SEQ') level datasets, indicated name suffix."
   ]
  },
  {
   "cell_type": "code",
   "execution_count": 3,
   "metadata": {
    "execution": {
     "iopub.execute_input": "2023-09-21T14:43:07.141755Z",
     "iopub.status.busy": "2023-09-21T14:43:07.141246Z",
     "iopub.status.idle": "2023-09-21T14:43:07.329626Z",
     "shell.execute_reply": "2023-09-21T14:43:07.328563Z"
    },
    "pycharm": {
     "name": "#%%\n"
    }
   },
   "outputs": [
    {
     "ename": "ValueError",
     "evalue": "'name' (DOM_GSEC) is not valid.\n Amino acid datasets: ['AA_RNABIND', 'AA_CASPASE3', 'AA_LDR', 'AA_FURIN', 'AA_SA', 'AA_MMP2', 'LDR_AA', 'RNABIND_AA']\n Sequence datasets: ['DISULFIDE_SEQ', 'LOCATION_SEQ_MULTI', 'GSEC_SUB_SEQ', 'SEQ_AMYLO', 'SEQ_TAIL', 'CAPSID_SEQ', 'SOLUBLE_SEQ', 'AMYLO_SEQ', 'SEQ_DISULFIDE', 'SEQ_CAPSID', 'SEQ_LOCATION', 'SEQ_SOLUBLE']",
     "output_type": "error",
     "traceback": [
      "\u001b[0;31m---------------------------------------------------------------------------\u001b[0m",
      "\u001b[0;31mValueError\u001b[0m                                Traceback (most recent call last)",
      "\u001b[0;32m/tmp/ipykernel_17408/2438088232.py\u001b[0m in \u001b[0;36m<module>\u001b[0;34m\u001b[0m\n\u001b[1;32m      1\u001b[0m \u001b[0mdf_seq1\u001b[0m \u001b[0;34m=\u001b[0m \u001b[0maa\u001b[0m\u001b[0;34m.\u001b[0m\u001b[0mload_dataset\u001b[0m\u001b[0;34m(\u001b[0m\u001b[0mname\u001b[0m\u001b[0;34m=\u001b[0m\u001b[0;34m\"AA_FURIN\"\u001b[0m\u001b[0;34m)\u001b[0m\u001b[0;34m\u001b[0m\u001b[0;34m\u001b[0m\u001b[0m\n\u001b[1;32m      2\u001b[0m \u001b[0mdf_seq2\u001b[0m \u001b[0;34m=\u001b[0m \u001b[0maa\u001b[0m\u001b[0;34m.\u001b[0m\u001b[0mload_dataset\u001b[0m\u001b[0;34m(\u001b[0m\u001b[0mname\u001b[0m\u001b[0;34m=\u001b[0m\u001b[0;34m\"SEQ_AMYLO\"\u001b[0m\u001b[0;34m)\u001b[0m\u001b[0;34m\u001b[0m\u001b[0;34m\u001b[0m\u001b[0m\n\u001b[0;32m----> 3\u001b[0;31m \u001b[0mdf_seq3\u001b[0m \u001b[0;34m=\u001b[0m \u001b[0maa\u001b[0m\u001b[0;34m.\u001b[0m\u001b[0mload_dataset\u001b[0m\u001b[0;34m(\u001b[0m\u001b[0mname\u001b[0m\u001b[0;34m=\u001b[0m\u001b[0;34m\"DOM_GSEC\"\u001b[0m\u001b[0;34m)\u001b[0m\u001b[0;34m\u001b[0m\u001b[0;34m\u001b[0m\u001b[0m\n\u001b[0m",
      "\u001b[0;32m~/.local/lib/python3.8/site-packages/aaanalysis/data_loader/data_loader.py\u001b[0m in \u001b[0;36mload_dataset\u001b[0;34m(name, n, non_canonical_aa, min_len, max_len)\u001b[0m\n\u001b[1;32m     86\u001b[0m         \u001b[0mlist_aa\u001b[0m \u001b[0;34m=\u001b[0m \u001b[0;34m[\u001b[0m\u001b[0mx\u001b[0m \u001b[0;32mfor\u001b[0m \u001b[0mx\u001b[0m \u001b[0;32min\u001b[0m \u001b[0mlist_datasets\u001b[0m \u001b[0;32mif\u001b[0m \u001b[0;34m'AA'\u001b[0m \u001b[0;32min\u001b[0m \u001b[0mx\u001b[0m\u001b[0;34m]\u001b[0m\u001b[0;34m\u001b[0m\u001b[0;34m\u001b[0m\u001b[0m\n\u001b[1;32m     87\u001b[0m         \u001b[0mlist_seq\u001b[0m \u001b[0;34m=\u001b[0m \u001b[0;34m[\u001b[0m\u001b[0mx\u001b[0m \u001b[0;32mfor\u001b[0m \u001b[0mx\u001b[0m \u001b[0;32min\u001b[0m \u001b[0mlist_datasets\u001b[0m \u001b[0;32mif\u001b[0m \u001b[0;34m'SEQ'\u001b[0m \u001b[0;32min\u001b[0m \u001b[0mx\u001b[0m\u001b[0;34m]\u001b[0m\u001b[0;34m\u001b[0m\u001b[0;34m\u001b[0m\u001b[0m\n\u001b[0;32m---> 88\u001b[0;31m         \u001b[0;32mraise\u001b[0m \u001b[0mValueError\u001b[0m\u001b[0;34m(\u001b[0m\u001b[0;34mf\"'name' ({name}) is not valid.\\n Amino acid datasets: {list_aa}\\n Sequence datasets: {list_seq}\"\u001b[0m\u001b[0;34m)\u001b[0m\u001b[0;34m\u001b[0m\u001b[0;34m\u001b[0m\u001b[0m\n\u001b[0m\u001b[1;32m     89\u001b[0m     \u001b[0mdf\u001b[0m \u001b[0;34m=\u001b[0m \u001b[0mpd\u001b[0m\u001b[0;34m.\u001b[0m\u001b[0mread_csv\u001b[0m\u001b[0;34m(\u001b[0m\u001b[0mfolder_in\u001b[0m \u001b[0;34m+\u001b[0m \u001b[0mname\u001b[0m \u001b[0;34m+\u001b[0m \u001b[0;34m\".tsv\"\u001b[0m\u001b[0;34m,\u001b[0m \u001b[0msep\u001b[0m\u001b[0;34m=\u001b[0m\u001b[0;34m\"\\t\"\u001b[0m\u001b[0;34m)\u001b[0m\u001b[0;34m\u001b[0m\u001b[0;34m\u001b[0m\u001b[0m\n\u001b[1;32m     90\u001b[0m     \u001b[0;31m# Filter data\u001b[0m\u001b[0;34m\u001b[0m\u001b[0;34m\u001b[0m\u001b[0;34m\u001b[0m\u001b[0m\n",
      "\u001b[0;31mValueError\u001b[0m: 'name' (DOM_GSEC) is not valid.\n Amino acid datasets: ['AA_RNABIND', 'AA_CASPASE3', 'AA_LDR', 'AA_FURIN', 'AA_SA', 'AA_MMP2', 'LDR_AA', 'RNABIND_AA']\n Sequence datasets: ['DISULFIDE_SEQ', 'LOCATION_SEQ_MULTI', 'GSEC_SUB_SEQ', 'SEQ_AMYLO', 'SEQ_TAIL', 'CAPSID_SEQ', 'SOLUBLE_SEQ', 'AMYLO_SEQ', 'SEQ_DISULFIDE', 'SEQ_CAPSID', 'SEQ_LOCATION', 'SEQ_SOLUBLE']"
     ]
    }
   ],
   "source": [
    "df_seq1 = aa.load_dataset(name=\"AA_FURIN\")\n",
    "df_seq2 = aa.load_dataset(name=\"SEQ_AMYLO\")\n",
    "df_seq3 = aa.load_dataset(name=\"DOM_GSEC\")"
   ]
  },
  {
   "cell_type": "markdown",
   "metadata": {
    "pycharm": {
     "name": "#%% md\n"
    }
   },
   "source": [
    "For some datasets, an additional version of it is provided\n",
    "for positive-unlabeled (PU) learning containing only positive (1) and unlabeled (2) data samples, as indicated by\n",
    "*dataset_name_PU* (e.g., 'DOM_GSEC_PU').\n"
   ]
  }
 ],
 "metadata": {
  "kernelspec": {
   "display_name": "Python 3 (ipykernel)",
   "language": "python",
   "name": "python3"
  },
  "language_info": {
   "codemirror_mode": {
    "name": "ipython",
    "version": 3
   },
   "file_extension": ".py",
   "mimetype": "text/x-python",
   "name": "python",
   "nbconvert_exporter": "python",
   "pygments_lexer": "ipython3",
   "version": "3.8.10"
  }
 },
 "nbformat": 4,
 "nbformat_minor": 1
}
