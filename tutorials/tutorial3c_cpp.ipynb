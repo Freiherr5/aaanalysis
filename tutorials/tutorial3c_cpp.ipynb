{
 "cells": [
  {
   "cell_type": "markdown",
   "source": [
    "# CPP: Identification of physicochemical signatures\n"
   ],
   "metadata": {
    "collapsed": false
   },
   "id": "b38519f7d3c799f"
  },
  {
   "cell_type": "code",
   "execution_count": null,
   "outputs": [],
   "source": [
    "import aaanalysis as aa\n",
    "aa.options[\"verbose\"] = False"
   ],
   "metadata": {
    "collapsed": false
   },
   "id": "2e85c6105a2b0d72"
  },
  {
   "cell_type": "code",
   "execution_count": null,
   "outputs": [],
   "source": [],
   "metadata": {
    "collapsed": false
   },
   "id": "77d4469f2ffe8ab6"
  },
  {
   "cell_type": "markdown",
   "source": [
    "More details on the ``CPP`` and ``CPPPlot`` classes are given in the [Feature Engineering API](https://aaanalysis.readthedocs.io/en/latest/api.html#feature-engineering). To delve deeper into the feature concept, see the [CPP Usage Principles](https://aaanalysis.readthedocs.io/en/latest/index/usage_principles/feature_identification.html) section."
   ],
   "metadata": {
    "collapsed": false
   },
   "id": "6e586b90e77ac6b8"
  }
 ],
 "metadata": {
  "kernelspec": {
   "display_name": "Python 3",
   "language": "python",
   "name": "python3"
  },
  "language_info": {
   "codemirror_mode": {
    "name": "ipython",
    "version": 2
   },
   "file_extension": ".py",
   "mimetype": "text/x-python",
   "name": "python",
   "nbconvert_exporter": "python",
   "pygments_lexer": "ipython2",
   "version": "2.7.6"
  }
 },
 "nbformat": 4,
 "nbformat_minor": 5
}
