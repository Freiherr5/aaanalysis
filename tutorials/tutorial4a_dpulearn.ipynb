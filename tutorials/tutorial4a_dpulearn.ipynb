{
 "cells": [
  {
   "cell_type": "markdown",
   "source": [
    "# dPULearn: Learning from unbalanced data"
   ],
   "metadata": {
    "collapsed": false
   },
   "id": "73e105c6f7fd5e23"
  },
  {
   "cell_type": "code",
   "execution_count": null,
   "outputs": [],
   "source": [
    "import aaanalysis as aa\n",
    "aa.options[\"verbose\"] = False"
   ],
   "metadata": {
    "collapsed": false
   },
   "id": "c2c6ccc380acc6bc"
  },
  {
   "cell_type": "code",
   "execution_count": null,
   "outputs": [],
   "source": [],
   "metadata": {
    "collapsed": false
   },
   "id": "56b986172bbf9c42"
  },
  {
   "cell_type": "markdown",
   "source": [
    "More details on the ``dPULearn`` and ``dPULearn`` classes are given in the [PU Learning API](https://aaanalysis.readthedocs.io/en/latest/api.html#pu-learning). More background in PU learning are available in our [dPULearn Usage Principles](https://aaanalysis.readthedocs.io/en/latest/index/usage_principles/pu_learning.html) section."
   ],
   "metadata": {
    "collapsed": false
   },
   "id": "ff642742cfeeeded"
  }
 ],
 "metadata": {
  "kernelspec": {
   "display_name": "Python 3",
   "language": "python",
   "name": "python3"
  },
  "language_info": {
   "codemirror_mode": {
    "name": "ipython",
    "version": 2
   },
   "file_extension": ".py",
   "mimetype": "text/x-python",
   "name": "python",
   "nbconvert_exporter": "python",
   "pygments_lexer": "ipython2",
   "version": "2.7.6"
  }
 },
 "nbformat": 4,
 "nbformat_minor": 5
}
