{
 "cells": [
  {
   "cell_type": "markdown",
   "source": [
    "# Data loading\n",
    "This is a tutorial on loading of protein benchmark datasets.\n",
    "\n",
    "## Loading of protein benchmarks\n",
    "Load the overview table of protein benchmark datasets using the default settings:"
   ],
   "metadata": {
    "collapsed": false,
    "pycharm": {
     "name": "#%% md\n"
    }
   }
  },
  {
   "cell_type": "code",
   "execution_count": 120,
   "outputs": [
    {
     "data": {
      "text/plain": "         Level        Dataset  # Sequences  # Amino acids  # Positives  # Negatives    Predictor\n0   Amino acid    AA_CASPASE3          233         185605          705       184900   PROSPERous\n1   Amino acid       AA_FURIN           71          59003          163        58840   PROSPERous\n2   Amino acid         AA_LDR          342         118248        35469        82779  IDP-Seq2Seq\n3   Amino acid        AA_MMP2          573         312976         2416       310560   PROSPERous\n4   Amino acid     AA_RNABIND          221          55001         6492        48509    GMKSVM-RU\n5   Amino acid          AA_SA          233         185605       101082        84523   PROSPERous\n6     Sequence      SEQ_AMYLO         1414           8484          511          903    ReRF-Pred\n7     Sequence     SEQ_CAPSID         7935        3364680         3864         4071     VIRALpro\n8     Sequence  SEQ_DISULFIDE         2547         614470          897         1650        Dipro\n9     Sequence   SEQ_LOCATION         1835         732398         1045          790          NaN\n10    Sequence    SEQ_SOLUBLE        17408        4432269         8704         8704       SOLpro\n11    Sequence       SEQ_TAIL         6668        2671690         2574         4094     VIRALpro\n12      Domain       DOM_GSEC          126          92964           63           63          NaN",
      "text/html": "<div>\n<style scoped>\n    .dataframe tbody tr th:only-of-type {\n        vertical-align: middle;\n    }\n\n    .dataframe tbody tr th {\n        vertical-align: top;\n    }\n\n    .dataframe thead th {\n        text-align: right;\n    }\n</style>\n<table border=\"1\" class=\"dataframe\">\n  <thead>\n    <tr style=\"text-align: right;\">\n      <th></th>\n      <th>Level</th>\n      <th>Dataset</th>\n      <th># Sequences</th>\n      <th># Amino acids</th>\n      <th># Positives</th>\n      <th># Negatives</th>\n      <th>Predictor</th>\n    </tr>\n  </thead>\n  <tbody>\n    <tr>\n      <th>0</th>\n      <td>Amino acid</td>\n      <td>AA_CASPASE3</td>\n      <td>233</td>\n      <td>185605</td>\n      <td>705</td>\n      <td>184900</td>\n      <td>PROSPERous</td>\n    </tr>\n    <tr>\n      <th>1</th>\n      <td>Amino acid</td>\n      <td>AA_FURIN</td>\n      <td>71</td>\n      <td>59003</td>\n      <td>163</td>\n      <td>58840</td>\n      <td>PROSPERous</td>\n    </tr>\n    <tr>\n      <th>2</th>\n      <td>Amino acid</td>\n      <td>AA_LDR</td>\n      <td>342</td>\n      <td>118248</td>\n      <td>35469</td>\n      <td>82779</td>\n      <td>IDP-Seq2Seq</td>\n    </tr>\n    <tr>\n      <th>3</th>\n      <td>Amino acid</td>\n      <td>AA_MMP2</td>\n      <td>573</td>\n      <td>312976</td>\n      <td>2416</td>\n      <td>310560</td>\n      <td>PROSPERous</td>\n    </tr>\n    <tr>\n      <th>4</th>\n      <td>Amino acid</td>\n      <td>AA_RNABIND</td>\n      <td>221</td>\n      <td>55001</td>\n      <td>6492</td>\n      <td>48509</td>\n      <td>GMKSVM-RU</td>\n    </tr>\n    <tr>\n      <th>5</th>\n      <td>Amino acid</td>\n      <td>AA_SA</td>\n      <td>233</td>\n      <td>185605</td>\n      <td>101082</td>\n      <td>84523</td>\n      <td>PROSPERous</td>\n    </tr>\n    <tr>\n      <th>6</th>\n      <td>Sequence</td>\n      <td>SEQ_AMYLO</td>\n      <td>1414</td>\n      <td>8484</td>\n      <td>511</td>\n      <td>903</td>\n      <td>ReRF-Pred</td>\n    </tr>\n    <tr>\n      <th>7</th>\n      <td>Sequence</td>\n      <td>SEQ_CAPSID</td>\n      <td>7935</td>\n      <td>3364680</td>\n      <td>3864</td>\n      <td>4071</td>\n      <td>VIRALpro</td>\n    </tr>\n    <tr>\n      <th>8</th>\n      <td>Sequence</td>\n      <td>SEQ_DISULFIDE</td>\n      <td>2547</td>\n      <td>614470</td>\n      <td>897</td>\n      <td>1650</td>\n      <td>Dipro</td>\n    </tr>\n    <tr>\n      <th>9</th>\n      <td>Sequence</td>\n      <td>SEQ_LOCATION</td>\n      <td>1835</td>\n      <td>732398</td>\n      <td>1045</td>\n      <td>790</td>\n      <td>NaN</td>\n    </tr>\n    <tr>\n      <th>10</th>\n      <td>Sequence</td>\n      <td>SEQ_SOLUBLE</td>\n      <td>17408</td>\n      <td>4432269</td>\n      <td>8704</td>\n      <td>8704</td>\n      <td>SOLpro</td>\n    </tr>\n    <tr>\n      <th>11</th>\n      <td>Sequence</td>\n      <td>SEQ_TAIL</td>\n      <td>6668</td>\n      <td>2671690</td>\n      <td>2574</td>\n      <td>4094</td>\n      <td>VIRALpro</td>\n    </tr>\n    <tr>\n      <th>12</th>\n      <td>Domain</td>\n      <td>DOM_GSEC</td>\n      <td>126</td>\n      <td>92964</td>\n      <td>63</td>\n      <td>63</td>\n      <td>NaN</td>\n    </tr>\n  </tbody>\n</table>\n</div>"
     },
     "execution_count": 120,
     "metadata": {},
     "output_type": "execute_result"
    }
   ],
   "source": [
    "import aaanalysis as aa\n",
    "df_info = aa.load_dataset()\n",
    "df_info.iloc[:, :7].head(13)"
   ],
   "metadata": {
    "collapsed": false,
    "pycharm": {
     "name": "#%%\n",
     "is_executing": true
    },
    "ExecuteTime": {
     "end_time": "2023-09-22T17:34:59.574965501Z",
     "start_time": "2023-09-22T17:34:59.538074088Z"
    }
   }
  },
  {
   "cell_type": "markdown",
   "source": [
    "The benchmark datasets are categorized into amino acid ('AA'), domain ('DOM'), and sequence ('SEQ') level datasets, indicated by their `name` prefix, as exemplified here."
   ],
   "metadata": {
    "collapsed": false,
    "pycharm": {
     "name": "#%% md\n"
    }
   }
  },
  {
   "cell_type": "code",
   "execution_count": 121,
   "outputs": [
    {
     "data": {
      "text/plain": "      entry                                           sequence  label\n0  CAPSID_1  MVTHNVKINKHVTRRSYSSAKEVLEIPPLTEVQTASYKWFMDKGIK...      0\n1  CAPSID_2  MKKRQKKMTLSNFTDTSFQDFVSAEQVDDKSAMALINRAEDFKAGQ...      0",
      "text/html": "<div>\n<style scoped>\n    .dataframe tbody tr th:only-of-type {\n        vertical-align: middle;\n    }\n\n    .dataframe tbody tr th {\n        vertical-align: top;\n    }\n\n    .dataframe thead th {\n        text-align: right;\n    }\n</style>\n<table border=\"1\" class=\"dataframe\">\n  <thead>\n    <tr style=\"text-align: right;\">\n      <th></th>\n      <th>entry</th>\n      <th>sequence</th>\n      <th>label</th>\n    </tr>\n  </thead>\n  <tbody>\n    <tr>\n      <th>0</th>\n      <td>CAPSID_1</td>\n      <td>MVTHNVKINKHVTRRSYSSAKEVLEIPPLTEVQTASYKWFMDKGIK...</td>\n      <td>0</td>\n    </tr>\n    <tr>\n      <th>1</th>\n      <td>CAPSID_2</td>\n      <td>MKKRQKKMTLSNFTDTSFQDFVSAEQVDDKSAMALINRAEDFKAGQ...</td>\n      <td>0</td>\n    </tr>\n  </tbody>\n</table>\n</div>"
     },
     "execution_count": 121,
     "metadata": {},
     "output_type": "execute_result"
    }
   ],
   "source": [
    "df_seq1 = aa.load_dataset(name=\"AA_CASPASE3\")\n",
    "df_seq2 = aa.load_dataset(name=\"SEQ_CAPSID\")\n",
    "df_seq3 = aa.load_dataset(name=\"DOM_GSEC\")\n",
    "df_seq2.head(2)\n",
    "# Compare columns of three types"
   ],
   "metadata": {
    "collapsed": false,
    "pycharm": {
     "name": "#%%\n"
    },
    "ExecuteTime": {
     "end_time": "2023-09-22T17:35:01.389411916Z",
     "start_time": "2023-09-22T17:35:00.640460867Z"
    }
   }
  },
  {
   "cell_type": "markdown",
   "source": [
    "Each dataset can be utilized for a binary classification, with labels being positive (1) or negative (0). A balanced number of samples can be chosen by the `n` parameter, defining the sample number per class.  "
   ],
   "metadata": {
    "collapsed": false,
    "pycharm": {
     "name": "#%% md\n"
    }
   }
  },
  {
   "cell_type": "code",
   "execution_count": 122,
   "outputs": [
    {
     "data": {
      "text/plain": "label\n0    100\n1    100\nName: count, dtype: int64"
     },
     "execution_count": 122,
     "metadata": {},
     "output_type": "execute_result"
    }
   ],
   "source": [
    "df_seq = aa.load_dataset(name=\"SEQ_CAPSID\", n=100)\n",
    "# Returns 200 samples, 100 positives and 100 negatives\n",
    "df_seq[\"label\"].value_counts()"
   ],
   "metadata": {
    "collapsed": false,
    "ExecuteTime": {
     "end_time": "2023-09-22T17:35:01.779019219Z",
     "start_time": "2023-09-22T17:35:01.385876125Z"
    }
   }
  },
  {
   "cell_type": "markdown",
   "source": [
    "Or randomly selected using `random=True`:"
   ],
   "metadata": {
    "collapsed": false
   }
  },
  {
   "cell_type": "code",
   "execution_count": 123,
   "outputs": [],
   "source": [
    "df_seq = aa.load_dataset(name=\"SEQ_CAPSID\", n=100, random=True)"
   ],
   "metadata": {
    "collapsed": false,
    "ExecuteTime": {
     "end_time": "2023-09-22T17:35:02.095845084Z",
     "start_time": "2023-09-22T17:35:01.775890420Z"
    }
   }
  },
  {
   "cell_type": "markdown",
   "source": [
    "The protein sequences can have varying length:"
   ],
   "metadata": {
    "collapsed": false
   }
  },
  {
   "cell_type": "code",
   "execution_count": 135,
   "outputs": [
    {
     "data": {
      "text/plain": "<Figure size 640x480 with 1 Axes>",
      "image/png": "[encoded data removed]"
     },
     "metadata": {},
     "output_type": "display_data"
    }
   ],
   "source": [
    "# Plot distribution\n",
    "import warnings\n",
    "warnings.simplefilter(action='ignore', category=FutureWarning)\n",
    "import matplotlib.pyplot as plt\n",
    "import seaborn as sns\n",
    "# Utility AAanalysis function for publication ready plots\n",
    "aa.plot_settings(font_scale=1.2) \n",
    "df_seq = aa.load_dataset(name=\"SEQ_CAPSID\", n=100)\n",
    "list_seq_lens = df_seq[\"sequence\"].apply(len)\n",
    "sns.histplot(list_seq_lens, binwidth=50)\n",
    "sns.despine()\n",
    "plt.xlim(0, 1500)\n",
    "plt.show()"
   ],
   "metadata": {
    "collapsed": false,
    "ExecuteTime": {
     "end_time": "2023-09-22T17:44:28.757951811Z",
     "start_time": "2023-09-22T17:44:28.155498402Z"
    }
   }
  },
  {
   "cell_type": "markdown",
   "source": [
    "Which can be easily filtered using `min_len` and `max_len` parameters:"
   ],
   "metadata": {
    "collapsed": false
   }
  },
  {
   "cell_type": "code",
   "execution_count": 136,
   "outputs": [
    {
     "data": {
      "text/plain": "<Figure size 640x480 with 1 Axes>",
      "image/png": "[encoded data removed]"
     },
     "metadata": {},
     "output_type": "display_data"
    }
   ],
   "source": [
    "df_seq = aa.load_dataset(name=\"SEQ_CAPSID\", n=100, min_len=200, max_len=800)\n",
    "list_seq_lens = df_seq[\"sequence\"].apply(len)\n",
    "aa.plot_settings(font_scale=1.2)  # Utility AAanalysis function for publication ready plots\n",
    "sns.histplot(list_seq_lens, binwidth=50)\n",
    "sns.despine()\n",
    "plt.xlim(0, 1500)\n",
    "plt.show()"
   ],
   "metadata": {
    "collapsed": false,
    "ExecuteTime": {
     "end_time": "2023-09-22T17:44:38.966317377Z",
     "start_time": "2023-09-22T17:44:38.352038377Z"
    }
   }
  },
  {
   "cell_type": "markdown",
   "source": [
    "## Loading of protein benchmarks: Amino acid window size\n",
    "For amino acid level datasets, labels are provided for each residue position, which can be seen by setting `aa_window_size=None`:"
   ],
   "metadata": {
    "collapsed": false
   }
  },
  {
   "cell_type": "code",
   "execution_count": 126,
   "outputs": [
    {
     "data": {
      "text/plain": "        entry                                           sequence                                              label\n0  CASPASE3_1  MSLFDLFRGFFGFPGPRSHRDPFFGGMTRDEDDDEEEEEEGGSWGR...  0,0,0,0,0,0,0,0,0,0,0,0,0,0,0,0,0,0,0,0,0,0,0,...\n1  CASPASE3_2  MEVTGDAGVPESGEIRTLKPCLLRRNYSREQHGVAASCLEDLRSKA...  0,0,0,0,0,0,0,0,0,0,0,0,0,0,0,0,0,0,0,0,0,0,0,...\n2  CASPASE3_3  MRARSGARGALLLALLLCWDPTPSLAGIDSGGQALPDSFPSAPAEQ...  0,0,0,0,0,0,0,0,0,0,0,0,0,0,0,0,0,0,0,0,0,0,0,...\n3  CASPASE3_4  MDAKARNCLLQHREALEKDIKTSYIMDHMISDGFLTISEEEKVRNE...  0,0,0,0,0,0,0,0,0,0,0,0,0,0,0,0,0,0,0,0,0,0,0,...",
      "text/html": "<div>\n<style scoped>\n    .dataframe tbody tr th:only-of-type {\n        vertical-align: middle;\n    }\n\n    .dataframe tbody tr th {\n        vertical-align: top;\n    }\n\n    .dataframe thead th {\n        text-align: right;\n    }\n</style>\n<table border=\"1\" class=\"dataframe\">\n  <thead>\n    <tr style=\"text-align: right;\">\n      <th></th>\n      <th>entry</th>\n      <th>sequence</th>\n      <th>label</th>\n    </tr>\n  </thead>\n  <tbody>\n    <tr>\n      <th>0</th>\n      <td>CASPASE3_1</td>\n      <td>MSLFDLFRGFFGFPGPRSHRDPFFGGMTRDEDDDEEEEEEGGSWGR...</td>\n      <td>0,0,0,0,0,0,0,0,0,0,0,0,0,0,0,0,0,0,0,0,0,0,0,...</td>\n    </tr>\n    <tr>\n      <th>1</th>\n      <td>CASPASE3_2</td>\n      <td>MEVTGDAGVPESGEIRTLKPCLLRRNYSREQHGVAASCLEDLRSKA...</td>\n      <td>0,0,0,0,0,0,0,0,0,0,0,0,0,0,0,0,0,0,0,0,0,0,0,...</td>\n    </tr>\n    <tr>\n      <th>2</th>\n      <td>CASPASE3_3</td>\n      <td>MRARSGARGALLLALLLCWDPTPSLAGIDSGGQALPDSFPSAPAEQ...</td>\n      <td>0,0,0,0,0,0,0,0,0,0,0,0,0,0,0,0,0,0,0,0,0,0,0,...</td>\n    </tr>\n    <tr>\n      <th>3</th>\n      <td>CASPASE3_4</td>\n      <td>MDAKARNCLLQHREALEKDIKTSYIMDHMISDGFLTISEEEKVRNE...</td>\n      <td>0,0,0,0,0,0,0,0,0,0,0,0,0,0,0,0,0,0,0,0,0,0,0,...</td>\n    </tr>\n  </tbody>\n</table>\n</div>"
     },
     "execution_count": 126,
     "metadata": {},
     "output_type": "execute_result"
    }
   ],
   "source": [
    "df_seq = aa.load_dataset(name=\"AA_CASPASE3\", aa_window_size=None)\n",
    "df_seq.head(4)"
   ],
   "metadata": {
    "collapsed": false,
    "ExecuteTime": {
     "end_time": "2023-09-22T17:35:02.995490592Z",
     "start_time": "2023-09-22T17:35:02.854839351Z"
    }
   }
  },
  {
   "cell_type": "markdown",
   "source": [
    "For convenience, we provide an \"amino acid window\" of length n. This window represents a specific amino acid, which is flanked by (n-1)/2 residues on both its N-terminal and C-terminal sides. It's essential for n to be odd, ensuring equal residues on both sides. While the default window size is 9, sizes between 5 and 15 are also popular."
   ],
   "metadata": {
    "collapsed": false
   }
  },
  {
   "cell_type": "code",
   "execution_count": 127,
   "outputs": [
    {
     "data": {
      "text/plain": "             entry   sequence label\n0  CASPASE3_1_pos4  MSLFDLFRG     0\n1  CASPASE3_1_pos5  SLFDLFRGF     0\n2  CASPASE3_1_pos6  LFDLFRGFF     0\n3  CASPASE3_1_pos7  FDLFRGFFG     0",
      "text/html": "<div>\n<style scoped>\n    .dataframe tbody tr th:only-of-type {\n        vertical-align: middle;\n    }\n\n    .dataframe tbody tr th {\n        vertical-align: top;\n    }\n\n    .dataframe thead th {\n        text-align: right;\n    }\n</style>\n<table border=\"1\" class=\"dataframe\">\n  <thead>\n    <tr style=\"text-align: right;\">\n      <th></th>\n      <th>entry</th>\n      <th>sequence</th>\n      <th>label</th>\n    </tr>\n  </thead>\n  <tbody>\n    <tr>\n      <th>0</th>\n      <td>CASPASE3_1_pos4</td>\n      <td>MSLFDLFRG</td>\n      <td>0</td>\n    </tr>\n    <tr>\n      <th>1</th>\n      <td>CASPASE3_1_pos5</td>\n      <td>SLFDLFRGF</td>\n      <td>0</td>\n    </tr>\n    <tr>\n      <th>2</th>\n      <td>CASPASE3_1_pos6</td>\n      <td>LFDLFRGFF</td>\n      <td>0</td>\n    </tr>\n    <tr>\n      <th>3</th>\n      <td>CASPASE3_1_pos7</td>\n      <td>FDLFRGFFG</td>\n      <td>0</td>\n    </tr>\n  </tbody>\n</table>\n</div>"
     },
     "execution_count": 127,
     "metadata": {},
     "output_type": "execute_result"
    }
   ],
   "source": [
    "df_seq = aa.load_dataset(name=\"AA_CASPASE3\")\n",
    "df_seq.head(4)"
   ],
   "metadata": {
    "collapsed": false,
    "ExecuteTime": {
     "end_time": "2023-09-22T17:35:03.600212805Z",
     "start_time": "2023-09-22T17:35:02.993656585Z"
    }
   }
  },
  {
   "cell_type": "markdown",
   "source": [
    "Sequences can be pre-filtered using `min_len` and `max_len` and `n` residues can be randomly selected by `random` with different `aa_window_size`s."
   ],
   "metadata": {
    "collapsed": false
   }
  },
  {
   "cell_type": "code",
   "execution_count": 128,
   "outputs": [
    {
     "data": {
      "text/plain": "                entry               sequence label\n0  CASPASE3_55_pos170  KKRKLEEEEDGKLKKPKNKDK     1\n1  CASPASE3_29_pos185  CPHHERCSDSDGLAPPQHLIR     1\n2  CASPASE3_64_pos431  DNPLNWPDEKDSSFYRNFGST     1\n3  CASPASE3_93_pos455  FVKNMNRDSTFIVNKTITAEV     0\n4  CASPASE3_38_pos129  SSFDLDYDFQRDYYDRMYSYP     0\n5    CASPASE3_8_pos33  RPPQLRPGAPTSLQTEPQGNP     0",
      "text/html": "<div>\n<style scoped>\n    .dataframe tbody tr th:only-of-type {\n        vertical-align: middle;\n    }\n\n    .dataframe tbody tr th {\n        vertical-align: top;\n    }\n\n    .dataframe thead th {\n        text-align: right;\n    }\n</style>\n<table border=\"1\" class=\"dataframe\">\n  <thead>\n    <tr style=\"text-align: right;\">\n      <th></th>\n      <th>entry</th>\n      <th>sequence</th>\n      <th>label</th>\n    </tr>\n  </thead>\n  <tbody>\n    <tr>\n      <th>0</th>\n      <td>CASPASE3_55_pos170</td>\n      <td>KKRKLEEEEDGKLKKPKNKDK</td>\n      <td>1</td>\n    </tr>\n    <tr>\n      <th>1</th>\n      <td>CASPASE3_29_pos185</td>\n      <td>CPHHERCSDSDGLAPPQHLIR</td>\n      <td>1</td>\n    </tr>\n    <tr>\n      <th>2</th>\n      <td>CASPASE3_64_pos431</td>\n      <td>DNPLNWPDEKDSSFYRNFGST</td>\n      <td>1</td>\n    </tr>\n    <tr>\n      <th>3</th>\n      <td>CASPASE3_93_pos455</td>\n      <td>FVKNMNRDSTFIVNKTITAEV</td>\n      <td>0</td>\n    </tr>\n    <tr>\n      <th>4</th>\n      <td>CASPASE3_38_pos129</td>\n      <td>SSFDLDYDFQRDYYDRMYSYP</td>\n      <td>0</td>\n    </tr>\n    <tr>\n      <th>5</th>\n      <td>CASPASE3_8_pos33</td>\n      <td>RPPQLRPGAPTSLQTEPQGNP</td>\n      <td>0</td>\n    </tr>\n  </tbody>\n</table>\n</div>"
     },
     "execution_count": 128,
     "metadata": {},
     "output_type": "execute_result"
    }
   ],
   "source": [
    "df_seq = aa.load_dataset(name=\"AA_CASPASE3\", min_len=20, n=3, random=True, aa_window_size=21)\n",
    "df_seq"
   ],
   "metadata": {
    "collapsed": false,
    "ExecuteTime": {
     "end_time": "2023-09-22T17:35:04.235694255Z",
     "start_time": "2023-09-22T17:35:03.551520703Z"
    }
   }
  },
  {
   "cell_type": "markdown",
   "source": [
    "## Loading of protein benchmarks: Positive-Unlabeled (PU) datasets\n",
    "In typical binary classification, data is labeled as positive (1) or negative (0). But with many protein sequence datasets, we face challenges: they might be small, unbalanced, or lack a clear negative class. For datasets with only positive and unlabeled samples (2), we use PU learning. This approach identifies reliable negatives from the unlabeled data to make binary classification possible. We offer benchmark datasets for this scenario, denoted by the `_PU` suffix. For example, the `DOM_GSEC_PU` dataset corresponds to the `DOM_GSEC set`."
   ],
   "metadata": {
    "collapsed": false
   }
  },
  {
   "cell_type": "code",
   "execution_count": 129,
   "outputs": [
    {
     "data": {
      "text/plain": "      entry                                           sequence  label  tmd_start  tmd_stop       jmd_n                      tmd       jmd_c\n0    P05067  MLPGLALLLLAAWTARALEVPTDGNAGLLAEPQIAMFCGRLNMHMN...      1        701       723  FAEDVGSNKG  AIIGLMVGGVVIATVIVITLVML  KKKQYTSIHH\n1    P14925  MAGRARSGLLLLLLGLLALQSSCLAFRSPLSVFKRFKETTRSFSNE...      1        868       890  KLSTEPGSGV  SVVLITTLLVIPVLVLLAIVMFI  RWKKSRAFGD\n2    P70180  MRSLLLFTFSACVLLARVLLAGGASSGAGDTRPGSRRRAREALAAQ...      1        477       499  PCKSSGGLEE  SAVTGIVVGALLGAGLLMAFYFF  RKKYRITIER\n3    Q03157  MGPTSPAARGQGRRWRPPPLPLLLPLSLLLLRAQLAVGNLAVGSPS...      1        585       607  APSGTGVSRE  ALSGLLIMGAGGGSLIVLSLLLL  RKKKPYGTIS\n4    Q06481  MAATGTAAAAATGRLLLLLLVGLTAPALALAGYIEALAANAGTGFA...      1        694       716  LREDFSLSSS  ALIGLLVIAVAIATVIVISLVML  RKRQYGTISH\n..      ...                                                ...    ...        ...       ...         ...                      ...         ...\n121  P36941  MLLPWATSAPGLAWGPLVLGLFGLLAASQPQAVPPYASENQTCRDQ...      0        226       248  PLPPEMSGTM  LMLAVLLPLAFFLLLATVFSCIW  KSHPSLCRKL\n122  P25446  MLWIWAVLPLVLAGSQLRVHTQGTNSISESLKLRRRVRETDKNCSE...      0        170       187  NCRKQSPRNR       LWLLTILVLLIPLVFIYR  KYRKRKCWKR\n123  Q9P2J2  MVWCLGLAVLSLVISQGADGRGKPEVVSVVGRAGESVVLGCDLLPP...      0        738       760  PGLLPQPVLA  GVVGGVCFLGVAVLVSILAGCLL  NRRRAARRRR\n124  Q96J42  MVPAAGRRPPRVMRLLGWWQVLLWVLGLPVRGVEVAEESGRLWSEE...      0        324       342  LPSTLIKSVD      WLLVFSLFFLISFIMYATI  RTESIRWLIP\n125  P0DPA2  MRVGGAFHLLLVCLSPALLSAVRINGDGQEVLYLAEGDNVRLGCPY...      0        265       287  KVSDSRRIGV  IIGIVLGSLLALGCLAVGIWGLV  CCCCGGSGAG\n\n[126 rows x 8 columns]",
      "text/html": "<div>\n<style scoped>\n    .dataframe tbody tr th:only-of-type {\n        vertical-align: middle;\n    }\n\n    .dataframe tbody tr th {\n        vertical-align: top;\n    }\n\n    .dataframe thead th {\n        text-align: right;\n    }\n</style>\n<table border=\"1\" class=\"dataframe\">\n  <thead>\n    <tr style=\"text-align: right;\">\n      <th></th>\n      <th>entry</th>\n      <th>sequence</th>\n      <th>label</th>\n      <th>tmd_start</th>\n      <th>tmd_stop</th>\n      <th>jmd_n</th>\n      <th>tmd</th>\n      <th>jmd_c</th>\n    </tr>\n  </thead>\n  <tbody>\n    <tr>\n      <th>0</th>\n      <td>P05067</td>\n      <td>MLPGLALLLLAAWTARALEVPTDGNAGLLAEPQIAMFCGRLNMHMN...</td>\n      <td>1</td>\n      <td>701</td>\n      <td>723</td>\n      <td>FAEDVGSNKG</td>\n      <td>AIIGLMVGGVVIATVIVITLVML</td>\n      <td>KKKQYTSIHH</td>\n    </tr>\n    <tr>\n      <th>1</th>\n      <td>P14925</td>\n      <td>MAGRARSGLLLLLLGLLALQSSCLAFRSPLSVFKRFKETTRSFSNE...</td>\n      <td>1</td>\n      <td>868</td>\n      <td>890</td>\n      <td>KLSTEPGSGV</td>\n      <td>SVVLITTLLVIPVLVLLAIVMFI</td>\n      <td>RWKKSRAFGD</td>\n    </tr>\n    <tr>\n      <th>2</th>\n      <td>P70180</td>\n      <td>MRSLLLFTFSACVLLARVLLAGGASSGAGDTRPGSRRRAREALAAQ...</td>\n      <td>1</td>\n      <td>477</td>\n      <td>499</td>\n      <td>PCKSSGGLEE</td>\n      <td>SAVTGIVVGALLGAGLLMAFYFF</td>\n      <td>RKKYRITIER</td>\n    </tr>\n    <tr>\n      <th>3</th>\n      <td>Q03157</td>\n      <td>MGPTSPAARGQGRRWRPPPLPLLLPLSLLLLRAQLAVGNLAVGSPS...</td>\n      <td>1</td>\n      <td>585</td>\n      <td>607</td>\n      <td>APSGTGVSRE</td>\n      <td>ALSGLLIMGAGGGSLIVLSLLLL</td>\n      <td>RKKKPYGTIS</td>\n    </tr>\n    <tr>\n      <th>4</th>\n      <td>Q06481</td>\n      <td>MAATGTAAAAATGRLLLLLLVGLTAPALALAGYIEALAANAGTGFA...</td>\n      <td>1</td>\n      <td>694</td>\n      <td>716</td>\n      <td>LREDFSLSSS</td>\n      <td>ALIGLLVIAVAIATVIVISLVML</td>\n      <td>RKRQYGTISH</td>\n    </tr>\n    <tr>\n      <th>...</th>\n      <td>...</td>\n      <td>...</td>\n      <td>...</td>\n      <td>...</td>\n      <td>...</td>\n      <td>...</td>\n      <td>...</td>\n      <td>...</td>\n    </tr>\n    <tr>\n      <th>121</th>\n      <td>P36941</td>\n      <td>MLLPWATSAPGLAWGPLVLGLFGLLAASQPQAVPPYASENQTCRDQ...</td>\n      <td>0</td>\n      <td>226</td>\n      <td>248</td>\n      <td>PLPPEMSGTM</td>\n      <td>LMLAVLLPLAFFLLLATVFSCIW</td>\n      <td>KSHPSLCRKL</td>\n    </tr>\n    <tr>\n      <th>122</th>\n      <td>P25446</td>\n      <td>MLWIWAVLPLVLAGSQLRVHTQGTNSISESLKLRRRVRETDKNCSE...</td>\n      <td>0</td>\n      <td>170</td>\n      <td>187</td>\n      <td>NCRKQSPRNR</td>\n      <td>LWLLTILVLLIPLVFIYR</td>\n      <td>KYRKRKCWKR</td>\n    </tr>\n    <tr>\n      <th>123</th>\n      <td>Q9P2J2</td>\n      <td>MVWCLGLAVLSLVISQGADGRGKPEVVSVVGRAGESVVLGCDLLPP...</td>\n      <td>0</td>\n      <td>738</td>\n      <td>760</td>\n      <td>PGLLPQPVLA</td>\n      <td>GVVGGVCFLGVAVLVSILAGCLL</td>\n      <td>NRRRAARRRR</td>\n    </tr>\n    <tr>\n      <th>124</th>\n      <td>Q96J42</td>\n      <td>MVPAAGRRPPRVMRLLGWWQVLLWVLGLPVRGVEVAEESGRLWSEE...</td>\n      <td>0</td>\n      <td>324</td>\n      <td>342</td>\n      <td>LPSTLIKSVD</td>\n      <td>WLLVFSLFFLISFIMYATI</td>\n      <td>RTESIRWLIP</td>\n    </tr>\n    <tr>\n      <th>125</th>\n      <td>P0DPA2</td>\n      <td>MRVGGAFHLLLVCLSPALLSAVRINGDGQEVLYLAEGDNVRLGCPY...</td>\n      <td>0</td>\n      <td>265</td>\n      <td>287</td>\n      <td>KVSDSRRIGV</td>\n      <td>IIGIVLGSLLALGCLAVGIWGLV</td>\n      <td>CCCCGGSGAG</td>\n    </tr>\n  </tbody>\n</table>\n<p>126 rows × 8 columns</p>\n</div>"
     },
     "execution_count": 129,
     "metadata": {},
     "output_type": "execute_result"
    }
   ],
   "source": [
    "df_seq = aa.load_dataset(name=\"DOM_GSEC\")\n",
    "df_seq"
   ],
   "metadata": {
    "collapsed": false,
    "ExecuteTime": {
     "end_time": "2023-09-22T17:35:04.244635036Z",
     "start_time": "2023-09-22T17:35:04.154315411Z"
    }
   }
  },
  {
   "cell_type": "code",
   "execution_count": 130,
   "outputs": [
    {
     "data": {
      "text/plain": "      entry                                           sequence  label  tmd_start  tmd_stop       jmd_n                      tmd       jmd_c\n0    P05067  MLPGLALLLLAAWTARALEVPTDGNAGLLAEPQIAMFCGRLNMHMN...      1        701       723  FAEDVGSNKG  AIIGLMVGGVVIATVIVITLVML  KKKQYTSIHH\n1    P14925  MAGRARSGLLLLLLGLLALQSSCLAFRSPLSVFKRFKETTRSFSNE...      1        868       890  KLSTEPGSGV  SVVLITTLLVIPVLVLLAIVMFI  RWKKSRAFGD\n2    P70180  MRSLLLFTFSACVLLARVLLAGGASSGAGDTRPGSRRRAREALAAQ...      1        477       499  PCKSSGGLEE  SAVTGIVVGALLGAGLLMAFYFF  RKKYRITIER\n3    Q03157  MGPTSPAARGQGRRWRPPPLPLLLPLSLLLLRAQLAVGNLAVGSPS...      1        585       607  APSGTGVSRE  ALSGLLIMGAGGGSLIVLSLLLL  RKKKPYGTIS\n4    Q06481  MAATGTAAAAATGRLLLLLLVGLTAPALALAGYIEALAANAGTGFA...      1        694       716  LREDFSLSSS  ALIGLLVIAVAIATVIVISLVML  RKRQYGTISH\n..      ...                                                ...    ...        ...       ...         ...                      ...         ...\n689  P60852  MAGGSATTWGYPVALLLLVATLGLGRWLQPDPGLPGLRHSYDCGIK...      2        602       624  DSNGNSSLRP  LLWAVLLLPAVALVLGFGVFVGL  SQTWAQKLWE\n690  P20239  MARWQRKASVSSPCGRSIYRFLSLLFTLVTSVNSVSLPQSENPAFP...      2        684       703  IIAKDIASKT     LGAVAALVGSAVILGFICYL  YKKRTIRFNH\n691  P21754  MELSYRLFICLLLWGSTELCYPQPLWLLQGGASHPETSVQPVLVEC...      2        387       409  EQWALPSDTS  VVLLGVGLAVVVSLTLTAVILVL  TRRCRTASHP\n692  Q12836  MWLLRCVLLCVSLSLAVSGQHKPEAPDYSSVLHCGPWSFQFAVNLN...      2        506       528  EKLRVPVDSK  VLWVAGLSGTLILGALLVSYLAV  KKQKSCPDQM\n693  Q8TCW7  MEQIWLLLLLTIRVLPGSAQFNGYNCDANLHSRFPAERDISVYCGV...      2        374       396  PFQLNAITSA  LISGMVILGVTSFSLLLCSLALL  HRKGPTSLVL\n\n[694 rows x 8 columns]",
      "text/html": "<div>\n<style scoped>\n    .dataframe tbody tr th:only-of-type {\n        vertical-align: middle;\n    }\n\n    .dataframe tbody tr th {\n        vertical-align: top;\n    }\n\n    .dataframe thead th {\n        text-align: right;\n    }\n</style>\n<table border=\"1\" class=\"dataframe\">\n  <thead>\n    <tr style=\"text-align: right;\">\n      <th></th>\n      <th>entry</th>\n      <th>sequence</th>\n      <th>label</th>\n      <th>tmd_start</th>\n      <th>tmd_stop</th>\n      <th>jmd_n</th>\n      <th>tmd</th>\n      <th>jmd_c</th>\n    </tr>\n  </thead>\n  <tbody>\n    <tr>\n      <th>0</th>\n      <td>P05067</td>\n      <td>MLPGLALLLLAAWTARALEVPTDGNAGLLAEPQIAMFCGRLNMHMN...</td>\n      <td>1</td>\n      <td>701</td>\n      <td>723</td>\n      <td>FAEDVGSNKG</td>\n      <td>AIIGLMVGGVVIATVIVITLVML</td>\n      <td>KKKQYTSIHH</td>\n    </tr>\n    <tr>\n      <th>1</th>\n      <td>P14925</td>\n      <td>MAGRARSGLLLLLLGLLALQSSCLAFRSPLSVFKRFKETTRSFSNE...</td>\n      <td>1</td>\n      <td>868</td>\n      <td>890</td>\n      <td>KLSTEPGSGV</td>\n      <td>SVVLITTLLVIPVLVLLAIVMFI</td>\n      <td>RWKKSRAFGD</td>\n    </tr>\n    <tr>\n      <th>2</th>\n      <td>P70180</td>\n      <td>MRSLLLFTFSACVLLARVLLAGGASSGAGDTRPGSRRRAREALAAQ...</td>\n      <td>1</td>\n      <td>477</td>\n      <td>499</td>\n      <td>PCKSSGGLEE</td>\n      <td>SAVTGIVVGALLGAGLLMAFYFF</td>\n      <td>RKKYRITIER</td>\n    </tr>\n    <tr>\n      <th>3</th>\n      <td>Q03157</td>\n      <td>MGPTSPAARGQGRRWRPPPLPLLLPLSLLLLRAQLAVGNLAVGSPS...</td>\n      <td>1</td>\n      <td>585</td>\n      <td>607</td>\n      <td>APSGTGVSRE</td>\n      <td>ALSGLLIMGAGGGSLIVLSLLLL</td>\n      <td>RKKKPYGTIS</td>\n    </tr>\n    <tr>\n      <th>4</th>\n      <td>Q06481</td>\n      <td>MAATGTAAAAATGRLLLLLLVGLTAPALALAGYIEALAANAGTGFA...</td>\n      <td>1</td>\n      <td>694</td>\n      <td>716</td>\n      <td>LREDFSLSSS</td>\n      <td>ALIGLLVIAVAIATVIVISLVML</td>\n      <td>RKRQYGTISH</td>\n    </tr>\n    <tr>\n      <th>...</th>\n      <td>...</td>\n      <td>...</td>\n      <td>...</td>\n      <td>...</td>\n      <td>...</td>\n      <td>...</td>\n      <td>...</td>\n      <td>...</td>\n    </tr>\n    <tr>\n      <th>689</th>\n      <td>P60852</td>\n      <td>MAGGSATTWGYPVALLLLVATLGLGRWLQPDPGLPGLRHSYDCGIK...</td>\n      <td>2</td>\n      <td>602</td>\n      <td>624</td>\n      <td>DSNGNSSLRP</td>\n      <td>LLWAVLLLPAVALVLGFGVFVGL</td>\n      <td>SQTWAQKLWE</td>\n    </tr>\n    <tr>\n      <th>690</th>\n      <td>P20239</td>\n      <td>MARWQRKASVSSPCGRSIYRFLSLLFTLVTSVNSVSLPQSENPAFP...</td>\n      <td>2</td>\n      <td>684</td>\n      <td>703</td>\n      <td>IIAKDIASKT</td>\n      <td>LGAVAALVGSAVILGFICYL</td>\n      <td>YKKRTIRFNH</td>\n    </tr>\n    <tr>\n      <th>691</th>\n      <td>P21754</td>\n      <td>MELSYRLFICLLLWGSTELCYPQPLWLLQGGASHPETSVQPVLVEC...</td>\n      <td>2</td>\n      <td>387</td>\n      <td>409</td>\n      <td>EQWALPSDTS</td>\n      <td>VVLLGVGLAVVVSLTLTAVILVL</td>\n      <td>TRRCRTASHP</td>\n    </tr>\n    <tr>\n      <th>692</th>\n      <td>Q12836</td>\n      <td>MWLLRCVLLCVSLSLAVSGQHKPEAPDYSSVLHCGPWSFQFAVNLN...</td>\n      <td>2</td>\n      <td>506</td>\n      <td>528</td>\n      <td>EKLRVPVDSK</td>\n      <td>VLWVAGLSGTLILGALLVSYLAV</td>\n      <td>KKQKSCPDQM</td>\n    </tr>\n    <tr>\n      <th>693</th>\n      <td>Q8TCW7</td>\n      <td>MEQIWLLLLLTIRVLPGSAQFNGYNCDANLHSRFPAERDISVYCGV...</td>\n      <td>2</td>\n      <td>374</td>\n      <td>396</td>\n      <td>PFQLNAITSA</td>\n      <td>LISGMVILGVTSFSLLLCSLALL</td>\n      <td>HRKGPTSLVL</td>\n    </tr>\n  </tbody>\n</table>\n<p>694 rows × 8 columns</p>\n</div>"
     },
     "execution_count": 130,
     "metadata": {},
     "output_type": "execute_result"
    }
   ],
   "source": [
    "df_seq_pu = aa.load_dataset(name=\"DOM_GSEC_PU\")\n",
    "df_seq_pu"
   ],
   "metadata": {
    "collapsed": false,
    "ExecuteTime": {
     "end_time": "2023-09-22T17:35:04.258950866Z",
     "start_time": "2023-09-22T17:35:04.185221111Z"
    }
   }
  },
  {
   "cell_type": "code",
   "execution_count": 130,
   "outputs": [],
   "source": [],
   "metadata": {
    "collapsed": false,
    "ExecuteTime": {
     "end_time": "2023-09-22T17:35:04.746014470Z",
     "start_time": "2023-09-22T17:35:04.584642367Z"
    }
   }
  },
  {
   "cell_type": "code",
   "execution_count": null,
   "outputs": [],
   "source": [],
   "metadata": {
    "collapsed": false
   }
  }
 ],
 "metadata": {
  "kernelspec": {
   "display_name": "Python 3",
   "language": "python",
   "name": "python3"
  },
  "language_info": {
   "codemirror_mode": {
    "name": "ipython",
    "version": 2
   },
   "file_extension": ".py",
   "mimetype": "text/x-python",
   "name": "python",
   "nbconvert_exporter": "python",
   "pygments_lexer": "ipython2",
   "version": "2.7.6"
  }
 },
 "nbformat": 4,
 "nbformat_minor": 0
}
