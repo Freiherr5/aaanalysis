{
 "cells": [
  {
   "cell_type": "markdown",
   "source": [
    "# Data Loading Tutorial\n",
    "This is a tutorial on loading of protein benchmark datasets.\n",
    "\n",
    "## Loading of protein benchmarks\n",
    "Load the overview table of protein benchmark datasets using the default settings:"
   ],
   "metadata": {
    "collapsed": false,
    "pycharm": {
     "name": "#%% md\n"
    }
   }
  },
  {
   "cell_type": "code",
   "execution_count": 1,
   "outputs": [
    {
     "data": {
      "text/plain": "         Level        Dataset  # Sequences  # Amino acids  # Positives  # Negatives    Predictor\n0   Amino acid    AA_CASPASE3          233         185605          705       184900   PROSPERous\n1   Amino acid       AA_FURIN           71          59003          163        58840   PROSPERous\n2   Amino acid         AA_LDR          342         118248        35469        82779  IDP-Seq2Seq\n3   Amino acid        AA_MMP2          573         312976         2416       310560   PROSPERous\n4   Amino acid     AA_RNABIND          221          55001         6492        48509    GMKSVM-RU\n5   Amino acid          AA_SA          233         185605       101082        84523   PROSPERous\n6     Sequence      SEQ_AMYLO         1414           8484          511          903    ReRF-Pred\n7     Sequence     SEQ_CAPSID         7935        3364680         3864         4071     VIRALpro\n8     Sequence  SEQ_DISULFIDE         2547         614470          897         1650        Dipro\n9     Sequence   SEQ_LOCATION         1835         732398         1045          790          NaN\n10    Sequence    SEQ_SOLUBLE        17408        4432269         8704         8704       SOLpro\n11    Sequence       SEQ_TAIL         6668        2671690         2574         4094     VIRALpro\n12      Domain       DOM_GSEC          126          92964           63           63          NaN",
      "text/html": "<div>\n<style scoped>\n    .dataframe tbody tr th:only-of-type {\n        vertical-align: middle;\n    }\n\n    .dataframe tbody tr th {\n        vertical-align: top;\n    }\n\n    .dataframe thead th {\n        text-align: right;\n    }\n</style>\n<table border=\"1\" class=\"dataframe\">\n  <thead>\n    <tr style=\"text-align: right;\">\n      <th></th>\n      <th>Level</th>\n      <th>Dataset</th>\n      <th># Sequences</th>\n      <th># Amino acids</th>\n      <th># Positives</th>\n      <th># Negatives</th>\n      <th>Predictor</th>\n    </tr>\n  </thead>\n  <tbody>\n    <tr>\n      <th>0</th>\n      <td>Amino acid</td>\n      <td>AA_CASPASE3</td>\n      <td>233</td>\n      <td>185605</td>\n      <td>705</td>\n      <td>184900</td>\n      <td>PROSPERous</td>\n    </tr>\n    <tr>\n      <th>1</th>\n      <td>Amino acid</td>\n      <td>AA_FURIN</td>\n      <td>71</td>\n      <td>59003</td>\n      <td>163</td>\n      <td>58840</td>\n      <td>PROSPERous</td>\n    </tr>\n    <tr>\n      <th>2</th>\n      <td>Amino acid</td>\n      <td>AA_LDR</td>\n      <td>342</td>\n      <td>118248</td>\n      <td>35469</td>\n      <td>82779</td>\n      <td>IDP-Seq2Seq</td>\n    </tr>\n    <tr>\n      <th>3</th>\n      <td>Amino acid</td>\n      <td>AA_MMP2</td>\n      <td>573</td>\n      <td>312976</td>\n      <td>2416</td>\n      <td>310560</td>\n      <td>PROSPERous</td>\n    </tr>\n    <tr>\n      <th>4</th>\n      <td>Amino acid</td>\n      <td>AA_RNABIND</td>\n      <td>221</td>\n      <td>55001</td>\n      <td>6492</td>\n      <td>48509</td>\n      <td>GMKSVM-RU</td>\n    </tr>\n    <tr>\n      <th>5</th>\n      <td>Amino acid</td>\n      <td>AA_SA</td>\n      <td>233</td>\n      <td>185605</td>\n      <td>101082</td>\n      <td>84523</td>\n      <td>PROSPERous</td>\n    </tr>\n    <tr>\n      <th>6</th>\n      <td>Sequence</td>\n      <td>SEQ_AMYLO</td>\n      <td>1414</td>\n      <td>8484</td>\n      <td>511</td>\n      <td>903</td>\n      <td>ReRF-Pred</td>\n    </tr>\n    <tr>\n      <th>7</th>\n      <td>Sequence</td>\n      <td>SEQ_CAPSID</td>\n      <td>7935</td>\n      <td>3364680</td>\n      <td>3864</td>\n      <td>4071</td>\n      <td>VIRALpro</td>\n    </tr>\n    <tr>\n      <th>8</th>\n      <td>Sequence</td>\n      <td>SEQ_DISULFIDE</td>\n      <td>2547</td>\n      <td>614470</td>\n      <td>897</td>\n      <td>1650</td>\n      <td>Dipro</td>\n    </tr>\n    <tr>\n      <th>9</th>\n      <td>Sequence</td>\n      <td>SEQ_LOCATION</td>\n      <td>1835</td>\n      <td>732398</td>\n      <td>1045</td>\n      <td>790</td>\n      <td>NaN</td>\n    </tr>\n    <tr>\n      <th>10</th>\n      <td>Sequence</td>\n      <td>SEQ_SOLUBLE</td>\n      <td>17408</td>\n      <td>4432269</td>\n      <td>8704</td>\n      <td>8704</td>\n      <td>SOLpro</td>\n    </tr>\n    <tr>\n      <th>11</th>\n      <td>Sequence</td>\n      <td>SEQ_TAIL</td>\n      <td>6668</td>\n      <td>2671690</td>\n      <td>2574</td>\n      <td>4094</td>\n      <td>VIRALpro</td>\n    </tr>\n    <tr>\n      <th>12</th>\n      <td>Domain</td>\n      <td>DOM_GSEC</td>\n      <td>126</td>\n      <td>92964</td>\n      <td>63</td>\n      <td>63</td>\n      <td>NaN</td>\n    </tr>\n  </tbody>\n</table>\n</div>"
     },
     "execution_count": 1,
     "metadata": {},
     "output_type": "execute_result"
    }
   ],
   "source": [
    "import aaanalysis as aa\n",
    "df_info = aa.load_dataset()\n",
    "df_info.iloc[:13, :7]"
   ],
   "metadata": {
    "collapsed": false,
    "pycharm": {
     "name": "#%%\n",
     "is_executing": true
    },
    "ExecuteTime": {
     "end_time": "2023-10-03T11:42:25.435603059Z",
     "start_time": "2023-10-03T11:42:24.754058529Z"
    }
   }
  },
  {
   "cell_type": "markdown",
   "source": [
    "The benchmark datasets are categorized into amino acid ('AA'), domain ('DOM'), and sequence ('SEQ') level datasets, indicated by their `name` prefix, as exemplified here."
   ],
   "metadata": {
    "collapsed": false,
    "pycharm": {
     "name": "#%% md\n"
    }
   }
  },
  {
   "cell_type": "code",
   "execution_count": 2,
   "outputs": [
    {
     "data": {
      "text/plain": "      entry                                           sequence  label\n0  CAPSID_1  MVTHNVKINKHVTRRSYSSAKEVLEIPPLTEVQTASYKWFMDKGIK...      0\n1  CAPSID_2  MKKRQKKMTLSNFTDTSFQDFVSAEQVDDKSAMALINRAEDFKAGQ...      0",
      "text/html": "<div>\n<style scoped>\n    .dataframe tbody tr th:only-of-type {\n        vertical-align: middle;\n    }\n\n    .dataframe tbody tr th {\n        vertical-align: top;\n    }\n\n    .dataframe thead th {\n        text-align: right;\n    }\n</style>\n<table border=\"1\" class=\"dataframe\">\n  <thead>\n    <tr style=\"text-align: right;\">\n      <th></th>\n      <th>entry</th>\n      <th>sequence</th>\n      <th>label</th>\n    </tr>\n  </thead>\n  <tbody>\n    <tr>\n      <th>0</th>\n      <td>CAPSID_1</td>\n      <td>MVTHNVKINKHVTRRSYSSAKEVLEIPPLTEVQTASYKWFMDKGIK...</td>\n      <td>0</td>\n    </tr>\n    <tr>\n      <th>1</th>\n      <td>CAPSID_2</td>\n      <td>MKKRQKKMTLSNFTDTSFQDFVSAEQVDDKSAMALINRAEDFKAGQ...</td>\n      <td>0</td>\n    </tr>\n  </tbody>\n</table>\n</div>"
     },
     "execution_count": 2,
     "metadata": {},
     "output_type": "execute_result"
    }
   ],
   "source": [
    "df_seq1 = aa.load_dataset(name=\"AA_CASPASE3\")\n",
    "df_seq2 = aa.load_dataset(name=\"SEQ_CAPSID\")\n",
    "df_seq3 = aa.load_dataset(name=\"DOM_GSEC\")\n",
    "df_seq2.head(2)\n",
    "# Compare columns of three types"
   ],
   "metadata": {
    "collapsed": false,
    "pycharm": {
     "name": "#%%\n"
    },
    "ExecuteTime": {
     "end_time": "2023-10-03T11:42:26.393845902Z",
     "start_time": "2023-10-03T11:42:25.392662135Z"
    }
   }
  },
  {
   "cell_type": "markdown",
   "source": [
    "Each dataset can be utilized for a binary classification, with labels being positive (1) or negative (0). A balanced number of samples can be chosen by the `n` parameter, defining the sample number per class.  "
   ],
   "metadata": {
    "collapsed": false,
    "pycharm": {
     "name": "#%% md\n"
    }
   }
  },
  {
   "cell_type": "code",
   "execution_count": 3,
   "outputs": [
    {
     "data": {
      "text/plain": "label\n0    100\n1    100\nName: count, dtype: int64"
     },
     "execution_count": 3,
     "metadata": {},
     "output_type": "execute_result"
    }
   ],
   "source": [
    "df_seq = aa.load_dataset(name=\"SEQ_CAPSID\", n=100)\n",
    "# Returns 200 samples, 100 positives and 100 negatives\n",
    "df_seq[\"label\"].value_counts()"
   ],
   "metadata": {
    "collapsed": false,
    "ExecuteTime": {
     "end_time": "2023-10-03T11:42:26.572184804Z",
     "start_time": "2023-10-03T11:42:26.334627905Z"
    }
   }
  },
  {
   "cell_type": "markdown",
   "source": [
    "Or randomly selected using `random=True`:"
   ],
   "metadata": {
    "collapsed": false
   }
  },
  {
   "cell_type": "code",
   "execution_count": 4,
   "outputs": [],
   "source": [
    "df_seq = aa.load_dataset(name=\"SEQ_CAPSID\", n=100, random=True)"
   ],
   "metadata": {
    "collapsed": false,
    "ExecuteTime": {
     "end_time": "2023-10-03T11:42:26.851471256Z",
     "start_time": "2023-10-03T11:42:26.533915765Z"
    }
   }
  },
  {
   "cell_type": "markdown",
   "source": [
    "The protein sequences can have varying length:"
   ],
   "metadata": {
    "collapsed": false
   }
  },
  {
   "cell_type": "code",
   "execution_count": 5,
   "outputs": [
    {
     "data": {
      "text/plain": "<Figure size 640x480 with 1 Axes>",
      "image/png": "[encoded data removed]"
     },
     "metadata": {},
     "output_type": "display_data"
    }
   ],
   "source": [
    "# Plot distribution\n",
    "import warnings\n",
    "warnings.simplefilter(action='ignore', category=FutureWarning)\n",
    "import matplotlib.pyplot as plt\n",
    "import seaborn as sns\n",
    "# Utility AAanalysis function for publication ready plots\n",
    "aa.plot_settings(font_scale=1.2) \n",
    "df_seq = aa.load_dataset(name=\"SEQ_CAPSID\", n=100)\n",
    "list_seq_lens = df_seq[\"sequence\"].apply(len)\n",
    "sns.histplot(list_seq_lens, binwidth=50)\n",
    "sns.despine()\n",
    "plt.xlim(0, 1500)\n",
    "plt.show()"
   ],
   "metadata": {
    "collapsed": false,
    "ExecuteTime": {
     "end_time": "2023-10-03T11:42:27.502614493Z",
     "start_time": "2023-10-03T11:42:26.847416079Z"
    }
   }
  },
  {
   "cell_type": "markdown",
   "source": [
    "Which can be easily filtered using `min_len` and `max_len` parameters:"
   ],
   "metadata": {
    "collapsed": false
   }
  },
  {
   "cell_type": "code",
   "execution_count": 6,
   "outputs": [
    {
     "data": {
      "text/plain": "<Figure size 640x480 with 1 Axes>",
      "image/png": "[encoded data removed]"
     },
     "metadata": {},
     "output_type": "display_data"
    }
   ],
   "source": [
    "df_seq = aa.load_dataset(name=\"SEQ_CAPSID\", n=100, min_len=200, max_len=800)\n",
    "list_seq_lens = df_seq[\"sequence\"].apply(len)\n",
    "aa.plot_settings(font_scale=1.2)  # Utility AAanalysis function for publication ready plots\n",
    "sns.histplot(list_seq_lens, binwidth=50)\n",
    "sns.despine()\n",
    "plt.xlim(0, 1500)\n",
    "plt.show()"
   ],
   "metadata": {
    "collapsed": false,
    "ExecuteTime": {
     "end_time": "2023-10-03T11:42:29.343494877Z",
     "start_time": "2023-10-03T11:42:28.849784078Z"
    }
   }
  },
  {
   "cell_type": "markdown",
   "source": [
    "## Loading of protein benchmarks: Amino acid window size\n",
    "For amino acid level datasets, labels are provided for each residue position, which can be seen by setting `aa_window_size=None`:"
   ],
   "metadata": {
    "collapsed": false
   }
  },
  {
   "cell_type": "code",
   "execution_count": 7,
   "outputs": [
    {
     "data": {
      "text/plain": "        entry                                           sequence                                              label\n0  CASPASE3_1  MSLFDLFRGFFGFPGPRSHRDPFFGGMTRDEDDDEEEEEEGGSWGR...  0,0,0,0,0,0,0,0,0,0,0,0,0,0,0,0,0,0,0,0,0,0,0,...\n1  CASPASE3_2  MEVTGDAGVPESGEIRTLKPCLLRRNYSREQHGVAASCLEDLRSKA...  0,0,0,0,0,0,0,0,0,0,0,0,0,0,0,0,0,0,0,0,0,0,0,...\n2  CASPASE3_3  MRARSGARGALLLALLLCWDPTPSLAGIDSGGQALPDSFPSAPAEQ...  0,0,0,0,0,0,0,0,0,0,0,0,0,0,0,0,0,0,0,0,0,0,0,...\n3  CASPASE3_4  MDAKARNCLLQHREALEKDIKTSYIMDHMISDGFLTISEEEKVRNE...  0,0,0,0,0,0,0,0,0,0,0,0,0,0,0,0,0,0,0,0,0,0,0,...",
      "text/html": "<div>\n<style scoped>\n    .dataframe tbody tr th:only-of-type {\n        vertical-align: middle;\n    }\n\n    .dataframe tbody tr th {\n        vertical-align: top;\n    }\n\n    .dataframe thead th {\n        text-align: right;\n    }\n</style>\n<table border=\"1\" class=\"dataframe\">\n  <thead>\n    <tr style=\"text-align: right;\">\n      <th></th>\n      <th>entry</th>\n      <th>sequence</th>\n      <th>label</th>\n    </tr>\n  </thead>\n  <tbody>\n    <tr>\n      <th>0</th>\n      <td>CASPASE3_1</td>\n      <td>MSLFDLFRGFFGFPGPRSHRDPFFGGMTRDEDDDEEEEEEGGSWGR...</td>\n      <td>0,0,0,0,0,0,0,0,0,0,0,0,0,0,0,0,0,0,0,0,0,0,0,...</td>\n    </tr>\n    <tr>\n      <th>1</th>\n      <td>CASPASE3_2</td>\n      <td>MEVTGDAGVPESGEIRTLKPCLLRRNYSREQHGVAASCLEDLRSKA...</td>\n      <td>0,0,0,0,0,0,0,0,0,0,0,0,0,0,0,0,0,0,0,0,0,0,0,...</td>\n    </tr>\n    <tr>\n      <th>2</th>\n      <td>CASPASE3_3</td>\n      <td>MRARSGARGALLLALLLCWDPTPSLAGIDSGGQALPDSFPSAPAEQ...</td>\n      <td>0,0,0,0,0,0,0,0,0,0,0,0,0,0,0,0,0,0,0,0,0,0,0,...</td>\n    </tr>\n    <tr>\n      <th>3</th>\n      <td>CASPASE3_4</td>\n      <td>MDAKARNCLLQHREALEKDIKTSYIMDHMISDGFLTISEEEKVRNE...</td>\n      <td>0,0,0,0,0,0,0,0,0,0,0,0,0,0,0,0,0,0,0,0,0,0,0,...</td>\n    </tr>\n  </tbody>\n</table>\n</div>"
     },
     "execution_count": 7,
     "metadata": {},
     "output_type": "execute_result"
    }
   ],
   "source": [
    "df_seq = aa.load_dataset(name=\"AA_CASPASE3\", aa_window_size=None)\n",
    "df_seq.head(4)"
   ],
   "metadata": {
    "collapsed": false,
    "ExecuteTime": {
     "end_time": "2023-10-03T11:42:30.351405830Z",
     "start_time": "2023-10-03T11:42:30.296312839Z"
    }
   }
  },
  {
   "cell_type": "markdown",
   "source": [
    "For convenience, we provide an \"amino acid window\" of length n. This window represents a specific amino acid, which is flanked by (n-1)/2 residues on both its N-terminal and C-terminal sides. It's essential for n to be odd, ensuring equal residues on both sides. While the default window size is 9, sizes between 5 and 15 are also popular."
   ],
   "metadata": {
    "collapsed": false
   }
  },
  {
   "cell_type": "code",
   "execution_count": 23,
   "outputs": [
    {
     "data": {
      "text/plain": "               entry   sequence label\n0  CASPASE3_1_pos126  QTLRDSMLK     1\n1  CASPASE3_1_pos127  TLRDSMLKY     1\n2    CASPASE3_1_pos4  MSLFDLFRG     0\n3    CASPASE3_1_pos5  SLFDLFRGF     0",
      "text/html": "<div>\n<style scoped>\n    .dataframe tbody tr th:only-of-type {\n        vertical-align: middle;\n    }\n\n    .dataframe tbody tr th {\n        vertical-align: top;\n    }\n\n    .dataframe thead th {\n        text-align: right;\n    }\n</style>\n<table border=\"1\" class=\"dataframe\">\n  <thead>\n    <tr style=\"text-align: right;\">\n      <th></th>\n      <th>entry</th>\n      <th>sequence</th>\n      <th>label</th>\n    </tr>\n  </thead>\n  <tbody>\n    <tr>\n      <th>0</th>\n      <td>CASPASE3_1_pos126</td>\n      <td>QTLRDSMLK</td>\n      <td>1</td>\n    </tr>\n    <tr>\n      <th>1</th>\n      <td>CASPASE3_1_pos127</td>\n      <td>TLRDSMLKY</td>\n      <td>1</td>\n    </tr>\n    <tr>\n      <th>2</th>\n      <td>CASPASE3_1_pos4</td>\n      <td>MSLFDLFRG</td>\n      <td>0</td>\n    </tr>\n    <tr>\n      <th>3</th>\n      <td>CASPASE3_1_pos5</td>\n      <td>SLFDLFRGF</td>\n      <td>0</td>\n    </tr>\n  </tbody>\n</table>\n</div>"
     },
     "execution_count": 23,
     "metadata": {},
     "output_type": "execute_result"
    }
   ],
   "source": [
    "df_seq = aa.load_dataset(name=\"AA_CASPASE3\", n=2)\n",
    "df_seq"
   ],
   "metadata": {
    "collapsed": false,
    "ExecuteTime": {
     "end_time": "2023-10-03T09:58:52.371046096Z",
     "start_time": "2023-10-03T09:58:51.827161906Z"
    }
   }
  },
  {
   "cell_type": "markdown",
   "source": [
    "Sequences can be pre-filtered using `min_len` and `max_len` and `n` residues can be randomly selected by `random` with different `aa_window_size`s."
   ],
   "metadata": {
    "collapsed": false
   }
  },
  {
   "cell_type": "code",
   "execution_count": 24,
   "outputs": [
    {
     "data": {
      "text/plain": "                 entry               sequence label\n0    CASPASE3_94_pos31  VSHWQQQSYLDSGIHSGATTT     1\n1  CASPASE3_129_pos530  WFNKVLEDKTDDASTPATDTS     1\n2   CASPASE3_76_pos554  QLLRGVKHLHDNWILHRDLKT     0\n3   CASPASE3_19_pos163  GHRGNSLDRRSQGGPHLSGAV     0",
      "text/html": "<div>\n<style scoped>\n    .dataframe tbody tr th:only-of-type {\n        vertical-align: middle;\n    }\n\n    .dataframe tbody tr th {\n        vertical-align: top;\n    }\n\n    .dataframe thead th {\n        text-align: right;\n    }\n</style>\n<table border=\"1\" class=\"dataframe\">\n  <thead>\n    <tr style=\"text-align: right;\">\n      <th></th>\n      <th>entry</th>\n      <th>sequence</th>\n      <th>label</th>\n    </tr>\n  </thead>\n  <tbody>\n    <tr>\n      <th>0</th>\n      <td>CASPASE3_94_pos31</td>\n      <td>VSHWQQQSYLDSGIHSGATTT</td>\n      <td>1</td>\n    </tr>\n    <tr>\n      <th>1</th>\n      <td>CASPASE3_129_pos530</td>\n      <td>WFNKVLEDKTDDASTPATDTS</td>\n      <td>1</td>\n    </tr>\n    <tr>\n      <th>2</th>\n      <td>CASPASE3_76_pos554</td>\n      <td>QLLRGVKHLHDNWILHRDLKT</td>\n      <td>0</td>\n    </tr>\n    <tr>\n      <th>3</th>\n      <td>CASPASE3_19_pos163</td>\n      <td>GHRGNSLDRRSQGGPHLSGAV</td>\n      <td>0</td>\n    </tr>\n  </tbody>\n</table>\n</div>"
     },
     "execution_count": 24,
     "metadata": {},
     "output_type": "execute_result"
    }
   ],
   "source": [
    "df_seq = aa.load_dataset(name=\"AA_CASPASE3\", min_len=20, n=2, random=True, aa_window_size=21)\n",
    "df_seq"
   ],
   "metadata": {
    "collapsed": false,
    "ExecuteTime": {
     "end_time": "2023-10-03T09:58:53.655998943Z",
     "start_time": "2023-10-03T09:58:53.031584127Z"
    }
   }
  },
  {
   "cell_type": "markdown",
   "source": [
    "## Loading of protein benchmarks: Positive-Unlabeled (PU) datasets\n",
    "In typical binary classification, data is labeled as positive (1) or negative (0). But with many protein sequence datasets, we face challenges: they might be small, unbalanced, or lack a clear negative class. For datasets with only positive and unlabeled samples (2), we use PU learning. This approach identifies reliable negatives from the unlabeled data to make binary classification possible. We offer benchmark datasets for this scenario, denoted by the `_PU` suffix. For example, the `DOM_GSEC_PU` dataset corresponds to the `DOM_GSEC set`."
   ],
   "metadata": {
    "collapsed": false
   }
  },
  {
   "cell_type": "code",
   "execution_count": 25,
   "outputs": [
    {
     "data": {
      "text/plain": "    entry                                           sequence  label  tmd_start  tmd_stop       jmd_n                      tmd       jmd_c\n0  Q14802  MQKVTLGLLVFLAGFPVLDANDLEDKNSPFYYDWHSLQVGGLICAG...      0         37        59  NSPFYYDWHS  LQVGGLICAGVLCAMGIIIVMSA  KCKCKFGQKS\n1  Q86UE4  MAARSWQDELAQQAEEGSARLREMLSVGLGFLRTELGLDLGLEPKR...      0         50        72  LGLEPKRYPG  WVILVGTGALGLLLLFLLGYGWA  AACAGARKKR\n2  P05067  MLPGLALLLLAAWTARALEVPTDGNAGLLAEPQIAMFCGRLNMHMN...      1        701       723  FAEDVGSNKG  AIIGLMVGGVVIATVIVITLVML  KKKQYTSIHH\n3  P14925  MAGRARSGLLLLLLGLLALQSSCLAFRSPLSVFKRFKETTRSFSNE...      1        868       890  KLSTEPGSGV  SVVLITTLLVIPVLVLLAIVMFI  RWKKSRAFGD",
      "text/html": "<div>\n<style scoped>\n    .dataframe tbody tr th:only-of-type {\n        vertical-align: middle;\n    }\n\n    .dataframe tbody tr th {\n        vertical-align: top;\n    }\n\n    .dataframe thead th {\n        text-align: right;\n    }\n</style>\n<table border=\"1\" class=\"dataframe\">\n  <thead>\n    <tr style=\"text-align: right;\">\n      <th></th>\n      <th>entry</th>\n      <th>sequence</th>\n      <th>label</th>\n      <th>tmd_start</th>\n      <th>tmd_stop</th>\n      <th>jmd_n</th>\n      <th>tmd</th>\n      <th>jmd_c</th>\n    </tr>\n  </thead>\n  <tbody>\n    <tr>\n      <th>0</th>\n      <td>Q14802</td>\n      <td>MQKVTLGLLVFLAGFPVLDANDLEDKNSPFYYDWHSLQVGGLICAG...</td>\n      <td>0</td>\n      <td>37</td>\n      <td>59</td>\n      <td>NSPFYYDWHS</td>\n      <td>LQVGGLICAGVLCAMGIIIVMSA</td>\n      <td>KCKCKFGQKS</td>\n    </tr>\n    <tr>\n      <th>1</th>\n      <td>Q86UE4</td>\n      <td>MAARSWQDELAQQAEEGSARLREMLSVGLGFLRTELGLDLGLEPKR...</td>\n      <td>0</td>\n      <td>50</td>\n      <td>72</td>\n      <td>LGLEPKRYPG</td>\n      <td>WVILVGTGALGLLLLFLLGYGWA</td>\n      <td>AACAGARKKR</td>\n    </tr>\n    <tr>\n      <th>2</th>\n      <td>P05067</td>\n      <td>MLPGLALLLLAAWTARALEVPTDGNAGLLAEPQIAMFCGRLNMHMN...</td>\n      <td>1</td>\n      <td>701</td>\n      <td>723</td>\n      <td>FAEDVGSNKG</td>\n      <td>AIIGLMVGGVVIATVIVITLVML</td>\n      <td>KKKQYTSIHH</td>\n    </tr>\n    <tr>\n      <th>3</th>\n      <td>P14925</td>\n      <td>MAGRARSGLLLLLLGLLALQSSCLAFRSPLSVFKRFKETTRSFSNE...</td>\n      <td>1</td>\n      <td>868</td>\n      <td>890</td>\n      <td>KLSTEPGSGV</td>\n      <td>SVVLITTLLVIPVLVLLAIVMFI</td>\n      <td>RWKKSRAFGD</td>\n    </tr>\n  </tbody>\n</table>\n</div>"
     },
     "execution_count": 25,
     "metadata": {},
     "output_type": "execute_result"
    }
   ],
   "source": [
    "df_seq = aa.load_dataset(name=\"DOM_GSEC\", n=2)\n",
    "df_seq"
   ],
   "metadata": {
    "collapsed": false,
    "ExecuteTime": {
     "end_time": "2023-10-03T09:58:54.112770034Z",
     "start_time": "2023-10-03T09:58:54.062409008Z"
    }
   }
  },
  {
   "cell_type": "code",
   "execution_count": 26,
   "outputs": [
    {
     "data": {
      "text/plain": "    entry                                           sequence  label  tmd_start  tmd_stop       jmd_n                      tmd       jmd_c\n0  P05067  MLPGLALLLLAAWTARALEVPTDGNAGLLAEPQIAMFCGRLNMHMN...      1        701       723  FAEDVGSNKG  AIIGLMVGGVVIATVIVITLVML  KKKQYTSIHH\n1  P14925  MAGRARSGLLLLLLGLLALQSSCLAFRSPLSVFKRFKETTRSFSNE...      1        868       890  KLSTEPGSGV  SVVLITTLLVIPVLVLLAIVMFI  RWKKSRAFGD\n2  P12821  MGAASGRRGPGLLLPLPLLLLLPPQPALALDPGLQPGNFSADEAGA...      2       1257      1276  GLDLDAQQAR     VGQWLLLFLGIALLVATLGL  SQRLFSIRHR\n3  P36896  MAESAGASSFFPLVVLLLAGSGGSGPRGVQALLCACTSCLQANYTC...      2        127       149  EHPSMWGPVE  LVGIIAGPVFLLFLIIIIVFLVI  NYHQRVYHNR",
      "text/html": "<div>\n<style scoped>\n    .dataframe tbody tr th:only-of-type {\n        vertical-align: middle;\n    }\n\n    .dataframe tbody tr th {\n        vertical-align: top;\n    }\n\n    .dataframe thead th {\n        text-align: right;\n    }\n</style>\n<table border=\"1\" class=\"dataframe\">\n  <thead>\n    <tr style=\"text-align: right;\">\n      <th></th>\n      <th>entry</th>\n      <th>sequence</th>\n      <th>label</th>\n      <th>tmd_start</th>\n      <th>tmd_stop</th>\n      <th>jmd_n</th>\n      <th>tmd</th>\n      <th>jmd_c</th>\n    </tr>\n  </thead>\n  <tbody>\n    <tr>\n      <th>0</th>\n      <td>P05067</td>\n      <td>MLPGLALLLLAAWTARALEVPTDGNAGLLAEPQIAMFCGRLNMHMN...</td>\n      <td>1</td>\n      <td>701</td>\n      <td>723</td>\n      <td>FAEDVGSNKG</td>\n      <td>AIIGLMVGGVVIATVIVITLVML</td>\n      <td>KKKQYTSIHH</td>\n    </tr>\n    <tr>\n      <th>1</th>\n      <td>P14925</td>\n      <td>MAGRARSGLLLLLLGLLALQSSCLAFRSPLSVFKRFKETTRSFSNE...</td>\n      <td>1</td>\n      <td>868</td>\n      <td>890</td>\n      <td>KLSTEPGSGV</td>\n      <td>SVVLITTLLVIPVLVLLAIVMFI</td>\n      <td>RWKKSRAFGD</td>\n    </tr>\n    <tr>\n      <th>2</th>\n      <td>P12821</td>\n      <td>MGAASGRRGPGLLLPLPLLLLLPPQPALALDPGLQPGNFSADEAGA...</td>\n      <td>2</td>\n      <td>1257</td>\n      <td>1276</td>\n      <td>GLDLDAQQAR</td>\n      <td>VGQWLLLFLGIALLVATLGL</td>\n      <td>SQRLFSIRHR</td>\n    </tr>\n    <tr>\n      <th>3</th>\n      <td>P36896</td>\n      <td>MAESAGASSFFPLVVLLLAGSGGSGPRGVQALLCACTSCLQANYTC...</td>\n      <td>2</td>\n      <td>127</td>\n      <td>149</td>\n      <td>EHPSMWGPVE</td>\n      <td>LVGIIAGPVFLLFLIIIIVFLVI</td>\n      <td>NYHQRVYHNR</td>\n    </tr>\n  </tbody>\n</table>\n</div>"
     },
     "execution_count": 26,
     "metadata": {},
     "output_type": "execute_result"
    }
   ],
   "source": [
    "df_seq_pu = aa.load_dataset(name=\"DOM_GSEC_PU\", n=2)\n",
    "df_seq_pu"
   ],
   "metadata": {
    "collapsed": false,
    "ExecuteTime": {
     "end_time": "2023-10-03T09:58:54.695213017Z",
     "start_time": "2023-10-03T09:58:54.632112834Z"
    }
   }
  },
  {
   "cell_type": "code",
   "execution_count": null,
   "outputs": [],
   "source": [],
   "metadata": {
    "collapsed": false
   }
  }
 ],
 "metadata": {
  "kernelspec": {
   "display_name": "Python 3",
   "language": "python",
   "name": "python3"
  },
  "language_info": {
   "codemirror_mode": {
    "name": "ipython",
    "version": 2
   },
   "file_extension": ".py",
   "mimetype": "text/x-python",
   "name": "python",
   "nbconvert_exporter": "python",
   "pygments_lexer": "ipython2",
   "version": "2.7.6"
  }
 },
 "nbformat": 4,
 "nbformat_minor": 0
}
