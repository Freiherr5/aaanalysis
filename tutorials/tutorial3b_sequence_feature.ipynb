{
 "cells": [
  {
   "cell_type": "markdown",
   "source": [
    "# SequenceFeature: Creation of CPP feature elements\n"
   ],
   "metadata": {
    "collapsed": false
   },
   "id": "bb72d7edf4c1d205"
  },
  {
   "cell_type": "code",
   "execution_count": null,
   "outputs": [],
   "source": [
    "import aaanalysis as aa\n",
    "aa.options[\"verbose\"] = False"
   ],
   "metadata": {
    "collapsed": false
   },
   "id": "6b0d73965258bc5f"
  },
  {
   "cell_type": "code",
   "execution_count": null,
   "outputs": [],
   "source": [],
   "metadata": {
    "collapsed": false
   },
   "id": "c39b70a0e2b5a5d0"
  },
  {
   "cell_type": "markdown",
   "source": [
    "Further details on the ``SequenceFeature`` class can be found in the [Feature Engineering API](https://aaanalysis.readthedocs.io/en/latest/api.html#feature-engineering). See [CPP Usage Principles](https://aaanalysis.readthedocs.io/en/latest/index/usage_principles/feature_identification.html) for the more information on the CPP feature concept."
   ],
   "metadata": {
    "collapsed": false
   },
   "id": "c5e50ffc64583715"
  }
 ],
 "metadata": {
  "kernelspec": {
   "display_name": "Python 3",
   "language": "python",
   "name": "python3"
  },
  "language_info": {
   "codemirror_mode": {
    "name": "ipython",
    "version": 2
   },
   "file_extension": ".py",
   "mimetype": "text/x-python",
   "name": "python",
   "nbconvert_exporter": "python",
   "pygments_lexer": "ipython2",
   "version": "2.7.6"
  }
 },
 "nbformat": 4,
 "nbformat_minor": 5
}
