{
 "cells": [
  {
   "cell_type": "markdown",
   "source": [
    "# SequenceFeature: Creation of CPP feature components\n",
    "\n",
    "****\n",
    "A CPP feature is the combination of the three components:\n",
    "\n",
    "- **Part**: A continuous subset of a sequence, such as a protein domain.\n",
    "- **Split**: Continuous or discontinuous subset of a **Part**, either segment or pattern.\n",
    "- **Scale**: A physicochemical scale, i.e., a set of numerical values (typically [0-1]) assigned to amino acids.\n",
    "\n",
    "While **Scales** can be obtained using the ``load_scales()`` function and selecting by the ``AAclust`` class, the ``SequenceFeature`` class is designed to create various forms of **Parts** and **Splits**, which can then all be provided to ``CPP``. See the [SequenceFeature API](https://aaanalysis.readthedocs.io/en/latest/generated/aaanalysis.SequenceFeature.html#) for more details.\n",
    "\n",
    "**Creation of Parts**\n",
    "\n",
    "To define **Parts**, the ``SequenceFeature`` class provides the ``SequenceFeature.get_df_parts()`` method. To demonstrate this method, we first obtain an example sequence dataset using the ``load_dataset()`` function"
   ],
   "metadata": {
    "collapsed": false
   },
   "id": "bb72d7edf4c1d205"
  },
  {
   "cell_type": "code",
   "execution_count": null,
   "outputs": [],
   "source": [
    "import aaanalysis as aa\n",
    "aa.options[\"verbose\"] = False\n",
    "\n",
    "sf = aa.SequenceFeature()\n",
    "df_seq = aa.load_dataset(name=\"SEQ_CAPSID\", min_len=40, max_len=100)\n",
    "aa.display_df(df_seq, n_rows=3, show_shape=True, char_limit=15)"
   ],
   "metadata": {
    "collapsed": false,
    "is_executing": true
   },
   "id": "6b0d73965258bc5f"
  },
  {
   "cell_type": "markdown",
   "source": [
    "\n",
    "By default, three sequence parts (``tmd``, ``jmd_n_tmd_n``, ``tmd_c_jmd_c``) with a ``jmd_n`` and ``jmd_c`` length of each 10 residues are provided:"
   ],
   "metadata": {
    "collapsed": false
   },
   "id": "6d58f76fb81129d5"
  },
  {
   "cell_type": "code",
   "execution_count": null,
   "outputs": [],
   "source": [
    "df_parts = sf.get_df_parts(df_seq=df_seq)\n",
    "aa.display_df(df=df_parts, n_rows=5, show_shape=True, char_limit=15)"
   ],
   "metadata": {
    "collapsed": false,
    "is_executing": true
   },
   "id": "af682ae9577d5ac9"
  },
  {
   "cell_type": "markdown",
   "source": [
    "Any combination of valid sequence parts can be obtained using the ``list_part`` parameter:"
   ],
   "metadata": {
    "collapsed": false
   },
   "id": "60d9f54821558bcc"
  },
  {
   "cell_type": "code",
   "execution_count": null,
   "outputs": [],
   "source": [
    "df_parts = sf.get_df_parts(df_seq=df_seq, list_parts=['jmd_n', 'tmd', 'jmd_c', 'tmd_jmd'])\n",
    "aa.display_df(df=df_parts, n_rows=3, show_shape=True, char_limit=15)"
   ],
   "metadata": {
    "collapsed": false,
    "is_executing": true
   },
   "id": "d5463de24d4dc27b"
  },
  {
   "cell_type": "markdown",
   "source": [
    "Set the length of both JMDs by the ``jmd_c_len`` and ``jmd_n_len`` parameters:"
   ],
   "metadata": {
    "collapsed": false
   },
   "id": "c4efa773b34e0c1b"
  },
  {
   "cell_type": "code",
   "execution_count": null,
   "outputs": [],
   "source": [
    "df_parts = sf.get_df_parts(df_seq=df_seq, list_parts=['jmd_n', 'tmd', 'jmd_c', 'tmd_jmd'], jmd_c_len=8, jmd_n_len=8)\n",
    "aa.display_df(df=df_parts, n_rows=3, show_shape=True, char_limit=15)"
   ],
   "metadata": {
    "collapsed": false,
    "is_executing": true
   },
   "id": "878496f6cd808394"
  },
  {
   "cell_type": "markdown",
   "source": [
    "For more details, see the [SequenceFeature.get_df_parts API](https://aaanalysis.readthedocs.io/en/latest/generated/aaanalysis.SequenceFeature.get_df_parts.html#).\n",
    "\n",
    "**Creation of Splits** \n",
    "\n",
    "Three different types of splits exist:\n",
    "\n",
    "- **Segment**: continuous sub-sequence.\n",
    "- **Pattern**: non-periodic discontinuous sub-sequence\n",
    "- **PeriodicPattern**: periodic discontinuous sub-sequence.\n",
    "\n",
    "Due to the plethora of combinatorial options, ``SeuqenceFeature`` has a special method (``SequenceFeature.get_split_kws()``) to create a dictionary containing all relevant **Split** information. \n",
    "\n",
    "  You can get the default arguments for all split types as follows:"
   ],
   "metadata": {
    "collapsed": false
   },
   "id": "2c3a9e029d608f58"
  },
  {
   "cell_type": "code",
   "execution_count": null,
   "outputs": [],
   "source": [
    "split_kws = sf.get_split_kws()\n",
    "split_kws"
   ],
   "metadata": {
    "collapsed": false,
    "is_executing": true
   },
   "id": "7cb739d1fd10bdd3"
  },
  {
   "cell_type": "markdown",
   "source": [
    "You can also retrieve arguments for specific split types:"
   ],
   "metadata": {
    "collapsed": false
   },
   "id": "cab7cf22a25946f7"
  },
  {
   "cell_type": "code",
   "execution_count": null,
   "outputs": [],
   "source": [
    "split_kws = sf.get_split_kws(split_types=[\"Segment\", \"Pattern\"])\n",
    "split_kws"
   ],
   "metadata": {
    "collapsed": false,
    "is_executing": true
   },
   "id": "3752612988f26b41"
  },
  {
   "cell_type": "markdown",
   "source": [
    "The arguments for each split type can be adjusted. For ``Segments``, their minimum and maximum length can be changed by the ``n_split_min`` (default=1) and ``n_split_max`` (default=15) parameters:"
   ],
   "metadata": {
    "collapsed": false
   },
   "id": "9eeef9b418d1e1eb"
  },
  {
   "cell_type": "code",
   "execution_count": null,
   "outputs": [],
   "source": [
    "split_kws = sf.get_split_kws(split_types=\"Segment\", n_split_min=5, n_split_max=10)\n",
    "split_kws"
   ],
   "metadata": {
    "collapsed": false,
    "is_executing": true
   },
   "id": "8ba6d3205671620b"
  },
  {
   "cell_type": "markdown",
   "source": [
    "For ``PeriodicPattern``, the step size of each odd and even step can be specified as follows using the ``steps_periodicpattern`` (default=[3, 4]):"
   ],
   "metadata": {
    "collapsed": false
   },
   "id": "7e5bf37c8c2c495d"
  },
  {
   "cell_type": "code",
   "execution_count": null,
   "outputs": [],
   "source": [
    "split_kws = sf.get_split_kws(split_types=\"PeriodicPattern\", steps_periodicpattern=[5, 10])\n",
    "split_kws"
   ],
   "metadata": {
    "collapsed": false,
    "is_executing": true
   },
   "id": "b25b0ee650a8ab8b"
  },
  {
   "cell_type": "markdown",
   "source": [
    "And for ``Patterns``, the step size, the minimum and maximum number of steps, and the maximum residue size of the pattern can be adjusted using the ``steps_pattern`` (default=[3, 4]), ``n_min`` (default=2), ``n_max`` (default=4), and ``len_max`` (default=10) parameters: "
   ],
   "metadata": {
    "collapsed": false
   },
   "id": "69e3c79c7bf95674"
  },
  {
   "cell_type": "code",
   "execution_count": null,
   "outputs": [],
   "source": [
    "split_kws = sf.get_split_kws(split_types=\"Pattern\", steps_pattern=[5, 10], n_min=3, n_max=5, len_max=30)\n",
    "split_kws"
   ],
   "metadata": {
    "collapsed": false,
    "is_executing": true
   },
   "id": "8fd3f1204568d0d7"
  },
  {
   "cell_type": "markdown",
   "source": [
    "**Combining Parts + Splits + Scales**\n",
    "\n",
    "Any combination of the three feature combinations can be provided to ``CPP``, which will create all **Part-Split-Scale** combinations and filter them down to a user-defined number (default=100) of non-redundant scales through the ``CPP.run()`` method:"
   ],
   "metadata": {
    "collapsed": false
   },
   "id": "e2325f65c806097a"
  },
  {
   "cell_type": "code",
   "execution_count": null,
   "outputs": [],
   "source": [
    "# Load default scales, parts, and splits\n",
    "df_scales = aa.load_scales()\n",
    "df_parts = sf.get_df_parts(df_seq=df_seq)\n",
    "split_kws = sf.get_split_kws()\n",
    "\n",
    "# Get labels for test and reference class\n",
    "labels = df_seq[\"label\"].to_list()\n",
    "\n",
    "# Creat CPP object by providing three feature components\n",
    "cpp = aa.CPP(df_parts=df_parts, split_kws=split_kws, df_scales=df_scales)\n",
    "df_feat = cpp.run(labels=labels)\n",
    "\n",
    "aa.display_df(df=df_feat, show_shape=True)"
   ],
   "metadata": {
    "collapsed": false,
    "is_executing": true
   },
   "id": "9b34177efc81d72f"
  },
  {
   "cell_type": "markdown",
   "source": [
    "Further information on the CPP feature concept can be found in thr [CPP Usage Principles](https://aaanalysis.readthedocs.io/en/latest/index/usage_principles/feature_identification.html) section."
   ],
   "metadata": {
    "collapsed": false
   },
   "id": "c5e50ffc64583715"
  }
 ],
 "metadata": {
  "kernelspec": {
   "display_name": "Python 3",
   "language": "python",
   "name": "python3"
  },
  "language_info": {
   "codemirror_mode": {
    "name": "ipython",
    "version": 2
   },
   "file_extension": ".py",
   "mimetype": "text/x-python",
   "name": "python",
   "nbconvert_exporter": "python",
   "pygments_lexer": "ipython2",
   "version": "2.7.6"
  }
 },
 "nbformat": 4,
 "nbformat_minor": 5
}
