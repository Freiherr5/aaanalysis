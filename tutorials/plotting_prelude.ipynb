{
 "cells": [
  {
   "cell_type": "markdown",
   "source": [
    "# Plotting prelude\n",
    "This is a short overview of our utility plotting functions to make publication-ready visualizations with a view extra lines of code using the three following functions:"
   ],
   "metadata": {
    "collapsed": false
   },
   "id": "526e43cfee6da6d8"
  },
  {
   "cell_type": "code",
   "execution_count": null,
   "outputs": [],
   "source": [],
   "metadata": {
    "collapsed": false
   },
   "id": "2673a6d600050969"
  }
 ],
 "metadata": {
  "kernelspec": {
   "display_name": "Python 3",
   "language": "python",
   "name": "python3"
  },
  "language_info": {
   "codemirror_mode": {
    "name": "ipython",
    "version": 2
   },
   "file_extension": ".py",
   "mimetype": "text/x-python",
   "name": "python",
   "nbconvert_exporter": "python",
   "pygments_lexer": "ipython2",
   "version": "2.7.6"
  }
 },
 "nbformat": 4,
 "nbformat_minor": 5
}
