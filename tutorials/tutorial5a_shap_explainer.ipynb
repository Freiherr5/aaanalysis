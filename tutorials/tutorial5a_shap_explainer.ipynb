{
 "cells": [
  {
   "cell_type": "markdown",
   "source": [
    "# ShapExplainer: Explaining with single-residue resolution\n",
    "\n",
    "To explain sample-specific predictions with single-residue resolution, we developed a wrapper model for the explainable AI framework [SHAP (SHapley Additive exPlanations)] (https://shap.readthedocs.io/en/latest/index.html), which is a game-theoretic approach to explain the output of any machine learning model. Introduced in [Breimann24c]_, our ``ShapExplainer`` model allows fitting multiple SHAP explainers and integrating their output consistently to obtain a robust estimate of feature impacts.\n",
    "\n",
    "The impact of a feature can be either positive (red) or negative (blue), which means that it increases or decreases the model prediction output, respectively.\n",
    "\n",
    "To demonstrate this, we will load an example dataset of γ-secretase substrates (n=63) and non-substrates (n=63) dataset ([Breimann24c]_) and explain the prediction output for the Alzheimer´s disease associated amyloid precursor protein (APP):  "
   ],
   "metadata": {
    "collapsed": false
   },
   "id": "93eca062943c6c9"
  },
  {
   "cell_type": "code",
   "execution_count": null,
   "outputs": [],
   "source": [
    "import aaanalysis as aa\n",
    "aa.options[\"verbose\"] = False"
   ],
   "metadata": {
    "collapsed": false
   },
   "id": "d0f7a1e2fcb6028b"
  },
  {
   "cell_type": "code",
   "execution_count": null,
   "outputs": [],
   "source": [],
   "metadata": {
    "collapsed": false
   },
   "id": "f573ca0f089d1c53"
  },
  {
   "cell_type": "code",
   "execution_count": null,
   "outputs": [],
   "source": [],
   "metadata": {
    "collapsed": false
   },
   "id": "9c648b64714c2fc9"
  },
  {
   "cell_type": "markdown",
   "source": [
    "Details on the ``ShapExplainer`` class can be found in the [ShapExplainer API](https://aaanalysis.readthedocs.io/en/latest/generated/aaanalysis.ShapExplainer.html). More information on explainable AI and how CPP and SHAP were combined are provided in the [Explainable AI Usage Principles](https://aaanalysis.readthedocs.io/en/latest/index/usage_principles/xai.html) section."
   ],
   "metadata": {
    "collapsed": false
   },
   "id": "823ad743f3fd9ce0"
  }
 ],
 "metadata": {
  "kernelspec": {
   "display_name": "Python 3",
   "language": "python",
   "name": "python3"
  },
  "language_info": {
   "codemirror_mode": {
    "name": "ipython",
    "version": 2
   },
   "file_extension": ".py",
   "mimetype": "text/x-python",
   "name": "python",
   "nbconvert_exporter": "python",
   "pygments_lexer": "ipython2",
   "version": "2.7.6"
  }
 },
 "nbformat": 4,
 "nbformat_minor": 5
}
