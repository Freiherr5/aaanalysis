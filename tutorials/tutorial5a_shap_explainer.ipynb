{
 "cells": [
  {
   "cell_type": "markdown",
   "source": [
    "# ShapExplainer: Explaining with single-residue resolution"
   ],
   "metadata": {
    "collapsed": false
   },
   "id": "93eca062943c6c9"
  },
  {
   "cell_type": "code",
   "execution_count": null,
   "outputs": [],
   "source": [
    "import aaanalysis as aa\n",
    "aa.options[\"verbose\"] = False"
   ],
   "metadata": {
    "collapsed": false
   },
   "id": "d0f7a1e2fcb6028b"
  },
  {
   "cell_type": "code",
   "execution_count": null,
   "outputs": [],
   "source": [],
   "metadata": {
    "collapsed": false
   },
   "id": "f573ca0f089d1c53"
  },
  {
   "cell_type": "code",
   "execution_count": null,
   "outputs": [],
   "source": [],
   "metadata": {
    "collapsed": false
   },
   "id": "9c648b64714c2fc9"
  },
  {
   "cell_type": "markdown",
   "source": [
    "Details on the ``ShapExplainer`` class can be found in the [ShapExplainer API](https://aaanalysis.readthedocs.io/en/latest/generated/aaanalysis.ShapExplainer.html). More information on explainable AI and how CPP and SHAP were combined are provided in the [Explainable AI Usage Principles](https://aaanalysis.readthedocs.io/en/latest/index/usage_principles/xai.html) section."
   ],
   "metadata": {
    "collapsed": false
   },
   "id": "823ad743f3fd9ce0"
  }
 ],
 "metadata": {
  "kernelspec": {
   "display_name": "Python 3",
   "language": "python",
   "name": "python3"
  },
  "language_info": {
   "codemirror_mode": {
    "name": "ipython",
    "version": 2
   },
   "file_extension": ".py",
   "mimetype": "text/x-python",
   "name": "python",
   "nbconvert_exporter": "python",
   "pygments_lexer": "ipython2",
   "version": "2.7.6"
  }
 },
 "nbformat": 4,
 "nbformat_minor": 5
}
