{
 "cells": [
  {
   "cell_type": "markdown",
   "source": [
    "# Data loading\n",
    "\n",
    "An overview of the benchmark datasets are provided by default:"
   ],
   "metadata": {
    "collapsed": false,
    "pycharm": {
     "name": "#%% md\n"
    }
   }
  },
  {
   "cell_type": "code",
   "execution_count": 2,
   "outputs": [
    {
     "name": "stdout",
     "output_type": "stream",
     "text": [
      "         Level        Dataset  # Sequences  # Amino acids  # Positives  # Negatives    Predictor\n",
      "0   Amino acid    AA_CASPASE3          233         185605          705       184900   PROSPERous\n",
      "1   Amino acid       AA_FURIN           71          59003          163        58840   PROSPERous\n",
      "2   Amino acid         AA_LDR          342         118248        35469        82779  IDP-Seq2Seq\n",
      "3   Amino acid        AA_MMP2          573         312976         2416       310560   PROSPERous\n",
      "4   Amino acid     AA_RNABIND          221          55001         6492        48509    GMKSVM-RU\n",
      "5   Amino acid          AA_SA          233         185605       101082        84523   PROSPERous\n",
      "6     Sequence      SEQ_AMYLO         1414           8484          511          903    ReRF-Pred\n",
      "7     Sequence     SEQ_CAPSID         7935        3364680         3864         4071     VIRALpro\n",
      "8     Sequence  SEQ_DISULFIDE         2547         614470          897         1650        Dipro\n",
      "9     Sequence   SEQ_LOCATION         1835         732398         1045          790          NaN\n",
      "10    Sequence    SEQ_SOLUBLE        17408        4432269         8704         8704       SOLpro\n",
      "11    Sequence       SEQ_TAIL         6668        2671690         2574         4094     VIRALpro\n",
      "12      Domain       DOM_GSEC          126          92964           63           63          NaN\n",
      "13      Domain    DOM_GSEC_PU          694         494524           63            0          NaN\n"
     ]
    }
   ],
   "source": [
    "import aaanalysis as aa\n",
    "df_info = aa.load_dataset()\n",
    "print(df_info.iloc[:, :7])"
   ],
   "metadata": {
    "collapsed": false,
    "pycharm": {
     "name": "#%%\n",
     "is_executing": true
    },
    "ExecuteTime": {
     "end_time": "2023-09-21T17:33:17.616332285Z",
     "start_time": "2023-09-21T17:33:17.528343838Z"
    }
   }
  },
  {
   "cell_type": "markdown",
   "source": [
    "Benchmark datasets are categorized into amino acid ('AA'), domain ('DOM'), and sequence ('SEQ') level datasets, indicated name suffix."
   ],
   "metadata": {
    "collapsed": false,
    "pycharm": {
     "name": "#%% md\n"
    }
   }
  },
  {
   "cell_type": "code",
   "execution_count": 3,
   "outputs": [
    {
     "name": "stdout",
     "output_type": "stream",
     "text": [
      "    entry                                           sequence  label  tmd_start  tmd_stop       jmd_n                      tmd       jmd_c\n",
      "0  P05067  MLPGLALLLLAAWTARALEVPTDGNAGLLAEPQIAMFCGRLNMHMN...      1        701       723  FAEDVGSNKG  AIIGLMVGGVVIATVIVITLVML  KKKQYTSIHH\n",
      "1  P14925  MAGRARSGLLLLLLGLLALQSSCLAFRSPLSVFKRFKETTRSFSNE...      1        868       890  KLSTEPGSGV  SVVLITTLLVIPVLVLLAIVMFI  RWKKSRAFGD\n",
      "2  P70180  MRSLLLFTFSACVLLARVLLAGGASSGAGDTRPGSRRRAREALAAQ...      1        477       499  PCKSSGGLEE  SAVTGIVVGALLGAGLLMAFYFF  RKKYRITIER\n",
      "3  Q03157  MGPTSPAARGQGRRWRPPPLPLLLPLSLLLLRAQLAVGNLAVGSPS...      1        585       607  APSGTGVSRE  ALSGLLIMGAGGGSLIVLSLLLL  RKKKPYGTIS\n",
      "4  Q06481  MAATGTAAAAATGRLLLLLLVGLTAPALALAGYIEALAANAGTGFA...      1        694       716  LREDFSLSSS  ALIGLLVIAVAIATVIVISLVML  RKRQYGTISH\n"
     ]
    }
   ],
   "source": [
    "df_seq1 = aa.load_dataset(name=\"AA_FURIN\")\n",
    "df_seq2 = aa.load_dataset(name=\"SEQ_AMYLO\")\n",
    "df_seq3 = aa.load_dataset(name=\"DOM_GSEC\")\n",
    "print(df_seq3.head(5))"
   ],
   "metadata": {
    "collapsed": false,
    "pycharm": {
     "name": "#%%\n"
    },
    "ExecuteTime": {
     "end_time": "2023-09-21T17:33:21.082423140Z",
     "start_time": "2023-09-21T17:33:20.839685066Z"
    }
   }
  },
  {
   "cell_type": "markdown",
   "source": [
    "For some datasets, an additional version of it is provided\n",
    "for positive-unlabeled (PU) learning containing only positive (1) and unlabeled (2) data samples, as indicated by\n",
    "*dataset_name_PU* (e.g., 'DOM_GSEC_PU').\n"
   ],
   "metadata": {
    "collapsed": false,
    "pycharm": {
     "name": "#%% md\n"
    }
   }
  }
 ],
 "metadata": {
  "kernelspec": {
   "display_name": "Python 3",
   "language": "python",
   "name": "python3"
  },
  "language_info": {
   "codemirror_mode": {
    "name": "ipython",
    "version": 2
   },
   "file_extension": ".py",
   "mimetype": "text/x-python",
   "name": "python",
   "nbconvert_exporter": "python",
   "pygments_lexer": "ipython2",
   "version": "2.7.6"
  }
 },
 "nbformat": 4,
 "nbformat_minor": 0
}
