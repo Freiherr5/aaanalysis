{
 "cells": [
  {
   "cell_type": "markdown",
   "source": [
    "# Quick Start with AAanalysis\n",
    "Dive into the powerful capabilities of ``AAanalysis``—a Python framework dedicated to sequence-based, alignment-free protein prediction. In this tutorial, using gamma-secretase substrates and non-substrates as an example, we'll focus on extracting interpretable features from protein sequences using the ``AAclust`` and ``CPP`` models and how they can be harnessed for binary classification tasks.\n",
    "\n",
    "What You Will Learn:\n",
    "- ``Loading Sequences and Scales``: How to easily load protein sequences and their amino acid scales.\n",
    "- ``Feature Engineering``: Extract essential features using the ``AAclust`` and ``CPP`` models.\n",
    "- ``Protein Prediction``: Make predictions using the RandomForest model.\n",
    "- ``Explainable AI``: Interpret predictions at the group and individual levels by combining ``CPP`` with ``SHAP``.\n",
    "\n",
    "## 1. Loading Sequences and Scales\n",
    "With AAanalysis, you have access to numerous benchmark datasets for protein sequence analysis. Using our γ-secretase substrates and non-substrates dataset as a hands-on example, you can effortlessly retrieve these datasets using the ``aa.load_dataset()`` function. Furthermore, amino acid scales, predominantly from AAindex, along with their hierarchical classification (known as ``AAontology``), are available at your fingertips with the ``aa.load_scales()`` function."
   ],
   "metadata": {
    "collapsed": false
   }
  },
  {
   "cell_type": "code",
   "execution_count": 8,
   "metadata": {
    "pycharm": {
     "name": "#%%\n"
    },
    "ExecuteTime": {
     "end_time": "2023-09-23T14:15:04.562034649Z",
     "start_time": "2023-09-23T14:15:04.508201346Z"
    }
   },
   "outputs": [
    {
     "data": {
      "text/plain": "     entry                                           sequence  label  tmd_start  tmd_stop       jmd_n                      tmd       jmd_c\n0   Q14802  MQKVTLGLLVFLAGFPVLDANDLEDKNSPFYYDWHSLQVGGLICAG...      0         37        59  NSPFYYDWHS  LQVGGLICAGVLCAMGIIIVMSA  KCKCKFGQKS\n1   Q86UE4  MAARSWQDELAQQAEEGSARLREMLSVGLGFLRTELGLDLGLEPKR...      0         50        72  LGLEPKRYPG  WVILVGTGALGLLLLFLLGYGWA  AACAGARKKR\n2   Q969W9  MHRLMGVNSTAAAAAGQPNVSCTCNCKRSLFQSMEITELEFVQIII...      0         41        63  FQSMEITELE  FVQIIIIVVVMMVMVVVITCLLS  HYKLSARSFI\n3   P53801  MAPGVARGPTPYWRLRLGGAALLLLLIPVAAAQEPPGAACSQNTNK...      0         97       119  RWGVCWVNFE  ALIITMSVVGGTLLLGIAICCCC  CCRRKRSRKP\n4   Q8IUW5  MAPRALPGSAVLAAAVFVGGAVSSPLVAPDNGSSRTLHSRTETTPS...      0         59        81  NDTGNGHPEY  IAYALVPVFFIMGLFGVLICHLL  KKKGYRCTTE\n..     ...                                                ...    ...        ...       ...         ...                      ...         ...\n95  P15209  MSPWLKWHGPAMARLWGLCLLVLGFWRASLACPTSCKCSSARIWCT...      1        431       453  VADQSNREHL  SVYAVVVIASVVGFCLLVMLLLL  KLARHSKFGM\n96  Q86YL7  MWKVSALLFVLGSASLWVLAEGASTGQPEDDTETTGLEGGVAMPGA...      1        130       152  TVEKDGLSTV  TLVGIIVGVLLAIGFIGAIIVVV  MRKMSGRYSP\n97  Q13308  MGAARGSPARPRRLPLLSVLLLPLLGGTQTAIVFIKQPSSQDALQG...      1        704       726  GSPPPYKMIQ  TIGLSVGAAVAYIIAVLGLMFYC  KKRCKAKRLQ\n98  P10586  MAPEPAPGRTMVPLVPALVMLGLVAGAHGDSKPVFIKVPEDQTGLS...      1       1262      1284  PAQQQEEPEM  LWVTGPVLAVILIILIVIAILLF  KRKRTHSPSS\n99  P28828  MRTLGTCLVTLAGLLLTAAGETFSGGCLFDEPYSTCGYSQADEDDF...      1        743       764  PEKQTDHTVK   IAGVIAGILLFVIIFLGVVLVM  KKRKLAKKRK\n\n[100 rows x 8 columns]",
      "text/html": "<div>\n<style scoped>\n    .dataframe tbody tr th:only-of-type {\n        vertical-align: middle;\n    }\n\n    .dataframe tbody tr th {\n        vertical-align: top;\n    }\n\n    .dataframe thead th {\n        text-align: right;\n    }\n</style>\n<table border=\"1\" class=\"dataframe\">\n  <thead>\n    <tr style=\"text-align: right;\">\n      <th></th>\n      <th>entry</th>\n      <th>sequence</th>\n      <th>label</th>\n      <th>tmd_start</th>\n      <th>tmd_stop</th>\n      <th>jmd_n</th>\n      <th>tmd</th>\n      <th>jmd_c</th>\n    </tr>\n  </thead>\n  <tbody>\n    <tr>\n      <th>0</th>\n      <td>Q14802</td>\n      <td>MQKVTLGLLVFLAGFPVLDANDLEDKNSPFYYDWHSLQVGGLICAG...</td>\n      <td>0</td>\n      <td>37</td>\n      <td>59</td>\n      <td>NSPFYYDWHS</td>\n      <td>LQVGGLICAGVLCAMGIIIVMSA</td>\n      <td>KCKCKFGQKS</td>\n    </tr>\n    <tr>\n      <th>1</th>\n      <td>Q86UE4</td>\n      <td>MAARSWQDELAQQAEEGSARLREMLSVGLGFLRTELGLDLGLEPKR...</td>\n      <td>0</td>\n      <td>50</td>\n      <td>72</td>\n      <td>LGLEPKRYPG</td>\n      <td>WVILVGTGALGLLLLFLLGYGWA</td>\n      <td>AACAGARKKR</td>\n    </tr>\n    <tr>\n      <th>2</th>\n      <td>Q969W9</td>\n      <td>MHRLMGVNSTAAAAAGQPNVSCTCNCKRSLFQSMEITELEFVQIII...</td>\n      <td>0</td>\n      <td>41</td>\n      <td>63</td>\n      <td>FQSMEITELE</td>\n      <td>FVQIIIIVVVMMVMVVVITCLLS</td>\n      <td>HYKLSARSFI</td>\n    </tr>\n    <tr>\n      <th>3</th>\n      <td>P53801</td>\n      <td>MAPGVARGPTPYWRLRLGGAALLLLLIPVAAAQEPPGAACSQNTNK...</td>\n      <td>0</td>\n      <td>97</td>\n      <td>119</td>\n      <td>RWGVCWVNFE</td>\n      <td>ALIITMSVVGGTLLLGIAICCCC</td>\n      <td>CCRRKRSRKP</td>\n    </tr>\n    <tr>\n      <th>4</th>\n      <td>Q8IUW5</td>\n      <td>MAPRALPGSAVLAAAVFVGGAVSSPLVAPDNGSSRTLHSRTETTPS...</td>\n      <td>0</td>\n      <td>59</td>\n      <td>81</td>\n      <td>NDTGNGHPEY</td>\n      <td>IAYALVPVFFIMGLFGVLICHLL</td>\n      <td>KKKGYRCTTE</td>\n    </tr>\n    <tr>\n      <th>...</th>\n      <td>...</td>\n      <td>...</td>\n      <td>...</td>\n      <td>...</td>\n      <td>...</td>\n      <td>...</td>\n      <td>...</td>\n      <td>...</td>\n    </tr>\n    <tr>\n      <th>95</th>\n      <td>P15209</td>\n      <td>MSPWLKWHGPAMARLWGLCLLVLGFWRASLACPTSCKCSSARIWCT...</td>\n      <td>1</td>\n      <td>431</td>\n      <td>453</td>\n      <td>VADQSNREHL</td>\n      <td>SVYAVVVIASVVGFCLLVMLLLL</td>\n      <td>KLARHSKFGM</td>\n    </tr>\n    <tr>\n      <th>96</th>\n      <td>Q86YL7</td>\n      <td>MWKVSALLFVLGSASLWVLAEGASTGQPEDDTETTGLEGGVAMPGA...</td>\n      <td>1</td>\n      <td>130</td>\n      <td>152</td>\n      <td>TVEKDGLSTV</td>\n      <td>TLVGIIVGVLLAIGFIGAIIVVV</td>\n      <td>MRKMSGRYSP</td>\n    </tr>\n    <tr>\n      <th>97</th>\n      <td>Q13308</td>\n      <td>MGAARGSPARPRRLPLLSVLLLPLLGGTQTAIVFIKQPSSQDALQG...</td>\n      <td>1</td>\n      <td>704</td>\n      <td>726</td>\n      <td>GSPPPYKMIQ</td>\n      <td>TIGLSVGAAVAYIIAVLGLMFYC</td>\n      <td>KKRCKAKRLQ</td>\n    </tr>\n    <tr>\n      <th>98</th>\n      <td>P10586</td>\n      <td>MAPEPAPGRTMVPLVPALVMLGLVAGAHGDSKPVFIKVPEDQTGLS...</td>\n      <td>1</td>\n      <td>1262</td>\n      <td>1284</td>\n      <td>PAQQQEEPEM</td>\n      <td>LWVTGPVLAVILIILIVIAILLF</td>\n      <td>KRKRTHSPSS</td>\n    </tr>\n    <tr>\n      <th>99</th>\n      <td>P28828</td>\n      <td>MRTLGTCLVTLAGLLLTAAGETFSGGCLFDEPYSTCGYSQADEDDF...</td>\n      <td>1</td>\n      <td>743</td>\n      <td>764</td>\n      <td>PEKQTDHTVK</td>\n      <td>IAGVIAGILLFVIIFLGVVLVM</td>\n      <td>KKRKLAKKRK</td>\n    </tr>\n  </tbody>\n</table>\n<p>100 rows × 8 columns</p>\n</div>"
     },
     "execution_count": 8,
     "metadata": {},
     "output_type": "execute_result"
    }
   ],
   "source": [
    "import aaanalysis as aa\n",
    "# Load scales and scale categories (AAontology) \n",
    "df_scales = aa.load_scales()\n",
    "df_cat = aa.load_scales(name=\"scales_cat\")\n",
    "# Load training data\n",
    "df_seq = aa.load_dataset(name=\"DOM_GSEC\", n=50)\n",
    "df_seq"
   ]
  },
  {
   "cell_type": "markdown",
   "metadata": {
    "pycharm": {
     "name": "#%% md\n"
    }
   },
   "source": [
    "## 2.  Feature Engineering\n",
    "The centerpiece of AAanalysis is the Comparative Physicochemical Profiling (``CPP``) model, which is supported by ``AAclust`` for the pre-selection of amino acid scales. \n",
    "\n",
    "### AAclust\n",
    "Since redundancy is an essential problem for machine learning tasks, the ``AAclust`` object provides a lightweight wrapper for sklearn clustering algorithms such as Agglomerative clustering. AAclust clusters a set of scales and selects for each cluster the most representative scale (i.e., the scale closes to the cluster center)."
   ]
  },
  {
   "cell_type": "code",
   "execution_count": 9,
   "outputs": [
    {
     "data": {
      "text/plain": "    SUEM840101  NISK860101  KANM800101  CHOP780101  MIYS990105  FAUJ880103  QIAN880126  MUNV940105  LINS030104  JOND920101\nAA                                                                                                                        \nA        0.788       0.406       0.875       0.174       0.492       0.124       0.451       0.175       0.093       0.818\nC        0.544       0.906       0.312       0.661       0.016       0.301       0.324       0.089       0.000       0.078\nD        0.146       0.006       0.542       0.908       0.825       0.344       0.745       0.337       0.588       0.494\nE        0.622       0.055       1.000       0.248       0.857       0.468       0.471       0.182       0.804       0.623\nF        0.813       0.968       0.552       0.119       0.000       0.729       0.186       0.066       0.082       0.338\nG        0.000       0.262       0.115       1.000       0.492       0.000       0.676       0.393       0.144       0.779\nH        0.425       0.559       0.615       0.440       0.492       0.577       0.696       0.125       0.423       0.117\nI        0.901       1.000       0.583       0.000       0.079       0.495       0.314       0.050       0.010       0.506\nK        0.571       0.000       0.729       0.495       1.000       0.590       0.088       0.155       1.000       0.584\nL        0.901       0.942       0.719       0.110       0.016       0.495       0.059       0.152       0.041       1.000\nM        1.000       0.788       0.969       0.119       0.127       0.548       0.000       0.083       0.082       0.130\nN        0.317       0.157       0.385       1.000       0.683       0.365       0.608       0.244       0.557       0.377\nP        0.112       0.118       0.000       0.963       0.698       0.337       0.873       1.000       0.454       0.481\nQ        0.634       0.145       0.646       0.468       0.762       0.489       0.471       0.152       0.711       0.351\nR        0.726       0.333       0.500       0.440       0.651       0.759       0.529       0.119       0.845       0.481\nS        0.278       0.137       0.229       0.881       0.698       0.198       0.931       0.109       0.309       0.714\nT        0.371       0.305       0.302       0.450       0.603       0.322       1.000       0.040       0.330       0.584\nV        0.589       0.884       0.438       0.028       0.159       0.371       0.510       0.000       0.031       0.675\nW        0.847       0.961       0.469       0.450       0.095       1.000       0.196       0.076       0.206       0.000\nY        0.704       0.649       0.281       0.615       0.159       0.801       0.853       0.036       0.268       0.234",
      "text/html": "<div>\n<style scoped>\n    .dataframe tbody tr th:only-of-type {\n        vertical-align: middle;\n    }\n\n    .dataframe tbody tr th {\n        vertical-align: top;\n    }\n\n    .dataframe thead th {\n        text-align: right;\n    }\n</style>\n<table border=\"1\" class=\"dataframe\">\n  <thead>\n    <tr style=\"text-align: right;\">\n      <th></th>\n      <th>SUEM840101</th>\n      <th>NISK860101</th>\n      <th>KANM800101</th>\n      <th>CHOP780101</th>\n      <th>MIYS990105</th>\n      <th>FAUJ880103</th>\n      <th>QIAN880126</th>\n      <th>MUNV940105</th>\n      <th>LINS030104</th>\n      <th>JOND920101</th>\n    </tr>\n    <tr>\n      <th>AA</th>\n      <th></th>\n      <th></th>\n      <th></th>\n      <th></th>\n      <th></th>\n      <th></th>\n      <th></th>\n      <th></th>\n      <th></th>\n      <th></th>\n    </tr>\n  </thead>\n  <tbody>\n    <tr>\n      <th>A</th>\n      <td>0.788</td>\n      <td>0.406</td>\n      <td>0.875</td>\n      <td>0.174</td>\n      <td>0.492</td>\n      <td>0.124</td>\n      <td>0.451</td>\n      <td>0.175</td>\n      <td>0.093</td>\n      <td>0.818</td>\n    </tr>\n    <tr>\n      <th>C</th>\n      <td>0.544</td>\n      <td>0.906</td>\n      <td>0.312</td>\n      <td>0.661</td>\n      <td>0.016</td>\n      <td>0.301</td>\n      <td>0.324</td>\n      <td>0.089</td>\n      <td>0.000</td>\n      <td>0.078</td>\n    </tr>\n    <tr>\n      <th>D</th>\n      <td>0.146</td>\n      <td>0.006</td>\n      <td>0.542</td>\n      <td>0.908</td>\n      <td>0.825</td>\n      <td>0.344</td>\n      <td>0.745</td>\n      <td>0.337</td>\n      <td>0.588</td>\n      <td>0.494</td>\n    </tr>\n    <tr>\n      <th>E</th>\n      <td>0.622</td>\n      <td>0.055</td>\n      <td>1.000</td>\n      <td>0.248</td>\n      <td>0.857</td>\n      <td>0.468</td>\n      <td>0.471</td>\n      <td>0.182</td>\n      <td>0.804</td>\n      <td>0.623</td>\n    </tr>\n    <tr>\n      <th>F</th>\n      <td>0.813</td>\n      <td>0.968</td>\n      <td>0.552</td>\n      <td>0.119</td>\n      <td>0.000</td>\n      <td>0.729</td>\n      <td>0.186</td>\n      <td>0.066</td>\n      <td>0.082</td>\n      <td>0.338</td>\n    </tr>\n    <tr>\n      <th>G</th>\n      <td>0.000</td>\n      <td>0.262</td>\n      <td>0.115</td>\n      <td>1.000</td>\n      <td>0.492</td>\n      <td>0.000</td>\n      <td>0.676</td>\n      <td>0.393</td>\n      <td>0.144</td>\n      <td>0.779</td>\n    </tr>\n    <tr>\n      <th>H</th>\n      <td>0.425</td>\n      <td>0.559</td>\n      <td>0.615</td>\n      <td>0.440</td>\n      <td>0.492</td>\n      <td>0.577</td>\n      <td>0.696</td>\n      <td>0.125</td>\n      <td>0.423</td>\n      <td>0.117</td>\n    </tr>\n    <tr>\n      <th>I</th>\n      <td>0.901</td>\n      <td>1.000</td>\n      <td>0.583</td>\n      <td>0.000</td>\n      <td>0.079</td>\n      <td>0.495</td>\n      <td>0.314</td>\n      <td>0.050</td>\n      <td>0.010</td>\n      <td>0.506</td>\n    </tr>\n    <tr>\n      <th>K</th>\n      <td>0.571</td>\n      <td>0.000</td>\n      <td>0.729</td>\n      <td>0.495</td>\n      <td>1.000</td>\n      <td>0.590</td>\n      <td>0.088</td>\n      <td>0.155</td>\n      <td>1.000</td>\n      <td>0.584</td>\n    </tr>\n    <tr>\n      <th>L</th>\n      <td>0.901</td>\n      <td>0.942</td>\n      <td>0.719</td>\n      <td>0.110</td>\n      <td>0.016</td>\n      <td>0.495</td>\n      <td>0.059</td>\n      <td>0.152</td>\n      <td>0.041</td>\n      <td>1.000</td>\n    </tr>\n    <tr>\n      <th>M</th>\n      <td>1.000</td>\n      <td>0.788</td>\n      <td>0.969</td>\n      <td>0.119</td>\n      <td>0.127</td>\n      <td>0.548</td>\n      <td>0.000</td>\n      <td>0.083</td>\n      <td>0.082</td>\n      <td>0.130</td>\n    </tr>\n    <tr>\n      <th>N</th>\n      <td>0.317</td>\n      <td>0.157</td>\n      <td>0.385</td>\n      <td>1.000</td>\n      <td>0.683</td>\n      <td>0.365</td>\n      <td>0.608</td>\n      <td>0.244</td>\n      <td>0.557</td>\n      <td>0.377</td>\n    </tr>\n    <tr>\n      <th>P</th>\n      <td>0.112</td>\n      <td>0.118</td>\n      <td>0.000</td>\n      <td>0.963</td>\n      <td>0.698</td>\n      <td>0.337</td>\n      <td>0.873</td>\n      <td>1.000</td>\n      <td>0.454</td>\n      <td>0.481</td>\n    </tr>\n    <tr>\n      <th>Q</th>\n      <td>0.634</td>\n      <td>0.145</td>\n      <td>0.646</td>\n      <td>0.468</td>\n      <td>0.762</td>\n      <td>0.489</td>\n      <td>0.471</td>\n      <td>0.152</td>\n      <td>0.711</td>\n      <td>0.351</td>\n    </tr>\n    <tr>\n      <th>R</th>\n      <td>0.726</td>\n      <td>0.333</td>\n      <td>0.500</td>\n      <td>0.440</td>\n      <td>0.651</td>\n      <td>0.759</td>\n      <td>0.529</td>\n      <td>0.119</td>\n      <td>0.845</td>\n      <td>0.481</td>\n    </tr>\n    <tr>\n      <th>S</th>\n      <td>0.278</td>\n      <td>0.137</td>\n      <td>0.229</td>\n      <td>0.881</td>\n      <td>0.698</td>\n      <td>0.198</td>\n      <td>0.931</td>\n      <td>0.109</td>\n      <td>0.309</td>\n      <td>0.714</td>\n    </tr>\n    <tr>\n      <th>T</th>\n      <td>0.371</td>\n      <td>0.305</td>\n      <td>0.302</td>\n      <td>0.450</td>\n      <td>0.603</td>\n      <td>0.322</td>\n      <td>1.000</td>\n      <td>0.040</td>\n      <td>0.330</td>\n      <td>0.584</td>\n    </tr>\n    <tr>\n      <th>V</th>\n      <td>0.589</td>\n      <td>0.884</td>\n      <td>0.438</td>\n      <td>0.028</td>\n      <td>0.159</td>\n      <td>0.371</td>\n      <td>0.510</td>\n      <td>0.000</td>\n      <td>0.031</td>\n      <td>0.675</td>\n    </tr>\n    <tr>\n      <th>W</th>\n      <td>0.847</td>\n      <td>0.961</td>\n      <td>0.469</td>\n      <td>0.450</td>\n      <td>0.095</td>\n      <td>1.000</td>\n      <td>0.196</td>\n      <td>0.076</td>\n      <td>0.206</td>\n      <td>0.000</td>\n    </tr>\n    <tr>\n      <th>Y</th>\n      <td>0.704</td>\n      <td>0.649</td>\n      <td>0.281</td>\n      <td>0.615</td>\n      <td>0.159</td>\n      <td>0.801</td>\n      <td>0.853</td>\n      <td>0.036</td>\n      <td>0.268</td>\n      <td>0.234</td>\n    </tr>\n  </tbody>\n</table>\n</div>"
     },
     "execution_count": 9,
     "metadata": {},
     "output_type": "execute_result"
    }
   ],
   "source": [
    "from sklearn.cluster import AgglomerativeClustering\n",
    "import numpy as np\n",
    "aac = aa.AAclust(model=AgglomerativeClustering, model_kwargs=dict(linkage=\"ward\"))\n",
    "X = np.array(df_scales).T\n",
    "scales = aac.fit(X, n_clusters=10, names=list(df_scales)) \n",
    "df_scales = df_scales[scales]\n",
    "df_scales"
   ],
   "metadata": {
    "collapsed": false,
    "ExecuteTime": {
     "end_time": "2023-09-23T14:15:07.346288614Z",
     "start_time": "2023-09-23T14:15:07.280822767Z"
    }
   }
  },
  {
   "cell_type": "markdown",
   "source": [
    "### Comparative Physicochemical Profiling (CPP)\n",
    " CPP is a sequence-based feature engineering algorithm. It aims at identifying a set of features most discriminant between two sets of sequences: the test set and the reference set. Supported by the ``SequenceFeature`` object (``sf``), A CPP feature integrates:\n",
    " \n",
    "- ``Parts``: Are combination of a target middle domain (TMD) and N- and C-terminal adjacent regions (JMD-N and JMD-C, respectively), obtained ``sf.get_df_parts()``.\n",
    "- ``Splits``: These `Parts` can be split into various continuous segments or discontinuous patterns, specified ``sf.get_split_kws()``. \n",
    "- ``Scales``: Sets of amino acid scales."
   ],
   "metadata": {
    "collapsed": false
   }
  },
  {
   "cell_type": "code",
   "execution_count": 10,
   "metadata": {
    "pycharm": {
     "name": "#%%\n"
    },
    "ExecuteTime": {
     "end_time": "2023-09-23T14:15:11.021981566Z",
     "start_time": "2023-09-23T14:15:10.913819589Z"
    }
   },
   "outputs": [
    {
     "data": {
      "text/plain": "                            tmd             jmd_n_tmd_n            tmd_c_jmd_c\nQ14802  LQVGGLICAGVLCAMGIIIVMSA  NSPFYYDWHSLQVGGLICAGVL  CAMGIIIVMSAKCKCKFGQKS\nQ86UE4  WVILVGTGALGLLLLFLLGYGWA  LGLEPKRYPGWVILVGTGALGL  LLLFLLGYGWAAACAGARKKR\nQ969W9  FVQIIIIVVVMMVMVVVITCLLS  FQSMEITELEFVQIIIIVVVMM  VMVVVITCLLSHYKLSARSFI\nP53801  ALIITMSVVGGTLLLGIAICCCC  RWGVCWVNFEALIITMSVVGGT  LLLGIAICCCCCCRRKRSRKP\nQ8IUW5  IAYALVPVFFIMGLFGVLICHLL  NDTGNGHPEYIAYALVPVFFIM  GLFGVLICHLLKKKGYRCTTE\n...                         ...                     ...                    ...\nP15209  SVYAVVVIASVVGFCLLVMLLLL  VADQSNREHLSVYAVVVIASVV  GFCLLVMLLLLKLARHSKFGM\nQ86YL7  TLVGIIVGVLLAIGFIGAIIVVV  TVEKDGLSTVTLVGIIVGVLLA  IGFIGAIIVVVMRKMSGRYSP\nQ13308  TIGLSVGAAVAYIIAVLGLMFYC  GSPPPYKMIQTIGLSVGAAVAY  IIAVLGLMFYCKKRCKAKRLQ\nP10586  LWVTGPVLAVILIILIVIAILLF  PAQQQEEPEMLWVTGPVLAVIL  IILIVIAILLFKRKRTHSPSS\nP28828   IAGVIAGILLFVIIFLGVVLVM   PEKQTDHTVKIAGVIAGILLF  VIIFLGVVLVMKKRKLAKKRK\n\n[100 rows x 3 columns]",
      "text/html": "<div>\n<style scoped>\n    .dataframe tbody tr th:only-of-type {\n        vertical-align: middle;\n    }\n\n    .dataframe tbody tr th {\n        vertical-align: top;\n    }\n\n    .dataframe thead th {\n        text-align: right;\n    }\n</style>\n<table border=\"1\" class=\"dataframe\">\n  <thead>\n    <tr style=\"text-align: right;\">\n      <th></th>\n      <th>tmd</th>\n      <th>jmd_n_tmd_n</th>\n      <th>tmd_c_jmd_c</th>\n    </tr>\n  </thead>\n  <tbody>\n    <tr>\n      <th>Q14802</th>\n      <td>LQVGGLICAGVLCAMGIIIVMSA</td>\n      <td>NSPFYYDWHSLQVGGLICAGVL</td>\n      <td>CAMGIIIVMSAKCKCKFGQKS</td>\n    </tr>\n    <tr>\n      <th>Q86UE4</th>\n      <td>WVILVGTGALGLLLLFLLGYGWA</td>\n      <td>LGLEPKRYPGWVILVGTGALGL</td>\n      <td>LLLFLLGYGWAAACAGARKKR</td>\n    </tr>\n    <tr>\n      <th>Q969W9</th>\n      <td>FVQIIIIVVVMMVMVVVITCLLS</td>\n      <td>FQSMEITELEFVQIIIIVVVMM</td>\n      <td>VMVVVITCLLSHYKLSARSFI</td>\n    </tr>\n    <tr>\n      <th>P53801</th>\n      <td>ALIITMSVVGGTLLLGIAICCCC</td>\n      <td>RWGVCWVNFEALIITMSVVGGT</td>\n      <td>LLLGIAICCCCCCRRKRSRKP</td>\n    </tr>\n    <tr>\n      <th>Q8IUW5</th>\n      <td>IAYALVPVFFIMGLFGVLICHLL</td>\n      <td>NDTGNGHPEYIAYALVPVFFIM</td>\n      <td>GLFGVLICHLLKKKGYRCTTE</td>\n    </tr>\n    <tr>\n      <th>...</th>\n      <td>...</td>\n      <td>...</td>\n      <td>...</td>\n    </tr>\n    <tr>\n      <th>P15209</th>\n      <td>SVYAVVVIASVVGFCLLVMLLLL</td>\n      <td>VADQSNREHLSVYAVVVIASVV</td>\n      <td>GFCLLVMLLLLKLARHSKFGM</td>\n    </tr>\n    <tr>\n      <th>Q86YL7</th>\n      <td>TLVGIIVGVLLAIGFIGAIIVVV</td>\n      <td>TVEKDGLSTVTLVGIIVGVLLA</td>\n      <td>IGFIGAIIVVVMRKMSGRYSP</td>\n    </tr>\n    <tr>\n      <th>Q13308</th>\n      <td>TIGLSVGAAVAYIIAVLGLMFYC</td>\n      <td>GSPPPYKMIQTIGLSVGAAVAY</td>\n      <td>IIAVLGLMFYCKKRCKAKRLQ</td>\n    </tr>\n    <tr>\n      <th>P10586</th>\n      <td>LWVTGPVLAVILIILIVIAILLF</td>\n      <td>PAQQQEEPEMLWVTGPVLAVIL</td>\n      <td>IILIVIAILLFKRKRTHSPSS</td>\n    </tr>\n    <tr>\n      <th>P28828</th>\n      <td>IAGVIAGILLFVIIFLGVVLVM</td>\n      <td>PEKQTDHTVKIAGVIAGILLF</td>\n      <td>VIIFLGVVLVMKKRKLAKKRK</td>\n    </tr>\n  </tbody>\n</table>\n<p>100 rows × 3 columns</p>\n</div>"
     },
     "execution_count": 10,
     "metadata": {},
     "output_type": "execute_result"
    }
   ],
   "source": [
    "# Feature Engineering\n",
    "y = list(df_seq[\"label\"])\n",
    "sf = aa.SequenceFeature()\n",
    "df_parts = sf.get_df_parts(df_seq=df_seq, jmd_n_len=10, jmd_c_len=10)\n",
    "split_kws = sf.get_split_kws(n_split_max=1, split_types=[\"Segment\"])\n",
    "df_parts"
   ]
  },
  {
   "cell_type": "markdown",
   "source": [
    "Running the CPP algorithm creates all `Part`, `Split`, `Split` combinations and filters a selected maximum of non-redundant features:"
   ],
   "metadata": {
    "collapsed": false
   }
  },
  {
   "cell_type": "code",
   "execution_count": 12,
   "outputs": [
    {
     "name": "stdout",
     "output_type": "stream",
     "text": [
      "1. CPP creates 30 features for 100 samples\n",
      "   |#########################| 100.00%\u001B[0m91mm\n",
      "2. CPP pre-filters 1 features (5%) with highest 'abs_mean_dif' and 'max_std_test' <= 0.2\n",
      "3. CPP filtering algorithm\n"
     ]
    },
    {
     "ename": "ValueError",
     "evalue": "'jmd_n_seq' should be string (type=<class 'list'>)",
     "output_type": "error",
     "traceback": [
      "\u001B[0;31m---------------------------------------------------------------------------\u001B[0m",
      "\u001B[0;31mValueError\u001B[0m                                Traceback (most recent call last)",
      "Cell \u001B[0;32mIn[12], line 3\u001B[0m\n\u001B[1;32m      1\u001B[0m \u001B[38;5;66;03m# Small set of features (300 features created)\u001B[39;00m\n\u001B[1;32m      2\u001B[0m cpp \u001B[38;5;241m=\u001B[39m aa\u001B[38;5;241m.\u001B[39mCPP(df_parts\u001B[38;5;241m=\u001B[39mdf_parts, df_cat\u001B[38;5;241m=\u001B[39mdf_cat, df_scales\u001B[38;5;241m=\u001B[39mdf_scales, split_kws\u001B[38;5;241m=\u001B[39msplit_kws)\n\u001B[0;32m----> 3\u001B[0m df_feat \u001B[38;5;241m=\u001B[39m \u001B[43mcpp\u001B[49m\u001B[38;5;241;43m.\u001B[39;49m\u001B[43mrun\u001B[49m\u001B[43m(\u001B[49m\u001B[43mlabels\u001B[49m\u001B[38;5;241;43m=\u001B[39;49m\u001B[43my\u001B[49m\u001B[43m,\u001B[49m\u001B[43m \u001B[49m\u001B[43mtmd_len\u001B[49m\u001B[38;5;241;43m=\u001B[39;49m\u001B[38;5;241;43m20\u001B[39;49m\u001B[43m,\u001B[49m\u001B[43m \u001B[49m\u001B[43mn_filter\u001B[49m\u001B[38;5;241;43m=\u001B[39;49m\u001B[38;5;241;43m100\u001B[39;49m\u001B[43m)\u001B[49m  \n",
      "File \u001B[0;32m~/Programming/Pycharm_Projekte/1Packages/aaanalysis/aaanalysis/cpp/cpp.py:310\u001B[0m, in \u001B[0;36mCPP.run\u001B[0;34m(self, labels, parametric, n_filter, tmd_len, jmd_n_len, jmd_c_len, ext_len, start, check_cat, n_pre_filter, pct_pre_filter, max_std_test, max_overlap, max_cor, n_processes)\u001B[0m\n\u001B[1;32m    308\u001B[0m \u001B[38;5;28;01mif\u001B[39;00m \u001B[38;5;28mself\u001B[39m\u001B[38;5;241m.\u001B[39m_verbose:\n\u001B[1;32m    309\u001B[0m     \u001B[38;5;28mprint\u001B[39m(\u001B[38;5;124mf\u001B[39m\u001B[38;5;124m\"\u001B[39m\u001B[38;5;124m3. CPP filtering algorithm\u001B[39m\u001B[38;5;124m\"\u001B[39m)\n\u001B[0;32m--> 310\u001B[0m df \u001B[38;5;241m=\u001B[39m \u001B[38;5;28;43mself\u001B[39;49m\u001B[38;5;241;43m.\u001B[39;49m\u001B[43m_add_positions\u001B[49m\u001B[43m(\u001B[49m\u001B[43mdf_feat\u001B[49m\u001B[38;5;241;43m=\u001B[39;49m\u001B[43mdf\u001B[49m\u001B[43m,\u001B[49m\u001B[43m \u001B[49m\u001B[43mtmd_len\u001B[49m\u001B[38;5;241;43m=\u001B[39;49m\u001B[43mtmd_len\u001B[49m\u001B[43m,\u001B[49m\u001B[43m \u001B[49m\u001B[43mstart\u001B[49m\u001B[38;5;241;43m=\u001B[39;49m\u001B[43mstart\u001B[49m\u001B[43m)\u001B[49m\n\u001B[1;32m    311\u001B[0m df \u001B[38;5;241m=\u001B[39m \u001B[38;5;28mself\u001B[39m\u001B[38;5;241m.\u001B[39m_add_scale_info(df_feat\u001B[38;5;241m=\u001B[39mdf)\n\u001B[1;32m    312\u001B[0m df_feat \u001B[38;5;241m=\u001B[39m \u001B[38;5;28mself\u001B[39m\u001B[38;5;241m.\u001B[39m_filtering(df\u001B[38;5;241m=\u001B[39mdf, n_filter\u001B[38;5;241m=\u001B[39mn_filter, check_cat\u001B[38;5;241m=\u001B[39mcheck_cat, max_overlap\u001B[38;5;241m=\u001B[39mmax_overlap, max_cor\u001B[38;5;241m=\u001B[39mmax_cor)\n",
      "File \u001B[0;32m~/Programming/Pycharm_Projekte/1Packages/aaanalysis/aaanalysis/cpp/cpp.py:161\u001B[0m, in \u001B[0;36mCPP._add_positions\u001B[0;34m(df_feat, tmd_len, jmd_n_len, jmd_c_len, ext_len, start)\u001B[0m\n\u001B[1;32m    159\u001B[0m features \u001B[38;5;241m=\u001B[39m df_feat[ut\u001B[38;5;241m.\u001B[39mCOL_FEATURE]\u001B[38;5;241m.\u001B[39mto_list()\n\u001B[1;32m    160\u001B[0m sf \u001B[38;5;241m=\u001B[39m SequenceFeature()\n\u001B[0;32m--> 161\u001B[0m feat_positions \u001B[38;5;241m=\u001B[39m \u001B[43msf\u001B[49m\u001B[38;5;241;43m.\u001B[39;49m\u001B[43madd_position\u001B[49m\u001B[43m(\u001B[49m\u001B[43mfeatures\u001B[49m\u001B[38;5;241;43m=\u001B[39;49m\u001B[43mfeatures\u001B[49m\u001B[43m,\u001B[49m\u001B[43m \u001B[49m\u001B[43mtmd_len\u001B[49m\u001B[38;5;241;43m=\u001B[39;49m\u001B[43mtmd_len\u001B[49m\u001B[43m,\u001B[49m\u001B[43m \u001B[49m\u001B[43mstart\u001B[49m\u001B[38;5;241;43m=\u001B[39;49m\u001B[43mstart\u001B[49m\u001B[43m,\u001B[49m\n\u001B[1;32m    162\u001B[0m \u001B[43m                                 \u001B[49m\u001B[43mjmd_n_len\u001B[49m\u001B[38;5;241;43m=\u001B[39;49m\u001B[43mjmd_n_len\u001B[49m\u001B[43m,\u001B[49m\u001B[43m \u001B[49m\u001B[43mjmd_c_len\u001B[49m\u001B[38;5;241;43m=\u001B[39;49m\u001B[43mjmd_c_len\u001B[49m\u001B[43m,\u001B[49m\u001B[43m \u001B[49m\u001B[43mext_len\u001B[49m\u001B[38;5;241;43m=\u001B[39;49m\u001B[43mext_len\u001B[49m\u001B[43m)\u001B[49m\n\u001B[1;32m    163\u001B[0m df_feat[ut\u001B[38;5;241m.\u001B[39mCOL_POSITION] \u001B[38;5;241m=\u001B[39m feat_positions\n\u001B[1;32m    164\u001B[0m \u001B[38;5;28;01mreturn\u001B[39;00m df_feat\n",
      "File \u001B[0;32m~/Programming/Pycharm_Projekte/1Packages/aaanalysis/aaanalysis/cpp/feature.py:614\u001B[0m, in \u001B[0;36mSequenceFeature.add_position\u001B[0;34m(df_feat, features, start, tmd_len, jmd_n_len, jmd_c_len, ext_len, part_split)\u001B[0m\n\u001B[1;32m    612\u001B[0m     ut\u001B[38;5;241m.\u001B[39mcheck_non_negative_number(name\u001B[38;5;241m=\u001B[39mname, val\u001B[38;5;241m=\u001B[39margs[name], just_int\u001B[38;5;241m=\u001B[39m\u001B[38;5;28;01mTrue\u001B[39;00m, min_val\u001B[38;5;241m=\u001B[39m\u001B[38;5;241m0\u001B[39m)\n\u001B[1;32m    613\u001B[0m sfp \u001B[38;5;241m=\u001B[39m SequenceFeaturePositions()\n\u001B[0;32m--> 614\u001B[0m dict_part_pos \u001B[38;5;241m=\u001B[39m \u001B[43msfp\u001B[49m\u001B[38;5;241;43m.\u001B[39;49m\u001B[43mget_dict_part_pos\u001B[49m\u001B[43m(\u001B[49m\u001B[43mtmd_len\u001B[49m\u001B[38;5;241;43m=\u001B[39;49m\u001B[43mtmd_len\u001B[49m\u001B[43m,\u001B[49m\u001B[43m \u001B[49m\u001B[38;5;241;43m*\u001B[39;49m\u001B[38;5;241;43m*\u001B[39;49m\u001B[43margs\u001B[49m\u001B[43m)\u001B[49m\n\u001B[1;32m    615\u001B[0m feat_positions \u001B[38;5;241m=\u001B[39m sfp\u001B[38;5;241m.\u001B[39mget_positions(dict_part_pos\u001B[38;5;241m=\u001B[39mdict_part_pos, features\u001B[38;5;241m=\u001B[39mfeatures)\n\u001B[1;32m    616\u001B[0m \u001B[38;5;28;01mreturn\u001B[39;00m feat_positions\n",
      "File \u001B[0;32m~/Programming/Pycharm_Projekte/1Packages/aaanalysis/aaanalysis/cpp/_feature_pos.py:52\u001B[0m, in \u001B[0;36mSequenceFeaturePositions.get_dict_part_pos\u001B[0;34m(tmd_len, jmd_n_len, jmd_c_len, ext_len, start)\u001B[0m\n\u001B[1;32m     50\u001B[0m tmd \u001B[38;5;241m=\u001B[39m [i \u001B[38;5;241m+\u001B[39m start \u001B[38;5;28;01mfor\u001B[39;00m i \u001B[38;5;129;01min\u001B[39;00m tmd]\n\u001B[1;32m     51\u001B[0m jmd_c \u001B[38;5;241m=\u001B[39m [i \u001B[38;5;241m+\u001B[39m start \u001B[38;5;28;01mfor\u001B[39;00m i \u001B[38;5;129;01min\u001B[39;00m jmd_c]\n\u001B[0;32m---> 52\u001B[0m dict_part_pos \u001B[38;5;241m=\u001B[39m \u001B[43mpa\u001B[49m\u001B[38;5;241;43m.\u001B[39;49m\u001B[43mget_dict_part_seq\u001B[49m\u001B[43m(\u001B[49m\u001B[43mtmd_seq\u001B[49m\u001B[38;5;241;43m=\u001B[39;49m\u001B[43mtmd\u001B[49m\u001B[43m,\u001B[49m\u001B[43m \u001B[49m\u001B[43mjmd_n_seq\u001B[49m\u001B[38;5;241;43m=\u001B[39;49m\u001B[43mjmd_n\u001B[49m\u001B[43m,\u001B[49m\u001B[43m \u001B[49m\u001B[43mjmd_c_seq\u001B[49m\u001B[38;5;241;43m=\u001B[39;49m\u001B[43mjmd_c\u001B[49m\u001B[43m,\u001B[49m\u001B[43m \u001B[49m\u001B[43mext_len\u001B[49m\u001B[38;5;241;43m=\u001B[39;49m\u001B[43mext_len\u001B[49m\u001B[43m)\u001B[49m\n\u001B[1;32m     53\u001B[0m \u001B[38;5;28;01mreturn\u001B[39;00m dict_part_pos\n",
      "File \u001B[0;32m~/Programming/Pycharm_Projekte/1Packages/aaanalysis/aaanalysis/cpp/_part.py:190\u001B[0m, in \u001B[0;36mParts.get_dict_part_seq\u001B[0;34m(df, entry, tmd_seq, jmd_n_seq, jmd_c_seq, ext_len)\u001B[0m\n\u001B[1;32m    188\u001B[0m     tmd_seq, jmd_n_seq, jmd_c_seq \u001B[38;5;241m=\u001B[39m _get_parts_from_df(df\u001B[38;5;241m=\u001B[39mdf, entry\u001B[38;5;241m=\u001B[39mentry)\n\u001B[1;32m    189\u001B[0m check_parts(tmd\u001B[38;5;241m=\u001B[39mtmd_seq, jmd_n\u001B[38;5;241m=\u001B[39mjmd_n_seq, jmd_c\u001B[38;5;241m=\u001B[39mjmd_c_seq)\n\u001B[0;32m--> 190\u001B[0m \u001B[43mut\u001B[49m\u001B[38;5;241;43m.\u001B[39;49m\u001B[43mcheck_args_len\u001B[49m\u001B[43m(\u001B[49m\u001B[43mjmd_n_seq\u001B[49m\u001B[38;5;241;43m=\u001B[39;49m\u001B[43mjmd_n_seq\u001B[49m\u001B[43m,\u001B[49m\u001B[43m \u001B[49m\u001B[43mjmd_c_seq\u001B[49m\u001B[38;5;241;43m=\u001B[39;49m\u001B[43mjmd_c_seq\u001B[49m\u001B[43m,\u001B[49m\u001B[43m \u001B[49m\u001B[43mext_len\u001B[49m\u001B[38;5;241;43m=\u001B[39;49m\u001B[43mext_len\u001B[49m\u001B[43m,\u001B[49m\u001B[43m \u001B[49m\u001B[43maccept_tmd_none\u001B[49m\u001B[38;5;241;43m=\u001B[39;49m\u001B[38;5;28;43;01mTrue\u001B[39;49;00m\u001B[43m)\u001B[49m\n\u001B[1;32m    191\u001B[0m dict_part_seq \u001B[38;5;241m=\u001B[39m _get_dict_part_seq_from_seq(tmd\u001B[38;5;241m=\u001B[39mtmd_seq, jmd_n\u001B[38;5;241m=\u001B[39mjmd_n_seq, jmd_c\u001B[38;5;241m=\u001B[39mjmd_c_seq, ext_len\u001B[38;5;241m=\u001B[39mext_len)\n\u001B[1;32m    192\u001B[0m \u001B[38;5;28;01mreturn\u001B[39;00m dict_part_seq\n",
      "File \u001B[0;32m~/Programming/Pycharm_Projekte/1Packages/aaanalysis/aaanalysis/_utils/utils_cpp.py:119\u001B[0m, in \u001B[0;36mcheck_args_len\u001B[0;34m(tmd_len, jmd_n_len, jmd_c_len, ext_len, tmd_seq, jmd_n_seq, jmd_c_seq, accept_tmd_none)\u001B[0m\n\u001B[1;32m    117\u001B[0m \u001B[38;5;66;03m# Check if lengths and sequences match\u001B[39;00m\n\u001B[1;32m    118\u001B[0m tmd_len \u001B[38;5;241m=\u001B[39m _check_seq(tmd_seq, tmd_len, \u001B[38;5;124m\"\u001B[39m\u001B[38;5;124mtmd_seq\u001B[39m\u001B[38;5;124m\"\u001B[39m, \u001B[38;5;124m\"\u001B[39m\u001B[38;5;124mtmd_len\u001B[39m\u001B[38;5;124m\"\u001B[39m)\n\u001B[0;32m--> 119\u001B[0m jmd_n_len \u001B[38;5;241m=\u001B[39m \u001B[43m_check_seq\u001B[49m\u001B[43m(\u001B[49m\u001B[43mjmd_n_seq\u001B[49m\u001B[43m,\u001B[49m\u001B[43m \u001B[49m\u001B[43mjmd_n_len\u001B[49m\u001B[43m,\u001B[49m\u001B[43m \u001B[49m\u001B[38;5;124;43m\"\u001B[39;49m\u001B[38;5;124;43mjmd_n_seq\u001B[39;49m\u001B[38;5;124;43m\"\u001B[39;49m\u001B[43m,\u001B[49m\u001B[43m \u001B[49m\u001B[38;5;124;43m\"\u001B[39;49m\u001B[38;5;124;43mjmd_n_len\u001B[39;49m\u001B[38;5;124;43m\"\u001B[39;49m\u001B[43m)\u001B[49m\n\u001B[1;32m    120\u001B[0m jmd_c_len \u001B[38;5;241m=\u001B[39m _check_seq(jmd_c_seq, jmd_c_len, \u001B[38;5;124m\"\u001B[39m\u001B[38;5;124mjmd_c_seq\u001B[39m\u001B[38;5;124m\"\u001B[39m, \u001B[38;5;124m\"\u001B[39m\u001B[38;5;124mjmd_c_len\u001B[39m\u001B[38;5;124m\"\u001B[39m)\n\u001B[1;32m    121\u001B[0m \u001B[38;5;66;03m# Check if lengths are matching\u001B[39;00m\n",
      "File \u001B[0;32m~/Programming/Pycharm_Projekte/1Packages/aaanalysis/aaanalysis/_utils/utils_cpp.py:100\u001B[0m, in \u001B[0;36m_check_seq\u001B[0;34m(seq, len_, name_seq, name_len)\u001B[0m\n\u001B[1;32m     98\u001B[0m \u001B[38;5;28;01melse\u001B[39;00m:\n\u001B[1;32m     99\u001B[0m     \u001B[38;5;28;01mif\u001B[39;00m \u001B[38;5;129;01mnot\u001B[39;00m \u001B[38;5;28misinstance\u001B[39m(seq, \u001B[38;5;28mstr\u001B[39m):\n\u001B[0;32m--> 100\u001B[0m         \u001B[38;5;28;01mraise\u001B[39;00m \u001B[38;5;167;01mValueError\u001B[39;00m(\u001B[38;5;124mf\u001B[39m\u001B[38;5;124m\"\u001B[39m\u001B[38;5;124m'\u001B[39m\u001B[38;5;132;01m{\u001B[39;00mname_seq\u001B[38;5;132;01m}\u001B[39;00m\u001B[38;5;124m'\u001B[39m\u001B[38;5;124m should be string (type=\u001B[39m\u001B[38;5;132;01m{\u001B[39;00m\u001B[38;5;28mtype\u001B[39m(seq)\u001B[38;5;132;01m}\u001B[39;00m\u001B[38;5;124m)\u001B[39m\u001B[38;5;124m\"\u001B[39m)\n\u001B[1;32m    101\u001B[0m     \u001B[38;5;28;01mif\u001B[39;00m len_ \u001B[38;5;129;01mis\u001B[39;00m \u001B[38;5;129;01mnot\u001B[39;00m \u001B[38;5;28;01mNone\u001B[39;00m:\n\u001B[1;32m    102\u001B[0m         \u001B[38;5;66;03m# Waring sequence length doesn't match the corresponding length parameter\u001B[39;00m\n\u001B[1;32m    103\u001B[0m         \u001B[38;5;28;01mif\u001B[39;00m \u001B[38;5;28mlen\u001B[39m(seq) \u001B[38;5;241m<\u001B[39m len_:\n",
      "\u001B[0;31mValueError\u001B[0m: 'jmd_n_seq' should be string (type=<class 'list'>)"
     ]
    }
   ],
   "source": [
    "# Small set of features (300 features created)\n",
    "cpp = aa.CPP(df_parts=df_parts, df_cat=df_cat, df_scales=df_scales, split_kws=split_kws)\n",
    "df_feat = cpp.run(labels=y, tmd_len=20, n_filter=100)  "
   ],
   "metadata": {
    "collapsed": false,
    "ExecuteTime": {
     "end_time": "2023-09-23T14:22:06.231449367Z",
     "start_time": "2023-09-23T14:21:58.054329311Z"
    }
   }
  },
  {
   "cell_type": "markdown",
   "metadata": {
    "pycharm": {
     "name": "#%% md\n"
    }
   },
   "source": [
    "## 3. Protein Prediction\n",
    "A feature matrix from a given set of CPP features can be created using ``sf.feat_matrix``:"
   ]
  },
  {
   "cell_type": "code",
   "execution_count": 13,
   "outputs": [
    {
     "ename": "NameError",
     "evalue": "name 'df_feat' is not defined",
     "output_type": "error",
     "traceback": [
      "\u001B[0;31m---------------------------------------------------------------------------\u001B[0m",
      "\u001B[0;31mNameError\u001B[0m                                 Traceback (most recent call last)",
      "Cell \u001B[0;32mIn[13], line 3\u001B[0m\n\u001B[1;32m      1\u001B[0m \u001B[38;5;28;01mfrom\u001B[39;00m \u001B[38;5;21;01msklearn\u001B[39;00m\u001B[38;5;21;01m.\u001B[39;00m\u001B[38;5;21;01mensemble\u001B[39;00m \u001B[38;5;28;01mimport\u001B[39;00m RandomForestClassifier\n\u001B[1;32m      2\u001B[0m \u001B[38;5;28;01mfrom\u001B[39;00m \u001B[38;5;21;01msklearn\u001B[39;00m\u001B[38;5;21;01m.\u001B[39;00m\u001B[38;5;21;01mmodel_selection\u001B[39;00m \u001B[38;5;28;01mimport\u001B[39;00m cross_val_score\n\u001B[0;32m----> 3\u001B[0m X \u001B[38;5;241m=\u001B[39m sf\u001B[38;5;241m.\u001B[39mfeat_matrix(df_parts\u001B[38;5;241m=\u001B[39mdf_parts, df_scales\u001B[38;5;241m=\u001B[39mdf_scales, features\u001B[38;5;241m=\u001B[39m\u001B[43mdf_feat\u001B[49m[\u001B[38;5;124m\"\u001B[39m\u001B[38;5;124mfeature\u001B[39m\u001B[38;5;124m\"\u001B[39m])\n",
      "\u001B[0;31mNameError\u001B[0m: name 'df_feat' is not defined"
     ]
    }
   ],
   "source": [
    "from sklearn.ensemble import RandomForestClassifier\n",
    "from sklearn.model_selection import cross_val_score\n",
    "X = sf.feat_matrix(df_parts=df_parts, df_scales=df_scales, features=df_feat[\"feature\"])"
   ],
   "metadata": {
    "collapsed": false,
    "ExecuteTime": {
     "end_time": "2023-09-23T14:22:13.569330952Z",
     "start_time": "2023-09-23T14:22:13.527712901Z"
    }
   }
  },
  {
   "cell_type": "markdown",
   "source": [
    "This feature matrix can now be used for common machine learning models."
   ],
   "metadata": {
    "collapsed": false
   }
  },
  {
   "cell_type": "code",
   "execution_count": null,
   "outputs": [],
   "source": [
    "# ML evaluation\n",
    "rf = RandomForestClassifier()\n",
    "cv = cross_val_score(rf, X, y, scoring=\"accuracy\", cv=5, n_jobs=8) # Set n_jobs=1 to disable multi-processing\n",
    "print(f\"Mean accuracy of {round(np.mean(cv), 2)}\")"
   ],
   "metadata": {
    "collapsed": false
   }
  },
  {
   "cell_type": "markdown",
   "source": [
    "Creating more initial features will take some more time but improve prediction performance. "
   ],
   "metadata": {
    "collapsed": false
   }
  },
  {
   "cell_type": "code",
   "execution_count": 5,
   "outputs": [
    {
     "name": "stdout",
     "output_type": "stream",
     "text": [
      "1. CPP creates 9900 features for 200 samples\n",
      "   |#########################| 100.00%\n",
      "2. CPP pre-filters 495 features (5%) with highest 'abs_mean_dif' and 'max_std_test' <= 0.2\n",
      "3. CPP filtering algorithm\n",
      "4. CPP returns df with 32 unique features including general information and statistics\n",
      "Mean accuracy of 0.74\n"
     ]
    }
   ],
   "source": [
    "# Default split settings for features (around 100.000 features created)\n",
    "split_kws = sf.get_split_kws()\n",
    "cpp = aa.CPP(df_cat=df_cat, df_parts=df_parts, df_scales=df_scales, split_kws=split_kws)\n",
    "df_feat = cpp.run(labels=y, tmd_len=200, n_processes=8, n_filter=100)\n",
    "X = sf.feat_matrix(df_parts=df_parts, df_scales=df_scales, features=df_feat[\"feature\"])\n",
    "# ML evaluation\n",
    "rf = RandomForestClassifier()\n",
    "cv = cross_val_score(rf, X, y, scoring=\"accuracy\", cv=5, n_jobs=1)  # Set n_jobs=1 to disable multi-processing\n",
    "print(f\"Mean accuracy of {round(np.mean(cv), 2)}\")"
   ],
   "metadata": {
    "collapsed": false
   }
  },
  {
   "cell_type": "markdown",
   "source": [
    "## 4. Explainable AI\n",
    "\n",
    "### Explainable AI on group level\n",
    "\n",
    "### Explainable AI on individual level"
   ],
   "metadata": {
    "collapsed": false
   }
  }
 ],
 "metadata": {
  "kernelspec": {
   "display_name": "Python 3 (ipykernel)",
   "language": "python",
   "name": "python3"
  },
  "language_info": {
   "codemirror_mode": {
    "name": "ipython",
    "version": 3
   },
   "file_extension": ".py",
   "mimetype": "text/x-python",
   "name": "python",
   "nbconvert_exporter": "python",
   "pygments_lexer": "ipython3",
   "version": "3.9.5"
  }
 },
 "nbformat": 4,
 "nbformat_minor": 1
}
