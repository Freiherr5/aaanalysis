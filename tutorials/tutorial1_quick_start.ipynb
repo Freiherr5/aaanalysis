{
 "cells": [
  {
   "cell_type": "markdown",
   "source": [
    "# Quick Start with AAanalysis\n",
    "Dive into the powerful capabilities of **AAanalysis**—a Python framework dedicated to sequence-based, alignment-free protein prediction. In this tutorial, using gamma-secretase substrates and non-substrates as an example, we'll focus on extracting interpretable features from protein sequences using the ``AAclust`` and ``CPP`` models and how they can be harnessed for binary classification tasks.\n",
    "\n",
    "## What You Will Learn:\n",
    "\n",
    "1. **Loading Sequences and Scales**: How to easily load protein sequences and their amino acid scales.\n",
    "2. **Feature Engineering**: Extract essential features using the ``AAclust`` and ``CPP`` models.\n",
    "3. **Protein Prediction**: Make predictions using the RandomForest model.\n",
    "4. **Explainable AI**: Interpret predictions at the group and individual levels by combining ``CPP`` with ``SHAP``.\n",
    "\n",
    "## 1. Loading Sequences and Scales\n",
    "With AAanalysis, you have access to numerous benchmark datasets for protein sequence analysis. Using our γ-secretase substrates and non-substrates dataset as a hands-on example, you can effortlessly retrieve these datasets using the ``aa.load_dataset()`` function. Furthermore, amino acid scales, predominantly from AAindex, along with their hierarchical classification (known as ``AAontology``), are available at your fingertips with the ``aa.load_scales()`` function.\n",
    "\n",
    "We now load the scales dataset and a dataset of 50 γ-secretase substrates and non-substrates:"
   ],
   "metadata": {
    "collapsed": false
   }
  },
  {
   "cell_type": "code",
   "execution_count": 10,
   "metadata": {
    "pycharm": {
     "name": "#%%\n"
    },
    "ExecuteTime": {
     "end_time": "2023-09-27T13:48:27.091009443Z",
     "start_time": "2023-09-27T13:48:27.065461892Z"
    }
   },
   "outputs": [],
   "source": [
    "import aaanalysis as aa\n",
    "\n",
    "df_scales = aa.load_scales()\n",
    "df_seq = aa.load_dataset(name=\"DOM_GSEC\", n=50)"
   ]
  },
  {
   "cell_type": "markdown",
   "metadata": {
    "pycharm": {
     "name": "#%% md\n"
    }
   },
   "source": [
    "## 2.  Feature Engineering\n",
    "The centerpiece of AAanalysis is the Comparative Physicochemical Profiling (``CPP``) model, which is supported by ``AAclust`` for the pre-selection of amino acid scales. \n",
    "\n",
    "### AAclust\n",
    "Since redundancy is an essential problem for machine learning tasks, the ``AAclust`` object provides a lightweight wrapper for sklearn clustering algorithms such as Agglomerative clustering. AAclust clusters a set of scales and selects for each cluster the most representative scale (i.e., the scale closes to the cluster center). We will use AAclust to obtain a set of 100 scales, as defined by the ``n_clusters`` parameters:"
   ]
  },
  {
   "cell_type": "code",
   "execution_count": 11,
   "outputs": [],
   "source": [
    "from sklearn.cluster import AgglomerativeClustering\n",
    "import numpy as np\n",
    "\n",
    "aac = aa.AAclust(model=AgglomerativeClustering)\n",
    "X = np.array(df_scales)\n",
    "scales = aac.fit(X, names=list(df_scales), n_clusters=100) \n",
    "df_scales = df_scales[scales]"
   ],
   "metadata": {
    "collapsed": false,
    "ExecuteTime": {
     "end_time": "2023-09-27T13:48:28.363012624Z",
     "start_time": "2023-09-27T13:48:28.227705925Z"
    }
   }
  },
  {
   "cell_type": "markdown",
   "source": [
    "### Comparative Physicochemical Profiling (CPP)\n",
    " CPP is a sequence-based feature engineering algorithm. It aims at identifying a set of features most discriminant between two sets of sequences: the test set and the reference set. Supported by the ``SequenceFeature`` object (``sf``), A CPP feature integrates:\n",
    "- **Parts**: Are combination of a target middle domain (TMD) and N- and C-terminal adjacent regions (JMD-N and JMD-C, respectively), obtained ``sf.get_df_parts``.\n",
    "- **Splits**: These Parts can be split into various continuous segments or discontinuous patterns, specified ``sf.get_split_kws()``. \n",
    "- **Scales**: Sets of amino acid scales.\n",
    "\n",
    "We use SequenceFeature to obtain Parts and Splits. These together with the Scales are used by CPP as input to identify the set of characteristic features to discriminate between γ-secretase substrates and non-substrates: "
   ],
   "metadata": {
    "collapsed": false
   }
  },
  {
   "cell_type": "code",
   "execution_count": 12,
   "metadata": {
    "pycharm": {
     "name": "#%%\n"
    },
    "ExecuteTime": {
     "end_time": "2023-09-27T13:48:29.601269422Z",
     "start_time": "2023-09-27T13:48:29.525336350Z"
    }
   },
   "outputs": [],
   "source": [
    "y = list(df_seq[\"label\"])\n",
    "sf = aa.SequenceFeature()\n",
    "df_parts = sf.get_df_parts(df_seq=df_seq, list_parts=[\"tmd_jmd\"])\n",
    "split_kws = sf.get_split_kws(n_split_max=1, split_types=[\"Segment\"])"
   ]
  },
  {
   "cell_type": "markdown",
   "source": [
    "Running the CPP algorithm creates all Part, Split, Split combinations and filters a selected maximum of non-redundant features. As a baseline approach,\n",
    "we use CPP to compute the average values for the 100 selected scales over the entire TMD-JMD sequences:"
   ],
   "metadata": {
    "collapsed": false
   }
  },
  {
   "cell_type": "code",
   "execution_count": 13,
   "outputs": [],
   "source": [
    "# Small set of CPP features (100 features are created)\n",
    "cpp = aa.CPP(df_scales=df_scales, df_parts=df_parts, split_kws=split_kws, verbose=False)\n",
    "df_feat = cpp.run(labels=y) "
   ],
   "metadata": {
    "collapsed": false,
    "ExecuteTime": {
     "end_time": "2023-09-27T13:48:40.750474555Z",
     "start_time": "2023-09-27T13:48:30.592711151Z"
    }
   }
  },
  {
   "cell_type": "markdown",
   "metadata": {
    "pycharm": {
     "name": "#%% md\n"
    }
   },
   "source": [
    "## 3. Protein Prediction\n",
    "A feature matrix from a given set of CPP features can be created using ``sf.feat_matrix`` and used for machine learning:"
   ]
  },
  {
   "cell_type": "code",
   "execution_count": 14,
   "outputs": [
    {
     "name": "stdout",
     "output_type": "stream",
     "text": [
      "Mean accuracy of 0.57\n"
     ]
    }
   ],
   "source": [
    "from sklearn.ensemble import RandomForestClassifier\n",
    "from sklearn.model_selection import cross_val_score\n",
    "\n",
    "X = sf.feat_matrix(df_parts=df_parts, features=df_feat[\"feature\"])\n",
    "rf = RandomForestClassifier()\n",
    "cv_base = cross_val_score(rf, X, y, scoring=\"accuracy\")\n",
    "print(f\"Mean accuracy of {round(np.mean(cv_base), 2)}\")"
   ],
   "metadata": {
    "collapsed": false,
    "ExecuteTime": {
     "end_time": "2023-09-27T13:48:45.196179483Z",
     "start_time": "2023-09-27T13:48:40.756902661Z"
    }
   }
  },
  {
   "cell_type": "markdown",
   "source": [
    "Creating more features with CPP will take some more time. but improve prediction performance: "
   ],
   "metadata": {
    "collapsed": false
   }
  },
  {
   "cell_type": "code",
   "execution_count": 15,
   "outputs": [],
   "source": [
    "# CPP features with default splits (around 100.000 features)\n",
    "df_parts = sf.get_df_parts(df_seq=df_seq)\n",
    "cpp = aa.CPP(df_scales=df_scales, df_parts=df_parts, verbose=False)\n",
    "df_feat = cpp.run(labels=y)"
   ],
   "metadata": {
    "collapsed": false,
    "ExecuteTime": {
     "end_time": "2023-09-27T13:50:15.341545016Z",
     "start_time": "2023-09-27T13:48:45.239046247Z"
    }
   }
  },
  {
   "cell_type": "markdown",
   "source": [
    "Which can be again used for machine learning:"
   ],
   "metadata": {
    "collapsed": false
   }
  },
  {
   "cell_type": "code",
   "execution_count": 16,
   "outputs": [
    {
     "name": "stdout",
     "output_type": "stream",
     "text": [
      "Mean accuracy of 0.9\n"
     ]
    },
    {
     "data": {
      "text/plain": "<Figure size 640x480 with 1 Axes>",
      "image/png": "[encoded data removed]"
     },
     "metadata": {},
     "output_type": "display_data"
    }
   ],
   "source": [
    "import seaborn as sns\n",
    "import matplotlib.pyplot as plt\n",
    "import pandas as pd\n",
    "\n",
    "X = sf.feat_matrix(df_parts=df_parts, features=df_feat[\"feature\"])\n",
    "rf = RandomForestClassifier()\n",
    "cv = cross_val_score(rf, X, y, scoring=\"accuracy\", cv=5, n_jobs=1) \n",
    "print(f\"Mean accuracy of {round(np.mean(cv), 2)}\")\n",
    "\n",
    "aa.plot_settings(font_scale=1.1)\n",
    "sns.barplot(pd.DataFrame({\"Baseline\": cv_base, \"CPP\": cv}), palette=[\"tab:blue\", \"tab:red\"])\n",
    "plt.ylabel(\"Mean accuracy\", size=aa.plot_gcfs()+1)\n",
    "plt.ylim(0, 1)\n",
    "sns.despine()\n",
    "plt.show()"
   ],
   "metadata": {
    "collapsed": false,
    "ExecuteTime": {
     "end_time": "2023-09-27T13:50:23.020169805Z",
     "start_time": "2023-09-27T13:50:15.364312015Z"
    }
   }
  },
  {
   "cell_type": "markdown",
   "source": [
    "## 4. Explainable AI\n",
    "\n",
    "### Explainable AI on group level\n",
    "\n",
    "### Explainable AI on individual level"
   ],
   "metadata": {
    "collapsed": false
   }
  }
 ],
 "metadata": {
  "kernelspec": {
   "display_name": "Python 3 (ipykernel)",
   "language": "python",
   "name": "python3"
  },
  "language_info": {
   "codemirror_mode": {
    "name": "ipython",
    "version": 3
   },
   "file_extension": ".py",
   "mimetype": "text/x-python",
   "name": "python",
   "nbconvert_exporter": "python",
   "pygments_lexer": "ipython3",
   "version": "3.9.5"
  }
 },
 "nbformat": 4,
 "nbformat_minor": 1
}
