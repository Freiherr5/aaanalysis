{
 "cells": [
  {
   "cell_type": "markdown",
   "source": [
    "# Quick Start with AAanalysis\n",
    "Dive into the powerful capabilities of ``AAanalysis``—a Python framework dedicated to sequence-based, alignment-free protein prediction. In this tutorial, using gamma-secretase substrates and non-substrates as an example, we'll focus on extracting interpretable features from protein sequences using the ``AAclust`` and ``CPP`` models and how they can be harnessed for binary classification tasks.\n",
    "\n",
    "## What You Will Learn:\n",
    "\n",
    "- ``Loading Sequences and Scales``: How to easily load protein sequences and their amino acid scales.\n",
    "- ``Feature Engineering``: Extract essential features using the ``AAclust`` and ``CPP`` models.\n",
    "- ``Protein Prediction``: Make predictions using the RandomForest model.\n",
    "- ``Explainable AI``: Interpret predictions at the group and individual levels by combining ``CPP`` with ``SHAP``.\n",
    "\n",
    "## 1. Loading Sequences and Scales\n",
    "With AAanalysis, you have access to numerous benchmark datasets for protein sequence analysis. Using our γ-secretase substrates and non-substrates dataset as a hands-on example, you can effortlessly retrieve these datasets using the ``aa.load_dataset()`` function. Furthermore, amino acid scales, predominantly from AAindex, along with their hierarchical classification (known as ``AAontology``), are available at your fingertips with the ``aa.load_scales()`` function."
   ],
   "metadata": {
    "collapsed": false
   }
  },
  {
   "cell_type": "code",
   "execution_count": 11,
   "metadata": {
    "pycharm": {
     "name": "#%%\n"
    },
    "ExecuteTime": {
     "end_time": "2023-09-24T11:18:19.227943399Z",
     "start_time": "2023-09-24T11:18:19.176090140Z"
    }
   },
   "outputs": [
    {
     "data": {
      "text/plain": "    entry                                           sequence  label  tmd_start  tmd_stop       jmd_n                      tmd       jmd_c\n0  Q14802  MQKVTLGLLVFLAGFPVLDANDLEDKNSPFYYDWHSLQVGGLICAG...      0         37        59  NSPFYYDWHS  LQVGGLICAGVLCAMGIIIVMSA  KCKCKFGQKS\n1  Q86UE4  MAARSWQDELAQQAEEGSARLREMLSVGLGFLRTELGLDLGLEPKR...      0         50        72  LGLEPKRYPG  WVILVGTGALGLLLLFLLGYGWA  AACAGARKKR\n2  Q969W9  MHRLMGVNSTAAAAAGQPNVSCTCNCKRSLFQSMEITELEFVQIII...      0         41        63  FQSMEITELE  FVQIIIIVVVMMVMVVVITCLLS  HYKLSARSFI\n3  P53801  MAPGVARGPTPYWRLRLGGAALLLLLIPVAAAQEPPGAACSQNTNK...      0         97       119  RWGVCWVNFE  ALIITMSVVGGTLLLGIAICCCC  CCRRKRSRKP\n4  Q8IUW5  MAPRALPGSAVLAAAVFVGGAVSSPLVAPDNGSSRTLHSRTETTPS...      0         59        81  NDTGNGHPEY  IAYALVPVFFIMGLFGVLICHLL  KKKGYRCTTE",
      "text/html": "<div>\n<style scoped>\n    .dataframe tbody tr th:only-of-type {\n        vertical-align: middle;\n    }\n\n    .dataframe tbody tr th {\n        vertical-align: top;\n    }\n\n    .dataframe thead th {\n        text-align: right;\n    }\n</style>\n<table border=\"1\" class=\"dataframe\">\n  <thead>\n    <tr style=\"text-align: right;\">\n      <th></th>\n      <th>entry</th>\n      <th>sequence</th>\n      <th>label</th>\n      <th>tmd_start</th>\n      <th>tmd_stop</th>\n      <th>jmd_n</th>\n      <th>tmd</th>\n      <th>jmd_c</th>\n    </tr>\n  </thead>\n  <tbody>\n    <tr>\n      <th>0</th>\n      <td>Q14802</td>\n      <td>MQKVTLGLLVFLAGFPVLDANDLEDKNSPFYYDWHSLQVGGLICAG...</td>\n      <td>0</td>\n      <td>37</td>\n      <td>59</td>\n      <td>NSPFYYDWHS</td>\n      <td>LQVGGLICAGVLCAMGIIIVMSA</td>\n      <td>KCKCKFGQKS</td>\n    </tr>\n    <tr>\n      <th>1</th>\n      <td>Q86UE4</td>\n      <td>MAARSWQDELAQQAEEGSARLREMLSVGLGFLRTELGLDLGLEPKR...</td>\n      <td>0</td>\n      <td>50</td>\n      <td>72</td>\n      <td>LGLEPKRYPG</td>\n      <td>WVILVGTGALGLLLLFLLGYGWA</td>\n      <td>AACAGARKKR</td>\n    </tr>\n    <tr>\n      <th>2</th>\n      <td>Q969W9</td>\n      <td>MHRLMGVNSTAAAAAGQPNVSCTCNCKRSLFQSMEITELEFVQIII...</td>\n      <td>0</td>\n      <td>41</td>\n      <td>63</td>\n      <td>FQSMEITELE</td>\n      <td>FVQIIIIVVVMMVMVVVITCLLS</td>\n      <td>HYKLSARSFI</td>\n    </tr>\n    <tr>\n      <th>3</th>\n      <td>P53801</td>\n      <td>MAPGVARGPTPYWRLRLGGAALLLLLIPVAAAQEPPGAACSQNTNK...</td>\n      <td>0</td>\n      <td>97</td>\n      <td>119</td>\n      <td>RWGVCWVNFE</td>\n      <td>ALIITMSVVGGTLLLGIAICCCC</td>\n      <td>CCRRKRSRKP</td>\n    </tr>\n    <tr>\n      <th>4</th>\n      <td>Q8IUW5</td>\n      <td>MAPRALPGSAVLAAAVFVGGAVSSPLVAPDNGSSRTLHSRTETTPS...</td>\n      <td>0</td>\n      <td>59</td>\n      <td>81</td>\n      <td>NDTGNGHPEY</td>\n      <td>IAYALVPVFFIMGLFGVLICHLL</td>\n      <td>KKKGYRCTTE</td>\n    </tr>\n  </tbody>\n</table>\n</div>"
     },
     "execution_count": 11,
     "metadata": {},
     "output_type": "execute_result"
    }
   ],
   "source": [
    "import aaanalysis as aa\n",
    "\n",
    "df_scales = aa.load_scales()\n",
    "df_seq = aa.load_dataset(name=\"DOM_GSEC\", n=50)\n",
    "df_seq.head(5)"
   ]
  },
  {
   "cell_type": "markdown",
   "metadata": {
    "pycharm": {
     "name": "#%% md\n"
    }
   },
   "source": [
    "## 2.  Feature Engineering\n",
    "The centerpiece of AAanalysis is the Comparative Physicochemical Profiling (``CPP``) model, which is supported by ``AAclust`` for the pre-selection of amino acid scales. \n",
    "\n",
    "### AAclust\n",
    "Since redundancy is an essential problem for machine learning tasks, the ``AAclust`` object provides a lightweight wrapper for sklearn clustering algorithms such as Agglomerative clustering. AAclust clusters a set of scales and selects for each cluster the most representative scale (i.e., the scale closes to the cluster center). We will use AAclust to obtain a set of 100 scales, as defined by the ``n_clusters`` parameters:"
   ]
  },
  {
   "cell_type": "code",
   "execution_count": 12,
   "outputs": [
    {
     "data": {
      "text/plain": "    ANDN920101  SIMZ760101  NAKH900106  AURR980112\nAA                                                \nA        0.494       0.268       0.237       0.787\nC        0.864       0.258       0.303       0.104\nD        1.000       0.206       0.000       0.451\nE        0.420       0.210       0.090       0.823\nF        0.877       0.887       0.724       0.402",
      "text/html": "<div>\n<style scoped>\n    .dataframe tbody tr th:only-of-type {\n        vertical-align: middle;\n    }\n\n    .dataframe tbody tr th {\n        vertical-align: top;\n    }\n\n    .dataframe thead th {\n        text-align: right;\n    }\n</style>\n<table border=\"1\" class=\"dataframe\">\n  <thead>\n    <tr style=\"text-align: right;\">\n      <th></th>\n      <th>ANDN920101</th>\n      <th>SIMZ760101</th>\n      <th>NAKH900106</th>\n      <th>AURR980112</th>\n    </tr>\n    <tr>\n      <th>AA</th>\n      <th></th>\n      <th></th>\n      <th></th>\n      <th></th>\n    </tr>\n  </thead>\n  <tbody>\n    <tr>\n      <th>A</th>\n      <td>0.494</td>\n      <td>0.268</td>\n      <td>0.237</td>\n      <td>0.787</td>\n    </tr>\n    <tr>\n      <th>C</th>\n      <td>0.864</td>\n      <td>0.258</td>\n      <td>0.303</td>\n      <td>0.104</td>\n    </tr>\n    <tr>\n      <th>D</th>\n      <td>1.000</td>\n      <td>0.206</td>\n      <td>0.000</td>\n      <td>0.451</td>\n    </tr>\n    <tr>\n      <th>E</th>\n      <td>0.420</td>\n      <td>0.210</td>\n      <td>0.090</td>\n      <td>0.823</td>\n    </tr>\n    <tr>\n      <th>F</th>\n      <td>0.877</td>\n      <td>0.887</td>\n      <td>0.724</td>\n      <td>0.402</td>\n    </tr>\n  </tbody>\n</table>\n</div>"
     },
     "execution_count": 12,
     "metadata": {},
     "output_type": "execute_result"
    }
   ],
   "source": [
    "from sklearn.cluster import AgglomerativeClustering\n",
    "import numpy as np\n",
    "\n",
    "aac = aa.AAclust(model=AgglomerativeClustering)\n",
    "X = np.array(df_scales)\n",
    "scales = aac.fit(X, names=list(df_scales), n_clusters=100) \n",
    "df_scales = df_scales[scales]\n",
    "df_scales[scales[0:4]].head(5)"
   ],
   "metadata": {
    "collapsed": false,
    "ExecuteTime": {
     "end_time": "2023-09-24T11:18:22.964537774Z",
     "start_time": "2023-09-24T11:18:22.855795499Z"
    }
   }
  },
  {
   "cell_type": "markdown",
   "source": [
    "### Comparative Physicochemical Profiling (CPP)\n",
    " CPP is a sequence-based feature engineering algorithm. It aims at identifying a set of features most discriminant between two sets of sequences: the test set and the reference set. Supported by the ``SequenceFeature`` object (``sf``), A CPP feature integrates:\n",
    "- ``Parts``: Are combination of a target middle domain (TMD) and N- and C-terminal adjacent regions (JMD-N and JMD-C, respectively), obtained ``sf.get_df_parts``.\n",
    "- ``Splits``: These `Parts` can be split into various continuous segments or discontinuous patterns, specified ``sf.get_split_kws()``. \n",
    "- ``Scales``: Sets of amino acid scales.\n",
    "\n",
    "We use SequenceFeature to obtain Parts and Splits:"
   ],
   "metadata": {
    "collapsed": false
   }
  },
  {
   "cell_type": "code",
   "execution_count": 13,
   "metadata": {
    "pycharm": {
     "name": "#%%\n"
    },
    "ExecuteTime": {
     "end_time": "2023-09-24T11:18:25.253400531Z",
     "start_time": "2023-09-24T11:18:25.143157741Z"
    }
   },
   "outputs": [
    {
     "data": {
      "text/plain": "                                            tmd_jmd\nD3ZZK3  RIIGDGANSTVLLVSVSGSVVLVVILIAAFVISRRRSKYSQAK\nO14786  PGNVLKTLDPILITIIAMSALGVLLGAVCGVVLYCACWHNGMS\nO35516  SELESPRNAQLLYLLAVAVVIILFFILLGVIMAKRKRKHGFLW\nO43914  DCSCSTVSPGVLAGIVMGDLVLTVLIALAVYFLGRLVPRGRGA\nO75581  YPTEEPAPQATNTVGSVIGVIVTIFVSGTVYFICQRMLCPRMK",
      "text/html": "<div>\n<style scoped>\n    .dataframe tbody tr th:only-of-type {\n        vertical-align: middle;\n    }\n\n    .dataframe tbody tr th {\n        vertical-align: top;\n    }\n\n    .dataframe thead th {\n        text-align: right;\n    }\n</style>\n<table border=\"1\" class=\"dataframe\">\n  <thead>\n    <tr style=\"text-align: right;\">\n      <th></th>\n      <th>tmd_jmd</th>\n    </tr>\n  </thead>\n  <tbody>\n    <tr>\n      <th>D3ZZK3</th>\n      <td>RIIGDGANSTVLLVSVSGSVVLVVILIAAFVISRRRSKYSQAK</td>\n    </tr>\n    <tr>\n      <th>O14786</th>\n      <td>PGNVLKTLDPILITIIAMSALGVLLGAVCGVVLYCACWHNGMS</td>\n    </tr>\n    <tr>\n      <th>O35516</th>\n      <td>SELESPRNAQLLYLLAVAVVIILFFILLGVIMAKRKRKHGFLW</td>\n    </tr>\n    <tr>\n      <th>O43914</th>\n      <td>DCSCSTVSPGVLAGIVMGDLVLTVLIALAVYFLGRLVPRGRGA</td>\n    </tr>\n    <tr>\n      <th>O75581</th>\n      <td>YPTEEPAPQATNTVGSVIGVIVTIFVSGTVYFICQRMLCPRMK</td>\n    </tr>\n  </tbody>\n</table>\n</div>"
     },
     "execution_count": 13,
     "metadata": {},
     "output_type": "execute_result"
    }
   ],
   "source": [
    "y = list(df_seq[\"label\"])\n",
    "sf = aa.SequenceFeature()\n",
    "df_parts = sf.get_df_parts(df_seq=df_seq, list_parts=[\"tmd_jmd\"])\n",
    "split_kws = sf.get_split_kws(n_split_max=1, split_types=[\"Segment\"])\n",
    "df_parts.head(5)"
   ]
  },
  {
   "cell_type": "markdown",
   "source": [
    "Running the CPP algorithm creates all `Part`, `Split`, `Split` combinations and filters a selected maximum of non-redundant features. As a baseline approach,\n",
    "we use CPP to compute the average values for the 100 selected scales over the entire TMD-JMD sequences:"
   ],
   "metadata": {
    "collapsed": false
   }
  },
  {
   "cell_type": "code",
   "execution_count": 14,
   "outputs": [
    {
     "data": {
      "text/plain": "                           feature            category                  subcategory                                scale_name                                  scale_description  abs_auc  abs_mean_dif  mean_dif  std_test   std_ref  p_val_mann_whitney  p_val_fdr_bh                                          positions\n0  TMD_JMD-Segment(1,1)-ANDN920101  Structure-Activity      Backbone-dynamics (-CH)  α-CH chemical shifts (backbone-dynamics)   alpha-CH chemical shifts (Andersen et al., 1992)    0.130      0.022966  0.022966  0.054433  0.053266            0.025737      0.099022  1,2,3,4,5,6,7,8,9,10,11,12,13,14,15,16,17,18,1...\n1  TMD_JMD-Segment(1,1)-VASM830101        Conformation  Unclassified (Conformation)                                   α-helix  Relative population of conformational state A ...    0.120      0.019298 -0.019298  0.046755  0.049127            0.039609      0.099022  1,2,3,4,5,6,7,8,9,10,11,12,13,14,15,16,17,18,1...\n2  TMD_JMD-Segment(1,1)-ROBB760113        Conformation                       β-turn                                    β-turn  Information measure for loop (Robson-Suzuki, 1...    0.108      0.021958  0.021958  0.060658  0.053190            0.062212      0.100670  1,2,3,4,5,6,7,8,9,10,11,12,13,14,15,16,17,18,1...\n3  TMD_JMD-Segment(1,1)-RACS820103        Conformation  Unclassified (Conformation)                     α-helix (left-handed)  Average relative fractional occurrence in AL(i...    0.080      0.019579 -0.019579  0.072260  0.047452            0.166907      0.166907  1,2,3,4,5,6,7,8,9,10,11,12,13,14,15,16,17,18,1...",
      "text/html": "<div>\n<style scoped>\n    .dataframe tbody tr th:only-of-type {\n        vertical-align: middle;\n    }\n\n    .dataframe tbody tr th {\n        vertical-align: top;\n    }\n\n    .dataframe thead th {\n        text-align: right;\n    }\n</style>\n<table border=\"1\" class=\"dataframe\">\n  <thead>\n    <tr style=\"text-align: right;\">\n      <th></th>\n      <th>feature</th>\n      <th>category</th>\n      <th>subcategory</th>\n      <th>scale_name</th>\n      <th>scale_description</th>\n      <th>abs_auc</th>\n      <th>abs_mean_dif</th>\n      <th>mean_dif</th>\n      <th>std_test</th>\n      <th>std_ref</th>\n      <th>p_val_mann_whitney</th>\n      <th>p_val_fdr_bh</th>\n      <th>positions</th>\n    </tr>\n  </thead>\n  <tbody>\n    <tr>\n      <th>0</th>\n      <td>TMD_JMD-Segment(1,1)-ANDN920101</td>\n      <td>Structure-Activity</td>\n      <td>Backbone-dynamics (-CH)</td>\n      <td>α-CH chemical shifts (backbone-dynamics)</td>\n      <td>alpha-CH chemical shifts (Andersen et al., 1992)</td>\n      <td>0.130</td>\n      <td>0.022966</td>\n      <td>0.022966</td>\n      <td>0.054433</td>\n      <td>0.053266</td>\n      <td>0.025737</td>\n      <td>0.099022</td>\n      <td>1,2,3,4,5,6,7,8,9,10,11,12,13,14,15,16,17,18,1...</td>\n    </tr>\n    <tr>\n      <th>1</th>\n      <td>TMD_JMD-Segment(1,1)-VASM830101</td>\n      <td>Conformation</td>\n      <td>Unclassified (Conformation)</td>\n      <td>α-helix</td>\n      <td>Relative population of conformational state A ...</td>\n      <td>0.120</td>\n      <td>0.019298</td>\n      <td>-0.019298</td>\n      <td>0.046755</td>\n      <td>0.049127</td>\n      <td>0.039609</td>\n      <td>0.099022</td>\n      <td>1,2,3,4,5,6,7,8,9,10,11,12,13,14,15,16,17,18,1...</td>\n    </tr>\n    <tr>\n      <th>2</th>\n      <td>TMD_JMD-Segment(1,1)-ROBB760113</td>\n      <td>Conformation</td>\n      <td>β-turn</td>\n      <td>β-turn</td>\n      <td>Information measure for loop (Robson-Suzuki, 1...</td>\n      <td>0.108</td>\n      <td>0.021958</td>\n      <td>0.021958</td>\n      <td>0.060658</td>\n      <td>0.053190</td>\n      <td>0.062212</td>\n      <td>0.100670</td>\n      <td>1,2,3,4,5,6,7,8,9,10,11,12,13,14,15,16,17,18,1...</td>\n    </tr>\n    <tr>\n      <th>3</th>\n      <td>TMD_JMD-Segment(1,1)-RACS820103</td>\n      <td>Conformation</td>\n      <td>Unclassified (Conformation)</td>\n      <td>α-helix (left-handed)</td>\n      <td>Average relative fractional occurrence in AL(i...</td>\n      <td>0.080</td>\n      <td>0.019579</td>\n      <td>-0.019579</td>\n      <td>0.072260</td>\n      <td>0.047452</td>\n      <td>0.166907</td>\n      <td>0.166907</td>\n      <td>1,2,3,4,5,6,7,8,9,10,11,12,13,14,15,16,17,18,1...</td>\n    </tr>\n  </tbody>\n</table>\n</div>"
     },
     "execution_count": 14,
     "metadata": {},
     "output_type": "execute_result"
    }
   ],
   "source": [
    "# Small set of CPP features (100 features are created)\n",
    "cpp = aa.CPP(df_scales=df_scales, df_parts=df_parts, split_kws=split_kws, verbose=False)\n",
    "df_feat = cpp.run(labels=y) \n",
    "df_feat"
   ],
   "metadata": {
    "collapsed": false,
    "ExecuteTime": {
     "end_time": "2023-09-24T11:18:35.720886606Z",
     "start_time": "2023-09-24T11:18:27.250917313Z"
    }
   }
  },
  {
   "cell_type": "markdown",
   "metadata": {
    "pycharm": {
     "name": "#%% md\n"
    }
   },
   "source": [
    "## 3. Protein Prediction\n",
    "A feature matrix from a given set of CPP features can be created using ``sf.feat_matrix`` and used for machine learning:"
   ]
  },
  {
   "cell_type": "code",
   "execution_count": 15,
   "outputs": [
    {
     "name": "stdout",
     "output_type": "stream",
     "text": [
      "Mean accuracy of 0.58\n"
     ]
    }
   ],
   "source": [
    "from sklearn.ensemble import RandomForestClassifier\n",
    "from sklearn.model_selection import cross_val_score\n",
    "\n",
    "X = sf.feat_matrix(df_parts=df_parts, features=df_feat[\"feature\"])\n",
    "rf = RandomForestClassifier()\n",
    "cv_base = cross_val_score(rf, X, y, scoring=\"accuracy\")\n",
    "print(f\"Mean accuracy of {round(np.mean(cv_base), 2)}\")"
   ],
   "metadata": {
    "collapsed": false,
    "ExecuteTime": {
     "end_time": "2023-09-24T11:18:43.192973177Z",
     "start_time": "2023-09-24T11:18:39.111479446Z"
    }
   }
  },
  {
   "cell_type": "markdown",
   "source": [
    "Creating more features with CPP will take some more time. but improve prediction performance: "
   ],
   "metadata": {
    "collapsed": false
   }
  },
  {
   "cell_type": "code",
   "execution_count": 16,
   "outputs": [
    {
     "data": {
      "text/plain": "                                       feature      category        subcategory                     scale_name                                  scale_description  abs_auc  abs_mean_dif  mean_dif  std_test   std_ref  p_val_mann_whitney  p_val_fdr_bh                      positions\n0          TMD_C_JMD_C-Segment(2,3)-QIAN880106  Conformation            α-helix               α-helix (middle)  Weights for alpha-helix at the window position...    0.387      0.121446  0.121446  0.069196  0.085013        0.000000e+00  0.000000e+00           27,28,29,30,31,32,33\n1          TMD_C_JMD_C-Segment(4,5)-ZIMJ680104        Energy  Isoelectric point              Isoelectric point         Isoelectric point (Zimmerman et al., 1968)    0.373      0.220000  0.220000  0.123716  0.137350        1.000000e-10  2.475000e-07                    33,34,35,36\n2  TMD_C_JMD_C-Pattern(N,5,8,12,15)-QIAN880106  Conformation            α-helix               α-helix (middle)  Weights for alpha-helix at the window position...    0.358      0.144860  0.144860  0.079321  0.117515        7.000000e-10  7.150000e-07                    25,28,32,35\n3          TMD_C_JMD_C-Segment(5,7)-LINS030101    ASA/Volume             Volume  Accessible surface area (ASA)  Total accessible surfaces of whole residues (b...    0.354      0.237161  0.237161  0.145884  0.164285        1.100000e-09  7.150000e-07                       32,33,34\n4          TMD_C_JMD_C-Segment(6,9)-ZIMJ680104        Energy  Isoelectric point              Isoelectric point         Isoelectric point (Zimmerman et al., 1968)    0.341      0.263651  0.263651  0.187136  0.171995        4.000000e-09  1.185395e-06                          32,33\n5          TMD_C_JMD_C-Segment(4,9)-ROBB760113  Conformation             β-turn                         β-turn  Information measure for loop (Robson-Suzuki, 1...    0.337      0.319440 -0.319440  0.175203  0.255754        6.100000e-09  1.185395e-06                          27,28\n6          TMD_C_JMD_C-Segment(2,2)-EISD860102        Energy  Isoelectric point  Atom-based hydrophobic moment  Atom-based hydrophobic moment (Eisenberg-McLac...    0.337      0.139567  0.139567  0.098917  0.101842        6.300000e-09  1.185395e-06  31,32,33,34,35,36,37,38,39,40\n7          TMD_C_JMD_C-Segment(4,5)-RICJ880113  Conformation    α-helix (C-cap)   α-helix (C-terminal, inside)  Relative preference value at C2 (Richardson-Ri...    0.336      0.223765  0.223765  0.133513  0.178217        7.100000e-09  1.185395e-06                    33,34,35,36\n8          TMD_C_JMD_C-Segment(5,7)-KARS160107         Shape  Side chain length         Eccentricity (maximum)  Diameter (maximum eccentricity) (Karkbara-Knis...    0.331      0.217594  0.217594  0.136011  0.172395        1.130000e-08  1.331786e-06                       32,33,34\n9        TMD_C_JMD_C-Pattern(C,4,8)-JURD980101      Polarity     Hydrophobicity                 Hydrophobicity  Modified Kyte-Doolittle hydrophobicity scale (...    0.329      0.264720 -0.264720  0.141666  0.233134        1.480000e-08  1.425259e-06                          33,37",
      "text/html": "<div>\n<style scoped>\n    .dataframe tbody tr th:only-of-type {\n        vertical-align: middle;\n    }\n\n    .dataframe tbody tr th {\n        vertical-align: top;\n    }\n\n    .dataframe thead th {\n        text-align: right;\n    }\n</style>\n<table border=\"1\" class=\"dataframe\">\n  <thead>\n    <tr style=\"text-align: right;\">\n      <th></th>\n      <th>feature</th>\n      <th>category</th>\n      <th>subcategory</th>\n      <th>scale_name</th>\n      <th>scale_description</th>\n      <th>abs_auc</th>\n      <th>abs_mean_dif</th>\n      <th>mean_dif</th>\n      <th>std_test</th>\n      <th>std_ref</th>\n      <th>p_val_mann_whitney</th>\n      <th>p_val_fdr_bh</th>\n      <th>positions</th>\n    </tr>\n  </thead>\n  <tbody>\n    <tr>\n      <th>0</th>\n      <td>TMD_C_JMD_C-Segment(2,3)-QIAN880106</td>\n      <td>Conformation</td>\n      <td>α-helix</td>\n      <td>α-helix (middle)</td>\n      <td>Weights for alpha-helix at the window position...</td>\n      <td>0.387</td>\n      <td>0.121446</td>\n      <td>0.121446</td>\n      <td>0.069196</td>\n      <td>0.085013</td>\n      <td>0.000000e+00</td>\n      <td>0.000000e+00</td>\n      <td>27,28,29,30,31,32,33</td>\n    </tr>\n    <tr>\n      <th>1</th>\n      <td>TMD_C_JMD_C-Segment(4,5)-ZIMJ680104</td>\n      <td>Energy</td>\n      <td>Isoelectric point</td>\n      <td>Isoelectric point</td>\n      <td>Isoelectric point (Zimmerman et al., 1968)</td>\n      <td>0.373</td>\n      <td>0.220000</td>\n      <td>0.220000</td>\n      <td>0.123716</td>\n      <td>0.137350</td>\n      <td>1.000000e-10</td>\n      <td>2.475000e-07</td>\n      <td>33,34,35,36</td>\n    </tr>\n    <tr>\n      <th>2</th>\n      <td>TMD_C_JMD_C-Pattern(N,5,8,12,15)-QIAN880106</td>\n      <td>Conformation</td>\n      <td>α-helix</td>\n      <td>α-helix (middle)</td>\n      <td>Weights for alpha-helix at the window position...</td>\n      <td>0.358</td>\n      <td>0.144860</td>\n      <td>0.144860</td>\n      <td>0.079321</td>\n      <td>0.117515</td>\n      <td>7.000000e-10</td>\n      <td>7.150000e-07</td>\n      <td>25,28,32,35</td>\n    </tr>\n    <tr>\n      <th>3</th>\n      <td>TMD_C_JMD_C-Segment(5,7)-LINS030101</td>\n      <td>ASA/Volume</td>\n      <td>Volume</td>\n      <td>Accessible surface area (ASA)</td>\n      <td>Total accessible surfaces of whole residues (b...</td>\n      <td>0.354</td>\n      <td>0.237161</td>\n      <td>0.237161</td>\n      <td>0.145884</td>\n      <td>0.164285</td>\n      <td>1.100000e-09</td>\n      <td>7.150000e-07</td>\n      <td>32,33,34</td>\n    </tr>\n    <tr>\n      <th>4</th>\n      <td>TMD_C_JMD_C-Segment(6,9)-ZIMJ680104</td>\n      <td>Energy</td>\n      <td>Isoelectric point</td>\n      <td>Isoelectric point</td>\n      <td>Isoelectric point (Zimmerman et al., 1968)</td>\n      <td>0.341</td>\n      <td>0.263651</td>\n      <td>0.263651</td>\n      <td>0.187136</td>\n      <td>0.171995</td>\n      <td>4.000000e-09</td>\n      <td>1.185395e-06</td>\n      <td>32,33</td>\n    </tr>\n    <tr>\n      <th>5</th>\n      <td>TMD_C_JMD_C-Segment(4,9)-ROBB760113</td>\n      <td>Conformation</td>\n      <td>β-turn</td>\n      <td>β-turn</td>\n      <td>Information measure for loop (Robson-Suzuki, 1...</td>\n      <td>0.337</td>\n      <td>0.319440</td>\n      <td>-0.319440</td>\n      <td>0.175203</td>\n      <td>0.255754</td>\n      <td>6.100000e-09</td>\n      <td>1.185395e-06</td>\n      <td>27,28</td>\n    </tr>\n    <tr>\n      <th>6</th>\n      <td>TMD_C_JMD_C-Segment(2,2)-EISD860102</td>\n      <td>Energy</td>\n      <td>Isoelectric point</td>\n      <td>Atom-based hydrophobic moment</td>\n      <td>Atom-based hydrophobic moment (Eisenberg-McLac...</td>\n      <td>0.337</td>\n      <td>0.139567</td>\n      <td>0.139567</td>\n      <td>0.098917</td>\n      <td>0.101842</td>\n      <td>6.300000e-09</td>\n      <td>1.185395e-06</td>\n      <td>31,32,33,34,35,36,37,38,39,40</td>\n    </tr>\n    <tr>\n      <th>7</th>\n      <td>TMD_C_JMD_C-Segment(4,5)-RICJ880113</td>\n      <td>Conformation</td>\n      <td>α-helix (C-cap)</td>\n      <td>α-helix (C-terminal, inside)</td>\n      <td>Relative preference value at C2 (Richardson-Ri...</td>\n      <td>0.336</td>\n      <td>0.223765</td>\n      <td>0.223765</td>\n      <td>0.133513</td>\n      <td>0.178217</td>\n      <td>7.100000e-09</td>\n      <td>1.185395e-06</td>\n      <td>33,34,35,36</td>\n    </tr>\n    <tr>\n      <th>8</th>\n      <td>TMD_C_JMD_C-Segment(5,7)-KARS160107</td>\n      <td>Shape</td>\n      <td>Side chain length</td>\n      <td>Eccentricity (maximum)</td>\n      <td>Diameter (maximum eccentricity) (Karkbara-Knis...</td>\n      <td>0.331</td>\n      <td>0.217594</td>\n      <td>0.217594</td>\n      <td>0.136011</td>\n      <td>0.172395</td>\n      <td>1.130000e-08</td>\n      <td>1.331786e-06</td>\n      <td>32,33,34</td>\n    </tr>\n    <tr>\n      <th>9</th>\n      <td>TMD_C_JMD_C-Pattern(C,4,8)-JURD980101</td>\n      <td>Polarity</td>\n      <td>Hydrophobicity</td>\n      <td>Hydrophobicity</td>\n      <td>Modified Kyte-Doolittle hydrophobicity scale (...</td>\n      <td>0.329</td>\n      <td>0.264720</td>\n      <td>-0.264720</td>\n      <td>0.141666</td>\n      <td>0.233134</td>\n      <td>1.480000e-08</td>\n      <td>1.425259e-06</td>\n      <td>33,37</td>\n    </tr>\n  </tbody>\n</table>\n</div>"
     },
     "execution_count": 16,
     "metadata": {},
     "output_type": "execute_result"
    }
   ],
   "source": [
    "# CPP features with default splits (around 100.000 features)\n",
    "df_parts = sf.get_df_parts(df_seq=df_seq)\n",
    "cpp = aa.CPP(df_scales=df_scales, df_parts=df_parts, verbose=False)\n",
    "df_feat = cpp.run(labels=y)\n",
    "df_feat.head(10)"
   ],
   "metadata": {
    "collapsed": false,
    "ExecuteTime": {
     "end_time": "2023-09-24T11:20:06.208160304Z",
     "start_time": "2023-09-24T11:18:46.701291090Z"
    }
   }
  },
  {
   "cell_type": "markdown",
   "source": [
    "Which can be again used for machine learning:"
   ],
   "metadata": {
    "collapsed": false
   }
  },
  {
   "cell_type": "code",
   "execution_count": 18,
   "outputs": [
    {
     "name": "stdout",
     "output_type": "stream",
     "text": [
      "Mean accuracy of 0.9\n"
     ]
    },
    {
     "data": {
      "text/plain": "<Figure size 640x480 with 1 Axes>",
      "image/png": "[encoded data removed]"
     },
     "metadata": {},
     "output_type": "display_data"
    }
   ],
   "source": [
    "import seaborn as sns\n",
    "import warnings\n",
    "warnings.simplefilter(action='ignore', category=FutureWarning)\n",
    "import matplotlib.pyplot as plt\n",
    "import pandas as pd\n",
    "\n",
    "X = sf.feat_matrix(df_parts=df_parts, features=df_feat[\"feature\"])\n",
    "rf = RandomForestClassifier()\n",
    "cv = cross_val_score(rf, X, y, scoring=\"accuracy\", cv=5, n_jobs=1) \n",
    "print(f\"Mean accuracy of {round(np.mean(cv), 2)}\")\n",
    "\n",
    "aa.plot_settings(font_scale=1.1)\n",
    "sns.barplot(pd.DataFrame({\"Baseline\": cv_base, \"CPP\": cv}), palette=[\"tab:blue\", \"tab:red\"])\n",
    "plt.ylabel(\"Mean accuracy\", size=aa.plot_gcfs()+1)\n",
    "plt.ylim(0, 1)\n",
    "sns.despine()\n",
    "plt.show()"
   ],
   "metadata": {
    "collapsed": false,
    "ExecuteTime": {
     "end_time": "2023-09-24T11:20:45.657617985Z",
     "start_time": "2023-09-24T11:20:38.934103291Z"
    }
   }
  },
  {
   "cell_type": "markdown",
   "source": [
    "## 4. Explainable AI\n",
    "\n",
    "### Explainable AI on group level\n",
    "\n",
    "### Explainable AI on individual level"
   ],
   "metadata": {
    "collapsed": false
   }
  }
 ],
 "metadata": {
  "kernelspec": {
   "display_name": "Python 3 (ipykernel)",
   "language": "python",
   "name": "python3"
  },
  "language_info": {
   "codemirror_mode": {
    "name": "ipython",
    "version": 3
   },
   "file_extension": ".py",
   "mimetype": "text/x-python",
   "name": "python",
   "nbconvert_exporter": "python",
   "pygments_lexer": "ipython3",
   "version": "3.9.5"
  }
 },
 "nbformat": 4,
 "nbformat_minor": 1
}
