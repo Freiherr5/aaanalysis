{
 "cells": [
  {
   "cell_type": "code",
   "execution_count": 1,
   "metadata": {
    "pycharm": {
     "name": "#%%\n"
    }
   },
   "outputs": [],
   "source": [
    "import numpy as np\n",
    "from sklearn.cluster import AgglomerativeClustering\n",
    "from sklearn.ensemble import RandomForestClassifier\n",
    "from sklearn.model_selection import cross_val_score\n",
    "\n",
    "import aaanalysis as aa"
   ]
  },
  {
   "cell_type": "markdown",
   "metadata": {
    "pycharm": {
     "name": "#%% md\n"
    }
   },
   "source": [
    "# Loading scales and sequence data using AAanalysis\n",
    "AAanalysis is a python framework for sequence-based and alignment-free protein prediction. It comprises several example datasets for sequence and residue predictions tasks, which can be retrieved using the aa.load_dataset() function. Amino acid scales (most from AAindex) and their hierarchical classification (named AAontology) can be accessed using the aa.load_scales() function. Since redundancy is an essential problem for machine learning tasks, the AAclust() object provides a lightweight wrapper for sklearn clustering algorithms such as Agglomerative clustering. AAclust clusters a set of scales and selects for each cluster the most representative scale (i.e., the scale closes to the cluster center)."
   ]
  },
  {
   "cell_type": "code",
   "execution_count": 2,
   "metadata": {
    "pycharm": {
     "name": "#%%\n"
    }
   },
   "outputs": [
    {
     "name": "stdout",
     "output_type": "stream",
     "text": [
      "               entry                                           sequence  label\n",
      "1        DISULFIDE_2  PLHHLXIGTWTPPGAIFTVQFDDEKLTCKLIKRTEIPQDEPISWXT...      0\n",
      "4        DISULFIDE_5  GFPELKNDTFLRAAWGEETDYTPVWCMRQAGRYLPEFRETRAAQDF...      0\n",
      "5        DISULFIDE_6  MKIIRIETSRIAVPLTKPFKTALRTVYTAESVIVRITYDSGAVGWG...      0\n",
      "7        DISULFIDE_8  AAERVFISPAKYVQGKNVITKIANYLEGIGNKTVVIADEIVWKIAG...      0\n",
      "9       DISULFIDE_10  MKFTVEREHLLKPLQQVSGPLGGRPTLPILGNLLLQVADGTLSLTG...      0\n",
      "...              ...                                                ...    ...\n",
      "2130  DISULFIDE_2131  DSLDEQRSRYAQIKQAWDNRQMDVVEQMMPGLKDYPLYPYLEYRQI...      1\n",
      "2132  DISULFIDE_2133  SRTHVCQSDTHIFIIMGASGDLAKKKIYPTIWWLFRDGLLPENTFI...      1\n",
      "2134  DISULFIDE_2135  ATTYNAVVSKSSSDGKTFKTIADAIASAPAGSTPFVILIKNGVYNE...      1\n",
      "2137  DISULFIDE_2138  KQFSQEFRDGYSILKHYGGNGPYSERVSYGIARDPPTSCEVDQVIM...      1\n",
      "2147  DISULFIDE_2148  MRNRREVSKLLSERVLLLDGAYGTEFMKYGYDDLPEELNIKAPDVV...      1\n",
      "\n",
      "[200 rows x 3 columns]\n"
     ]
    }
   ],
   "source": [
    "# Load training data\n",
    "df_info = aa.load_dataset()\n",
    "df = aa.load_dataset(name=\"SEQ_DISULFIDE\", min_len=300, n=100)\n",
    "print(df)\n",
    "# Load scales and scale categories from AAanalysis\n",
    "df_scales = aa.load_scales()\n",
    "df_cat = aa.load_scales(name=\"scales_cat\")\n",
    "# Select scales using AAclust\n",
    "aac = aa.AAclust(model=AgglomerativeClustering, model_kwargs=dict(linkage=\"ward\"))\n",
    "X = np.array(df_scales).T\n",
    "scales = aac.fit(X, n_clusters=10, names=list(df_scales))   # Number of clusters = number of selected scales (100 is recommended)\n",
    "df_cat = df_cat[df_cat[\"scale_id\"].isin(scales)]\n",
    "df_scales = df_scales[scales]"
   ]
  },
  {
   "cell_type": "markdown",
   "metadata": {
    "pycharm": {
     "name": "#%% md\n"
    }
   },
   "source": [
    "# Feature Engineering\n",
    "*Comparative Physicochemical Profiling (CPP)* is a sequence-based feature engineering algorithm aiming at identifying a set of features that is most discriminant between two sets of sequences, called test set and reference set. A CPP feature is a combination of a *Part*, a *Split*, and a *Scale*. *Parts* are combination of a target middle domain (TMD) and N- and C-terminal adjacent regions (JMD-N and JMD-C, respectively). They can be obtained from a dataframe with sequences using the sf.get_df_parts() method from the SequenceFeature class, where the length of the JMDs can be specified. These *Parts* can be split into various continuous segments or discontinuous patterns, for which the sf.get_split_kws() method creates a parameter dictionary. The scales (and or scale categories), the parts, and the split parameters are used to instantiates the CPP class. Running the CPP algorithm creates all *Part*, *Split*, *Split* combinations and filters a selected maximum (via 'n_filter' argument) of non-redundant features."
   ]
  },
  {
   "cell_type": "code",
   "execution_count": 3,
   "metadata": {
    "pycharm": {
     "name": "#%%\n"
    }
   },
   "outputs": [
    {
     "name": "stdout",
     "output_type": "stream",
     "text": [
      "1. CPP creates 30 features for 200 samples\n",
      "   |#########################| 100.00%\n",
      "2. CPP pre-filters 1 features (5%) with highest 'abs_mean_dif' and 'max_std_test' <= 0.2\n",
      "3. CPP filtering algorithm\n",
      "4. CPP returns df with 1 unique features including general information and statistics\n"
     ]
    }
   ],
   "source": [
    "# Feature Engineering\n",
    "y = list(df[\"label\"])\n",
    "sf = aa.SequenceFeature()\n",
    "df_parts = sf.get_df_parts(df_seq=df, jmd_n_len=50, jmd_c_len=50)\n",
    "args = dict(df_scales=df_scales, df_parts=df_parts, accept_gaps=True)\n",
    "# Small set of features (300 features created)\n",
    "split_kws = sf.get_split_kws(n_split_max=1, split_types=[\"Segment\"])\n",
    "cpp = aa.CPP(df_cat=df_cat, **args, split_kws=split_kws)\n",
    "df_feat = cpp.run(labels=y, tmd_len=200, n_processes=8, n_filter=100)"
   ]
  },
  {
   "cell_type": "markdown",
   "metadata": {
    "pycharm": {
     "name": "#%% md\n"
    }
   },
   "source": [
    "# Machine learning\n",
    "The SequenceFeature class provides as well a method to create a feature matrix from a given set of CPP features."
   ]
  },
  {
   "cell_type": "code",
   "execution_count": 4,
   "metadata": {
    "pycharm": {
     "name": "#%%\n"
    }
   },
   "outputs": [
    {
     "name": "stdout",
     "output_type": "stream",
     "text": [
      "Mean accuracy of 0.55\n"
     ]
    }
   ],
   "source": [
    "X = sf.feat_matrix(**args, features=df_feat[\"feature\"])\n",
    "# ML evaluation\n",
    "rf = RandomForestClassifier()\n",
    "cv = cross_val_score(rf, X, y, scoring=\"accuracy\", cv=5, n_jobs=8) # Set n_jobs=1 to disable multi-processing\n",
    "print(f\"Mean accuracy of {round(np.mean(cv), 2)}\")"
   ]
  },
  {
   "cell_type": "code",
   "execution_count": 5,
   "metadata": {
    "pycharm": {
     "name": "#%%\n"
    }
   },
   "outputs": [
    {
     "name": "stdout",
     "output_type": "stream",
     "text": [
      "1. CPP creates 9900 features for 200 samples\n",
      "   |#########################| 100.00%\n",
      "2. CPP pre-filters 495 features (5%) with highest 'abs_mean_dif' and 'max_std_test' <= 0.2\n",
      "3. CPP filtering algorithm\n",
      "4. CPP returns df with 32 unique features including general information and statistics\n",
      "Mean accuracy of 0.74\n"
     ]
    }
   ],
   "source": [
    "# Default set of features (around 100.000 features created)\n",
    "split_kws = sf.get_split_kws()\n",
    "cpp = aa.CPP(df_cat=df_cat, **args, split_kws=split_kws)\n",
    "df_feat = cpp.run(labels=y, tmd_len=200, n_processes=8, n_filter=100)\n",
    "X = sf.feat_matrix(**args, features=df_feat[\"feature\"])\n",
    "# ML evaluation\n",
    "rf = RandomForestClassifier()\n",
    "cv = cross_val_score(rf, X, y, scoring=\"accuracy\", cv=5, n_jobs=1)  # Set n_jobs=1 to disable multi-processing\n",
    "print(f\"Mean accuracy of {round(np.mean(cv), 2)}\")"
   ]
  }
 ],
 "metadata": {
  "kernelspec": {
   "display_name": "Python 3 (ipykernel)",
   "language": "python",
   "name": "python3"
  },
  "language_info": {
   "codemirror_mode": {
    "name": "ipython",
    "version": 3
   },
   "file_extension": ".py",
   "mimetype": "text/x-python",
   "name": "python",
   "nbconvert_exporter": "python",
   "pygments_lexer": "ipython3",
   "version": "3.9.5"
  }
 },
 "nbformat": 4,
 "nbformat_minor": 1
}