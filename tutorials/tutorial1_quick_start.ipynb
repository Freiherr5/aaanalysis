{
 "cells": [
  {
   "cell_type": "markdown",
   "source": [
    "# Quick Start with AAanalysis\n",
    "Dive into the powerful capabilities of ``AAanalysis``—a Python framework dedicated to sequence-based, alignment-free protein prediction. In this tutorial, using gamma-secretase substrates and non-substrates as an example, we'll focus on extracting interpretable features from protein sequences using the ``AAclust`` and ``CPP`` models and how they can be harnessed for binary classification tasks.\n",
    "\n",
    "## What You Will Learn:\n",
    "\n",
    "- ``Loading Sequences and Scales``: How to easily load protein sequences and their amino acid scales.\n",
    "- ``Feature Engineering``: Extract essential features using the ``AAclust`` and ``CPP`` models.\n",
    "- ``Protein Prediction``: Make predictions using the RandomForest model.\n",
    "- ``Explainable AI``: Interpret predictions at the group and individual levels by combining ``CPP`` with ``SHAP``.\n",
    "\n",
    "## 1. Loading Sequences and Scales\n",
    "With AAanalysis, you have access to numerous benchmark datasets for protein sequence analysis. Using our γ-secretase substrates and non-substrates dataset as a hands-on example, you can effortlessly retrieve these datasets using the ``aa.load_dataset()`` function. Furthermore, amino acid scales, predominantly from AAindex, along with their hierarchical classification (known as ``AAontology``), are available at your fingertips with the ``aa.load_scales()`` function."
   ],
   "metadata": {
    "collapsed": false
   }
  },
  {
   "cell_type": "code",
   "execution_count": 14,
   "metadata": {
    "pycharm": {
     "name": "#%%\n"
    },
    "ExecuteTime": {
     "end_time": "2023-09-24T06:49:44.600810538Z",
     "start_time": "2023-09-24T06:49:44.523495924Z"
    }
   },
   "outputs": [
    {
     "data": {
      "text/plain": "    entry                                           sequence  label  tmd_start  tmd_stop       jmd_n                      tmd       jmd_c\n0  Q14802  MQKVTLGLLVFLAGFPVLDANDLEDKNSPFYYDWHSLQVGGLICAG...      0         37        59  NSPFYYDWHS  LQVGGLICAGVLCAMGIIIVMSA  KCKCKFGQKS\n1  Q86UE4  MAARSWQDELAQQAEEGSARLREMLSVGLGFLRTELGLDLGLEPKR...      0         50        72  LGLEPKRYPG  WVILVGTGALGLLLLFLLGYGWA  AACAGARKKR\n2  Q969W9  MHRLMGVNSTAAAAAGQPNVSCTCNCKRSLFQSMEITELEFVQIII...      0         41        63  FQSMEITELE  FVQIIIIVVVMMVMVVVITCLLS  HYKLSARSFI\n3  P53801  MAPGVARGPTPYWRLRLGGAALLLLLIPVAAAQEPPGAACSQNTNK...      0         97       119  RWGVCWVNFE  ALIITMSVVGGTLLLGIAICCCC  CCRRKRSRKP\n4  Q8IUW5  MAPRALPGSAVLAAAVFVGGAVSSPLVAPDNGSSRTLHSRTETTPS...      0         59        81  NDTGNGHPEY  IAYALVPVFFIMGLFGVLICHLL  KKKGYRCTTE",
      "text/html": "<div>\n<style scoped>\n    .dataframe tbody tr th:only-of-type {\n        vertical-align: middle;\n    }\n\n    .dataframe tbody tr th {\n        vertical-align: top;\n    }\n\n    .dataframe thead th {\n        text-align: right;\n    }\n</style>\n<table border=\"1\" class=\"dataframe\">\n  <thead>\n    <tr style=\"text-align: right;\">\n      <th></th>\n      <th>entry</th>\n      <th>sequence</th>\n      <th>label</th>\n      <th>tmd_start</th>\n      <th>tmd_stop</th>\n      <th>jmd_n</th>\n      <th>tmd</th>\n      <th>jmd_c</th>\n    </tr>\n  </thead>\n  <tbody>\n    <tr>\n      <th>0</th>\n      <td>Q14802</td>\n      <td>MQKVTLGLLVFLAGFPVLDANDLEDKNSPFYYDWHSLQVGGLICAG...</td>\n      <td>0</td>\n      <td>37</td>\n      <td>59</td>\n      <td>NSPFYYDWHS</td>\n      <td>LQVGGLICAGVLCAMGIIIVMSA</td>\n      <td>KCKCKFGQKS</td>\n    </tr>\n    <tr>\n      <th>1</th>\n      <td>Q86UE4</td>\n      <td>MAARSWQDELAQQAEEGSARLREMLSVGLGFLRTELGLDLGLEPKR...</td>\n      <td>0</td>\n      <td>50</td>\n      <td>72</td>\n      <td>LGLEPKRYPG</td>\n      <td>WVILVGTGALGLLLLFLLGYGWA</td>\n      <td>AACAGARKKR</td>\n    </tr>\n    <tr>\n      <th>2</th>\n      <td>Q969W9</td>\n      <td>MHRLMGVNSTAAAAAGQPNVSCTCNCKRSLFQSMEITELEFVQIII...</td>\n      <td>0</td>\n      <td>41</td>\n      <td>63</td>\n      <td>FQSMEITELE</td>\n      <td>FVQIIIIVVVMMVMVVVITCLLS</td>\n      <td>HYKLSARSFI</td>\n    </tr>\n    <tr>\n      <th>3</th>\n      <td>P53801</td>\n      <td>MAPGVARGPTPYWRLRLGGAALLLLLIPVAAAQEPPGAACSQNTNK...</td>\n      <td>0</td>\n      <td>97</td>\n      <td>119</td>\n      <td>RWGVCWVNFE</td>\n      <td>ALIITMSVVGGTLLLGIAICCCC</td>\n      <td>CCRRKRSRKP</td>\n    </tr>\n    <tr>\n      <th>4</th>\n      <td>Q8IUW5</td>\n      <td>MAPRALPGSAVLAAAVFVGGAVSSPLVAPDNGSSRTLHSRTETTPS...</td>\n      <td>0</td>\n      <td>59</td>\n      <td>81</td>\n      <td>NDTGNGHPEY</td>\n      <td>IAYALVPVFFIMGLFGVLICHLL</td>\n      <td>KKKGYRCTTE</td>\n    </tr>\n  </tbody>\n</table>\n</div>"
     },
     "execution_count": 14,
     "metadata": {},
     "output_type": "execute_result"
    }
   ],
   "source": [
    "import aaanalysis as aa\n",
    "# Load scales and scale categories (AAontology) \n",
    "df_scales = aa.load_scales()\n",
    "# Load training data\n",
    "df_seq = aa.load_dataset(name=\"DOM_GSEC\", n=50)\n",
    "df_seq.head(5)"
   ]
  },
  {
   "cell_type": "markdown",
   "metadata": {
    "pycharm": {
     "name": "#%% md\n"
    }
   },
   "source": [
    "## 2.  Feature Engineering\n",
    "The centerpiece of AAanalysis is the Comparative Physicochemical Profiling (``CPP``) model, which is supported by ``AAclust`` for the pre-selection of amino acid scales. \n",
    "\n",
    "### AAclust\n",
    "Since redundancy is an essential problem for machine learning tasks, the ``AAclust`` object provides a lightweight wrapper for sklearn clustering algorithms such as Agglomerative clustering. AAclust clusters a set of scales and selects for each cluster the most representative scale (i.e., the scale closes to the cluster center). We will use AAclust to obtain a set of 100 scales, as defined by the ``n_clusters`` parameters:"
   ]
  },
  {
   "cell_type": "code",
   "execution_count": 31,
   "outputs": [
    {
     "data": {
      "text/plain": "    ANDN920101  SIMZ760101  NAKH900106  AURR980112  CORJ870107  ROBB760113  MIYS990104  BIGC670101  ROSG850102  ZIMJ680105  ...  YUTK870102  SUEM840102  VASM830102  VELV850101  VENT840101  MONM990101  GEOR030102  GEOR030106  KARS160120  LINS030117\nAA                                                                                                                          ...                                                                                                                        \nA        0.494       0.268       0.237       0.787       0.446       0.101       0.479       0.164       0.564       0.444  ...       0.557       0.103       0.617       0.295           0       0.077       0.250       0.516       0.952       0.186\nC        0.864       0.258       0.303       0.104       0.725       0.849       0.000       0.323       1.000       0.000  ...       0.680       0.337       0.734       0.657           0       0.154       0.246       0.000       0.952       0.000\nD        1.000       0.206       0.000       0.451       0.000       0.790       0.803       0.324       0.256       0.000  ...       0.574       0.909       0.225       1.000           0       0.923       0.091       0.404       0.952       0.186\nE        0.420       0.210       0.090       0.823       0.233       0.092       0.859       0.488       0.256       0.025  ...       0.402       0.077       0.531       0.046           0       0.923       0.404       0.610       0.952       0.349\nF        0.877       0.887       0.724       0.402       0.950       0.328       0.000       0.783       0.923       1.000  ...       0.680       0.233       0.023       0.749           1       0.000       0.536       0.712       0.952       0.326\nG        0.025       0.032       0.259       0.055       0.352       1.000       0.662       0.000       0.513       0.175  ...       0.525       0.000       0.455       0.040           0       0.692       0.000       0.210       0.952       0.023\nH        0.840       0.387       0.401       0.463       0.610       0.454       0.479       0.561       0.667       0.338  ...       0.754       0.000       0.345       0.191           0       0.923       0.201       0.612       0.562       0.419\nI        0.000       0.990       0.697       0.512       0.969       0.151       0.056       0.663       0.923       0.894  ...       0.820       0.714       0.070       0.000           1       0.154       0.161       0.457       0.583       0.140\nK        0.506       0.516       0.127       0.591       0.027       0.613       1.000       0.694       0.000       0.044  ...       0.615       0.012       0.688       0.294           0       0.923       0.195       0.536       0.912       1.000\nL        0.272       0.835       0.905       0.732       1.000       0.076       0.014       0.663       0.846       0.925  ...       1.000       0.428       0.771       0.000           1       0.000       0.513       0.690       0.952       0.186\nM        0.704       0.452       1.000       1.000       0.883       0.084       0.113       0.620       0.846       0.756  ...       0.689       0.701       0.512       0.651           0       0.077       0.151       0.670       0.952       0.372\nN        0.988       0.029       0.381       0.287       0.171       0.924       0.718       0.398       0.282       0.162  ...       0.508       0.000       0.313       0.028           0       1.000       0.277       0.342       0.952       0.093\nP        0.605       0.871       0.403       0.000       0.130       0.824       0.803       0.376       0.308       0.750  ...       0.566       0.545       0.937       0.157           0       1.000       1.000       1.000       0.952       0.698\nQ        0.519       0.000       0.203       0.805       0.238       0.546       0.732       0.539       0.256       0.388  ...       0.697       0.428       0.446       0.602           0       0.923       0.478       0.530       0.952       0.256\nR        0.531       0.268       0.061       0.738       0.482       0.748       0.634       0.735       0.308       0.112  ...       0.000       0.000       0.550       0.760           0       1.000       0.549       0.728       0.952       0.372\nS        0.679       0.045       0.450       0.293       0.293       0.798       0.704       0.188       0.359       0.256  ...       0.656       0.000       0.868       0.657           0       0.231       0.168       0.399       0.952       0.186\nT        0.494       0.174       0.619       0.360       0.279       0.529       0.577       0.352       0.462       0.419  ...       0.574       0.000       1.000       0.745           0       0.000       0.344       0.513       0.000       0.419\nV        0.000       0.577       0.183       0.451       0.907       0.000       0.127       0.492       0.872       0.719  ...       0.770       0.000       0.408       0.045           1       0.077       0.151       0.467       0.952       0.163\nW        0.926       1.000       0.707       0.805       0.500       0.773       0.070       1.000       0.846       0.894  ...       0.467       1.000       0.138       0.434           1       0.231       0.066       0.440       1.000       0.349\nY        0.802       0.990       0.425       0.524       0.771       0.798       0.127       0.806       0.615       0.762  ...       0.557       0.857       0.000       0.408           1       0.154       0.110       0.666       0.736       0.349\n\n[20 rows x 100 columns]",
      "text/html": "<div>\n<style scoped>\n    .dataframe tbody tr th:only-of-type {\n        vertical-align: middle;\n    }\n\n    .dataframe tbody tr th {\n        vertical-align: top;\n    }\n\n    .dataframe thead th {\n        text-align: right;\n    }\n</style>\n<table border=\"1\" class=\"dataframe\">\n  <thead>\n    <tr style=\"text-align: right;\">\n      <th></th>\n      <th>ANDN920101</th>\n      <th>SIMZ760101</th>\n      <th>NAKH900106</th>\n      <th>AURR980112</th>\n      <th>CORJ870107</th>\n      <th>ROBB760113</th>\n      <th>MIYS990104</th>\n      <th>BIGC670101</th>\n      <th>ROSG850102</th>\n      <th>ZIMJ680105</th>\n      <th>...</th>\n      <th>YUTK870102</th>\n      <th>SUEM840102</th>\n      <th>VASM830102</th>\n      <th>VELV850101</th>\n      <th>VENT840101</th>\n      <th>MONM990101</th>\n      <th>GEOR030102</th>\n      <th>GEOR030106</th>\n      <th>KARS160120</th>\n      <th>LINS030117</th>\n    </tr>\n    <tr>\n      <th>AA</th>\n      <th></th>\n      <th></th>\n      <th></th>\n      <th></th>\n      <th></th>\n      <th></th>\n      <th></th>\n      <th></th>\n      <th></th>\n      <th></th>\n      <th></th>\n      <th></th>\n      <th></th>\n      <th></th>\n      <th></th>\n      <th></th>\n      <th></th>\n      <th></th>\n      <th></th>\n      <th></th>\n      <th></th>\n    </tr>\n  </thead>\n  <tbody>\n    <tr>\n      <th>A</th>\n      <td>0.494</td>\n      <td>0.268</td>\n      <td>0.237</td>\n      <td>0.787</td>\n      <td>0.446</td>\n      <td>0.101</td>\n      <td>0.479</td>\n      <td>0.164</td>\n      <td>0.564</td>\n      <td>0.444</td>\n      <td>...</td>\n      <td>0.557</td>\n      <td>0.103</td>\n      <td>0.617</td>\n      <td>0.295</td>\n      <td>0</td>\n      <td>0.077</td>\n      <td>0.250</td>\n      <td>0.516</td>\n      <td>0.952</td>\n      <td>0.186</td>\n    </tr>\n    <tr>\n      <th>C</th>\n      <td>0.864</td>\n      <td>0.258</td>\n      <td>0.303</td>\n      <td>0.104</td>\n      <td>0.725</td>\n      <td>0.849</td>\n      <td>0.000</td>\n      <td>0.323</td>\n      <td>1.000</td>\n      <td>0.000</td>\n      <td>...</td>\n      <td>0.680</td>\n      <td>0.337</td>\n      <td>0.734</td>\n      <td>0.657</td>\n      <td>0</td>\n      <td>0.154</td>\n      <td>0.246</td>\n      <td>0.000</td>\n      <td>0.952</td>\n      <td>0.000</td>\n    </tr>\n    <tr>\n      <th>D</th>\n      <td>1.000</td>\n      <td>0.206</td>\n      <td>0.000</td>\n      <td>0.451</td>\n      <td>0.000</td>\n      <td>0.790</td>\n      <td>0.803</td>\n      <td>0.324</td>\n      <td>0.256</td>\n      <td>0.000</td>\n      <td>...</td>\n      <td>0.574</td>\n      <td>0.909</td>\n      <td>0.225</td>\n      <td>1.000</td>\n      <td>0</td>\n      <td>0.923</td>\n      <td>0.091</td>\n      <td>0.404</td>\n      <td>0.952</td>\n      <td>0.186</td>\n    </tr>\n    <tr>\n      <th>E</th>\n      <td>0.420</td>\n      <td>0.210</td>\n      <td>0.090</td>\n      <td>0.823</td>\n      <td>0.233</td>\n      <td>0.092</td>\n      <td>0.859</td>\n      <td>0.488</td>\n      <td>0.256</td>\n      <td>0.025</td>\n      <td>...</td>\n      <td>0.402</td>\n      <td>0.077</td>\n      <td>0.531</td>\n      <td>0.046</td>\n      <td>0</td>\n      <td>0.923</td>\n      <td>0.404</td>\n      <td>0.610</td>\n      <td>0.952</td>\n      <td>0.349</td>\n    </tr>\n    <tr>\n      <th>F</th>\n      <td>0.877</td>\n      <td>0.887</td>\n      <td>0.724</td>\n      <td>0.402</td>\n      <td>0.950</td>\n      <td>0.328</td>\n      <td>0.000</td>\n      <td>0.783</td>\n      <td>0.923</td>\n      <td>1.000</td>\n      <td>...</td>\n      <td>0.680</td>\n      <td>0.233</td>\n      <td>0.023</td>\n      <td>0.749</td>\n      <td>1</td>\n      <td>0.000</td>\n      <td>0.536</td>\n      <td>0.712</td>\n      <td>0.952</td>\n      <td>0.326</td>\n    </tr>\n    <tr>\n      <th>G</th>\n      <td>0.025</td>\n      <td>0.032</td>\n      <td>0.259</td>\n      <td>0.055</td>\n      <td>0.352</td>\n      <td>1.000</td>\n      <td>0.662</td>\n      <td>0.000</td>\n      <td>0.513</td>\n      <td>0.175</td>\n      <td>...</td>\n      <td>0.525</td>\n      <td>0.000</td>\n      <td>0.455</td>\n      <td>0.040</td>\n      <td>0</td>\n      <td>0.692</td>\n      <td>0.000</td>\n      <td>0.210</td>\n      <td>0.952</td>\n      <td>0.023</td>\n    </tr>\n    <tr>\n      <th>H</th>\n      <td>0.840</td>\n      <td>0.387</td>\n      <td>0.401</td>\n      <td>0.463</td>\n      <td>0.610</td>\n      <td>0.454</td>\n      <td>0.479</td>\n      <td>0.561</td>\n      <td>0.667</td>\n      <td>0.338</td>\n      <td>...</td>\n      <td>0.754</td>\n      <td>0.000</td>\n      <td>0.345</td>\n      <td>0.191</td>\n      <td>0</td>\n      <td>0.923</td>\n      <td>0.201</td>\n      <td>0.612</td>\n      <td>0.562</td>\n      <td>0.419</td>\n    </tr>\n    <tr>\n      <th>I</th>\n      <td>0.000</td>\n      <td>0.990</td>\n      <td>0.697</td>\n      <td>0.512</td>\n      <td>0.969</td>\n      <td>0.151</td>\n      <td>0.056</td>\n      <td>0.663</td>\n      <td>0.923</td>\n      <td>0.894</td>\n      <td>...</td>\n      <td>0.820</td>\n      <td>0.714</td>\n      <td>0.070</td>\n      <td>0.000</td>\n      <td>1</td>\n      <td>0.154</td>\n      <td>0.161</td>\n      <td>0.457</td>\n      <td>0.583</td>\n      <td>0.140</td>\n    </tr>\n    <tr>\n      <th>K</th>\n      <td>0.506</td>\n      <td>0.516</td>\n      <td>0.127</td>\n      <td>0.591</td>\n      <td>0.027</td>\n      <td>0.613</td>\n      <td>1.000</td>\n      <td>0.694</td>\n      <td>0.000</td>\n      <td>0.044</td>\n      <td>...</td>\n      <td>0.615</td>\n      <td>0.012</td>\n      <td>0.688</td>\n      <td>0.294</td>\n      <td>0</td>\n      <td>0.923</td>\n      <td>0.195</td>\n      <td>0.536</td>\n      <td>0.912</td>\n      <td>1.000</td>\n    </tr>\n    <tr>\n      <th>L</th>\n      <td>0.272</td>\n      <td>0.835</td>\n      <td>0.905</td>\n      <td>0.732</td>\n      <td>1.000</td>\n      <td>0.076</td>\n      <td>0.014</td>\n      <td>0.663</td>\n      <td>0.846</td>\n      <td>0.925</td>\n      <td>...</td>\n      <td>1.000</td>\n      <td>0.428</td>\n      <td>0.771</td>\n      <td>0.000</td>\n      <td>1</td>\n      <td>0.000</td>\n      <td>0.513</td>\n      <td>0.690</td>\n      <td>0.952</td>\n      <td>0.186</td>\n    </tr>\n    <tr>\n      <th>M</th>\n      <td>0.704</td>\n      <td>0.452</td>\n      <td>1.000</td>\n      <td>1.000</td>\n      <td>0.883</td>\n      <td>0.084</td>\n      <td>0.113</td>\n      <td>0.620</td>\n      <td>0.846</td>\n      <td>0.756</td>\n      <td>...</td>\n      <td>0.689</td>\n      <td>0.701</td>\n      <td>0.512</td>\n      <td>0.651</td>\n      <td>0</td>\n      <td>0.077</td>\n      <td>0.151</td>\n      <td>0.670</td>\n      <td>0.952</td>\n      <td>0.372</td>\n    </tr>\n    <tr>\n      <th>N</th>\n      <td>0.988</td>\n      <td>0.029</td>\n      <td>0.381</td>\n      <td>0.287</td>\n      <td>0.171</td>\n      <td>0.924</td>\n      <td>0.718</td>\n      <td>0.398</td>\n      <td>0.282</td>\n      <td>0.162</td>\n      <td>...</td>\n      <td>0.508</td>\n      <td>0.000</td>\n      <td>0.313</td>\n      <td>0.028</td>\n      <td>0</td>\n      <td>1.000</td>\n      <td>0.277</td>\n      <td>0.342</td>\n      <td>0.952</td>\n      <td>0.093</td>\n    </tr>\n    <tr>\n      <th>P</th>\n      <td>0.605</td>\n      <td>0.871</td>\n      <td>0.403</td>\n      <td>0.000</td>\n      <td>0.130</td>\n      <td>0.824</td>\n      <td>0.803</td>\n      <td>0.376</td>\n      <td>0.308</td>\n      <td>0.750</td>\n      <td>...</td>\n      <td>0.566</td>\n      <td>0.545</td>\n      <td>0.937</td>\n      <td>0.157</td>\n      <td>0</td>\n      <td>1.000</td>\n      <td>1.000</td>\n      <td>1.000</td>\n      <td>0.952</td>\n      <td>0.698</td>\n    </tr>\n    <tr>\n      <th>Q</th>\n      <td>0.519</td>\n      <td>0.000</td>\n      <td>0.203</td>\n      <td>0.805</td>\n      <td>0.238</td>\n      <td>0.546</td>\n      <td>0.732</td>\n      <td>0.539</td>\n      <td>0.256</td>\n      <td>0.388</td>\n      <td>...</td>\n      <td>0.697</td>\n      <td>0.428</td>\n      <td>0.446</td>\n      <td>0.602</td>\n      <td>0</td>\n      <td>0.923</td>\n      <td>0.478</td>\n      <td>0.530</td>\n      <td>0.952</td>\n      <td>0.256</td>\n    </tr>\n    <tr>\n      <th>R</th>\n      <td>0.531</td>\n      <td>0.268</td>\n      <td>0.061</td>\n      <td>0.738</td>\n      <td>0.482</td>\n      <td>0.748</td>\n      <td>0.634</td>\n      <td>0.735</td>\n      <td>0.308</td>\n      <td>0.112</td>\n      <td>...</td>\n      <td>0.000</td>\n      <td>0.000</td>\n      <td>0.550</td>\n      <td>0.760</td>\n      <td>0</td>\n      <td>1.000</td>\n      <td>0.549</td>\n      <td>0.728</td>\n      <td>0.952</td>\n      <td>0.372</td>\n    </tr>\n    <tr>\n      <th>S</th>\n      <td>0.679</td>\n      <td>0.045</td>\n      <td>0.450</td>\n      <td>0.293</td>\n      <td>0.293</td>\n      <td>0.798</td>\n      <td>0.704</td>\n      <td>0.188</td>\n      <td>0.359</td>\n      <td>0.256</td>\n      <td>...</td>\n      <td>0.656</td>\n      <td>0.000</td>\n      <td>0.868</td>\n      <td>0.657</td>\n      <td>0</td>\n      <td>0.231</td>\n      <td>0.168</td>\n      <td>0.399</td>\n      <td>0.952</td>\n      <td>0.186</td>\n    </tr>\n    <tr>\n      <th>T</th>\n      <td>0.494</td>\n      <td>0.174</td>\n      <td>0.619</td>\n      <td>0.360</td>\n      <td>0.279</td>\n      <td>0.529</td>\n      <td>0.577</td>\n      <td>0.352</td>\n      <td>0.462</td>\n      <td>0.419</td>\n      <td>...</td>\n      <td>0.574</td>\n      <td>0.000</td>\n      <td>1.000</td>\n      <td>0.745</td>\n      <td>0</td>\n      <td>0.000</td>\n      <td>0.344</td>\n      <td>0.513</td>\n      <td>0.000</td>\n      <td>0.419</td>\n    </tr>\n    <tr>\n      <th>V</th>\n      <td>0.000</td>\n      <td>0.577</td>\n      <td>0.183</td>\n      <td>0.451</td>\n      <td>0.907</td>\n      <td>0.000</td>\n      <td>0.127</td>\n      <td>0.492</td>\n      <td>0.872</td>\n      <td>0.719</td>\n      <td>...</td>\n      <td>0.770</td>\n      <td>0.000</td>\n      <td>0.408</td>\n      <td>0.045</td>\n      <td>1</td>\n      <td>0.077</td>\n      <td>0.151</td>\n      <td>0.467</td>\n      <td>0.952</td>\n      <td>0.163</td>\n    </tr>\n    <tr>\n      <th>W</th>\n      <td>0.926</td>\n      <td>1.000</td>\n      <td>0.707</td>\n      <td>0.805</td>\n      <td>0.500</td>\n      <td>0.773</td>\n      <td>0.070</td>\n      <td>1.000</td>\n      <td>0.846</td>\n      <td>0.894</td>\n      <td>...</td>\n      <td>0.467</td>\n      <td>1.000</td>\n      <td>0.138</td>\n      <td>0.434</td>\n      <td>1</td>\n      <td>0.231</td>\n      <td>0.066</td>\n      <td>0.440</td>\n      <td>1.000</td>\n      <td>0.349</td>\n    </tr>\n    <tr>\n      <th>Y</th>\n      <td>0.802</td>\n      <td>0.990</td>\n      <td>0.425</td>\n      <td>0.524</td>\n      <td>0.771</td>\n      <td>0.798</td>\n      <td>0.127</td>\n      <td>0.806</td>\n      <td>0.615</td>\n      <td>0.762</td>\n      <td>...</td>\n      <td>0.557</td>\n      <td>0.857</td>\n      <td>0.000</td>\n      <td>0.408</td>\n      <td>1</td>\n      <td>0.154</td>\n      <td>0.110</td>\n      <td>0.666</td>\n      <td>0.736</td>\n      <td>0.349</td>\n    </tr>\n  </tbody>\n</table>\n<p>20 rows × 100 columns</p>\n</div>"
     },
     "execution_count": 31,
     "metadata": {},
     "output_type": "execute_result"
    }
   ],
   "source": [
    "from sklearn.cluster import AgglomerativeClustering\n",
    "import numpy as np\n",
    "aac = aa.AAclust(model=AgglomerativeClustering, model_kwargs=dict(linkage=\"ward\"))\n",
    "X = np.array(df_scales)\n",
    "scales = aac.fit(X, n_clusters=100, names=list(df_scales)) \n",
    "df_scales = df_scales[scales]\n",
    "df_scales"
   ],
   "metadata": {
    "collapsed": false,
    "ExecuteTime": {
     "end_time": "2023-09-24T07:09:02.332982857Z",
     "start_time": "2023-09-24T07:09:02.142147429Z"
    }
   }
  },
  {
   "cell_type": "markdown",
   "source": [
    "### Comparative Physicochemical Profiling (CPP)\n",
    " CPP is a sequence-based feature engineering algorithm. It aims at identifying a set of features most discriminant between two sets of sequences: the test set and the reference set. Supported by the ``SequenceFeature`` object (``sf``), A CPP feature integrates:\n",
    "- ``Parts``: Are combination of a target middle domain (TMD) and N- and C-terminal adjacent regions (JMD-N and JMD-C, respectively), obtained ``sf.get_df_parts``.\n",
    "- ``Splits``: These `Parts` can be split into various continuous segments or discontinuous patterns, specified ``sf.get_split_kws()``. \n",
    "- ``Scales``: Sets of amino acid scales.\n",
    "We first use SequenceFeature to obtain Parts and Splits:"
   ],
   "metadata": {
    "collapsed": false
   }
  },
  {
   "cell_type": "code",
   "execution_count": 32,
   "metadata": {
    "pycharm": {
     "name": "#%%\n"
    },
    "ExecuteTime": {
     "end_time": "2023-09-24T07:09:02.340451349Z",
     "start_time": "2023-09-24T07:09:02.251538089Z"
    }
   },
   "outputs": [
    {
     "data": {
      "text/plain": "                                            tmd_jmd\nD3ZZK3  RIIGDGANSTVLLVSVSGSVVLVVILIAAFVISRRRSKYSQAK\nO14786  PGNVLKTLDPILITIIAMSALGVLLGAVCGVVLYCACWHNGMS\nO35516  SELESPRNAQLLYLLAVAVVIILFFILLGVIMAKRKRKHGFLW\nO43914  DCSCSTVSPGVLAGIVMGDLVLTVLIALAVYFLGRLVPRGRGA\nO75581  YPTEEPAPQATNTVGSVIGVIVTIFVSGTVYFICQRMLCPRMK",
      "text/html": "<div>\n<style scoped>\n    .dataframe tbody tr th:only-of-type {\n        vertical-align: middle;\n    }\n\n    .dataframe tbody tr th {\n        vertical-align: top;\n    }\n\n    .dataframe thead th {\n        text-align: right;\n    }\n</style>\n<table border=\"1\" class=\"dataframe\">\n  <thead>\n    <tr style=\"text-align: right;\">\n      <th></th>\n      <th>tmd_jmd</th>\n    </tr>\n  </thead>\n  <tbody>\n    <tr>\n      <th>D3ZZK3</th>\n      <td>RIIGDGANSTVLLVSVSGSVVLVVILIAAFVISRRRSKYSQAK</td>\n    </tr>\n    <tr>\n      <th>O14786</th>\n      <td>PGNVLKTLDPILITIIAMSALGVLLGAVCGVVLYCACWHNGMS</td>\n    </tr>\n    <tr>\n      <th>O35516</th>\n      <td>SELESPRNAQLLYLLAVAVVIILFFILLGVIMAKRKRKHGFLW</td>\n    </tr>\n    <tr>\n      <th>O43914</th>\n      <td>DCSCSTVSPGVLAGIVMGDLVLTVLIALAVYFLGRLVPRGRGA</td>\n    </tr>\n    <tr>\n      <th>O75581</th>\n      <td>YPTEEPAPQATNTVGSVIGVIVTIFVSGTVYFICQRMLCPRMK</td>\n    </tr>\n  </tbody>\n</table>\n</div>"
     },
     "execution_count": 32,
     "metadata": {},
     "output_type": "execute_result"
    }
   ],
   "source": [
    "# Feature Engineering\n",
    "y = list(df_seq[\"label\"])\n",
    "sf = aa.SequenceFeature()\n",
    "df_parts = sf.get_df_parts(df_seq=df_seq, jmd_n_len=10, jmd_c_len=10, list_parts=[\"tmd_jmd\"])\n",
    "split_kws = sf.get_split_kws(n_split_max=1, split_types=[\"Segment\"])\n",
    "df_parts.head(5)"
   ]
  },
  {
   "cell_type": "markdown",
   "source": [
    "Running the CPP algorithm creates all `Part`, `Split`, `Split` combinations and filters a selected maximum of non-redundant features. As a baseline approach,\n",
    "we use CPP to compute the average values for the 100 selected scales over the entire TMD-JMD sequences:"
   ],
   "metadata": {
    "collapsed": false
   }
  },
  {
   "cell_type": "code",
   "execution_count": 33,
   "outputs": [
    {
     "data": {
      "text/plain": "                           feature            category                  subcategory                                scale_name                                  scale_description  abs_auc  abs_mean_dif  mean_dif  std_test   std_ref  p_val_mann_whitney  p_val_fdr_bh                                          positions\n0  TMD_JMD-Segment(1,1)-ANDN920101  Structure-Activity      Backbone-dynamics (-CH)  α-CH chemical shifts (backbone-dynamics)   alpha-CH chemical shifts (Andersen et al., 1992)    0.130      0.022966  0.022966  0.054433  0.053266            0.025737      0.099022  1,2,3,4,5,6,7,8,9,10,11,12,13,14,15,16,17,18,1...\n1  TMD_JMD-Segment(1,1)-VASM830101        Conformation  Unclassified (Conformation)                                   α-helix  Relative population of conformational state A ...    0.120      0.019298 -0.019298  0.046755  0.049127            0.039609      0.099022  1,2,3,4,5,6,7,8,9,10,11,12,13,14,15,16,17,18,1...\n2  TMD_JMD-Segment(1,1)-ROBB760113        Conformation                       β-turn                                    β-turn  Information measure for loop (Robson-Suzuki, 1...    0.108      0.021958  0.021958  0.060658  0.053190            0.062212      0.100670  1,2,3,4,5,6,7,8,9,10,11,12,13,14,15,16,17,18,1...\n3  TMD_JMD-Segment(1,1)-RACS820103        Conformation  Unclassified (Conformation)                     α-helix (left-handed)  Average relative fractional occurrence in AL(i...    0.080      0.019579 -0.019579  0.072260  0.047452            0.166907      0.166907  1,2,3,4,5,6,7,8,9,10,11,12,13,14,15,16,17,18,1...",
      "text/html": "<div>\n<style scoped>\n    .dataframe tbody tr th:only-of-type {\n        vertical-align: middle;\n    }\n\n    .dataframe tbody tr th {\n        vertical-align: top;\n    }\n\n    .dataframe thead th {\n        text-align: right;\n    }\n</style>\n<table border=\"1\" class=\"dataframe\">\n  <thead>\n    <tr style=\"text-align: right;\">\n      <th></th>\n      <th>feature</th>\n      <th>category</th>\n      <th>subcategory</th>\n      <th>scale_name</th>\n      <th>scale_description</th>\n      <th>abs_auc</th>\n      <th>abs_mean_dif</th>\n      <th>mean_dif</th>\n      <th>std_test</th>\n      <th>std_ref</th>\n      <th>p_val_mann_whitney</th>\n      <th>p_val_fdr_bh</th>\n      <th>positions</th>\n    </tr>\n  </thead>\n  <tbody>\n    <tr>\n      <th>0</th>\n      <td>TMD_JMD-Segment(1,1)-ANDN920101</td>\n      <td>Structure-Activity</td>\n      <td>Backbone-dynamics (-CH)</td>\n      <td>α-CH chemical shifts (backbone-dynamics)</td>\n      <td>alpha-CH chemical shifts (Andersen et al., 1992)</td>\n      <td>0.130</td>\n      <td>0.022966</td>\n      <td>0.022966</td>\n      <td>0.054433</td>\n      <td>0.053266</td>\n      <td>0.025737</td>\n      <td>0.099022</td>\n      <td>1,2,3,4,5,6,7,8,9,10,11,12,13,14,15,16,17,18,1...</td>\n    </tr>\n    <tr>\n      <th>1</th>\n      <td>TMD_JMD-Segment(1,1)-VASM830101</td>\n      <td>Conformation</td>\n      <td>Unclassified (Conformation)</td>\n      <td>α-helix</td>\n      <td>Relative population of conformational state A ...</td>\n      <td>0.120</td>\n      <td>0.019298</td>\n      <td>-0.019298</td>\n      <td>0.046755</td>\n      <td>0.049127</td>\n      <td>0.039609</td>\n      <td>0.099022</td>\n      <td>1,2,3,4,5,6,7,8,9,10,11,12,13,14,15,16,17,18,1...</td>\n    </tr>\n    <tr>\n      <th>2</th>\n      <td>TMD_JMD-Segment(1,1)-ROBB760113</td>\n      <td>Conformation</td>\n      <td>β-turn</td>\n      <td>β-turn</td>\n      <td>Information measure for loop (Robson-Suzuki, 1...</td>\n      <td>0.108</td>\n      <td>0.021958</td>\n      <td>0.021958</td>\n      <td>0.060658</td>\n      <td>0.053190</td>\n      <td>0.062212</td>\n      <td>0.100670</td>\n      <td>1,2,3,4,5,6,7,8,9,10,11,12,13,14,15,16,17,18,1...</td>\n    </tr>\n    <tr>\n      <th>3</th>\n      <td>TMD_JMD-Segment(1,1)-RACS820103</td>\n      <td>Conformation</td>\n      <td>Unclassified (Conformation)</td>\n      <td>α-helix (left-handed)</td>\n      <td>Average relative fractional occurrence in AL(i...</td>\n      <td>0.080</td>\n      <td>0.019579</td>\n      <td>-0.019579</td>\n      <td>0.072260</td>\n      <td>0.047452</td>\n      <td>0.166907</td>\n      <td>0.166907</td>\n      <td>1,2,3,4,5,6,7,8,9,10,11,12,13,14,15,16,17,18,1...</td>\n    </tr>\n  </tbody>\n</table>\n</div>"
     },
     "execution_count": 33,
     "metadata": {},
     "output_type": "execute_result"
    }
   ],
   "source": [
    "# Small set of features (100 features created)\n",
    "cpp = aa.CPP(df_parts=df_parts, df_scales=df_scales, split_kws=split_kws, verbose=False)\n",
    "df_feat = cpp.run(labels=y, tmd_len=20, jmd_n_len=10, jmd_c_len=10, n_filter=100)  # Default values for lengths are used\n",
    "df_feat"
   ],
   "metadata": {
    "collapsed": false,
    "ExecuteTime": {
     "end_time": "2023-09-24T07:09:16.423080603Z",
     "start_time": "2023-09-24T07:09:07.771862935Z"
    }
   }
  },
  {
   "cell_type": "markdown",
   "metadata": {
    "pycharm": {
     "name": "#%% md\n"
    }
   },
   "source": [
    "## 3. Protein Prediction\n",
    "A feature matrix from a given set of CPP features can be created using ``sf.feat_matrix`` and used for machine learning:"
   ]
  },
  {
   "cell_type": "code",
   "execution_count": 34,
   "outputs": [
    {
     "name": "stdout",
     "output_type": "stream",
     "text": [
      "Mean accuracy of 0.57\n"
     ]
    }
   ],
   "source": [
    "from sklearn.ensemble import RandomForestClassifier\n",
    "from sklearn.model_selection import cross_val_score\n",
    "X = sf.feat_matrix(df_parts=df_parts, df_scales=df_scales, features=df_feat[\"feature\"])\n",
    "# ML evaluation\n",
    "rf = RandomForestClassifier()\n",
    "cv_base = cross_val_score(rf, X, y, scoring=\"accuracy\", cv=5, n_jobs=8) # Set n_jobs=1 to disable multi-processing\n",
    "print(f\"Mean accuracy of {round(np.mean(cv_base), 2)}\")"
   ],
   "metadata": {
    "collapsed": false,
    "ExecuteTime": {
     "end_time": "2023-09-24T07:09:24.862316908Z",
     "start_time": "2023-09-24T07:09:20.126515444Z"
    }
   }
  },
  {
   "cell_type": "markdown",
   "source": [
    "Creating more features with CPP will take some more time. but improve prediction performance: "
   ],
   "metadata": {
    "collapsed": false
   }
  },
  {
   "cell_type": "code",
   "execution_count": 35,
   "outputs": [
    {
     "data": {
      "text/plain": "                                        feature      category             subcategory                             scale_name                                  scale_description  abs_auc  abs_mean_dif  mean_dif  std_test   std_ref  p_val_mann_whitney  p_val_fdr_bh             positions\n0           TMD_C_JMD_C-Segment(2,3)-QIAN880106  Conformation                 α-helix                       α-helix (middle)  Weights for alpha-helix at the window position...    0.387      0.121446  0.121446  0.069196  0.085013        0.000000e+00  0.000000e+00  27,28,29,30,31,32,33\n1           TMD_C_JMD_C-Segment(4,5)-ZIMJ680104        Energy       Isoelectric point                      Isoelectric point         Isoelectric point (Zimmerman et al., 1968)    0.373      0.220000  0.220000  0.123716  0.137350        1.000000e-10  2.475000e-07           33,34,35,36\n2   TMD_C_JMD_C-Pattern(N,5,8,12,15)-QIAN880106  Conformation                 α-helix                       α-helix (middle)  Weights for alpha-helix at the window position...    0.358      0.144860  0.144860  0.079321  0.117515        7.000000e-10  7.150000e-07           25,28,32,35\n3           TMD_C_JMD_C-Segment(5,7)-LINS030101    ASA/Volume                  Volume          Accessible surface area (ASA)  Total accessible surfaces of whole residues (b...    0.354      0.237161  0.237161  0.145884  0.164285        1.100000e-09  7.150000e-07              32,33,34\n4           TMD_C_JMD_C-Segment(6,9)-ZIMJ680104        Energy       Isoelectric point                      Isoelectric point         Isoelectric point (Zimmerman et al., 1968)    0.341      0.263651  0.263651  0.187136  0.171995        4.000000e-09  1.185395e-06                 32,33\n..                                          ...           ...                     ...                                    ...                                                ...      ...           ...       ...       ...       ...                 ...           ...                   ...\n95        JMD_N_TMD_N-Pattern(C,6,9)-NAKH900106   Composition  Mitochondrial proteins                 Mitochondrial proteins  Normalized composition from animal (Nakashima ...    0.228      0.172120 -0.172120  0.180254  0.199987        8.754340e-05  2.693037e-04                 12,15\n96     JMD_N_TMD_N-Pattern(C,6,9,12)-ZIMJ680105        Others                    PC 2      Principal Component 1 (Zimmerman)                   RF rank (Zimmerman et al., 1968)    0.227      0.133867 -0.133867  0.160532  0.161415        9.118090e-05  2.778863e-04               9,12,15\n97          JMD_N_TMD_N-Segment(7,8)-KARS160107         Shape       Side chain length                 Eccentricity (maximum)  Diameter (maximum eccentricity) (Karkbara-Knis...    0.227      0.098674 -0.098674  0.104428  0.124875        8.945330e-05  2.740061e-04                 16,17\n98     JMD_N_TMD_N-Pattern(C,6,9,12)-SIMZ760101      Polarity          Hydrophobicity  Transfer free energy (TFE) to outside  Transfer free energy (Simon, 1976), Cited by C...    0.225      0.161307 -0.161307  0.192235  0.212741        1.036749e-04  3.042894e-04               9,12,15\n99        JMD_N_TMD_N-Pattern(C,3,6)-TANS770102  Conformation   α-helix (C-term, out)          α-helix (C-terminal, outside)  Normalized frequency of isolated helix (Tanaka...    0.224      0.108020 -0.108020  0.133731  0.139419        1.143783e-04  3.272494e-04                 15,18\n\n[100 rows x 13 columns]",
      "text/html": "<div>\n<style scoped>\n    .dataframe tbody tr th:only-of-type {\n        vertical-align: middle;\n    }\n\n    .dataframe tbody tr th {\n        vertical-align: top;\n    }\n\n    .dataframe thead th {\n        text-align: right;\n    }\n</style>\n<table border=\"1\" class=\"dataframe\">\n  <thead>\n    <tr style=\"text-align: right;\">\n      <th></th>\n      <th>feature</th>\n      <th>category</th>\n      <th>subcategory</th>\n      <th>scale_name</th>\n      <th>scale_description</th>\n      <th>abs_auc</th>\n      <th>abs_mean_dif</th>\n      <th>mean_dif</th>\n      <th>std_test</th>\n      <th>std_ref</th>\n      <th>p_val_mann_whitney</th>\n      <th>p_val_fdr_bh</th>\n      <th>positions</th>\n    </tr>\n  </thead>\n  <tbody>\n    <tr>\n      <th>0</th>\n      <td>TMD_C_JMD_C-Segment(2,3)-QIAN880106</td>\n      <td>Conformation</td>\n      <td>α-helix</td>\n      <td>α-helix (middle)</td>\n      <td>Weights for alpha-helix at the window position...</td>\n      <td>0.387</td>\n      <td>0.121446</td>\n      <td>0.121446</td>\n      <td>0.069196</td>\n      <td>0.085013</td>\n      <td>0.000000e+00</td>\n      <td>0.000000e+00</td>\n      <td>27,28,29,30,31,32,33</td>\n    </tr>\n    <tr>\n      <th>1</th>\n      <td>TMD_C_JMD_C-Segment(4,5)-ZIMJ680104</td>\n      <td>Energy</td>\n      <td>Isoelectric point</td>\n      <td>Isoelectric point</td>\n      <td>Isoelectric point (Zimmerman et al., 1968)</td>\n      <td>0.373</td>\n      <td>0.220000</td>\n      <td>0.220000</td>\n      <td>0.123716</td>\n      <td>0.137350</td>\n      <td>1.000000e-10</td>\n      <td>2.475000e-07</td>\n      <td>33,34,35,36</td>\n    </tr>\n    <tr>\n      <th>2</th>\n      <td>TMD_C_JMD_C-Pattern(N,5,8,12,15)-QIAN880106</td>\n      <td>Conformation</td>\n      <td>α-helix</td>\n      <td>α-helix (middle)</td>\n      <td>Weights for alpha-helix at the window position...</td>\n      <td>0.358</td>\n      <td>0.144860</td>\n      <td>0.144860</td>\n      <td>0.079321</td>\n      <td>0.117515</td>\n      <td>7.000000e-10</td>\n      <td>7.150000e-07</td>\n      <td>25,28,32,35</td>\n    </tr>\n    <tr>\n      <th>3</th>\n      <td>TMD_C_JMD_C-Segment(5,7)-LINS030101</td>\n      <td>ASA/Volume</td>\n      <td>Volume</td>\n      <td>Accessible surface area (ASA)</td>\n      <td>Total accessible surfaces of whole residues (b...</td>\n      <td>0.354</td>\n      <td>0.237161</td>\n      <td>0.237161</td>\n      <td>0.145884</td>\n      <td>0.164285</td>\n      <td>1.100000e-09</td>\n      <td>7.150000e-07</td>\n      <td>32,33,34</td>\n    </tr>\n    <tr>\n      <th>4</th>\n      <td>TMD_C_JMD_C-Segment(6,9)-ZIMJ680104</td>\n      <td>Energy</td>\n      <td>Isoelectric point</td>\n      <td>Isoelectric point</td>\n      <td>Isoelectric point (Zimmerman et al., 1968)</td>\n      <td>0.341</td>\n      <td>0.263651</td>\n      <td>0.263651</td>\n      <td>0.187136</td>\n      <td>0.171995</td>\n      <td>4.000000e-09</td>\n      <td>1.185395e-06</td>\n      <td>32,33</td>\n    </tr>\n    <tr>\n      <th>...</th>\n      <td>...</td>\n      <td>...</td>\n      <td>...</td>\n      <td>...</td>\n      <td>...</td>\n      <td>...</td>\n      <td>...</td>\n      <td>...</td>\n      <td>...</td>\n      <td>...</td>\n      <td>...</td>\n      <td>...</td>\n      <td>...</td>\n    </tr>\n    <tr>\n      <th>95</th>\n      <td>JMD_N_TMD_N-Pattern(C,6,9)-NAKH900106</td>\n      <td>Composition</td>\n      <td>Mitochondrial proteins</td>\n      <td>Mitochondrial proteins</td>\n      <td>Normalized composition from animal (Nakashima ...</td>\n      <td>0.228</td>\n      <td>0.172120</td>\n      <td>-0.172120</td>\n      <td>0.180254</td>\n      <td>0.199987</td>\n      <td>8.754340e-05</td>\n      <td>2.693037e-04</td>\n      <td>12,15</td>\n    </tr>\n    <tr>\n      <th>96</th>\n      <td>JMD_N_TMD_N-Pattern(C,6,9,12)-ZIMJ680105</td>\n      <td>Others</td>\n      <td>PC 2</td>\n      <td>Principal Component 1 (Zimmerman)</td>\n      <td>RF rank (Zimmerman et al., 1968)</td>\n      <td>0.227</td>\n      <td>0.133867</td>\n      <td>-0.133867</td>\n      <td>0.160532</td>\n      <td>0.161415</td>\n      <td>9.118090e-05</td>\n      <td>2.778863e-04</td>\n      <td>9,12,15</td>\n    </tr>\n    <tr>\n      <th>97</th>\n      <td>JMD_N_TMD_N-Segment(7,8)-KARS160107</td>\n      <td>Shape</td>\n      <td>Side chain length</td>\n      <td>Eccentricity (maximum)</td>\n      <td>Diameter (maximum eccentricity) (Karkbara-Knis...</td>\n      <td>0.227</td>\n      <td>0.098674</td>\n      <td>-0.098674</td>\n      <td>0.104428</td>\n      <td>0.124875</td>\n      <td>8.945330e-05</td>\n      <td>2.740061e-04</td>\n      <td>16,17</td>\n    </tr>\n    <tr>\n      <th>98</th>\n      <td>JMD_N_TMD_N-Pattern(C,6,9,12)-SIMZ760101</td>\n      <td>Polarity</td>\n      <td>Hydrophobicity</td>\n      <td>Transfer free energy (TFE) to outside</td>\n      <td>Transfer free energy (Simon, 1976), Cited by C...</td>\n      <td>0.225</td>\n      <td>0.161307</td>\n      <td>-0.161307</td>\n      <td>0.192235</td>\n      <td>0.212741</td>\n      <td>1.036749e-04</td>\n      <td>3.042894e-04</td>\n      <td>9,12,15</td>\n    </tr>\n    <tr>\n      <th>99</th>\n      <td>JMD_N_TMD_N-Pattern(C,3,6)-TANS770102</td>\n      <td>Conformation</td>\n      <td>α-helix (C-term, out)</td>\n      <td>α-helix (C-terminal, outside)</td>\n      <td>Normalized frequency of isolated helix (Tanaka...</td>\n      <td>0.224</td>\n      <td>0.108020</td>\n      <td>-0.108020</td>\n      <td>0.133731</td>\n      <td>0.139419</td>\n      <td>1.143783e-04</td>\n      <td>3.272494e-04</td>\n      <td>15,18</td>\n    </tr>\n  </tbody>\n</table>\n<p>100 rows × 13 columns</p>\n</div>"
     },
     "execution_count": 35,
     "metadata": {},
     "output_type": "execute_result"
    }
   ],
   "source": [
    "# Default CPP features  (around 100.000 features)\n",
    "split_kws = sf.get_split_kws()\n",
    "df_parts = sf.get_df_parts(df_seq=df_seq, jmd_n_len=10, jmd_c_len=10)\n",
    "cpp = aa.CPP(df_parts=df_parts, df_scales=df_scales, split_kws=split_kws, verbose=False)\n",
    "df_feat = cpp.run(labels=y, n_processes=8, n_filter=100)\n",
    "df_feat"
   ],
   "metadata": {
    "collapsed": false,
    "ExecuteTime": {
     "end_time": "2023-09-24T07:10:55.161445139Z",
     "start_time": "2023-09-24T07:09:27.289343470Z"
    }
   }
  },
  {
   "cell_type": "markdown",
   "source": [
    "Which can be again used for machine learning:"
   ],
   "metadata": {
    "collapsed": false
   }
  },
  {
   "cell_type": "code",
   "execution_count": 36,
   "outputs": [
    {
     "name": "stdout",
     "output_type": "stream",
     "text": [
      "Mean accuracy of 0.95\n"
     ]
    },
    {
     "data": {
      "text/plain": "<Figure size 640x480 with 1 Axes>",
      "image/png": "[encoded data removed]"
     },
     "metadata": {},
     "output_type": "display_data"
    }
   ],
   "source": [
    "import seaborn as sns\n",
    "import warnings\n",
    "warnings.simplefilter(action='ignore', category=FutureWarning)\n",
    "import matplotlib.pyplot as plt\n",
    "import pandas as pd\n",
    "X = sf.feat_matrix(df_parts=df_parts, df_scales=df_scales, features=df_feat[\"feature\"])\n",
    "# ML evaluation\n",
    "rf = RandomForestClassifier()\n",
    "cv = cross_val_score(rf, X, y, scoring=\"accuracy\", cv=5, n_jobs=1) \n",
    "print(f\"Mean accuracy of {round(np.mean(cv), 2)}\")\n",
    "aa.plot_settings(font_scale=1.1)\n",
    "sns.barplot(pd.DataFrame({\"Baseline\": cv_base, \"CPP\": cv}), palette=[\"tab:blue\", \"tab:red\"])\n",
    "plt.ylabel(\"Mean accuracy\", size=aa.plot_gcfs()+1)\n",
    "sns.despine()\n",
    "plt.show()"
   ],
   "metadata": {
    "collapsed": false,
    "ExecuteTime": {
     "end_time": "2023-09-24T07:11:52.473756689Z",
     "start_time": "2023-09-24T07:11:45.847226209Z"
    }
   }
  },
  {
   "cell_type": "markdown",
   "source": [
    "## 4. Explainable AI\n",
    "\n",
    "### Explainable AI on group level\n",
    "\n",
    "### Explainable AI on individual level"
   ],
   "metadata": {
    "collapsed": false
   }
  }
 ],
 "metadata": {
  "kernelspec": {
   "display_name": "Python 3 (ipykernel)",
   "language": "python",
   "name": "python3"
  },
  "language_info": {
   "codemirror_mode": {
    "name": "ipython",
    "version": 3
   },
   "file_extension": ".py",
   "mimetype": "text/x-python",
   "name": "python",
   "nbconvert_exporter": "python",
   "pygments_lexer": "ipython3",
   "version": "3.9.5"
  }
 },
 "nbformat": 4,
 "nbformat_minor": 1
}
