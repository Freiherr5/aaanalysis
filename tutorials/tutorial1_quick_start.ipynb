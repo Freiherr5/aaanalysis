{
 "cells": [
  {
   "cell_type": "markdown",
   "source": [
    "# Quick start with AAanalysis\n",
    "This is a short introduction to **AAanalysis**, a Python framework for sequence-based protein prediction, centered around the **Comparative Physical Profiling (CPP)** algorithm for interpretable feature engineering.\n",
    "\n",
    "First, import some third-party packages and ``aanalysis``:"
   ],
   "metadata": {
    "collapsed": false
   }
  },
  {
   "cell_type": "code",
   "execution_count": 1,
   "outputs": [],
   "source": [
    "import seaborn as sns\n",
    "import matplotlib.pyplot as plt\n",
    "import pandas as pd\n",
    "import numpy as np\n",
    "\n",
    "import aaanalysis as aa\n",
    "aa.options[\"verbose\"] = False\n",
    "aa.options[\"random_state\"] = 1"
   ],
   "metadata": {
    "collapsed": false,
    "ExecuteTime": {
     "end_time": "2024-02-08T17:56:45.785759264Z",
     "start_time": "2024-02-08T17:56:44.967303327Z"
    }
   }
  },
  {
   "cell_type": "markdown",
   "source": [
    "**Data Loading**\n",
    "\n",
    "We can load a dataset of amino acid scales using the ``aa.load_scales()`` function. Dataset of protein sequences for a binary classification task, such as our γ-secretase substrates (n=63) and non-substrates (n=63) dataset ([Breimann24c]_), can be retrieved via the ``aa.load_dataest()`` function:"
   ],
   "metadata": {
    "collapsed": false
   }
  },
  {
   "cell_type": "code",
   "execution_count": 2,
   "metadata": {
    "pycharm": {
     "name": "#%%\n"
    },
    "ExecuteTime": {
     "end_time": "2024-02-08T17:56:46.548002558Z",
     "start_time": "2024-02-08T17:56:45.827407968Z"
    }
   },
   "outputs": [],
   "source": [
    "# Load example dataset and scales\n",
    "df_seq = aa.load_dataset(name=\"DOM_GSEC\")\n",
    "labels = list(df_seq[\"label\"])\n",
    "df_scales = aa.load_scales()"
   ]
  },
  {
   "cell_type": "markdown",
   "metadata": {
    "pycharm": {
     "name": "#%% md\n"
    }
   },
   "source": [
    "**Feature Engineering**\n",
    "\n",
    "To start feature engineering, we can utilize the  ``AAclust`` model for selecting a redundancy-reduced set of amino acid scales:"
   ]
  },
  {
   "cell_type": "code",
   "execution_count": 3,
   "outputs": [],
   "source": [
    "# Obtain redundancy-reduced set of 100 scales\n",
    "aac = aa.AAclust()\n",
    "X = np.array(df_scales).T\n",
    "scales = aac.fit(X, names=list(df_scales), n_clusters=100).medoid_names_ \n",
    "df_scales = df_scales[scales]"
   ],
   "metadata": {
    "collapsed": false,
    "ExecuteTime": {
     "end_time": "2024-02-08T17:56:46.811313032Z",
     "start_time": "2024-02-08T17:56:46.539939684Z"
    }
   }
  },
  {
   "cell_type": "markdown",
   "source": [
    "We can now use the ``CPP`` algorithm, which aims at identifying a set of features that are most discriminant between two sets of sequences. It´s core idea is the CPP feature concept, defined as a combination of **Parts**, **Splits**, and **Scales**. Parts and Splits can be obtained using ``SequenceFeature``.\n",
    "\n",
    "We first create a set of baseline features:"
   ],
   "metadata": {
    "collapsed": false
   }
  },
  {
   "cell_type": "code",
   "execution_count": 4,
   "metadata": {
    "pycharm": {
     "name": "#%%\n"
    },
    "ExecuteTime": {
     "end_time": "2024-02-08T17:56:46.950437315Z",
     "start_time": "2024-02-08T17:56:46.827245400Z"
    }
   },
   "outputs": [],
   "source": [
    "sf = aa.SequenceFeature()\n",
    "\n",
    "# Obtain Parts and Splits\n",
    "df_parts = sf.get_df_parts(df_seq=df_seq, list_parts=[\"tmd\"])\n",
    "split_kws = sf.get_split_kws(n_split_max=1, split_types=[\"Segment\"])"
   ]
  },
  {
   "cell_type": "markdown",
   "source": [
    "Running CPP creates all **Part-Split-Scale** combinations and filters a selected maximum of non-redundant features. As a baseline approach,\n",
    "we use CPP without filtering (`max_cor=1`) to compute the average values for the 100 selected scales over the entire TMD sequences:"
   ],
   "metadata": {
    "collapsed": false
   }
  },
  {
   "cell_type": "markdown",
   "source": [],
   "metadata": {
    "collapsed": false
   }
  },
  {
   "cell_type": "code",
   "execution_count": null,
   "outputs": [],
   "source": [
    "# CPP creates 100 baseline features (Scale values averaged over TMD)\n",
    "cpp = aa.CPP(df_scales=df_scales, df_parts=df_parts, split_kws=split_kws)\n",
    "df_feat_baseline = cpp.run(labels=labels, max_cor=1)\n",
    "aa.display_df(df=df_feat_baseline, n_rows=10)"
   ],
   "metadata": {
    "collapsed": false,
    "is_executing": true,
    "ExecuteTime": {
     "start_time": "2024-02-08T17:56:46.963709007Z"
    }
   }
  },
  {
   "cell_type": "markdown",
   "source": [
    "By default, ``CPP`` creates around 1000 **Part-Slit** combinations:"
   ],
   "metadata": {
    "collapsed": false
   }
  },
  {
   "cell_type": "code",
   "execution_count": null,
   "outputs": [],
   "source": [
    "# CPP creates with default parts and splits around 100.000 features and filters them down to 100\n",
    "df_parts = sf.get_df_parts(df_seq=df_seq)\n",
    "cpp = aa.CPP(df_scales=df_scales, df_parts=df_parts)\n",
    "df_feat = cpp.run(labels=labels)\n",
    "aa.display_df(df=df_feat, n_rows=10)"
   ],
   "metadata": {
    "collapsed": false,
    "is_executing": true
   }
  },
  {
   "cell_type": "markdown",
   "metadata": {
    "pycharm": {
     "name": "#%% md\n"
    }
   },
   "source": [
    "**Machine Learning**\n",
    "\n",
    "A feature matrix from a given set of CPP features can be created using ``SequenceFeature.feature_matrix``:"
   ]
  },
  {
   "cell_type": "code",
   "execution_count": null,
   "outputs": [],
   "source": [
    "from sklearn.ensemble import RandomForestClassifier\n",
    "from sklearn.model_selection import cross_val_score\n",
    "\n",
    "# Create feature matrix and perform prediction for baseline features\n",
    "X = sf.feature_matrix(df_parts=df_parts, features=df_feat_baseline[\"feature\"])\n",
    "rf = RandomForestClassifier()\n",
    "cv_base = cross_val_score(rf, X, labels, scoring=\"accuracy\", cv=5)\n",
    "print(f\"Mean accuracy of {round(np.mean(cv_base), 2)}\")"
   ],
   "metadata": {
    "collapsed": false,
    "is_executing": true
   }
  },
  {
   "cell_type": "markdown",
   "source": [
    "Creating more features with CPP will take a little time but improve prediction performance: "
   ],
   "metadata": {
    "collapsed": false
   }
  },
  {
   "cell_type": "code",
   "execution_count": null,
   "outputs": [],
   "source": [
    "# Create feature matrix and perform prediction for default CPP features\n",
    "X = sf.feature_matrix(df_parts=df_parts, features=df_feat[\"feature\"])\n",
    "rf = RandomForestClassifier()\n",
    "cv = cross_val_score(rf, X, labels, scoring=\"accuracy\", cv=5) \n",
    "print(f\"Mean accuracy of {round(np.mean(cv), 2)}\")\n"
   ],
   "metadata": {
    "collapsed": false,
    "is_executing": true
   }
  },
  {
   "cell_type": "markdown",
   "source": [
    "We can compare the baseline and default CPP feature set using a bar chart:"
   ],
   "metadata": {
    "collapsed": false
   }
  },
  {
   "cell_type": "code",
   "execution_count": null,
   "outputs": [],
   "source": [
    "# Comparison of baseline and default CPP feature sets\n",
    "aa.plot_settings()\n",
    "sns.barplot(pd.DataFrame({\"Baseline\": cv_base, \"CPP\": cv}), palette=[\"tab:blue\", \"tab:red\"])\n",
    "plt.ylabel(\"Mean accuracy\", size=aa.plot_gcfs()+1)\n",
    "plt.ylim(0, 1)\n",
    "plt.title(\"Comparison of Feature Engineering\", size=aa.plot_gcfs()-1)\n",
    "sns.despine()\n",
    "plt.show()"
   ],
   "metadata": {
    "collapsed": false,
    "is_executing": true
   }
  },
  {
   "cell_type": "markdown",
   "source": [
    "**CPP Analysis (group level)**\n",
    "\n",
    "AAanalysis offers various plotting functions for interpreting the CPP features at group and sample level by ``CPPPlot``. We first need to include the group-level feature importance using the ``TreeModel`` and its ``TreeModel.add_feat_importance`` method:"
   ],
   "metadata": {
    "collapsed": false
   }
  },
  {
   "cell_type": "code",
   "execution_count": null,
   "outputs": [],
   "source": [
    "tm = aa.TreeModel()\n",
    "tm.fit(X, labels=labels, use_rfe=False)\n",
    "df_feat = tm.add_feat_importance(df_feat=df_feat, drop=True)"
   ],
   "metadata": {
    "collapsed": false,
    "is_executing": true
   }
  },
  {
   "cell_type": "markdown",
   "source": [
    "The top15 features can be displayed using the ``CPPPlot.ranking`` method. The features are shown (left) as a combination of the scale subcategory and their position derived from the part-split combination. The difference of feature values between the test and reference set of protein (here γ-secretase substrates and non-substrates) is shown in the middle. The right subplots displays the feature importance used for ranking:\n"
   ],
   "metadata": {
    "collapsed": false
   }
  },
  {
   "cell_type": "code",
   "execution_count": null,
   "outputs": [],
   "source": [
    "# Plot CPP ranking\n",
    "cpp_plot = aa.CPPPlot()\n",
    "aa.plot_settings(short_ticks=True, weight_bold=False)\n",
    "cpp_plot.ranking(df_feat=df_feat)\n",
    "plt.show()"
   ],
   "metadata": {
    "collapsed": false,
    "is_executing": true
   }
  },
  {
   "cell_type": "markdown",
   "source": [
    "The distributions of features values for the highest-ranked feature can be displayed using the ``CPPPlot.feature`` method:"
   ],
   "metadata": {
    "collapsed": false
   }
  },
  {
   "cell_type": "code",
   "execution_count": null,
   "outputs": [],
   "source": [
    "top_feature = df_feat[\"feature\"][0]\n",
    "top_subcategory = df_feat[\"subcategory\"][0]\n",
    "aa.plot_settings()\n",
    "cpp_plot.feature(feature=top_feature , df_seq=df_seq, labels=labels)\n",
    "plt.title(f\"{top_feature} ({top_subcategory})\")\n",
    "plt.show()\n"
   ],
   "metadata": {
    "collapsed": false,
    "is_executing": true
   }
  },
  {
   "cell_type": "markdown",
   "source": [
    "The cumulative feature importance per residue position can be visualized by the ``CPPPlot.profile`` method:"
   ],
   "metadata": {
    "collapsed": false
   }
  },
  {
   "cell_type": "code",
   "execution_count": null,
   "outputs": [],
   "source": [
    "# Plot CPP profile\n",
    "aa.plot_settings(font_scale=0.9)\n",
    "cpp_plot.profile(df_feat=df_feat)\n",
    "plt.show()"
   ],
   "metadata": {
    "collapsed": false,
    "is_executing": true
   }
  },
  {
   "cell_type": "markdown",
   "source": [
    " To uncover the common physicochemical signature discriminating the test from the reference protein set, use the ``CPPPlot.feature_map`` method showing the feature value differences per scale subcategory at single-residue resolution:"
   ],
   "metadata": {
    "collapsed": false
   }
  },
  {
   "cell_type": "code",
   "execution_count": null,
   "outputs": [],
   "source": [
    "# Plot CPP feature map\n",
    "cpp_plot = aa.CPPPlot()\n",
    "aa.plot_settings(font_scale=0.65, weight_bold=False)\n",
    "cpp_plot.feature_map(df_feat=df_feat)\n",
    "plt.show()"
   ],
   "metadata": {
    "collapsed": false,
    "is_executing": true
   }
  },
  {
   "cell_type": "markdown",
   "source": [
    "**CPP-SHAP Analysis (sample level)**\n",
    "\n",
    "We can analyse the impact of features on the prediction score for individual sequence using the ``ShapExplainer`` model, which combines ``CPP`` with the explainable AI framework [SHAP](https://shap.readthedocs.io/en/latest/index.html)."
   ],
   "metadata": {
    "collapsed": false
   }
  },
  {
   "cell_type": "code",
   "execution_count": null,
   "outputs": [],
   "source": [
    "se = aa.ShapExplainer()\n",
    "se.fit(X, labels=labels)\n",
    "df_feat = se.add_feat_impact(df_feat=df_feat, drop=True)\n",
    "df_feat = se.add_sample_mean_dif(X, labels=labels, df_feat=df_feat, drop=True)"
   ],
   "metadata": {
    "collapsed": false,
    "is_executing": true
   }
  },
  {
   "cell_type": "markdown",
   "source": [
    "We can now show the feature ranking for a selected protein ('Protein0') using the ``CPPPlot.ranking`` method, plotting SHAP analysis results by setting ``shap_plot=True``:"
   ],
   "metadata": {
    "collapsed": false
   }
  },
  {
   "cell_type": "code",
   "execution_count": null,
   "outputs": [],
   "source": [
    "aa.plot_settings(short_ticks=True, weight_bold=False)\n",
    "cpp_plot.ranking(df_feat=df_feat, shap_plot=True, col_dif=\"mean_dif_Protein0\", col_imp=\"feat_impact_Protein0\")\n",
    "plt.show()"
   ],
   "metadata": {
    "collapsed": false,
    "is_executing": true
   }
  },
  {
   "cell_type": "markdown",
   "source": [
    "To visualize the CPP-SHAP profile and heatmap, we need to obtain the sequence parts of the respective protein:"
   ],
   "metadata": {
    "collapsed": false
   }
  },
  {
   "cell_type": "code",
   "execution_count": null,
   "outputs": [],
   "source": [
    "# Get sequences parts for APP\n",
    "_df_parts = sf.get_df_parts(df_seq=df_seq, list_parts=[\"tmd\", \"jmd_c\", \"jmd_n\"])\n",
    "_args_seq = _df_parts.loc[\"P05067\"].to_dict()\n",
    "args_seq = {key + \"_seq\": _args_seq[key] for key in _args_seq}"
   ],
   "metadata": {
    "collapsed": false,
    "is_executing": true
   }
  },
  {
   "cell_type": "markdown",
   "source": [
    "We can now show the specific **CPP-SHAP Profile** for the first Protein using the ``CPPPlot.profile`` method with setting ``shap_plot=True``:"
   ],
   "metadata": {
    "collapsed": false
   }
  },
  {
   "cell_type": "code",
   "execution_count": null,
   "outputs": [],
   "source": [
    "# Show CPP-SHAP profile\n",
    "aa.plot_settings(font_scale=0.9)\n",
    "cpp_plot.profile(df_feat=df_feat, shap_plot=True, col_imp=\"feat_impact_Protein0\", **args_seq)\n",
    "plt.show()"
   ],
   "metadata": {
    "collapsed": false,
    "is_executing": true
   }
  },
  {
   "cell_type": "markdown",
   "source": [
    "With the ``CPPPlot.heatmap`` we can visualize the sample-specific feature value difference and the feature impact per scale subcategory and residue position:   "
   ],
   "metadata": {
    "collapsed": false
   }
  },
  {
   "cell_type": "code",
   "execution_count": null,
   "outputs": [],
   "source": [
    "# Show CPP heatmap (sample level)\n",
    "aa.plot_settings(font_scale=0.65, weight_bold=False)\n",
    "cpp_plot.heatmap(df_feat=df_feat, shap_plot=True, col_val=\"mean_dif_Protein0\", **args_seq)\n",
    "plt.show()\n",
    "\n",
    "# Show CPP heatmap (sample level)\n",
    "cpp_plot.heatmap(df_feat=df_feat, shap_plot=True, col_val=\"feat_impact_Protein0\", **args_seq)\n",
    "plt.show()"
   ],
   "metadata": {
    "collapsed": false,
    "is_executing": true
   }
  },
  {
   "cell_type": "markdown",
   "source": [
    "See our [Feature Engineering API](https://aaanalysis.readthedocs.io/en/latest/api.html#feature-engineering) for a comprehensive documentation on the ``CPP``, ``CPPPlot``, ``AAclust``, and ``SequenceFeature`` classes."
   ],
   "metadata": {
    "collapsed": false
   }
  }
 ],
 "metadata": {
  "kernelspec": {
   "display_name": "Python 3 (ipykernel)",
   "language": "python",
   "name": "python3"
  },
  "language_info": {
   "codemirror_mode": {
    "name": "ipython",
    "version": 3
   },
   "file_extension": ".py",
   "mimetype": "text/x-python",
   "name": "python",
   "nbconvert_exporter": "python",
   "pygments_lexer": "ipython3",
   "version": "3.9.5"
  }
 },
 "nbformat": 4,
 "nbformat_minor": 1
}
