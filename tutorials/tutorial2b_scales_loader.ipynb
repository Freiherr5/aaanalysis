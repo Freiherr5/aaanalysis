{
 "cells": [
  {
   "cell_type": "markdown",
   "source": [
    "# Scale Loading Tutorial\n",
    "This is a tutorial on the `load_scales` function for loading of amino acid scales sets, their classification (AAontology), or evaluation (AAclust top60).\n",
    "\n",
    "Six different datasets can be loading in total by using the ``name`` parameter: ``scales``, ``scales_raw``, ``scales_pc``, ``scales_cat``, ``top60``,\n",
    "and ``top60_eval``.\n",
    "\n",
    "## Three sets of numerical amino acid scales\n",
    "- ``scales_raw``: Original amino acid scales sourced from AAindex and two other datasets.\n",
    "- ``scales``: Min-max normalized version of the raw scales.\n",
    "- ``scales_pc``: Scales compressed using principal component analysis (PCA).\n",
    "\n",
    "Amino acid scales are indicated by a unique id (columns) and assign a numerical value to each canonical amino acid:"
   ],
   "metadata": {
    "collapsed": false
   },
   "id": "ea2ae9e423712ed1"
  },
  {
   "cell_type": "code",
   "execution_count": 11,
   "outputs": [
    {
     "data": {
      "text/plain": "    ANDN920101  ARGP820101  ARGP820102  ARGP820103\nAA                                                \nA        0.494       0.230       0.355       0.504\nC        0.864       0.404       0.579       0.387\nD        1.000       0.174       0.000       0.000\nE        0.420       0.177       0.019       0.032\nF        0.877       0.762       0.601       0.670",
      "text/html": "<div>\n<style scoped>\n    .dataframe tbody tr th:only-of-type {\n        vertical-align: middle;\n    }\n\n    .dataframe tbody tr th {\n        vertical-align: top;\n    }\n\n    .dataframe thead th {\n        text-align: right;\n    }\n</style>\n<table border=\"1\" class=\"dataframe\">\n  <thead>\n    <tr style=\"text-align: right;\">\n      <th></th>\n      <th>ANDN920101</th>\n      <th>ARGP820101</th>\n      <th>ARGP820102</th>\n      <th>ARGP820103</th>\n    </tr>\n    <tr>\n      <th>AA</th>\n      <th></th>\n      <th></th>\n      <th></th>\n      <th></th>\n    </tr>\n  </thead>\n  <tbody>\n    <tr>\n      <th>A</th>\n      <td>0.494</td>\n      <td>0.230</td>\n      <td>0.355</td>\n      <td>0.504</td>\n    </tr>\n    <tr>\n      <th>C</th>\n      <td>0.864</td>\n      <td>0.404</td>\n      <td>0.579</td>\n      <td>0.387</td>\n    </tr>\n    <tr>\n      <th>D</th>\n      <td>1.000</td>\n      <td>0.174</td>\n      <td>0.000</td>\n      <td>0.000</td>\n    </tr>\n    <tr>\n      <th>E</th>\n      <td>0.420</td>\n      <td>0.177</td>\n      <td>0.019</td>\n      <td>0.032</td>\n    </tr>\n    <tr>\n      <th>F</th>\n      <td>0.877</td>\n      <td>0.762</td>\n      <td>0.601</td>\n      <td>0.670</td>\n    </tr>\n  </tbody>\n</table>\n</div>"
     },
     "execution_count": 11,
     "metadata": {},
     "output_type": "execute_result"
    }
   ],
   "source": [
    "import aaanalysis as aa\n",
    "df_scales = aa.load_scales()\n",
    "df_raw = aa.load_scales(name=\"scales_raw\")\n",
    "df_pc = aa.load_scales(name=\"scales_pc\")\n",
    "df_scales.iloc[:5, :4]"
   ],
   "metadata": {
    "collapsed": false,
    "ExecuteTime": {
     "end_time": "2023-10-03T10:05:14.670068885Z",
     "start_time": "2023-10-03T10:05:14.620295098Z"
    }
   },
   "id": "e41b41ade2d5a346"
  },
  {
   "cell_type": "markdown",
   "source": [
    "## AAontology\n",
    "- ``scales_cat`` provides a two-level classification for all ``scales``, termed AAontology.\n",
    " \n",
    "The entries in the ``scale_id`` column align with the column names of ``df_scales`` and ``df_raw`. Additional columns detail further information from AAontology, such as scale category or description."
   ],
   "metadata": {
    "collapsed": false
   },
   "id": "dc2384acb3f28446"
  },
  {
   "cell_type": "code",
   "execution_count": 12,
   "outputs": [
    {
     "data": {
      "text/plain": "     scale_id    category                    subcategory              scale_name                                  scale_description\n0  LINS030110  ASA/Volume  Accessible surface area (ASA)  ASA (folded coil/turn)  Total median accessible surfaces of whole resi...\n1  LINS030113  ASA/Volume  Accessible surface area (ASA)  ASA (folded coil/turn)  % total accessible surfaces of whole residues ...\n2  JANJ780101  ASA/Volume  Accessible surface area (ASA)    ASA (folded protein)  Average accessible surface area (Janin et al.,...\n3  JANJ780103  ASA/Volume  Accessible surface area (ASA)    ASA (folded protein)  Percentage of exposed residues (Janin et al., ...\n4  LINS030104  ASA/Volume  Accessible surface area (ASA)    ASA (folded protein)  Total median accessible surfaces of whole resi...",
      "text/html": "<div>\n<style scoped>\n    .dataframe tbody tr th:only-of-type {\n        vertical-align: middle;\n    }\n\n    .dataframe tbody tr th {\n        vertical-align: top;\n    }\n\n    .dataframe thead th {\n        text-align: right;\n    }\n</style>\n<table border=\"1\" class=\"dataframe\">\n  <thead>\n    <tr style=\"text-align: right;\">\n      <th></th>\n      <th>scale_id</th>\n      <th>category</th>\n      <th>subcategory</th>\n      <th>scale_name</th>\n      <th>scale_description</th>\n    </tr>\n  </thead>\n  <tbody>\n    <tr>\n      <th>0</th>\n      <td>LINS030110</td>\n      <td>ASA/Volume</td>\n      <td>Accessible surface area (ASA)</td>\n      <td>ASA (folded coil/turn)</td>\n      <td>Total median accessible surfaces of whole resi...</td>\n    </tr>\n    <tr>\n      <th>1</th>\n      <td>LINS030113</td>\n      <td>ASA/Volume</td>\n      <td>Accessible surface area (ASA)</td>\n      <td>ASA (folded coil/turn)</td>\n      <td>% total accessible surfaces of whole residues ...</td>\n    </tr>\n    <tr>\n      <th>2</th>\n      <td>JANJ780101</td>\n      <td>ASA/Volume</td>\n      <td>Accessible surface area (ASA)</td>\n      <td>ASA (folded protein)</td>\n      <td>Average accessible surface area (Janin et al.,...</td>\n    </tr>\n    <tr>\n      <th>3</th>\n      <td>JANJ780103</td>\n      <td>ASA/Volume</td>\n      <td>Accessible surface area (ASA)</td>\n      <td>ASA (folded protein)</td>\n      <td>Percentage of exposed residues (Janin et al., ...</td>\n    </tr>\n    <tr>\n      <th>4</th>\n      <td>LINS030104</td>\n      <td>ASA/Volume</td>\n      <td>Accessible surface area (ASA)</td>\n      <td>ASA (folded protein)</td>\n      <td>Total median accessible surfaces of whole resi...</td>\n    </tr>\n  </tbody>\n</table>\n</div>"
     },
     "execution_count": 12,
     "metadata": {},
     "output_type": "execute_result"
    }
   ],
   "source": [
    "df_cat = aa.load_scales(name=\"scales_cat\")\n",
    "df_cat.head(5)"
   ],
   "metadata": {
    "collapsed": false,
    "ExecuteTime": {
     "end_time": "2023-10-03T10:05:18.069783626Z",
     "start_time": "2023-10-03T10:05:18.015331783Z"
    }
   },
   "id": "c68ef6ad1389b2e0"
  },
  {
   "cell_type": "markdown",
   "source": [
    "## Redundancy-reduce scale subsets \n",
    "The remaining two datasets stem from an in-depth analysis of redundancy-reduced subsets of ``scales`` using AAclust. \n",
    "\n",
    "- ``top60`` comprises the 60 best performing scale sets, benchmarked on our protein datasets available by the ``aa.load_dataset`` function.\n",
    "\n",
    "These have a unique AAclust id (``top60_id`` index, 'ACC' for AAclust) and the presence (1) or absence (0) of scales is indicated. "
   ],
   "metadata": {
    "collapsed": false
   },
   "id": "c7e225a7faacfc64"
  },
  {
   "cell_type": "code",
   "execution_count": 13,
   "outputs": [
    {
     "data": {
      "text/plain": "          ANDN920101  ARGP820101  ARGP820102  ARGP820103\ntop60_id                                                \nAAC01              0           0           0           1\nAAC02              1           0           0           1\nAAC03              1           0           0           1\nAAC04              1           0           0           1\nAAC05              1           0           0           1",
      "text/html": "<div>\n<style scoped>\n    .dataframe tbody tr th:only-of-type {\n        vertical-align: middle;\n    }\n\n    .dataframe tbody tr th {\n        vertical-align: top;\n    }\n\n    .dataframe thead th {\n        text-align: right;\n    }\n</style>\n<table border=\"1\" class=\"dataframe\">\n  <thead>\n    <tr style=\"text-align: right;\">\n      <th></th>\n      <th>ANDN920101</th>\n      <th>ARGP820101</th>\n      <th>ARGP820102</th>\n      <th>ARGP820103</th>\n    </tr>\n    <tr>\n      <th>top60_id</th>\n      <th></th>\n      <th></th>\n      <th></th>\n      <th></th>\n    </tr>\n  </thead>\n  <tbody>\n    <tr>\n      <th>AAC01</th>\n      <td>0</td>\n      <td>0</td>\n      <td>0</td>\n      <td>1</td>\n    </tr>\n    <tr>\n      <th>AAC02</th>\n      <td>1</td>\n      <td>0</td>\n      <td>0</td>\n      <td>1</td>\n    </tr>\n    <tr>\n      <th>AAC03</th>\n      <td>1</td>\n      <td>0</td>\n      <td>0</td>\n      <td>1</td>\n    </tr>\n    <tr>\n      <th>AAC04</th>\n      <td>1</td>\n      <td>0</td>\n      <td>0</td>\n      <td>1</td>\n    </tr>\n    <tr>\n      <th>AAC05</th>\n      <td>1</td>\n      <td>0</td>\n      <td>0</td>\n      <td>1</td>\n    </tr>\n  </tbody>\n</table>\n</div>"
     },
     "execution_count": 13,
     "metadata": {},
     "output_type": "execute_result"
    }
   ],
   "source": [
    "df_top60 = aa.load_scales(name=\"top60\")\n",
    "df_top60.sum(axis=1)    # Shows number of scales in each subset\n",
    "df_top60.iloc[:5, :4]"
   ],
   "metadata": {
    "collapsed": false,
    "ExecuteTime": {
     "end_time": "2023-10-03T10:05:20.634718936Z",
     "start_time": "2023-10-03T10:05:20.580534125Z"
    }
   },
   "id": "3d5e218ed73d8153"
  },
  {
   "cell_type": "markdown",
   "source": [
    "- ``top60_eval`` shows the average accuracy for each protein scale subset given by their ids (index) across all tested protein benchmarks (columns):  "
   ],
   "metadata": {
    "collapsed": false
   },
   "id": "f934753a0e12836e"
  },
  {
   "cell_type": "code",
   "execution_count": 14,
   "outputs": [
    {
     "data": {
      "text/plain": "          SEQ_AMYLO  SEQ_CAPSID  SEQ_DISULFIDE  SEQ_LOCATION\ntop60_id                                                    \nAAC01         0.761       0.827          0.732         0.746\nAAC02         0.747       0.830          0.733         0.742\nAAC03         0.741       0.829          0.734         0.746\nAAC04         0.747       0.828          0.731         0.747\nAAC05         0.739       0.830          0.735         0.752",
      "text/html": "<div>\n<style scoped>\n    .dataframe tbody tr th:only-of-type {\n        vertical-align: middle;\n    }\n\n    .dataframe tbody tr th {\n        vertical-align: top;\n    }\n\n    .dataframe thead th {\n        text-align: right;\n    }\n</style>\n<table border=\"1\" class=\"dataframe\">\n  <thead>\n    <tr style=\"text-align: right;\">\n      <th></th>\n      <th>SEQ_AMYLO</th>\n      <th>SEQ_CAPSID</th>\n      <th>SEQ_DISULFIDE</th>\n      <th>SEQ_LOCATION</th>\n    </tr>\n    <tr>\n      <th>top60_id</th>\n      <th></th>\n      <th></th>\n      <th></th>\n      <th></th>\n    </tr>\n  </thead>\n  <tbody>\n    <tr>\n      <th>AAC01</th>\n      <td>0.761</td>\n      <td>0.827</td>\n      <td>0.732</td>\n      <td>0.746</td>\n    </tr>\n    <tr>\n      <th>AAC02</th>\n      <td>0.747</td>\n      <td>0.830</td>\n      <td>0.733</td>\n      <td>0.742</td>\n    </tr>\n    <tr>\n      <th>AAC03</th>\n      <td>0.741</td>\n      <td>0.829</td>\n      <td>0.734</td>\n      <td>0.746</td>\n    </tr>\n    <tr>\n      <th>AAC04</th>\n      <td>0.747</td>\n      <td>0.828</td>\n      <td>0.731</td>\n      <td>0.747</td>\n    </tr>\n    <tr>\n      <th>AAC05</th>\n      <td>0.739</td>\n      <td>0.830</td>\n      <td>0.735</td>\n      <td>0.752</td>\n    </tr>\n  </tbody>\n</table>\n</div>"
     },
     "execution_count": 14,
     "metadata": {},
     "output_type": "execute_result"
    }
   ],
   "source": [
    "df_eval = aa.load_scales(name=\"top60_eval\")\n",
    "df_eval.mean(axis=1)  # Shows the overall average performance used for ranking\n",
    "df_eval.iloc[:5, :4]"
   ],
   "metadata": {
    "collapsed": false,
    "ExecuteTime": {
     "end_time": "2023-10-03T10:05:23.007060711Z",
     "start_time": "2023-10-03T10:05:22.964919496Z"
    }
   },
   "id": "c10072d1fd8e1851"
  },
  {
   "cell_type": "markdown",
   "source": [
    "Use the ``top60_n`` parameters to select the n-th best scale set, either as ``scales``, ``scales_raw``, or ``scales_cat``"
   ],
   "metadata": {
    "collapsed": false
   },
   "id": "2b9ef401fd4e65af"
  },
  {
   "cell_type": "code",
   "execution_count": 15,
   "outputs": [],
   "source": [
    "df_cat_1 = aa.load_scales(name=\"scales_cat\", top60_n=1)\n",
    "df_raw_1 = aa.load_scales(name=\"scales_raw\", top60_n=1)\n",
    "df_scales_1 = aa.load_scales(top60_n=1)\n",
    "# Which is the same as \n",
    "df_top60 = aa.load_scales(name=\"top60\")\n",
    "selected_scales = df_top60.columns[df_top60.loc[\"AAC01\"] == 1].tolist()\n",
    "df_aac1 = df_scales[selected_scales] "
   ],
   "metadata": {
    "collapsed": false,
    "ExecuteTime": {
     "end_time": "2023-10-03T10:05:27.414489354Z",
     "start_time": "2023-10-03T10:05:27.393922591Z"
    }
   },
   "id": "2b2d3f4c9fd9d4a9"
  },
  {
   "cell_type": "markdown",
   "source": [
    "## Filtering of scales\n",
    "Two parameters are provided to filter ``df_scales``, ``df_cat``, and ``df_raw``. You can exclude scales from the other two data sources (i.e., scales not contained in AAindex) setting ``just_aaindex=True``, which is disabled by default. AAontology comprises scales that were not subordinated to any subcategory ('unclassified' scales), which can be excluded by setting ``unclassified_out=True``:  "
   ],
   "metadata": {
    "collapsed": false
   },
   "id": "bee5dbc0a786bae2"
  },
  {
   "cell_type": "code",
   "execution_count": 9,
   "outputs": [],
   "source": [
    "df_scales = aa.load_scales(just_aaindex=True, unclassified_out=True)\n",
    "df_raw = aa.load_scales(name=\"scales_raw\")\n",
    "df_cat = aa.load_scales(name=\"scales_cat\", just_aaindex=True, unclassified_out=True)"
   ],
   "metadata": {
    "collapsed": false,
    "ExecuteTime": {
     "end_time": "2023-10-03T10:04:09.496342266Z",
     "start_time": "2023-10-03T10:04:09.433593939Z"
    }
   },
   "id": "f58ecd2af8a7ef39"
  },
  {
   "cell_type": "code",
   "execution_count": null,
   "outputs": [],
   "source": [],
   "metadata": {
    "collapsed": false
   },
   "id": "e0656aef1143eb11"
  }
 ],
 "metadata": {
  "kernelspec": {
   "display_name": "Python 3",
   "language": "python",
   "name": "python3"
  },
  "language_info": {
   "codemirror_mode": {
    "name": "ipython",
    "version": 2
   },
   "file_extension": ".py",
   "mimetype": "text/x-python",
   "name": "python",
   "nbconvert_exporter": "python",
   "pygments_lexer": "ipython2",
   "version": "2.7.6"
  }
 },
 "nbformat": 4,
 "nbformat_minor": 5
}
