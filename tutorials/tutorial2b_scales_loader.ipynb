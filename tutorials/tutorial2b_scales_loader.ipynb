{
 "cells": [
  {
   "cell_type": "markdown",
   "source": [
    "# Scale set loading\n",
    "This is a tutorial on loading of amino acid scales sets, their classification (AAontology), or evaluation (AAclust top60)."
   ],
   "metadata": {
    "collapsed": false
   },
   "id": "ea2ae9e423712ed1"
  }
 ],
 "metadata": {
  "kernelspec": {
   "display_name": "Python 3",
   "language": "python",
   "name": "python3"
  },
  "language_info": {
   "codemirror_mode": {
    "name": "ipython",
    "version": 2
   },
   "file_extension": ".py",
   "mimetype": "text/x-python",
   "name": "python",
   "nbconvert_exporter": "python",
   "pygments_lexer": "ipython2",
   "version": "2.7.6"
  }
 },
 "nbformat": 4,
 "nbformat_minor": 5
}
